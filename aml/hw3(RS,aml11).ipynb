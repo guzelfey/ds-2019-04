{
 "cells": [
  {
   "cell_type": "code",
   "execution_count": 9,
   "metadata": {},
   "outputs": [],
   "source": [
    "from surprise import KNNWithMeans, KNNBasic, KNNWithZScore, SVD, KNNBaseline, SVDpp, NormalPredictor, NMF, BaselineOnly, CoClustering\n",
    "from surprise import Dataset\n",
    "from surprise import accuracy\n",
    "from surprise import Reader\n",
    "from surprise.model_selection.validation import cross_validate\n",
    "from surprise.model_selection import train_test_split\n",
    "from surprise.model_selection import KFold\n",
    "from surprise.prediction_algorithms.slope_one import SlopeOne\n",
    "import surprise"
   ]
  },
  {
   "cell_type": "code",
   "execution_count": 7,
   "metadata": {},
   "outputs": [],
   "source": [
    "import pandas as pd"
   ]
  },
  {
   "cell_type": "code",
   "execution_count": 3,
   "metadata": {},
   "outputs": [],
   "source": [
    "# Load the movielens-100k dataset\n",
    "data = Dataset.load_builtin('ml-100k')"
   ]
  },
  {
   "cell_type": "markdown",
   "metadata": {},
   "source": [
    "Посмотрим, как хорошо и как долго будут обучаться алгоритмы surprise. (на основе [статьи](https://towardsdatascience.com/building-and-testing-recommender-systems-with-surprise-step-by-step-d4ba702ef80b))"
   ]
  },
  {
   "cell_type": "code",
   "execution_count": 4,
   "metadata": {
    "scrolled": false
   },
   "outputs": [
    {
     "name": "stdout",
     "output_type": "stream",
     "text": [
      "Estimating biases using als...\n",
      "Computing the msd similarity matrix...\n",
      "Done computing similarity matrix.\n",
      "Estimating biases using als...\n",
      "Computing the msd similarity matrix...\n",
      "Done computing similarity matrix.\n",
      "Estimating biases using als...\n",
      "Computing the msd similarity matrix...\n",
      "Done computing similarity matrix.\n",
      "Estimating biases using als...\n",
      "Computing the msd similarity matrix...\n",
      "Done computing similarity matrix.\n",
      "Estimating biases using als...\n",
      "Computing the msd similarity matrix...\n",
      "Done computing similarity matrix.\n",
      "Computing the msd similarity matrix...\n",
      "Done computing similarity matrix.\n",
      "Computing the msd similarity matrix...\n",
      "Done computing similarity matrix.\n",
      "Computing the msd similarity matrix...\n",
      "Done computing similarity matrix.\n",
      "Computing the msd similarity matrix...\n",
      "Done computing similarity matrix.\n",
      "Computing the msd similarity matrix...\n",
      "Done computing similarity matrix.\n",
      "Computing the msd similarity matrix...\n",
      "Done computing similarity matrix.\n",
      "Computing the msd similarity matrix...\n",
      "Done computing similarity matrix.\n",
      "Computing the msd similarity matrix...\n",
      "Done computing similarity matrix.\n",
      "Computing the msd similarity matrix...\n",
      "Done computing similarity matrix.\n",
      "Computing the msd similarity matrix...\n",
      "Done computing similarity matrix.\n",
      "Computing the msd similarity matrix...\n",
      "Done computing similarity matrix.\n",
      "Computing the msd similarity matrix...\n",
      "Done computing similarity matrix.\n",
      "Computing the msd similarity matrix...\n",
      "Done computing similarity matrix.\n",
      "Computing the msd similarity matrix...\n",
      "Done computing similarity matrix.\n",
      "Computing the msd similarity matrix...\n",
      "Done computing similarity matrix.\n",
      "Estimating biases using als...\n",
      "Estimating biases using als...\n",
      "Estimating biases using als...\n",
      "Estimating biases using als...\n",
      "Estimating biases using als...\n"
     ]
    },
    {
     "data": {
      "text/html": [
       "<div>\n",
       "<style scoped>\n",
       "    .dataframe tbody tr th:only-of-type {\n",
       "        vertical-align: middle;\n",
       "    }\n",
       "\n",
       "    .dataframe tbody tr th {\n",
       "        vertical-align: top;\n",
       "    }\n",
       "\n",
       "    .dataframe thead th {\n",
       "        text-align: right;\n",
       "    }\n",
       "</style>\n",
       "<table border=\"1\" class=\"dataframe\">\n",
       "  <thead>\n",
       "    <tr style=\"text-align: right;\">\n",
       "      <th></th>\n",
       "      <th>test_rmse</th>\n",
       "      <th>fit_time</th>\n",
       "      <th>test_time</th>\n",
       "    </tr>\n",
       "    <tr>\n",
       "      <th>Algorithm</th>\n",
       "      <th></th>\n",
       "      <th></th>\n",
       "      <th></th>\n",
       "    </tr>\n",
       "  </thead>\n",
       "  <tbody>\n",
       "    <tr>\n",
       "      <th>SVDpp</th>\n",
       "      <td>0.920175</td>\n",
       "      <td>205.877092</td>\n",
       "      <td>4.256399</td>\n",
       "    </tr>\n",
       "    <tr>\n",
       "      <th>KNNBaseline</th>\n",
       "      <td>0.929987</td>\n",
       "      <td>0.684560</td>\n",
       "      <td>4.866551</td>\n",
       "    </tr>\n",
       "    <tr>\n",
       "      <th>SVD</th>\n",
       "      <td>0.936211</td>\n",
       "      <td>4.932748</td>\n",
       "      <td>0.180084</td>\n",
       "    </tr>\n",
       "    <tr>\n",
       "      <th>BaselineOnly</th>\n",
       "      <td>0.943723</td>\n",
       "      <td>0.245435</td>\n",
       "      <td>0.193558</td>\n",
       "    </tr>\n",
       "    <tr>\n",
       "      <th>SlopeOne</th>\n",
       "      <td>0.944867</td>\n",
       "      <td>1.086065</td>\n",
       "      <td>3.901078</td>\n",
       "    </tr>\n",
       "    <tr>\n",
       "      <th>KNNWithZScore</th>\n",
       "      <td>0.950542</td>\n",
       "      <td>0.508929</td>\n",
       "      <td>3.836990</td>\n",
       "    </tr>\n",
       "    <tr>\n",
       "      <th>KNNWithMeans</th>\n",
       "      <td>0.951875</td>\n",
       "      <td>0.439536</td>\n",
       "      <td>3.715880</td>\n",
       "    </tr>\n",
       "    <tr>\n",
       "      <th>NMF</th>\n",
       "      <td>0.961467</td>\n",
       "      <td>6.917553</td>\n",
       "      <td>0.272968</td>\n",
       "    </tr>\n",
       "    <tr>\n",
       "      <th>CoClustering</th>\n",
       "      <td>0.971158</td>\n",
       "      <td>2.100536</td>\n",
       "      <td>0.210492</td>\n",
       "    </tr>\n",
       "    <tr>\n",
       "      <th>KNNBasic</th>\n",
       "      <td>0.978368</td>\n",
       "      <td>0.412457</td>\n",
       "      <td>3.672875</td>\n",
       "    </tr>\n",
       "    <tr>\n",
       "      <th>NormalPredictor</th>\n",
       "      <td>1.519816</td>\n",
       "      <td>0.153823</td>\n",
       "      <td>0.236790</td>\n",
       "    </tr>\n",
       "  </tbody>\n",
       "</table>\n",
       "</div>"
      ],
      "text/plain": [
       "                 test_rmse    fit_time  test_time\n",
       "Algorithm                                        \n",
       "SVDpp             0.920175  205.877092   4.256399\n",
       "KNNBaseline       0.929987    0.684560   4.866551\n",
       "SVD               0.936211    4.932748   0.180084\n",
       "BaselineOnly      0.943723    0.245435   0.193558\n",
       "SlopeOne          0.944867    1.086065   3.901078\n",
       "KNNWithZScore     0.950542    0.508929   3.836990\n",
       "KNNWithMeans      0.951875    0.439536   3.715880\n",
       "NMF               0.961467    6.917553   0.272968\n",
       "CoClustering      0.971158    2.100536   0.210492\n",
       "KNNBasic          0.978368    0.412457   3.672875\n",
       "NormalPredictor   1.519816    0.153823   0.236790"
      ]
     },
     "execution_count": 4,
     "metadata": {},
     "output_type": "execute_result"
    }
   ],
   "source": [
    "benchmark = []\n",
    "# Iterate over all algorithms\n",
    "for algorithm in [SVD(), SVDpp(), SlopeOne(), NMF(), NormalPredictor(), KNNBaseline(), KNNBasic(), \n",
    "                  KNNWithMeans(), KNNWithZScore(), BaselineOnly(), CoClustering()]:\n",
    "    # Perform cross validation\n",
    "    results = cross_validate(algorithm, data, measures=['RMSE'], cv=5, verbose=False)\n",
    "    \n",
    "    # Get results & append algorithm name\n",
    "    tmp = pd.DataFrame.from_dict(results).mean(axis=0)\n",
    "    tmp = tmp.append(pd.Series([str(algorithm).split(' ')[0].split('.')[-1]], index=['Algorithm']))\n",
    "    benchmark.append(tmp)\n",
    "    \n",
    "pd.DataFrame(benchmark).set_index('Algorithm').sort_values('test_rmse')    "
   ]
  },
  {
   "cell_type": "markdown",
   "metadata": {},
   "source": [
    "Посмотрим, можно ли совместить алгоритмы. (на основе [статьи](https://www.kaggle.com/robottums/hybrid-recommender-systems-with-surprise/execution))"
   ]
  },
  {
   "cell_type": "code",
   "execution_count": 21,
   "metadata": {
    "scrolled": true
   },
   "outputs": [
    {
     "name": "stdout",
     "output_type": "stream",
     "text": [
      "['links.csv', '.DS_Store', 'tags.csv', 'ratings.csv', 'README.txt', 'movies.csv']\n"
     ]
    }
   ],
   "source": [
    "import surprise\n",
    "from surprise import PredictionImpossible\n",
    "import numpy as np # linear algebra\n",
    "import pandas as pd # data processing, CSV file I/O (e.g. pd.read_csv)\n",
    "from sklearn.model_selection import train_test_split\n",
    "import os\n",
    "print(os.listdir(\"../data_small\"))"
   ]
  },
  {
   "cell_type": "code",
   "execution_count": 3,
   "metadata": {
    "scrolled": true
   },
   "outputs": [
    {
     "name": "stdout",
     "output_type": "stream",
     "text": [
      "we have 100836 ratings\n",
      "the number of unique users we have is: 610\n",
      "the number of unique movies we have is: 9724\n",
      "The median user rated 70 movies.\n",
      "The max rating is: 5 the min rating is: 0\n"
     ]
    },
    {
     "data": {
      "text/html": [
       "<div>\n",
       "<style scoped>\n",
       "    .dataframe tbody tr th:only-of-type {\n",
       "        vertical-align: middle;\n",
       "    }\n",
       "\n",
       "    .dataframe tbody tr th {\n",
       "        vertical-align: top;\n",
       "    }\n",
       "\n",
       "    .dataframe thead th {\n",
       "        text-align: right;\n",
       "    }\n",
       "</style>\n",
       "<table border=\"1\" class=\"dataframe\">\n",
       "  <thead>\n",
       "    <tr style=\"text-align: right;\">\n",
       "      <th></th>\n",
       "      <th>userId</th>\n",
       "      <th>movieId</th>\n",
       "      <th>rating</th>\n",
       "      <th>timestamp</th>\n",
       "    </tr>\n",
       "  </thead>\n",
       "  <tbody>\n",
       "    <tr>\n",
       "      <th>0</th>\n",
       "      <td>1</td>\n",
       "      <td>1</td>\n",
       "      <td>4.0</td>\n",
       "      <td>964982703</td>\n",
       "    </tr>\n",
       "    <tr>\n",
       "      <th>1</th>\n",
       "      <td>1</td>\n",
       "      <td>3</td>\n",
       "      <td>4.0</td>\n",
       "      <td>964981247</td>\n",
       "    </tr>\n",
       "    <tr>\n",
       "      <th>2</th>\n",
       "      <td>1</td>\n",
       "      <td>6</td>\n",
       "      <td>4.0</td>\n",
       "      <td>964982224</td>\n",
       "    </tr>\n",
       "    <tr>\n",
       "      <th>3</th>\n",
       "      <td>1</td>\n",
       "      <td>47</td>\n",
       "      <td>5.0</td>\n",
       "      <td>964983815</td>\n",
       "    </tr>\n",
       "    <tr>\n",
       "      <th>4</th>\n",
       "      <td>1</td>\n",
       "      <td>50</td>\n",
       "      <td>5.0</td>\n",
       "      <td>964982931</td>\n",
       "    </tr>\n",
       "  </tbody>\n",
       "</table>\n",
       "</div>"
      ],
      "text/plain": [
       "   userId  movieId  rating  timestamp\n",
       "0       1        1     4.0  964982703\n",
       "1       1        3     4.0  964981247\n",
       "2       1        6     4.0  964982224\n",
       "3       1       47     5.0  964983815\n",
       "4       1       50     5.0  964982931"
      ]
     },
     "execution_count": 3,
     "metadata": {},
     "output_type": "execute_result"
    }
   ],
   "source": [
    "raw=pd.read_csv('../data_small/ratings.csv')\n",
    "raw.drop_duplicates(inplace=True)\n",
    "print('we have',raw.shape[0], 'ratings')\n",
    "print('the number of unique users we have is:', len(raw.userId.unique()))\n",
    "print('the number of unique movies we have is:', len(raw.movieId.unique()))\n",
    "print(\"The median user rated %d movies.\"%raw.userId.value_counts().median())\n",
    "print('The max rating is: %d'%raw.rating.max(),\"the min rating is: %d\"%raw.rating.min())\n",
    "raw.head()"
   ]
  },
  {
   "cell_type": "code",
   "execution_count": 4,
   "metadata": {},
   "outputs": [],
   "source": [
    "raw=raw[['userId','movieId','rating']] \n",
    "raw.columns = ['n_users','n_items','rating']\n",
    "\n",
    "rawTrain,rawholdout = train_test_split(raw, test_size=0.25 )\n",
    "# when importing from a DF, you only need to specify the scale of the ratings.\n",
    "reader = surprise.Reader(rating_scale=(0,5)) \n",
    "#into surprise:\n",
    "data = surprise.Dataset.load_from_df(rawTrain,reader)\n",
    "holdout = surprise.Dataset.load_from_df(rawholdout,reader)"
   ]
  },
  {
   "cell_type": "code",
   "execution_count": 5,
   "metadata": {},
   "outputs": [],
   "source": [
    "kSplit = surprise.model_selection.split.KFold(n_splits=10, shuffle=True) # split data into folds. \n",
    "sim_options = sim_options = {'name': 'cosine',\n",
    "                             'user_based': False  # compute  similarities between items\n",
    "                            }"
   ]
  },
  {
   "cell_type": "code",
   "execution_count": 6,
   "metadata": {},
   "outputs": [
    {
     "name": "stdout",
     "output_type": "stream",
     "text": [
      "Computing the cosine similarity matrix...\n",
      "Done computing similarity matrix.\n",
      "RMSE: 0.9792\n",
      "Computing the cosine similarity matrix...\n",
      "Done computing similarity matrix.\n",
      "RMSE: 0.9821\n",
      "Computing the cosine similarity matrix...\n",
      "Done computing similarity matrix.\n",
      "RMSE: 0.9767\n",
      "Computing the cosine similarity matrix...\n",
      "Done computing similarity matrix.\n",
      "RMSE: 0.9735\n",
      "Computing the cosine similarity matrix...\n",
      "Done computing similarity matrix.\n",
      "RMSE: 0.9811\n",
      "Computing the cosine similarity matrix...\n",
      "Done computing similarity matrix.\n",
      "RMSE: 0.9817\n",
      "Computing the cosine similarity matrix...\n",
      "Done computing similarity matrix.\n",
      "RMSE: 0.9584\n",
      "Computing the cosine similarity matrix...\n",
      "Done computing similarity matrix.\n",
      "RMSE: 0.9750\n",
      "Computing the cosine similarity matrix...\n",
      "Done computing similarity matrix.\n",
      "RMSE: 0.9748\n",
      "Computing the cosine similarity matrix...\n",
      "Done computing similarity matrix.\n",
      "RMSE: 0.9832\n"
     ]
    }
   ],
   "source": [
    "kSplit = surprise.model_selection.split.KFold(n_splits=10, shuffle=True) # split data into folds. \n",
    "sim_options = sim_options = {'name': 'cosine',\n",
    "                             'user_based': False  # compute  similarities between items\n",
    "                            }\n",
    "collabKNN = surprise.KNNBasic(k=40,sim_options=sim_options) #try removing sim_options. You'll find memory errors. \n",
    "rmseKNN = []\n",
    "rmseSVD = []\n",
    "rmseCo = []\n",
    "rmseSlope = []\n",
    "for trainset, testset in kSplit.split(data): #iterate through the folds.\n",
    "    collabKNN.fit(trainset)\n",
    "    predictionsKNN = collabKNN.test(testset)\n",
    "    rmseKNN.append(surprise.accuracy.rmse(predictionsKNN,verbose=True))#get root means squared error"
   ]
  },
  {
   "cell_type": "code",
   "execution_count": 7,
   "metadata": {},
   "outputs": [
    {
     "name": "stdout",
     "output_type": "stream",
     "text": [
      "RMSE: 0.8725\n",
      "RMSE: 0.8666\n",
      "RMSE: 0.8838\n",
      "RMSE: 0.8796\n",
      "RMSE: 0.8897\n",
      "RMSE: 0.8894\n",
      "RMSE: 0.8865\n",
      "RMSE: 0.8892\n",
      "RMSE: 0.8851\n",
      "RMSE: 0.8823\n"
     ]
    }
   ],
   "source": [
    "funkSVD = surprise.prediction_algorithms.matrix_factorization.SVD(n_factors=30,n_epochs=10,biased=True)\n",
    "min_error = 1\n",
    "for trainset, testset in kSplit.split(data): #iterate through the folds.\n",
    "    funkSVD.fit(trainset)\n",
    "    predictionsSVD = funkSVD.test(testset)\n",
    "    rmseSVD.append(surprise.accuracy.rmse(predictionsSVD,verbose=True))#get root means squared error"
   ]
  },
  {
   "cell_type": "code",
   "execution_count": 8,
   "metadata": {},
   "outputs": [
    {
     "name": "stdout",
     "output_type": "stream",
     "text": [
      "RMSE: 0.9775\n",
      "RMSE: 0.9733\n",
      "RMSE: 0.9569\n",
      "RMSE: 0.9568\n",
      "RMSE: 0.9588\n",
      "RMSE: 0.9553\n",
      "RMSE: 0.9533\n",
      "RMSE: 0.9523\n",
      "RMSE: 0.9332\n",
      "RMSE: 0.9554\n"
     ]
    }
   ],
   "source": [
    "coClus = surprise.prediction_algorithms.co_clustering.CoClustering(n_cltr_u=4,n_cltr_i=4,n_epochs=25) \n",
    "for trainset, testset in kSplit.split(data): #iterate through the folds.\n",
    "    coClus.fit(trainset)\n",
    "    predictionsCoClus = coClus.test(testset)\n",
    "    rmseCo.append(surprise.accuracy.rmse(predictionsCoClus,verbose=True))#get root means squared error"
   ]
  },
  {
   "cell_type": "code",
   "execution_count": 9,
   "metadata": {},
   "outputs": [
    {
     "name": "stdout",
     "output_type": "stream",
     "text": [
      "RMSE: 0.9103\n",
      "RMSE: 0.8989\n",
      "RMSE: 0.9264\n",
      "RMSE: 0.9060\n",
      "RMSE: 0.9003\n",
      "RMSE: 0.9236\n",
      "RMSE: 0.9181\n",
      "RMSE: 0.9105\n",
      "RMSE: 0.8969\n",
      "RMSE: 0.9176\n"
     ]
    }
   ],
   "source": [
    "slopeOne = surprise.prediction_algorithms.slope_one.SlopeOne()\n",
    "for trainset, testset in kSplit.split(data): #iterate through the folds.\n",
    "    slopeOne.fit(trainset)\n",
    "    predictionsSlope = slopeOne.test(testset)\n",
    "    rmseSlope.append(surprise.accuracy.rmse(predictionsSlope,verbose=True))#get root means squared error"
   ]
  },
  {
   "cell_type": "code",
   "execution_count": 25,
   "metadata": {},
   "outputs": [
    {
     "data": {
      "text/plain": [
       "<matplotlib.legend.Legend at 0x7f8e1922d6d0>"
      ]
     },
     "execution_count": 25,
     "metadata": {},
     "output_type": "execute_result"
    },
    {
     "data": {
      "image/png": "[encoded data removed]",
      "text/plain": [
       "<Figure size 432x288 with 1 Axes>"
      ]
     },
     "metadata": {
      "needs_background": "light"
     },
     "output_type": "display_data"
    }
   ],
   "source": [
    "#plotting the prediction data:\n",
    "import matplotlib.pyplot as plt\n",
    "\n",
    "plt.plot(rmseKNN,label='knn')\n",
    "plt.plot(rmseSVD,label='svd')\n",
    "plt.plot(rmseCo,label='cluster')\n",
    "plt.plot(rmseSlope,label='slope')\n",
    "\n",
    "modelPrediction = plt.xlabel('folds')\n",
    "modelPrediction = plt.ylabel('rmse')\n",
    "plt.legend(bbox_to_anchor=(1.05, 1), loc=2, borderaxespad=0.)"
   ]
  },
  {
   "cell_type": "code",
   "execution_count": 22,
   "metadata": {},
   "outputs": [],
   "source": [
    "class HybridFacto(surprise.AlgoBase):\n",
    "    def __init__(self,epochs, learning_rate, num_models):\n",
    "        surprise.AlgoBase.__init__(self)\n",
    "        self.alpha = np.array([1/num_models]*num_models)\n",
    "        self.epochs = epochs\n",
    "        self.learning_rate = np.array([learning_rate]*num_models)\n",
    "        self.thres = np.array([0.001]*num_models)\n",
    "    \n",
    "    def fit(self,holdout):\n",
    "        surprise.AlgoBase.fit(self, trainset)\n",
    "        holdout=holdout.build_full_trainset().build_testset()\n",
    "        for epoch in range(self.epochs):\n",
    "            predictions_ = [collabKNN.test(holdout),funkSVD.test(holdout),\n",
    "                            coClus.test(holdout),slopeOne.test(holdout)]\n",
    "            maeGradient = [surprise.accuracy.mae(item) for item in predictions_]\n",
    "            newalpha = self.alpha - self.learning_rate * maeGradient  \n",
    "            #convergence check:\n",
    "            if np.any((newalpha - self.alpha) < self.thres):\n",
    "                break\n",
    "            self.alpha = newalpha\n",
    "        return self\n",
    "            \n",
    "    def estimate(self,u,i):\n",
    "        if not (self.trainset.knows_user(u) and self.trainset.knows_item(i)):\n",
    "            raise PredictionImpossible('User and/or item is unkown.')\n",
    "        algoResults = np.array([np.array(collabKNN.predict(u,i).est),np.array(funkSVD.predict(u,i).est),\n",
    "                                np.array(coClus.predict(u,i).est),np.array(slopeOne.predict(u,i).est)])\n",
    "        return np.sum(np.dot(self.alpha,algoResults))"
   ]
  },
  {
   "cell_type": "code",
   "execution_count": 23,
   "metadata": {
    "scrolled": false
   },
   "outputs": [
    {
     "name": "stdout",
     "output_type": "stream",
     "text": [
      "MAE:  0.7560\n",
      "MAE:  0.6779\n",
      "MAE:  0.7443\n",
      "MAE:  0.6965\n",
      "RMSE: 1.1543\n",
      "RMSE: 1.1388\n",
      "RMSE: 1.1364\n",
      "RMSE: 1.1457\n",
      "RMSE: 1.1603\n",
      "RMSE: 1.1434\n",
      "RMSE: 1.1500\n",
      "RMSE: 1.1564\n",
      "RMSE: 1.1545\n",
      "RMSE: 1.1424\n"
     ]
    }
   ],
   "source": [
    "hybrid = HybridFacto(epochs=10,learning_rate=0.05,num_models=4)\n",
    "hybrid.fit(holdout)\n",
    "rmseHyb = []\n",
    "for trainset, testset in kSplit.split(data): #iterate through the folds.\n",
    "    predhybrid = hybrid.test(testset)\n",
    "    rmseHyb.append(surprise.accuracy.rmse(predhybrid))"
   ]
  },
  {
   "cell_type": "code",
   "execution_count": 26,
   "metadata": {},
   "outputs": [
    {
     "data": {
      "text/plain": [
       "<matplotlib.legend.Legend at 0x7f8e18a89f90>"
      ]
     },
     "execution_count": 26,
     "metadata": {},
     "output_type": "execute_result"
    },
    {
     "data": {
      "image/png": "[encoded data removed]",
      "text/plain": [
       "<Figure size 432x288 with 1 Axes>"
      ]
     },
     "metadata": {
      "needs_background": "light"
     },
     "output_type": "display_data"
    }
   ],
   "source": [
    "#plotting the prediction data:\n",
    "plt.plot(rmseKNN,label='knn')\n",
    "plt.plot(rmseSVD,label='svd')\n",
    "plt.plot(rmseCo,label='cluster')\n",
    "plt.plot(rmseSlope,label='slope')\n",
    "plt.plot(rmseHyb,label='Hybrid')\n",
    "\n",
    "modelPrediction = plt.xlabel('folds')\n",
    "modelPrediction = plt.ylabel('rmse')\n",
    "plt.legend(bbox_to_anchor=(1.05, 1), loc=2, borderaxespad=0.)"
   ]
  },
  {
   "cell_type": "markdown",
   "metadata": {},
   "source": [
    "Гибрид на 100k выборке неэффективен."
   ]
  }
 ],
 "metadata": {
  "kernelspec": {
   "display_name": "Python 3",
   "language": "python",
   "name": "python3"
  },
  "language_info": {
   "codemirror_mode": {
    "name": "ipython",
    "version": 3
   },
   "file_extension": ".py",
   "mimetype": "text/x-python",
   "name": "python",
   "nbconvert_exporter": "python",
   "pygments_lexer": "ipython3",
   "version": "3.7.10"
  }
 },
 "nbformat": 4,
 "nbformat_minor": 2
}
