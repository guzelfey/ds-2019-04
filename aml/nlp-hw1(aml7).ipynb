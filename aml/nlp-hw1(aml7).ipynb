{
 "cells": [
  {
   "cell_type": "code",
   "execution_count": 1,
   "metadata": {},
   "outputs": [],
   "source": [
    "import json\n",
    "import re\n",
    "import bz2\n",
    "import regex\n",
    "from tqdm import tqdm\n",
    "from scipy import sparse\n",
    "from collections import Counter\n",
    "from pymystem3 import Mystem\n",
    "from pymorphy2 import MorphAnalyzer\n",
    "from sklearn.feature_extraction.text import TfidfVectorizer, CountVectorizer"
   ]
  },
  {
   "cell_type": "code",
   "execution_count": 2,
   "metadata": {},
   "outputs": [
    {
     "name": "stdout",
     "output_type": "stream",
     "text": [
      "Populating the interactive namespace from numpy and matplotlib\n"
     ]
    }
   ],
   "source": [
    "import pandas as pd\n",
    "import numpy as np\n",
    "import nltk\n",
    "from nltk.corpus import stopwords\n",
    "import matplotlib.pyplot as plt\n",
    "import seaborn as sns\n",
    "%matplotlib inline\n",
    "%pylab inline"
   ]
  },
  {
   "cell_type": "code",
   "execution_count": 3,
   "metadata": {
    "scrolled": true
   },
   "outputs": [
    {
     "name": "stderr",
     "output_type": "stream",
     "text": [
      "201030it [02:16, 1470.34it/s]\n"
     ]
    }
   ],
   "source": [
    "responses = []\n",
    "with bz2.BZ2File('banki_responses.json.bz2', 'r') as thefile:\n",
    "    for row in tqdm(thefile):\n",
    "        resp = json.loads(row)\n",
    "        if not resp['rating_not_checked'] and (len(resp['text'].split()) > 0):\n",
    "            responses.append(resp)"
   ]
  },
  {
   "cell_type": "markdown",
   "metadata": {},
   "source": [
    "#  Домашнее задание по NLP # 1 [100 баллов]\n",
    "## Классификация по тональности \n",
    "\n",
    "В этом домашнем задании вам предстоит классифицировать по тональности отзывы на банки с сайта banki.ru.\n",
    "\n",
    "Данные содержат непосредственно тексты отзывов, некоторую дополнительную информацию, а также оценку по шкале от 1 до 5. \n",
    "\n",
    "Тексты хранятся в json-ах в массиве responses.\n",
    "\n",
    "Посмотрим на пример отзыва:"
   ]
  },
  {
   "cell_type": "code",
   "execution_count": 4,
   "metadata": {
    "scrolled": false
   },
   "outputs": [
    {
     "data": {
      "text/plain": [
       "{'city': 'г. Саратов',\n",
       " 'rating_not_checked': False,\n",
       " 'title': 'Карта ко вкладу',\n",
       " 'num_comments': 0,\n",
       " 'bank_license': 'лицензия № 880',\n",
       " 'author': 'ronnichka',\n",
       " 'bank_name': 'Югра',\n",
       " 'datetime': '2015-06-03 20:56:57',\n",
       " 'text': 'Здравствуйте! Хотела написать, что мне месяц не выдают карту ко вкладу, ссылаясь на \"нам же их из Самары везут\" (на секундочку 5 часов езды от нашего города). Но! Прочитала, что людям 3,5 месяцев не выдают карту, и поняла, что у меня все хорошо, пока что. И подарок мне дали, и кулер в отделении есть. Так что я, конечно, готова ждать. Правда хотелось бы не очень долго.',\n",
       " 'rating_grade': 3}"
      ]
     },
     "execution_count": 4,
     "metadata": {},
     "output_type": "execute_result"
    }
   ],
   "source": [
    "responses[99]"
   ]
  },
  {
   "cell_type": "markdown",
   "metadata": {},
   "source": [
    "## Часть 1. Анализ текстов [40/100]\n",
    "\n",
    "1. Посчитайте количество отзывов в разных городах и на разные банки\n",
    "2. Постройте гистограмы длин слов в символах и в словах\n",
    "3. Найдите 10 самых частых:\n",
    "    * слов\n",
    "    * слов без стоп-слов\n",
    "    * лемм \n",
    "    * существительных\n",
    "4. Постройте кривые Ципфа и Хипса\n",
    "5. Ответьте на следующие вопросы:\n",
    "    * какое слово встречается чаще, \"сотрудник\" или \"клиент\"?\n",
    "    * сколько раз встречается слова \"мошенничество\" и \"доверие\"?\n",
    "6. В поле \"rating_grade\" записана оценка отзыва по шкале от 1 до 5. Используйте меру $tf-idf$, для того, чтобы найти ключевые слова и биграмы для положительных отзывов (с оценкой 5) и отрицательных отзывов (с оценкой 1)"
   ]
  },
  {
   "cell_type": "markdown",
   "metadata": {},
   "source": [
    "0: Создадим датафрейм"
   ]
  },
  {
   "cell_type": "code",
   "execution_count": 5,
   "metadata": {},
   "outputs": [
    {
     "data": {
      "text/html": [
       "<div>\n",
       "<style scoped>\n",
       "    .dataframe tbody tr th:only-of-type {\n",
       "        vertical-align: middle;\n",
       "    }\n",
       "\n",
       "    .dataframe tbody tr th {\n",
       "        vertical-align: top;\n",
       "    }\n",
       "\n",
       "    .dataframe thead th {\n",
       "        text-align: right;\n",
       "    }\n",
       "</style>\n",
       "<table border=\"1\" class=\"dataframe\">\n",
       "  <thead>\n",
       "    <tr style=\"text-align: right;\">\n",
       "      <th></th>\n",
       "      <th>city</th>\n",
       "      <th>rating_not_checked</th>\n",
       "      <th>title</th>\n",
       "      <th>num_comments</th>\n",
       "      <th>bank_license</th>\n",
       "      <th>author</th>\n",
       "      <th>bank_name</th>\n",
       "      <th>datetime</th>\n",
       "      <th>text</th>\n",
       "      <th>rating_grade</th>\n",
       "    </tr>\n",
       "  </thead>\n",
       "  <tbody>\n",
       "    <tr>\n",
       "      <th>0</th>\n",
       "      <td>г. Москва</td>\n",
       "      <td>False</td>\n",
       "      <td>Жалоба</td>\n",
       "      <td>0</td>\n",
       "      <td>лицензия № 2562</td>\n",
       "      <td>uhnov1</td>\n",
       "      <td>Бинбанк</td>\n",
       "      <td>2015-06-08 12:50:54</td>\n",
       "      <td>Добрый день! Я не являюсь клиентом банка и пор...</td>\n",
       "      <td>NaN</td>\n",
       "    </tr>\n",
       "    <tr>\n",
       "      <th>1</th>\n",
       "      <td>г. Новосибирск</td>\n",
       "      <td>False</td>\n",
       "      <td>Не могу пользоваться услугой Сбербанк он-лайн</td>\n",
       "      <td>0</td>\n",
       "      <td>лицензия № 1481</td>\n",
       "      <td>Foryou</td>\n",
       "      <td>Сбербанк России</td>\n",
       "      <td>2015-06-08 11:09:57</td>\n",
       "      <td>Доброго дня! Являюсь держателем зарплатной кар...</td>\n",
       "      <td>NaN</td>\n",
       "    </tr>\n",
       "    <tr>\n",
       "      <th>2</th>\n",
       "      <td>г. Москва</td>\n",
       "      <td>False</td>\n",
       "      <td>Двойное списание за один товар.</td>\n",
       "      <td>1</td>\n",
       "      <td>лицензия № 2562</td>\n",
       "      <td>Vladimir84</td>\n",
       "      <td>Бинбанк</td>\n",
       "      <td>2015-06-05 20:14:28</td>\n",
       "      <td>Здравствуйте!  Дублирую свое заявление от 03.0...</td>\n",
       "      <td>NaN</td>\n",
       "    </tr>\n",
       "    <tr>\n",
       "      <th>3</th>\n",
       "      <td>г. Ставрополь</td>\n",
       "      <td>False</td>\n",
       "      <td>Меняют проценты комиссии  не предупредив и не ...</td>\n",
       "      <td>2</td>\n",
       "      <td>лицензия № 1481</td>\n",
       "      <td>643609</td>\n",
       "      <td>Сбербанк России</td>\n",
       "      <td>2015-06-05 13:51:01</td>\n",
       "      <td>Добрый день!! Я открыл расчетный счет в СберБа...</td>\n",
       "      <td>NaN</td>\n",
       "    </tr>\n",
       "    <tr>\n",
       "      <th>4</th>\n",
       "      <td>г. Челябинск</td>\n",
       "      <td>False</td>\n",
       "      <td>Верните денежные средства за страховку</td>\n",
       "      <td>1</td>\n",
       "      <td>лицензия № 2766</td>\n",
       "      <td>anfisa-2003</td>\n",
       "      <td>ОТП Банк</td>\n",
       "      <td>2015-06-05 10:58:12</td>\n",
       "      <td>04.03.2015 г. взяла кредит в вашем банке, заяв...</td>\n",
       "      <td>NaN</td>\n",
       "    </tr>\n",
       "  </tbody>\n",
       "</table>\n",
       "</div>"
      ],
      "text/plain": [
       "             city  rating_not_checked  \\\n",
       "0       г. Москва               False   \n",
       "1  г. Новосибирск               False   \n",
       "2       г. Москва               False   \n",
       "3   г. Ставрополь               False   \n",
       "4    г. Челябинск               False   \n",
       "\n",
       "                                               title  num_comments  \\\n",
       "0                                             Жалоба             0   \n",
       "1      Не могу пользоваться услугой Сбербанк он-лайн             0   \n",
       "2                    Двойное списание за один товар.             1   \n",
       "3  Меняют проценты комиссии  не предупредив и не ...             2   \n",
       "4             Верните денежные средства за страховку             1   \n",
       "\n",
       "      bank_license       author        bank_name             datetime  \\\n",
       "0  лицензия № 2562       uhnov1          Бинбанк  2015-06-08 12:50:54   \n",
       "1  лицензия № 1481       Foryou  Сбербанк России  2015-06-08 11:09:57   \n",
       "2  лицензия № 2562   Vladimir84          Бинбанк  2015-06-05 20:14:28   \n",
       "3  лицензия № 1481       643609  Сбербанк России  2015-06-05 13:51:01   \n",
       "4  лицензия № 2766  anfisa-2003         ОТП Банк  2015-06-05 10:58:12   \n",
       "\n",
       "                                                text  rating_grade  \n",
       "0  Добрый день! Я не являюсь клиентом банка и пор...           NaN  \n",
       "1  Доброго дня! Являюсь держателем зарплатной кар...           NaN  \n",
       "2  Здравствуйте!  Дублирую свое заявление от 03.0...           NaN  \n",
       "3  Добрый день!! Я открыл расчетный счет в СберБа...           NaN  \n",
       "4  04.03.2015 г. взяла кредит в вашем банке, заяв...           NaN  "
      ]
     },
     "execution_count": 5,
     "metadata": {},
     "output_type": "execute_result"
    }
   ],
   "source": [
    "df = pd.DataFrame(responses)\n",
    "df.head()"
   ]
  },
  {
   "cell_type": "code",
   "execution_count": 6,
   "metadata": {},
   "outputs": [
    {
     "data": {
      "text/html": [
       "<div>\n",
       "<style scoped>\n",
       "    .dataframe tbody tr th:only-of-type {\n",
       "        vertical-align: middle;\n",
       "    }\n",
       "\n",
       "    .dataframe tbody tr th {\n",
       "        vertical-align: top;\n",
       "    }\n",
       "\n",
       "    .dataframe thead th {\n",
       "        text-align: right;\n",
       "    }\n",
       "</style>\n",
       "<table border=\"1\" class=\"dataframe\">\n",
       "  <thead>\n",
       "    <tr style=\"text-align: right;\">\n",
       "      <th></th>\n",
       "      <th>city</th>\n",
       "      <th>rating_not_checked</th>\n",
       "      <th>title</th>\n",
       "      <th>num_comments</th>\n",
       "      <th>bank_license</th>\n",
       "      <th>author</th>\n",
       "      <th>bank_name</th>\n",
       "      <th>datetime</th>\n",
       "      <th>text</th>\n",
       "      <th>rating_grade</th>\n",
       "    </tr>\n",
       "  </thead>\n",
       "  <tbody>\n",
       "    <tr>\n",
       "      <th>count</th>\n",
       "      <td>138325</td>\n",
       "      <td>153499</td>\n",
       "      <td>153499</td>\n",
       "      <td>153499.000000</td>\n",
       "      <td>153498</td>\n",
       "      <td>153479</td>\n",
       "      <td>153499</td>\n",
       "      <td>153499</td>\n",
       "      <td>153499</td>\n",
       "      <td>88658.000000</td>\n",
       "    </tr>\n",
       "    <tr>\n",
       "      <th>unique</th>\n",
       "      <td>5823</td>\n",
       "      <td>1</td>\n",
       "      <td>122941</td>\n",
       "      <td>NaN</td>\n",
       "      <td>670</td>\n",
       "      <td>104519</td>\n",
       "      <td>670</td>\n",
       "      <td>147616</td>\n",
       "      <td>153429</td>\n",
       "      <td>NaN</td>\n",
       "    </tr>\n",
       "    <tr>\n",
       "      <th>top</th>\n",
       "      <td>г. Москва</td>\n",
       "      <td>False</td>\n",
       "      <td></td>\n",
       "      <td>NaN</td>\n",
       "      <td>лицензия № 1481</td>\n",
       "      <td>Complince</td>\n",
       "      <td>Сбербанк России</td>\n",
       "      <td>2014-10-16 15:07:00</td>\n",
       "      <td>Здравствуйте, я являюсь руководителем организа...</td>\n",
       "      <td>NaN</td>\n",
       "    </tr>\n",
       "    <tr>\n",
       "      <th>freq</th>\n",
       "      <td>55354</td>\n",
       "      <td>153499</td>\n",
       "      <td>1223</td>\n",
       "      <td>NaN</td>\n",
       "      <td>26327</td>\n",
       "      <td>181</td>\n",
       "      <td>26327</td>\n",
       "      <td>4</td>\n",
       "      <td>6</td>\n",
       "      <td>NaN</td>\n",
       "    </tr>\n",
       "    <tr>\n",
       "      <th>mean</th>\n",
       "      <td>NaN</td>\n",
       "      <td>NaN</td>\n",
       "      <td>NaN</td>\n",
       "      <td>3.722102</td>\n",
       "      <td>NaN</td>\n",
       "      <td>NaN</td>\n",
       "      <td>NaN</td>\n",
       "      <td>NaN</td>\n",
       "      <td>NaN</td>\n",
       "      <td>2.153274</td>\n",
       "    </tr>\n",
       "    <tr>\n",
       "      <th>std</th>\n",
       "      <td>NaN</td>\n",
       "      <td>NaN</td>\n",
       "      <td>NaN</td>\n",
       "      <td>6.695089</td>\n",
       "      <td>NaN</td>\n",
       "      <td>NaN</td>\n",
       "      <td>NaN</td>\n",
       "      <td>NaN</td>\n",
       "      <td>NaN</td>\n",
       "      <td>1.509953</td>\n",
       "    </tr>\n",
       "    <tr>\n",
       "      <th>min</th>\n",
       "      <td>NaN</td>\n",
       "      <td>NaN</td>\n",
       "      <td>NaN</td>\n",
       "      <td>0.000000</td>\n",
       "      <td>NaN</td>\n",
       "      <td>NaN</td>\n",
       "      <td>NaN</td>\n",
       "      <td>NaN</td>\n",
       "      <td>NaN</td>\n",
       "      <td>1.000000</td>\n",
       "    </tr>\n",
       "    <tr>\n",
       "      <th>25%</th>\n",
       "      <td>NaN</td>\n",
       "      <td>NaN</td>\n",
       "      <td>NaN</td>\n",
       "      <td>0.000000</td>\n",
       "      <td>NaN</td>\n",
       "      <td>NaN</td>\n",
       "      <td>NaN</td>\n",
       "      <td>NaN</td>\n",
       "      <td>NaN</td>\n",
       "      <td>1.000000</td>\n",
       "    </tr>\n",
       "    <tr>\n",
       "      <th>50%</th>\n",
       "      <td>NaN</td>\n",
       "      <td>NaN</td>\n",
       "      <td>NaN</td>\n",
       "      <td>2.000000</td>\n",
       "      <td>NaN</td>\n",
       "      <td>NaN</td>\n",
       "      <td>NaN</td>\n",
       "      <td>NaN</td>\n",
       "      <td>NaN</td>\n",
       "      <td>1.000000</td>\n",
       "    </tr>\n",
       "    <tr>\n",
       "      <th>75%</th>\n",
       "      <td>NaN</td>\n",
       "      <td>NaN</td>\n",
       "      <td>NaN</td>\n",
       "      <td>4.000000</td>\n",
       "      <td>NaN</td>\n",
       "      <td>NaN</td>\n",
       "      <td>NaN</td>\n",
       "      <td>NaN</td>\n",
       "      <td>NaN</td>\n",
       "      <td>3.000000</td>\n",
       "    </tr>\n",
       "    <tr>\n",
       "      <th>max</th>\n",
       "      <td>NaN</td>\n",
       "      <td>NaN</td>\n",
       "      <td>NaN</td>\n",
       "      <td>406.000000</td>\n",
       "      <td>NaN</td>\n",
       "      <td>NaN</td>\n",
       "      <td>NaN</td>\n",
       "      <td>NaN</td>\n",
       "      <td>NaN</td>\n",
       "      <td>5.000000</td>\n",
       "    </tr>\n",
       "  </tbody>\n",
       "</table>\n",
       "</div>"
      ],
      "text/plain": [
       "             city rating_not_checked   title   num_comments     bank_license  \\\n",
       "count      138325             153499  153499  153499.000000           153498   \n",
       "unique       5823                  1  122941            NaN              670   \n",
       "top     г. Москва              False                    NaN  лицензия № 1481   \n",
       "freq        55354             153499    1223            NaN            26327   \n",
       "mean          NaN                NaN     NaN       3.722102              NaN   \n",
       "std           NaN                NaN     NaN       6.695089              NaN   \n",
       "min           NaN                NaN     NaN       0.000000              NaN   \n",
       "25%           NaN                NaN     NaN       0.000000              NaN   \n",
       "50%           NaN                NaN     NaN       2.000000              NaN   \n",
       "75%           NaN                NaN     NaN       4.000000              NaN   \n",
       "max           NaN                NaN     NaN     406.000000              NaN   \n",
       "\n",
       "           author        bank_name             datetime  \\\n",
       "count      153479           153499               153499   \n",
       "unique     104519              670               147616   \n",
       "top     Complince  Сбербанк России  2014-10-16 15:07:00   \n",
       "freq          181            26327                    4   \n",
       "mean          NaN              NaN                  NaN   \n",
       "std           NaN              NaN                  NaN   \n",
       "min           NaN              NaN                  NaN   \n",
       "25%           NaN              NaN                  NaN   \n",
       "50%           NaN              NaN                  NaN   \n",
       "75%           NaN              NaN                  NaN   \n",
       "max           NaN              NaN                  NaN   \n",
       "\n",
       "                                                     text  rating_grade  \n",
       "count                                              153499  88658.000000  \n",
       "unique                                             153429           NaN  \n",
       "top     Здравствуйте, я являюсь руководителем организа...           NaN  \n",
       "freq                                                    6           NaN  \n",
       "mean                                                  NaN      2.153274  \n",
       "std                                                   NaN      1.509953  \n",
       "min                                                   NaN      1.000000  \n",
       "25%                                                   NaN      1.000000  \n",
       "50%                                                   NaN      1.000000  \n",
       "75%                                                   NaN      3.000000  \n",
       "max                                                   NaN      5.000000  "
      ]
     },
     "execution_count": 6,
     "metadata": {},
     "output_type": "execute_result"
    }
   ],
   "source": [
    "df.describe(include='all')"
   ]
  },
  {
   "cell_type": "code",
   "execution_count": 7,
   "metadata": {
    "scrolled": true
   },
   "outputs": [
    {
     "name": "stdout",
     "output_type": "stream",
     "text": [
      "<class 'pandas.core.frame.DataFrame'>\n",
      "RangeIndex: 153499 entries, 0 to 153498\n",
      "Data columns (total 10 columns):\n",
      " #   Column              Non-Null Count   Dtype  \n",
      "---  ------              --------------   -----  \n",
      " 0   city                138325 non-null  object \n",
      " 1   rating_not_checked  153499 non-null  bool   \n",
      " 2   title               153499 non-null  object \n",
      " 3   num_comments        153499 non-null  int64  \n",
      " 4   bank_license        153498 non-null  object \n",
      " 5   author              153479 non-null  object \n",
      " 6   bank_name           153499 non-null  object \n",
      " 7   datetime            153499 non-null  object \n",
      " 8   text                153499 non-null  object \n",
      " 9   rating_grade        88658 non-null   float64\n",
      "dtypes: bool(1), float64(1), int64(1), object(7)\n",
      "memory usage: 10.7+ MB\n"
     ]
    }
   ],
   "source": [
    "df.info()"
   ]
  },
  {
   "cell_type": "markdown",
   "metadata": {},
   "source": [
    "1: Посчитайте количество отзывов в разных городах и на разные банки"
   ]
  },
  {
   "cell_type": "code",
   "execution_count": 8,
   "metadata": {},
   "outputs": [
    {
     "data": {
      "text/plain": [
       "г. Москва             55354\n",
       "г. Санкт-Петербург    14342\n",
       "г. Екатеринбург        2337\n",
       "г. Новосибирск         2300\n",
       "г. Нижний Новгород     1976\n",
       "г. Ростов-на-Дону      1891\n",
       "г. Самара              1731\n",
       "г. Челябинск           1507\n",
       "г. Казань              1440\n",
       "г. Краснодар           1262\n",
       "Name: city, dtype: int64"
      ]
     },
     "execution_count": 8,
     "metadata": {},
     "output_type": "execute_result"
    }
   ],
   "source": [
    "df.city.value_counts()[:10]"
   ]
  },
  {
   "cell_type": "code",
   "execution_count": 9,
   "metadata": {},
   "outputs": [
    {
     "data": {
      "text/plain": [
       "Сбербанк России              26327\n",
       "Альфа-Банк                   10224\n",
       "ВТБ 24                        8185\n",
       "Русский Стандарт              7943\n",
       "Хоум Кредит Банк              7549\n",
       "Тинькофф Банк                 5387\n",
       "Национальный Банк «Траст»     4607\n",
       "Ренессанс Кредит              3849\n",
       "Связной Банк                  3775\n",
       "ОТП Банк                      3237\n",
       "Name: bank_name, dtype: int64"
      ]
     },
     "execution_count": 9,
     "metadata": {},
     "output_type": "execute_result"
    }
   ],
   "source": [
    "df.bank_name.value_counts()[:10]"
   ]
  },
  {
   "cell_type": "markdown",
   "metadata": {},
   "source": [
    "2: Постройте гистограмы длин слов в символах и в словах"
   ]
  },
  {
   "cell_type": "code",
   "execution_count": 10,
   "metadata": {},
   "outputs": [],
   "source": [
    "w_c=[]\n",
    "c_c=[]\n",
    "for item in df.text:\n",
    "    w_c.append(len(item.split()))\n",
    "    c_c.append(len(item))\n",
    "df['word_count']=w_c\n",
    "df['char_count']=c_c"
   ]
  },
  {
   "cell_type": "code",
   "execution_count": 11,
   "metadata": {},
   "outputs": [
    {
     "data": {
      "text/plain": [
       "<matplotlib.axes._subplots.AxesSubplot at 0x7fb11f107a10>"
      ]
     },
     "execution_count": 11,
     "metadata": {},
     "output_type": "execute_result"
    },
    {
     "data": {
      "image/png": "[encoded data removed]",
      "text/plain": [
       "<Figure size 432x288 with 1 Axes>"
      ]
     },
     "metadata": {
      "needs_background": "light"
     },
     "output_type": "display_data"
    }
   ],
   "source": [
    "df['word_count'].hist(bins='auto')"
   ]
  },
  {
   "cell_type": "code",
   "execution_count": 12,
   "metadata": {
    "scrolled": true
   },
   "outputs": [
    {
     "data": {
      "text/plain": [
       "<matplotlib.axes._subplots.AxesSubplot at 0x7fb1286d3490>"
      ]
     },
     "execution_count": 12,
     "metadata": {},
     "output_type": "execute_result"
    },
    {
     "data": {
      "image/png": "[encoded data removed]",
      "text/plain": [
       "<Figure size 432x288 with 1 Axes>"
      ]
     },
     "metadata": {
      "needs_background": "light"
     },
     "output_type": "display_data"
    }
   ],
   "source": [
    "df['char_count'].hist(bins='auto')"
   ]
  },
  {
   "cell_type": "markdown",
   "metadata": {},
   "source": [
    "3: Найдите 10 самых частых:\n",
    "слов\n",
    "слов без стоп-слов\n",
    "лемм\n",
    "существительных"
   ]
  },
  {
   "cell_type": "code",
   "execution_count": 13,
   "metadata": {
    "scrolled": true
   },
   "outputs": [],
   "source": [
    "def words_only(text, regex=re.compile(\"[А-Яа-я]+\")):\n",
    "    return \" \".join(regex.findall(text))\n",
    "\n",
    "mystopwords = stopwords.words('russian') + ['это', 'наш' , 'тыс', 'млн', 'млрд', 'также',  'т', 'д']\n",
    "def remove_stopwords(text, mystopwords = mystopwords):\n",
    "    try:\n",
    "        return \" \".join([token for token in text.split() if not token in mystopwords])\n",
    "    except:\n",
    "        return \"\"\n",
    "\n",
    "\n",
    "m = Mystem()\n",
    "def lemmatize_(text, mystem=m):\n",
    "    try:\n",
    "        return \"\".join(m.lemmatize(text)).strip()  \n",
    "    except:\n",
    "        return \" \"\n",
    "\n",
    "\n",
    "morph=MorphAnalyzer()\n",
    "def noun_strip(text):\n",
    "    try:\n",
    "        return \" \".join([item if morph.parse(item)[0].tag.POS=='NOUN' else \" \" for item in text.split()])\n",
    "    except:\n",
    "        return \" \"\n",
    "\n",
    "\n",
    "def most_common(text):\n",
    "    words_list = [word for text_ in text for word in text_.split()]\n",
    "    cnt=Counter(words_list)\n",
    "    return cnt.most_common(10)\n",
    "\n",
    "\n",
    "def text_prep(text):\n",
    "    text1 = words_only(text)\n",
    "    text2 = remove_stopwords(text1)\n",
    "    return lemmatize_(text2)"
   ]
  },
  {
   "cell_type": "code",
   "execution_count": 14,
   "metadata": {},
   "outputs": [
    {
     "name": "stdout",
     "output_type": "stream",
     "text": [
      "CPU times: user 12.8 s, sys: 373 ms, total: 13.2 s\n",
      "Wall time: 13.3 s\n"
     ]
    },
    {
     "data": {
      "text/plain": [
       "0         добрый день я не являюсь клиентом банка и пору...\n",
       "1         доброго дня являюсь держателем зарплатной карт...\n",
       "2         здравствуйте дублирую свое заявление от в до м...\n",
       "3         добрый день я открыл расчетный счет в сбербанк...\n",
       "4         г взяла кредит в вашем банке заявленная мною с...\n",
       "                                ...                        \n",
       "153494    слишком большой банк не всегда учитывает нашу ...\n",
       "153495    вы сами виноваты в своих проблемах кроме предп...\n",
       "153496    уважаемое руководство банка овк я проживаю в г...\n",
       "153497    пробовала оформить товар в кредит в альфа банк...\n",
       "153498    если коротко то мне нравится кридит получать м...\n",
       "Name: text, Length: 153499, dtype: object"
      ]
     },
     "execution_count": 14,
     "metadata": {},
     "output_type": "execute_result"
    }
   ],
   "source": [
    "%%time\n",
    "words1 = df.text.str.lower()\n",
    "words1 = words1.apply(words_only)\n",
    "words1"
   ]
  },
  {
   "cell_type": "code",
   "execution_count": 15,
   "metadata": {},
   "outputs": [
    {
     "name": "stdout",
     "output_type": "stream",
     "text": [
      "CPU times: user 53.9 s, sys: 237 ms, total: 54.1 s\n",
      "Wall time: 54.4 s\n"
     ]
    },
    {
     "data": {
      "text/plain": [
       "0         добрый день являюсь клиентом банка поручителем...\n",
       "1         доброго дня являюсь держателем зарплатной карт...\n",
       "2         здравствуйте дублирую свое заявление можайский...\n",
       "3         добрый день открыл расчетный счет сбербанке юр...\n",
       "4         г взяла кредит вашем банке заявленная мною сум...\n",
       "                                ...                        \n",
       "153494    слишком большой банк учитывает нашу специфику ...\n",
       "153495    сами виноваты своих проблемах кроме предпослед...\n",
       "153496    уважаемое руководство банка овк проживаю г ива...\n",
       "153497    пробовала оформить товар кредит альфа банке ко...\n",
       "153498    коротко нравится кридит получать милое дело ан...\n",
       "Name: text, Length: 153499, dtype: object"
      ]
     },
     "execution_count": 15,
     "metadata": {},
     "output_type": "execute_result"
    }
   ],
   "source": [
    "%%time\n",
    "words2 = words1.apply(remove_stopwords)\n",
    "words2"
   ]
  },
  {
   "cell_type": "code",
   "execution_count": 16,
   "metadata": {},
   "outputs": [
    {
     "name": "stdout",
     "output_type": "stream",
     "text": [
      "CPU times: user 1min 43s, sys: 7.99 s, total: 1min 51s\n",
      "Wall time: 19min 21s\n"
     ]
    },
    {
     "data": {
      "text/plain": [
       "0         добрый день являться клиент банк поручитель кр...\n",
       "1         добрый день являться держатель зарплатной карт...\n",
       "2         здравствовать дублировать свой заявление можай...\n",
       "3         добрый день открывать расчетный счет сбербанк ...\n",
       "4         г взять кредит ваш банк заявлять я сумма рубль...\n",
       "                                ...                        \n",
       "153494    слишком большой банк учитывать наш специфика п...\n",
       "153495    сам виноватый свой проблема кроме предпоследни...\n",
       "153496    уважать руководство банк овк проживать г ивано...\n",
       "153497    пробовать оформлять товар кредит альфа банк ко...\n",
       "153498    короче нравиться кридит получать милый дело ан...\n",
       "Name: text, Length: 153499, dtype: object"
      ]
     },
     "execution_count": 16,
     "metadata": {},
     "output_type": "execute_result"
    }
   ],
   "source": [
    "%%time\n",
    "words3 = words2.apply(lemmatize_)\n",
    "words3"
   ]
  },
  {
   "cell_type": "code",
   "execution_count": 17,
   "metadata": {},
   "outputs": [
    {
     "name": "stdout",
     "output_type": "stream",
     "text": [
      "CPU times: user 59min 8s, sys: 12 s, total: 59min 20s\n",
      "Wall time: 59min 35s\n"
     ]
    },
    {
     "data": {
      "text/plain": [
       "0           день   клиент банк поручитель   договор     ...\n",
       "1           день   держатель   карта   сбербанк россия г...\n",
       "2               заявление         карта   покупка интерн...\n",
       "3           день     счет сбербанк юр лицо   договор   к...\n",
       "4         г   кредит   банк     сумма рубль год менеджер...\n",
       "                                ...                        \n",
       "153494        банк     специфика продукт   карта     пол...\n",
       "153495          проблема     сообщение   срыв ресторан  ...\n",
       "153496      руководство банк     г иваново   филиал   ба...\n",
       "153497        товар кредит альфа банк   центр     оформл...\n",
       "153498              дело анкета интернет   звонок скроки...\n",
       "Name: text, Length: 153499, dtype: object"
      ]
     },
     "execution_count": 17,
     "metadata": {},
     "output_type": "execute_result"
    }
   ],
   "source": [
    "%%time\n",
    "words4 = words3.apply(noun_strip)\n",
    "words4"
   ]
  },
  {
   "cell_type": "code",
   "execution_count": 18,
   "metadata": {},
   "outputs": [
    {
     "data": {
      "text/plain": [
       "[('в', 1330550),\n",
       " ('и', 1058997),\n",
       " ('не', 855335),\n",
       " ('на', 707935),\n",
       " ('что', 640057),\n",
       " ('я', 577500),\n",
       " ('с', 464037),\n",
       " ('по', 372769),\n",
       " ('мне', 320958),\n",
       " ('банка', 275906)]"
      ]
     },
     "execution_count": 18,
     "metadata": {},
     "output_type": "execute_result"
    }
   ],
   "source": [
    "most_common(words1)"
   ]
  },
  {
   "cell_type": "code",
   "execution_count": 19,
   "metadata": {
    "scrolled": false
   },
   "outputs": [
    {
     "data": {
      "text/plain": [
       "[('банка', 275906),\n",
       " ('банк', 215426),\n",
       " ('деньги', 131201),\n",
       " ('карту', 105829),\n",
       " ('карты', 101821),\n",
       " ('кредит', 81136),\n",
       " ('день', 76552),\n",
       " ('банке', 72169),\n",
       " ('заявление', 70423),\n",
       " ('очень', 66824)]"
      ]
     },
     "execution_count": 19,
     "metadata": {},
     "output_type": "execute_result"
    }
   ],
   "source": [
    "most_common(words2)"
   ]
  },
  {
   "cell_type": "code",
   "execution_count": 20,
   "metadata": {},
   "outputs": [
    {
     "data": {
      "text/plain": [
       "[('банк', 623032),\n",
       " ('карта', 334999),\n",
       " ('деньги', 179734),\n",
       " ('день', 173043),\n",
       " ('мой', 163042),\n",
       " ('кредит', 156177),\n",
       " ('который', 148986),\n",
       " ('отделение', 144050),\n",
       " ('клиент', 136892),\n",
       " ('сотрудник', 134168)]"
      ]
     },
     "execution_count": 20,
     "metadata": {},
     "output_type": "execute_result"
    }
   ],
   "source": [
    "most_common(words3)"
   ]
  },
  {
   "cell_type": "code",
   "execution_count": 21,
   "metadata": {},
   "outputs": [
    {
     "data": {
      "text/plain": [
       "[('банк', 623032),\n",
       " ('карта', 334999),\n",
       " ('деньги', 179734),\n",
       " ('день', 173043),\n",
       " ('кредит', 156177),\n",
       " ('отделение', 144050),\n",
       " ('клиент', 136892),\n",
       " ('сотрудник', 134168),\n",
       " ('счет', 126894),\n",
       " ('сумма', 111232)]"
      ]
     },
     "execution_count": 21,
     "metadata": {},
     "output_type": "execute_result"
    }
   ],
   "source": [
    "most_common(words4)"
   ]
  },
  {
   "cell_type": "markdown",
   "metadata": {},
   "source": [
    "4: Постройте кривые Ципфа и Хипса"
   ]
  },
  {
   "cell_type": "markdown",
   "metadata": {},
   "source": [
    "Кривая Ципфа (втречаемость слова обратно пропорциональна его порядку)"
   ]
  },
  {
   "cell_type": "code",
   "execution_count": 22,
   "metadata": {
    "scrolled": false
   },
   "outputs": [
    {
     "data": {
      "text/plain": [
       "[<matplotlib.lines.Line2D at 0x7faffa957310>]"
      ]
     },
     "execution_count": 22,
     "metadata": {},
     "output_type": "execute_result"
    },
    {
     "data": {
      "image/png": "[encoded data removed]",
      "text/plain": [
       "<Figure size 432x288 with 1 Axes>"
      ]
     },
     "metadata": {
      "needs_background": "light"
     },
     "output_type": "display_data"
    }
   ],
   "source": [
    "words_ = [word for text_ in words4 for word in text_.split()]\n",
    "cnt=Counter(words_)\n",
    "plt.plot(sort(list(cnt.values()))[::-1][:100])\n",
    "plt.plot([620000/x for x in range(1,101)])"
   ]
  },
  {
   "cell_type": "markdown",
   "metadata": {},
   "source": [
    "Кривая Хипса (количество разных слов в тексте пропорционально его длине)"
   ]
  },
  {
   "cell_type": "code",
   "execution_count": 23,
   "metadata": {},
   "outputs": [
    {
     "data": {
      "text/plain": [
       "[<matplotlib.lines.Line2D at 0x7fb00180d390>]"
      ]
     },
     "execution_count": 23,
     "metadata": {},
     "output_type": "execute_result"
    },
    {
     "data": {
      "image/png": "[encoded data removed]",
      "text/plain": [
       "<Figure size 432x288 with 1 Axes>"
      ]
     },
     "metadata": {
      "needs_background": "light"
     },
     "output_type": "display_data"
    }
   ],
   "source": [
    "plt.scatter(x=[len(text.split()) for text in words3], y=[len(Counter(text.split())) for text in words3])\n",
    "plt.plot([1.7*x**0.82 for x in range(1,2502)], c='r')"
   ]
  },
  {
   "cell_type": "markdown",
   "metadata": {},
   "source": [
    "5: Ответьте на следующие вопросы:\n",
    "- какое слово встречается чаще, \"сотрудник\" или \"клиент\"?\n",
    "- сколько раз встречается слова \"мошенничество\" и \"доверие\"?"
   ]
  },
  {
   "cell_type": "code",
   "execution_count": 24,
   "metadata": {
    "scrolled": true
   },
   "outputs": [
    {
     "data": {
      "text/plain": [
       "[('банк', 623032),\n",
       " ('карта', 334999),\n",
       " ('деньги', 179734),\n",
       " ('день', 173043),\n",
       " ('кредит', 156177),\n",
       " ('отделение', 144050),\n",
       " ('клиент', 136892),\n",
       " ('сотрудник', 134168),\n",
       " ('счет', 126894),\n",
       " ('сумма', 111232)]"
      ]
     },
     "execution_count": 24,
     "metadata": {},
     "output_type": "execute_result"
    }
   ],
   "source": [
    "most_common(words4)"
   ]
  },
  {
   "cell_type": "markdown",
   "metadata": {},
   "source": [
    "'Клиент' встречается чаще."
   ]
  },
  {
   "cell_type": "code",
   "execution_count": 25,
   "metadata": {},
   "outputs": [
    {
     "name": "stdout",
     "output_type": "stream",
     "text": [
      "Мошенничество: 3244\n",
      "Доверие: 2108\n"
     ]
    }
   ],
   "source": [
    "cnt=Counter([word for text_ in words4 for word in text_.split()])\n",
    "print('Мошенничество:',cnt.get('мошенничество'))\n",
    "print('Доверие:',cnt.get('доверие'))"
   ]
  },
  {
   "cell_type": "markdown",
   "metadata": {},
   "source": [
    "В поле \"rating_grade\" записана оценка отзыва по шкале от 1 до 5. Используйте меру  𝑡𝑓−𝑖𝑑𝑓 , для того, чтобы найти ключевые слова и биграмы для положительных отзывов (с оценкой 5) и отрицательных отзывов (с оценкой 1)"
   ]
  },
  {
   "cell_type": "code",
   "execution_count": 26,
   "metadata": {},
   "outputs": [],
   "source": [
    "pos=df[df.rating_grade==5]\n",
    "neg=df[df.rating_grade==1]"
   ]
  },
  {
   "cell_type": "code",
   "execution_count": 27,
   "metadata": {},
   "outputs": [
    {
     "name": "stdout",
     "output_type": "stream",
     "text": [
      "CPU times: user 16.9 s, sys: 764 ms, total: 17.7 s\n",
      "Wall time: 2min 4s\n"
     ]
    }
   ],
   "source": [
    "%%time\n",
    "pos3 = pos.text.apply(text_prep)"
   ]
  },
  {
   "cell_type": "code",
   "execution_count": 28,
   "metadata": {},
   "outputs": [
    {
     "name": "stdout",
     "output_type": "stream",
     "text": [
      "CPU times: user 1min 8s, sys: 2.95 s, total: 1min 11s\n",
      "Wall time: 8min 11s\n"
     ]
    }
   ],
   "source": [
    "%%time\n",
    "neg3 = neg.text.apply(text_prep)"
   ]
  },
  {
   "cell_type": "code",
   "execution_count": 29,
   "metadata": {},
   "outputs": [
    {
     "data": {
      "text/plain": [
       "['досрочно',\n",
       " 'закрывать',\n",
       " 'вклад',\n",
       " 'отпуск',\n",
       " 'жена',\n",
       " 'заказывать',\n",
       " 'заранее',\n",
       " 'забывать',\n",
       " 'сотрудник',\n",
       " 'спб',\n",
       " 'наталья',\n",
       " 'отказывать',\n",
       " 'хотя',\n",
       " 'сумма',\n",
       " 'значительный',\n",
       " 'работать',\n",
       " 'быстро',\n",
       " 'профессионально',\n",
       " 'ничто',\n",
       " 'лишний',\n",
       " 'жаль',\n",
       " 'прием',\n",
       " 'офис',\n",
       " 'доступность',\n",
       " 'замечать',\n",
       " 'нести',\n",
       " 'деньги',\n",
       " 'брать',\n",
       " 'кредит',\n",
       " 'желать',\n",
       " 'успех',\n",
       " 'банка',\n",
       " 'досрочно закрывать',\n",
       " 'закрывать вклад',\n",
       " 'заказывать заранее',\n",
       " 'сотрудник банк',\n",
       " 'работать быстро',\n",
       " 'быстро профессионально',\n",
       " 'вклад офис',\n",
       " 'деньги вклад',\n",
       " 'брать кредит',\n",
       " 'желать успех',\n",
       " 'хотеть',\n",
       " 'открывать',\n",
       " 'доходный',\n",
       " 'год',\n",
       " 'процент',\n",
       " 'начисляться',\n",
       " 'месяц',\n",
       " 'но']"
      ]
     },
     "execution_count": 29,
     "metadata": {},
     "output_type": "execute_result"
    }
   ],
   "source": [
    "tfidf_pos = TfidfVectorizer(max_df=0.85,max_features=10000,ngram_range=(1,2))\n",
    "tfidf_pos_m = tfidf_pos.fit_transform(list(pos3))\n",
    "list(tfidf_pos.vocabulary_.keys())[:50]"
   ]
  },
  {
   "cell_type": "code",
   "execution_count": 30,
   "metadata": {},
   "outputs": [
    {
     "data": {
      "text/plain": [
       "['открывать',\n",
       " 'вклад',\n",
       " 'счет',\n",
       " 'плюс',\n",
       " 'этот',\n",
       " 'зарплатный',\n",
       " 'карта',\n",
       " 'рубль',\n",
       " 'сам',\n",
       " 'себя',\n",
       " 'сегодня',\n",
       " 'приходить',\n",
       " 'указанный',\n",
       " 'отделение',\n",
       " 'цель',\n",
       " 'пополнять',\n",
       " 'долларовый',\n",
       " 'сч',\n",
       " 'давать',\n",
       " 'операционист',\n",
       " 'паспорт',\n",
       " 'окошко',\n",
       " 'написать',\n",
       " 'подтверждение',\n",
       " 'операция',\n",
       " 'подобный',\n",
       " 'прошлый',\n",
       " 'потребовать',\n",
       " 'сказать',\n",
       " 'нужно',\n",
       " 'полагать',\n",
       " 'деньги',\n",
       " 'вс',\n",
       " 'взять',\n",
       " 'делать',\n",
       " 'крутить',\n",
       " 'вставлять',\n",
       " 'терминал',\n",
       " 'вводить',\n",
       " 'пин',\n",
       " 'получать',\n",
       " 'ответ',\n",
       " 'чек',\n",
       " 'доллар',\n",
       " 'вносить',\n",
       " 'вопрос',\n",
       " 'банка',\n",
       " 'понимать',\n",
       " 'кто',\n",
       " 'сознательно']"
      ]
     },
     "execution_count": 30,
     "metadata": {},
     "output_type": "execute_result"
    }
   ],
   "source": [
    "tfidf_neg = TfidfVectorizer(max_df=0.85,max_features=10000,ngram_range=(1,2))\n",
    "tfidf_neg_m = tfidf_neg.fit_transform(list(neg3))\n",
    "list(tfidf_neg.vocabulary_.keys())[:50]"
   ]
  },
  {
   "cell_type": "markdown",
   "metadata": {},
   "source": [
    "## Часть 2. Тематическое моделирование [20/100]\n",
    "\n",
    "1. Постройте несколько тематических моделей коллекции документов с разным числом тем. Приведите примеры понятных (интерпретируемых) тем.\n",
    "2. Найдите темы, в которых упомянуты конкретные банки (Сбербанк, ВТБ, другой банк). Можете ли вы их прокомментировать / объяснить?\n",
    "\n",
    "Эта часть задания может быть сделана с использованием gensim. "
   ]
  },
  {
   "cell_type": "code",
   "execution_count": 31,
   "metadata": {},
   "outputs": [],
   "source": [
    "from gensim.corpora import Dictionary\n",
    "from gensim.models import TfidfModel, LdaModel, lsimodel\n",
    "from gensim import similarities\n",
    "import pyLDAvis\n",
    "import pyLDAvis.gensim"
   ]
  },
  {
   "cell_type": "code",
   "execution_count": 32,
   "metadata": {},
   "outputs": [],
   "source": [
    "texts = [text.split() for text in words4]\n",
    "dictionary = Dictionary(texts)\n",
    "corpus = [dictionary.doc2bow(text) for text in texts]"
   ]
  },
  {
   "cell_type": "code",
   "execution_count": 33,
   "metadata": {},
   "outputs": [],
   "source": [
    "tfidf = TfidfModel(corpus)\n",
    "corpus_tfidf = tfidf[corpus]"
   ]
  },
  {
   "cell_type": "markdown",
   "metadata": {},
   "source": [
    "Попробуем по 5 тем с LSI, LDA."
   ]
  },
  {
   "cell_type": "code",
   "execution_count": 34,
   "metadata": {},
   "outputs": [
    {
     "name": "stdout",
     "output_type": "stream",
     "text": [
      "CPU times: user 3min 12s, sys: 2.92 s, total: 3min 15s\n",
      "Wall time: 2min 51s\n"
     ]
    }
   ],
   "source": [
    "%%time\n",
    "lsi = lsimodel.LsiModel(corpus=corpus_tfidf, id2word=dictionary, num_topics=5)\n",
    "lda = LdaModel(corpus=corpus_tfidf, id2word=dictionary, num_topics=5)"
   ]
  },
  {
   "cell_type": "code",
   "execution_count": 35,
   "metadata": {},
   "outputs": [
    {
     "data": {
      "text/plain": [
       "[(0,\n",
       "  '0.273*\"карта\" + 0.178*\"кредит\" + 0.159*\"деньги\" + 0.149*\"заявление\" + 0.148*\"счет\" + 0.141*\"банкомат\" + 0.140*\"вклад\" + 0.137*\"отделение\" + 0.133*\"сбербанк\" + 0.132*\"сумма\"'),\n",
       " (1,\n",
       "  '-0.793*\"вклад\" + -0.154*\"очередь\" + 0.139*\"кредит\" + 0.117*\"карта\" + 0.113*\"платеж\" + -0.110*\"процент\" + 0.107*\"сбербанк\" + -0.104*\"офис\" + -0.100*\"вкладчик\" + 0.098*\"заявление\"'),\n",
       " (2,\n",
       "  '-0.465*\"кредит\" + 0.355*\"карта\" + 0.300*\"банкомат\" + -0.255*\"страховка\" + 0.196*\"сбербанк\" + -0.189*\"договор\" + -0.153*\"погашение\" + 0.147*\"операция\" + -0.142*\"платеж\" + 0.140*\"деньги\"'),\n",
       " (3,\n",
       "  '0.276*\"заявка\" + 0.251*\"номер\" + -0.241*\"платеж\" + -0.239*\"сумма\" + -0.221*\"руб\" + 0.213*\"звонок\" + -0.170*\"банкомат\" + -0.169*\"рубль\" + -0.168*\"счет\" + 0.159*\"телефон\"'),\n",
       " (4,\n",
       "  '0.409*\"номер\" + -0.330*\"страховка\" + 0.317*\"звонок\" + -0.250*\"карта\" + -0.189*\"заявка\" + 0.184*\"телефон\" + 0.179*\"кошелек\" + -0.170*\"страхование\" + 0.146*\"вклад\" + 0.142*\"база\"')]"
      ]
     },
     "execution_count": 35,
     "metadata": {},
     "output_type": "execute_result"
    }
   ],
   "source": [
    "lsi.show_topics()"
   ]
  },
  {
   "cell_type": "markdown",
   "metadata": {},
   "source": [
    "Скоре всего, первая тема связана с всевозможными опциями взаимодействия с банком: открытие вкладов, счетов, получение кредитов.\n",
    "Четвертая категория связана с телефонными операциями."
   ]
  },
  {
   "cell_type": "code",
   "execution_count": 36,
   "metadata": {},
   "outputs": [
    {
     "data": {
      "text/plain": [
       "[(0,\n",
       "  '0.016*\"кредит\" + 0.010*\"задолженность\" + 0.008*\"долг\" + 0.008*\"платеж\" + 0.008*\"штраф\" + 0.007*\"просрочка\" + 0.006*\"договор\" + 0.006*\"письмо\" + 0.006*\"звонок\" + 0.006*\"погашение\"'),\n",
       " (1,\n",
       "  '0.008*\"кредит\" + 0.008*\"карта\" + 0.006*\"отделение\" + 0.006*\"очередь\" + 0.006*\"документ\" + 0.005*\"минута\" + 0.005*\"офис\" + 0.005*\"клиент\" + 0.005*\"девушка\" + 0.005*\"заявка\"'),\n",
       " (2,\n",
       "  '0.054*\"админ\" + 0.009*\"дельта\" + 0.009*\"здание\" + 0.007*\"этаж\" + 0.006*\"ашан\" + 0.006*\"сестра\" + 0.006*\"возрождение\" + 0.005*\"студент\" + 0.005*\"брат\" + 0.005*\"хам\"'),\n",
       " (3,\n",
       "  '0.020*\"банкомат\" + 0.014*\"карта\" + 0.012*\"деньги\" + 0.010*\"счет\" + 0.009*\"заявление\" + 0.008*\"претензия\" + 0.007*\"операция\" + 0.007*\"платеж\" + 0.006*\"сумма\" + 0.006*\"ситибанк\"'),\n",
       " (4,\n",
       "  '0.021*\"вклад\" + 0.010*\"процент\" + 0.008*\"депозит\" + 0.007*\"карта\" + 0.007*\"комиссия\" + 0.007*\"евро\" + 0.007*\"доллар\" + 0.006*\"обслуживание\" + 0.006*\"лимит\" + 0.006*\"счет\"')]"
      ]
     },
     "execution_count": 36,
     "metadata": {},
     "output_type": "execute_result"
    }
   ],
   "source": [
    "lda.show_topics()"
   ]
  },
  {
   "cell_type": "markdown",
   "metadata": {},
   "source": [
    "Первая категория связана, скорее всего с мошенническими темами.\n",
    "Вторая - с опытом взаимодействия с отделениями банков.\n",
    "Третья - с кредитами."
   ]
  },
  {
   "cell_type": "code",
   "execution_count": 37,
   "metadata": {},
   "outputs": [
    {
     "name": "stdout",
     "output_type": "stream",
     "text": [
      "CPU times: user 3min 7s, sys: 2.99 s, total: 3min 10s\n",
      "Wall time: 2min 45s\n"
     ]
    }
   ],
   "source": [
    "%%time\n",
    "lsi10 = lsimodel.LsiModel(corpus=corpus_tfidf, id2word=dictionary, num_topics=10)\n",
    "lda10 = LdaModel(corpus=corpus_tfidf, id2word=dictionary, num_topics=10)"
   ]
  },
  {
   "cell_type": "code",
   "execution_count": 38,
   "metadata": {},
   "outputs": [
    {
     "data": {
      "text/plain": [
       "[(0,\n",
       "  '0.273*\"карта\" + 0.178*\"кредит\" + 0.160*\"деньги\" + 0.148*\"заявление\" + 0.148*\"счет\" + 0.143*\"банкомат\" + 0.140*\"вклад\" + 0.137*\"отделение\" + 0.132*\"сбербанк\" + 0.132*\"сумма\"'),\n",
       " (1,\n",
       "  '-0.792*\"вклад\" + -0.143*\"очередь\" + 0.138*\"карта\" + 0.135*\"банкомат\" + 0.117*\"сбербанк\" + -0.116*\"процент\" + 0.110*\"платеж\" + -0.103*\"офис\" + -0.101*\"ставка\" + -0.099*\"вкладчик\"'),\n",
       " (2,\n",
       "  '-0.464*\"кредит\" + 0.362*\"банкомат\" + 0.310*\"карта\" + -0.223*\"страховка\" + -0.179*\"договор\" + 0.172*\"сбербанк\" + 0.161*\"деньги\" + -0.157*\"платеж\" + -0.154*\"погашение\" + 0.149*\"операция\"'),\n",
       " (3,\n",
       "  '-0.361*\"банкомат\" + 0.284*\"заявка\" + 0.276*\"карта\" + -0.232*\"сумма\" + -0.203*\"платеж\" + -0.195*\"руб\" + -0.178*\"деньги\" + 0.170*\"номер\" + -0.157*\"рубль\" + -0.153*\"погашение\"'),\n",
       " (4,\n",
       "  '0.449*\"банкомат\" + -0.395*\"карта\" + 0.181*\"очередь\" + -0.172*\"лимит\" + -0.162*\"комиссия\" + -0.143*\"руб\" + 0.139*\"номер\" + 0.139*\"купюра\" + 0.133*\"человек\" + -0.118*\"счет\"'),\n",
       " (5,\n",
       "  '0.360*\"номер\" + -0.356*\"страховка\" + 0.240*\"звонок\" + -0.227*\"карта\" + -0.224*\"банкомат\" + -0.223*\"заявка\" + 0.174*\"телефон\" + 0.165*\"вклад\" + -0.165*\"кредит\" + -0.146*\"страхование\"'),\n",
       " (6,\n",
       "  '0.613*\"сбербанк\" + -0.248*\"банкомат\" + 0.223*\"заявление\" + -0.202*\"звонок\" + -0.180*\"альфа\" + -0.157*\"номер\" + -0.138*\"смс\" + -0.137*\"лимит\" + 0.136*\"г\" + -0.119*\"задолженность\"'),\n",
       " (7,\n",
       "  '-0.304*\"перевод\" + -0.282*\"платеж\" + 0.259*\"заявление\" + 0.246*\"карта\" + 0.244*\"страховка\" + -0.204*\"кошелек\" + 0.195*\"банкомат\" + 0.192*\"вклад\" + -0.178*\"терминал\" + -0.168*\"заявка\"'),\n",
       " (8,\n",
       "  '0.407*\"страховка\" + 0.312*\"кошелек\" + 0.233*\"киви\" + 0.211*\"номер\" + 0.203*\"страхование\" + -0.175*\"очередь\" + -0.170*\"задолженность\" + -0.146*\"карта\" + -0.139*\"отделение\" + -0.134*\"платеж\"'),\n",
       " (9,\n",
       "  '0.286*\"кошелек\" + -0.280*\"сбербанк\" + 0.250*\"заявка\" + -0.245*\"страховка\" + 0.205*\"киви\" + -0.183*\"комиссия\" + 0.169*\"рассмотрение\" + -0.162*\"перевод\" + 0.160*\"вклад\" + -0.159*\"курс\"')]"
      ]
     },
     "execution_count": 38,
     "metadata": {},
     "output_type": "execute_result"
    }
   ],
   "source": [
    "lsi10.show_topics()"
   ]
  },
  {
   "cell_type": "markdown",
   "metadata": {},
   "source": [
    "Зачастую в темах одновременно присутствуют вместе с у понминанием сбербанка слова: банкомат, карта, страховка, вклад. Возможно, это были основные проблемные места в отзывах."
   ]
  },
  {
   "cell_type": "code",
   "execution_count": 39,
   "metadata": {},
   "outputs": [
    {
     "data": {
      "text/plain": [
       "[(0,\n",
       "  '0.059*\"сити\" + 0.048*\"ситифон\" + 0.040*\"юниаструм\" + 0.017*\"эксперт\" + 0.015*\"пробизнесбанк\" + 0.015*\"райфа\" + 0.015*\"мальчик\" + 0.014*\"физик\" + 0.012*\"уралсиб\" + 0.012*\"физлицо\"'),\n",
       " (1,\n",
       "  '0.016*\"вклад\" + 0.010*\"очередь\" + 0.009*\"отделение\" + 0.007*\"минута\" + 0.007*\"офис\" + 0.007*\"касса\" + 0.007*\"обслуживание\" + 0.007*\"клиент\" + 0.007*\"карта\" + 0.006*\"деньги\"'),\n",
       " (2,\n",
       "  '0.028*\"авангард\" + 0.014*\"электрон\" + 0.010*\"грейс\" + 0.009*\"извещение\" + 0.009*\"сервер\" + 0.009*\"возрождение\" + 0.008*\"получас\" + 0.008*\"мини\" + 0.007*\"загранпаспорт\" + 0.007*\"заправка\"'),\n",
       " (3,\n",
       "  '0.022*\"обменник\" + 0.016*\"купюра\" + 0.012*\"обналичка\" + 0.011*\"мыло\" + 0.009*\"квартал\" + 0.009*\"курсы\" + 0.009*\"лидер\" + 0.009*\"недочет\" + 0.008*\"станция\" + 0.007*\"холл\"'),\n",
       " (4,\n",
       "  '0.007*\"кредит\" + 0.005*\"телефон\" + 0.005*\"звонок\" + 0.005*\"сотрудник\" + 0.005*\"человек\" + 0.004*\"письмо\" + 0.004*\"документ\" + 0.004*\"отдел\" + 0.004*\"договор\" + 0.004*\"номер\"'),\n",
       " (5,\n",
       "  '0.021*\"карта\" + 0.016*\"банкомат\" + 0.010*\"деньги\" + 0.010*\"счет\" + 0.009*\"заявление\" + 0.008*\"карточка\" + 0.008*\"ситибанк\" + 0.007*\"отделение\" + 0.007*\"альфа\" + 0.007*\"интернет\"'),\n",
       " (6,\n",
       "  '0.023*\"кредит\" + 0.017*\"платеж\" + 0.014*\"задолженность\" + 0.013*\"погашение\" + 0.012*\"сумма\" + 0.011*\"штраф\" + 0.010*\"месяц\" + 0.010*\"процент\" + 0.010*\"руб\" + 0.009*\"просрочка\"'),\n",
       " (7,\n",
       "  '0.020*\"кредит\" + 0.017*\"документ\" + 0.013*\"заявка\" + 0.009*\"сделка\" + 0.009*\"квартира\" + 0.009*\"анкета\" + 0.008*\"менеджер\" + 0.007*\"автокредит\" + 0.007*\"машина\" + 0.007*\"справка\"'),\n",
       " (8,\n",
       "  '0.141*\"админ\" + 0.032*\"обед\" + 0.019*\"перерыв\" + 0.012*\"стенд\" + 0.011*\"маня\" + 0.010*\"точность\" + 0.008*\"номерок\" + 0.007*\"гостиница\" + 0.007*\"неделька\" + 0.007*\"маэстро\"'),\n",
       " (9,\n",
       "  '0.034*\"тверской\" + 0.016*\"комитет\" + 0.015*\"пай\" + 0.015*\"аба\" + 0.013*\"ростов\" + 0.011*\"нотариус\" + 0.010*\"дон\" + 0.008*\"джия\" + 0.008*\"банкнота\" + 0.007*\"челябинск\"')]"
      ]
     },
     "execution_count": 39,
     "metadata": {},
     "output_type": "execute_result"
    }
   ],
   "source": [
    "lda10.show_topics()"
   ]
  },
  {
   "cell_type": "code",
   "execution_count": 40,
   "metadata": {},
   "outputs": [],
   "source": [
    "pyLDAvis.enable_notebook()"
   ]
  },
  {
   "cell_type": "code",
   "execution_count": 41,
   "metadata": {},
   "outputs": [
    {
     "data": {
      "text/html": [
       "\n",
       "<link rel=\"stylesheet\" type=\"text/css\" href=\"https://cdn.rawgit.com/bmabey/pyLDAvis/files/ldavis.v1.0.0.css\">\n",
       "\n",
       "\n",
       "<div id=\"ldavis_el7271403924907326244240747807\"></div>\n",
       "<script type=\"text/javascript\">\n",
       "\n",
       "var ldavis_el7271403924907326244240747807_data = {\"mdsDat\": {\"x\": [0.2938632371566354, 0.28040604237028294, 0.1980495031445577, 0.2113008553309556, 0.19091912145693737, -0.17720762401441065, -0.2327267722602095, -0.2580068538346354, -0.25949444884226297, -0.24710306050785016], \"y\": [0.007564727239436378, 0.019564664326326565, -0.01912986847358097, -0.01656508641775539, 0.037180453685872236, -0.1624172119890868, -0.06545574319772662, 0.23116428640550818, -0.01810500681767395, -0.01380121476131971], \"topics\": [1, 2, 3, 4, 5, 6, 7, 8, 9, 10], \"cluster\": [1, 1, 1, 1, 1, 1, 1, 1, 1, 1], \"Freq\": [26.912263870239258, 26.48100471496582, 14.603919982910156, 10.794221878051758, 8.56901741027832, 2.8830063343048096, 2.7090909481048584, 2.4256339073181152, 2.355377674102783, 2.2664589881896973]}, \"tinfo\": {\"Term\": [\"\\u0430\\u0434\\u043c\\u0438\\u043d\", \"\\u0441\\u0438\\u0442\\u0438\", \"\\u043a\\u0440\\u0435\\u0434\\u0438\\u0442\", \"\\u0441\\u0438\\u0442\\u0438\\u0444\\u043e\\u043d\", \"\\u0432\\u043a\\u043b\\u0430\\u0434\", \"\\u0430\\u0432\\u0430\\u043d\\u0433\\u0430\\u0440\\u0434\", \"\\u0441\\u0438\\u0442\\u0438\\u0431\\u0430\\u043d\\u043a\", \"\\u044e\\u043d\\u0438\\u0430\\u0441\\u0442\\u0440\\u0443\\u043c\", \"\\u043a\\u0443\\u043f\\u044e\\u0440\\u0430\", \"\\u043e\\u0431\\u0435\\u0434\", \"\\u0431\\u0430\\u043d\\u043a\\u043e\\u043c\\u0430\\u0442\", \"\\u0434\\u043e\\u043a\\u0443\\u043c\\u0435\\u043d\\u0442\", \"\\u0442\\u0432\\u0435\\u0440\\u0441\\u043a\\u043e\\u0439\", \"\\u043f\\u043b\\u0430\\u0442\\u0435\\u0436\", \"\\u0437\\u0430\\u0434\\u043e\\u043b\\u0436\\u0435\\u043d\\u043d\\u043e\\u0441\\u0442\\u044c\", \"\\u043a\\u0430\\u0440\\u0442\\u0430\", \"\\u0437\\u0430\\u044f\\u0432\\u043a\\u0430\", \"\\u043f\\u043e\\u0433\\u0430\\u0448\\u0435\\u043d\\u0438\\u0435\", \"\\u0448\\u0442\\u0440\\u0430\\u0444\", \"\\u0441\\u0443\\u043c\\u043c\\u0430\", \"\\u043f\\u0435\\u0440\\u0435\\u0440\\u044b\\u0432\", \"\\u043f\\u0440\\u043e\\u0446\\u0435\\u043d\\u0442\", \"\\u0440\\u0443\\u0431\", \"\\u0441\\u0434\\u0435\\u043b\\u043a\\u0430\", \"\\u0430\\u043d\\u043a\\u0435\\u0442\\u0430\", \"\\u043e\\u0431\\u043c\\u0435\\u043d\\u043d\\u0438\\u043a\", \"\\u043c\\u0435\\u0441\\u044f\\u0446\", \"\\u0434\\u043e\\u0433\\u043e\\u0432\\u043e\\u0440\", \"\\u0434\\u043e\\u043b\\u0433\", \"\\u043f\\u0440\\u043e\\u0441\\u0440\\u043e\\u0447\\u043a\\u0430\", \"\\u0432\\u043e\\u0441\\u0442\\u0440\\u0435\\u0431\\u043e\\u0432\\u0430\\u043d\\u0438\\u0435\", \"\\u043a\\u0430\\u0441\\u0441\\u0438\\u0440\\u0448\\u0430\", \"\\u043f\\u0440\\u043e\\u043b\\u043e\\u043d\\u0433\\u0430\\u0446\\u0438\\u044f\", \"\\u0431\\u0430\\u043a\\u0441\", \"\\u0442\\u0430\\u0433\\u0430\\u043d\\u043e\\u043a\", \"\\u043f\\u0440\\u0438\\u0445\\u043e\\u0434\\u043d\\u0438\\u043a\", \"\\u044e\\u0440\\u043b\\u0438\\u0446\\u0430\", \"\\u043a\\u0430\\u043f\\u0438\\u0442\\u0430\\u043b\\u0438\\u0437\\u0430\\u0446\\u0438\\u044f\", \"\\u043c\\u0435\\u0442\\u0440\", \"\\u0441\\u0442\\u043e\\u043b\\u0438\\u043a\", \"\\u043c\\u0430\\u0440\\u044c\\u0438\\u043d\\u043e\", \"\\u043b\\u0438\\u043d\\u0435\\u0439\\u043a\\u0430\", \"\\u043c\\u043e\\u043d\\u0435\\u0442\\u0430\", \"\\u0440\\u0430\\u0437\\u0434\\u0440\\u0430\\u0436\\u0435\\u043d\\u0438\\u0435\", \"\\u043b\\u043e\\u0436\\u043a\\u0430\", \"\\u0442\\u0435\\u0442\\u043a\\u0430\", \"\\u0433\\u043b\\u043e\\u0431\\u044d\\u043a\\u0441\", \"\\u0432\\u043e\\u0441\\u0442\\u043e\\u0440\\u0433\", \"\\u043f\\u0438\\u043a\", \"\\u0434\\u0435\\u0433\\u043e\\u0442\\u044c\", \"\\u043a\\u0441\\u0435\\u0440\\u043e\\u043a\\u0441\", \"\\u0445\\u0430\\u043b\\u044f\\u0432\\u0430\", \"\\u0432\\u0435\\u0440\\u043d\\u0430\\u0434\\u0441\\u043a\\u0438\\u0439\", \"\\u0440\\u0443\\u0431\\u043b\", \"\\u0437\\u0430\\u043f\\u0430\\u0434\", \"\\u043e\\u0434\\u043e\\u043b\\u0436\\u0435\\u043d\\u0438\\u0435\", \"\\u043c\\u0430\\u044f\\u043a\\u043e\\u0432\\u0441\\u043a\\u0430\\u044f\", \"\\u043f\\u0440\\u0438\\u043a\\u0430\\u0437\", \"\\u043f\\u043e\\u043b\\u0434\\u0435\\u043d\\u044c\", \"\\u0431\\u0443\\u0442\\u044b\\u043b\\u043a\\u0430\", \"\\u043e\\u0445\\u0440\\u0430\\u043d\\u043d\\u0438\\u043a\", \"\\u0442\\u043e\\u043b\\u043f\\u0430\", \"\\u0432\\u043a\\u043b\\u0430\\u0434\", \"\\u0434\\u0435\\u043f\\u043e\\u0437\\u0438\\u0442\", \"\\u0432\\u043a\\u043b\\u0430\\u0434\\u0447\\u0438\\u043a\", \"\\u043e\\u043a\\u043e\\u0448\\u043a\\u043e\", \"\\u043a\\u043e\\u043d\\u0432\\u0435\\u0440\\u0442\\u0430\\u0446\\u0438\\u044f\", \"\\u043f\\u043e\\u0441\\u0435\\u0442\\u0438\\u0442\\u0435\\u043b\\u044c\", \"\\u043a\\u0430\\u0441\\u0441\\u0438\\u0440\", \"\\u0434\\u0432\\u0435\\u0440\\u044c\", \"\\u043e\\u043f\\u0435\\u0440\\u0430\\u0446\\u0438\\u043e\\u043d\\u0438\\u0441\\u0442\\u043a\\u0430\", \"\\u0437\\u0430\\u043b\", \"\\u043d\\u0430\\u0440\\u043e\\u0434\", \"\\u043e\\u0447\\u0435\\u0440\\u0435\\u0434\\u044c\", \"\\u043f\\u043e\\u043c\\u0435\\u0449\\u0435\\u043d\\u0438\\u0435\", \"\\u043e\\u043a\\u043d\\u043e\", \"\\u043a\\u0430\\u0441\\u0441\\u0430\", \"\\u043d\\u0430\\u0434\\u0435\\u0436\\u043d\\u043e\\u0441\\u0442\\u044c\", \"\\u043f\\u0435\\u0440\\u0441\\u043e\\u043d\\u0430\\u043b\", \"\\u043e\\u043f\\u0435\\u0440\\u0430\\u0446\\u0438\\u043e\\u043d\\u0438\\u0441\\u0442\", \"\\u0432\\u0430\\u043b\\u044e\\u0442\\u0430\", \"\\u043e\\u0442\\u043a\\u0440\\u044b\\u0442\\u0438\\u0435\", \"\\u043c\\u0438\\u043d\\u0443\\u0442\\u0430\", \"\\u0441\\u0443\\u0431\\u0431\\u043e\\u0442\\u0430\", \"\\u0434\\u043e\\u043f\\u043e\\u0444\\u0438\\u0441\", \"\\u043e\\u0444\\u0438\\u0441\", \"\\u043e\\u0431\\u0441\\u043b\\u0443\\u0436\\u0438\\u0432\\u0430\\u043d\\u0438\\u0435\", \"\\u0432\\u043f\\u0435\\u0447\\u0430\\u0442\\u043b\\u0435\\u043d\\u0438\\u0435\", \"\\u0447\\u0430\\u0441\", \"\\u043e\\u0442\\u0434\\u0435\\u043b\\u0435\\u043d\\u0438\\u0435\", \"\\u0435\\u0432\\u0440\\u043e\", \"\\u043a\\u0443\\u0440\\u0441\", \"\\u0447\\u0435\\u043b\\u043e\\u0432\\u0435\\u043a\", \"\\u043a\\u043b\\u0438\\u0435\\u043d\\u0442\", \"\\u0440\\u0430\\u0431\\u043e\\u0442\\u0430\", \"\\u0434\\u0435\\u0432\\u0443\\u0448\\u043a\\u0430\", \"\\u0444\\u0438\\u043b\\u0438\\u0430\\u043b\", \"\\u043f\\u0440\\u043e\\u0446\\u0435\\u043d\\u0442\", \"\\u0432\\u0440\\u0435\\u043c\\u044f\", \"\\u0441\\u0442\\u0430\\u0432\\u043a\\u0430\", \"\\u0434\\u0435\\u043d\\u044c\\u0433\\u0438\", \"\\u0432\\u0441\", \"\\u0441\\u0447\\u0435\\u0442\", \"\\u043f\\u0435\\u0440\\u0435\\u0432\\u043e\\u0434\", \"\\u043a\\u0430\\u0440\\u0442\\u0430\", \"\\u0441\\u0430\\u0439\\u0442\", \"\\u0441\\u043e\\u0442\\u0440\\u0443\\u0434\\u043d\\u0438\\u043a\", \"\\u0432\\u043e\\u043f\\u0440\\u043e\\u0441\", \"\\u0431\\u0430\\u043d\\u043a\\u043e\\u043c\\u0430\\u0442\", \"\\u043a\\u0430\\u0440\\u0442\\u043e\\u0447\\u043a\\u0430\", \"\\u0442\\u0432\\u0435\\u0440\\u0441\\u043a\\u0430\\u044f\", \"\\u043f\\u043e\\u043b\\u044f\\u043d\\u043a\\u0430\", \"\\u0434\\u043e\\u043b\\u043b\", \"\\u044e\\u043d\\u0438\\u0441\\u0442\\u0440\\u0438\\u043c\", \"\\u043a\\u043e\\u043d\\u0442\\u0438\\u043d\\u0435\\u043d\\u0442\", \"\\u0444\\u0438\\u043d\\u0441\\u0435\\u0440\\u0432\\u0438\\u0441\", \"\\u0441\\u0438\\u0442\\u0438\\u0431\\u0430\\u043d\\u043a\\u0430\", \"\\u043a\\u043e\\u043d\\u043d\\u0435\\u043a\\u0442\", \"\\u044f\\u043a\\u0438\\u043c\\u0430\\u043d\\u043a\\u0430\", \"\\u0440\\u0430\\u0439\\u0444\\u0444\", \"\\u0432\\u0435\\u0441\\u0442\\u0435\\u0440\\u043d\", \"\\u0441\\u0430\\u0440\\u0430\\u0442\\u043e\\u0432\", \"\\u044e\\u043d\\u0438\\u043e\\u043d\", \"\\u0434\\u043c\\u0438\\u0442\\u0440\\u043e\\u0432\\u043a\\u0430\", \"\\u043a\\u0443\\u0440\\u0430\\u0442\\u043e\\u0440\", \"\\u043f\\u043e\\u0445\\u0432\\u0430\\u043b\\u0430\", \"\\u0437\\u0435\\u043b\\u0435\\u043d\\u043e\\u0433\\u0440\\u0430\\u0434\", \"\\u043f\\u0440\\u043e\\u0441\\u043b\\u0443\\u0448\\u0438\\u0432\\u0430\\u043d\\u0438\\u0435\", \"\\u0443\\u043a\\u0430\\u0437\\u0430\\u0442\\u0435\\u043b\\u044c\", \"\\u0431\\u0440\\u043e\\u0448\\u044e\\u0440\\u0430\", \"\\u043e\\u043f\\u0440\\u043e\\u0442\\u0435\\u0441\\u0442\\u043e\\u0432\\u0430\\u043d\\u0438\\u0435\", \"\\u0434\\u0438\\u043d\\u0430\\u043c\\u043e\", \"\\u0431\\u0443\\u043c\\u0430\\u0436\\u043d\\u0438\\u043a\", \"\\u043c\\u0430\\u043b\\u0438\\u043d\\u0430\", \"\\u043f\\u0440\\u0438\\u0432\\u0435\\u0442\\u0441\\u0442\\u0432\\u0438\\u0435\", \"\\u0436\\u0443\\u0442\\u044c\", \"\\u0440\\u0430\\u0439\\u0444\\u0430\\u0439\\u0437\\u0435\\u043d\\u0431\\u0430\\u043d\\u043a\", \"\\u0437\\u0430\\u0447\\u0435\\u0442\", \"\\u043e\\u0440\\u0434\\u044b\\u043d\\u043a\\u0430\", \"\\u043f\\u0440\\u0438\\u0435\\u043c\\u043d\\u0438\\u043a\", \"\\u0442\\u0440\\u0430\\u043d\\u0437\\u0430\\u043a\\u0446\\u0438\\u044f\", \"\\u043f\\u0438\\u043d\", \"\\u043a\\u043e\\u043d\\u0442\\u0440\\u0430\\u043a\\u0442\", \"\\u043f\\u0430\\u0440\\u043e\\u043b\\u044c\", \"\\u0430\\u044d\\u0440\\u043e\\u0444\\u043b\\u043e\\u0442\", \"\\u043f\\u0435\\u0440\\u0435\\u0432\\u044b\\u043f\\u0443\\u0441\\u043a\", \"\\u0441\\u0438\\u0442\\u0438\\u0431\\u0430\\u043d\\u043a\", \"\\u043a\\u043b\\u0438\\u043a\", \"\\u0431\\u043b\\u043e\\u043a\\u0438\\u0440\\u043e\\u0432\\u043a\\u0430\", \"\\u043a\\u043e\\u0434\", \"\\u043c\\u0435\\u0433\\u0430\\u0444\\u043e\\u043d\", \"\\u043f\\u0440\\u0438\\u0432\\u044f\\u0437\\u043a\\u0430\", \"\\u0431\\u0430\\u043d\\u043a\\u043e\\u043c\\u0430\\u0442\", \"\\u0431\\u0430\\u043b\\u0430\\u043d\\u0441\", \"\\u043a\\u0430\\u0440\\u0442\\u0430\", \"\\u043f\\u043e\\u0434\\u0434\\u0435\\u0440\\u0436\\u043a\\u0430\", \"\\u0447\\u0435\\u043a\", \"\\u043b\\u043e\\u0433\\u0438\\u043d\", \"\\u0432\\u044b\\u043f\\u0443\\u0441\\u043a\", \"\\u043f\\u043e\\u043b\\u0443\\u0447\\u0430\\u0442\\u0435\\u043b\\u044c\", \"\\u043a\\u0430\\u0440\\u0442\\u043e\\u0447\\u043a\\u0430\", \"\\u043e\\u043f\\u0435\\u0440\\u0430\\u0446\\u0438\\u044f\", \"\\u043a\\u043e\\u043d\\u0432\\u0435\\u0440\\u0442\", \"\\u043b\\u0438\\u043c\\u0438\\u0442\", \"\\u0438\\u043d\\u0442\\u0435\\u0440\\u043d\\u0435\\u0442\", \"\\u0437\\u0430\\u044f\\u0432\\u043b\\u0435\\u043d\\u0438\\u0435\", \"\\u0441\\u043c\\u0441\", \"\\u0430\\u043b\\u044c\\u0444\\u0430\", \"\\u043f\\u0440\\u0435\\u0442\\u0435\\u043d\\u0437\\u0438\\u044f\", \"\\u0434\\u0435\\u043d\\u044c\\u0433\\u0438\", \"\\u0441\\u0431\\u0435\\u0440\\u0431\\u0430\\u043d\\u043a\", \"\\u0441\\u0440\\u0435\\u0434\\u0441\\u0442\\u0432\\u043e\", \"\\u0441\\u0431\\u043e\\u0439\", \"\\u0441\\u0447\\u0435\\u0442\", \"\\u0441\\u043d\\u044f\\u0442\\u0438\\u0435\", \"\\u0441\\u043b\\u0443\\u0436\\u0431\\u0430\", \"\\u0443\\u0441\\u043b\\u0443\\u0433\\u0430\", \"\\u043d\\u0435\\u0434\\u0435\\u043b\\u044f\", \"\\u043e\\u043f\\u0435\\u0440\\u0430\\u0442\\u043e\\u0440\", \"\\u0446\\u0435\\u043d\\u0442\\u0440\", \"\\u043f\\u0440\\u043e\\u0431\\u043b\\u0435\\u043c\\u0430\", \"\\u0441\\u0438\\u0441\\u0442\\u0435\\u043c\\u0430\", \"\\u0434\\u0435\\u043d\\u044c\", \"\\u043e\\u0442\\u0434\\u0435\\u043b\\u0435\\u043d\\u0438\\u0435\", \"\\u043a\\u043e\\u043c\\u0438\\u0441\\u0441\\u0438\\u044f\", \"\\u043c\\u0435\\u0441\\u044f\\u0446\", \"\\u0440\\u0443\\u0431\\u043b\\u044c\", \"\\u043f\\u0435\\u0440\\u0435\\u0432\\u043e\\u0434\", \"\\u043e\\u0442\\u0432\\u0435\\u0442\", \"\\u0441\\u0443\\u043c\\u043c\\u0430\", \"\\u0442\\u0435\\u043b\\u0435\\u0444\\u043e\\u043d\", \"\\u043f\\u0440\\u043e\\u0432\\u043e\\u043b\\u043e\\u0447\\u043a\\u0430\", \"\\u0444\\u0438\\u043d\\u0430\\u043d\\u0441\", \"\\u0432\\u043e\\u043b\\u043e\\u043a\\u0438\\u0442\\u0430\", \"\\u0430\\u0448\\u0430\\u043d\", \"\\u043a\\u043b\\u0435\\u0440\\u043a\", \"\\u043b\\u0435\\u043d\\u0442\\u0430\", \"\\u0441\\u043e\\u043a\\u043e\\u043b\\u044c\\u043d\\u0438\\u043a\\u0438\", \"\\u0430\\u0432\\u0442\\u043e\\u0438\\u043d\\u0444\\u043e\\u0440\\u043c\\u0430\\u0442\\u043e\\u0440\", \"\\u0441\\u043f\\u0435\\u043a\\u0442\\u0440\", \"\\u0440\\u0435\\u0434\\u043a\\u043e\\u0441\\u0442\\u044c\", \"\\u0440\\u0435\\u0441\\u0435\\u043f\\u0448\\u043d\", \"\\u0440\\u0430\\u0441\\u043f\\u0438\\u0441\\u043a\\u0430\", \"\\u043a\\u043e\\u043d\\u0442\\u0440\\u043e\\u043b\\u0435\\u0440\", \"\\u043d\\u043e\\u0432\\u0438\\u0447\\u043e\\u043a\", \"\\u0440\\u0443\\u0441\\u044c\", \"\\u043f\\u0440\\u0430\\u0432\\u043b\\u0435\\u043d\\u0438\\u0435\", \"\\u043f\\u043e\\u0434\\u043c\\u043e\\u0441\\u043a\\u043e\\u0432\\u044c\\u0435\", \"\\u0432\\u0440\\u0430\\u0433\", \"\\u0432\\u0443\\u0437\", \"\\u0431\\u0440\\u043e\\u043a\\u0435\\u0440\", \"\\u043f\\u0440\\u0438\\u044f\\u0442\\u0435\\u043b\\u044c\", \"\\u043f\\u0430\\u043b\\u0430\\u0442\\u0430\", \"\\u043f\\u0440\\u0435\\u0441\\u043d\\u044f\", \"\\u043f\\u043e\\u0440\\u0442\\u0444\\u0435\\u043b\\u044c\", \"\\u043f\\u0440\\u043e\\u0432\\u043e\\u0434\\u043a\\u0430\", \"\\u0431\\u0438\\u043d\\u0430\", \"\\u043a\\u043e\\u0440\\u0440\\u0435\\u0441\\u043f\\u043e\\u043d\\u0434\\u0435\\u043d\\u0446\\u0438\\u044f\", \"\\u043d\\u0435\\u0442\\u0435\\u0440\\u043f\\u0435\\u043d\\u0438\\u0435\", \"\\u0437\\u0430\\u043a\\u043b\\u0430\\u0434\\u043d\\u0430\\u044f\", \"\\u0441\\u0442\\u043e\\u043f\\u043a\\u0430\", \"\\u043a\\u0430\\u0434\\u0440\\u044b\", \"\\u0431\\u0440\\u0430\\u0442\", \"\\u0442\\u0435\\u043b\\u0435\\u0432\\u0438\\u0437\\u043e\\u0440\", \"\\u043a\\u043e\\u043e\\u0440\\u0434\\u0438\\u043d\\u0430\\u0442\\u0430\", \"\\u0443\\u043a\\u0440\\u0430\\u0438\\u043d\\u0430\", \"\\u043c\\u0438\\u043b\\u0438\\u0446\\u0438\\u044f\", \"\\u043e\\u043a\\u0441\\u0430\\u043d\\u0430\", \"\\u0441\\u0435\\u0441\\u0442\\u0440\\u0430\", \"\\u0431\\u0443\\u043a\\u043b\\u0435\\u0442\", \"\\u043d\\u0430\\u0441\\u0435\\u043b\\u0435\\u043d\\u0438\\u0435\", \"\\u0437\\u0430\\u043a\\u043e\\u043d\", \"\\u0440\\u043e\\u043b\\u044c\", \"\\u0434\\u043e\\u0431\\u0440\\u043e\\u0436\\u0435\\u043b\\u0430\\u0442\\u0435\\u043b\\u044c\\u043d\\u043e\\u0441\\u0442\\u044c\", \"\\u0443\\u043b\\u044b\\u0431\\u043a\\u0430\", \"\\u0441\\u0442\\u043e\\u0439\\u043a\\u0430\", \"\\u043f\\u0440\\u0435\\u0434\\u0441\\u0442\\u0430\\u0432\\u0438\\u0442\\u0435\\u043b\\u044c\\u0441\\u0442\\u0432\\u043e\", \"\\u043c\\u0430\\u043c\\u0430\", \"\\u043c\\u0430\\u0442\\u044c\", \"\\u0441\\u0442\\u0430\\u0442\\u044c\\u044f\", \"\\u0441\\u0443\\u0434\", \"\\u0441\\u044b\\u043d\", \"\\u043f\\u0440\\u0430\\u0432\\u043e\", \"\\u0440\\u0444\", \"\\u0440\\u0435\\u043d\\u0435\\u0441\\u0441\\u0430\\u043d\\u0441\", \"\\u0437\\u0432\\u043e\\u043d\\u043e\\u043a\", \"\\u043f\\u0440\\u043e\\u0444\\u0435\\u0441\\u0441\\u0438\\u043e\\u043d\\u0430\\u043b\", \"\\u043e\\u0442\\u0434\\u0435\\u043b\", \"\\u043f\\u0438\\u0441\\u044c\\u043c\\u043e\", \"\\u0442\\u0435\\u043b\\u0435\\u0444\\u043e\\u043d\", \"\\u0430\\u0432\\u0442\\u043e\\u043e\\u0442\\u0432\\u0435\\u0442\\u0447\\u0438\\u043a\", \"\\u0442\\u0440\\u0435\\u0431\\u043e\\u0432\\u0430\\u043d\\u0438\\u0435\", \"\\u0447\\u0435\\u043b\\u043e\\u0432\\u0435\\u043a\", \"\\u043a\\u0440\\u0435\\u0434\\u0438\\u0442\", \"\\u043d\\u043e\\u043c\\u0435\\u0440\", \"\\u0441\\u043e\\u0442\\u0440\\u0443\\u0434\\u043d\\u0438\\u043a\", \"\\u0442\\u0440\\u0443\\u0431\\u043a\\u0430\", \"\\u0434\\u043e\\u0433\\u043e\\u0432\\u043e\\u0440\", \"\\u0434\\u043e\\u043a\\u0443\\u043c\\u0435\\u043d\\u0442\", \"\\u0431\\u0435\\u0437\\u043e\\u043f\\u0430\\u0441\\u043d\\u043e\\u0441\\u0442\\u044c\", \"\\u0440\\u0430\\u0437\\u0433\\u043e\\u0432\\u043e\\u0440\", \"\\u043a\\u043b\\u0438\\u0435\\u043d\\u0442\", \"\\u0430\\u043b\\u044c\\u0444\\u0430\", \"\\u0430\\u0434\\u0440\\u0435\\u0441\", \"\\u043f\\u0430\\u0441\\u043f\\u043e\\u0440\\u0442\", \"\\u0434\\u0435\\u043b\\u043e\", \"\\u0438\\u043c\\u044f\", \"\\u043e\\u0442\\u043d\\u043e\\u0448\\u0435\\u043d\\u0438\\u0435\", \"\\u043b\\u0438\\u0446\\u043e\", \"\\u043e\\u0442\\u0432\\u0435\\u0442\", \"\\u0433\\u043e\\u0434\", \"\\u0432\\u043e\\u043f\\u0440\\u043e\\u0441\", \"\\u0440\\u0430\\u0431\\u043e\\u0442\\u0430\", \"\\u0437\\u0430\\u044f\\u0432\\u043b\\u0435\\u043d\\u0438\\u0435\", \"\\u0438\\u043d\\u0444\\u043e\\u0440\\u043c\\u0430\\u0446\\u0438\\u044f\", \"\\u0433\", \"\\u0431\\u0430\\u043d\\u043a\", \"\\u0444\\u0438\\u043d\\u0430\\u043d\\u0441\\u0431\\u0430\\u043d\\u043a\", \"\\u0433\\u0440\\u0443\\u0431\\u043e\\u0441\\u0442\\u044c\", \"\\u043c\\u0431\\u0440\\u0440\", \"\\u043a\\u0430\\u0434\\u0440\", \"\\u043c\\u043e\\u0441\\u043a\\u043e\\u043c\\u043f\\u0440\\u0438\\u0432\\u0430\\u0442\\u0431\\u0430\\u043d\\u043a\", \"\\u043a\\u0438\\u0442\", \"\\u0437\\u0430\\u0434\\u043e\\u043b\\u0436\\u043d\\u043e\\u0441\\u0442\\u044c\", \"\\u043a\\u0430\\u0440\\u0434\\u0430\", \"\\u0437\\u0435\\u043c\\u043b\\u044f\", \"\\u0438\\u043d\\u0432\\u0435\\u0441\\u0442\\u0441\\u0431\\u0435\\u0440\\u0431\\u0430\\u043d\\u043a\", \"\\u0438\\u0433\\u043e\\u0440\\u044c\", \"\\u043f\\u0440\\u043e\\u0446\\u0435\\u0441\\u0441\\u0438\\u043d\\u0433\", \"\\u0447\\u0435\\u0442\\u0432\\u0435\\u0440\\u043a\\u0430\", \"\\u043d\\u0435\\u043e\\u0441\\u0442\\u043e\\u0440\\u043e\\u0436\\u043d\\u043e\\u0441\\u0442\\u044c\", \"\\u043f\\u0440\\u0438\\u0432\\u0430\\u0442\", \"\\u043d\\u0435\\u0431\\u043e\", \"\\u0431\\u0430\\u0440\\u043a\\u043b\\u0430\\u0439\\u0441\", \"\\u043c\\u043e\\u043d\\u0441\\u0442\\u0440\", \"\\u0441\\u0442\\u0440\\u043e\\u0438\\u0442\\u0435\\u043b\\u044c\\u0441\\u0442\\u0432\\u043e\", \"\\u043f\\u0440\\u0438\\u0432\\u0430\\u0442\\u0431\\u0430\\u043d\\u043a\", \"\\u0438\\u043a\\u0435\\u0430\", \"\\u043c\\u0435\\u0436\\u0433\\u043e\\u0440\\u043e\\u0434\", \"\\u0430\\u043c\\u0435\\u0440\\u0438\\u043a\\u0430\", \"\\u044d\\u043a\\u0441\\u043f\\u043e\\u0431\\u0430\\u043d\\u043a\", \"\\u043f\\u0430\\u0440\\u043a\\u043e\\u0432\\u043a\\u0430\", \"\\u043f\\u0440\\u0438\\u0437\\u043d\\u0430\\u0442\\u0435\\u043b\\u044c\\u043d\\u043e\\u0441\\u0442\\u044c\", \"\\u0430\\u0432\\u0442\\u043e\\u043c\\u0430\\u0442\\u0438\\u0437\\u0430\\u0446\\u0438\\u044f\", \"\\u0433\\u0435\\u043d\", \"\\u043f\\u0435\\u0440\\u0435\\u043a\\u0440\\u0435\\u0434\\u0438\\u0442\\u043e\\u0432\\u0430\\u043d\\u0438\\u0435\", \"\\u0444\\u043e\\u0440\\u0441\", \"\\u0443\\u0440\\u0441\\u0430\", \"\\u044d\\u043b\\u044c\\u0434\\u043e\\u0440\\u0430\\u0434\\u043e\", \"\\u043a\\u0435\\u0431\", \"\\u0448\\u0442\\u0440\\u0430\\u0444\", \"\\u043f\\u043e\\u0433\\u0430\\u0448\\u0435\\u043d\\u0438\\u0435\", \"\\u0437\\u0430\\u0434\\u043e\\u043b\\u0436\\u0435\\u043d\\u043d\\u043e\\u0441\\u0442\\u044c\", \"\\u043f\\u0440\\u043e\\u0441\\u0440\\u043e\\u0447\\u043a\\u0430\", \"\\u043a\\u0443\\u043b\\u044c\\u0442\\u0443\\u0440\\u0430\", \"\\u0434\\u043e\\u043b\\u0433\", \"\\u043f\\u0435\\u0440\\u0435\\u043f\\u043b\\u0430\\u0442\\u0430\", \"\\u0431\\u044e\\u0440\\u043e\", \"\\u0433\\u0440\\u0430\\u0444\\u0438\\u043a\", \"\\u043f\\u043b\\u0430\\u0442\\u0435\\u0436\", \"\\u0430\\u0440\\u0431\\u0430\\u0442\", \"\\u043a\\u0440\\u0435\\u0434\\u0438\\u0442\", \"\\u0440\\u0443\\u0431\", \"\\u0441\\u0443\\u043c\\u043c\\u0430\", \"\\u0441\\u043e\\u0432\\u043e\\u043a\", \"\\u043f\\u0440\\u043e\\u0446\\u0435\\u043d\\u0442\", \"\\u043c\\u0435\\u0441\\u044f\\u0446\", \"\\u0440\\u0443\\u0431\\u043b\\u044c\", \"\\u043a\\u043e\\u043f\\u0435\\u0439\\u043a\\u0430\", \"\\u0434\\u043e\\u0433\\u043e\\u0432\\u043e\\u0440\", \"\\u0432\\u044b\\u043f\\u0438\\u0441\\u043a\\u0430\", \"\\u0441\\u043f\\u0440\\u0430\\u0432\\u043a\\u0430\", \"\\u0438\\u0441\\u0442\\u043e\\u0440\\u0438\\u044f\", \"\\u0433\\u043e\\u0434\", \"\\u0447\\u0438\\u0441\\u043b\\u043e\", \"\\u0441\\u0447\\u0435\\u0442\", \"\\u0434\\u0430\\u0442\\u0430\", \"\\u043e\\u043f\\u043b\\u0430\\u0442\\u0430\", \"\\u043f\\u0438\\u0441\\u044c\\u043c\\u043e\", \"\\u0437\\u0430\\u043a\\u0440\\u044b\\u0442\\u0438\\u0435\", \"\\u0437\\u0430\\u044f\\u0432\\u043b\\u0435\\u043d\\u0438\\u0435\", \"\\u0440\\u0430\\u0437\\u043c\\u0435\\u0440\", \"\\u043a\\u0430\\u0440\\u0442\\u0430\", \"\\u0433\", \"\\u043a\\u043e\\u043c\\u0438\\u0441\\u0441\\u0438\\u044f\", \"\\u0434\\u0435\\u043d\\u044c\", \"\\u0434\\u0435\\u043d\\u044c\\u0433\\u0438\", \"\\u0441\\u043e\\u0442\\u0440\\u0443\\u0434\\u043d\\u0438\\u043a\", \"\\u0430\\u0432\\u0442\\u043e\\u0441\\u0430\\u043b\\u043e\\u043d\", \"\\u0430\\u0431\\u0441\\u043e\\u043b\\u044e\\u0442\", \"\\u0441\\u043e\\u0431\\u0438\\u043d\\u0431\\u0430\\u043d\\u043a\", \"\\u0433\\u0443\\u0442\\u0430\", \"\\u0434\\u0435\\u043b\\u044c\\u0442\\u0430\", \"\\u044d\\u043a\\u043e\\u043d\\u043e\\u043c\\u0438\\u0441\\u0442\", \"\\u043c\\u0435\\u0433\\u0430\", \"\\u043a\\u0430\\u0437\\u043d\\u0430\", \"\\u0430\\u0432\\u0442\\u043e\\u043a\\u0440\\u0435\\u0434\\u0438\\u0442\\u043e\\u0432\\u0430\\u043d\\u0438\\u0435\", \"\\u0432\\u044b\\u0441\\u043a\\u0430\\u0437\\u044b\\u0432\\u0430\\u043d\\u0438\\u0435\", \"\\u043a\\u043e\\u043d\\u0434\\u0438\\u0446\\u0438\\u043e\\u043d\\u0435\\u0440\", \"\\u043c\\u0435\\u0431\\u0435\\u043b\\u044c\", \"\\u0437\\u0430\\u0441\\u0442\\u0440\\u043e\\u0439\\u0449\\u0438\\u043a\", \"\\u043a\\u0440\\u0435\\u0441\\u043b\\u043e\", \"\\u0433\\u0435\\u0440\\u043c\\u0430\\u043d\\u0438\\u044f\", \"\\u044f\\u0447\\u0435\\u0439\\u043a\\u0430\", \"\\u0434\\u0435\\u043f\\u043e\\u0437\\u0438\\u0442\\u0430\\u0440\\u0438\\u0439\", \"\\u0440\\u0430\\u0441\\u0445\\u043e\\u0434\\u043d\\u0438\\u043a\", \"\\u0434\\u0443\\u0445\\u043e\\u0442\\u0430\", \"\\u043a\\u043e\\u043c\\u043f\\u043b\\u0435\\u043a\\u0441\", \"\\u043a\\u043b\\u0443\\u0431\", \"\\u043f\\u0440\\u0438\\u0437\", \"\\u0440\\u043e\\u0437\\u044b\\u0433\\u0440\\u044b\\u0448\", \"\\u043d\\u0435\\u043e\\u0445\\u043e\\u0442\\u0430\", \"\\u0443\\u043d\\u0438\\u0432\\u0435\\u0440\\u0441\\u0438\\u0442\\u0435\\u0442\", \"\\u0434\\u0435\\u043b\\u044c\\u0442\\u0430\\u043a\\u0440\\u0435\\u0434\\u0438\\u0442\", \"\\u0443\\u0431\\u043e\\u0440\\u0449\\u0438\\u0446\\u0430\", \"\\u043c\\u043e\\u0440\\u0430\\u0442\\u043e\\u0440\\u0438\\u0439\", \"\\u0434\\u0438\\u043b\\u0435\\u0440\", \"\\u0440\\u0435\\u0439\\u0441\", \"\\u043d\\u0430\\u0431\\u0435\\u0440\\u0435\\u0436\\u043d\\u0430\\u044f\", \"\\u043a\\u0430\\u0441\\u043a\\u043e\", \"\\u0445\\u0430\\u043c\", \"\\u0441\\u0434\\u0435\\u043b\\u043a\\u0430\", \"\\u043f\\u043e\\u043b\\u0438\\u0441\", \"\\u0430\\u0432\\u0442\\u043e\\u043c\\u043e\\u0431\\u0438\\u043b\\u044c\", \"\\u043a\\u0443\\u043f\\u043b\\u044f\", \"\\u0440\\u0435\\u0441\\u043f\\u0435\\u043a\\u0442\", \"\\u0437\\u0430\\u043b\\u043e\\u0433\", \"\\u043f\\u043e\\u0440\\u0443\\u0447\\u0438\\u0442\\u0435\\u043b\\u044c\", \"\\u0430\\u0432\\u0442\\u043e\", \"\\u0438\\u043d\\u0441\\u043f\\u0435\\u043a\\u0442\\u043e\\u0440\", \"\\u043a\\u0432\\u0430\\u0440\\u0442\\u0438\\u0440\\u0430\", \"\\u0441\\u0442\\u0440\\u0430\\u0445\\u043e\\u0432\\u043a\\u0430\", \"\\u043d\\u0434\\u0444\\u043b\", \"\\u0438\\u043f\\u043e\\u0442\\u0435\\u043a\\u0430\", \"\\u0430\\u0432\\u0442\\u043e\\u043a\\u0440\\u0435\\u0434\\u0438\\u0442\", \"\\u043c\\u0430\\u0448\\u0438\\u043d\\u0430\", \"\\u0441\\u0430\\u043b\\u043e\\u043d\", \"\\u0434\\u043e\\u043a\\u0443\\u043c\\u0435\\u043d\\u0442\", \"\\u0441\\u0442\\u0440\\u0430\\u0445\\u043e\\u0432\\u0430\\u043d\\u0438\\u0435\", \"\\u0437\\u0430\\u044f\\u0432\\u043a\\u0430\", \"\\u043a\\u0440\\u0435\\u0434\\u0438\\u0442\", \"\\u043f\\u0440\\u043e\\u0434\\u0430\\u0432\\u0435\\u0446\", \"\\u0430\\u043d\\u043a\\u0435\\u0442\\u0430\", \"\\u0434\\u043e\\u0445\\u043e\\u0434\", \"\\u043c\\u0435\\u043d\\u0435\\u0434\\u0436\\u0435\\u0440\", \"\\u0441\\u043f\\u0440\\u0430\\u0432\\u043a\\u0430\", \"\\u043e\\u0434\\u043e\\u0431\\u0440\\u0435\\u043d\\u0438\\u0435\", \"\\u0440\\u0430\\u0441\\u0441\\u043c\\u043e\\u0442\\u0440\\u0435\\u043d\\u0438\\u0435\", \"\\u0440\\u0435\\u0448\\u0435\\u043d\\u0438\\u0435\", \"\\u0441\\u0442\\u0430\\u0432\\u043a\\u0430\", \"\\u0443\\u0441\\u043b\\u043e\\u0432\\u0438\\u0435\", \"\\u0441\\u0438\\u0442\\u0438\", \"\\u0434\\u043e\\u0433\\u043e\\u0432\\u043e\\u0440\", \"\\u043e\\u0444\\u043e\\u0440\\u043c\\u043b\\u0435\\u043d\\u0438\\u0435\", \"\\u043d\\u0435\\u0434\\u0435\\u043b\\u044f\", \"\\u0434\\u0435\\u043d\\u044c\", \"\\u043a\\u0440\\u0435\\u0434\\u0438\\u0442\\u043e\\u0432\\u0430\\u043d\\u0438\\u0435\", \"\\u044d\\u043b\\u0435\\u043a\\u0442\\u0440\\u043e\\u043d\", \"\\u0441\\u0435\\u0440\\u0432\\u0435\\u0440\", \"\\u0432\\u043e\\u0437\\u0440\\u043e\\u0436\\u0434\\u0435\\u043d\\u0438\\u0435\", \"\\u0437\\u0430\\u0433\\u0440\\u0430\\u043d\\u043f\\u0430\\u0441\\u043f\\u043e\\u0440\\u0442\", \"\\u0437\\u0430\\u043f\\u0440\\u0430\\u0432\\u043a\\u0430\", \"\\u0434\\u0435\\u0432\\u0447\\u043e\\u043d\\u043a\\u0430\", \"\\u0445\\u0440\\u0435\\u043d\", \"\\u0433\\u0440\\u0430\\u0444\", \"\\u043f\\u043e\\u0441\\u043e\\u043b\\u044c\\u0441\\u0442\\u0432\\u043e\", \"\\u043a\\u043b\\u0438\\u043a\\u0430\", \"\\u0433\\u0435\\u043c\\u043e\\u0440\\u0440\\u043e\\u0439\", \"\\u0438\\u043a\\u0435\\u044f\", \"\\u043c\\u043e\\u0441\\u0442\", \"\\u043f\\u0435\\u0440\\u0435\\u043a\\u0440\\u0435\\u0441\\u0442\\u043e\\u043a\", \"\\u043d\\u0430\\u0434\\u0443\\u0432\\u0430\\u0442\\u0435\\u043b\\u044c\\u0441\\u0442\\u0432\\u043e\", \"\\u043e\\u0434\\u0435\\u0436\\u0434\\u0430\", \"\\u0441\\u0446\\u0435\\u043d\\u0430\", \"\\u0438\\u043d\\u0432\\u0435\\u0441\\u0442\", \"\\u043e\\u043a\\u0435\\u0430\\u043d\", \"\\u043a\\u0438\\u043f\\u0430\", \"\\u0437\\u0430\\u0445\\u043e\\u0434\", \"\\u0432\\u0430\\u043b\\u0435\\u0440\\u0438\\u0439\", \"\\u0437\\u0430\\u043c\\u0435\\u0448\\u0430\\u0442\\u0435\\u043b\\u044c\\u0441\\u0442\\u0432\\u043e\", \"\\u043c\\u0430\\u043d\\u0430\\u0433\\u0435\\u0440\", \"\\u043f\\u044f\\u0442\\u0430\", \"\\u0438\\u0437\\u0432\\u0435\\u0449\\u0435\\u043d\\u0438\\u0435\", \"\\u043b\\u043e\\u0437\\u0443\\u043d\\u0433\", \"\\u0444\\u0440\\u0443\\u043d\\u0437\\u0435\", \"\\u0445\\u043e\\u043b\\u0434\", \"\\u0438\\u043d\\u0432\\u0435\\u0441\\u0442\\u0442\\u043e\\u0440\\u0433\\u0431\\u0430\\u043d\\u043a\", \"\\u043f\\u0440\\u0438\\u043a\\u043e\\u043b\", \"\\u043a\\u043b\\u0430\\u0441\\u0441\\u0438\\u043a\\u0430\", \"\\u0433\\u0440\\u0435\\u0439\\u0441\", \"\\u0433\\u0440\\u0430\\u0444\\u0430\", \"\\u043f\\u0435\\u0440\\u0435\\u043a\\u043b\\u044e\\u0447\\u0435\\u043d\\u0438\\u0435\", \"\\u0440\\u0435\\u0441\\u0442\\u043e\\u0440\\u0430\\u043d\", \"\\u043b\\u043e\\u0433\\u043e\\u0442\\u0438\\u043f\", \"\\u0430\\u0432\\u0430\\u043d\\u0433\\u0430\\u0440\\u0434\", \"\\u043f\\u043e\\u043b\\u0443\\u0447\\u0430\\u0441\", \"\\u043f\\u0440\\u043e\\u0433\\u0440\\u0430\\u043c\\u043c\\u0438\\u0441\\u0442\", \"\\u0448\\u0442\\u0430\\u043c\\u043f\", \"\\u0430\\u0432\\u0442\\u043e\\u0440\\u0438\\u0437\\u0430\\u0446\\u0438\\u044f\", \"\\u043c\\u0438\\u043d\\u0438\", \"\\u0431\\u0443\\u043b\\u044c\\u0432\\u0430\\u0440\", \"\\u043f\\u043b\\u0430\\u0441\\u0442\\u0438\\u043a\\u0430\", \"\\u0441\\u043a\\u0438\\u0434\\u043a\\u0430\", \"\\u043c\\u0435\\u043b\\u043e\\u0447\\u044c\", \"\\u0442\\u0432\\u0435\\u0440\\u0441\\u043a\\u043e\\u0439\", \"\\u043a\\u043e\\u043c\\u0438\\u0442\\u0435\\u0442\", \"\\u043f\\u0430\\u0439\", \"\\u0430\\u0431\\u0430\", \"\\u043d\\u043e\\u0442\\u0430\\u0440\\u0438\\u0443\\u0441\", \"\\u0434\\u0436\\u0438\\u044f\", \"\\u0431\\u0430\\u043d\\u043a\\u043d\\u043e\\u0442\\u0430\", \"\\u0440\\u043e\\u0434\\u0438\\u043d\\u0430\", \"\\u043f\\u043e\\u043a\\u0440\\u043e\\u0432\\u043a\\u0430\", \"\\u0440\\u043e\\u0436\\u0434\\u0435\\u0441\\u0442\\u0432\\u0435\\u043d\\u0441\\u043a\\u0438\\u0439\", \"\\u0431\\u0430\\u0440\\u0441\", \"\\u0431\\u0430\\u0431\\u043a\\u0430\", \"\\u044d\\u043a\\u0441\\u043f\\u0435\\u0440\\u0438\\u043c\\u0435\\u043d\\u0442\", \"\\u043e\\u0440\\u0435\\u043b\", \"\\u0438\\u0441\\u0442\\u0435\\u0440\\u0438\\u043a\\u0430\", \"\\u043b\\u043e\\u0445\\u043e\\u0442\\u0440\\u043e\\u043d\", \"\\u043f\\u0443\\u0441\\u0442\\u044f\\u0447\\u043e\\u043a\", \"\\u043f\\u043b\\u0430\\u043a\\u0430\\u0442\", \"\\u0434\\u044f\\u0434\\u044f\", \"\\u043b\\u0438\\u0441\\u0442\\u043e\\u0432\\u043a\\u0430\", \"\\u0440\\u0430\\u0431\\u043e\\u0442\\u043e\\u0441\\u043f\\u043e\\u0441\\u043e\\u0431\\u043d\\u043e\\u0441\\u0442\\u044c\", \"\\u0434\\u0438\\u0440\\u0435\\u043a\\u0442\", \"\\u0440\\u0430\\u0441\\u0448\\u0438\\u0440\\u0435\\u043d\\u0438\\u0435\", \"\\u0433\\u0430\\u0433\\u0430\\u0440\\u0438\\u043d\", \"\\u0436\\u0443\\u043a\\u043e\\u0432\", \"\\u043d\\u0430\\u0441\\u043b\\u0435\\u0434\\u0441\\u0442\\u0432\\u043e\", \"\\u0433\\u0440\\u0430\\u0431\\u0435\\u0436\", \"\\u0444\\u043e\\u043a\\u0443\\u0441\", \"\\u043d\\u0430\\u0431\", \"\\u0430\\u043d\\u0435\\u043a\\u0434\\u043e\\u0442\", \"\\u0434\\u043e\\u043d\", \"\\u0440\\u043e\\u0441\\u0442\\u043e\\u0432\", \"\\u0447\\u0435\\u043b\\u044f\\u0431\\u0438\\u043d\\u0441\\u043a\", \"\\u0433\\u043e\\u0440\\u0430\", \"\\u0446\\u0435\\u043d\\u0442\", \"\\u0441\\u0442\\u043e\\u043b\\u0438\\u0446\\u0430\", \"\\u043e\\u0445\\u0440\\u0430\\u043d\\u0430\", \"\\u0441\\u0431\\u0435\\u0440\\u043a\\u043d\\u0438\\u0436\\u043a\\u0430\", \"\\u0441\\u0438\\u0442\\u0438\\u0444\\u043e\\u043d\", \"\\u044e\\u043d\\u0438\\u0430\\u0441\\u0442\\u0440\\u0443\\u043c\", \"\\u044d\\u043a\\u0441\\u043f\\u0435\\u0440\\u0442\", \"\\u043f\\u0440\\u043e\\u0431\\u0438\\u0437\\u043d\\u0435\\u0441\\u0431\\u0430\\u043d\\u043a\", \"\\u0440\\u0430\\u0439\\u0444\\u0430\", \"\\u0444\\u0438\\u0437\\u0438\\u043a\", \"\\u0444\\u0438\\u0437\\u043b\\u0438\\u0446\\u043e\", \"\\u0440\\u0430\\u0439\\u0444\", \"\\u0444\\u0438\\u0437\\u043b\\u0438\\u0446\", \"\\u0443\\u0444\\u0430\", \"\\u044e\\u0440\\u0438\\u043a\", \"\\u043b\\u043e\\u0442\\u043e\\u043a\", \"\\u0436\\u0435\\u043b\\u0430\\u044e\\u0449\\u0438\\u0439\", \"\\u043e\\u043c\", \"\\u0441\\u0430\\u043f\\u043f\\u043e\\u0440\\u0442\", \"\\u043a\\u043e\\u0440\\u043e\\u043b\\u0435\\u0432\\u0430\", \"\\u0442\\u043e\\u043a\", \"\\u0442\\u0440\\u0443\\u0431\\u0430\", \"\\u044f\\u0432\\u043b\\u0435\\u043d\\u0438\\u0435\", \"\\u043f\\u0440\\u043e\\u0441\\u0442\\u043e\\u0442\\u0430\", \"\\u043f\\u044f\\u0442\\u043d\\u0438\\u0446\\u043a\\u0430\\u044f\", \"\\u043d\\u0435\\u043f\\u043e\\u043d\\u044f\\u0442\\u043a\\u0430\", \"\\u0438\\u0442\\u0430\\u043b\\u0438\\u044f\", \"\\u0444\\u0443\\u043d\\u0442\", \"\\u0441\\u0442\\u0430\\u0440\\u0443\\u0448\\u043a\\u0430\", \"\\u043c\\u0430\\u0440\\u043a\\u0430\", \"\\u0444\\u0443\\u043d\\u043a\\u0446\\u0438\\u043e\\u043d\\u0430\\u043b\\u044c\\u043d\\u043e\\u0441\\u0442\\u044c\", \"\\u043a\\u0443\\u0445\\u043d\\u044f\", \"\\u0444\\u0438\\u0437\\u0438\\u043a\\u0430\", \"\\u043a\\u043d\\u043e\\u043f\\u043e\\u0447\\u043a\\u0430\", \"\\u0441\\u0430\\u043c\\u043e\\u043e\\u0431\\u0441\\u043b\\u0443\\u0436\\u0438\\u0432\\u0430\\u043d\\u0438\\u0435\", \"\\u043c\\u0430\\u043b\\u044c\\u0447\\u0438\\u043a\", \"\\u0441\\u0438\\u0442\\u0438\", \"\\u043d\\u043e\\u0432\\u043e\\u0441\\u0438\\u0431\\u0438\\u0440\\u0441\\u043a\", \"\\u0436\\u0443\\u0440\\u043d\\u0430\\u043b\", \"\\u043a\\u0440\\u0438\\u0442\\u0435\\u0440\\u0438\\u0439\", \"\\u043f\\u0440\\u0438\\u0432\\u044b\\u0447\\u043a\\u0430\", \"\\u0443\\u0440\\u0430\\u043b\\u0441\\u0438\\u0431\", \"\\u043f\\u043e\\u0434\\u0440\\u0443\\u0433\\u0430\", \"\\u043c\\u043e\\u0431\\u0438\\u043b\\u044c\\u043d\\u0438\\u043a\", \"\\u0431\\u0435\\u0439\\u0434\\u0436\\u0438\\u043a\", \"\\u0441\\u0438\\u0442\\u0438\\u0431\\u0430\\u043d\\u043a\", \"\\u0430\\u0434\\u043c\\u0438\\u043d\", \"\\u0441\\u0442\\u0435\\u043d\\u0434\", \"\\u043c\\u0430\\u043d\\u044f\", \"\\u0442\\u043e\\u0447\\u043d\\u043e\\u0441\\u0442\\u044c\", \"\\u043d\\u0435\\u0434\\u0435\\u043b\\u044c\\u043a\\u0430\", \"\\u043c\\u0430\\u044d\\u0441\\u0442\\u0440\\u043e\", \"\\u0447\\u0435\\u0440\\u0435\\u043c\\u0443\\u0448\\u043a\\u0438\", \"\\u043a\\u043e\\u043d\\u0444\\u0435\\u0442\\u0430\", \"\\u0442\\u0435\\u043b\\u0435\\u0431\\u0430\\u043d\\u043a\\u0430\", \"\\u044e\\u043b\\u044f\", \"\\u043e\\u0431\\u043b\\u043e\\u043c\", \"\\u043a\\u0432\\u0438\\u0442\\u043e\\u043a\", \"\\u043a\\u043e\\u0440\\u043e\\u0431\\u043e\\u0447\\u043a\\u0430\", \"\\u043b\\u0435\\u0441\\u043d\\u043e\\u0439\", \"\\u043f\\u0440\\u0435\\u043f\\u0438\\u0440\\u0430\\u0442\\u0435\\u043b\\u044c\\u0441\\u0442\\u0432\\u043e\", \"\\u043d\\u0435\\u0440\\u0430\\u0437\\u0431\\u0435\\u0440\\u0438\\u0445\\u0430\", \"\\u043f\\u043e\\u0435\\u0437\\u0434\", \"\\u043c\\u0430\\u0441\\u043b\\u043e\", \"\\u043c\\u043e\\u0431\\u0438\\u043b\", \"\\u043a\\u043e\\u0440\\u0437\\u0438\\u043d\\u0430\", \"\\u043b\\u044e\\u0431\\u0435\\u0440\\u0446\\u044b\", \"\\u043f\\u0440\\u043e\\u043a\\u043e\\u043b\", \"\\u043c\\u0438\\u043d\\u0443\\u0442\\u043a\\u0430\", \"\\u043a\\u043e\\u0440\\u0435\\u043d\\u044c\", \"\\u0434\\u0436\\u0438\", \"\\u0430\\u0442\\u043c\\u0430\", \"\\u0438\\u0437\\u0432\\u0435\\u0441\\u0442\\u0438\\u0435\", \"\\u0443\\u0447\\u0435\\u0431\\u0430\", \"\\u043c\\u043e\\u0440\\u043e\\u0437\", \"\\u043e\\u0434\\u0438\\u043d\\u0446\\u043e\\u0432\\u043e\", \"\\u043d\\u043e\\u0432\\u043e\\u0441\\u0442\\u0440\\u043e\\u0439\\u043a\\u0430\", \"\\u043d\\u043e\\u043c\\u0435\\u0440\\u043e\\u043a\", \"\\u0440\\u0430\\u0441\\u043f\\u0438\\u0441\\u0430\\u043d\\u0438\\u0435\", \"\\u0433\\u043e\\u0441\\u0442\\u0438\\u043d\\u0438\\u0446\\u0430\", \"\\u043e\\u0431\\u0435\\u0434\", \"\\u043f\\u0435\\u0440\\u0435\\u0440\\u044b\\u0432\", \"\\u0445\\u043e\\u043b\\u043e\\u0434\\u0438\\u043b\\u044c\\u043d\\u0438\\u043a\", \"\\u043e\\u0442\\u0435\\u043b\\u044c\", \"\\u043a\\u0430\\u043b\\u0438\\u043d\\u0438\\u043d\\u0433\\u0440\\u0430\\u0434\", \"\\u0448\\u0430\\u0431\\u043b\\u043e\\u043d\", \"\\u0441\\u0442\\u043e\\u0439\\u043a\\u0430\", \"\\u043e\\u0431\\u043c\\u0435\\u043d\\u043d\\u0438\\u043a\", \"\\u043e\\u0431\\u043d\\u0430\\u043b\\u0438\\u0447\\u043a\\u0430\", \"\\u043c\\u044b\\u043b\\u043e\", \"\\u043a\\u0432\\u0430\\u0440\\u0442\\u0430\\u043b\", \"\\u043b\\u0438\\u0434\\u0435\\u0440\", \"\\u043d\\u0435\\u0434\\u043e\\u0447\\u0435\\u0442\", \"\\u0445\\u043e\\u043b\\u043b\", \"\\u0441\\u043e\\u0444\\u0442\", \"\\u0438\\u043d\\u0444\\u043b\\u044f\\u0446\\u0438\\u044f\", \"\\u043a\\u0443\\u043f\\u044e\\u0440\\u043e\\u043f\\u0440\\u0438\\u0435\\u043c\\u043d\\u0438\\u043a\", \"\\u043f\\u0440\\u043e\\u0445\\u043e\\u0434\", \"\\u043d\\u0435\\u0434\\u043e\\u043f\\u043b\\u0430\\u0442\\u0430\", \"\\u043d\\u0430\\u0441\\u0442\\u0440\\u043e\\u0439\\u043a\\u0430\", \"\\u0432\\u0435\\u0441\\u0442\\u0438\\u0431\\u044e\\u043b\\u044c\", \"\\u043d\\u0430\\u0434\\u043e\\u0431\\u043d\\u043e\\u0441\\u0442\\u044c\", \"\\u0443\\u0447\\u0440\\u0435\\u0434\\u0438\\u0442\\u0435\\u043b\\u044c\", \"\\u0442\\u044b\\u0449\\u0430\", \"\\u0431\\u0435\\u043b\\u044f\\u0435\\u0432\\u043e\", \"\\u0438\\u0432\\u0430\\u043d\\u043e\\u0432\\u043e\", \"\\u0440\\u0435\\u0433\\u0443\\u043b\\u044f\\u0440\\u043d\\u043e\\u0441\\u0442\\u044c\", \"\\u0430\\u0440\\u0445\\u0430\\u043d\\u0433\\u0435\\u043b\\u044c\\u0441\\u043a\", \"\\u043f\\u0440\\u043e\\u0449\\u0430\\u043d\\u0438\\u0435\", \"\\u043c\\u0430\\u043a\\u0434\\u043e\\u043d\\u0430\\u043b\\u044c\\u0434\\u0441\", \"\\u0433\\u0440\\u0430\\u0431\\u043b\\u0438\", \"\\u0437\\u0430\\u044f\\u0432\\u0443\", \"\\u044d\\u043d\\u0442\\u0443\\u0437\\u0438\\u0430\\u0441\\u0442\", \"\\u044e\\u043d\\u044f\", \"\\u043f\\u043e\\u0434\\u0441\\u043a\\u0430\\u0437\\u043a\\u0430\", \"\\u0441\\u0432\\u0438\\u043d\\u0441\\u0442\\u0432\\u043e\", \"\\u043f\\u0435\\u0440\\u0435\\u0441\\u043c\\u043e\\u0442\\u0440\", \"\\u043f\\u0438\\u043d\\u043a\\u043e\\u0434\", \"\\u043a\\u0443\\u0440\\u0441\\u044b\", \"\\u0432\\u0435\\u0431\", \"\\u0441\\u0442\\u0430\\u043d\\u0446\\u0438\\u044f\", \"\\u043a\\u0443\\u043f\\u044e\\u0440\\u0430\", \"\\u0441\\u0431\\u0435\\u0440\\u043a\\u0430\\u0441\\u0441\\u0430\", \"\\u043f\\u0430\\u0447\\u043a\\u0430\", \"\\u0431\\u044b\\u0441\\u0442\\u0440\\u043e\\u0442\\u0430\", \"\\u0447\\u0435\\u043a\\u0430\"], \"Freq\": [2582.0, 1486.0, 5326.0, 907.0, 3484.0, 1193.0, 1843.0, 760.0, 1016.0, 1031.0, 4628.0, 2825.0, 721.0, 3041.0, 1784.0, 6470.0, 2362.0, 1588.0, 1171.0, 3005.0, 549.0, 2608.0, 2010.0, 720.0, 1598.0, 385.0, 2950.0, 2526.0, 1163.0, 1065.0, 262.0160827636719, 174.59996032714844, 144.38157653808594, 139.07574462890625, 134.41012573242188, 121.1242904663086, 120.06472778320312, 115.7024917602539, 100.91622924804688, 93.48442077636719, 92.11956787109375, 87.89892578125, 87.34075927734375, 85.4287109375, 83.65066528320312, 83.06998443603516, 82.19741821289062, 80.93525695800781, 77.56964111328125, 73.2010498046875, 70.64945220947266, 69.80489349365234, 66.51177978515625, 97.40816497802734, 65.40126037597656, 65.1206283569336, 60.54346466064453, 75.35356140136719, 124.07633209228516, 55.195213317871094, 479.40606689453125, 169.92959594726562, 3270.82177734375, 1252.72265625, 485.29931640625, 358.6448669433594, 278.75946044921875, 261.7764587402344, 935.1493530273438, 430.13067626953125, 1047.3450927734375, 493.9125061035156, 628.7294921875, 2150.06982421875, 339.6485290527344, 380.3697509765625, 1516.3660888671875, 141.9230194091797, 987.7260131835938, 1018.4584350585938, 544.8247680664062, 736.0105590820312, 1562.665771484375, 563.7514038085938, 233.86830139160156, 1528.174560546875, 1431.7410888671875, 695.8475952148438, 1101.4102783203125, 1778.2236328125, 534.6363525390625, 554.1815795898438, 1139.388671875, 1376.5777587890625, 1208.9581298828125, 1174.060546875, 904.0227661132812, 1117.4378662109375, 1071.3956298828125, 725.502197265625, 1257.61279296875, 841.2713623046875, 1220.048095703125, 835.6448974609375, 1365.484130859375, 864.01025390625, 901.6575317382812, 885.2205200195312, 1054.649658203125, 817.2312622070312, 299.705322265625, 209.45657348632812, 182.4735107421875, 170.5950164794922, 164.25082397460938, 160.94703674316406, 140.66612243652344, 128.28953552246094, 114.12039184570312, 113.79344940185547, 110.15751647949219, 104.46363830566406, 94.89654541015625, 89.67345428466797, 84.66197967529297, 83.61095428466797, 80.33625793457031, 70.08891296386719, 69.06110382080078, 68.0864028930664, 66.53083801269531, 65.68397521972656, 62.59309387207031, 60.991722106933594, 59.63130569458008, 58.64174270629883, 57.81037139892578, 57.45310592651367, 55.937503814697266, 55.12136459350586, 605.4444580078125, 711.8796997070312, 110.10319519042969, 553.4874267578125, 289.86627197265625, 679.8641357421875, 1541.9801025390625, 321.6336975097656, 389.3054504394531, 811.2590942382812, 141.99215698242188, 113.7007827758789, 3364.21240234375, 526.0752563476562, 4328.59912109375, 934.7534790039062, 654.7996826171875, 181.5054931640625, 587.58935546875, 304.8948059082031, 1729.812255859375, 1215.57763671875, 359.2870178222656, 1280.3218994140625, 1349.1124267578125, 1784.735107421875, 894.5321655273438, 1353.951904296875, 1236.1929931640625, 2124.821533203125, 1078.94482421875, 946.9791259765625, 499.255859375, 2003.199462890625, 723.3394165039062, 963.97509765625, 1191.7508544921875, 1321.193603515625, 975.3404541015625, 947.3067016601562, 1243.0679931640625, 890.7088623046875, 1267.3040771484375, 1419.0281982421875, 1030.2789306640625, 1108.126220703125, 985.4649047851562, 907.5924072265625, 945.9288330078125, 959.8232421875, 921.560546875, 239.5425567626953, 215.83157348632812, 196.06204223632812, 192.63916015625, 138.0723114013672, 127.7919692993164, 127.47317504882812, 126.34214782714844, 118.61343383789062, 116.70787048339844, 114.60310363769531, 113.8681640625, 110.18224334716797, 100.40253448486328, 99.29229736328125, 102.50408935546875, 96.50116729736328, 88.246826171875, 87.78836822509766, 86.80242156982422, 86.61518096923828, 84.8974838256836, 84.06221008300781, 83.45250701904297, 83.20832824707031, 81.97103881835938, 82.73358917236328, 78.86483764648438, 76.95008850097656, 75.93498229980469, 122.36188507080078, 153.7382354736328, 199.60781860351562, 133.62905883789062, 152.7374267578125, 198.3998260498047, 129.70272827148438, 164.32736206054688, 249.73236083984375, 203.006103515625, 270.4598083496094, 129.51524353027344, 132.31735229492188, 302.6803894042969, 397.7026062011719, 166.7902069091797, 272.53631591796875, 153.50875854492188, 147.24485778808594, 363.7754211425781, 156.7538604736328, 355.037109375, 282.9626159667969, 266.32354736328125, 558.3922729492188, 166.32635498046875, 460.5998229980469, 499.8639221191406, 601.7613525390625, 196.34323120117188, 296.3821105957031, 533.5237426757812, 799.698486328125, 443.0848693847656, 536.818603515625, 320.63330078125, 459.31622314453125, 467.8182067871094, 273.0225830078125, 276.4892272949219, 435.51959228515625, 389.03448486328125, 314.6171569824219, 316.5968933105469, 342.3017883300781, 286.7334289550781, 320.2858581542969, 303.10308837890625, 336.7677307128906, 349.0993957519531, 337.5709228515625, 329.0670166015625, 330.6354675292969, 315.0073547363281, 304.6651611328125, 302.1432800292969, 298.31536865234375, 166.4042510986328, 160.17994689941406, 148.6548309326172, 147.07054138183594, 143.40646362304688, 139.84140014648438, 118.44207000732422, 117.63346862792969, 111.92610168457031, 103.931396484375, 96.53849029541016, 91.36053466796875, 90.9066162109375, 86.92237854003906, 81.02137756347656, 76.23643493652344, 70.85677337646484, 70.6563949584961, 68.0104751586914, 67.54700469970703, 66.57325744628906, 66.11444854736328, 65.15644073486328, 63.22055435180664, 62.06771469116211, 61.65629959106445, 59.42505645751953, 58.83027267456055, 58.63681411743164, 64.15062713623047, 157.0110321044922, 116.34754943847656, 906.000732421875, 1096.089111328125, 1158.212646484375, 736.2408447265625, 142.4502410888672, 709.4437866210938, 347.193115234375, 134.93873596191406, 485.6448974609375, 1439.80517578125, 165.62950134277344, 1894.432373046875, 806.5191040039062, 1031.96044921875, 168.50027465820312, 807.221923828125, 872.5335693359375, 669.6617431640625, 291.58331298828125, 658.75830078125, 525.779052734375, 442.9083251953125, 403.15472412109375, 604.4000244140625, 357.9537353515625, 594.4067993164062, 316.7501220703125, 367.7882995605469, 377.98150634765625, 306.53546142578125, 450.8783874511719, 266.939453125, 540.181396484375, 345.07952880859375, 371.44134521484375, 401.5755920410156, 415.30731201171875, 332.6182861328125, 407.8775939941406, 366.62957763671875, 241.0735321044922, 230.82666015625, 195.84579467773438, 151.7781219482422, 147.02783203125, 146.2229766845703, 138.8575439453125, 129.0169219970703, 112.1777114868164, 105.81932830810547, 102.44047546386719, 90.61410522460938, 88.3689956665039, 251.91989135742188, 71.81178283691406, 65.95263671875, 63.31562805175781, 62.09468078613281, 64.81319427490234, 58.48997116088867, 57.49241256713867, 57.14186477661133, 53.8465461730957, 59.686279296875, 52.93013000488281, 51.47116470336914, 50.38185501098633, 46.5875129699707, 75.7651596069336, 135.26577758789062, 92.18830108642578, 622.2940063476562, 103.75892639160156, 353.94647216796875, 85.46297454833984, 140.69900512695312, 229.6735382080078, 381.7018127441406, 272.3118591308594, 238.22500610351562, 577.3687744140625, 442.0100402832031, 376.09423828125, 371.2214660644531, 478.3372802734375, 472.68646240234375, 321.6795654296875, 1116.201416015625, 242.70391845703125, 839.2647705078125, 1348.359619140625, 212.21014404296875, 574.1954956054688, 344.58807373046875, 517.54541015625, 463.3886413574219, 201.53424072265625, 416.4999084472656, 426.7120666503906, 365.802978515625, 379.1350402832031, 363.5768737792969, 415.4402770996094, 300.3291015625, 340.78607177734375, 341.2102355957031, 269.5440368652344, 306.09149169921875, 193.78683471679688, 190.53042602539062, 162.2401885986328, 158.4185791015625, 152.92962646484375, 119.5715103149414, 117.22450256347656, 103.63790130615234, 127.63939666748047, 101.51201629638672, 94.01338958740234, 92.96185302734375, 92.39483642578125, 84.36959838867188, 80.69611358642578, 78.96248626708984, 74.31352996826172, 74.26792907714844, 73.87173461914062, 71.36962890625, 69.15401458740234, 65.82394409179688, 65.27203369140625, 61.823204040527344, 208.8428192138672, 60.942955017089844, 59.593875885009766, 58.72444152832031, 57.596351623535156, 144.60926818847656, 109.89884948730469, 231.20155334472656, 100.6615219116211, 112.90672302246094, 144.71517944335938, 115.30257415771484, 626.5693969726562, 180.23374938964844, 136.1790313720703, 109.93194580078125, 147.6204376220703, 168.1223602294922, 146.34121704101562, 115.99597930908203, 154.84481811523438, 118.19657897949219, 719.8960571289062, 330.9776916503906, 324.2646484375, 314.7542419433594, 228.6657257080078, 171.37110900878906, 164.70530700683594, 129.02239990234375, 102.40337371826172, 101.95953369140625, 99.02976989746094, 96.19488525390625, 94.89196014404297, 94.0652084350586, 90.49903869628906, 89.52484893798828, 86.79098510742188, 85.49945831298828, 85.25777435302734, 82.60164642333984, 80.67144775390625, 80.58689880371094, 79.21215057373047, 77.56487274169922, 75.35340881347656, 74.251708984375, 73.8219223022461, 71.56537628173828, 70.07012939453125, 69.95980072021484, 208.79803466796875, 269.7758483886719, 145.41148376464844, 125.08142852783203, 98.55673217773438, 95.30384826660156, 116.15608215332031, 112.49092102050781, 906.318115234375, 759.7466430664062, 314.2978820800781, 285.14935302734375, 277.0983581542969, 262.2947692871094, 217.22381591796875, 189.5883331298828, 166.77096557617188, 137.84481811523438, 122.96617126464844, 114.91439056396484, 107.4846420288086, 104.6352767944336, 99.16383361816406, 89.36264038085938, 87.7771987915039, 81.66907501220703, 80.77569580078125, 78.2771224975586, 75.5080795288086, 72.55573272705078, 69.01769256591797, 66.82294464111328, 65.20033264160156, 64.68627166748047, 64.5130386352539, 62.49476623535156, 61.43587112426758, 60.93121337890625, 93.4334487915039, 276.86962890625, 1113.760498046875, 188.71446228027344, 106.99341583251953, 138.56187438964844, 97.44926452636719, 220.5642547607422, 124.41600799560547, 110.73947143554688, 86.7842788696289, 147.08834838867188, 2580.989990234375, 224.7287139892578, 201.7982177734375, 174.6623992919922, 132.861328125, 126.67851257324219, 120.12655639648438, 118.30276489257812, 111.00518035888672, 103.12076568603516, 99.2857894897461, 96.42425537109375, 95.51970672607422, 94.9178695678711, 89.70594024658203, 88.29389190673828, 77.83147430419922, 72.63758850097656, 71.96207427978516, 71.90599060058594, 70.43760681152344, 68.44802856445312, 67.79561614990234, 68.70419311523438, 66.06903839111328, 65.21318054199219, 64.1987533569336, 67.3632583618164, 61.38202667236328, 58.441864013671875, 104.5225830078125, 140.07139587402344, 93.42557525634766, 136.0594024658203, 585.3009033203125, 341.73443603515625, 91.84254455566406, 96.25301361083984, 70.66471099853516, 80.92803192138672, 72.71367645263672, 384.1856994628906, 212.37588500976562, 192.65650939941406, 164.4669647216797, 153.56590270996094, 152.19361877441406, 124.5959701538086, 117.75270080566406, 114.94815826416016, 108.17835235595703, 107.1062240600586, 104.52227020263672, 104.2552490234375, 98.82322692871094, 97.75887298583984, 92.38015747070312, 92.09896850585938, 88.21051025390625, 81.72664642333984, 81.73055267333984, 68.80091094970703, 67.83340454101562, 67.76422882080078, 64.88111114501953, 64.84626007080078, 62.03773498535156, 61.246742248535156, 58.356109619140625, 58.12156677246094, 57.53553771972656, 67.68687438964844, 157.20399475097656, 82.08590698242188, 144.34783935546875, 284.910400390625, 116.24665069580078, 120.64875793457031, 71.06390380859375, 68.736083984375], \"Total\": [2582.0, 1486.0, 5326.0, 907.0, 3484.0, 1193.0, 1843.0, 760.0, 1016.0, 1031.0, 4628.0, 2825.0, 721.0, 3041.0, 1784.0, 6470.0, 2362.0, 1588.0, 1171.0, 3005.0, 549.0, 2608.0, 2010.0, 720.0, 1598.0, 385.0, 2950.0, 2526.0, 1163.0, 1065.0, 263.2212829589844, 175.85545349121094, 145.5896759033203, 140.27980041503906, 135.61341857910156, 122.32801055908203, 121.27021789550781, 116.90538787841797, 102.12018585205078, 94.6907730102539, 93.32292175292969, 89.10213470458984, 88.54346466064453, 86.63513946533203, 84.85413360595703, 84.2751235961914, 83.40060424804688, 82.17804718017578, 78.77308654785156, 74.4036865234375, 71.85344696044922, 71.01006317138672, 67.71708679199219, 99.19891357421875, 66.60453033447266, 66.3243179321289, 61.746177673339844, 76.87235260009766, 126.71400451660156, 56.397830963134766, 498.13812255859375, 174.80606079101562, 3484.4267578125, 1384.4351806640625, 520.9616088867188, 383.9305419921875, 296.5268859863281, 279.79974365234375, 1065.2862548828125, 471.4218444824219, 1203.7569580078125, 546.0540161132812, 724.39404296875, 2704.0732421875, 378.232666015625, 429.450439453125, 1946.8795166015625, 149.2658233642578, 1278.3369140625, 1324.6939697265625, 701.9422607421875, 997.307373046875, 2534.27587890625, 767.5013427734375, 270.1397705078125, 2710.04736328125, 2699.94189453125, 1100.6483154296875, 1985.9144287109375, 3805.97607421875, 798.0216674804688, 838.562744140625, 2285.10107421875, 3043.22509765625, 2539.5732421875, 2490.766845703125, 1783.3575439453125, 2608.451171875, 2547.30810546875, 1329.3812255859375, 4090.100341796875, 1814.9190673828125, 4060.383056640625, 1866.202392578125, 6470.96142578125, 2147.160400390625, 2658.543212890625, 2512.959716796875, 4628.30712890625, 2737.64013671875, 300.8744201660156, 210.6194610595703, 183.63719177246094, 171.75282287597656, 165.4144744873047, 162.13157653808594, 141.82489013671875, 129.44822692871094, 115.28044128417969, 114.9542465209961, 111.31529998779297, 105.6233139038086, 96.0536117553711, 90.83216094970703, 85.82785034179688, 84.76993560791016, 81.49449920654297, 71.2528076171875, 70.22468566894531, 69.250732421875, 67.68806457519531, 66.84737396240234, 63.75154113769531, 62.151161193847656, 60.797386169433594, 59.803428649902344, 58.96745300292969, 58.61853790283203, 57.09952926635742, 56.28011703491211, 655.910888671875, 777.7501831054688, 114.25537872314453, 611.471435546875, 314.12188720703125, 764.8030395507812, 1843.523193359375, 355.5431213378906, 435.184326171875, 960.8789672851562, 151.06727600097656, 119.56491088867188, 4628.30712890625, 624.1259765625, 6470.96142578125, 1232.0706787109375, 835.5487670898438, 201.10560607910156, 774.4785766601562, 367.0104064941406, 2737.64013671875, 1828.8868408203125, 446.8660888671875, 1993.1710205078125, 2154.808837890625, 3067.59130859375, 1351.2664794921875, 2252.225341796875, 2039.962890625, 4090.100341796875, 1779.5672607421875, 1527.663818359375, 680.373291015625, 4060.383056640625, 1096.201904296875, 1603.3214111328125, 2142.04248046875, 2612.14697265625, 1759.854736328125, 1689.350830078125, 2651.527587890625, 1566.482421875, 3047.427490234375, 3805.97607421875, 2136.83642578125, 2950.52294921875, 2318.355224609375, 1866.202392578125, 2294.7568359375, 3005.493408203125, 2418.018798828125, 240.69163513183594, 216.97930908203125, 197.20965576171875, 193.7852325439453, 139.218017578125, 128.93804931640625, 128.61923217773438, 127.48795318603516, 119.76033020019531, 117.85408020019531, 115.75360870361328, 115.01537322998047, 111.32785034179688, 101.54915618896484, 100.438720703125, 103.68769836425781, 97.64778137207031, 89.39457702636719, 88.93368530273438, 87.95008850097656, 87.76156616210938, 86.04381561279297, 85.2076644897461, 84.59872436523438, 84.35808563232422, 83.11815643310547, 83.92322540283203, 80.01227569580078, 78.09532928466797, 77.08136749267578, 125.1233139038086, 160.54396057128906, 211.96249389648438, 139.58526611328125, 164.3089599609375, 227.21316528320312, 140.01324462890625, 185.33349609375, 306.603759765625, 246.98501586914062, 375.7331848144531, 146.20265197753906, 151.47158813476562, 452.5315856933594, 682.726806640625, 209.97132873535156, 424.22650146484375, 187.6710968017578, 177.0169219970703, 704.2409057617188, 195.3563995361328, 741.7647094726562, 525.3145751953125, 486.02117919921875, 1804.356201171875, 218.7710418701172, 1420.7215576171875, 1654.71337890625, 2418.018798828125, 297.0928039550781, 674.2695922851562, 2285.10107421875, 5326.76806640625, 1631.38037109375, 2658.543212890625, 895.946044921875, 2526.6005859375, 2825.102294921875, 731.009765625, 771.6825561523438, 3043.22509765625, 2252.225341796875, 1180.5986328125, 1213.4505615234375, 1675.4036865234375, 866.2501220703125, 1395.7679443359375, 1174.1455078125, 2294.7568359375, 2901.84912109375, 2512.959716796875, 2539.5732421875, 3067.59130859375, 1870.68701171875, 1660.9344482421875, 2117.140380859375, 299.614990234375, 167.564453125, 161.3377227783203, 149.82083129882812, 148.22789001464844, 144.5648651123047, 141.0000762939453, 119.60743713378906, 118.79388427734375, 113.11264038085938, 105.09064483642578, 97.69847106933594, 92.51866149902344, 92.06619262695312, 88.07947540283203, 82.1844482421875, 77.39337158203125, 72.01678466796875, 71.82267761230469, 69.16825866699219, 68.7042236328125, 67.73489379882812, 67.27753448486328, 66.31377410888672, 64.37992858886719, 63.226375579833984, 62.8179931640625, 60.586463928222656, 59.98882293701172, 59.79462814331055, 65.45877075195312, 161.86985778808594, 124.98614501953125, 1171.552978515625, 1588.37109375, 1784.830810546875, 1065.730712890625, 162.38729858398438, 1163.1488037109375, 502.5639953613281, 160.00936889648438, 780.370361328125, 3041.208740234375, 216.90086364746094, 5326.76806640625, 2010.1446533203125, 3005.493408203125, 233.27833557128906, 2608.451171875, 2950.52294921875, 2318.355224609375, 592.3099975585938, 2526.6005859375, 1817.4693603515625, 1413.1151123046875, 1290.496826171875, 2901.84912109375, 1180.959228515625, 4060.383056640625, 1013.0386352539062, 1474.1744384765625, 1654.71337890625, 1018.9744262695312, 3067.59130859375, 751.118408203125, 6470.96142578125, 1660.9344482421875, 2136.83642578125, 3047.427490234375, 4090.100341796875, 2658.543212890625, 409.0727233886719, 367.8203125, 242.26429748535156, 232.0186004638672, 197.03733825683594, 152.96897888183594, 148.2198944091797, 147.41481018066406, 140.04820251464844, 130.2127227783203, 113.3691177368164, 107.01087951660156, 103.63107299804688, 91.80667877197266, 89.55987548828125, 255.887939453125, 73.0024185180664, 67.14398956298828, 64.50790405273438, 63.2869873046875, 66.06901550292969, 59.680850982666016, 58.68278121948242, 58.335693359375, 55.037925720214844, 61.0177001953125, 54.12202453613281, 52.66221618652344, 51.573524475097656, 47.77850341796875, 77.92784881591797, 140.2744140625, 96.43317413330078, 720.58935546875, 110.19857788085938, 425.93145751953125, 90.43638610839844, 159.2311553955078, 279.15582275390625, 500.79833984375, 340.2410583496094, 291.9195861816406, 846.4397583007812, 620.5001220703125, 556.3555297851562, 555.1439208984375, 799.1779174804688, 798.3895263671875, 493.1565856933594, 2825.102294921875, 361.59088134765625, 2362.79541015625, 5326.76806640625, 311.7276916503906, 1598.578369140625, 699.6802368164062, 1706.77001953125, 1413.1151123046875, 286.7749938964844, 1412.867919921875, 1647.4971923828125, 1329.3812255859375, 1664.671875, 1486.451904296875, 2526.6005859375, 1158.9271240234375, 2612.14697265625, 3047.427490234375, 633.625, 307.2314453125, 194.92684936523438, 191.670166015625, 163.38392639160156, 159.55868530273438, 154.06967163085938, 120.71236419677734, 118.36541748046875, 104.77770233154297, 129.0542755126953, 102.65264892578125, 95.15313720703125, 94.10227966308594, 93.53446960449219, 85.5103759765625, 81.83679962158203, 80.10387420654297, 75.45355224609375, 75.40750885009766, 75.012451171875, 72.509521484375, 70.29439544677734, 66.9643325805664, 66.41191101074219, 62.96305847167969, 212.73086547851562, 62.08344650268555, 60.73395538330078, 59.864341735839844, 58.73595428466797, 147.8856201171875, 115.08638763427734, 253.58750915527344, 106.92381286621094, 124.9662094116211, 169.1868896484375, 132.01971435546875, 1193.44970703125, 244.1580352783203, 176.45664978027344, 140.09893798828125, 242.6972198486328, 309.9158020019531, 296.6914978027344, 202.30184936523438, 462.2949523925781, 691.5397338867188, 721.0213623046875, 332.1037902832031, 325.38922119140625, 315.9092102050781, 229.79180908203125, 172.49583435058594, 165.8300018310547, 130.14840698242188, 103.5280532836914, 103.0842514038086, 100.1542739868164, 97.3203353881836, 96.01697540283203, 95.1897964477539, 91.62625122070312, 90.64997863769531, 87.91565704345703, 86.62498474121094, 86.38308715820312, 83.72649383544922, 81.79642486572266, 81.71147155761719, 80.33702850341797, 78.68943786621094, 76.47793579101562, 75.37771606445312, 74.94703674316406, 72.6907730102539, 71.19482421875, 71.08585357666016, 228.52467346191406, 302.2089538574219, 165.48263549804688, 147.83876037597656, 119.31771850585938, 130.47573852539062, 322.830810546875, 288.0141906738281, 907.4624633789062, 760.8911743164062, 315.4429016113281, 286.2936096191406, 278.2425842285156, 263.4390869140625, 218.3683624267578, 190.73255920410156, 167.91546630859375, 138.9890594482422, 124.11042785644531, 116.06854248046875, 108.62952423095703, 105.78099822998047, 100.30876159667969, 90.50687408447266, 88.92142486572266, 82.81366729736328, 81.92036437988281, 79.4220199584961, 76.65259552001953, 73.70106506347656, 70.16192626953125, 67.9676284790039, 66.34457397460938, 65.83163452148438, 65.65723419189453, 63.640506744384766, 62.58005142211914, 62.07574462890625, 95.88500213623047, 299.2774353027344, 1486.451904296875, 223.87197875976562, 123.69603729248047, 172.3788299560547, 116.96903991699219, 449.2037353515625, 208.01634216308594, 233.1410369873047, 122.09884643554688, 1843.523193359375, 2582.121826171875, 225.85890197753906, 202.92800903320312, 175.7928924560547, 133.9920654296875, 127.80835723876953, 121.25629425048828, 119.43279266357422, 112.1356430053711, 104.25049591064453, 100.41638946533203, 97.5540542602539, 96.64954376220703, 96.04743194580078, 90.83633422851562, 89.42475128173828, 78.96137237548828, 73.77252960205078, 73.09200286865234, 73.03592681884766, 71.5743408203125, 69.57820129394531, 68.92608642578125, 69.857421875, 67.19869995117188, 66.3427963256836, 65.33049774169922, 68.5788803100586, 62.511775970458984, 59.57172393798828, 106.93164825439453, 147.94493103027344, 103.56898498535156, 166.34658813476562, 1031.2757568359375, 549.5713500976562, 119.8201904296875, 132.7798614501953, 76.80652618408203, 157.2429656982422, 682.726806640625, 385.29345703125, 213.48367309570312, 193.76417541503906, 165.57452392578125, 154.6735076904297, 153.3013458251953, 125.70343780517578, 118.85991668701172, 116.0561294555664, 109.28543853759766, 108.21382141113281, 105.63005828857422, 105.36253356933594, 99.9302749633789, 98.8666000366211, 93.48780059814453, 93.20638275146484, 89.31761169433594, 82.833984375, 82.83802795410156, 69.90792083740234, 68.94144439697266, 68.87203216552734, 65.9889144897461, 65.95417785644531, 63.14488983154297, 62.35417938232422, 59.46410369873047, 59.228973388671875, 58.64432144165039, 69.13839721679688, 211.732666015625, 100.25133514404297, 246.60618591308594, 1016.0355224609375, 214.0880126953125, 256.1166076660156, 157.5159149169922, 276.0059814453125], \"Category\": [\"Default\", \"Default\", \"Default\", \"Default\", \"Default\", \"Default\", \"Default\", \"Default\", \"Default\", \"Default\", \"Default\", \"Default\", \"Default\", \"Default\", \"Default\", \"Default\", \"Default\", \"Default\", \"Default\", \"Default\", \"Default\", \"Default\", \"Default\", \"Default\", \"Default\", \"Default\", \"Default\", \"Default\", \"Default\", \"Default\", \"Topic1\", \"Topic1\", \"Topic1\", \"Topic1\", \"Topic1\", \"Topic1\", \"Topic1\", \"Topic1\", \"Topic1\", \"Topic1\", \"Topic1\", \"Topic1\", \"Topic1\", \"Topic1\", \"Topic1\", \"Topic1\", \"Topic1\", \"Topic1\", \"Topic1\", \"Topic1\", \"Topic1\", \"Topic1\", \"Topic1\", \"Topic1\", \"Topic1\", \"Topic1\", \"Topic1\", \"Topic1\", \"Topic1\", \"Topic1\", \"Topic1\", \"Topic1\", \"Topic1\", \"Topic1\", \"Topic1\", \"Topic1\", \"Topic1\", \"Topic1\", \"Topic1\", \"Topic1\", \"Topic1\", \"Topic1\", \"Topic1\", \"Topic1\", \"Topic1\", \"Topic1\", \"Topic1\", \"Topic1\", \"Topic1\", \"Topic1\", \"Topic1\", \"Topic1\", \"Topic1\", \"Topic1\", \"Topic1\", \"Topic1\", \"Topic1\", \"Topic1\", \"Topic1\", \"Topic1\", \"Topic1\", \"Topic1\", \"Topic1\", \"Topic1\", \"Topic1\", \"Topic1\", \"Topic1\", \"Topic1\", \"Topic1\", \"Topic1\", \"Topic1\", \"Topic1\", \"Topic1\", \"Topic1\", \"Topic1\", \"Topic1\", \"Topic1\", \"Topic1\", \"Topic1\", \"Topic1\", \"Topic2\", \"Topic2\", \"Topic2\", \"Topic2\", \"Topic2\", \"Topic2\", \"Topic2\", \"Topic2\", \"Topic2\", \"Topic2\", \"Topic2\", \"Topic2\", \"Topic2\", \"Topic2\", \"Topic2\", \"Topic2\", \"Topic2\", \"Topic2\", \"Topic2\", \"Topic2\", \"Topic2\", \"Topic2\", \"Topic2\", \"Topic2\", \"Topic2\", \"Topic2\", \"Topic2\", \"Topic2\", \"Topic2\", \"Topic2\", \"Topic2\", \"Topic2\", \"Topic2\", \"Topic2\", \"Topic2\", \"Topic2\", \"Topic2\", \"Topic2\", \"Topic2\", \"Topic2\", \"Topic2\", \"Topic2\", \"Topic2\", \"Topic2\", \"Topic2\", \"Topic2\", \"Topic2\", \"Topic2\", \"Topic2\", \"Topic2\", \"Topic2\", \"Topic2\", \"Topic2\", \"Topic2\", \"Topic2\", \"Topic2\", \"Topic2\", \"Topic2\", \"Topic2\", \"Topic2\", \"Topic2\", \"Topic2\", \"Topic2\", \"Topic2\", \"Topic2\", \"Topic2\", \"Topic2\", \"Topic2\", \"Topic2\", \"Topic2\", \"Topic2\", \"Topic2\", \"Topic2\", \"Topic2\", \"Topic2\", \"Topic2\", \"Topic2\", \"Topic2\", \"Topic2\", \"Topic2\", \"Topic2\", \"Topic3\", \"Topic3\", \"Topic3\", \"Topic3\", \"Topic3\", \"Topic3\", \"Topic3\", \"Topic3\", \"Topic3\", \"Topic3\", \"Topic3\", \"Topic3\", \"Topic3\", \"Topic3\", \"Topic3\", \"Topic3\", \"Topic3\", \"Topic3\", \"Topic3\", \"Topic3\", \"Topic3\", \"Topic3\", \"Topic3\", \"Topic3\", \"Topic3\", \"Topic3\", \"Topic3\", \"Topic3\", \"Topic3\", \"Topic3\", \"Topic3\", \"Topic3\", \"Topic3\", \"Topic3\", \"Topic3\", \"Topic3\", \"Topic3\", \"Topic3\", \"Topic3\", \"Topic3\", \"Topic3\", \"Topic3\", \"Topic3\", \"Topic3\", \"Topic3\", \"Topic3\", \"Topic3\", \"Topic3\", \"Topic3\", \"Topic3\", \"Topic3\", \"Topic3\", \"Topic3\", \"Topic3\", \"Topic3\", \"Topic3\", \"Topic3\", \"Topic3\", \"Topic3\", \"Topic3\", \"Topic3\", \"Topic3\", \"Topic3\", \"Topic3\", \"Topic3\", \"Topic3\", \"Topic3\", \"Topic3\", \"Topic3\", \"Topic3\", \"Topic3\", \"Topic3\", \"Topic3\", \"Topic3\", \"Topic3\", \"Topic3\", \"Topic3\", \"Topic3\", \"Topic3\", \"Topic3\", \"Topic3\", \"Topic3\", \"Topic3\", \"Topic3\", \"Topic3\", \"Topic3\", \"Topic4\", \"Topic4\", \"Topic4\", \"Topic4\", \"Topic4\", \"Topic4\", \"Topic4\", \"Topic4\", \"Topic4\", \"Topic4\", \"Topic4\", \"Topic4\", \"Topic4\", \"Topic4\", \"Topic4\", \"Topic4\", \"Topic4\", \"Topic4\", \"Topic4\", \"Topic4\", \"Topic4\", \"Topic4\", \"Topic4\", \"Topic4\", \"Topic4\", \"Topic4\", \"Topic4\", \"Topic4\", \"Topic4\", \"Topic4\", \"Topic4\", \"Topic4\", \"Topic4\", \"Topic4\", \"Topic4\", \"Topic4\", \"Topic4\", \"Topic4\", \"Topic4\", \"Topic4\", \"Topic4\", \"Topic4\", \"Topic4\", \"Topic4\", \"Topic4\", \"Topic4\", \"Topic4\", \"Topic4\", \"Topic4\", \"Topic4\", \"Topic4\", \"Topic4\", \"Topic4\", \"Topic4\", \"Topic4\", \"Topic4\", \"Topic4\", \"Topic4\", \"Topic4\", \"Topic4\", \"Topic4\", \"Topic4\", \"Topic4\", \"Topic4\", \"Topic4\", \"Topic4\", \"Topic4\", \"Topic4\", \"Topic4\", \"Topic4\", \"Topic4\", \"Topic5\", \"Topic5\", \"Topic5\", \"Topic5\", \"Topic5\", \"Topic5\", \"Topic5\", \"Topic5\", \"Topic5\", \"Topic5\", \"Topic5\", \"Topic5\", \"Topic5\", \"Topic5\", \"Topic5\", \"Topic5\", \"Topic5\", \"Topic5\", \"Topic5\", \"Topic5\", \"Topic5\", \"Topic5\", \"Topic5\", \"Topic5\", \"Topic5\", \"Topic5\", \"Topic5\", \"Topic5\", \"Topic5\", \"Topic5\", \"Topic5\", \"Topic5\", \"Topic5\", \"Topic5\", \"Topic5\", \"Topic5\", \"Topic5\", \"Topic5\", \"Topic5\", \"Topic5\", \"Topic5\", \"Topic5\", \"Topic5\", \"Topic5\", \"Topic5\", \"Topic5\", \"Topic5\", \"Topic5\", \"Topic5\", \"Topic5\", \"Topic5\", \"Topic5\", \"Topic5\", \"Topic5\", \"Topic5\", \"Topic5\", \"Topic5\", \"Topic5\", \"Topic5\", \"Topic5\", \"Topic5\", \"Topic5\", \"Topic5\", \"Topic5\", \"Topic5\", \"Topic5\", \"Topic5\", \"Topic5\", \"Topic5\", \"Topic6\", \"Topic6\", \"Topic6\", \"Topic6\", \"Topic6\", \"Topic6\", \"Topic6\", \"Topic6\", \"Topic6\", \"Topic6\", \"Topic6\", \"Topic6\", \"Topic6\", \"Topic6\", \"Topic6\", \"Topic6\", \"Topic6\", \"Topic6\", \"Topic6\", \"Topic6\", \"Topic6\", \"Topic6\", \"Topic6\", \"Topic6\", \"Topic6\", \"Topic6\", \"Topic6\", \"Topic6\", \"Topic6\", \"Topic6\", \"Topic6\", \"Topic6\", \"Topic6\", \"Topic6\", \"Topic6\", \"Topic6\", \"Topic6\", \"Topic6\", \"Topic6\", \"Topic6\", \"Topic6\", \"Topic6\", \"Topic6\", \"Topic6\", \"Topic6\", \"Topic6\", \"Topic6\", \"Topic7\", \"Topic7\", \"Topic7\", \"Topic7\", \"Topic7\", \"Topic7\", \"Topic7\", \"Topic7\", \"Topic7\", \"Topic7\", \"Topic7\", \"Topic7\", \"Topic7\", \"Topic7\", \"Topic7\", \"Topic7\", \"Topic7\", \"Topic7\", \"Topic7\", \"Topic7\", \"Topic7\", \"Topic7\", \"Topic7\", \"Topic7\", \"Topic7\", \"Topic7\", \"Topic7\", \"Topic7\", \"Topic7\", \"Topic7\", \"Topic7\", \"Topic7\", \"Topic7\", \"Topic7\", \"Topic7\", \"Topic7\", \"Topic7\", \"Topic7\", \"Topic8\", \"Topic8\", \"Topic8\", \"Topic8\", \"Topic8\", \"Topic8\", \"Topic8\", \"Topic8\", \"Topic8\", \"Topic8\", \"Topic8\", \"Topic8\", \"Topic8\", \"Topic8\", \"Topic8\", \"Topic8\", \"Topic8\", \"Topic8\", \"Topic8\", \"Topic8\", \"Topic8\", \"Topic8\", \"Topic8\", \"Topic8\", \"Topic8\", \"Topic8\", \"Topic8\", \"Topic8\", \"Topic8\", \"Topic8\", \"Topic8\", \"Topic8\", \"Topic8\", \"Topic8\", \"Topic8\", \"Topic8\", \"Topic8\", \"Topic8\", \"Topic8\", \"Topic8\", \"Topic8\", \"Topic8\", \"Topic9\", \"Topic9\", \"Topic9\", \"Topic9\", \"Topic9\", \"Topic9\", \"Topic9\", \"Topic9\", \"Topic9\", \"Topic9\", \"Topic9\", \"Topic9\", \"Topic9\", \"Topic9\", \"Topic9\", \"Topic9\", \"Topic9\", \"Topic9\", \"Topic9\", \"Topic9\", \"Topic9\", \"Topic9\", \"Topic9\", \"Topic9\", \"Topic9\", \"Topic9\", \"Topic9\", \"Topic9\", \"Topic9\", \"Topic9\", \"Topic9\", \"Topic9\", \"Topic9\", \"Topic9\", \"Topic9\", \"Topic9\", \"Topic9\", \"Topic9\", \"Topic9\", \"Topic9\", \"Topic9\", \"Topic10\", \"Topic10\", \"Topic10\", \"Topic10\", \"Topic10\", \"Topic10\", \"Topic10\", \"Topic10\", \"Topic10\", \"Topic10\", \"Topic10\", \"Topic10\", \"Topic10\", \"Topic10\", \"Topic10\", \"Topic10\", \"Topic10\", \"Topic10\", \"Topic10\", \"Topic10\", \"Topic10\", \"Topic10\", \"Topic10\", \"Topic10\", \"Topic10\", \"Topic10\", \"Topic10\", \"Topic10\", \"Topic10\", \"Topic10\", \"Topic10\", \"Topic10\", \"Topic10\", \"Topic10\", \"Topic10\", \"Topic10\", \"Topic10\", \"Topic10\", \"Topic10\"], \"logprob\": [30.0, 29.0, 28.0, 27.0, 26.0, 25.0, 24.0, 23.0, 22.0, 21.0, 20.0, 19.0, 18.0, 17.0, 16.0, 15.0, 14.0, 13.0, 12.0, 11.0, 10.0, 9.0, 8.0, 7.0, 6.0, 5.0, 4.0, 3.0, 2.0, 1.0, -6.6803998947143555, -7.086400032043457, -7.276400089263916, -7.313799858093262, -7.3480000495910645, -7.452000141143799, -7.4608001708984375, -7.497799873352051, -7.6346001625061035, -7.711100101470947, -7.725800037384033, -7.77269983291626, -7.7789998054504395, -7.801199913024902, -7.822199821472168, -7.82919979095459, -7.839700222015381, -7.855199813842773, -7.89769983291626, -7.955599784851074, -7.991099834442139, -8.003100395202637, -8.05150032043457, -7.669899940490723, -8.068300247192383, -8.072600364685059, -8.145500183105469, -7.926700115203857, -7.427999973297119, -8.23799991607666, -6.076300144195557, -7.113500118255615, -4.156099796295166, -5.115799903869629, -6.0640997886657715, -6.366499900817871, -6.618500232696533, -6.681399822235107, -5.408100128173828, -6.184800148010254, -5.2947998046875, -6.046500205993652, -5.805200099945068, -4.5756001472473145, -6.420899868011475, -6.307700157165527, -4.924799919128418, -7.293600082397461, -5.353400230407715, -5.322800159454346, -5.948400020599365, -5.647600173950195, -4.894700050354004, -5.9141998291015625, -6.794099807739258, -4.916999816894531, -4.9822001457214355, -5.703700065612793, -5.244500160217285, -4.765500068664551, -5.967299938201904, -5.931399822235107, -5.210599899291992, -5.021500110626221, -5.151299953460693, -5.180600166320801, -5.441999912261963, -5.230100154876709, -5.27209997177124, -5.6620001792907715, -5.1118998527526855, -5.513899803161621, -5.142199993133545, -5.520599842071533, -5.029600143432617, -5.487299919128418, -5.4446001052856445, -5.4629998207092285, -5.287899971008301, -5.542900085449219, -6.529900074005127, -6.888199806213379, -7.026100158691406, -7.093400001525879, -7.13129997253418, -7.151599884033203, -7.286300182342529, -7.378399848937988, -7.4953999519348145, -7.498300075531006, -7.530799865722656, -7.583899974822998, -7.679900169372559, -7.736499786376953, -7.794000148773193, -7.80649995803833, -7.846499919891357, -7.982900142669678, -7.997700214385986, -8.011899948120117, -8.03499984741211, -8.047800064086914, -8.095999717712402, -8.121999740600586, -8.144499778747559, -8.161299705505371, -8.17549991607666, -8.181699752807617, -8.208499908447266, -8.223199844360352, -5.826700210571289, -5.66480016708374, -7.531300067901611, -5.916500091552734, -6.563300132751465, -5.7108001708984375, -4.891900062561035, -6.4593000411987305, -6.2683000564575195, -5.53410005569458, -7.276899814605713, -7.499100208282471, -4.111700057983398, -5.967299938201904, -3.8596999645233154, -5.392399787902832, -5.7484002113342285, -7.031400203704834, -5.8566999435424805, -6.512700080871582, -4.776899814605713, -5.129700183868408, -6.348599910736084, -5.0777997970581055, -5.0254998207092285, -4.745699882507324, -5.436399936676025, -5.021900177001953, -5.1128997802734375, -4.571300029754639, -5.249000072479248, -5.37939977645874, -6.019599914550781, -4.630199909210205, -5.648799896240234, -5.361599922180176, -5.149499893188477, -5.04640007019043, -5.349899768829346, -5.3790998458862305, -5.107399940490723, -5.440700054168701, -5.088099956512451, -4.974999904632568, -5.295100212097168, -5.222300052642822, -5.339600086212158, -5.421899795532227, -5.380499839782715, -5.365900039672852, -5.406599998474121, -6.15880012512207, -6.2631001472473145, -6.359099864959717, -6.376699924468994, -6.709799766540527, -6.787199974060059, -6.789700031280518, -6.798600196838379, -6.861700057983398, -6.877900123596191, -6.896100044250488, -6.902500152587891, -6.935400009155273, -7.02839994430542, -7.0395002365112305, -7.007699966430664, -7.067999839782715, -7.157400131225586, -7.162600040435791, -7.173900127410889, -7.17609977722168, -7.196100234985352, -7.205999851226807, -7.2133002281188965, -7.21619987487793, -7.231200218200684, -7.22189998626709, -7.269800186157227, -7.294400215148926, -7.307700157165527, -6.830599784851074, -6.60230016708374, -6.34119987487793, -6.742499828338623, -6.608799934387207, -6.347300052642822, -6.772299766540527, -6.535699844360352, -6.117199897766113, -6.3242998123168945, -6.037399768829346, -6.773799896240234, -6.752399921417236, -5.924900054931641, -5.651899814605713, -6.5208001136779785, -6.029799938201904, -6.603799819946289, -6.645500183105469, -5.741000175476074, -6.582900047302246, -5.7652997970581055, -5.992199897766113, -6.052800178527832, -5.3125, -6.523600101470947, -5.505000114440918, -5.4232001304626465, -5.23769998550415, -6.357699871063232, -5.945899963378906, -5.358099937438965, -4.9532999992370605, -5.543799877166748, -5.351900100708008, -5.867300033569336, -5.507800102233887, -5.489500045776367, -6.0279998779296875, -6.015399932861328, -5.560999870300293, -5.673900127410889, -5.886199951171875, -5.879899978637695, -5.8018999099731445, -5.979000091552734, -5.868299961090088, -5.923500061035156, -5.81820011138916, -5.782199859619141, -5.815800189971924, -5.841300010681152, -5.83650016784668, -5.885000228881836, -5.918300151824951, -5.926700115203857, -5.6371002197265625, -6.220900058746338, -6.258999824523926, -6.333700180053711, -6.344399929046631, -6.36959981918335, -6.394800186157227, -6.5609002113342285, -6.567699909210205, -6.617400169372559, -6.6915998458862305, -6.7652997970581055, -6.820499897003174, -6.825399875640869, -6.870299816131592, -6.9405999183654785, -7.001399993896484, -7.0746002197265625, -7.077499866485596, -7.115600109100342, -7.122499942779541, -7.13700008392334, -7.143899917602539, -7.1585001945495605, -7.188700199127197, -7.207099914550781, -7.213699817657471, -7.2505998611450195, -7.2606000900268555, -7.263899803161621, -7.173999786376953, -6.2789998054504395, -6.578700065612793, -4.526199817657471, -4.3358001708984375, -4.280600070953369, -4.733699798583984, -6.376299858093262, -4.7708001136779785, -5.485400199890137, -6.430500030517578, -5.149799823760986, -4.063000202178955, -6.225500106811523, -3.788599967956543, -4.642600059509277, -4.396100044250488, -6.2083001136779785, -4.64169979095459, -4.563899993896484, -4.828499794006348, -5.659999847412109, -4.844900131225586, -5.070400238037109, -5.2418999671936035, -5.335999965667725, -4.931000232696533, -5.454899787902832, -4.947700023651123, -5.577199935913086, -5.427800178527832, -5.400400161743164, -5.609899997711182, -5.224100112915039, -5.748300075531006, -5.043399810791016, -5.491499900817871, -5.417900085449219, -5.339900016784668, -5.306300163269043, -5.528299808502197, -5.093500137329102, -5.200099945068359, -5.61929988861084, -5.662799835205078, -5.827099800109863, -6.081999778747559, -6.113800048828125, -6.11929988861084, -6.171000003814697, -6.244500160217285, -6.384300231933594, -6.442699909210205, -6.475100040435791, -6.597799777984619, -6.622900009155273, -5.575300216674805, -6.830399990081787, -6.915500164031982, -6.956299781799316, -6.975800037384033, -6.9328999519348145, -7.035600185394287, -7.052800178527832, -7.058899879455566, -7.118299961090088, -7.0152997970581055, -7.135499954223633, -7.163400173187256, -7.184800148010254, -7.2631001472473145, -6.776800155639648, -6.197199821472168, -6.580599784851074, -4.671000003814697, -6.462399959564209, -5.235300064086914, -6.656300067901611, -6.157800197601318, -5.667799949645996, -5.159800052642822, -5.497499942779541, -5.631199836730957, -4.7459001541137695, -5.0131001472473145, -5.174600124359131, -5.187600135803223, -4.934100151062012, -4.946000099182129, -5.330900192260742, -4.086699962615967, -5.612599849700928, -4.3719000816345215, -3.8977999687194824, -5.746799945831299, -4.751500129699707, -5.2621002197265625, -4.855299949645996, -4.96589994430542, -5.798500061035156, -5.072500228881836, -5.048299789428711, -5.202300071716309, -5.166500091552734, -5.208399772644043, -5.075099945068359, -5.399499893188477, -5.273200035095215, -5.271900177001953, -5.507699966430664, -4.291200160980225, -4.748300075531006, -4.7652997970581055, -4.926000118255615, -4.949900150299072, -4.985099792480469, -5.231200218200684, -5.250999927520752, -5.374199867248535, -5.165900230407715, -5.394899845123291, -5.471700191497803, -5.482900142669678, -5.488999843597412, -5.579899787902832, -5.6244001388549805, -5.646100044250488, -5.7067999839782715, -5.707399845123291, -5.712800025939941, -5.747200012207031, -5.778800010681152, -5.828100204467773, -5.83650016784668, -5.8907999992370605, -4.673500061035156, -5.905200004577637, -5.927599906921387, -5.942200183868408, -5.961599826812744, -5.041100025177002, -5.315499782562256, -4.571800231933594, -5.403299808502197, -5.28849983215332, -5.040299892425537, -5.267499923706055, -3.5748000144958496, -4.820799827575684, -5.101099967956543, -5.315199851989746, -5.020500183105469, -4.890399932861328, -5.029200077056885, -5.261499881744385, -4.972700119018555, -5.242800235748291, -3.373800039291382, -4.1508002281188965, -4.171299934387207, -4.201099872589111, -4.520599842071533, -4.809100151062012, -4.848700046539307, -5.092899799346924, -5.323999881744385, -5.3282999992370605, -5.357500076293945, -5.386499881744385, -5.400100231170654, -5.408899784088135, -5.447500228881836, -5.458399772644043, -5.4893999099731445, -5.50439977645874, -5.507199764251709, -5.538899898529053, -5.5625, -5.563499927520752, -5.5808000564575195, -5.601799964904785, -5.63070011138916, -5.645400047302246, -5.651199817657471, -5.682300090789795, -5.703400135040283, -5.704999923706055, -4.611499786376953, -4.355299949645996, -4.973299980163574, -5.123899936676025, -5.362299919128418, -5.3958001136779785, -5.19789981842041, -5.230000019073486, -3.0329999923706055, -3.209399938583374, -4.0920000076293945, -4.1894001960754395, -4.2179999351501465, -4.272900104522705, -4.461400032043457, -4.597499847412109, -4.7256999015808105, -4.916200160980225, -5.0304999351501465, -5.098199844360352, -5.164999961853027, -5.19189977645874, -5.24560022354126, -5.349699974060059, -5.367599964141846, -5.439700126647949, -5.450699806213379, -5.482100009918213, -5.518099784851074, -5.558000087738037, -5.607999801635742, -5.6402997970581055, -5.664899826049805, -5.672800064086914, -5.67549991607666, -5.707300186157227, -5.724400043487549, -5.732600212097168, -5.305099964141846, -4.218800067901611, -2.826900005340576, -4.602099895477295, -5.169600009918213, -4.910999774932861, -5.263000011444092, -4.446199893951416, -5.018700122833252, -5.135200023651123, -5.378900051116943, -4.85129976272583, -1.9570000171661377, -4.398099899291992, -4.50570011138916, -4.650100231170654, -4.923699855804443, -4.97130012512207, -5.024400234222412, -5.039700031280518, -5.103400230407715, -5.17710018157959, -5.215000152587891, -5.244200229644775, -5.253600120544434, -5.260000228881836, -5.316400051116943, -5.332300186157227, -5.458399772644043, -5.527500152587891, -5.536799907684326, -5.537600040435791, -5.558199882507324, -5.586900234222412, -5.596499919891357, -5.583199977874756, -5.622300148010254, -5.635300159454346, -5.651000022888184, -5.60290002822876, -5.695899963378906, -5.744900226593018, -5.163599967956543, -4.870800018310547, -5.2758002281188965, -4.899899959564209, -3.4407999515533447, -3.9788999557495117, -5.292900085449219, -5.245999813079834, -5.554999828338623, -5.419400215148926, -5.526400089263916, -3.8234000205993652, -4.416100025177002, -4.513599872589111, -4.671800136566162, -4.7403998374938965, -4.749300003051758, -4.949399948120117, -5.005899906158447, -5.03000020980835, -5.090700149536133, -5.1006999015808105, -5.125100135803223, -5.127600193023682, -5.18120002746582, -5.191999912261963, -5.248600006103516, -5.2515997886657715, -5.2947998046875, -5.371099948883057, -5.371099948883057, -5.543300151824951, -5.557400226593018, -5.558499813079834, -5.601900100708008, -5.602499961853027, -5.646699905395508, -5.659599781036377, -5.707900047302246, -5.711999893188477, -5.722099781036377, -5.559599876403809, -4.716899871826172, -5.366700172424316, -4.802299976348877, -4.122300148010254, -5.018799781799316, -4.981599807739258, -5.510900020599365, -5.5441999435424805], \"loglift\": [30.0, 29.0, 28.0, 27.0, 26.0, 25.0, 24.0, 23.0, 22.0, 21.0, 20.0, 19.0, 18.0, 17.0, 16.0, 15.0, 14.0, 13.0, 12.0, 11.0, 10.0, 9.0, 8.0, 7.0, 6.0, 5.0, 4.0, 3.0, 2.0, 1.0, 1.3079999685287476, 1.305400013923645, 1.3042999505996704, 1.3040000200271606, 1.3036999702453613, 1.3027000427246094, 1.3026000261306763, 1.3021999597549438, 1.3006999492645264, 1.2998000383377075, 1.2996000051498413, 1.2990000247955322, 1.2989000082015991, 1.2985999584197998, 1.29830002784729, 1.298200011253357, 1.2980999946594238, 1.2972999811172485, 1.2971999645233154, 1.2963000535964966, 1.295699954032898, 1.2955000400543213, 1.294600009918213, 1.2943999767303467, 1.2943999767303467, 1.2942999601364136, 1.2928999662399292, 1.2926000356674194, 1.291599988937378, 1.2910000085830688, 1.2742999792099, 1.2842999696731567, 1.2493000030517578, 1.2125999927520752, 1.2417000532150269, 1.2445000410079956, 1.2508000135421753, 1.246000051498413, 1.1822999715805054, 1.220900058746338, 1.1734000444412231, 1.2122000455856323, 1.1710000038146973, 1.083299994468689, 1.2050000429153442, 1.1912000179290771, 1.0627000331878662, 1.2620999813079834, 1.0547000169754028, 1.0497000217437744, 1.0592000484466553, 1.0088000297546387, 0.8291000127792358, 1.00409996509552, 1.1684000492095947, 0.7397000193595886, 0.6782000064849854, 0.8540999889373779, 0.7231000065803528, 0.5515999794006348, 0.9120000004768372, 0.8984000086784363, 0.6166999936103821, 0.5192999839782715, 0.5703999996185303, 0.5605000257492065, 0.6331999897956848, 0.4648999869823456, 0.4465000033378601, 0.7070000171661377, 0.133200004696846, 0.5436999797821045, 0.11020000278949738, 0.5091000199317932, -0.24320000410079956, 0.40230000019073486, 0.2312999963760376, 0.26919999718666077, -0.1664000004529953, 0.10369999706745148, 1.3248000144958496, 1.323199987411499, 1.3223999738693237, 1.3220000267028809, 1.3216999769210815, 1.3214000463485718, 1.3205000162124634, 1.3198000192642212, 1.318600058555603, 1.318600058555603, 1.3183000087738037, 1.3177000284194946, 1.31659996509552, 1.3158999681472778, 1.3150999546051025, 1.315000057220459, 1.3143999576568604, 1.3122999668121338, 1.312000036239624, 1.3118000030517578, 1.3114999532699585, 1.3112000226974487, 1.3104000091552734, 1.3099000453948975, 1.309399962425232, 1.3091000318527222, 1.308899998664856, 1.3086999654769897, 1.3082000017166138, 1.3078999519348145, 1.2487000226974487, 1.2402000427246094, 1.291700005531311, 1.229099988937378, 1.2483999729156494, 1.2109999656677246, 1.1500999927520752, 1.2285000085830688, 1.2173000574111938, 1.159500002861023, 1.266800045967102, 1.278499960899353, 1.0096999406814575, 1.1577999591827393, 0.9266999959945679, 1.0526000261306763, 1.0850000381469727, 1.226199984550476, 1.0526000261306763, 1.1433000564575195, 0.869700014591217, 0.9203000068664551, 1.1105999946594238, 0.8860999941825867, 0.8604999780654907, 0.7871000170707703, 0.9161999821662903, 0.8198999762535095, 0.8277999758720398, 0.6739000082015991, 0.8284000158309937, 0.8504999876022339, 1.0191999673843384, 0.6222000122070312, 0.9129999876022339, 0.8199999928474426, 0.7423999905586243, 0.6470999717712402, 0.7384999990463257, 0.7502999901771545, 0.5712000131607056, 0.76419997215271, 0.4512999951839447, 0.34209999442100525, 0.5992000102996826, 0.34940001368522644, 0.4731999933719635, 0.6079000234603882, 0.4424999952316284, 0.18729999661445618, 0.36410000920295715, 1.919100046157837, 1.9185999631881714, 1.9179999828338623, 1.9178999662399292, 1.9155999422073364, 1.9149999618530273, 1.9148999452590942, 1.9148999452590942, 1.9142999649047852, 1.9141000509262085, 1.9139000177383423, 1.9139000177383423, 1.9134999513626099, 1.912500023841858, 1.9124000072479248, 1.9124000072479248, 1.9120999574661255, 1.9110000133514404, 1.9108999967575073, 1.9106999635696411, 1.9106999635696411, 1.9105000495910645, 1.9103000164031982, 1.9101999998092651, 1.9101999998092651, 1.909999966621399, 1.909600019454956, 1.9093999862670898, 1.90910005569458, 1.9089000225067139, 1.9016000032424927, 1.8805999755859375, 1.863800048828125, 1.8803000450134277, 1.8509000539779663, 1.7883000373840332, 1.8473999500274658, 1.8035999536514282, 1.7187000513076782, 1.7278000116348267, 1.5951000452041626, 1.8027000427246094, 1.788699984550476, 1.5217000246047974, 1.3834999799728394, 1.693600058555603, 1.4814000129699707, 1.7229000329971313, 1.7396999597549438, 1.2632999420166016, 1.7036999464035034, 1.1871000528335571, 1.3051999807357788, 1.3222999572753906, 0.7509999871253967, 1.6497999429702759, 0.7975000143051147, 0.7268000245094299, 0.5329999923706055, 1.5096999406814575, 1.1018999814987183, 0.4691999852657318, 0.02759999968111515, 0.6205000281333923, 0.3240000009536743, 0.8963000178337097, 0.21899999678134918, 0.1256999969482422, 0.9390000104904175, 0.8974999785423279, -0.0203000009059906, 0.1678999960422516, 0.6014999747276306, 0.580299973487854, 0.3357999920845032, 0.8183000087738037, 0.45190000534057617, 0.5697000026702881, 0.004900000058114529, -0.193900004029274, -0.0835999995470047, -0.11959999799728394, -0.30379998683929443, 0.14239999651908875, 0.2280000001192093, -0.023000000044703484, 2.2218000888824463, 2.2191998958587646, 2.2190001010894775, 2.2183001041412354, 2.2183001041412354, 2.218100070953369, 2.217900037765503, 2.216399908065796, 2.2163000106811523, 2.21560001373291, 2.215100049972534, 2.214200019836426, 2.213599920272827, 2.2135000228881836, 2.212899923324585, 2.211899995803833, 2.2111001014709473, 2.20989990234375, 2.2098000049591064, 2.2093000411987305, 2.209199905395508, 2.208899974822998, 2.208699941635132, 2.2086000442504883, 2.2079999446868896, 2.20770001411438, 2.2074999809265137, 2.2067999839782715, 2.206700086593628, 2.2065999507904053, 2.2060000896453857, 2.19569993019104, 2.1545000076293945, 1.969099998474121, 1.8552000522613525, 1.7936999797821045, 1.8562999963760376, 2.0952000617980957, 1.7317999601364136, 1.8562999963760376, 2.0557000637054443, 1.7518999576568604, 1.4783999919891357, 1.9565000534057617, 1.1922999620437622, 1.3128999471664429, 1.1571999788284302, 1.9009000062942505, 1.0532000064849854, 1.0077999830245972, 0.9843000173568726, 1.5175000429153442, 0.8819000124931335, 0.98580002784729, 1.065999984741211, 1.0627000331878662, 0.6572999954223633, 1.0325000286102295, 0.30469998717308044, 1.063599944114685, 0.8378000259399414, 0.7495999932289124, 1.024899959564209, 0.30869999527931213, 1.19159996509552, -0.25699999928474426, 0.6547999978065491, 0.476500004529953, 0.19949999451637268, -0.06109999865293503, 0.147599995136261, 2.4540998935699463, 2.4537999629974365, 2.4521000385284424, 2.451900005340576, 2.4509999752044678, 2.449199914932251, 2.448899984359741, 2.448899984359741, 2.448499917984009, 2.4477999210357666, 2.446500062942505, 2.4458000659942627, 2.445499897003174, 2.4439001083374023, 2.4435999393463135, 2.4414000511169434, 2.4405999183654785, 2.4391000270843506, 2.4384000301361084, 2.437999963760376, 2.4377999305725098, 2.4368999004364014, 2.436500072479248, 2.436300039291382, 2.4351000785827637, 2.434999942779541, 2.4347000122070312, 2.4340999126434326, 2.4335999488830566, 2.43179988861084, 2.4289000034332275, 2.4207000732421875, 2.4119999408721924, 2.3104000091552734, 2.3968000411987305, 2.271899938583374, 2.4005000591278076, 2.3333001136779785, 2.261899948120117, 2.185499906539917, 2.234299898147583, 2.2537999153137207, 2.07450008392334, 2.117799997329712, 2.0653998851776123, 2.0546000003814697, 1.9436999559402466, 1.9328999519348145, 2.0297000408172607, 1.52839994430542, 2.058300018310547, 1.4219000339508057, 1.0831999778747559, 2.072499990463257, 1.4330999851226807, 1.7487000226974487, 1.263800024986267, 1.3420000076293945, 2.104300022125244, 1.2354999780654907, 1.1060999631881714, 1.166599988937378, 0.9775000214576721, 1.0489000082015991, 0.6517000198364258, 1.106600046157837, 0.4203000068664551, 0.26750001311302185, 1.6023000478744507, 3.54259991645813, 3.5404999256134033, 3.5404000282287598, 3.539299964904785, 3.5392000675201416, 3.5388998985290527, 3.536799907684326, 3.5367000102996826, 3.535399913787842, 3.5353000164031982, 3.5352001190185547, 3.5343000888824463, 3.53410005569458, 3.53410005569458, 3.532900094985962, 3.5322999954223633, 3.5320000648498535, 3.531100034713745, 3.531100034713745, 3.5309998989105225, 3.5304999351501465, 3.5299999713897705, 3.5292000770568848, 3.5290000438690186, 3.52810001373291, 3.527899980545044, 3.5278000831604004, 3.527400016784668, 3.527100086212158, 3.526700019836426, 3.523900032043457, 3.500200033187866, 3.453900098800659, 3.4860000610351562, 3.4449000358581543, 3.3901000022888184, 3.410900115966797, 2.9019999504089355, 3.242799997329712, 3.2871999740600586, 3.303800106048584, 3.0492000579833984, 2.9347000122070312, 2.839600086212158, 2.9900999069213867, 2.4526000022888184, 1.7798000574111938, 3.6070001125335693, 3.6052000522613525, 3.60509991645813, 3.6048998832702637, 3.603600025177002, 3.6019999980926514, 3.601799964904785, 3.599900007247925, 3.597599983215332, 3.597599983215332, 3.5973000526428223, 3.59689998626709, 3.5968000888824463, 3.5966999530792236, 3.5961999893188477, 3.596100091934204, 3.5957000255584717, 3.5954999923706055, 3.595400094985962, 3.5950000286102295, 3.5947000980377197, 3.5947000980377197, 3.5945000648498535, 3.5941998958587646, 3.5936999320983887, 3.5934998989105225, 3.593400001525879, 3.5929999351501465, 3.592600107192993, 3.592600107192993, 3.5183000564575195, 3.494999885559082, 3.479300022125244, 3.4414000511169434, 3.4173998832702637, 3.2943999767303467, 2.586400032043457, 2.6684000492095947, 3.7177999019622803, 3.717600107192993, 3.715399980545044, 3.715100049972534, 3.7149999141693115, 3.7146999835968018, 3.7137999534606934, 3.713099956512451, 3.7121999263763428, 3.7107999324798584, 3.7098000049591064, 3.7091000080108643, 3.7084999084472656, 3.708199977874756, 3.7076001167297363, 3.706399917602539, 3.7060999870300293, 3.705199956893921, 3.7049999237060547, 3.7046000957489014, 3.7039999961853027, 3.703399896621704, 3.7026000022888184, 3.7021000385284424, 3.70169997215271, 3.7014999389648438, 3.7014999389648438, 3.700900077819824, 3.7005999088287354, 3.700500011444092, 3.69320011138916, 3.6412999629974365, 3.4303998947143555, 3.5481998920440674, 3.5739998817443848, 3.500699996948242, 3.5364999771118164, 3.0078001022338867, 3.2051000595092773, 2.974600076675415, 3.377700090408325, 1.1907000541687012, 3.747999906539917, 3.743499994277954, 3.7428998947143555, 3.742000102996826, 3.740000009536743, 3.7395999431610107, 3.7390999794006348, 3.739000082015991, 3.738300085067749, 3.737600088119507, 3.7370998859405518, 3.736799955368042, 3.7367000579833984, 3.736599922180176, 3.7358999252319336, 3.7356998920440674, 3.734100103378296, 3.7330000400543213, 3.7328999042510986, 3.7328999042510986, 3.7325000762939453, 3.732100009918213, 3.7318999767303467, 3.731800079345703, 3.7314999103546143, 3.731300115585327, 3.7309999465942383, 3.730600118637085, 3.7302000522613525, 3.729300022125244, 3.7256999015808105, 3.6937999725341797, 3.645400047302246, 3.547499895095825, 3.181999921798706, 3.273400068283081, 3.482599973678589, 3.426800012588501, 3.66510009765625, 3.084199905395508, 1.5089000463485718, 3.78410005569458, 3.7816998958587646, 3.7811999320983887, 3.7802000045776367, 3.7797999382019043, 3.7797000408172607, 3.77810001373291, 3.777600049972534, 3.777400016784668, 3.7767999172210693, 3.776700019836426, 3.776400089263916, 3.776400089263916, 3.7757999897003174, 3.775700092315674, 3.7750000953674316, 3.7750000953674316, 3.7744998931884766, 3.7734999656677246, 3.7734999656677246, 3.7709999084472656, 3.770699977874756, 3.770699977874756, 3.7699999809265137, 3.7699999809265137, 3.7692999839782715, 3.7690000534057617, 3.7681000232696533, 3.7681000232696533, 3.767899990081787, 3.765700101852417, 3.4892001152038574, 3.5869998931884766, 3.2513999938964844, 2.515500068664551, 3.176300048828125, 3.0341999530792236, 2.990999937057495, 2.3968000411987305]}, \"token.table\": {\"Topic\": [7, 5, 3, 5, 6, 7, 8, 9, 10, 2, 3, 4, 5, 3, 1, 2, 3, 4, 5, 5, 4, 1, 2, 3, 5, 3, 4, 6, 1, 4, 6, 9, 5, 9, 1, 2, 3, 4, 5, 6, 7, 10, 1, 2, 3, 4, 5, 6, 4, 7, 1, 2, 3, 4, 5, 4, 5, 10, 9, 3, 2, 5, 7, 1, 1, 2, 3, 4, 6, 1, 2, 3, 4, 5, 6, 7, 1, 2, 3, 4, 6, 10, 4, 7, 1, 2, 3, 4, 5, 6, 2, 7, 8, 10, 3, 1, 2, 3, 4, 6, 3, 6, 3, 2, 3, 4, 4, 6, 9, 2, 1, 3, 10, 1, 4, 5, 7, 6, 1, 2, 3, 10, 5, 10, 1, 2, 10, 1, 2, 3, 4, 5, 6, 7, 1, 2, 3, 6, 3, 1, 2, 3, 4, 5, 6, 1, 1, 1, 2, 3, 4, 5, 3, 1, 2, 3, 4, 5, 6, 1, 2, 3, 4, 5, 6, 3, 1, 2, 3, 4, 5, 6, 1, 2, 3, 4, 5, 1, 2, 3, 4, 5, 6, 7, 7, 6, 4, 5, 1, 1, 2, 3, 4, 5, 6, 7, 7, 10, 5, 9, 7, 10, 6, 6, 10, 1, 2, 3, 4, 5, 6, 7, 8, 4, 5, 1, 2, 3, 4, 5, 6, 1, 3, 4, 5, 1, 2, 3, 4, 5, 6, 1, 1, 2, 3, 4, 5, 6, 5, 5, 1, 2, 3, 4, 5, 6, 1, 2, 3, 4, 5, 6, 7, 10, 1, 2, 3, 4, 5, 5, 9, 7, 5, 2, 7, 2, 3, 4, 7, 1, 2, 3, 4, 5, 6, 1, 2, 3, 4, 5, 6, 7, 1, 2, 3, 4, 5, 2, 2, 7, 1, 3, 1, 2, 3, 4, 5, 5, 7, 1, 2, 10, 8, 7, 4, 8, 2, 6, 1, 2, 3, 4, 5, 4, 3, 1, 2, 3, 4, 5, 7, 1, 2, 3, 4, 5, 1, 2, 3, 4, 5, 3, 4, 5, 6, 1, 6, 5, 6, 2, 1, 2, 3, 4, 5, 6, 1, 2, 3, 4, 5, 6, 10, 1, 2, 3, 4, 5, 6, 2, 4, 10, 4, 9, 6, 9, 4, 6, 1, 2, 3, 4, 5, 6, 4, 6, 1, 5, 1, 2, 3, 4, 5, 6, 10, 1, 2, 3, 4, 5, 6, 1, 2, 3, 4, 5, 7, 1, 2, 3, 4, 5, 8, 4, 3, 4, 5, 5, 9, 1, 4, 1, 2, 3, 4, 5, 6, 7, 1, 2, 3, 4, 5, 6, 4, 5, 1, 2, 3, 4, 5, 10, 1, 2, 3, 4, 5, 10, 1, 10, 1, 2, 3, 4, 5, 9, 4, 5, 6, 4, 6, 8, 3, 1, 2, 3, 4, 5, 6, 2, 3, 5, 6, 6, 5, 8, 1, 2, 3, 5, 6, 1, 2, 3, 4, 5, 6, 7, 5, 1, 2, 3, 1, 4, 6, 9, 5, 2, 2, 2, 10, 3, 9, 3, 9, 1, 2, 3, 4, 5, 9, 9, 9, 8, 3, 1, 2, 3, 4, 5, 1, 3, 4, 5, 5, 7, 8, 9, 1, 4, 9, 3, 5, 1, 2, 6, 10, 10, 2, 1, 2, 3, 4, 5, 10, 3, 5, 10, 8, 3, 9, 10, 1, 2, 3, 4, 5, 6, 1, 7, 1, 2, 3, 4, 5, 1, 2, 6, 7, 1, 6, 8, 7, 9, 10, 2, 8, 9, 1, 2, 3, 4, 5, 7, 6, 9, 8, 1, 9, 3, 4, 5, 7, 1, 2, 3, 4, 5, 9, 1, 4, 5, 5, 1, 2, 6, 4, 3, 4, 5, 6, 7, 10, 1, 2, 3, 4, 5, 1, 2, 3, 4, 5, 6, 1, 1, 3, 4, 3, 4, 6, 10, 1, 2, 3, 4, 5, 6, 9, 9, 5, 8, 9, 1, 4, 5, 9, 4, 6, 10, 7, 5, 7, 1, 4, 6, 10, 6, 1, 2, 3, 4, 3, 6, 7, 7, 10, 1, 2, 3, 4, 5, 4, 9, 1, 2, 3, 4, 5, 6, 10, 10, 4, 5, 8, 9, 3, 3, 6, 8, 7, 9, 1, 2, 3, 4, 5, 6, 8, 9, 7, 2, 6, 7, 8, 9, 10, 9, 10, 10, 1, 2, 3, 4, 5, 6, 6, 9, 1, 2, 3, 4, 5, 1, 6, 1, 2, 3, 1, 4, 5, 6, 7, 10, 3, 4, 8, 1, 2, 3, 4, 5, 6, 1, 2, 3, 4, 5, 1, 2, 3, 4, 1, 2, 3, 4, 5, 6, 10, 1, 2, 3, 4, 5, 6, 2, 2, 7, 1, 2, 3, 4, 5, 6, 1, 2, 3, 4, 5, 1, 2, 3, 4, 5, 7, 1, 5, 9, 1, 2, 3, 4, 5, 1, 2, 3, 4, 5, 6, 1, 2, 3, 4, 5, 1, 2, 3, 4, 5, 4, 5, 7, 1, 2, 5, 1, 2, 3, 4, 5, 7, 3, 4, 1, 2, 3, 6, 1, 2, 3, 4, 5, 6, 7, 2, 3, 8, 10, 1, 2, 3, 4, 5, 6, 1, 2, 4, 6, 9, 4, 6, 1, 3, 4, 5, 3, 4, 5, 9, 10, 10, 1, 2, 3, 4, 1, 1, 2, 3, 6, 10, 1, 2, 3, 4, 5, 6, 7, 5, 6, 7, 1, 2, 3, 4, 5, 6, 1, 2, 3, 4, 5, 1, 2, 3, 4, 5, 6, 3, 5, 8, 10, 9, 7, 1, 9, 1, 5, 6, 7, 8, 1, 2, 5, 6, 2, 1, 3, 5, 10, 3, 3, 4, 5, 1, 3, 6, 2, 3, 1, 2, 3, 4, 5, 7, 1, 3, 9, 3, 1, 2, 3, 4, 5, 10, 4, 4, 2, 7, 8, 2, 7, 8, 2, 5, 4, 1, 6, 10, 1, 3, 8, 1, 2, 3, 4, 5, 6, 3, 3, 4, 6, 1, 3, 4, 5, 6, 9, 1, 2, 1, 2, 3, 4, 5, 8, 3, 4, 6, 7, 8, 10, 1, 2, 3, 4, 5, 6, 4, 10, 7, 6, 8, 1, 2, 3, 4, 5, 6, 7, 1, 2, 3, 4, 5, 1, 1, 2, 3, 4, 5, 6, 8, 8, 2, 2, 4, 9, 3, 1, 2, 3, 4, 5, 5, 7, 10, 3, 5, 2, 3, 5, 10, 3, 5, 9, 4, 5, 6, 1, 2, 3, 4, 5, 6, 7, 7, 5, 3, 7, 8, 2, 7, 1, 2, 3, 4, 5, 6, 10, 1, 6, 1, 2, 3, 4, 5, 6, 10, 3, 1, 2, 3, 4, 5, 7, 1, 2, 3, 4, 5, 6, 2, 3, 4, 5, 6, 5, 8, 8, 2, 1, 2, 3, 4, 5, 6, 7, 3, 10, 3, 4, 5, 6, 7, 1, 2, 3, 4, 6, 10, 10, 1, 3, 4, 5, 6, 2, 3, 1, 2, 3, 4, 5, 6, 5, 8, 10, 2, 5, 8, 2, 8, 2, 3, 6, 10, 1, 2, 3, 4, 5, 6, 1, 2, 3, 4, 5, 6, 1, 2, 3, 4, 5, 6, 7, 5, 4, 10, 3, 1, 2, 3, 4, 5, 6, 10, 3, 1, 2, 3, 4, 5, 1, 2, 3, 4, 5, 6, 7, 1, 2, 3, 4, 5, 3, 5, 8, 10, 8, 1, 3, 4, 5, 9, 2, 3, 7, 9, 1, 7, 8, 3, 1, 2, 3, 4, 5, 1, 2, 3, 4, 5, 4, 1, 2, 3, 4, 5, 1, 2, 3, 4, 5, 7, 1, 2, 3, 4, 5, 6, 10, 6, 1, 2, 3, 4, 5, 6, 7, 3, 4, 5, 6, 7, 1, 2, 7, 9, 3, 6, 1, 2, 3, 4, 5, 6, 1, 8, 1, 3, 9, 1, 2, 4, 6, 1, 2, 3, 4, 5, 6, 8, 1, 2, 3, 4, 5, 6, 10, 5, 2, 3, 5, 3, 4, 6, 8, 10, 5, 3, 8, 4, 1, 2, 3, 4, 5, 6, 1, 2, 3, 4, 5, 6, 8, 9, 10, 8, 8, 8, 8, 1, 2, 3, 4, 5, 7, 3, 4, 2, 7, 4, 6, 8, 8, 1, 5, 6, 6, 10, 1, 9, 6, 5, 7, 1, 2, 3, 4, 5, 6, 1, 2, 3, 4, 5, 6, 1, 2, 3, 4, 6, 10, 1, 3, 4, 6, 7, 10, 1, 2, 3, 4, 5, 6, 6, 7, 9, 4, 1, 2, 3, 4, 5, 6, 3, 4, 5, 7, 8, 9, 6, 8, 10, 1, 2, 3, 4, 5, 5, 7, 8, 4, 6, 4, 6, 10, 9, 8, 2, 2, 10, 8, 1, 8, 2, 5, 8], \"Freq\": [0.9971219301223755, 0.9977697730064392, 0.2270728349685669, 0.1952323615550995, 0.5253677368164062, 0.005027442704886198, 0.010054885409772396, 0.02429930679500103, 0.012568606995046139, 0.049964576959609985, 0.058781854808330536, 0.08523368835449219, 0.7994332313537598, 0.9883286952972412, 0.13138501346111298, 0.021271858364343643, 0.03503600135445595, 0.21271859109401703, 0.5981146097183228, 0.9925154447555542, 0.9869783520698547, 0.06104268506169319, 0.037564728409051895, 0.06808607280254364, 0.8311196565628052, 0.6597265005111694, 0.26927614212036133, 0.06731903553009033, 0.3049066662788391, 0.049444325268268585, 0.6098133325576782, 0.03296288102865219, 0.9973776936531067, 0.9995655417442322, 0.21345102787017822, 0.4252080023288727, 0.2668137848377228, 0.07030331343412399, 0.020328670740127563, 0.003388111712411046, 0.0008470279281027615, 0.0008470279281027615, 0.11899342387914658, 0.6011831760406494, 0.17271806299686432, 0.070596843957901, 0.03552042320370674, 0.0008880106033757329, 0.9810109734535217, 0.984724760055542, 0.3277912437915802, 0.19329674541950226, 0.11447671800851822, 0.004378890618681908, 0.3590690493583679, 0.7653266191482544, 0.23052005469799042, 0.9870126247406006, 0.9797597527503967, 0.9959478974342346, 0.9232085347175598, 0.07321998476982117, 0.9864330887794495, 0.9908767938613892, 0.08812323212623596, 0.8427785634994507, 0.0016022406052798033, 0.06248738616704941, 0.0048067220486700535, 0.32638365030288696, 0.3169369399547577, 0.1426452398300171, 0.13556021451950073, 0.07699064165353775, 0.0009446704643778503, 0.9949948787689209, 0.22794511914253235, 0.7268316149711609, 0.0019445554353296757, 0.03046470321714878, 0.0008642468601465225, 0.011667332611978054, 0.9819962382316589, 0.9884750247001648, 0.12995722889900208, 0.42270296812057495, 0.37345603108406067, 0.0396711528301239, 0.02462347410619259, 0.008207825012505054, 0.14742153882980347, 0.13923145830631256, 0.7125374674797058, 0.9852480292320251, 0.9865474104881287, 0.03906390815973282, 0.8938741087913513, 0.02068089134991169, 0.02297876961529255, 0.02068089134991169, 0.9592388272285461, 0.03737294301390648, 0.9891974329948425, 0.9819390773773193, 0.8153846263885498, 0.18264615535736084, 0.36401447653770447, 0.49209365248680115, 0.13819068670272827, 0.9882113933563232, 0.9752148389816284, 0.5396280288696289, 0.45074811577796936, 0.09999414533376694, 0.8437005877494812, 0.03749780356884003, 0.012499268166720867, 0.9815860986709595, 0.7764171361923218, 0.18377579748630524, 0.009972330182790756, 0.02849237248301506, 0.1695737987756729, 0.8179442286491394, 0.9894105195999146, 0.9881840348243713, 0.9906907677650452, 0.9387483596801758, 0.04218771308660507, 0.012914606370031834, 0.002295929938554764, 0.0028699124231934547, 0.0002869912423193455, 0.000573982484638691, 0.9309707283973694, 0.030712435021996498, 0.03647101670503616, 0.9965035319328308, 0.9938661456108093, 0.3521743714809418, 0.3306857645511627, 0.13450275361537933, 0.10425952821969986, 0.07680186629295349, 0.0011938114184886217, 0.9856647253036499, 0.995360255241394, 0.6323545575141907, 0.15808863937854767, 0.05178765952587128, 0.04906199127435684, 0.10902664810419083, 0.9843997359275818, 0.4204438328742981, 0.31680503487586975, 0.10677938908338547, 0.08715082705020905, 0.06712968647480011, 0.0011777138570323586, 0.4633815586566925, 0.2887181043624878, 0.10193292051553726, 0.08430127799510956, 0.05950678512454033, 0.0011019775411114097, 0.9895013570785522, 0.18102093040943146, 0.48749101161956787, 0.03411336615681648, 0.2894133925437927, 0.007152802776545286, 0.0011004311963915825, 0.2195025235414505, 0.7592204809188843, 0.011620721779763699, 0.00774714769795537, 0.9906865954399109, 0.21433717012405396, 0.336557537317276, 0.18363156914710999, 0.20771439373493195, 0.054788436740636826, 0.001204141415655613, 0.0018062121234834194, 0.9912384748458862, 0.9936421513557434, 0.9738149046897888, 0.9825828671455383, 0.9832063317298889, 0.277064710855484, 0.30635637044906616, 0.12026814371347427, 0.20814314484596252, 0.08718578517436981, 0.0006892157252877951, 0.00034460786264389753, 0.8455157279968262, 0.14881077408790588, 0.1743348091840744, 0.8175700902938843, 0.9873639345169067, 0.9850139021873474, 0.9884644150733948, 0.9445978403091431, 0.046762268990278244, 0.2562885582447052, 0.01281442865729332, 0.03203606978058815, 0.6227812170982361, 0.07432368397712708, 0.9109281301498413, 0.015773648396134377, 0.07098141312599182, 0.9906635880470276, 0.9956098198890686, 0.19249019026756287, 0.3346368074417114, 0.10562282055616379, 0.312919944524765, 0.0503435879945755, 0.004935645963996649, 0.9121342301368713, 0.07848596572875977, 0.004242484923452139, 0.0021212424617260695, 0.47134077548980713, 0.2762201428413391, 0.07628172636032104, 0.09555289894342422, 0.07989507168531418, 0.9930572509765625, 0.9811341762542725, 0.34976646304130554, 0.2566545605659485, 0.2041299045085907, 0.11579298973083496, 0.07222139835357666, 0.0005968710756860673, 0.9947353005409241, 0.9833212494850159, 0.255625456571579, 0.41576051712036133, 0.08334898948669434, 0.13191454112529755, 0.11189765483140945, 0.0013125825207680464, 0.3075719177722931, 0.519547164440155, 0.04351971298456192, 0.10146450251340866, 0.024204785004258156, 0.0029339133761823177, 0.0002444927813485265, 0.0007334783440455794, 0.9050622582435608, 0.08162173628807068, 0.009390111081302166, 0.002889264840632677, 0.0014446324203163385, 0.9862686991691589, 0.9821618795394897, 0.9913282990455627, 0.9694896936416626, 0.9873237609863281, 0.9912928938865662, 0.9908384680747986, 0.8714505434036255, 0.052815183997154236, 0.0660189837217331, 0.304757297039032, 0.08746930956840515, 0.1816670149564743, 0.2608247697353363, 0.16425231099128723, 0.0003957887238357216, 0.2573358118534088, 0.1267210692167282, 0.16565771400928497, 0.054157331585884094, 0.3950299322605133, 0.0007079389761202037, 0.00035396948806010187, 0.03266993910074234, 0.10832663625478745, 0.2312687784433365, 0.609552264213562, 0.01633496955037117, 0.991084635257721, 0.0831420049071312, 0.9145621061325073, 0.8662182688713074, 0.12956255674362183, 0.23439279198646545, 0.07574889063835144, 0.12577174603939056, 0.07003199309110641, 0.4930823743343353, 0.9766244888305664, 0.9839889407157898, 0.6704078912734985, 0.31954020261764526, 0.008771691471338272, 0.9849992394447327, 0.9806749820709229, 0.12934933602809906, 0.865023672580719, 0.9865655303001404, 0.9915295839309692, 0.02465219609439373, 0.156317338347435, 0.16472148895263672, 0.6488009691238403, 0.005042494740337133, 0.9929072856903076, 0.9859744310379028, 0.09315120428800583, 0.10645852237939835, 0.718595027923584, 0.047906335443258286, 0.026614630594849586, 0.0026614631060510874, 0.4278812110424042, 0.23356817662715912, 0.031404126435518265, 0.3012833297252655, 0.005888273473829031, 0.904672384262085, 0.058602262288331985, 0.016481885686516762, 0.010987924411892891, 0.007325282786041498, 0.15761806070804596, 0.017911143600940704, 0.8239126205444336, 0.9855993390083313, 0.9759095907211304, 0.9902312755584717, 0.9842607975006104, 0.9791817665100098, 0.9723886251449585, 0.18833623826503754, 0.3732866644859314, 0.04655502364039421, 0.03555110841989517, 0.35508787631988525, 0.0008464549900963902, 0.12094179540872574, 0.5818897485733032, 0.10790225118398666, 0.14702089130878448, 0.041726548224687576, 0.0003259886580053717, 0.9855327010154724, 0.144649937748909, 0.3358538746833801, 0.3092515766620636, 0.15795107185840607, 0.050987716764211655, 0.0005542142898775637, 0.981661319732666, 0.9933171272277832, 0.9899318814277649, 0.9896218776702881, 0.9796343445777893, 0.9824620485305786, 0.014102325774729252, 0.9897499084472656, 0.9878812432289124, 0.27474743127822876, 0.318614661693573, 0.3313130736351013, 0.04848484322428703, 0.026551222428679466, 0.9807357788085938, 0.9901634454727173, 0.9874701499938965, 0.1815568506717682, 0.81529301404953, 0.310932457447052, 0.62604159116745, 0.014386426657438278, 0.02923693135380745, 0.013922348618507385, 0.005104861222207546, 0.9908998608589172, 0.2769036293029785, 0.382747083902359, 0.16838733851909637, 0.12081123143434525, 0.049714356660842896, 0.0010691259521991014, 0.09547074139118195, 0.03242402523756027, 0.07025205343961716, 0.13329876959323883, 0.66829514503479, 0.9822512269020081, 0.14180585741996765, 0.2774125337600708, 0.17745104432106018, 0.31228283047676086, 0.08988786488771439, 0.9834393858909607, 0.9945212602615356, 0.9750381112098694, 0.01598423160612583, 0.9904025197029114, 0.06509863585233688, 0.9244006276130676, 0.9922553896903992, 0.9865607023239136, 0.2109423726797104, 0.6689887046813965, 0.02580760233104229, 0.08344972878694534, 0.008190436288714409, 0.0024725846014916897, 0.0001545365375932306, 0.29843220114707947, 0.6319311261177063, 0.016802793368697166, 0.04821670800447464, 0.0036527810152620077, 0.00036527810152620077, 0.028515534475445747, 0.9623993039131165, 0.7786819934844971, 0.13046517968177795, 0.0020545697771012783, 0.07858730107545853, 0.009245564229786396, 0.0005136424442753196, 0.8776983618736267, 0.0816681906580925, 0.005632288753986359, 0.025345299392938614, 0.001877429662272334, 0.0065710037015378475, 0.995135486125946, 0.9904905557632446, 0.059070948511362076, 0.030716894194483757, 0.2055668979883194, 0.0212655421346426, 0.6816787719726562, 0.98406982421875, 0.9281028509140015, 0.06400709599256516, 0.9865028858184814, 0.9891753196716309, 0.9558037519454956, 0.03475650027394295, 0.9912509918212891, 0.4524804949760437, 0.2733941674232483, 0.14326906204223633, 0.07787790894508362, 0.05257580056786537, 0.0003285987477283925, 0.9056566953659058, 0.07875275611877441, 0.011250393465161324, 0.005625196732580662, 0.9918307662010193, 0.9838197231292725, 0.9826704263687134, 0.10927494615316391, 0.8440188765525818, 0.03538426756858826, 0.0010407137451693416, 0.009366423822939396, 0.2718972861766815, 0.4820209741592407, 0.012167519889771938, 0.17362114787101746, 0.05615778639912605, 0.0032758708111941814, 0.9966763854026794, 0.9796642661094666, 0.12979279458522797, 0.8033726811408997, 0.06265859305858612, 0.94089275598526, 0.010117126628756523, 0.03372375667095184, 0.013489501550793648, 0.9879233837127686, 0.9888123273849487, 0.9914488792419434, 0.962755560874939, 0.026256969198584557, 0.9880726337432861, 0.9880033731460571, 0.959986686706543, 0.03582039847970009, 0.2127264440059662, 0.24818085134029388, 0.0354544073343277, 0.4929850995540619, 0.010129830799996853, 0.987726092338562, 0.9858161807060242, 0.9932793974876404, 0.9833506941795349, 0.9889991879463196, 0.14624252915382385, 0.09461647272109985, 0.15018486976623535, 0.355562686920166, 0.2530615031719208, 0.22568553686141968, 0.1341487467288971, 0.21305976808071136, 0.42611953616142273, 0.9912132620811462, 0.18563763797283173, 0.8063635230064392, 0.0058011761866509914, 0.9881224036216736, 0.8744526505470276, 0.11700422316789627, 0.044229984283447266, 0.9398871660232544, 0.305107444524765, 0.4123871624469757, 0.000984217505902052, 0.28050199151039124, 0.9882377982139587, 0.9903545379638672, 0.6606541872024536, 0.2122679501771927, 0.04412311315536499, 0.022657815366983414, 0.010732649825513363, 0.04889317974448204, 0.18891747295856476, 0.06612111628055573, 0.7415010929107666, 0.9742223024368286, 0.9927247762680054, 0.989094614982605, 0.9956456422805786, 0.1755995899438858, 0.6421927809715271, 0.0075256964191794395, 0.1560327708721161, 0.014047966338694096, 0.004013704601675272, 0.9876306653022766, 0.9913229942321777, 0.545928955078125, 0.152451291680336, 0.2580600082874298, 0.014478614553809166, 0.027253862470388412, 0.09447772055864334, 0.9049971699714661, 0.8710820078849792, 0.1211940199136734, 0.9899340867996216, 0.9825485348701477, 0.9907938838005066, 0.9928297996520996, 0.9780040979385376, 0.9873383641242981, 0.9814780354499817, 0.9255626201629639, 0.07016900181770325, 0.18150681257247925, 0.04714462533593178, 0.643524169921875, 0.0919320210814476, 0.033001240342855453, 0.00235723122023046, 0.9787400960922241, 0.9954268932342529, 0.9873672723770142, 0.9858242273330688, 0.989528238773346, 0.8205845355987549, 0.06927012652158737, 0.07459859549999237, 0.037299297749996185, 0.1928883045911789, 0.08266641199588776, 0.03507060185074806, 0.09519162774085999, 0.5924426317214966, 0.9936752319335938, 0.9879153966903687, 0.9917085766792297, 0.9905534982681274, 0.9917696714401245, 0.04633697122335434, 0.9399785399436951, 0.006619567517191172, 0.9891504645347595, 0.3224688172340393, 0.18798629939556122, 0.21979936957359314, 0.1706337183713913, 0.056395892053842545, 0.041935406625270844, 0.4177481532096863, 0.14471779763698578, 0.0650351271033287, 0.06855053454637527, 0.3034972548484802, 0.16708903014659882, 0.37552663683891296, 0.08134151250123978, 0.2958797514438629, 0.07930797338485718, 0.0006778459646739066, 0.9890307188034058, 0.09242422133684158, 0.871428370475769, 0.03080807439982891, 0.28072139620780945, 0.0709870234131813, 0.5420827269554138, 0.10648053139448166, 0.6167442202568054, 0.27187252044677734, 0.044983264058828354, 0.03393474221229553, 0.0323563814163208, 0.0003945900243707001, 0.986564040184021, 0.9850598573684692, 0.4117679297924042, 0.4761066436767578, 0.11152047663927078, 0.9825682640075684, 0.9858812689781189, 0.9684362411499023, 0.9758161306381226, 0.991716206073761, 0.9882863759994507, 0.9960561394691467, 0.9832175374031067, 0.9752610921859741, 0.012832382693886757, 0.9513229131698608, 0.0200983714312315, 0.0200983714312315, 0.9912346601486206, 0.9823369383811951, 0.8683119416236877, 0.0717841386795044, 0.038652997463941574, 0.019326498731970787, 0.8219122290611267, 0.10122071206569672, 0.07287891209125519, 0.9817224740982056, 0.9870681166648865, 0.19052565097808838, 0.0736938863992691, 0.04134047031402588, 0.017974117770791054, 0.6758268475532532, 0.9855879545211792, 0.9925960898399353, 0.197921484708786, 0.5057142972946167, 0.06890883296728134, 0.09608954191207886, 0.13054396212100983, 0.000765653676353395, 0.9940352439880371, 0.9915111660957336, 0.9884192943572998, 0.9771033525466919, 0.9904876947402954, 0.9840676188468933, 0.9873484969139099, 0.9847447872161865, 0.15187251567840576, 0.8442324995994568, 0.009351768530905247, 0.9819356799125671, 0.15140552818775177, 0.48670440912246704, 0.27154916524887085, 0.07539626955986023, 0.00919466745108366, 0.004903822671622038, 0.047314900904893875, 0.9462980628013611, 0.9965542554855347, 0.2259337455034256, 0.06981644034385681, 0.051392655819654465, 0.06787709146738052, 0.5672585368156433, 0.017454110085964203, 0.9858948588371277, 0.9966429471969604, 0.9930501580238342, 0.5303817987442017, 0.3285256028175354, 0.03629707917571068, 0.06963112950325012, 0.03481556475162506, 0.00037037834408693016, 0.989774763584137, 0.9736163020133972, 0.11158574372529984, 0.10809868574142456, 0.05230581760406494, 0.024409379810094833, 0.704384982585907, 0.9800326824188232, 0.9813346266746521, 0.8848518133163452, 0.0954708531498909, 0.0162999015301466, 0.935064971446991, 0.013023189269006252, 0.013023189269006252, 0.015627827495336533, 0.002604637760668993, 0.020837102085351944, 0.9284836053848267, 0.06427963078022003, 0.9926168322563171, 0.18410611152648926, 0.554023027420044, 0.10853168368339539, 0.14319363236427307, 0.006818744819611311, 0.002841143636032939, 0.7684794068336487, 0.16305652260780334, 0.0181173924356699, 0.046048372983932495, 0.003019565250724554, 0.8697769045829773, 0.09054984152317047, 0.014122451655566692, 0.024091241881251335, 0.28705987334251404, 0.6648853421211243, 0.01421629823744297, 0.0267922542989254, 0.0010935614118352532, 0.005467806942760944, 0.0005467807059176266, 0.1973986178636551, 0.4490649104118347, 0.06308615952730179, 0.24963124096393585, 0.029847213998436928, 0.010853532701730728, 0.9898347854614258, 0.9807436466217041, 0.987500786781311, 0.23226861655712128, 0.41224411129951477, 0.14685651659965515, 0.10937978327274323, 0.09674227982759476, 0.002178880153223872, 0.2041216343641281, 0.17596691846847534, 0.3244830071926117, 0.16963210701942444, 0.1252884417772293, 0.46716004610061646, 0.372834712266922, 0.05097246915102005, 0.06726264208555222, 0.040988173335790634, 0.00026274469564668834, 0.2334691435098648, 0.03765631467103958, 0.7230011820793152, 0.7379871010780334, 0.17246438562870026, 0.05715389549732208, 0.010026998817920685, 0.022059397771954536, 0.4019292891025543, 0.20347221195697784, 0.22926446795463562, 0.0924222394824028, 0.07092869281768799, 0.0007164514972828329, 0.5638278126716614, 0.2634640336036682, 0.05350460112094879, 0.06457451730966568, 0.05424259603023529, 0.43402212858200073, 0.18292780220508575, 0.06557789444923401, 0.05781209096312523, 0.25886011123657227, 0.18275827169418335, 0.45224928855895996, 0.35932135581970215, 0.9615806937217712, 0.02408970333635807, 0.010037376545369625, 0.7950968146324158, 0.1420079916715622, 0.018120810389518738, 0.025147248059511185, 0.019230248406529427, 0.9957305788993835, 0.9878687858581543, 0.9785658717155457, 0.08994696289300919, 0.9043758511543274, 0.0032707988284528255, 0.0016353994142264128, 0.4219372570514679, 0.20107947289943695, 0.2612384855747223, 0.012361442670226097, 0.09971564263105392, 0.0016481924103572965, 0.0008240962051786482, 0.3045487701892853, 0.19131910800933838, 0.031235771253705025, 0.47244104743003845, 0.44796857237815857, 0.48654958605766296, 0.01661127433180809, 0.041796110570430756, 0.002679237863048911, 0.004286780487746, 0.094141885638237, 0.8891177773475647, 0.015690313652157784, 0.9042444229125977, 0.08802379667758942, 0.9835165739059448, 0.9835945963859558, 0.03183674067258835, 0.01392857450991869, 0.6904593110084534, 0.262653112411499, 0.22381079196929932, 0.07642319798469543, 0.06914480030536652, 0.6223031878471375, 0.007278400007635355, 0.9890130758285522, 0.7728791832923889, 0.13924342393875122, 0.04850051552057266, 0.03911332041025162, 0.9901859164237976, 0.07714559137821198, 0.9154610633850098, 0.005143039394170046, 0.0012857598485425115, 0.9835345149040222, 0.07131144404411316, 0.34628352522850037, 0.302167147397995, 0.2284383475780487, 0.04774240776896477, 0.0036260057240724564, 0.9812411665916443, 0.3163589537143707, 0.573400616645813, 0.10380528122186661, 0.1466522216796875, 0.2725889980792999, 0.06609214097261429, 0.4734959304332733, 0.03485456109046936, 0.005918699316680431, 0.0642167329788208, 0.08688145875930786, 0.06988291442394257, 0.6900150775909424, 0.08877018839120865, 0.16719819605350494, 0.7588850259780884, 0.025972535833716393, 0.026784177869558334, 0.004869850352406502, 0.01623283512890339, 0.9933661222457886, 0.399007111787796, 0.596107006072998, 0.9753783345222473, 0.9878247976303101, 0.9852402210235596, 0.9785816669464111, 0.01578357443213463, 0.04537263512611389, 0.9437508583068848, 0.7372274398803711, 0.0901055708527565, 0.16792403161525726, 0.15803366899490356, 0.8310391306877136, 0.002724718302488327, 0.005449436604976654, 0.9923109412193298, 0.8989176154136658, 0.07138463109731674, 0.023794878274202347, 0.007931625470519066, 0.9811022877693176, 0.1936907321214676, 0.04193304479122162, 0.762782096862793, 0.9363839626312256, 0.06075774133205414, 0.9925776124000549, 0.9909173250198364, 0.993367612361908, 0.1887390911579132, 0.15638382732868195, 0.47858843207359314, 0.07414750009775162, 0.09976208955049515, 0.0013481363421306014, 0.20002731680870056, 0.7953466773033142, 0.9907929301261902, 0.9858267903327942, 0.08725649118423462, 0.6058933734893799, 0.14215944707393646, 0.15147334337234497, 0.012255124747753143, 0.0004902050131931901, 0.9877443313598633, 0.9831098914146423, 0.9868845343589783, 0.16243614256381989, 0.8292792439460754, 0.9534569978713989, 0.01672731526196003, 0.02509097382426262, 0.9772545695304871, 0.9718360304832458, 0.9806033968925476, 0.9756433367729187, 0.9804874658584595, 0.013523965142667294, 0.9891438484191895, 0.9913223385810852, 0.995481550693512, 0.29567861557006836, 0.468786358833313, 0.08146247267723083, 0.11955372244119644, 0.030548427253961563, 0.0037714107893407345, 0.9839009642601013, 0.9971264600753784, 0.22101745009422302, 0.7707275152206421, 0.12510919570922852, 0.09623783826828003, 0.025663424283266068, 0.680080771446228, 0.06736648827791214, 0.9773175716400146, 0.9890811443328857, 0.9824174046516418, 0.03753293305635452, 0.09946227073669434, 0.13042694330215454, 0.6906059980392456, 0.040347903966903687, 0.9820954203605652, 0.7587841749191284, 0.05942285433411598, 0.031996920704841614, 0.07313582301139832, 0.07313582301139832, 0.9887831211090088, 0.42822346091270447, 0.16484878957271576, 0.022235417738556862, 0.309378981590271, 0.07437364012002945, 0.0003833692753687501, 0.9928507208824158, 0.9863442778587341, 0.9895848035812378, 0.9847043752670288, 0.9914863109588623, 0.4760642349720001, 0.24334797263145447, 0.1295493245124817, 0.0759970173239708, 0.0744219496846199, 0.00039376693894155324, 0.9902633428573608, 0.25787806510925293, 0.225481316447258, 0.3576600253582001, 0.12829110026359558, 0.02850913256406784, 0.9811261296272278, 0.11449592560529709, 0.3847595751285553, 0.06789875030517578, 0.3554699122905731, 0.07588683813810349, 0.0013313479721546173, 0.9961592555046082, 0.9955341815948486, 0.9835934638977051, 0.9916989207267761, 0.08689860254526138, 0.8979521989822388, 0.9911718368530273, 0.05237573757767677, 0.5449907779693604, 0.050960175693035126, 0.05591464042663574, 0.29443657398223877, 0.9829621315002441, 0.9833572506904602, 0.989883542060852, 0.9927530884742737, 0.983705997467041, 0.12345141172409058, 0.5473012328147888, 0.3250887095928192, 0.0020575234666466713, 0.9934895634651184, 0.8855050802230835, 0.10676302760839462, 0.047284986823797226, 0.08865935355424881, 0.8570404052734375, 0.1644919365644455, 0.3654027581214905, 0.14446155726909637, 0.06555397808551788, 0.25918102264404297, 0.0006069812807254493, 0.991176187992096, 0.9894818663597107, 0.97132408618927, 0.8891767859458923, 0.06155839189887047, 0.047878749668598175, 0.10257803648710251, 0.8934215903282166, 0.11690700799226761, 0.3805696368217468, 0.022386448457837105, 0.40146365761756897, 0.07561644911766052, 0.002487383084371686, 0.0004974766634404659, 0.9778332710266113, 0.010080755688250065, 0.19971054792404175, 0.42487019300460815, 0.03407588228583336, 0.28899797797203064, 0.047447431832551956, 0.0030193820130079985, 0.001725361100398004, 0.9856756329536438, 0.17322953045368195, 0.23224179446697235, 0.5387248396873474, 0.03616880252957344, 0.01713259145617485, 0.0019036212470382452, 0.4023919105529785, 0.39494022727012634, 0.07544848322868347, 0.03446412459015846, 0.08942043036222458, 0.002794388448819518, 0.17641454935073853, 0.030416302382946014, 0.12166520953178406, 0.6529366374015808, 0.01824978180229664, 0.010429159738123417, 0.9699118733406067, 0.9869526624679565, 0.9846311211585999, 0.24219371378421783, 0.6063271760940552, 0.060688912868499756, 0.038773469626903534, 0.0466405525803566, 0.0005619343719445169, 0.005057409405708313, 0.45308467745780945, 0.541833221912384, 0.364565372467041, 0.1527702510356903, 0.0590248703956604, 0.031248459592461586, 0.3888697326183319, 0.14991770684719086, 0.7334209084510803, 0.011758251115679741, 0.09994513541460037, 0.0014697813894599676, 0.0014697813894599676, 0.9792504906654358, 0.06522438675165176, 0.0666121393442154, 0.004163258709013462, 0.8631823062896729, 0.9952451586723328, 0.10791357606649399, 0.8848913311958313, 0.3287620544433594, 0.5687903165817261, 0.03830237686634064, 0.056815192103385925, 0.0031918648164719343, 0.004468610510230064, 0.24487842619419098, 0.7494356036186218, 0.005381943192332983, 0.8364418745040894, 0.08299326151609421, 0.07973862439393997, 0.9941837191581726, 0.998388409614563, 0.4996809959411621, 0.155744731426239, 0.3352837860584259, 0.006489363498985767, 0.1440759152173996, 0.6012519001960754, 0.17713229358196259, 0.05800458788871765, 0.010602989234030247, 0.008108168840408325, 0.07474469393491745, 0.6623415946960449, 0.0754847377538681, 0.17465096712112427, 0.011100697331130505, 0.0014800929930061102, 0.28553134202957153, 0.6595500111579895, 0.010034647770226002, 0.03557738661766052, 0.003648962825536728, 0.003648962825536728, 0.001824481412768364, 0.9947813153266907, 0.7244564890861511, 0.2743503749370575, 0.9874106645584106, 0.3392835557460785, 0.2610452175140381, 0.20199032127857208, 0.12525656819343567, 0.07222000509500504, 0.0003761458501685411, 0.9927653074264526, 0.9936512112617493, 0.19389785826206207, 0.053781889379024506, 0.11039440333843231, 0.3134917914867401, 0.3276449143886566, 0.1950690895318985, 0.6199007630348206, 0.05367673188447952, 0.11586318910121918, 0.01112810242921114, 0.002618377096951008, 0.000654594274237752, 0.5461187362670898, 0.03685925528407097, 0.018053511157631874, 0.1241178959608078, 0.275316059589386, 0.23519280552864075, 0.13381659984588623, 0.04460553079843521, 0.5839269757270813, 0.9797334671020508, 0.11298354715108871, 0.8304290771484375, 0.033895064145326614, 0.011298354715108871, 0.9961971640586853, 0.2446073591709137, 0.5829564332962036, 0.06444744765758514, 0.10692417621612549, 0.982144296169281, 0.7281047105789185, 0.26058483123779297, 0.9859710931777954, 0.15210559964179993, 0.04701445996761322, 0.044248905032873154, 0.08296669274568558, 0.6720302104949951, 0.06607573479413986, 0.033843666315078735, 0.020950842648744583, 0.16438353061676025, 0.7123286128044128, 0.9885457158088684, 0.734852135181427, 0.18110717833042145, 0.03908788040280342, 0.01824101060628891, 0.024755656719207764, 0.028399372473359108, 0.14057689905166626, 0.5168685913085938, 0.29677343368530273, 0.015619655139744282, 0.0014199686702340841, 0.20961616933345795, 0.3194151222705841, 0.043919578194618225, 0.3433712422847748, 0.08151739835739136, 0.001663620350882411, 0.0003327240701764822, 0.9862194657325745, 0.3004642724990845, 0.49330320954322815, 0.050241563469171524, 0.1462916135787964, 0.00763474777340889, 0.0012314108898863196, 0.0004925643443129957, 0.8036593794822693, 0.07678274065256119, 0.0563073456287384, 0.020475398749113083, 0.040950797498226166, 0.9881027936935425, 0.9970937371253967, 0.9985834360122681, 0.9898725748062134, 0.9435631632804871, 0.05189597234129906, 0.22373688220977783, 0.38130390644073486, 0.24896414577960968, 0.10711248219013214, 0.0372205525636673, 0.0016542468219995499, 0.9848695397377014, 0.9896377921104431, 0.9725063443183899, 0.022882502526044846, 0.9954895973205566, 0.05641010031104088, 0.9223814010620117, 0.012196778319776058, 0.006098389159888029, 0.1483086347579956, 0.12161307781934738, 0.43899354338645935, 0.19428430497646332, 0.09343443810939789, 0.0014830862637609243, 0.9901747107505798, 0.2288084179162979, 0.26675713062286377, 0.3582805097103119, 0.1328205019235611, 0.012277524918317795, 0.002232277300208807, 0.9870568513870239, 0.9792686104774475, 0.9825604557991028, 0.9311726093292236, 0.06694705039262772, 0.6695665121078491, 0.09502099454402924, 0.08176224678754807, 0.0994405746459961, 0.05303497239947319, 0.9811416268348694, 0.5075647830963135, 0.4919816553592682, 0.9777146577835083, 0.44693493843078613, 0.15498550236225128, 0.05526614561676979, 0.11413660645484924, 0.2276725023984909, 0.0006007190095260739, 0.2810401916503906, 0.5564782023429871, 0.06489133834838867, 0.050886012613773346, 0.044817037880420685, 0.0018673766171559691, 0.9928839206695557, 0.9769771695137024, 0.9840856194496155, 0.9945372939109802, 0.9747515320777893, 0.9945480227470398, 0.9937337040901184, 0.5069090127944946, 0.21476343274116516, 0.13794204592704773, 0.084671750664711, 0.05495252460241318, 0.0005607400671578944, 0.9954866170883179, 0.9946097731590271, 0.9930206537246704, 0.9904971122741699, 0.9867107272148132, 0.9879152178764343, 0.9899899363517761, 0.9857633709907532, 0.9857757687568665, 0.9540285468101501, 0.031109625473618507, 0.9855616688728333, 0.9944040179252625, 0.2253376543521881, 0.7678171992301941, 0.9940986633300781, 0.1676197052001953, 0.8297175168991089, 0.25808730721473694, 0.5605703592300415, 0.05682656168937683, 0.09293510764837265, 0.030781054869294167, 0.000591943331528455, 0.5544045567512512, 0.27644696831703186, 0.07351776957511902, 0.04078725725412369, 0.05337591469287872, 0.0010070927673950791, 0.09574545919895172, 0.7839159369468689, 0.009574545547366142, 0.0933518186211586, 0.010771363973617554, 0.004787272773683071, 0.2065172642469406, 0.1992710381746292, 0.1775323897600174, 0.11231640726327896, 0.05434664711356163, 0.24999457597732544, 0.4984462261199951, 0.15272846817970276, 0.23368769884109497, 0.06476737558841705, 0.049888383597135544, 0.0004376174183562398, 0.11481567472219467, 0.8762248754501343, 0.9896393418312073, 0.9835853576660156, 0.237942174077034, 0.35479632019996643, 0.06435446441173553, 0.3031434118747711, 0.03810461610555649, 0.000846769311465323, 0.29254090785980225, 0.08903419226408005, 0.06995543092489243, 0.019078755751252174, 0.012719170190393925, 0.5151264071464539, 0.7851594090461731, 0.114205002784729, 0.09992937743663788, 0.029874876141548157, 0.09986744076013565, 0.08279608190059662, 0.7733324766159058, 0.0128035182133317, 0.9936655163764954, 0.9894083738327026, 0.995425820350647, 0.9801884889602661, 0.9959918260574341, 0.969914972782135, 0.024711210280656815, 0.9818688631057739, 0.9880048632621765, 0.9988287687301636, 0.9890310168266296, 0.9956168532371521, 0.9782824516296387, 0.9910529255867004, 0.9895257353782654, 0.9887651205062866, 0.9888927936553955, 0.9848060607910156, 0.011723881587386131], \"Term\": [\"\\u0430\\u0431\\u0430\", \"\\u0430\\u0431\\u0441\\u043e\\u043b\\u044e\\u0442\", \"\\u0430\\u0432\\u0430\\u043d\\u0433\\u0430\\u0440\\u0434\", \"\\u0430\\u0432\\u0430\\u043d\\u0433\\u0430\\u0440\\u0434\", \"\\u0430\\u0432\\u0430\\u043d\\u0433\\u0430\\u0440\\u0434\", \"\\u0430\\u0432\\u0430\\u043d\\u0433\\u0430\\u0440\\u0434\", \"\\u0430\\u0432\\u0430\\u043d\\u0433\\u0430\\u0440\\u0434\", \"\\u0430\\u0432\\u0430\\u043d\\u0433\\u0430\\u0440\\u0434\", \"\\u0430\\u0432\\u0430\\u043d\\u0433\\u0430\\u0440\\u0434\", \"\\u0430\\u0432\\u0442\\u043e\", \"\\u0430\\u0432\\u0442\\u043e\", \"\\u0430\\u0432\\u0442\\u043e\", \"\\u0430\\u0432\\u0442\\u043e\", \"\\u0430\\u0432\\u0442\\u043e\\u0438\\u043d\\u0444\\u043e\\u0440\\u043c\\u0430\\u0442\\u043e\\u0440\", \"\\u0430\\u0432\\u0442\\u043e\\u043a\\u0440\\u0435\\u0434\\u0438\\u0442\", \"\\u0430\\u0432\\u0442\\u043e\\u043a\\u0440\\u0435\\u0434\\u0438\\u0442\", \"\\u0430\\u0432\\u0442\\u043e\\u043a\\u0440\\u0435\\u0434\\u0438\\u0442\", \"\\u0430\\u0432\\u0442\\u043e\\u043a\\u0440\\u0435\\u0434\\u0438\\u0442\", \"\\u0430\\u0432\\u0442\\u043e\\u043a\\u0440\\u0435\\u0434\\u0438\\u0442\", \"\\u0430\\u0432\\u0442\\u043e\\u043a\\u0440\\u0435\\u0434\\u0438\\u0442\\u043e\\u0432\\u0430\\u043d\\u0438\\u0435\", \"\\u0430\\u0432\\u0442\\u043e\\u043c\\u0430\\u0442\\u0438\\u0437\\u0430\\u0446\\u0438\\u044f\", \"\\u0430\\u0432\\u0442\\u043e\\u043c\\u043e\\u0431\\u0438\\u043b\\u044c\", \"\\u0430\\u0432\\u0442\\u043e\\u043c\\u043e\\u0431\\u0438\\u043b\\u044c\", \"\\u0430\\u0432\\u0442\\u043e\\u043c\\u043e\\u0431\\u0438\\u043b\\u044c\", \"\\u0430\\u0432\\u0442\\u043e\\u043c\\u043e\\u0431\\u0438\\u043b\\u044c\", \"\\u0430\\u0432\\u0442\\u043e\\u043e\\u0442\\u0432\\u0435\\u0442\\u0447\\u0438\\u043a\", \"\\u0430\\u0432\\u0442\\u043e\\u043e\\u0442\\u0432\\u0435\\u0442\\u0447\\u0438\\u043a\", \"\\u0430\\u0432\\u0442\\u043e\\u043e\\u0442\\u0432\\u0435\\u0442\\u0447\\u0438\\u043a\", \"\\u0430\\u0432\\u0442\\u043e\\u0440\\u0438\\u0437\\u0430\\u0446\\u0438\\u044f\", \"\\u0430\\u0432\\u0442\\u043e\\u0440\\u0438\\u0437\\u0430\\u0446\\u0438\\u044f\", \"\\u0430\\u0432\\u0442\\u043e\\u0440\\u0438\\u0437\\u0430\\u0446\\u0438\\u044f\", \"\\u0430\\u0432\\u0442\\u043e\\u0440\\u0438\\u0437\\u0430\\u0446\\u0438\\u044f\", \"\\u0430\\u0432\\u0442\\u043e\\u0441\\u0430\\u043b\\u043e\\u043d\", \"\\u0430\\u0434\\u043c\\u0438\\u043d\", \"\\u0430\\u0434\\u0440\\u0435\\u0441\", \"\\u0430\\u0434\\u0440\\u0435\\u0441\", \"\\u0430\\u0434\\u0440\\u0435\\u0441\", \"\\u0430\\u0434\\u0440\\u0435\\u0441\", \"\\u0430\\u0434\\u0440\\u0435\\u0441\", \"\\u0430\\u0434\\u0440\\u0435\\u0441\", \"\\u0430\\u0434\\u0440\\u0435\\u0441\", \"\\u0430\\u0434\\u0440\\u0435\\u0441\", \"\\u0430\\u043b\\u044c\\u0444\\u0430\", \"\\u0430\\u043b\\u044c\\u0444\\u0430\", \"\\u0430\\u043b\\u044c\\u0444\\u0430\", \"\\u0430\\u043b\\u044c\\u0444\\u0430\", \"\\u0430\\u043b\\u044c\\u0444\\u0430\", \"\\u0430\\u043b\\u044c\\u0444\\u0430\", \"\\u0430\\u043c\\u0435\\u0440\\u0438\\u043a\\u0430\", \"\\u0430\\u043d\\u0435\\u043a\\u0434\\u043e\\u0442\", \"\\u0430\\u043d\\u043a\\u0435\\u0442\\u0430\", \"\\u0430\\u043d\\u043a\\u0435\\u0442\\u0430\", \"\\u0430\\u043d\\u043a\\u0435\\u0442\\u0430\", \"\\u0430\\u043d\\u043a\\u0435\\u0442\\u0430\", \"\\u0430\\u043d\\u043a\\u0435\\u0442\\u0430\", \"\\u0430\\u0440\\u0431\\u0430\\u0442\", \"\\u0430\\u0440\\u0431\\u0430\\u0442\", \"\\u0430\\u0440\\u0445\\u0430\\u043d\\u0433\\u0435\\u043b\\u044c\\u0441\\u043a\", \"\\u0430\\u0442\\u043c\\u0430\", \"\\u0430\\u0448\\u0430\\u043d\", \"\\u0430\\u044d\\u0440\\u043e\\u0444\\u043b\\u043e\\u0442\", \"\\u0430\\u044d\\u0440\\u043e\\u0444\\u043b\\u043e\\u0442\", \"\\u0431\\u0430\\u0431\\u043a\\u0430\", \"\\u0431\\u0430\\u043a\\u0441\", \"\\u0431\\u0430\\u043b\\u0430\\u043d\\u0441\", \"\\u0431\\u0430\\u043b\\u0430\\u043d\\u0441\", \"\\u0431\\u0430\\u043b\\u0430\\u043d\\u0441\", \"\\u0431\\u0430\\u043b\\u0430\\u043d\\u0441\", \"\\u0431\\u0430\\u043b\\u0430\\u043d\\u0441\", \"\\u0431\\u0430\\u043d\\u043a\", \"\\u0431\\u0430\\u043d\\u043a\", \"\\u0431\\u0430\\u043d\\u043a\", \"\\u0431\\u0430\\u043d\\u043a\", \"\\u0431\\u0430\\u043d\\u043a\", \"\\u0431\\u0430\\u043d\\u043a\", \"\\u0431\\u0430\\u043d\\u043a\\u043d\\u043e\\u0442\\u0430\", \"\\u0431\\u0430\\u043d\\u043a\\u043e\\u043c\\u0430\\u0442\", \"\\u0431\\u0430\\u043d\\u043a\\u043e\\u043c\\u0430\\u0442\", \"\\u0431\\u0430\\u043d\\u043a\\u043e\\u043c\\u0430\\u0442\", \"\\u0431\\u0430\\u043d\\u043a\\u043e\\u043c\\u0430\\u0442\", \"\\u0431\\u0430\\u043d\\u043a\\u043e\\u043c\\u0430\\u0442\", \"\\u0431\\u0430\\u043d\\u043a\\u043e\\u043c\\u0430\\u0442\", \"\\u0431\\u0430\\u0440\\u043a\\u043b\\u0430\\u0439\\u0441\", \"\\u0431\\u0430\\u0440\\u0441\", \"\\u0431\\u0435\\u0437\\u043e\\u043f\\u0430\\u0441\\u043d\\u043e\\u0441\\u0442\\u044c\", \"\\u0431\\u0435\\u0437\\u043e\\u043f\\u0430\\u0441\\u043d\\u043e\\u0441\\u0442\\u044c\", \"\\u0431\\u0435\\u0437\\u043e\\u043f\\u0430\\u0441\\u043d\\u043e\\u0441\\u0442\\u044c\", \"\\u0431\\u0435\\u0437\\u043e\\u043f\\u0430\\u0441\\u043d\\u043e\\u0441\\u0442\\u044c\", \"\\u0431\\u0435\\u0437\\u043e\\u043f\\u0430\\u0441\\u043d\\u043e\\u0441\\u0442\\u044c\", \"\\u0431\\u0435\\u0437\\u043e\\u043f\\u0430\\u0441\\u043d\\u043e\\u0441\\u0442\\u044c\", \"\\u0431\\u0435\\u0439\\u0434\\u0436\\u0438\\u043a\", \"\\u0431\\u0435\\u0439\\u0434\\u0436\\u0438\\u043a\", \"\\u0431\\u0435\\u0439\\u0434\\u0436\\u0438\\u043a\", \"\\u0431\\u0435\\u043b\\u044f\\u0435\\u0432\\u043e\", \"\\u0431\\u0438\\u043d\\u0430\", \"\\u0431\\u043b\\u043e\\u043a\\u0438\\u0440\\u043e\\u0432\\u043a\\u0430\", \"\\u0431\\u043b\\u043e\\u043a\\u0438\\u0440\\u043e\\u0432\\u043a\\u0430\", \"\\u0431\\u043b\\u043e\\u043a\\u0438\\u0440\\u043e\\u0432\\u043a\\u0430\", \"\\u0431\\u043b\\u043e\\u043a\\u0438\\u0440\\u043e\\u0432\\u043a\\u0430\", \"\\u0431\\u043b\\u043e\\u043a\\u0438\\u0440\\u043e\\u0432\\u043a\\u0430\", \"\\u0431\\u0440\\u0430\\u0442\", \"\\u0431\\u0440\\u0430\\u0442\", \"\\u0431\\u0440\\u043e\\u043a\\u0435\\u0440\", \"\\u0431\\u0440\\u043e\\u0448\\u044e\\u0440\\u0430\", \"\\u0431\\u0443\\u043a\\u043b\\u0435\\u0442\", \"\\u0431\\u0443\\u043a\\u043b\\u0435\\u0442\", \"\\u0431\\u0443\\u043b\\u044c\\u0432\\u0430\\u0440\", \"\\u0431\\u0443\\u043b\\u044c\\u0432\\u0430\\u0440\", \"\\u0431\\u0443\\u043b\\u044c\\u0432\\u0430\\u0440\", \"\\u0431\\u0443\\u043c\\u0430\\u0436\\u043d\\u0438\\u043a\", \"\\u0431\\u0443\\u0442\\u044b\\u043b\\u043a\\u0430\", \"\\u0431\\u044b\\u0441\\u0442\\u0440\\u043e\\u0442\\u0430\", \"\\u0431\\u044b\\u0441\\u0442\\u0440\\u043e\\u0442\\u0430\", \"\\u0431\\u044e\\u0440\\u043e\", \"\\u0431\\u044e\\u0440\\u043e\", \"\\u0431\\u044e\\u0440\\u043e\", \"\\u0431\\u044e\\u0440\\u043e\", \"\\u0432\\u0430\\u043b\\u0435\\u0440\\u0438\\u0439\", \"\\u0432\\u0430\\u043b\\u044e\\u0442\\u0430\", \"\\u0432\\u0430\\u043b\\u044e\\u0442\\u0430\", \"\\u0432\\u0430\\u043b\\u044e\\u0442\\u0430\", \"\\u0432\\u0430\\u043b\\u044e\\u0442\\u0430\", \"\\u0432\\u0435\\u0431\", \"\\u0432\\u0435\\u0431\", \"\\u0432\\u0435\\u0440\\u043d\\u0430\\u0434\\u0441\\u043a\\u0438\\u0439\", \"\\u0432\\u0435\\u0441\\u0442\\u0435\\u0440\\u043d\", \"\\u0432\\u0435\\u0441\\u0442\\u0438\\u0431\\u044e\\u043b\\u044c\", \"\\u0432\\u043a\\u043b\\u0430\\u0434\", \"\\u0432\\u043a\\u043b\\u0430\\u0434\", \"\\u0432\\u043a\\u043b\\u0430\\u0434\", \"\\u0432\\u043a\\u043b\\u0430\\u0434\", \"\\u0432\\u043a\\u043b\\u0430\\u0434\", \"\\u0432\\u043a\\u043b\\u0430\\u0434\", \"\\u0432\\u043a\\u043b\\u0430\\u0434\", \"\\u0432\\u043a\\u043b\\u0430\\u0434\\u0447\\u0438\\u043a\", \"\\u0432\\u043a\\u043b\\u0430\\u0434\\u0447\\u0438\\u043a\", \"\\u0432\\u043a\\u043b\\u0430\\u0434\\u0447\\u0438\\u043a\", \"\\u0432\\u043e\\u0437\\u0440\\u043e\\u0436\\u0434\\u0435\\u043d\\u0438\\u0435\", \"\\u0432\\u043e\\u043b\\u043e\\u043a\\u0438\\u0442\\u0430\", \"\\u0432\\u043e\\u043f\\u0440\\u043e\\u0441\", \"\\u0432\\u043e\\u043f\\u0440\\u043e\\u0441\", \"\\u0432\\u043e\\u043f\\u0440\\u043e\\u0441\", \"\\u0432\\u043e\\u043f\\u0440\\u043e\\u0441\", \"\\u0432\\u043e\\u043f\\u0440\\u043e\\u0441\", \"\\u0432\\u043e\\u043f\\u0440\\u043e\\u0441\", \"\\u0432\\u043e\\u0441\\u0442\\u043e\\u0440\\u0433\", \"\\u0432\\u043e\\u0441\\u0442\\u0440\\u0435\\u0431\\u043e\\u0432\\u0430\\u043d\\u0438\\u0435\", \"\\u0432\\u043f\\u0435\\u0447\\u0430\\u0442\\u043b\\u0435\\u043d\\u0438\\u0435\", \"\\u0432\\u043f\\u0435\\u0447\\u0430\\u0442\\u043b\\u0435\\u043d\\u0438\\u0435\", \"\\u0432\\u043f\\u0435\\u0447\\u0430\\u0442\\u043b\\u0435\\u043d\\u0438\\u0435\", \"\\u0432\\u043f\\u0435\\u0447\\u0430\\u0442\\u043b\\u0435\\u043d\\u0438\\u0435\", \"\\u0432\\u043f\\u0435\\u0447\\u0430\\u0442\\u043b\\u0435\\u043d\\u0438\\u0435\", \"\\u0432\\u0440\\u0430\\u0433\", \"\\u0432\\u0440\\u0435\\u043c\\u044f\", \"\\u0432\\u0440\\u0435\\u043c\\u044f\", \"\\u0432\\u0440\\u0435\\u043c\\u044f\", \"\\u0432\\u0440\\u0435\\u043c\\u044f\", \"\\u0432\\u0440\\u0435\\u043c\\u044f\", \"\\u0432\\u0440\\u0435\\u043c\\u044f\", \"\\u0432\\u0441\", \"\\u0432\\u0441\", \"\\u0432\\u0441\", \"\\u0432\\u0441\", \"\\u0432\\u0441\", \"\\u0432\\u0441\", \"\\u0432\\u0443\\u0437\", \"\\u0432\\u044b\\u043f\\u0438\\u0441\\u043a\\u0430\", \"\\u0432\\u044b\\u043f\\u0438\\u0441\\u043a\\u0430\", \"\\u0432\\u044b\\u043f\\u0438\\u0441\\u043a\\u0430\", \"\\u0432\\u044b\\u043f\\u0438\\u0441\\u043a\\u0430\", \"\\u0432\\u044b\\u043f\\u0438\\u0441\\u043a\\u0430\", \"\\u0432\\u044b\\u043f\\u0438\\u0441\\u043a\\u0430\", \"\\u0432\\u044b\\u043f\\u0443\\u0441\\u043a\", \"\\u0432\\u044b\\u043f\\u0443\\u0441\\u043a\", \"\\u0432\\u044b\\u043f\\u0443\\u0441\\u043a\", \"\\u0432\\u044b\\u043f\\u0443\\u0441\\u043a\", \"\\u0432\\u044b\\u0441\\u043a\\u0430\\u0437\\u044b\\u0432\\u0430\\u043d\\u0438\\u0435\", \"\\u0433\", \"\\u0433\", \"\\u0433\", \"\\u0433\", \"\\u0433\", \"\\u0433\", \"\\u0433\", \"\\u0433\\u0430\\u0433\\u0430\\u0440\\u0438\\u043d\", \"\\u0433\\u0435\\u043c\\u043e\\u0440\\u0440\\u043e\\u0439\", \"\\u0433\\u0435\\u043d\", \"\\u0433\\u0435\\u0440\\u043c\\u0430\\u043d\\u0438\\u044f\", \"\\u0433\\u043b\\u043e\\u0431\\u044d\\u043a\\u0441\", \"\\u0433\\u043e\\u0434\", \"\\u0433\\u043e\\u0434\", \"\\u0433\\u043e\\u0434\", \"\\u0433\\u043e\\u0434\", \"\\u0433\\u043e\\u0434\", \"\\u0433\\u043e\\u0434\", \"\\u0433\\u043e\\u0434\", \"\\u0433\\u043e\\u0440\\u0430\", \"\\u0433\\u043e\\u0440\\u0430\", \"\\u0433\\u043e\\u0441\\u0442\\u0438\\u043d\\u0438\\u0446\\u0430\", \"\\u0433\\u043e\\u0441\\u0442\\u0438\\u043d\\u0438\\u0446\\u0430\", \"\\u0433\\u0440\\u0430\\u0431\\u0435\\u0436\", \"\\u0433\\u0440\\u0430\\u0431\\u043b\\u0438\", \"\\u0433\\u0440\\u0430\\u0444\", \"\\u0433\\u0440\\u0430\\u0444\\u0430\", \"\\u0433\\u0440\\u0430\\u0444\\u0430\", \"\\u0433\\u0440\\u0430\\u0444\\u0438\\u043a\", \"\\u0433\\u0440\\u0430\\u0444\\u0438\\u043a\", \"\\u0433\\u0440\\u0430\\u0444\\u0438\\u043a\", \"\\u0433\\u0440\\u0430\\u0444\\u0438\\u043a\", \"\\u0433\\u0440\\u0430\\u0444\\u0438\\u043a\", \"\\u0433\\u0440\\u0435\\u0439\\u0441\", \"\\u0433\\u0440\\u0435\\u0439\\u0441\", \"\\u0433\\u0440\\u0435\\u0439\\u0441\", \"\\u0433\\u0440\\u0443\\u0431\\u043e\\u0441\\u0442\\u044c\", \"\\u0433\\u0443\\u0442\\u0430\", \"\\u0434\\u0430\\u0442\\u0430\", \"\\u0434\\u0430\\u0442\\u0430\", \"\\u0434\\u0430\\u0442\\u0430\", \"\\u0434\\u0430\\u0442\\u0430\", \"\\u0434\\u0430\\u0442\\u0430\", \"\\u0434\\u0430\\u0442\\u0430\", \"\\u0434\\u0432\\u0435\\u0440\\u044c\", \"\\u0434\\u0432\\u0435\\u0440\\u044c\", \"\\u0434\\u0432\\u0435\\u0440\\u044c\", \"\\u0434\\u0432\\u0435\\u0440\\u044c\", \"\\u0434\\u0435\\u0432\\u0443\\u0448\\u043a\\u0430\", \"\\u0434\\u0435\\u0432\\u0443\\u0448\\u043a\\u0430\", \"\\u0434\\u0435\\u0432\\u0443\\u0448\\u043a\\u0430\", \"\\u0434\\u0435\\u0432\\u0443\\u0448\\u043a\\u0430\", \"\\u0434\\u0435\\u0432\\u0443\\u0448\\u043a\\u0430\", \"\\u0434\\u0435\\u0432\\u0447\\u043e\\u043d\\u043a\\u0430\", \"\\u0434\\u0435\\u0433\\u043e\\u0442\\u044c\", \"\\u0434\\u0435\\u043b\\u043e\", \"\\u0434\\u0435\\u043b\\u043e\", \"\\u0434\\u0435\\u043b\\u043e\", \"\\u0434\\u0435\\u043b\\u043e\", \"\\u0434\\u0435\\u043b\\u043e\", \"\\u0434\\u0435\\u043b\\u043e\", \"\\u0434\\u0435\\u043b\\u044c\\u0442\\u0430\", \"\\u0434\\u0435\\u043b\\u044c\\u0442\\u0430\\u043a\\u0440\\u0435\\u0434\\u0438\\u0442\", \"\\u0434\\u0435\\u043d\\u044c\", \"\\u0434\\u0435\\u043d\\u044c\", \"\\u0434\\u0435\\u043d\\u044c\", \"\\u0434\\u0435\\u043d\\u044c\", \"\\u0434\\u0435\\u043d\\u044c\", \"\\u0434\\u0435\\u043d\\u044c\", \"\\u0434\\u0435\\u043d\\u044c\\u0433\\u0438\", \"\\u0434\\u0435\\u043d\\u044c\\u0433\\u0438\", \"\\u0434\\u0435\\u043d\\u044c\\u0433\\u0438\", \"\\u0434\\u0435\\u043d\\u044c\\u0433\\u0438\", \"\\u0434\\u0435\\u043d\\u044c\\u0433\\u0438\", \"\\u0434\\u0435\\u043d\\u044c\\u0433\\u0438\", \"\\u0434\\u0435\\u043d\\u044c\\u0433\\u0438\", \"\\u0434\\u0435\\u043d\\u044c\\u0433\\u0438\", \"\\u0434\\u0435\\u043f\\u043e\\u0437\\u0438\\u0442\", \"\\u0434\\u0435\\u043f\\u043e\\u0437\\u0438\\u0442\", \"\\u0434\\u0435\\u043f\\u043e\\u0437\\u0438\\u0442\", \"\\u0434\\u0435\\u043f\\u043e\\u0437\\u0438\\u0442\", \"\\u0434\\u0435\\u043f\\u043e\\u0437\\u0438\\u0442\", \"\\u0434\\u0435\\u043f\\u043e\\u0437\\u0438\\u0442\\u0430\\u0440\\u0438\\u0439\", \"\\u0434\\u0436\\u0438\", \"\\u0434\\u0436\\u0438\\u044f\", \"\\u0434\\u0438\\u043b\\u0435\\u0440\", \"\\u0434\\u0438\\u043d\\u0430\\u043c\\u043e\", \"\\u0434\\u0438\\u0440\\u0435\\u043a\\u0442\", \"\\u0434\\u043c\\u0438\\u0442\\u0440\\u043e\\u0432\\u043a\\u0430\", \"\\u0434\\u043e\\u0431\\u0440\\u043e\\u0436\\u0435\\u043b\\u0430\\u0442\\u0435\\u043b\\u044c\\u043d\\u043e\\u0441\\u0442\\u044c\", \"\\u0434\\u043e\\u0431\\u0440\\u043e\\u0436\\u0435\\u043b\\u0430\\u0442\\u0435\\u043b\\u044c\\u043d\\u043e\\u0441\\u0442\\u044c\", \"\\u0434\\u043e\\u0431\\u0440\\u043e\\u0436\\u0435\\u043b\\u0430\\u0442\\u0435\\u043b\\u044c\\u043d\\u043e\\u0441\\u0442\\u044c\", \"\\u0434\\u043e\\u0433\\u043e\\u0432\\u043e\\u0440\", \"\\u0434\\u043e\\u0433\\u043e\\u0432\\u043e\\u0440\", \"\\u0434\\u043e\\u0433\\u043e\\u0432\\u043e\\u0440\", \"\\u0434\\u043e\\u0433\\u043e\\u0432\\u043e\\u0440\", \"\\u0434\\u043e\\u0433\\u043e\\u0432\\u043e\\u0440\", \"\\u0434\\u043e\\u0433\\u043e\\u0432\\u043e\\u0440\", \"\\u0434\\u043e\\u043a\\u0443\\u043c\\u0435\\u043d\\u0442\", \"\\u0434\\u043e\\u043a\\u0443\\u043c\\u0435\\u043d\\u0442\", \"\\u0434\\u043e\\u043a\\u0443\\u043c\\u0435\\u043d\\u0442\", \"\\u0434\\u043e\\u043a\\u0443\\u043c\\u0435\\u043d\\u0442\", \"\\u0434\\u043e\\u043a\\u0443\\u043c\\u0435\\u043d\\u0442\", \"\\u0434\\u043e\\u043a\\u0443\\u043c\\u0435\\u043d\\u0442\", \"\\u0434\\u043e\\u043a\\u0443\\u043c\\u0435\\u043d\\u0442\", \"\\u0434\\u043e\\u043b\\u0433\", \"\\u0434\\u043e\\u043b\\u0433\", \"\\u0434\\u043e\\u043b\\u0433\", \"\\u0434\\u043e\\u043b\\u0433\", \"\\u0434\\u043e\\u043b\\u0433\", \"\\u0434\\u043e\\u043b\\u043b\", \"\\u0434\\u043e\\u043d\", \"\\u0434\\u043e\\u043d\", \"\\u0434\\u043e\\u043f\\u043e\\u0444\\u0438\\u0441\", \"\\u0434\\u043e\\u043f\\u043e\\u0444\\u0438\\u0441\", \"\\u0434\\u043e\\u0445\\u043e\\u0434\", \"\\u0434\\u043e\\u0445\\u043e\\u0434\", \"\\u0434\\u043e\\u0445\\u043e\\u0434\", \"\\u0434\\u043e\\u0445\\u043e\\u0434\", \"\\u0434\\u043e\\u0445\\u043e\\u0434\", \"\\u0434\\u0443\\u0445\\u043e\\u0442\\u0430\", \"\\u0434\\u044f\\u0434\\u044f\", \"\\u0435\\u0432\\u0440\\u043e\", \"\\u0435\\u0432\\u0440\\u043e\", \"\\u0435\\u0432\\u0440\\u043e\", \"\\u0436\\u0435\\u043b\\u0430\\u044e\\u0449\\u0438\\u0439\", \"\\u0436\\u0443\\u043a\\u043e\\u0432\", \"\\u0436\\u0443\\u0440\\u043d\\u0430\\u043b\", \"\\u0436\\u0443\\u0440\\u043d\\u0430\\u043b\", \"\\u0436\\u0443\\u0442\\u044c\", \"\\u0437\\u0430\\u0433\\u0440\\u0430\\u043d\\u043f\\u0430\\u0441\\u043f\\u043e\\u0440\\u0442\", \"\\u0437\\u0430\\u0434\\u043e\\u043b\\u0436\\u0435\\u043d\\u043d\\u043e\\u0441\\u0442\\u044c\", \"\\u0437\\u0430\\u0434\\u043e\\u043b\\u0436\\u0435\\u043d\\u043d\\u043e\\u0441\\u0442\\u044c\", \"\\u0437\\u0430\\u0434\\u043e\\u043b\\u0436\\u0435\\u043d\\u043d\\u043e\\u0441\\u0442\\u044c\", \"\\u0437\\u0430\\u0434\\u043e\\u043b\\u0436\\u0435\\u043d\\u043d\\u043e\\u0441\\u0442\\u044c\", \"\\u0437\\u0430\\u0434\\u043e\\u043b\\u0436\\u0435\\u043d\\u043d\\u043e\\u0441\\u0442\\u044c\", \"\\u0437\\u0430\\u0434\\u043e\\u043b\\u0436\\u043d\\u043e\\u0441\\u0442\\u044c\", \"\\u0437\\u0430\\u043a\\u043b\\u0430\\u0434\\u043d\\u0430\\u044f\", \"\\u0437\\u0430\\u043a\\u043e\\u043d\", \"\\u0437\\u0430\\u043a\\u043e\\u043d\", \"\\u0437\\u0430\\u043a\\u043e\\u043d\", \"\\u0437\\u0430\\u043a\\u043e\\u043d\", \"\\u0437\\u0430\\u043a\\u043e\\u043d\", \"\\u0437\\u0430\\u043a\\u043e\\u043d\", \"\\u0437\\u0430\\u043a\\u0440\\u044b\\u0442\\u0438\\u0435\", \"\\u0437\\u0430\\u043a\\u0440\\u044b\\u0442\\u0438\\u0435\", \"\\u0437\\u0430\\u043a\\u0440\\u044b\\u0442\\u0438\\u0435\", \"\\u0437\\u0430\\u043a\\u0440\\u044b\\u0442\\u0438\\u0435\", \"\\u0437\\u0430\\u043a\\u0440\\u044b\\u0442\\u0438\\u0435\", \"\\u0437\\u0430\\u043b\", \"\\u0437\\u0430\\u043b\", \"\\u0437\\u0430\\u043b\", \"\\u0437\\u0430\\u043b\", \"\\u0437\\u0430\\u043b\", \"\\u0437\\u0430\\u043b\\u043e\\u0433\", \"\\u0437\\u0430\\u043b\\u043e\\u0433\", \"\\u0437\\u0430\\u043b\\u043e\\u0433\", \"\\u0437\\u0430\\u043c\\u0435\\u0448\\u0430\\u0442\\u0435\\u043b\\u044c\\u0441\\u0442\\u0432\\u043e\", \"\\u0437\\u0430\\u043f\\u0430\\u0434\", \"\\u0437\\u0430\\u043f\\u0440\\u0430\\u0432\\u043a\\u0430\", \"\\u0437\\u0430\\u0441\\u0442\\u0440\\u043e\\u0439\\u0449\\u0438\\u043a\", \"\\u0437\\u0430\\u0445\\u043e\\u0434\", \"\\u0437\\u0430\\u0447\\u0435\\u0442\", \"\\u0437\\u0430\\u044f\\u0432\\u043a\\u0430\", \"\\u0437\\u0430\\u044f\\u0432\\u043a\\u0430\", \"\\u0437\\u0430\\u044f\\u0432\\u043a\\u0430\", \"\\u0437\\u0430\\u044f\\u0432\\u043a\\u0430\", \"\\u0437\\u0430\\u044f\\u0432\\u043a\\u0430\", \"\\u0437\\u0430\\u044f\\u0432\\u043a\\u0430\", \"\\u0437\\u0430\\u044f\\u0432\\u043b\\u0435\\u043d\\u0438\\u0435\", \"\\u0437\\u0430\\u044f\\u0432\\u043b\\u0435\\u043d\\u0438\\u0435\", \"\\u0437\\u0430\\u044f\\u0432\\u043b\\u0435\\u043d\\u0438\\u0435\", \"\\u0437\\u0430\\u044f\\u0432\\u043b\\u0435\\u043d\\u0438\\u0435\", \"\\u0437\\u0430\\u044f\\u0432\\u043b\\u0435\\u043d\\u0438\\u0435\", \"\\u0437\\u0430\\u044f\\u0432\\u043b\\u0435\\u043d\\u0438\\u0435\", \"\\u0437\\u0430\\u044f\\u0432\\u0443\", \"\\u0437\\u0432\\u043e\\u043d\\u043e\\u043a\", \"\\u0437\\u0432\\u043e\\u043d\\u043e\\u043a\", \"\\u0437\\u0432\\u043e\\u043d\\u043e\\u043a\", \"\\u0437\\u0432\\u043e\\u043d\\u043e\\u043a\", \"\\u0437\\u0432\\u043e\\u043d\\u043e\\u043a\", \"\\u0437\\u0432\\u043e\\u043d\\u043e\\u043a\", \"\\u0437\\u0435\\u043b\\u0435\\u043d\\u043e\\u0433\\u0440\\u0430\\u0434\", \"\\u0437\\u0435\\u043c\\u043b\\u044f\", \"\\u0438\\u0432\\u0430\\u043d\\u043e\\u0432\\u043e\", \"\\u0438\\u0433\\u043e\\u0440\\u044c\", \"\\u0438\\u0437\\u0432\\u0435\\u0441\\u0442\\u0438\\u0435\", \"\\u0438\\u0437\\u0432\\u0435\\u0449\\u0435\\u043d\\u0438\\u0435\", \"\\u0438\\u0437\\u0432\\u0435\\u0449\\u0435\\u043d\\u0438\\u0435\", \"\\u0438\\u043a\\u0435\\u0430\", \"\\u0438\\u043a\\u0435\\u044f\", \"\\u0438\\u043c\\u044f\", \"\\u0438\\u043c\\u044f\", \"\\u0438\\u043c\\u044f\", \"\\u0438\\u043c\\u044f\", \"\\u0438\\u043c\\u044f\", \"\\u0438\\u043d\\u0432\\u0435\\u0441\\u0442\", \"\\u0438\\u043d\\u0432\\u0435\\u0441\\u0442\\u0441\\u0431\\u0435\\u0440\\u0431\\u0430\\u043d\\u043a\", \"\\u0438\\u043d\\u0432\\u0435\\u0441\\u0442\\u0442\\u043e\\u0440\\u0433\\u0431\\u0430\\u043d\\u043a\", \"\\u0438\\u043d\\u0441\\u043f\\u0435\\u043a\\u0442\\u043e\\u0440\", \"\\u0438\\u043d\\u0441\\u043f\\u0435\\u043a\\u0442\\u043e\\u0440\", \"\\u0438\\u043d\\u0442\\u0435\\u0440\\u043d\\u0435\\u0442\", \"\\u0438\\u043d\\u0442\\u0435\\u0440\\u043d\\u0435\\u0442\", \"\\u0438\\u043d\\u0442\\u0435\\u0440\\u043d\\u0435\\u0442\", \"\\u0438\\u043d\\u0442\\u0435\\u0440\\u043d\\u0435\\u0442\", \"\\u0438\\u043d\\u0442\\u0435\\u0440\\u043d\\u0435\\u0442\", \"\\u0438\\u043d\\u0442\\u0435\\u0440\\u043d\\u0435\\u0442\", \"\\u0438\\u043d\\u0444\\u043b\\u044f\\u0446\\u0438\\u044f\", \"\\u0438\\u043d\\u0444\\u043e\\u0440\\u043c\\u0430\\u0446\\u0438\\u044f\", \"\\u0438\\u043d\\u0444\\u043e\\u0440\\u043c\\u0430\\u0446\\u0438\\u044f\", \"\\u0438\\u043d\\u0444\\u043e\\u0440\\u043c\\u0430\\u0446\\u0438\\u044f\", \"\\u0438\\u043d\\u0444\\u043e\\u0440\\u043c\\u0430\\u0446\\u0438\\u044f\", \"\\u0438\\u043d\\u0444\\u043e\\u0440\\u043c\\u0430\\u0446\\u0438\\u044f\", \"\\u0438\\u043d\\u0444\\u043e\\u0440\\u043c\\u0430\\u0446\\u0438\\u044f\", \"\\u0438\\u043f\\u043e\\u0442\\u0435\\u043a\\u0430\", \"\\u0438\\u043f\\u043e\\u0442\\u0435\\u043a\\u0430\", \"\\u0438\\u043f\\u043e\\u0442\\u0435\\u043a\\u0430\", \"\\u0438\\u043f\\u043e\\u0442\\u0435\\u043a\\u0430\", \"\\u0438\\u043f\\u043e\\u0442\\u0435\\u043a\\u0430\", \"\\u0438\\u0441\\u0442\\u0435\\u0440\\u0438\\u043a\\u0430\", \"\\u0438\\u0441\\u0442\\u043e\\u0440\\u0438\\u044f\", \"\\u0438\\u0441\\u0442\\u043e\\u0440\\u0438\\u044f\", \"\\u0438\\u0441\\u0442\\u043e\\u0440\\u0438\\u044f\", \"\\u0438\\u0441\\u0442\\u043e\\u0440\\u0438\\u044f\", \"\\u0438\\u0441\\u0442\\u043e\\u0440\\u0438\\u044f\", \"\\u0438\\u0442\\u0430\\u043b\\u0438\\u044f\", \"\\u043a\\u0430\\u0434\\u0440\", \"\\u043a\\u0430\\u0434\\u0440\\u044b\", \"\\u043a\\u0430\\u0434\\u0440\\u044b\", \"\\u043a\\u0430\\u0437\\u043d\\u0430\", \"\\u043a\\u0430\\u043b\\u0438\\u043d\\u0438\\u043d\\u0433\\u0440\\u0430\\u0434\", \"\\u043a\\u0430\\u043b\\u0438\\u043d\\u0438\\u043d\\u0433\\u0440\\u0430\\u0434\", \"\\u043a\\u0430\\u043f\\u0438\\u0442\\u0430\\u043b\\u0438\\u0437\\u0430\\u0446\\u0438\\u044f\", \"\\u043a\\u0430\\u0440\\u0434\\u0430\", \"\\u043a\\u0430\\u0440\\u0442\\u0430\", \"\\u043a\\u0430\\u0440\\u0442\\u0430\", \"\\u043a\\u0430\\u0440\\u0442\\u0430\", \"\\u043a\\u0430\\u0440\\u0442\\u0430\", \"\\u043a\\u0430\\u0440\\u0442\\u0430\", \"\\u043a\\u0430\\u0440\\u0442\\u0430\", \"\\u043a\\u0430\\u0440\\u0442\\u0430\", \"\\u043a\\u0430\\u0440\\u0442\\u043e\\u0447\\u043a\\u0430\", \"\\u043a\\u0430\\u0440\\u0442\\u043e\\u0447\\u043a\\u0430\", \"\\u043a\\u0430\\u0440\\u0442\\u043e\\u0447\\u043a\\u0430\", \"\\u043a\\u0430\\u0440\\u0442\\u043e\\u0447\\u043a\\u0430\", \"\\u043a\\u0430\\u0440\\u0442\\u043e\\u0447\\u043a\\u0430\", \"\\u043a\\u0430\\u0440\\u0442\\u043e\\u0447\\u043a\\u0430\", \"\\u043a\\u0430\\u0441\\u043a\\u043e\", \"\\u043a\\u0430\\u0441\\u043a\\u043e\", \"\\u043a\\u0430\\u0441\\u0441\\u0430\", \"\\u043a\\u0430\\u0441\\u0441\\u0430\", \"\\u043a\\u0430\\u0441\\u0441\\u0430\", \"\\u043a\\u0430\\u0441\\u0441\\u0430\", \"\\u043a\\u0430\\u0441\\u0441\\u0430\", \"\\u043a\\u0430\\u0441\\u0441\\u0430\", \"\\u043a\\u0430\\u0441\\u0441\\u0438\\u0440\", \"\\u043a\\u0430\\u0441\\u0441\\u0438\\u0440\", \"\\u043a\\u0430\\u0441\\u0441\\u0438\\u0440\", \"\\u043a\\u0430\\u0441\\u0441\\u0438\\u0440\", \"\\u043a\\u0430\\u0441\\u0441\\u0438\\u0440\", \"\\u043a\\u0430\\u0441\\u0441\\u0438\\u0440\", \"\\u043a\\u0430\\u0441\\u0441\\u0438\\u0440\\u0448\\u0430\", \"\\u043a\\u0432\\u0430\\u0440\\u0442\\u0430\\u043b\", \"\\u043a\\u0432\\u0430\\u0440\\u0442\\u0438\\u0440\\u0430\", \"\\u043a\\u0432\\u0430\\u0440\\u0442\\u0438\\u0440\\u0430\", \"\\u043a\\u0432\\u0430\\u0440\\u0442\\u0438\\u0440\\u0430\", \"\\u043a\\u0432\\u0430\\u0440\\u0442\\u0438\\u0440\\u0430\", \"\\u043a\\u0432\\u0430\\u0440\\u0442\\u0438\\u0440\\u0430\", \"\\u043a\\u0432\\u0438\\u0442\\u043e\\u043a\", \"\\u043a\\u0435\\u0431\", \"\\u043a\\u0435\\u0431\", \"\\u043a\\u0438\\u043f\\u0430\", \"\\u043a\\u0438\\u0442\", \"\\u043a\\u043b\\u0430\\u0441\\u0441\\u0438\\u043a\\u0430\", \"\\u043a\\u043b\\u0430\\u0441\\u0441\\u0438\\u043a\\u0430\", \"\\u043a\\u043b\\u0435\\u0440\\u043a\", \"\\u043a\\u043b\\u0438\\u0435\\u043d\\u0442\", \"\\u043a\\u043b\\u0438\\u0435\\u043d\\u0442\", \"\\u043a\\u043b\\u0438\\u0435\\u043d\\u0442\", \"\\u043a\\u043b\\u0438\\u0435\\u043d\\u0442\", \"\\u043a\\u043b\\u0438\\u0435\\u043d\\u0442\", \"\\u043a\\u043b\\u0438\\u0435\\u043d\\u0442\", \"\\u043a\\u043b\\u0438\\u043a\", \"\\u043a\\u043b\\u0438\\u043a\", \"\\u043a\\u043b\\u0438\\u043a\", \"\\u043a\\u043b\\u0438\\u043a\", \"\\u043a\\u043b\\u0438\\u043a\\u0430\", \"\\u043a\\u043b\\u0443\\u0431\", \"\\u043a\\u043d\\u043e\\u043f\\u043e\\u0447\\u043a\\u0430\", \"\\u043a\\u043e\\u0434\", \"\\u043a\\u043e\\u0434\", \"\\u043a\\u043e\\u0434\", \"\\u043a\\u043e\\u0434\", \"\\u043a\\u043e\\u0434\", \"\\u043a\\u043e\\u043c\\u0438\\u0441\\u0441\\u0438\\u044f\", \"\\u043a\\u043e\\u043c\\u0438\\u0441\\u0441\\u0438\\u044f\", \"\\u043a\\u043e\\u043c\\u0438\\u0441\\u0441\\u0438\\u044f\", \"\\u043a\\u043e\\u043c\\u0438\\u0441\\u0441\\u0438\\u044f\", \"\\u043a\\u043e\\u043c\\u0438\\u0441\\u0441\\u0438\\u044f\", \"\\u043a\\u043e\\u043c\\u0438\\u0441\\u0441\\u0438\\u044f\", \"\\u043a\\u043e\\u043c\\u0438\\u0442\\u0435\\u0442\", \"\\u043a\\u043e\\u043c\\u043f\\u043b\\u0435\\u043a\\u0441\", \"\\u043a\\u043e\\u043d\\u0432\\u0435\\u0440\\u0442\", \"\\u043a\\u043e\\u043d\\u0432\\u0435\\u0440\\u0442\", \"\\u043a\\u043e\\u043d\\u0432\\u0435\\u0440\\u0442\", \"\\u043a\\u043e\\u043d\\u0432\\u0435\\u0440\\u0442\\u0430\\u0446\\u0438\\u044f\", \"\\u043a\\u043e\\u043d\\u0432\\u0435\\u0440\\u0442\\u0430\\u0446\\u0438\\u044f\", \"\\u043a\\u043e\\u043d\\u0432\\u0435\\u0440\\u0442\\u0430\\u0446\\u0438\\u044f\", \"\\u043a\\u043e\\u043d\\u0432\\u0435\\u0440\\u0442\\u0430\\u0446\\u0438\\u044f\", \"\\u043a\\u043e\\u043d\\u0434\\u0438\\u0446\\u0438\\u043e\\u043d\\u0435\\u0440\", \"\\u043a\\u043e\\u043d\\u043d\\u0435\\u043a\\u0442\", \"\\u043a\\u043e\\u043d\\u0442\\u0438\\u043d\\u0435\\u043d\\u0442\", \"\\u043a\\u043e\\u043d\\u0442\\u0440\\u0430\\u043a\\u0442\", \"\\u043a\\u043e\\u043d\\u0442\\u0440\\u0430\\u043a\\u0442\", \"\\u043a\\u043e\\u043d\\u0442\\u0440\\u043e\\u043b\\u0435\\u0440\", \"\\u043a\\u043e\\u043d\\u0444\\u0435\\u0442\\u0430\", \"\\u043a\\u043e\\u043e\\u0440\\u0434\\u0438\\u043d\\u0430\\u0442\\u0430\", \"\\u043a\\u043e\\u043e\\u0440\\u0434\\u0438\\u043d\\u0430\\u0442\\u0430\", \"\\u043a\\u043e\\u043f\\u0435\\u0439\\u043a\\u0430\", \"\\u043a\\u043e\\u043f\\u0435\\u0439\\u043a\\u0430\", \"\\u043a\\u043e\\u043f\\u0435\\u0439\\u043a\\u0430\", \"\\u043a\\u043e\\u043f\\u0435\\u0439\\u043a\\u0430\", \"\\u043a\\u043e\\u043f\\u0435\\u0439\\u043a\\u0430\", \"\\u043a\\u043e\\u0440\\u0435\\u043d\\u044c\", \"\\u043a\\u043e\\u0440\\u0437\\u0438\\u043d\\u0430\", \"\\u043a\\u043e\\u0440\\u043e\\u0431\\u043e\\u0447\\u043a\\u0430\", \"\\u043a\\u043e\\u0440\\u043e\\u043b\\u0435\\u0432\\u0430\", \"\\u043a\\u043e\\u0440\\u0440\\u0435\\u0441\\u043f\\u043e\\u043d\\u0434\\u0435\\u043d\\u0446\\u0438\\u044f\", \"\\u043a\\u0440\\u0435\\u0434\\u0438\\u0442\", \"\\u043a\\u0440\\u0435\\u0434\\u0438\\u0442\", \"\\u043a\\u0440\\u0435\\u0434\\u0438\\u0442\", \"\\u043a\\u0440\\u0435\\u0434\\u0438\\u0442\", \"\\u043a\\u0440\\u0435\\u0434\\u0438\\u0442\", \"\\u043a\\u0440\\u0435\\u0434\\u0438\\u0442\\u043e\\u0432\\u0430\\u043d\\u0438\\u0435\", \"\\u043a\\u0440\\u0435\\u0434\\u0438\\u0442\\u043e\\u0432\\u0430\\u043d\\u0438\\u0435\", \"\\u043a\\u0440\\u0435\\u0434\\u0438\\u0442\\u043e\\u0432\\u0430\\u043d\\u0438\\u0435\", \"\\u043a\\u0440\\u0435\\u0434\\u0438\\u0442\\u043e\\u0432\\u0430\\u043d\\u0438\\u0435\", \"\\u043a\\u0440\\u0435\\u0441\\u043b\\u043e\", \"\\u043a\\u0440\\u0438\\u0442\\u0435\\u0440\\u0438\\u0439\", \"\\u043a\\u0440\\u0438\\u0442\\u0435\\u0440\\u0438\\u0439\", \"\\u043a\\u0440\\u0438\\u0442\\u0435\\u0440\\u0438\\u0439\", \"\\u043a\\u0441\\u0435\\u0440\\u043e\\u043a\\u0441\", \"\\u043a\\u0443\\u043b\\u044c\\u0442\\u0443\\u0440\\u0430\", \"\\u043a\\u0443\\u043b\\u044c\\u0442\\u0443\\u0440\\u0430\", \"\\u043a\\u0443\\u043f\\u043b\\u044f\", \"\\u043a\\u0443\\u043f\\u043b\\u044f\", \"\\u043a\\u0443\\u043f\\u044e\\u0440\\u0430\", \"\\u043a\\u0443\\u043f\\u044e\\u0440\\u0430\", \"\\u043a\\u0443\\u043f\\u044e\\u0440\\u0430\", \"\\u043a\\u0443\\u043f\\u044e\\u0440\\u0430\", \"\\u043a\\u0443\\u043f\\u044e\\u0440\\u043e\\u043f\\u0440\\u0438\\u0435\\u043c\\u043d\\u0438\\u043a\", \"\\u043a\\u0443\\u0440\\u0430\\u0442\\u043e\\u0440\", \"\\u043a\\u0443\\u0440\\u0441\", \"\\u043a\\u0443\\u0440\\u0441\", \"\\u043a\\u0443\\u0440\\u0441\", \"\\u043a\\u0443\\u0440\\u0441\", \"\\u043a\\u0443\\u0440\\u0441\", \"\\u043a\\u0443\\u0440\\u0441\", \"\\u043a\\u0443\\u0440\\u0441\\u044b\", \"\\u043a\\u0443\\u0440\\u0441\\u044b\", \"\\u043a\\u0443\\u0440\\u0441\\u044b\", \"\\u043a\\u0443\\u0445\\u043d\\u044f\", \"\\u043b\\u0435\\u043d\\u0442\\u0430\", \"\\u043b\\u0435\\u0441\\u043d\\u043e\\u0439\", \"\\u043b\\u0438\\u0434\\u0435\\u0440\", \"\\u043b\\u0438\\u043c\\u0438\\u0442\", \"\\u043b\\u0438\\u043c\\u0438\\u0442\", \"\\u043b\\u0438\\u043c\\u0438\\u0442\", \"\\u043b\\u0438\\u043c\\u0438\\u0442\", \"\\u043b\\u0438\\u043c\\u0438\\u0442\", \"\\u043b\\u0438\\u043c\\u0438\\u0442\", \"\\u043b\\u0438\\u043d\\u0435\\u0439\\u043a\\u0430\", \"\\u043b\\u0438\\u0441\\u0442\\u043e\\u0432\\u043a\\u0430\", \"\\u043b\\u0438\\u0446\\u043e\", \"\\u043b\\u0438\\u0446\\u043e\", \"\\u043b\\u0438\\u0446\\u043e\", \"\\u043b\\u0438\\u0446\\u043e\", \"\\u043b\\u0438\\u0446\\u043e\", \"\\u043b\\u043e\\u0433\\u0438\\u043d\", \"\\u043b\\u043e\\u0433\\u0438\\u043d\", \"\\u043b\\u043e\\u0433\\u043e\\u0442\\u0438\\u043f\", \"\\u043b\\u043e\\u0433\\u043e\\u0442\\u0438\\u043f\", \"\\u043b\\u043e\\u0436\\u043a\\u0430\", \"\\u043b\\u043e\\u0437\\u0443\\u043d\\u0433\", \"\\u043b\\u043e\\u0442\\u043e\\u043a\", \"\\u043b\\u043e\\u0445\\u043e\\u0442\\u0440\\u043e\\u043d\", \"\\u043b\\u044e\\u0431\\u0435\\u0440\\u0446\\u044b\", \"\\u043c\\u0430\\u043a\\u0434\\u043e\\u043d\\u0430\\u043b\\u044c\\u0434\\u0441\", \"\\u043c\\u0430\\u043b\\u0438\\u043d\\u0430\", \"\\u043c\\u0430\\u043b\\u044c\\u0447\\u0438\\u043a\", \"\\u043c\\u0430\\u043b\\u044c\\u0447\\u0438\\u043a\", \"\\u043c\\u0430\\u043c\\u0430\", \"\\u043c\\u0430\\u043c\\u0430\", \"\\u043c\\u0430\\u043c\\u0430\", \"\\u043c\\u0430\\u043c\\u0430\", \"\\u043c\\u0430\\u043c\\u0430\", \"\\u043c\\u0430\\u043c\\u0430\", \"\\u043c\\u0430\\u043d\\u0430\\u0433\\u0435\\u0440\", \"\\u043c\\u0430\\u043d\\u044f\", \"\\u043c\\u0430\\u0440\\u043a\\u0430\", \"\\u043c\\u0430\\u0440\\u044c\\u0438\\u043d\\u043e\", \"\\u043c\\u0430\\u0441\\u043b\\u043e\", \"\\u043c\\u0430\\u0442\\u044c\", \"\\u043c\\u0430\\u0442\\u044c\", \"\\u043c\\u0430\\u0442\\u044c\", \"\\u043c\\u0430\\u0442\\u044c\", \"\\u043c\\u0430\\u0448\\u0438\\u043d\\u0430\", \"\\u043c\\u0430\\u0448\\u0438\\u043d\\u0430\", \"\\u043c\\u0430\\u0448\\u0438\\u043d\\u0430\", \"\\u043c\\u0430\\u0448\\u0438\\u043d\\u0430\", \"\\u043c\\u0430\\u0448\\u0438\\u043d\\u0430\", \"\\u043c\\u0430\\u044d\\u0441\\u0442\\u0440\\u043e\", \"\\u043c\\u0430\\u044f\\u043a\\u043e\\u0432\\u0441\\u043a\\u0430\\u044f\", \"\\u043c\\u0431\\u0440\\u0440\", \"\\u043c\\u0435\\u0431\\u0435\\u043b\\u044c\", \"\\u043c\\u0435\\u0433\\u0430\", \"\\u043c\\u0435\\u0433\\u0430\\u0444\\u043e\\u043d\", \"\\u043c\\u0435\\u0433\\u0430\\u0444\\u043e\\u043d\", \"\\u043c\\u0435\\u0433\\u0430\\u0444\\u043e\\u043d\", \"\\u043c\\u0435\\u0436\\u0433\\u043e\\u0440\\u043e\\u0434\", \"\\u043c\\u0435\\u043b\\u043e\\u0447\\u044c\", \"\\u043c\\u0435\\u043b\\u043e\\u0447\\u044c\", \"\\u043c\\u0435\\u043b\\u043e\\u0447\\u044c\", \"\\u043c\\u0435\\u043b\\u043e\\u0447\\u044c\", \"\\u043c\\u0435\\u043b\\u043e\\u0447\\u044c\", \"\\u043c\\u0435\\u043b\\u043e\\u0447\\u044c\", \"\\u043c\\u0435\\u043d\\u0435\\u0434\\u0436\\u0435\\u0440\", \"\\u043c\\u0435\\u043d\\u0435\\u0434\\u0436\\u0435\\u0440\", \"\\u043c\\u0435\\u043d\\u0435\\u0434\\u0436\\u0435\\u0440\", \"\\u043c\\u0435\\u043d\\u0435\\u0434\\u0436\\u0435\\u0440\", \"\\u043c\\u0435\\u043d\\u0435\\u0434\\u0436\\u0435\\u0440\", \"\\u043c\\u0435\\u0441\\u044f\\u0446\", \"\\u043c\\u0435\\u0441\\u044f\\u0446\", \"\\u043c\\u0435\\u0441\\u044f\\u0446\", \"\\u043c\\u0435\\u0441\\u044f\\u0446\", \"\\u043c\\u0435\\u0441\\u044f\\u0446\", \"\\u043c\\u0435\\u0441\\u044f\\u0446\", \"\\u043c\\u0435\\u0442\\u0440\", \"\\u043c\\u0438\\u043b\\u0438\\u0446\\u0438\\u044f\", \"\\u043c\\u0438\\u043b\\u0438\\u0446\\u0438\\u044f\", \"\\u043c\\u0438\\u043b\\u0438\\u0446\\u0438\\u044f\", \"\\u043c\\u0438\\u043d\\u0438\", \"\\u043c\\u0438\\u043d\\u0438\", \"\\u043c\\u0438\\u043d\\u0438\", \"\\u043c\\u0438\\u043d\\u0438\", \"\\u043c\\u0438\\u043d\\u0443\\u0442\\u0430\", \"\\u043c\\u0438\\u043d\\u0443\\u0442\\u0430\", \"\\u043c\\u0438\\u043d\\u0443\\u0442\\u0430\", \"\\u043c\\u0438\\u043d\\u0443\\u0442\\u0430\", \"\\u043c\\u0438\\u043d\\u0443\\u0442\\u0430\", \"\\u043c\\u0438\\u043d\\u0443\\u0442\\u0430\", \"\\u043c\\u0438\\u043d\\u0443\\u0442\\u043a\\u0430\", \"\\u043c\\u043e\\u0431\\u0438\\u043b\", \"\\u043c\\u043e\\u0431\\u0438\\u043b\\u044c\\u043d\\u0438\\u043a\", \"\\u043c\\u043e\\u0431\\u0438\\u043b\\u044c\\u043d\\u0438\\u043a\", \"\\u043c\\u043e\\u0431\\u0438\\u043b\\u044c\\u043d\\u0438\\u043a\", \"\\u043c\\u043e\\u043d\\u0435\\u0442\\u0430\", \"\\u043c\\u043e\\u043d\\u0441\\u0442\\u0440\", \"\\u043c\\u043e\\u0440\\u0430\\u0442\\u043e\\u0440\\u0438\\u0439\", \"\\u043c\\u043e\\u0440\\u043e\\u0437\", \"\\u043c\\u043e\\u0441\\u043a\\u043e\\u043c\\u043f\\u0440\\u0438\\u0432\\u0430\\u0442\\u0431\\u0430\\u043d\\u043a\", \"\\u043c\\u043e\\u0441\\u0442\", \"\\u043c\\u044b\\u043b\\u043e\", \"\\u043d\\u0430\\u0431\", \"\\u043d\\u0430\\u0431\\u0435\\u0440\\u0435\\u0436\\u043d\\u0430\\u044f\", \"\\u043d\\u0430\\u0431\\u0435\\u0440\\u0435\\u0436\\u043d\\u0430\\u044f\", \"\\u043d\\u0430\\u0434\\u0435\\u0436\\u043d\\u043e\\u0441\\u0442\\u044c\", \"\\u043d\\u0430\\u0434\\u0435\\u0436\\u043d\\u043e\\u0441\\u0442\\u044c\", \"\\u043d\\u0430\\u0434\\u0435\\u0436\\u043d\\u043e\\u0441\\u0442\\u044c\", \"\\u043d\\u0430\\u0434\\u043e\\u0431\\u043d\\u043e\\u0441\\u0442\\u044c\", \"\\u043d\\u0430\\u0434\\u0443\\u0432\\u0430\\u0442\\u0435\\u043b\\u044c\\u0441\\u0442\\u0432\\u043e\", \"\\u043d\\u0430\\u0440\\u043e\\u0434\", \"\\u043d\\u0430\\u0440\\u043e\\u0434\", \"\\u043d\\u0430\\u0440\\u043e\\u0434\", \"\\u043d\\u0430\\u0440\\u043e\\u0434\", \"\\u043d\\u0430\\u0441\\u0435\\u043b\\u0435\\u043d\\u0438\\u0435\", \"\\u043d\\u0430\\u0441\\u0435\\u043b\\u0435\\u043d\\u0438\\u0435\", \"\\u043d\\u0430\\u0441\\u0435\\u043b\\u0435\\u043d\\u0438\\u0435\", \"\\u043d\\u0430\\u0441\\u043b\\u0435\\u0434\\u0441\\u0442\\u0432\\u043e\", \"\\u043d\\u0430\\u0441\\u0442\\u0440\\u043e\\u0439\\u043a\\u0430\", \"\\u043d\\u0434\\u0444\\u043b\", \"\\u043d\\u0434\\u0444\\u043b\", \"\\u043d\\u0434\\u0444\\u043b\", \"\\u043d\\u0434\\u0444\\u043b\", \"\\u043d\\u0434\\u0444\\u043b\", \"\\u043d\\u0435\\u0431\\u043e\", \"\\u043d\\u0435\\u0434\\u0435\\u043b\\u044c\\u043a\\u0430\", \"\\u043d\\u0435\\u0434\\u0435\\u043b\\u044f\", \"\\u043d\\u0435\\u0434\\u0435\\u043b\\u044f\", \"\\u043d\\u0435\\u0434\\u0435\\u043b\\u044f\", \"\\u043d\\u0435\\u0434\\u0435\\u043b\\u044f\", \"\\u043d\\u0435\\u0434\\u0435\\u043b\\u044f\", \"\\u043d\\u0435\\u0434\\u0435\\u043b\\u044f\", \"\\u043d\\u0435\\u0434\\u043e\\u043f\\u043b\\u0430\\u0442\\u0430\", \"\\u043d\\u0435\\u0434\\u043e\\u0447\\u0435\\u0442\", \"\\u043d\\u0435\\u043e\\u0441\\u0442\\u043e\\u0440\\u043e\\u0436\\u043d\\u043e\\u0441\\u0442\\u044c\", \"\\u043d\\u0435\\u043e\\u0445\\u043e\\u0442\\u0430\", \"\\u043d\\u0435\\u043f\\u043e\\u043d\\u044f\\u0442\\u043a\\u0430\", \"\\u043d\\u0435\\u0440\\u0430\\u0437\\u0431\\u0435\\u0440\\u0438\\u0445\\u0430\", \"\\u043d\\u0435\\u0442\\u0435\\u0440\\u043f\\u0435\\u043d\\u0438\\u0435\", \"\\u043d\\u043e\\u0432\\u0438\\u0447\\u043e\\u043a\", \"\\u043d\\u043e\\u0432\\u043e\\u0441\\u0438\\u0431\\u0438\\u0440\\u0441\\u043a\", \"\\u043d\\u043e\\u0432\\u043e\\u0441\\u0438\\u0431\\u0438\\u0440\\u0441\\u043a\", \"\\u043d\\u043e\\u0432\\u043e\\u0441\\u0442\\u0440\\u043e\\u0439\\u043a\\u0430\", \"\\u043d\\u043e\\u0432\\u043e\\u0441\\u0442\\u0440\\u043e\\u0439\\u043a\\u0430\", \"\\u043d\\u043e\\u043c\\u0435\\u0440\", \"\\u043d\\u043e\\u043c\\u0435\\u0440\", \"\\u043d\\u043e\\u043c\\u0435\\u0440\", \"\\u043d\\u043e\\u043c\\u0435\\u0440\", \"\\u043d\\u043e\\u043c\\u0435\\u0440\", \"\\u043d\\u043e\\u043c\\u0435\\u0440\", \"\\u043d\\u043e\\u043c\\u0435\\u0440\\u043e\\u043a\", \"\\u043d\\u043e\\u043c\\u0435\\u0440\\u043e\\u043a\", \"\\u043d\\u043e\\u0442\\u0430\\u0440\\u0438\\u0443\\u0441\", \"\\u043e\\u0431\\u0435\\u0434\", \"\\u043e\\u0431\\u0435\\u0434\", \"\\u043e\\u0431\\u0435\\u0434\", \"\\u043e\\u0431\\u0435\\u0434\", \"\\u043e\\u0431\\u0435\\u0434\", \"\\u043e\\u0431\\u0435\\u0434\", \"\\u043e\\u0431\\u043b\\u043e\\u043c\", \"\\u043e\\u0431\\u043c\\u0435\\u043d\\u043d\\u0438\\u043a\", \"\\u043e\\u0431\\u043d\\u0430\\u043b\\u0438\\u0447\\u043a\\u0430\", \"\\u043e\\u0431\\u0441\\u043b\\u0443\\u0436\\u0438\\u0432\\u0430\\u043d\\u0438\\u0435\", \"\\u043e\\u0431\\u0441\\u043b\\u0443\\u0436\\u0438\\u0432\\u0430\\u043d\\u0438\\u0435\", \"\\u043e\\u0431\\u0441\\u043b\\u0443\\u0436\\u0438\\u0432\\u0430\\u043d\\u0438\\u0435\", \"\\u043e\\u0431\\u0441\\u043b\\u0443\\u0436\\u0438\\u0432\\u0430\\u043d\\u0438\\u0435\", \"\\u043e\\u0431\\u0441\\u043b\\u0443\\u0436\\u0438\\u0432\\u0430\\u043d\\u0438\\u0435\", \"\\u043e\\u0431\\u0441\\u043b\\u0443\\u0436\\u0438\\u0432\\u0430\\u043d\\u0438\\u0435\", \"\\u043e\\u0434\\u0435\\u0436\\u0434\\u0430\", \"\\u043e\\u0434\\u0438\\u043d\\u0446\\u043e\\u0432\\u043e\", \"\\u043e\\u0434\\u043e\\u0431\\u0440\\u0435\\u043d\\u0438\\u0435\", \"\\u043e\\u0434\\u043e\\u0431\\u0440\\u0435\\u043d\\u0438\\u0435\", \"\\u043e\\u0434\\u043e\\u0431\\u0440\\u0435\\u043d\\u0438\\u0435\", \"\\u043e\\u0434\\u043e\\u0431\\u0440\\u0435\\u043d\\u0438\\u0435\", \"\\u043e\\u0434\\u043e\\u0431\\u0440\\u0435\\u043d\\u0438\\u0435\", \"\\u043e\\u0434\\u043e\\u043b\\u0436\\u0435\\u043d\\u0438\\u0435\", \"\\u043e\\u043a\\u0435\\u0430\\u043d\", \"\\u043e\\u043a\\u043d\\u043e\", \"\\u043e\\u043a\\u043d\\u043e\", \"\\u043e\\u043a\\u043d\\u043e\", \"\\u043e\\u043a\\u043e\\u0448\\u043a\\u043e\", \"\\u043e\\u043a\\u043e\\u0448\\u043a\\u043e\", \"\\u043e\\u043a\\u043e\\u0448\\u043a\\u043e\", \"\\u043e\\u043a\\u043e\\u0448\\u043a\\u043e\", \"\\u043e\\u043a\\u043e\\u0448\\u043a\\u043e\", \"\\u043e\\u043a\\u043e\\u0448\\u043a\\u043e\", \"\\u043e\\u043a\\u0441\\u0430\\u043d\\u0430\", \"\\u043e\\u043a\\u0441\\u0430\\u043d\\u0430\", \"\\u043e\\u043c\", \"\\u043e\\u043f\\u0435\\u0440\\u0430\\u0442\\u043e\\u0440\", \"\\u043e\\u043f\\u0435\\u0440\\u0430\\u0442\\u043e\\u0440\", \"\\u043e\\u043f\\u0435\\u0440\\u0430\\u0442\\u043e\\u0440\", \"\\u043e\\u043f\\u0435\\u0440\\u0430\\u0442\\u043e\\u0440\", \"\\u043e\\u043f\\u0435\\u0440\\u0430\\u0442\\u043e\\u0440\", \"\\u043e\\u043f\\u0435\\u0440\\u0430\\u0442\\u043e\\u0440\", \"\\u043e\\u043f\\u0435\\u0440\\u0430\\u0446\\u0438\\u043e\\u043d\\u0438\\u0441\\u0442\", \"\\u043e\\u043f\\u0435\\u0440\\u0430\\u0446\\u0438\\u043e\\u043d\\u0438\\u0441\\u0442\", \"\\u043e\\u043f\\u0435\\u0440\\u0430\\u0446\\u0438\\u043e\\u043d\\u0438\\u0441\\u0442\", \"\\u043e\\u043f\\u0435\\u0440\\u0430\\u0446\\u0438\\u043e\\u043d\\u0438\\u0441\\u0442\", \"\\u043e\\u043f\\u0435\\u0440\\u0430\\u0446\\u0438\\u043e\\u043d\\u0438\\u0441\\u0442\", \"\\u043e\\u043f\\u0435\\u0440\\u0430\\u0446\\u0438\\u043e\\u043d\\u0438\\u0441\\u0442\\u043a\\u0430\", \"\\u043e\\u043f\\u0435\\u0440\\u0430\\u0446\\u0438\\u043e\\u043d\\u0438\\u0441\\u0442\\u043a\\u0430\", \"\\u043e\\u043f\\u0435\\u0440\\u0430\\u0446\\u0438\\u043e\\u043d\\u0438\\u0441\\u0442\\u043a\\u0430\", \"\\u043e\\u043f\\u0435\\u0440\\u0430\\u0446\\u0438\\u043e\\u043d\\u0438\\u0441\\u0442\\u043a\\u0430\", \"\\u043e\\u043f\\u0435\\u0440\\u0430\\u0446\\u0438\\u044f\", \"\\u043e\\u043f\\u0435\\u0440\\u0430\\u0446\\u0438\\u044f\", \"\\u043e\\u043f\\u0435\\u0440\\u0430\\u0446\\u0438\\u044f\", \"\\u043e\\u043f\\u0435\\u0440\\u0430\\u0446\\u0438\\u044f\", \"\\u043e\\u043f\\u0435\\u0440\\u0430\\u0446\\u0438\\u044f\", \"\\u043e\\u043f\\u0435\\u0440\\u0430\\u0446\\u0438\\u044f\", \"\\u043e\\u043f\\u0435\\u0440\\u0430\\u0446\\u0438\\u044f\", \"\\u043e\\u043f\\u043b\\u0430\\u0442\\u0430\", \"\\u043e\\u043f\\u043b\\u0430\\u0442\\u0430\", \"\\u043e\\u043f\\u043b\\u0430\\u0442\\u0430\", \"\\u043e\\u043f\\u043b\\u0430\\u0442\\u0430\", \"\\u043e\\u043f\\u043b\\u0430\\u0442\\u0430\", \"\\u043e\\u043f\\u043b\\u0430\\u0442\\u0430\", \"\\u043e\\u043f\\u0440\\u043e\\u0442\\u0435\\u0441\\u0442\\u043e\\u0432\\u0430\\u043d\\u0438\\u0435\", \"\\u043e\\u0440\\u0434\\u044b\\u043d\\u043a\\u0430\", \"\\u043e\\u0440\\u0435\\u043b\", \"\\u043e\\u0442\\u0432\\u0435\\u0442\", \"\\u043e\\u0442\\u0432\\u0435\\u0442\", \"\\u043e\\u0442\\u0432\\u0435\\u0442\", \"\\u043e\\u0442\\u0432\\u0435\\u0442\", \"\\u043e\\u0442\\u0432\\u0435\\u0442\", \"\\u043e\\u0442\\u0432\\u0435\\u0442\", \"\\u043e\\u0442\\u0434\\u0435\\u043b\", \"\\u043e\\u0442\\u0434\\u0435\\u043b\", \"\\u043e\\u0442\\u0434\\u0435\\u043b\", \"\\u043e\\u0442\\u0434\\u0435\\u043b\", \"\\u043e\\u0442\\u0434\\u0435\\u043b\", \"\\u043e\\u0442\\u0434\\u0435\\u043b\\u0435\\u043d\\u0438\\u0435\", \"\\u043e\\u0442\\u0434\\u0435\\u043b\\u0435\\u043d\\u0438\\u0435\", \"\\u043e\\u0442\\u0434\\u0435\\u043b\\u0435\\u043d\\u0438\\u0435\", \"\\u043e\\u0442\\u0434\\u0435\\u043b\\u0435\\u043d\\u0438\\u0435\", \"\\u043e\\u0442\\u0434\\u0435\\u043b\\u0435\\u043d\\u0438\\u0435\", \"\\u043e\\u0442\\u0434\\u0435\\u043b\\u0435\\u043d\\u0438\\u0435\", \"\\u043e\\u0442\\u0435\\u043b\\u044c\", \"\\u043e\\u0442\\u0435\\u043b\\u044c\", \"\\u043e\\u0442\\u0435\\u043b\\u044c\", \"\\u043e\\u0442\\u043a\\u0440\\u044b\\u0442\\u0438\\u0435\", \"\\u043e\\u0442\\u043a\\u0440\\u044b\\u0442\\u0438\\u0435\", \"\\u043e\\u0442\\u043a\\u0440\\u044b\\u0442\\u0438\\u0435\", \"\\u043e\\u0442\\u043a\\u0440\\u044b\\u0442\\u0438\\u0435\", \"\\u043e\\u0442\\u043a\\u0440\\u044b\\u0442\\u0438\\u0435\", \"\\u043e\\u0442\\u043d\\u043e\\u0448\\u0435\\u043d\\u0438\\u0435\", \"\\u043e\\u0442\\u043d\\u043e\\u0448\\u0435\\u043d\\u0438\\u0435\", \"\\u043e\\u0442\\u043d\\u043e\\u0448\\u0435\\u043d\\u0438\\u0435\", \"\\u043e\\u0442\\u043d\\u043e\\u0448\\u0435\\u043d\\u0438\\u0435\", \"\\u043e\\u0442\\u043d\\u043e\\u0448\\u0435\\u043d\\u0438\\u0435\", \"\\u043e\\u0442\\u043d\\u043e\\u0448\\u0435\\u043d\\u0438\\u0435\", \"\\u043e\\u0444\\u0438\\u0441\", \"\\u043e\\u0444\\u0438\\u0441\", \"\\u043e\\u0444\\u0438\\u0441\", \"\\u043e\\u0444\\u0438\\u0441\", \"\\u043e\\u0444\\u0438\\u0441\", \"\\u043e\\u0444\\u043e\\u0440\\u043c\\u043b\\u0435\\u043d\\u0438\\u0435\", \"\\u043e\\u0444\\u043e\\u0440\\u043c\\u043b\\u0435\\u043d\\u0438\\u0435\", \"\\u043e\\u0444\\u043e\\u0440\\u043c\\u043b\\u0435\\u043d\\u0438\\u0435\", \"\\u043e\\u0444\\u043e\\u0440\\u043c\\u043b\\u0435\\u043d\\u0438\\u0435\", \"\\u043e\\u0444\\u043e\\u0440\\u043c\\u043b\\u0435\\u043d\\u0438\\u0435\", \"\\u043e\\u0445\\u0440\\u0430\\u043d\\u0430\", \"\\u043e\\u0445\\u0440\\u0430\\u043d\\u0430\", \"\\u043e\\u0445\\u0440\\u0430\\u043d\\u0430\", \"\\u043e\\u0445\\u0440\\u0430\\u043d\\u043d\\u0438\\u043a\", \"\\u043e\\u0445\\u0440\\u0430\\u043d\\u043d\\u0438\\u043a\", \"\\u043e\\u0445\\u0440\\u0430\\u043d\\u043d\\u0438\\u043a\", \"\\u043e\\u0447\\u0435\\u0440\\u0435\\u0434\\u044c\", \"\\u043e\\u0447\\u0435\\u0440\\u0435\\u0434\\u044c\", \"\\u043e\\u0447\\u0435\\u0440\\u0435\\u0434\\u044c\", \"\\u043e\\u0447\\u0435\\u0440\\u0435\\u0434\\u044c\", \"\\u043e\\u0447\\u0435\\u0440\\u0435\\u0434\\u044c\", \"\\u043f\\u0430\\u0439\", \"\\u043f\\u0430\\u043b\\u0430\\u0442\\u0430\", \"\\u043f\\u0430\\u0440\\u043a\\u043e\\u0432\\u043a\\u0430\", \"\\u043f\\u0430\\u0440\\u043e\\u043b\\u044c\", \"\\u043f\\u0430\\u0440\\u043e\\u043b\\u044c\", \"\\u043f\\u0430\\u0440\\u043e\\u043b\\u044c\", \"\\u043f\\u0430\\u0440\\u043e\\u043b\\u044c\", \"\\u043f\\u0430\\u0441\\u043f\\u043e\\u0440\\u0442\", \"\\u043f\\u0430\\u0441\\u043f\\u043e\\u0440\\u0442\", \"\\u043f\\u0430\\u0441\\u043f\\u043e\\u0440\\u0442\", \"\\u043f\\u0430\\u0441\\u043f\\u043e\\u0440\\u0442\", \"\\u043f\\u0430\\u0441\\u043f\\u043e\\u0440\\u0442\", \"\\u043f\\u0430\\u0441\\u043f\\u043e\\u0440\\u0442\", \"\\u043f\\u0430\\u0441\\u043f\\u043e\\u0440\\u0442\", \"\\u043f\\u0430\\u0447\\u043a\\u0430\", \"\\u043f\\u0430\\u0447\\u043a\\u0430\", \"\\u043f\\u0430\\u0447\\u043a\\u0430\", \"\\u043f\\u0430\\u0447\\u043a\\u0430\", \"\\u043f\\u0435\\u0440\\u0435\\u0432\\u043e\\u0434\", \"\\u043f\\u0435\\u0440\\u0435\\u0432\\u043e\\u0434\", \"\\u043f\\u0435\\u0440\\u0435\\u0432\\u043e\\u0434\", \"\\u043f\\u0435\\u0440\\u0435\\u0432\\u043e\\u0434\", \"\\u043f\\u0435\\u0440\\u0435\\u0432\\u043e\\u0434\", \"\\u043f\\u0435\\u0440\\u0435\\u0432\\u043e\\u0434\", \"\\u043f\\u0435\\u0440\\u0435\\u0432\\u044b\\u043f\\u0443\\u0441\\u043a\", \"\\u043f\\u0435\\u0440\\u0435\\u0432\\u044b\\u043f\\u0443\\u0441\\u043a\", \"\\u043f\\u0435\\u0440\\u0435\\u0432\\u044b\\u043f\\u0443\\u0441\\u043a\", \"\\u043f\\u0435\\u0440\\u0435\\u043a\\u043b\\u044e\\u0447\\u0435\\u043d\\u0438\\u0435\", \"\\u043f\\u0435\\u0440\\u0435\\u043a\\u043b\\u044e\\u0447\\u0435\\u043d\\u0438\\u0435\", \"\\u043f\\u0435\\u0440\\u0435\\u043a\\u0440\\u0435\\u0434\\u0438\\u0442\\u043e\\u0432\\u0430\\u043d\\u0438\\u0435\", \"\\u043f\\u0435\\u0440\\u0435\\u043a\\u0440\\u0435\\u0441\\u0442\\u043e\\u043a\", \"\\u043f\\u0435\\u0440\\u0435\\u043f\\u043b\\u0430\\u0442\\u0430\", \"\\u043f\\u0435\\u0440\\u0435\\u043f\\u043b\\u0430\\u0442\\u0430\", \"\\u043f\\u0435\\u0440\\u0435\\u043f\\u043b\\u0430\\u0442\\u0430\", \"\\u043f\\u0435\\u0440\\u0435\\u043f\\u043b\\u0430\\u0442\\u0430\", \"\\u043f\\u0435\\u0440\\u0435\\u0440\\u044b\\u0432\", \"\\u043f\\u0435\\u0440\\u0435\\u0440\\u044b\\u0432\", \"\\u043f\\u0435\\u0440\\u0435\\u0440\\u044b\\u0432\", \"\\u043f\\u0435\\u0440\\u0435\\u0440\\u044b\\u0432\", \"\\u043f\\u0435\\u0440\\u0435\\u0440\\u044b\\u0432\", \"\\u043f\\u0435\\u0440\\u0435\\u0441\\u043c\\u043e\\u0442\\u0440\", \"\\u043f\\u0435\\u0440\\u0441\\u043e\\u043d\\u0430\\u043b\", \"\\u043f\\u0435\\u0440\\u0441\\u043e\\u043d\\u0430\\u043b\", \"\\u043f\\u0435\\u0440\\u0441\\u043e\\u043d\\u0430\\u043b\", \"\\u043f\\u0435\\u0440\\u0441\\u043e\\u043d\\u0430\\u043b\", \"\\u043f\\u0438\\u043a\", \"\\u043f\\u0438\\u043d\", \"\\u043f\\u0438\\u043d\", \"\\u043f\\u0438\\u043d\", \"\\u043f\\u0438\\u043d\", \"\\u043f\\u0438\\u043d\\u043a\\u043e\\u0434\", \"\\u043f\\u0438\\u0441\\u044c\\u043c\\u043e\", \"\\u043f\\u0438\\u0441\\u044c\\u043c\\u043e\", \"\\u043f\\u0438\\u0441\\u044c\\u043c\\u043e\", \"\\u043f\\u0438\\u0441\\u044c\\u043c\\u043e\", \"\\u043f\\u0438\\u0441\\u044c\\u043c\\u043e\", \"\\u043f\\u0438\\u0441\\u044c\\u043c\\u043e\", \"\\u043f\\u043b\\u0430\\u043a\\u0430\\u0442\", \"\\u043f\\u043b\\u0430\\u0441\\u0442\\u0438\\u043a\\u0430\", \"\\u043f\\u043b\\u0430\\u0441\\u0442\\u0438\\u043a\\u0430\", \"\\u043f\\u043b\\u0430\\u0441\\u0442\\u0438\\u043a\\u0430\", \"\\u043f\\u043b\\u0430\\u0442\\u0435\\u0436\", \"\\u043f\\u043b\\u0430\\u0442\\u0435\\u0436\", \"\\u043f\\u043b\\u0430\\u0442\\u0435\\u0436\", \"\\u043f\\u043b\\u0430\\u0442\\u0435\\u0436\", \"\\u043f\\u043b\\u0430\\u0442\\u0435\\u0436\", \"\\u043f\\u043b\\u0430\\u0442\\u0435\\u0436\", \"\\u043f\\u043e\\u0433\\u0430\\u0448\\u0435\\u043d\\u0438\\u0435\", \"\\u043f\\u043e\\u0433\\u0430\\u0448\\u0435\\u043d\\u0438\\u0435\", \"\\u043f\\u043e\\u0433\\u0430\\u0448\\u0435\\u043d\\u0438\\u0435\", \"\\u043f\\u043e\\u0433\\u0430\\u0448\\u0435\\u043d\\u0438\\u0435\", \"\\u043f\\u043e\\u0433\\u0430\\u0448\\u0435\\u043d\\u0438\\u0435\", \"\\u043f\\u043e\\u0434\\u0434\\u0435\\u0440\\u0436\\u043a\\u0430\", \"\\u043f\\u043e\\u0434\\u0434\\u0435\\u0440\\u0436\\u043a\\u0430\", \"\\u043f\\u043e\\u0434\\u0434\\u0435\\u0440\\u0436\\u043a\\u0430\", \"\\u043f\\u043e\\u0434\\u0434\\u0435\\u0440\\u0436\\u043a\\u0430\", \"\\u043f\\u043e\\u0434\\u0434\\u0435\\u0440\\u0436\\u043a\\u0430\", \"\\u043f\\u043e\\u0434\\u0434\\u0435\\u0440\\u0436\\u043a\\u0430\", \"\\u043f\\u043e\\u0434\\u043c\\u043e\\u0441\\u043a\\u043e\\u0432\\u044c\\u0435\", \"\\u043f\\u043e\\u0434\\u0440\\u0443\\u0433\\u0430\", \"\\u043f\\u043e\\u0434\\u0440\\u0443\\u0433\\u0430\", \"\\u043f\\u043e\\u0434\\u0441\\u043a\\u0430\\u0437\\u043a\\u0430\", \"\\u043f\\u043e\\u0435\\u0437\\u0434\", \"\\u043f\\u043e\\u043a\\u0440\\u043e\\u0432\\u043a\\u0430\", \"\\u043f\\u043e\\u043b\\u0434\\u0435\\u043d\\u044c\", \"\\u043f\\u043e\\u043b\\u0434\\u0435\\u043d\\u044c\", \"\\u043f\\u043e\\u043b\\u0438\\u0441\", \"\\u043f\\u043e\\u043b\\u0438\\u0441\", \"\\u043f\\u043e\\u043b\\u0443\\u0447\\u0430\\u0441\", \"\\u043f\\u043e\\u043b\\u0443\\u0447\\u0430\\u0441\", \"\\u043f\\u043e\\u043b\\u0443\\u0447\\u0430\\u0441\", \"\\u043f\\u043e\\u043b\\u0443\\u0447\\u0430\\u0442\\u0435\\u043b\\u044c\", \"\\u043f\\u043e\\u043b\\u0443\\u0447\\u0430\\u0442\\u0435\\u043b\\u044c\", \"\\u043f\\u043e\\u043b\\u0443\\u0447\\u0430\\u0442\\u0435\\u043b\\u044c\", \"\\u043f\\u043e\\u043b\\u0443\\u0447\\u0430\\u0442\\u0435\\u043b\\u044c\", \"\\u043f\\u043e\\u043b\\u044f\\u043d\\u043a\\u0430\", \"\\u043f\\u043e\\u043c\\u0435\\u0449\\u0435\\u043d\\u0438\\u0435\", \"\\u043f\\u043e\\u043c\\u0435\\u0449\\u0435\\u043d\\u0438\\u0435\", \"\\u043f\\u043e\\u043c\\u0435\\u0449\\u0435\\u043d\\u0438\\u0435\", \"\\u043f\\u043e\\u043c\\u0435\\u0449\\u0435\\u043d\\u0438\\u0435\", \"\\u043f\\u043e\\u0440\\u0442\\u0444\\u0435\\u043b\\u044c\", \"\\u043f\\u043e\\u0440\\u0443\\u0447\\u0438\\u0442\\u0435\\u043b\\u044c\", \"\\u043f\\u043e\\u0440\\u0443\\u0447\\u0438\\u0442\\u0435\\u043b\\u044c\", \"\\u043f\\u043e\\u0440\\u0443\\u0447\\u0438\\u0442\\u0435\\u043b\\u044c\", \"\\u043f\\u043e\\u0441\\u0435\\u0442\\u0438\\u0442\\u0435\\u043b\\u044c\", \"\\u043f\\u043e\\u0441\\u0435\\u0442\\u0438\\u0442\\u0435\\u043b\\u044c\", \"\\u043f\\u043e\\u0441\\u043e\\u043b\\u044c\\u0441\\u0442\\u0432\\u043e\", \"\\u043f\\u043e\\u0445\\u0432\\u0430\\u043b\\u0430\", \"\\u043f\\u0440\\u0430\\u0432\\u043b\\u0435\\u043d\\u0438\\u0435\", \"\\u043f\\u0440\\u0430\\u0432\\u043e\", \"\\u043f\\u0440\\u0430\\u0432\\u043e\", \"\\u043f\\u0440\\u0430\\u0432\\u043e\", \"\\u043f\\u0440\\u0430\\u0432\\u043e\", \"\\u043f\\u0440\\u0430\\u0432\\u043e\", \"\\u043f\\u0440\\u0430\\u0432\\u043e\", \"\\u043f\\u0440\\u0435\\u0434\\u0441\\u0442\\u0430\\u0432\\u0438\\u0442\\u0435\\u043b\\u044c\\u0441\\u0442\\u0432\\u043e\", \"\\u043f\\u0440\\u0435\\u0434\\u0441\\u0442\\u0430\\u0432\\u0438\\u0442\\u0435\\u043b\\u044c\\u0441\\u0442\\u0432\\u043e\", \"\\u043f\\u0440\\u0435\\u043f\\u0438\\u0440\\u0430\\u0442\\u0435\\u043b\\u044c\\u0441\\u0442\\u0432\\u043e\", \"\\u043f\\u0440\\u0435\\u0441\\u043d\\u044f\", \"\\u043f\\u0440\\u0435\\u0442\\u0435\\u043d\\u0437\\u0438\\u044f\", \"\\u043f\\u0440\\u0435\\u0442\\u0435\\u043d\\u0437\\u0438\\u044f\", \"\\u043f\\u0440\\u0435\\u0442\\u0435\\u043d\\u0437\\u0438\\u044f\", \"\\u043f\\u0440\\u0435\\u0442\\u0435\\u043d\\u0437\\u0438\\u044f\", \"\\u043f\\u0440\\u0435\\u0442\\u0435\\u043d\\u0437\\u0438\\u044f\", \"\\u043f\\u0440\\u0435\\u0442\\u0435\\u043d\\u0437\\u0438\\u044f\", \"\\u043f\\u0440\\u0438\\u0432\\u0430\\u0442\", \"\\u043f\\u0440\\u0438\\u0432\\u0430\\u0442\\u0431\\u0430\\u043d\\u043a\", \"\\u043f\\u0440\\u0438\\u0432\\u0435\\u0442\\u0441\\u0442\\u0432\\u0438\\u0435\", \"\\u043f\\u0440\\u0438\\u0432\\u044b\\u0447\\u043a\\u0430\", \"\\u043f\\u0440\\u0438\\u0432\\u044b\\u0447\\u043a\\u0430\", \"\\u043f\\u0440\\u0438\\u0432\\u044f\\u0437\\u043a\\u0430\", \"\\u043f\\u0440\\u0438\\u0432\\u044f\\u0437\\u043a\\u0430\", \"\\u043f\\u0440\\u0438\\u0432\\u044f\\u0437\\u043a\\u0430\", \"\\u043f\\u0440\\u0438\\u0435\\u043c\\u043d\\u0438\\u043a\", \"\\u043f\\u0440\\u0438\\u0437\", \"\\u043f\\u0440\\u0438\\u0437\\u043d\\u0430\\u0442\\u0435\\u043b\\u044c\\u043d\\u043e\\u0441\\u0442\\u044c\", \"\\u043f\\u0440\\u0438\\u043a\\u0430\\u0437\", \"\\u043f\\u0440\\u0438\\u043a\\u043e\\u043b\", \"\\u043f\\u0440\\u0438\\u043a\\u043e\\u043b\", \"\\u043f\\u0440\\u0438\\u0445\\u043e\\u0434\\u043d\\u0438\\u043a\", \"\\u043f\\u0440\\u0438\\u044f\\u0442\\u0435\\u043b\\u044c\", \"\\u043f\\u0440\\u043e\\u0431\\u0438\\u0437\\u043d\\u0435\\u0441\\u0431\\u0430\\u043d\\u043a\", \"\\u043f\\u0440\\u043e\\u0431\\u043b\\u0435\\u043c\\u0430\", \"\\u043f\\u0440\\u043e\\u0431\\u043b\\u0435\\u043c\\u0430\", \"\\u043f\\u0440\\u043e\\u0431\\u043b\\u0435\\u043c\\u0430\", \"\\u043f\\u0440\\u043e\\u0431\\u043b\\u0435\\u043c\\u0430\", \"\\u043f\\u0440\\u043e\\u0431\\u043b\\u0435\\u043c\\u0430\", \"\\u043f\\u0440\\u043e\\u0431\\u043b\\u0435\\u043c\\u0430\", \"\\u043f\\u0440\\u043e\\u0432\\u043e\\u0434\\u043a\\u0430\", \"\\u043f\\u0440\\u043e\\u0432\\u043e\\u043b\\u043e\\u0447\\u043a\\u0430\", \"\\u043f\\u0440\\u043e\\u0433\\u0440\\u0430\\u043c\\u043c\\u0438\\u0441\\u0442\", \"\\u043f\\u0440\\u043e\\u0433\\u0440\\u0430\\u043c\\u043c\\u0438\\u0441\\u0442\", \"\\u043f\\u0440\\u043e\\u0434\\u0430\\u0432\\u0435\\u0446\", \"\\u043f\\u0440\\u043e\\u0434\\u0430\\u0432\\u0435\\u0446\", \"\\u043f\\u0440\\u043e\\u0434\\u0430\\u0432\\u0435\\u0446\", \"\\u043f\\u0440\\u043e\\u0434\\u0430\\u0432\\u0435\\u0446\", \"\\u043f\\u0440\\u043e\\u0434\\u0430\\u0432\\u0435\\u0446\", \"\\u043f\\u0440\\u043e\\u043a\\u043e\\u043b\", \"\\u043f\\u0440\\u043e\\u043b\\u043e\\u043d\\u0433\\u0430\\u0446\\u0438\\u044f\", \"\\u043f\\u0440\\u043e\\u0441\\u043b\\u0443\\u0448\\u0438\\u0432\\u0430\\u043d\\u0438\\u0435\", \"\\u043f\\u0440\\u043e\\u0441\\u0440\\u043e\\u0447\\u043a\\u0430\", \"\\u043f\\u0440\\u043e\\u0441\\u0440\\u043e\\u0447\\u043a\\u0430\", \"\\u043f\\u0440\\u043e\\u0441\\u0440\\u043e\\u0447\\u043a\\u0430\", \"\\u043f\\u0440\\u043e\\u0441\\u0440\\u043e\\u0447\\u043a\\u0430\", \"\\u043f\\u0440\\u043e\\u0441\\u0440\\u043e\\u0447\\u043a\\u0430\", \"\\u043f\\u0440\\u043e\\u0441\\u0442\\u043e\\u0442\\u0430\", \"\\u043f\\u0440\\u043e\\u0444\\u0435\\u0441\\u0441\\u0438\\u043e\\u043d\\u0430\\u043b\", \"\\u043f\\u0440\\u043e\\u0444\\u0435\\u0441\\u0441\\u0438\\u043e\\u043d\\u0430\\u043b\", \"\\u043f\\u0440\\u043e\\u0444\\u0435\\u0441\\u0441\\u0438\\u043e\\u043d\\u0430\\u043b\", \"\\u043f\\u0440\\u043e\\u0444\\u0435\\u0441\\u0441\\u0438\\u043e\\u043d\\u0430\\u043b\", \"\\u043f\\u0440\\u043e\\u0444\\u0435\\u0441\\u0441\\u0438\\u043e\\u043d\\u0430\\u043b\", \"\\u043f\\u0440\\u043e\\u0445\\u043e\\u0434\", \"\\u043f\\u0440\\u043e\\u0446\\u0435\\u043d\\u0442\", \"\\u043f\\u0440\\u043e\\u0446\\u0435\\u043d\\u0442\", \"\\u043f\\u0440\\u043e\\u0446\\u0435\\u043d\\u0442\", \"\\u043f\\u0440\\u043e\\u0446\\u0435\\u043d\\u0442\", \"\\u043f\\u0440\\u043e\\u0446\\u0435\\u043d\\u0442\", \"\\u043f\\u0440\\u043e\\u0446\\u0435\\u043d\\u0442\", \"\\u043f\\u0440\\u043e\\u0446\\u0435\\u0441\\u0441\\u0438\\u043d\\u0433\", \"\\u043f\\u0440\\u043e\\u0449\\u0430\\u043d\\u0438\\u0435\", \"\\u043f\\u0443\\u0441\\u0442\\u044f\\u0447\\u043e\\u043a\", \"\\u043f\\u044f\\u0442\\u0430\", \"\\u043f\\u044f\\u0442\\u043d\\u0438\\u0446\\u043a\\u0430\\u044f\", \"\\u0440\\u0430\\u0431\\u043e\\u0442\\u0430\", \"\\u0440\\u0430\\u0431\\u043e\\u0442\\u0430\", \"\\u0440\\u0430\\u0431\\u043e\\u0442\\u0430\", \"\\u0440\\u0430\\u0431\\u043e\\u0442\\u0430\", \"\\u0440\\u0430\\u0431\\u043e\\u0442\\u0430\", \"\\u0440\\u0430\\u0431\\u043e\\u0442\\u0430\", \"\\u0440\\u0430\\u0431\\u043e\\u0442\\u043e\\u0441\\u043f\\u043e\\u0441\\u043e\\u0431\\u043d\\u043e\\u0441\\u0442\\u044c\", \"\\u0440\\u0430\\u0437\\u0433\\u043e\\u0432\\u043e\\u0440\", \"\\u0440\\u0430\\u0437\\u0433\\u043e\\u0432\\u043e\\u0440\", \"\\u0440\\u0430\\u0437\\u0433\\u043e\\u0432\\u043e\\u0440\", \"\\u0440\\u0430\\u0437\\u0433\\u043e\\u0432\\u043e\\u0440\", \"\\u0440\\u0430\\u0437\\u0433\\u043e\\u0432\\u043e\\u0440\", \"\\u0440\\u0430\\u0437\\u0434\\u0440\\u0430\\u0436\\u0435\\u043d\\u0438\\u0435\", \"\\u0440\\u0430\\u0437\\u043c\\u0435\\u0440\", \"\\u0440\\u0430\\u0437\\u043c\\u0435\\u0440\", \"\\u0440\\u0430\\u0437\\u043c\\u0435\\u0440\", \"\\u0440\\u0430\\u0437\\u043c\\u0435\\u0440\", \"\\u0440\\u0430\\u0437\\u043c\\u0435\\u0440\", \"\\u0440\\u0430\\u0437\\u043c\\u0435\\u0440\", \"\\u0440\\u0430\\u0439\\u0444\", \"\\u0440\\u0430\\u0439\\u0444\\u0430\", \"\\u0440\\u0430\\u0439\\u0444\\u0430\\u0439\\u0437\\u0435\\u043d\\u0431\\u0430\\u043d\\u043a\", \"\\u0440\\u0430\\u0439\\u0444\\u0444\", \"\\u0440\\u0430\\u0441\\u043f\\u0438\\u0441\\u0430\\u043d\\u0438\\u0435\", \"\\u0440\\u0430\\u0441\\u043f\\u0438\\u0441\\u0430\\u043d\\u0438\\u0435\", \"\\u0440\\u0430\\u0441\\u043f\\u0438\\u0441\\u043a\\u0430\", \"\\u0440\\u0430\\u0441\\u0441\\u043c\\u043e\\u0442\\u0440\\u0435\\u043d\\u0438\\u0435\", \"\\u0440\\u0430\\u0441\\u0441\\u043c\\u043e\\u0442\\u0440\\u0435\\u043d\\u0438\\u0435\", \"\\u0440\\u0430\\u0441\\u0441\\u043c\\u043e\\u0442\\u0440\\u0435\\u043d\\u0438\\u0435\", \"\\u0440\\u0430\\u0441\\u0441\\u043c\\u043e\\u0442\\u0440\\u0435\\u043d\\u0438\\u0435\", \"\\u0440\\u0430\\u0441\\u0441\\u043c\\u043e\\u0442\\u0440\\u0435\\u043d\\u0438\\u0435\", \"\\u0440\\u0430\\u0441\\u0445\\u043e\\u0434\\u043d\\u0438\\u043a\", \"\\u0440\\u0430\\u0441\\u0448\\u0438\\u0440\\u0435\\u043d\\u0438\\u0435\", \"\\u0440\\u0435\\u0433\\u0443\\u043b\\u044f\\u0440\\u043d\\u043e\\u0441\\u0442\\u044c\", \"\\u0440\\u0435\\u0434\\u043a\\u043e\\u0441\\u0442\\u044c\", \"\\u0440\\u0435\\u0439\\u0441\", \"\\u0440\\u0435\\u043d\\u0435\\u0441\\u0441\\u0430\\u043d\\u0441\", \"\\u0440\\u0435\\u043d\\u0435\\u0441\\u0441\\u0430\\u043d\\u0441\", \"\\u0440\\u0435\\u043d\\u0435\\u0441\\u0441\\u0430\\u043d\\u0441\", \"\\u0440\\u0435\\u043d\\u0435\\u0441\\u0441\\u0430\\u043d\\u0441\", \"\\u0440\\u0435\\u0441\\u0435\\u043f\\u0448\\u043d\", \"\\u0440\\u0435\\u0441\\u043f\\u0435\\u043a\\u0442\", \"\\u0440\\u0435\\u0441\\u043f\\u0435\\u043a\\u0442\", \"\\u0440\\u0435\\u0441\\u0442\\u043e\\u0440\\u0430\\u043d\", \"\\u0440\\u0435\\u0441\\u0442\\u043e\\u0440\\u0430\\u043d\", \"\\u0440\\u0435\\u0441\\u0442\\u043e\\u0440\\u0430\\u043d\", \"\\u0440\\u0435\\u0448\\u0435\\u043d\\u0438\\u0435\", \"\\u0440\\u0435\\u0448\\u0435\\u043d\\u0438\\u0435\", \"\\u0440\\u0435\\u0448\\u0435\\u043d\\u0438\\u0435\", \"\\u0440\\u0435\\u0448\\u0435\\u043d\\u0438\\u0435\", \"\\u0440\\u0435\\u0448\\u0435\\u043d\\u0438\\u0435\", \"\\u0440\\u0435\\u0448\\u0435\\u043d\\u0438\\u0435\", \"\\u0440\\u043e\\u0434\\u0438\\u043d\\u0430\", \"\\u0440\\u043e\\u0436\\u0434\\u0435\\u0441\\u0442\\u0432\\u0435\\u043d\\u0441\\u043a\\u0438\\u0439\", \"\\u0440\\u043e\\u0437\\u044b\\u0433\\u0440\\u044b\\u0448\", \"\\u0440\\u043e\\u043b\\u044c\", \"\\u0440\\u043e\\u043b\\u044c\", \"\\u0440\\u043e\\u043b\\u044c\", \"\\u0440\\u043e\\u0441\\u0442\\u043e\\u0432\", \"\\u0440\\u043e\\u0441\\u0442\\u043e\\u0432\", \"\\u0440\\u0443\\u0431\", \"\\u0440\\u0443\\u0431\", \"\\u0440\\u0443\\u0431\", \"\\u0440\\u0443\\u0431\", \"\\u0440\\u0443\\u0431\", \"\\u0440\\u0443\\u0431\", \"\\u0440\\u0443\\u0431\", \"\\u0440\\u0443\\u0431\\u043b\", \"\\u0440\\u0443\\u0431\\u043b\", \"\\u0440\\u0443\\u0431\\u043b\\u044c\", \"\\u0440\\u0443\\u0431\\u043b\\u044c\", \"\\u0440\\u0443\\u0431\\u043b\\u044c\", \"\\u0440\\u0443\\u0431\\u043b\\u044c\", \"\\u0440\\u0443\\u0431\\u043b\\u044c\", \"\\u0440\\u0443\\u0431\\u043b\\u044c\", \"\\u0440\\u0443\\u0431\\u043b\\u044c\", \"\\u0440\\u0443\\u0441\\u044c\", \"\\u0440\\u0444\", \"\\u0440\\u0444\", \"\\u0440\\u0444\", \"\\u0440\\u0444\", \"\\u0440\\u0444\", \"\\u0440\\u0444\", \"\\u0441\\u0430\\u0439\\u0442\", \"\\u0441\\u0430\\u0439\\u0442\", \"\\u0441\\u0430\\u0439\\u0442\", \"\\u0441\\u0430\\u0439\\u0442\", \"\\u0441\\u0430\\u0439\\u0442\", \"\\u0441\\u0430\\u0439\\u0442\", \"\\u0441\\u0430\\u043b\\u043e\\u043d\", \"\\u0441\\u0430\\u043b\\u043e\\u043d\", \"\\u0441\\u0430\\u043b\\u043e\\u043d\", \"\\u0441\\u0430\\u043b\\u043e\\u043d\", \"\\u0441\\u0430\\u043b\\u043e\\u043d\", \"\\u0441\\u0430\\u043c\\u043e\\u043e\\u0431\\u0441\\u043b\\u0443\\u0436\\u0438\\u0432\\u0430\\u043d\\u0438\\u0435\", \"\\u0441\\u0430\\u043c\\u043e\\u043e\\u0431\\u0441\\u043b\\u0443\\u0436\\u0438\\u0432\\u0430\\u043d\\u0438\\u0435\", \"\\u0441\\u0430\\u043f\\u043f\\u043e\\u0440\\u0442\", \"\\u0441\\u0430\\u0440\\u0430\\u0442\\u043e\\u0432\", \"\\u0441\\u0431\\u0435\\u0440\\u0431\\u0430\\u043d\\u043a\", \"\\u0441\\u0431\\u0435\\u0440\\u0431\\u0430\\u043d\\u043a\", \"\\u0441\\u0431\\u0435\\u0440\\u0431\\u0430\\u043d\\u043a\", \"\\u0441\\u0431\\u0435\\u0440\\u0431\\u0430\\u043d\\u043a\", \"\\u0441\\u0431\\u0435\\u0440\\u0431\\u0430\\u043d\\u043a\", \"\\u0441\\u0431\\u0435\\u0440\\u0431\\u0430\\u043d\\u043a\", \"\\u0441\\u0431\\u0435\\u0440\\u0431\\u0430\\u043d\\u043a\", \"\\u0441\\u0431\\u0435\\u0440\\u043a\\u0430\\u0441\\u0441\\u0430\", \"\\u0441\\u0431\\u0435\\u0440\\u043a\\u0430\\u0441\\u0441\\u0430\", \"\\u0441\\u0431\\u0435\\u0440\\u043a\\u043d\\u0438\\u0436\\u043a\\u0430\", \"\\u0441\\u0431\\u0435\\u0440\\u043a\\u043d\\u0438\\u0436\\u043a\\u0430\", \"\\u0441\\u0431\\u0435\\u0440\\u043a\\u043d\\u0438\\u0436\\u043a\\u0430\", \"\\u0441\\u0431\\u0435\\u0440\\u043a\\u043d\\u0438\\u0436\\u043a\\u0430\", \"\\u0441\\u0431\\u0435\\u0440\\u043a\\u043d\\u0438\\u0436\\u043a\\u0430\", \"\\u0441\\u0431\\u043e\\u0439\", \"\\u0441\\u0431\\u043e\\u0439\", \"\\u0441\\u0431\\u043e\\u0439\", \"\\u0441\\u0431\\u043e\\u0439\", \"\\u0441\\u0431\\u043e\\u0439\", \"\\u0441\\u0431\\u043e\\u0439\", \"\\u0441\\u0432\\u0438\\u043d\\u0441\\u0442\\u0432\\u043e\", \"\\u0441\\u0434\\u0435\\u043b\\u043a\\u0430\", \"\\u0441\\u0434\\u0435\\u043b\\u043a\\u0430\", \"\\u0441\\u0434\\u0435\\u043b\\u043a\\u0430\", \"\\u0441\\u0434\\u0435\\u043b\\u043a\\u0430\", \"\\u0441\\u0435\\u0440\\u0432\\u0435\\u0440\", \"\\u0441\\u0435\\u0441\\u0442\\u0440\\u0430\", \"\\u0441\\u0435\\u0441\\u0442\\u0440\\u0430\", \"\\u0441\\u0438\\u0441\\u0442\\u0435\\u043c\\u0430\", \"\\u0441\\u0438\\u0441\\u0442\\u0435\\u043c\\u0430\", \"\\u0441\\u0438\\u0441\\u0442\\u0435\\u043c\\u0430\", \"\\u0441\\u0438\\u0441\\u0442\\u0435\\u043c\\u0430\", \"\\u0441\\u0438\\u0441\\u0442\\u0435\\u043c\\u0430\", \"\\u0441\\u0438\\u0441\\u0442\\u0435\\u043c\\u0430\", \"\\u0441\\u0438\\u0442\\u0438\", \"\\u0441\\u0438\\u0442\\u0438\", \"\\u0441\\u0438\\u0442\\u0438\", \"\\u0441\\u0438\\u0442\\u0438\\u0431\\u0430\\u043d\\u043a\", \"\\u0441\\u0438\\u0442\\u0438\\u0431\\u0430\\u043d\\u043a\", \"\\u0441\\u0438\\u0442\\u0438\\u0431\\u0430\\u043d\\u043a\", \"\\u0441\\u0438\\u0442\\u0438\\u0431\\u0430\\u043d\\u043a\\u0430\", \"\\u0441\\u0438\\u0442\\u0438\\u0444\\u043e\\u043d\", \"\\u0441\\u043a\\u0438\\u0434\\u043a\\u0430\", \"\\u0441\\u043a\\u0438\\u0434\\u043a\\u0430\", \"\\u0441\\u043a\\u0438\\u0434\\u043a\\u0430\", \"\\u0441\\u043a\\u0438\\u0434\\u043a\\u0430\", \"\\u0441\\u043b\\u0443\\u0436\\u0431\\u0430\", \"\\u0441\\u043b\\u0443\\u0436\\u0431\\u0430\", \"\\u0441\\u043b\\u0443\\u0436\\u0431\\u0430\", \"\\u0441\\u043b\\u0443\\u0436\\u0431\\u0430\", \"\\u0441\\u043b\\u0443\\u0436\\u0431\\u0430\", \"\\u0441\\u043b\\u0443\\u0436\\u0431\\u0430\", \"\\u0441\\u043c\\u0441\", \"\\u0441\\u043c\\u0441\", \"\\u0441\\u043c\\u0441\", \"\\u0441\\u043c\\u0441\", \"\\u0441\\u043c\\u0441\", \"\\u0441\\u043c\\u0441\", \"\\u0441\\u043d\\u044f\\u0442\\u0438\\u0435\", \"\\u0441\\u043d\\u044f\\u0442\\u0438\\u0435\", \"\\u0441\\u043d\\u044f\\u0442\\u0438\\u0435\", \"\\u0441\\u043d\\u044f\\u0442\\u0438\\u0435\", \"\\u0441\\u043d\\u044f\\u0442\\u0438\\u0435\", \"\\u0441\\u043d\\u044f\\u0442\\u0438\\u0435\", \"\\u0441\\u043d\\u044f\\u0442\\u0438\\u0435\", \"\\u0441\\u043e\\u0431\\u0438\\u043d\\u0431\\u0430\\u043d\\u043a\", \"\\u0441\\u043e\\u0432\\u043e\\u043a\", \"\\u0441\\u043e\\u0432\\u043e\\u043a\", \"\\u0441\\u043e\\u043a\\u043e\\u043b\\u044c\\u043d\\u0438\\u043a\\u0438\", \"\\u0441\\u043e\\u0442\\u0440\\u0443\\u0434\\u043d\\u0438\\u043a\", \"\\u0441\\u043e\\u0442\\u0440\\u0443\\u0434\\u043d\\u0438\\u043a\", \"\\u0441\\u043e\\u0442\\u0440\\u0443\\u0434\\u043d\\u0438\\u043a\", \"\\u0441\\u043e\\u0442\\u0440\\u0443\\u0434\\u043d\\u0438\\u043a\", \"\\u0441\\u043e\\u0442\\u0440\\u0443\\u0434\\u043d\\u0438\\u043a\", \"\\u0441\\u043e\\u0442\\u0440\\u0443\\u0434\\u043d\\u0438\\u043a\", \"\\u0441\\u043e\\u0444\\u0442\", \"\\u0441\\u043f\\u0435\\u043a\\u0442\\u0440\", \"\\u0441\\u043f\\u0440\\u0430\\u0432\\u043a\\u0430\", \"\\u0441\\u043f\\u0440\\u0430\\u0432\\u043a\\u0430\", \"\\u0441\\u043f\\u0440\\u0430\\u0432\\u043a\\u0430\", \"\\u0441\\u043f\\u0440\\u0430\\u0432\\u043a\\u0430\", \"\\u0441\\u043f\\u0440\\u0430\\u0432\\u043a\\u0430\", \"\\u0441\\u0440\\u0435\\u0434\\u0441\\u0442\\u0432\\u043e\", \"\\u0441\\u0440\\u0435\\u0434\\u0441\\u0442\\u0432\\u043e\", \"\\u0441\\u0440\\u0435\\u0434\\u0441\\u0442\\u0432\\u043e\", \"\\u0441\\u0440\\u0435\\u0434\\u0441\\u0442\\u0432\\u043e\", \"\\u0441\\u0440\\u0435\\u0434\\u0441\\u0442\\u0432\\u043e\", \"\\u0441\\u0440\\u0435\\u0434\\u0441\\u0442\\u0432\\u043e\", \"\\u0441\\u0440\\u0435\\u0434\\u0441\\u0442\\u0432\\u043e\", \"\\u0441\\u0442\\u0430\\u0432\\u043a\\u0430\", \"\\u0441\\u0442\\u0430\\u0432\\u043a\\u0430\", \"\\u0441\\u0442\\u0430\\u0432\\u043a\\u0430\", \"\\u0441\\u0442\\u0430\\u0432\\u043a\\u0430\", \"\\u0441\\u0442\\u0430\\u0432\\u043a\\u0430\", \"\\u0441\\u0442\\u0430\\u043d\\u0446\\u0438\\u044f\", \"\\u0441\\u0442\\u0430\\u043d\\u0446\\u0438\\u044f\", \"\\u0441\\u0442\\u0430\\u043d\\u0446\\u0438\\u044f\", \"\\u0441\\u0442\\u0430\\u043d\\u0446\\u0438\\u044f\", \"\\u0441\\u0442\\u0430\\u0440\\u0443\\u0448\\u043a\\u0430\", \"\\u0441\\u0442\\u0430\\u0442\\u044c\\u044f\", \"\\u0441\\u0442\\u0430\\u0442\\u044c\\u044f\", \"\\u0441\\u0442\\u0430\\u0442\\u044c\\u044f\", \"\\u0441\\u0442\\u0430\\u0442\\u044c\\u044f\", \"\\u0441\\u0442\\u0435\\u043d\\u0434\", \"\\u0441\\u0442\\u043e\\u0439\\u043a\\u0430\", \"\\u0441\\u0442\\u043e\\u0439\\u043a\\u0430\", \"\\u0441\\u0442\\u043e\\u0439\\u043a\\u0430\", \"\\u0441\\u0442\\u043e\\u0439\\u043a\\u0430\", \"\\u0441\\u0442\\u043e\\u043b\\u0438\\u043a\", \"\\u0441\\u0442\\u043e\\u043b\\u0438\\u0446\\u0430\", \"\\u0441\\u0442\\u043e\\u043b\\u0438\\u0446\\u0430\", \"\\u0441\\u0442\\u043e\\u043f\\u043a\\u0430\", \"\\u0441\\u0442\\u0440\\u0430\\u0445\\u043e\\u0432\\u0430\\u043d\\u0438\\u0435\", \"\\u0441\\u0442\\u0440\\u0430\\u0445\\u043e\\u0432\\u0430\\u043d\\u0438\\u0435\", \"\\u0441\\u0442\\u0440\\u0430\\u0445\\u043e\\u0432\\u0430\\u043d\\u0438\\u0435\", \"\\u0441\\u0442\\u0440\\u0430\\u0445\\u043e\\u0432\\u0430\\u043d\\u0438\\u0435\", \"\\u0441\\u0442\\u0440\\u0430\\u0445\\u043e\\u0432\\u0430\\u043d\\u0438\\u0435\", \"\\u0441\\u0442\\u0440\\u0430\\u0445\\u043e\\u0432\\u043a\\u0430\", \"\\u0441\\u0442\\u0440\\u0430\\u0445\\u043e\\u0432\\u043a\\u0430\", \"\\u0441\\u0442\\u0440\\u0430\\u0445\\u043e\\u0432\\u043a\\u0430\", \"\\u0441\\u0442\\u0440\\u0430\\u0445\\u043e\\u0432\\u043a\\u0430\", \"\\u0441\\u0442\\u0440\\u0430\\u0445\\u043e\\u0432\\u043a\\u0430\", \"\\u0441\\u0442\\u0440\\u043e\\u0438\\u0442\\u0435\\u043b\\u044c\\u0441\\u0442\\u0432\\u043e\", \"\\u0441\\u0443\\u0431\\u0431\\u043e\\u0442\\u0430\", \"\\u0441\\u0443\\u0431\\u0431\\u043e\\u0442\\u0430\", \"\\u0441\\u0443\\u0431\\u0431\\u043e\\u0442\\u0430\", \"\\u0441\\u0443\\u0431\\u0431\\u043e\\u0442\\u0430\", \"\\u0441\\u0443\\u0431\\u0431\\u043e\\u0442\\u0430\", \"\\u0441\\u0443\\u0434\", \"\\u0441\\u0443\\u0434\", \"\\u0441\\u0443\\u0434\", \"\\u0441\\u0443\\u0434\", \"\\u0441\\u0443\\u0434\", \"\\u0441\\u0443\\u0434\", \"\\u0441\\u0443\\u043c\\u043c\\u0430\", \"\\u0441\\u0443\\u043c\\u043c\\u0430\", \"\\u0441\\u0443\\u043c\\u043c\\u0430\", \"\\u0441\\u0443\\u043c\\u043c\\u0430\", \"\\u0441\\u0443\\u043c\\u043c\\u0430\", \"\\u0441\\u0443\\u043c\\u043c\\u0430\", \"\\u0441\\u0443\\u043c\\u043c\\u0430\", \"\\u0441\\u0446\\u0435\\u043d\\u0430\", \"\\u0441\\u0447\\u0435\\u0442\", \"\\u0441\\u0447\\u0435\\u0442\", \"\\u0441\\u0447\\u0435\\u0442\", \"\\u0441\\u0447\\u0435\\u0442\", \"\\u0441\\u0447\\u0435\\u0442\", \"\\u0441\\u0447\\u0435\\u0442\", \"\\u0441\\u0447\\u0435\\u0442\", \"\\u0441\\u044b\\u043d\", \"\\u0441\\u044b\\u043d\", \"\\u0441\\u044b\\u043d\", \"\\u0441\\u044b\\u043d\", \"\\u0441\\u044b\\u043d\", \"\\u0442\\u0430\\u0433\\u0430\\u043d\\u043e\\u043a\", \"\\u0442\\u0432\\u0435\\u0440\\u0441\\u043a\\u0430\\u044f\", \"\\u0442\\u0432\\u0435\\u0440\\u0441\\u043a\\u043e\\u0439\", \"\\u0442\\u0435\\u043b\\u0435\\u0431\\u0430\\u043d\\u043a\\u0430\", \"\\u0442\\u0435\\u043b\\u0435\\u0432\\u0438\\u0437\\u043e\\u0440\", \"\\u0442\\u0435\\u043b\\u0435\\u0432\\u0438\\u0437\\u043e\\u0440\", \"\\u0442\\u0435\\u043b\\u0435\\u0444\\u043e\\u043d\", \"\\u0442\\u0435\\u043b\\u0435\\u0444\\u043e\\u043d\", \"\\u0442\\u0435\\u043b\\u0435\\u0444\\u043e\\u043d\", \"\\u0442\\u0435\\u043b\\u0435\\u0444\\u043e\\u043d\", \"\\u0442\\u0435\\u043b\\u0435\\u0444\\u043e\\u043d\", \"\\u0442\\u0435\\u043b\\u0435\\u0444\\u043e\\u043d\", \"\\u0442\\u0435\\u0442\\u043a\\u0430\", \"\\u0442\\u043e\\u043a\", \"\\u0442\\u043e\\u043b\\u043f\\u0430\", \"\\u0442\\u043e\\u043b\\u043f\\u0430\", \"\\u0442\\u043e\\u0447\\u043d\\u043e\\u0441\\u0442\\u044c\", \"\\u0442\\u0440\\u0430\\u043d\\u0437\\u0430\\u043a\\u0446\\u0438\\u044f\", \"\\u0442\\u0440\\u0430\\u043d\\u0437\\u0430\\u043a\\u0446\\u0438\\u044f\", \"\\u0442\\u0440\\u0430\\u043d\\u0437\\u0430\\u043a\\u0446\\u0438\\u044f\", \"\\u0442\\u0440\\u0430\\u043d\\u0437\\u0430\\u043a\\u0446\\u0438\\u044f\", \"\\u0442\\u0440\\u0435\\u0431\\u043e\\u0432\\u0430\\u043d\\u0438\\u0435\", \"\\u0442\\u0440\\u0435\\u0431\\u043e\\u0432\\u0430\\u043d\\u0438\\u0435\", \"\\u0442\\u0440\\u0435\\u0431\\u043e\\u0432\\u0430\\u043d\\u0438\\u0435\", \"\\u0442\\u0440\\u0435\\u0431\\u043e\\u0432\\u0430\\u043d\\u0438\\u0435\", \"\\u0442\\u0440\\u0435\\u0431\\u043e\\u0432\\u0430\\u043d\\u0438\\u0435\", \"\\u0442\\u0440\\u0435\\u0431\\u043e\\u0432\\u0430\\u043d\\u0438\\u0435\", \"\\u0442\\u0440\\u0443\\u0431\\u0430\", \"\\u0442\\u0440\\u0443\\u0431\\u043a\\u0430\", \"\\u0442\\u0440\\u0443\\u0431\\u043a\\u0430\", \"\\u0442\\u0440\\u0443\\u0431\\u043a\\u0430\", \"\\u0442\\u0440\\u0443\\u0431\\u043a\\u0430\", \"\\u0442\\u0440\\u0443\\u0431\\u043a\\u0430\", \"\\u0442\\u0440\\u0443\\u0431\\u043a\\u0430\", \"\\u0442\\u044b\\u0449\\u0430\", \"\\u0443\\u0431\\u043e\\u0440\\u0449\\u0438\\u0446\\u0430\", \"\\u0443\\u043a\\u0430\\u0437\\u0430\\u0442\\u0435\\u043b\\u044c\", \"\\u0443\\u043a\\u0440\\u0430\\u0438\\u043d\\u0430\", \"\\u0443\\u043a\\u0440\\u0430\\u0438\\u043d\\u0430\", \"\\u0443\\u043b\\u044b\\u0431\\u043a\\u0430\", \"\\u0443\\u043b\\u044b\\u0431\\u043a\\u0430\", \"\\u0443\\u043b\\u044b\\u0431\\u043a\\u0430\", \"\\u0443\\u043b\\u044b\\u0431\\u043a\\u0430\", \"\\u0443\\u043b\\u044b\\u0431\\u043a\\u0430\", \"\\u0443\\u043d\\u0438\\u0432\\u0435\\u0440\\u0441\\u0438\\u0442\\u0435\\u0442\", \"\\u0443\\u0440\\u0430\\u043b\\u0441\\u0438\\u0431\", \"\\u0443\\u0440\\u0430\\u043b\\u0441\\u0438\\u0431\", \"\\u0443\\u0440\\u0441\\u0430\", \"\\u0443\\u0441\\u043b\\u043e\\u0432\\u0438\\u0435\", \"\\u0443\\u0441\\u043b\\u043e\\u0432\\u0438\\u0435\", \"\\u0443\\u0441\\u043b\\u043e\\u0432\\u0438\\u0435\", \"\\u0443\\u0441\\u043b\\u043e\\u0432\\u0438\\u0435\", \"\\u0443\\u0441\\u043b\\u043e\\u0432\\u0438\\u0435\", \"\\u0443\\u0441\\u043b\\u043e\\u0432\\u0438\\u0435\", \"\\u0443\\u0441\\u043b\\u0443\\u0433\\u0430\", \"\\u0443\\u0441\\u043b\\u0443\\u0433\\u0430\", \"\\u0443\\u0441\\u043b\\u0443\\u0433\\u0430\", \"\\u0443\\u0441\\u043b\\u0443\\u0433\\u0430\", \"\\u0443\\u0441\\u043b\\u0443\\u0433\\u0430\", \"\\u0443\\u0441\\u043b\\u0443\\u0433\\u0430\", \"\\u0443\\u0444\\u0430\", \"\\u0443\\u0447\\u0435\\u0431\\u0430\", \"\\u0443\\u0447\\u0440\\u0435\\u0434\\u0438\\u0442\\u0435\\u043b\\u044c\", \"\\u0444\\u0438\\u0437\\u0438\\u043a\", \"\\u0444\\u0438\\u0437\\u0438\\u043a\\u0430\", \"\\u0444\\u0438\\u0437\\u043b\\u0438\\u0446\", \"\\u0444\\u0438\\u0437\\u043b\\u0438\\u0446\\u043e\", \"\\u0444\\u0438\\u043b\\u0438\\u0430\\u043b\", \"\\u0444\\u0438\\u043b\\u0438\\u0430\\u043b\", \"\\u0444\\u0438\\u043b\\u0438\\u0430\\u043b\", \"\\u0444\\u0438\\u043b\\u0438\\u0430\\u043b\", \"\\u0444\\u0438\\u043b\\u0438\\u0430\\u043b\", \"\\u0444\\u0438\\u043b\\u0438\\u0430\\u043b\", \"\\u0444\\u0438\\u043d\\u0430\\u043d\\u0441\", \"\\u0444\\u0438\\u043d\\u0430\\u043d\\u0441\\u0431\\u0430\\u043d\\u043a\", \"\\u0444\\u0438\\u043d\\u0441\\u0435\\u0440\\u0432\\u0438\\u0441\", \"\\u0444\\u043e\\u043a\\u0443\\u0441\", \"\\u0444\\u043e\\u0440\\u0441\", \"\\u0444\\u0440\\u0443\\u043d\\u0437\\u0435\", \"\\u0444\\u0443\\u043d\\u043a\\u0446\\u0438\\u043e\\u043d\\u0430\\u043b\\u044c\\u043d\\u043e\\u0441\\u0442\\u044c\", \"\\u0444\\u0443\\u043d\\u0442\", \"\\u0445\\u0430\\u043b\\u044f\\u0432\\u0430\", \"\\u0445\\u0430\\u043c\", \"\\u0445\\u0430\\u043c\", \"\\u0445\\u043e\\u043b\\u0434\", \"\\u0445\\u043e\\u043b\\u043b\", \"\\u0445\\u043e\\u043b\\u043e\\u0434\\u0438\\u043b\\u044c\\u043d\\u0438\\u043a\", \"\\u0445\\u043e\\u043b\\u043e\\u0434\\u0438\\u043b\\u044c\\u043d\\u0438\\u043a\", \"\\u0445\\u0440\\u0435\\u043d\", \"\\u0446\\u0435\\u043d\\u0442\", \"\\u0446\\u0435\\u043d\\u0442\", \"\\u0446\\u0435\\u043d\\u0442\\u0440\", \"\\u0446\\u0435\\u043d\\u0442\\u0440\", \"\\u0446\\u0435\\u043d\\u0442\\u0440\", \"\\u0446\\u0435\\u043d\\u0442\\u0440\", \"\\u0446\\u0435\\u043d\\u0442\\u0440\", \"\\u0446\\u0435\\u043d\\u0442\\u0440\", \"\\u0447\\u0430\\u0441\", \"\\u0447\\u0430\\u0441\", \"\\u0447\\u0430\\u0441\", \"\\u0447\\u0430\\u0441\", \"\\u0447\\u0430\\u0441\", \"\\u0447\\u0430\\u0441\", \"\\u0447\\u0435\\u043a\", \"\\u0447\\u0435\\u043a\", \"\\u0447\\u0435\\u043a\", \"\\u0447\\u0435\\u043a\", \"\\u0447\\u0435\\u043a\", \"\\u0447\\u0435\\u043a\", \"\\u0447\\u0435\\u043a\\u0430\", \"\\u0447\\u0435\\u043a\\u0430\", \"\\u0447\\u0435\\u043a\\u0430\", \"\\u0447\\u0435\\u043a\\u0430\", \"\\u0447\\u0435\\u043a\\u0430\", \"\\u0447\\u0435\\u043a\\u0430\", \"\\u0447\\u0435\\u043b\\u043e\\u0432\\u0435\\u043a\", \"\\u0447\\u0435\\u043b\\u043e\\u0432\\u0435\\u043a\", \"\\u0447\\u0435\\u043b\\u043e\\u0432\\u0435\\u043a\", \"\\u0447\\u0435\\u043b\\u043e\\u0432\\u0435\\u043a\", \"\\u0447\\u0435\\u043b\\u043e\\u0432\\u0435\\u043a\", \"\\u0447\\u0435\\u043b\\u043e\\u0432\\u0435\\u043a\", \"\\u0447\\u0435\\u043b\\u044f\\u0431\\u0438\\u043d\\u0441\\u043a\", \"\\u0447\\u0435\\u043b\\u044f\\u0431\\u0438\\u043d\\u0441\\u043a\", \"\\u0447\\u0435\\u0440\\u0435\\u043c\\u0443\\u0448\\u043a\\u0438\", \"\\u0447\\u0435\\u0442\\u0432\\u0435\\u0440\\u043a\\u0430\", \"\\u0447\\u0438\\u0441\\u043b\\u043e\", \"\\u0447\\u0438\\u0441\\u043b\\u043e\", \"\\u0447\\u0438\\u0441\\u043b\\u043e\", \"\\u0447\\u0438\\u0441\\u043b\\u043e\", \"\\u0447\\u0438\\u0441\\u043b\\u043e\", \"\\u0447\\u0438\\u0441\\u043b\\u043e\", \"\\u0448\\u0430\\u0431\\u043b\\u043e\\u043d\", \"\\u0448\\u0430\\u0431\\u043b\\u043e\\u043d\", \"\\u0448\\u0430\\u0431\\u043b\\u043e\\u043d\", \"\\u0448\\u0430\\u0431\\u043b\\u043e\\u043d\", \"\\u0448\\u0430\\u0431\\u043b\\u043e\\u043d\", \"\\u0448\\u0430\\u0431\\u043b\\u043e\\u043d\", \"\\u0448\\u0442\\u0430\\u043c\\u043f\", \"\\u0448\\u0442\\u0430\\u043c\\u043f\", \"\\u0448\\u0442\\u0430\\u043c\\u043f\", \"\\u0448\\u0442\\u0440\\u0430\\u0444\", \"\\u0448\\u0442\\u0440\\u0430\\u0444\", \"\\u0448\\u0442\\u0440\\u0430\\u0444\", \"\\u0448\\u0442\\u0440\\u0430\\u0444\", \"\\u0448\\u0442\\u0440\\u0430\\u0444\", \"\\u044d\\u043a\\u043e\\u043d\\u043e\\u043c\\u0438\\u0441\\u0442\", \"\\u044d\\u043a\\u0441\\u043f\\u0435\\u0440\\u0438\\u043c\\u0435\\u043d\\u0442\", \"\\u044d\\u043a\\u0441\\u043f\\u0435\\u0440\\u0442\", \"\\u044d\\u043a\\u0441\\u043f\\u043e\\u0431\\u0430\\u043d\\u043a\", \"\\u044d\\u043b\\u0435\\u043a\\u0442\\u0440\\u043e\\u043d\", \"\\u044d\\u043b\\u044c\\u0434\\u043e\\u0440\\u0430\\u0434\\u043e\", \"\\u044d\\u043b\\u044c\\u0434\\u043e\\u0440\\u0430\\u0434\\u043e\", \"\\u044d\\u043d\\u0442\\u0443\\u0437\\u0438\\u0430\\u0441\\u0442\", \"\\u044e\\u043b\\u044f\", \"\\u044e\\u043d\\u0438\\u0430\\u0441\\u0442\\u0440\\u0443\\u043c\", \"\\u044e\\u043d\\u0438\\u043e\\u043d\", \"\\u044e\\u043d\\u0438\\u0441\\u0442\\u0440\\u0438\\u043c\", \"\\u044e\\u043d\\u044f\", \"\\u044e\\u0440\\u0438\\u043a\", \"\\u044e\\u0440\\u043b\\u0438\\u0446\\u0430\", \"\\u044f\\u0432\\u043b\\u0435\\u043d\\u0438\\u0435\", \"\\u044f\\u043a\\u0438\\u043c\\u0430\\u043d\\u043a\\u0430\", \"\\u044f\\u0447\\u0435\\u0439\\u043a\\u0430\", \"\\u044f\\u0447\\u0435\\u0439\\u043a\\u0430\"]}, \"R\": 30, \"lambda.step\": 0.01, \"plot.opts\": {\"xlab\": \"PC1\", \"ylab\": \"PC2\"}, \"topic.order\": [2, 6, 5, 7, 8, 3, 10, 1, 9, 4]};\n",
       "\n",
       "function LDAvis_load_lib(url, callback){\n",
       "  var s = document.createElement('script');\n",
       "  s.src = url;\n",
       "  s.async = true;\n",
       "  s.onreadystatechange = s.onload = callback;\n",
       "  s.onerror = function(){console.warn(\"failed to load library \" + url);};\n",
       "  document.getElementsByTagName(\"head\")[0].appendChild(s);\n",
       "}\n",
       "\n",
       "if(typeof(LDAvis) !== \"undefined\"){\n",
       "   // already loaded: just create the visualization\n",
       "   !function(LDAvis){\n",
       "       new LDAvis(\"#\" + \"ldavis_el7271403924907326244240747807\", ldavis_el7271403924907326244240747807_data);\n",
       "   }(LDAvis);\n",
       "}else if(typeof define === \"function\" && define.amd){\n",
       "   // require.js is available: use it to load d3/LDAvis\n",
       "   require.config({paths: {d3: \"https://cdnjs.cloudflare.com/ajax/libs/d3/3.5.5/d3.min\"}});\n",
       "   require([\"d3\"], function(d3){\n",
       "      window.d3 = d3;\n",
       "      LDAvis_load_lib(\"https://cdn.rawgit.com/bmabey/pyLDAvis/files/ldavis.v1.0.0.js\", function(){\n",
       "        new LDAvis(\"#\" + \"ldavis_el7271403924907326244240747807\", ldavis_el7271403924907326244240747807_data);\n",
       "      });\n",
       "    });\n",
       "}else{\n",
       "    // require.js not available: dynamically load d3 & LDAvis\n",
       "    LDAvis_load_lib(\"https://cdnjs.cloudflare.com/ajax/libs/d3/3.5.5/d3.min.js\", function(){\n",
       "         LDAvis_load_lib(\"https://cdn.rawgit.com/bmabey/pyLDAvis/files/ldavis.v1.0.0.js\", function(){\n",
       "                 new LDAvis(\"#\" + \"ldavis_el7271403924907326244240747807\", ldavis_el7271403924907326244240747807_data);\n",
       "            })\n",
       "         });\n",
       "}\n",
       "</script>"
      ],
      "text/plain": [
       "PreparedData(topic_coordinates=              x         y  topics  cluster       Freq\n",
       "topic                                                \n",
       "1      0.293863  0.007565       1        1  26.912264\n",
       "5      0.280406  0.019565       2        1  26.481005\n",
       "4      0.198050 -0.019130       3        1  14.603920\n",
       "6      0.211301 -0.016565       4        1  10.794222\n",
       "7      0.190919  0.037180       5        1   8.569017\n",
       "2     -0.177208 -0.162417       6        1   2.883006\n",
       "9     -0.232727 -0.065456       7        1   2.709091\n",
       "0     -0.258007  0.231164       8        1   2.425634\n",
       "8     -0.259494 -0.018105       9        1   2.355378\n",
       "3     -0.247103 -0.013801      10        1   2.266459, topic_info=           Term         Freq        Total Category  logprob  loglift\n",
       "3817      админ  2582.000000  2582.000000  Default  30.0000  30.0000\n",
       "4167       сити  1486.000000  1486.000000  Default  29.0000  29.0000\n",
       "25       кредит  5326.000000  5326.000000  Default  28.0000  28.0000\n",
       "4934    ситифон   907.000000   907.000000  Default  27.0000  27.0000\n",
       "334       вклад  3484.000000  3484.000000  Default  26.0000  26.0000\n",
       "...         ...          ...          ...      ...      ...      ...\n",
       "1232     купюра   284.910400  1016.035522  Topic10  -4.1223   2.5155\n",
       "3280  сберкасса   116.246651   214.088013  Topic10  -5.0188   3.1763\n",
       "1233      пачка   120.648758   256.116608  Topic10  -4.9816   3.0342\n",
       "2305   быстрота    71.063904   157.515915  Topic10  -5.5109   2.9910\n",
       "1745       чека    68.736084   276.005981  Topic10  -5.5442   2.3968\n",
       "\n",
       "[624 rows x 6 columns], token_table=      Topic      Freq      Term\n",
       "term                           \n",
       "2993      7  0.997122       аба\n",
       "5196      5  0.997770   абсолют\n",
       "938       3  0.227073  авангард\n",
       "938       5  0.195232  авангард\n",
       "938       6  0.525368  авангард\n",
       "...     ...       ...       ...\n",
       "6032      1  0.989526    юрлица\n",
       "2923      8  0.988765   явление\n",
       "6801      2  0.988893  якиманка\n",
       "1115      5  0.984806    ячейка\n",
       "1115      8  0.011724    ячейка\n",
       "\n",
       "[1409 rows x 3 columns], R=30, lambda_step=0.01, plot_opts={'xlab': 'PC1', 'ylab': 'PC2'}, topic_order=[2, 6, 5, 7, 8, 3, 10, 1, 9, 4])"
      ]
     },
     "execution_count": 41,
     "metadata": {},
     "output_type": "execute_result"
    }
   ],
   "source": [
    "vis = pyLDAvis.gensim.prepare(lda10, corpus_tfidf, dictionary)\n",
    "vis"
   ]
  },
  {
   "cell_type": "markdown",
   "metadata": {},
   "source": [
    "## Часть 3. Классификация текстов [40/100]\n",
    "\n",
    "Сформулируем для простоты задачу бинарной классификации: будем классифицировать на два класса, то есть, различать резко отрицательные отзывы (с оценкой 1) и положительные отзывы (с оценкой 5). \n",
    "\n",
    "1.  Составьте обучающее и тестовое множество: выберите из всего набора данных N1 отзывов с оценкой 1 и N2 отзывов с оценкой 5 (значение N1 и N2 – на ваше усмотрение). Используйте ```sklearn.model_selection.train_test_split``` для разделения множества отобранных документов на обучающее и тестовое. \n",
    "2. Используйте любой известный вам алгоритм классификации текстов для решения задачи и получите baseline. Сравните разные варианты векторизации текста: использование только униграм, пар или троек слов или с использованием символьных $n$-грам. \n",
    "3. Сравните, как изменяется качество решения задачи при использовании скрытых тем в качестве признаков:\n",
    "* 1-ый вариант: $tf-idf$ преобразование (```sklearn.feature_extraction.text.TfidfTransformer```) и сингулярное разложение (оно же – латентый семантический анализ) (```sklearn.decomposition.TruncatedSVD```), \n",
    "* 2-ой вариант: тематические модели LDA (```sklearn.decomposition.LatentDirichletAllocation```). \n",
    "\n",
    "Используйте accuracy и F-measure для оценки качества классификации. \n",
    "\n",
    "Ниже написан примерный Pipeline для классификации текстов. \n",
    "\n",
    "Эта часть задания может быть сделана с использованием sklearn. "
   ]
  },
  {
   "cell_type": "code",
   "execution_count": null,
   "metadata": {},
   "outputs": [],
   "source": [
    "\n",
    "\n",
    "# !!! На каждом этапе Pipeline нужно указать свои параметры\n",
    "# 1-ый вариант: tf-idf + LSI\n",
    "# 2-ой вариант: LDA\n",
    "\n",
    "# clf = Pipeline([\n",
    "#     ('vect', CountVectorizer(analyzer = 'char', ngram_range={4,6})),\n",
    "#     ('clf', RandomForestClassifier()),\n",
    "# ])\n",
    "\n",
    "\n",
    "\n",
    "clf = Pipeline([ \n",
    "    ('vect', CountVectorizer()), \n",
    "    ('tfidf', TfidfTransformer()), \n",
    "    ('tm', TruncatedSVD()), \n",
    "    ('clf', RandomForestClassifier())\n",
    "])\n"
   ]
  }
 ],
 "metadata": {
  "kernelspec": {
   "display_name": "Python 3",
   "language": "python",
   "name": "python3"
  },
  "language_info": {
   "codemirror_mode": {
    "name": "ipython",
    "version": 3
   },
   "file_extension": ".py",
   "mimetype": "text/x-python",
   "name": "python",
   "nbconvert_exporter": "python",
   "pygments_lexer": "ipython3",
   "version": "3.7.10"
  }
 },
 "nbformat": 4,
 "nbformat_minor": 2
}
