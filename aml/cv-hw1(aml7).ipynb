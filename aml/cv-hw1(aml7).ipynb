{
 "cells": [
  {
   "cell_type": "code",
   "execution_count": 47,
   "metadata": {},
   "outputs": [],
   "source": [
    "import warnings\n",
    "warnings.filterwarnings('ignore')"
   ]
  },
  {
   "cell_type": "code",
   "execution_count": 2,
   "metadata": {},
   "outputs": [],
   "source": [
    "import json\n",
    "import re\n",
    "import bz2\n",
    "import regex\n",
    "from tqdm import tqdm\n",
    "from scipy import sparse\n",
    "from collections import Counter\n",
    "from pymystem3 import Mystem\n",
    "from pymorphy2 import MorphAnalyzer\n",
    "from sklearn.feature_extraction.text import TfidfVectorizer, CountVectorizer"
   ]
  },
  {
   "cell_type": "code",
   "execution_count": 3,
   "metadata": {},
   "outputs": [
    {
     "name": "stdout",
     "output_type": "stream",
     "text": [
      "Populating the interactive namespace from numpy and matplotlib\n"
     ]
    }
   ],
   "source": [
    "import pandas as pd\n",
    "import numpy as np\n",
    "import nltk\n",
    "from nltk.corpus import stopwords\n",
    "import matplotlib.pyplot as plt\n",
    "import seaborn as sns\n",
    "%matplotlib inline\n",
    "%pylab inline"
   ]
  },
  {
   "cell_type": "code",
   "execution_count": 4,
   "metadata": {
    "scrolled": true
   },
   "outputs": [
    {
     "name": "stderr",
     "output_type": "stream",
     "text": [
      "201030it [02:00, 1667.14it/s]\n"
     ]
    }
   ],
   "source": [
    "responses = []\n",
    "with bz2.BZ2File('banki_responses.json.bz2', 'r') as thefile:\n",
    "    for row in tqdm(thefile):\n",
    "        resp = json.loads(row)\n",
    "        if not resp['rating_not_checked'] and (len(resp['text'].split()) > 0):\n",
    "            responses.append(resp)"
   ]
  },
  {
   "cell_type": "markdown",
   "metadata": {},
   "source": [
    "#  Домашнее задание по NLP # 1 [100 баллов]\n",
    "## Классификация по тональности \n",
    "\n",
    "В этом домашнем задании вам предстоит классифицировать по тональности отзывы на банки с сайта banki.ru.\n",
    "\n",
    "Данные содержат непосредственно тексты отзывов, некоторую дополнительную информацию, а также оценку по шкале от 1 до 5. \n",
    "\n",
    "Тексты хранятся в json-ах в массиве responses.\n",
    "\n",
    "Посмотрим на пример отзыва:"
   ]
  },
  {
   "cell_type": "code",
   "execution_count": 5,
   "metadata": {
    "scrolled": true
   },
   "outputs": [
    {
     "data": {
      "text/plain": [
       "{'city': 'г. Саратов',\n",
       " 'rating_not_checked': False,\n",
       " 'title': 'Карта ко вкладу',\n",
       " 'num_comments': 0,\n",
       " 'bank_license': 'лицензия № 880',\n",
       " 'author': 'ronnichka',\n",
       " 'bank_name': 'Югра',\n",
       " 'datetime': '2015-06-03 20:56:57',\n",
       " 'text': 'Здравствуйте! Хотела написать, что мне месяц не выдают карту ко вкладу, ссылаясь на \"нам же их из Самары везут\" (на секундочку 5 часов езды от нашего города). Но! Прочитала, что людям 3,5 месяцев не выдают карту, и поняла, что у меня все хорошо, пока что. И подарок мне дали, и кулер в отделении есть. Так что я, конечно, готова ждать. Правда хотелось бы не очень долго.',\n",
       " 'rating_grade': 3}"
      ]
     },
     "execution_count": 5,
     "metadata": {},
     "output_type": "execute_result"
    }
   ],
   "source": [
    "responses[99]"
   ]
  },
  {
   "cell_type": "markdown",
   "metadata": {},
   "source": [
    "## Часть 1. Анализ текстов [40/100]\n",
    "\n",
    "1. Посчитайте количество отзывов в разных городах и на разные банки\n",
    "2. Постройте гистограмы длин слов в символах и в словах\n",
    "3. Найдите 10 самых частых:\n",
    "    * слов\n",
    "    * слов без стоп-слов\n",
    "    * лемм \n",
    "    * существительных\n",
    "4. Постройте кривые Ципфа и Хипса\n",
    "5. Ответьте на следующие вопросы:\n",
    "    * какое слово встречается чаще, \"сотрудник\" или \"клиент\"?\n",
    "    * сколько раз встречается слова \"мошенничество\" и \"доверие\"?\n",
    "6. В поле \"rating_grade\" записана оценка отзыва по шкале от 1 до 5. Используйте меру $tf-idf$, для того, чтобы найти ключевые слова и биграмы для положительных отзывов (с оценкой 5) и отрицательных отзывов (с оценкой 1)"
   ]
  },
  {
   "cell_type": "markdown",
   "metadata": {},
   "source": [
    "0: Создадим датафрейм"
   ]
  },
  {
   "cell_type": "code",
   "execution_count": 6,
   "metadata": {},
   "outputs": [
    {
     "data": {
      "text/html": [
       "<div>\n",
       "<style scoped>\n",
       "    .dataframe tbody tr th:only-of-type {\n",
       "        vertical-align: middle;\n",
       "    }\n",
       "\n",
       "    .dataframe tbody tr th {\n",
       "        vertical-align: top;\n",
       "    }\n",
       "\n",
       "    .dataframe thead th {\n",
       "        text-align: right;\n",
       "    }\n",
       "</style>\n",
       "<table border=\"1\" class=\"dataframe\">\n",
       "  <thead>\n",
       "    <tr style=\"text-align: right;\">\n",
       "      <th></th>\n",
       "      <th>city</th>\n",
       "      <th>rating_not_checked</th>\n",
       "      <th>title</th>\n",
       "      <th>num_comments</th>\n",
       "      <th>bank_license</th>\n",
       "      <th>author</th>\n",
       "      <th>bank_name</th>\n",
       "      <th>datetime</th>\n",
       "      <th>text</th>\n",
       "      <th>rating_grade</th>\n",
       "    </tr>\n",
       "  </thead>\n",
       "  <tbody>\n",
       "    <tr>\n",
       "      <th>0</th>\n",
       "      <td>г. Москва</td>\n",
       "      <td>False</td>\n",
       "      <td>Жалоба</td>\n",
       "      <td>0</td>\n",
       "      <td>лицензия № 2562</td>\n",
       "      <td>uhnov1</td>\n",
       "      <td>Бинбанк</td>\n",
       "      <td>2015-06-08 12:50:54</td>\n",
       "      <td>Добрый день! Я не являюсь клиентом банка и пор...</td>\n",
       "      <td>NaN</td>\n",
       "    </tr>\n",
       "    <tr>\n",
       "      <th>1</th>\n",
       "      <td>г. Новосибирск</td>\n",
       "      <td>False</td>\n",
       "      <td>Не могу пользоваться услугой Сбербанк он-лайн</td>\n",
       "      <td>0</td>\n",
       "      <td>лицензия № 1481</td>\n",
       "      <td>Foryou</td>\n",
       "      <td>Сбербанк России</td>\n",
       "      <td>2015-06-08 11:09:57</td>\n",
       "      <td>Доброго дня! Являюсь держателем зарплатной кар...</td>\n",
       "      <td>NaN</td>\n",
       "    </tr>\n",
       "    <tr>\n",
       "      <th>2</th>\n",
       "      <td>г. Москва</td>\n",
       "      <td>False</td>\n",
       "      <td>Двойное списание за один товар.</td>\n",
       "      <td>1</td>\n",
       "      <td>лицензия № 2562</td>\n",
       "      <td>Vladimir84</td>\n",
       "      <td>Бинбанк</td>\n",
       "      <td>2015-06-05 20:14:28</td>\n",
       "      <td>Здравствуйте!  Дублирую свое заявление от 03.0...</td>\n",
       "      <td>NaN</td>\n",
       "    </tr>\n",
       "    <tr>\n",
       "      <th>3</th>\n",
       "      <td>г. Ставрополь</td>\n",
       "      <td>False</td>\n",
       "      <td>Меняют проценты комиссии  не предупредив и не ...</td>\n",
       "      <td>2</td>\n",
       "      <td>лицензия № 1481</td>\n",
       "      <td>643609</td>\n",
       "      <td>Сбербанк России</td>\n",
       "      <td>2015-06-05 13:51:01</td>\n",
       "      <td>Добрый день!! Я открыл расчетный счет в СберБа...</td>\n",
       "      <td>NaN</td>\n",
       "    </tr>\n",
       "    <tr>\n",
       "      <th>4</th>\n",
       "      <td>г. Челябинск</td>\n",
       "      <td>False</td>\n",
       "      <td>Верните денежные средства за страховку</td>\n",
       "      <td>1</td>\n",
       "      <td>лицензия № 2766</td>\n",
       "      <td>anfisa-2003</td>\n",
       "      <td>ОТП Банк</td>\n",
       "      <td>2015-06-05 10:58:12</td>\n",
       "      <td>04.03.2015 г. взяла кредит в вашем банке, заяв...</td>\n",
       "      <td>NaN</td>\n",
       "    </tr>\n",
       "  </tbody>\n",
       "</table>\n",
       "</div>"
      ],
      "text/plain": [
       "             city  rating_not_checked  \\\n",
       "0       г. Москва               False   \n",
       "1  г. Новосибирск               False   \n",
       "2       г. Москва               False   \n",
       "3   г. Ставрополь               False   \n",
       "4    г. Челябинск               False   \n",
       "\n",
       "                                               title  num_comments  \\\n",
       "0                                             Жалоба             0   \n",
       "1      Не могу пользоваться услугой Сбербанк он-лайн             0   \n",
       "2                    Двойное списание за один товар.             1   \n",
       "3  Меняют проценты комиссии  не предупредив и не ...             2   \n",
       "4             Верните денежные средства за страховку             1   \n",
       "\n",
       "      bank_license       author        bank_name             datetime  \\\n",
       "0  лицензия № 2562       uhnov1          Бинбанк  2015-06-08 12:50:54   \n",
       "1  лицензия № 1481       Foryou  Сбербанк России  2015-06-08 11:09:57   \n",
       "2  лицензия № 2562   Vladimir84          Бинбанк  2015-06-05 20:14:28   \n",
       "3  лицензия № 1481       643609  Сбербанк России  2015-06-05 13:51:01   \n",
       "4  лицензия № 2766  anfisa-2003         ОТП Банк  2015-06-05 10:58:12   \n",
       "\n",
       "                                                text  rating_grade  \n",
       "0  Добрый день! Я не являюсь клиентом банка и пор...           NaN  \n",
       "1  Доброго дня! Являюсь держателем зарплатной кар...           NaN  \n",
       "2  Здравствуйте!  Дублирую свое заявление от 03.0...           NaN  \n",
       "3  Добрый день!! Я открыл расчетный счет в СберБа...           NaN  \n",
       "4  04.03.2015 г. взяла кредит в вашем банке, заяв...           NaN  "
      ]
     },
     "execution_count": 6,
     "metadata": {},
     "output_type": "execute_result"
    }
   ],
   "source": [
    "df = pd.DataFrame(responses)\n",
    "df.head()"
   ]
  },
  {
   "cell_type": "code",
   "execution_count": 7,
   "metadata": {},
   "outputs": [
    {
     "data": {
      "text/html": [
       "<div>\n",
       "<style scoped>\n",
       "    .dataframe tbody tr th:only-of-type {\n",
       "        vertical-align: middle;\n",
       "    }\n",
       "\n",
       "    .dataframe tbody tr th {\n",
       "        vertical-align: top;\n",
       "    }\n",
       "\n",
       "    .dataframe thead th {\n",
       "        text-align: right;\n",
       "    }\n",
       "</style>\n",
       "<table border=\"1\" class=\"dataframe\">\n",
       "  <thead>\n",
       "    <tr style=\"text-align: right;\">\n",
       "      <th></th>\n",
       "      <th>city</th>\n",
       "      <th>rating_not_checked</th>\n",
       "      <th>title</th>\n",
       "      <th>num_comments</th>\n",
       "      <th>bank_license</th>\n",
       "      <th>author</th>\n",
       "      <th>bank_name</th>\n",
       "      <th>datetime</th>\n",
       "      <th>text</th>\n",
       "      <th>rating_grade</th>\n",
       "    </tr>\n",
       "  </thead>\n",
       "  <tbody>\n",
       "    <tr>\n",
       "      <th>count</th>\n",
       "      <td>138325</td>\n",
       "      <td>153499</td>\n",
       "      <td>153499</td>\n",
       "      <td>153499.000000</td>\n",
       "      <td>153498</td>\n",
       "      <td>153479</td>\n",
       "      <td>153499</td>\n",
       "      <td>153499</td>\n",
       "      <td>153499</td>\n",
       "      <td>88658.000000</td>\n",
       "    </tr>\n",
       "    <tr>\n",
       "      <th>unique</th>\n",
       "      <td>5823</td>\n",
       "      <td>1</td>\n",
       "      <td>122941</td>\n",
       "      <td>NaN</td>\n",
       "      <td>670</td>\n",
       "      <td>104519</td>\n",
       "      <td>670</td>\n",
       "      <td>147616</td>\n",
       "      <td>153429</td>\n",
       "      <td>NaN</td>\n",
       "    </tr>\n",
       "    <tr>\n",
       "      <th>top</th>\n",
       "      <td>г. Москва</td>\n",
       "      <td>False</td>\n",
       "      <td></td>\n",
       "      <td>NaN</td>\n",
       "      <td>лицензия № 1481</td>\n",
       "      <td>Complince</td>\n",
       "      <td>Сбербанк России</td>\n",
       "      <td>2013-08-02 10:45:00</td>\n",
       "      <td>Здравствуйте, я являюсь руководителем организа...</td>\n",
       "      <td>NaN</td>\n",
       "    </tr>\n",
       "    <tr>\n",
       "      <th>freq</th>\n",
       "      <td>55354</td>\n",
       "      <td>153499</td>\n",
       "      <td>1223</td>\n",
       "      <td>NaN</td>\n",
       "      <td>26327</td>\n",
       "      <td>181</td>\n",
       "      <td>26327</td>\n",
       "      <td>4</td>\n",
       "      <td>6</td>\n",
       "      <td>NaN</td>\n",
       "    </tr>\n",
       "    <tr>\n",
       "      <th>mean</th>\n",
       "      <td>NaN</td>\n",
       "      <td>NaN</td>\n",
       "      <td>NaN</td>\n",
       "      <td>3.722102</td>\n",
       "      <td>NaN</td>\n",
       "      <td>NaN</td>\n",
       "      <td>NaN</td>\n",
       "      <td>NaN</td>\n",
       "      <td>NaN</td>\n",
       "      <td>2.153274</td>\n",
       "    </tr>\n",
       "    <tr>\n",
       "      <th>std</th>\n",
       "      <td>NaN</td>\n",
       "      <td>NaN</td>\n",
       "      <td>NaN</td>\n",
       "      <td>6.695089</td>\n",
       "      <td>NaN</td>\n",
       "      <td>NaN</td>\n",
       "      <td>NaN</td>\n",
       "      <td>NaN</td>\n",
       "      <td>NaN</td>\n",
       "      <td>1.509953</td>\n",
       "    </tr>\n",
       "    <tr>\n",
       "      <th>min</th>\n",
       "      <td>NaN</td>\n",
       "      <td>NaN</td>\n",
       "      <td>NaN</td>\n",
       "      <td>0.000000</td>\n",
       "      <td>NaN</td>\n",
       "      <td>NaN</td>\n",
       "      <td>NaN</td>\n",
       "      <td>NaN</td>\n",
       "      <td>NaN</td>\n",
       "      <td>1.000000</td>\n",
       "    </tr>\n",
       "    <tr>\n",
       "      <th>25%</th>\n",
       "      <td>NaN</td>\n",
       "      <td>NaN</td>\n",
       "      <td>NaN</td>\n",
       "      <td>0.000000</td>\n",
       "      <td>NaN</td>\n",
       "      <td>NaN</td>\n",
       "      <td>NaN</td>\n",
       "      <td>NaN</td>\n",
       "      <td>NaN</td>\n",
       "      <td>1.000000</td>\n",
       "    </tr>\n",
       "    <tr>\n",
       "      <th>50%</th>\n",
       "      <td>NaN</td>\n",
       "      <td>NaN</td>\n",
       "      <td>NaN</td>\n",
       "      <td>2.000000</td>\n",
       "      <td>NaN</td>\n",
       "      <td>NaN</td>\n",
       "      <td>NaN</td>\n",
       "      <td>NaN</td>\n",
       "      <td>NaN</td>\n",
       "      <td>1.000000</td>\n",
       "    </tr>\n",
       "    <tr>\n",
       "      <th>75%</th>\n",
       "      <td>NaN</td>\n",
       "      <td>NaN</td>\n",
       "      <td>NaN</td>\n",
       "      <td>4.000000</td>\n",
       "      <td>NaN</td>\n",
       "      <td>NaN</td>\n",
       "      <td>NaN</td>\n",
       "      <td>NaN</td>\n",
       "      <td>NaN</td>\n",
       "      <td>3.000000</td>\n",
       "    </tr>\n",
       "    <tr>\n",
       "      <th>max</th>\n",
       "      <td>NaN</td>\n",
       "      <td>NaN</td>\n",
       "      <td>NaN</td>\n",
       "      <td>406.000000</td>\n",
       "      <td>NaN</td>\n",
       "      <td>NaN</td>\n",
       "      <td>NaN</td>\n",
       "      <td>NaN</td>\n",
       "      <td>NaN</td>\n",
       "      <td>5.000000</td>\n",
       "    </tr>\n",
       "  </tbody>\n",
       "</table>\n",
       "</div>"
      ],
      "text/plain": [
       "             city rating_not_checked   title   num_comments     bank_license  \\\n",
       "count      138325             153499  153499  153499.000000           153498   \n",
       "unique       5823                  1  122941            NaN              670   \n",
       "top     г. Москва              False                    NaN  лицензия № 1481   \n",
       "freq        55354             153499    1223            NaN            26327   \n",
       "mean          NaN                NaN     NaN       3.722102              NaN   \n",
       "std           NaN                NaN     NaN       6.695089              NaN   \n",
       "min           NaN                NaN     NaN       0.000000              NaN   \n",
       "25%           NaN                NaN     NaN       0.000000              NaN   \n",
       "50%           NaN                NaN     NaN       2.000000              NaN   \n",
       "75%           NaN                NaN     NaN       4.000000              NaN   \n",
       "max           NaN                NaN     NaN     406.000000              NaN   \n",
       "\n",
       "           author        bank_name             datetime  \\\n",
       "count      153479           153499               153499   \n",
       "unique     104519              670               147616   \n",
       "top     Complince  Сбербанк России  2013-08-02 10:45:00   \n",
       "freq          181            26327                    4   \n",
       "mean          NaN              NaN                  NaN   \n",
       "std           NaN              NaN                  NaN   \n",
       "min           NaN              NaN                  NaN   \n",
       "25%           NaN              NaN                  NaN   \n",
       "50%           NaN              NaN                  NaN   \n",
       "75%           NaN              NaN                  NaN   \n",
       "max           NaN              NaN                  NaN   \n",
       "\n",
       "                                                     text  rating_grade  \n",
       "count                                              153499  88658.000000  \n",
       "unique                                             153429           NaN  \n",
       "top     Здравствуйте, я являюсь руководителем организа...           NaN  \n",
       "freq                                                    6           NaN  \n",
       "mean                                                  NaN      2.153274  \n",
       "std                                                   NaN      1.509953  \n",
       "min                                                   NaN      1.000000  \n",
       "25%                                                   NaN      1.000000  \n",
       "50%                                                   NaN      1.000000  \n",
       "75%                                                   NaN      3.000000  \n",
       "max                                                   NaN      5.000000  "
      ]
     },
     "execution_count": 7,
     "metadata": {},
     "output_type": "execute_result"
    }
   ],
   "source": [
    "df.describe(include='all')"
   ]
  },
  {
   "cell_type": "code",
   "execution_count": 8,
   "metadata": {
    "scrolled": true
   },
   "outputs": [
    {
     "name": "stdout",
     "output_type": "stream",
     "text": [
      "<class 'pandas.core.frame.DataFrame'>\n",
      "RangeIndex: 153499 entries, 0 to 153498\n",
      "Data columns (total 10 columns):\n",
      " #   Column              Non-Null Count   Dtype  \n",
      "---  ------              --------------   -----  \n",
      " 0   city                138325 non-null  object \n",
      " 1   rating_not_checked  153499 non-null  bool   \n",
      " 2   title               153499 non-null  object \n",
      " 3   num_comments        153499 non-null  int64  \n",
      " 4   bank_license        153498 non-null  object \n",
      " 5   author              153479 non-null  object \n",
      " 6   bank_name           153499 non-null  object \n",
      " 7   datetime            153499 non-null  object \n",
      " 8   text                153499 non-null  object \n",
      " 9   rating_grade        88658 non-null   float64\n",
      "dtypes: bool(1), float64(1), int64(1), object(7)\n",
      "memory usage: 10.7+ MB\n"
     ]
    }
   ],
   "source": [
    "df.info()"
   ]
  },
  {
   "cell_type": "markdown",
   "metadata": {},
   "source": [
    "1: Посчитайте количество отзывов в разных городах и на разные банки"
   ]
  },
  {
   "cell_type": "code",
   "execution_count": 9,
   "metadata": {},
   "outputs": [
    {
     "data": {
      "text/plain": [
       "г. Москва             55354\n",
       "г. Санкт-Петербург    14342\n",
       "г. Екатеринбург        2337\n",
       "г. Новосибирск         2300\n",
       "г. Нижний Новгород     1976\n",
       "г. Ростов-на-Дону      1891\n",
       "г. Самара              1731\n",
       "г. Челябинск           1507\n",
       "г. Казань              1440\n",
       "г. Краснодар           1262\n",
       "Name: city, dtype: int64"
      ]
     },
     "execution_count": 9,
     "metadata": {},
     "output_type": "execute_result"
    }
   ],
   "source": [
    "df.city.value_counts()[:10]"
   ]
  },
  {
   "cell_type": "code",
   "execution_count": 10,
   "metadata": {},
   "outputs": [
    {
     "data": {
      "text/plain": [
       "Сбербанк России              26327\n",
       "Альфа-Банк                   10224\n",
       "ВТБ 24                        8185\n",
       "Русский Стандарт              7943\n",
       "Хоум Кредит Банк              7549\n",
       "Тинькофф Банк                 5387\n",
       "Национальный Банк «Траст»     4607\n",
       "Ренессанс Кредит              3849\n",
       "Связной Банк                  3775\n",
       "ОТП Банк                      3237\n",
       "Name: bank_name, dtype: int64"
      ]
     },
     "execution_count": 10,
     "metadata": {},
     "output_type": "execute_result"
    }
   ],
   "source": [
    "df.bank_name.value_counts()[:10]"
   ]
  },
  {
   "cell_type": "markdown",
   "metadata": {},
   "source": [
    "2: Постройте гистограмы длин слов в символах и в словах"
   ]
  },
  {
   "cell_type": "code",
   "execution_count": 11,
   "metadata": {},
   "outputs": [],
   "source": [
    "w_c=[]\n",
    "c_c=[]\n",
    "for item in df.text:\n",
    "    w_c.append(len(item.split()))\n",
    "    c_c.append(len(item))\n",
    "df['word_count']=w_c\n",
    "df['char_count']=c_c"
   ]
  },
  {
   "cell_type": "code",
   "execution_count": 12,
   "metadata": {},
   "outputs": [
    {
     "data": {
      "text/plain": [
       "Text(0, 0.5, 'Встречаемость')"
      ]
     },
     "execution_count": 12,
     "metadata": {},
     "output_type": "execute_result"
    },
    {
     "data": {
      "image/png": "[encoded data removed]",
      "text/plain": [
       "<Figure size 432x288 with 1 Axes>"
      ]
     },
     "metadata": {
      "needs_background": "light"
     },
     "output_type": "display_data"
    }
   ],
   "source": [
    "ax = df['word_count'].hist(bins='auto',range=[0, 2000])\n",
    "ax.set_xlabel(\"Длина текста в словах\")\n",
    "ax.set_ylabel(\"Встречаемость\")"
   ]
  },
  {
   "cell_type": "code",
   "execution_count": 13,
   "metadata": {
    "scrolled": true
   },
   "outputs": [
    {
     "data": {
      "text/plain": [
       "Text(0, 0.5, 'Встречаемость')"
      ]
     },
     "execution_count": 13,
     "metadata": {},
     "output_type": "execute_result"
    },
    {
     "data": {
      "image/png": "[encoded data removed]",
      "text/plain": [
       "<Figure size 432x288 with 1 Axes>"
      ]
     },
     "metadata": {
      "needs_background": "light"
     },
     "output_type": "display_data"
    }
   ],
   "source": [
    "ax1 = df['char_count'].hist(bins='auto',range=[0, 10000])\n",
    "ax1.set_xlabel(\"Длина текста в буквах\")\n",
    "ax1.set_ylabel(\"Встречаемость\")"
   ]
  },
  {
   "cell_type": "markdown",
   "metadata": {},
   "source": [
    "3: Найдите 10 самых частых:\n",
    "слов\n",
    "слов без стоп-слов\n",
    "лемм\n",
    "существительных"
   ]
  },
  {
   "cell_type": "code",
   "execution_count": 14,
   "metadata": {
    "scrolled": true
   },
   "outputs": [],
   "source": [
    "def words_only(text, regex=re.compile(\"[А-Яа-я]+\")):\n",
    "    return \" \".join(regex.findall(text))\n",
    "\n",
    "mystopwords = stopwords.words('russian') + ['это', 'наш' , 'тыс', 'млн', 'млрд', 'также',  'т', 'д']\n",
    "def remove_stopwords(text, mystopwords = mystopwords):\n",
    "    try:\n",
    "        return \" \".join([token for token in text.split() if not token in mystopwords])\n",
    "    except:\n",
    "        return \"\"\n",
    "\n",
    "\n",
    "m = Mystem()\n",
    "def lemmatize_(text, mystem=m):\n",
    "    try:\n",
    "        return \"\".join(m.lemmatize(text)).strip()  \n",
    "    except:\n",
    "        return \" \"\n",
    "\n",
    "\n",
    "morph=MorphAnalyzer()\n",
    "def noun_strip(text):\n",
    "    try:\n",
    "        return \" \".join([item if morph.parse(item)[0].tag.POS=='NOUN' else \" \" for item in text.split()])\n",
    "    except:\n",
    "        return \" \"\n",
    "\n",
    "\n",
    "def most_common(text):\n",
    "    words_list = [word for text_ in text for word in text_.split()]\n",
    "    cnt=Counter(words_list)\n",
    "    return cnt.most_common(10)\n",
    "\n",
    "\n",
    "def text_prep(text):\n",
    "    text1 = words_only(text)\n",
    "    text2 = remove_stopwords(text1)\n",
    "    return lemmatize_(text2)"
   ]
  },
  {
   "cell_type": "code",
   "execution_count": 15,
   "metadata": {},
   "outputs": [
    {
     "name": "stdout",
     "output_type": "stream",
     "text": [
      "CPU times: user 14.3 s, sys: 484 ms, total: 14.8 s\n",
      "Wall time: 15 s\n"
     ]
    },
    {
     "data": {
      "text/plain": [
       "0         добрый день я не являюсь клиентом банка и пору...\n",
       "1         доброго дня являюсь держателем зарплатной карт...\n",
       "2         здравствуйте дублирую свое заявление от в до м...\n",
       "3         добрый день я открыл расчетный счет в сбербанк...\n",
       "4         г взяла кредит в вашем банке заявленная мною с...\n",
       "                                ...                        \n",
       "153494    слишком большой банк не всегда учитывает нашу ...\n",
       "153495    вы сами виноваты в своих проблемах кроме предп...\n",
       "153496    уважаемое руководство банка овк я проживаю в г...\n",
       "153497    пробовала оформить товар в кредит в альфа банк...\n",
       "153498    если коротко то мне нравится кридит получать м...\n",
       "Name: text, Length: 153499, dtype: object"
      ]
     },
     "execution_count": 15,
     "metadata": {},
     "output_type": "execute_result"
    }
   ],
   "source": [
    "%%time\n",
    "words1 = df.text.str.lower()\n",
    "words1 = words1.apply(words_only)\n",
    "words1"
   ]
  },
  {
   "cell_type": "code",
   "execution_count": 16,
   "metadata": {},
   "outputs": [
    {
     "name": "stdout",
     "output_type": "stream",
     "text": [
      "CPU times: user 1min 11s, sys: 452 ms, total: 1min 12s\n",
      "Wall time: 1min 13s\n"
     ]
    },
    {
     "data": {
      "text/plain": [
       "0         добрый день являюсь клиентом банка поручителем...\n",
       "1         доброго дня являюсь держателем зарплатной карт...\n",
       "2         здравствуйте дублирую свое заявление можайский...\n",
       "3         добрый день открыл расчетный счет сбербанке юр...\n",
       "4         г взяла кредит вашем банке заявленная мною сум...\n",
       "                                ...                        \n",
       "153494    слишком большой банк учитывает нашу специфику ...\n",
       "153495    сами виноваты своих проблемах кроме предпослед...\n",
       "153496    уважаемое руководство банка овк проживаю г ива...\n",
       "153497    пробовала оформить товар кредит альфа банке ко...\n",
       "153498    коротко нравится кридит получать милое дело ан...\n",
       "Name: text, Length: 153499, dtype: object"
      ]
     },
     "execution_count": 16,
     "metadata": {},
     "output_type": "execute_result"
    }
   ],
   "source": [
    "%%time\n",
    "words2 = words1.apply(remove_stopwords)\n",
    "words2"
   ]
  },
  {
   "cell_type": "code",
   "execution_count": 17,
   "metadata": {},
   "outputs": [
    {
     "name": "stdout",
     "output_type": "stream",
     "text": [
      "CPU times: user 1min 48s, sys: 6.78 s, total: 1min 55s\n",
      "Wall time: 20min 15s\n"
     ]
    },
    {
     "data": {
      "text/plain": [
       "0         добрый день являться клиент банк поручитель кр...\n",
       "1         добрый день являться держатель зарплатной карт...\n",
       "2         здравствовать дублировать свой заявление можай...\n",
       "3         добрый день открывать расчетный счет сбербанк ...\n",
       "4         г взять кредит ваш банк заявлять я сумма рубль...\n",
       "                                ...                        \n",
       "153494    слишком большой банк учитывать наш специфика п...\n",
       "153495    сам виноватый свой проблема кроме предпоследни...\n",
       "153496    уважать руководство банк овк проживать г ивано...\n",
       "153497    пробовать оформлять товар кредит альфа банк ко...\n",
       "153498    короче нравиться кридит получать милый дело ан...\n",
       "Name: text, Length: 153499, dtype: object"
      ]
     },
     "execution_count": 17,
     "metadata": {},
     "output_type": "execute_result"
    }
   ],
   "source": [
    "%%time\n",
    "words3 = words2.apply(lemmatize_)\n",
    "words3"
   ]
  },
  {
   "cell_type": "code",
   "execution_count": 18,
   "metadata": {},
   "outputs": [
    {
     "name": "stdout",
     "output_type": "stream",
     "text": [
      "CPU times: user 1h 13min 2s, sys: 6 s, total: 1h 13min 8s\n",
      "Wall time: 1h 13min 26s\n"
     ]
    },
    {
     "data": {
      "text/plain": [
       "0           день   клиент банк поручитель   договор     ...\n",
       "1           день   держатель   карта   сбербанк россия г...\n",
       "2               заявление         карта   покупка интерн...\n",
       "3           день     счет сбербанк юр лицо   договор   к...\n",
       "4         г   кредит   банк     сумма рубль год менеджер...\n",
       "                                ...                        \n",
       "153494        банк     специфика продукт   карта     пол...\n",
       "153495          проблема     сообщение   срыв ресторан  ...\n",
       "153496      руководство банк     г иваново   филиал   ба...\n",
       "153497        товар кредит альфа банк   центр     оформл...\n",
       "153498              дело анкета интернет   звонок скроки...\n",
       "Name: text, Length: 153499, dtype: object"
      ]
     },
     "execution_count": 18,
     "metadata": {},
     "output_type": "execute_result"
    }
   ],
   "source": [
    "%%time\n",
    "words4 = words3.apply(noun_strip)\n",
    "words4"
   ]
  },
  {
   "cell_type": "code",
   "execution_count": 19,
   "metadata": {},
   "outputs": [
    {
     "data": {
      "text/plain": [
       "[('в', 1330550),\n",
       " ('и', 1058997),\n",
       " ('не', 855335),\n",
       " ('на', 707935),\n",
       " ('что', 640057),\n",
       " ('я', 577500),\n",
       " ('с', 464037),\n",
       " ('по', 372769),\n",
       " ('мне', 320958),\n",
       " ('банка', 275906)]"
      ]
     },
     "execution_count": 19,
     "metadata": {},
     "output_type": "execute_result"
    }
   ],
   "source": [
    "most_common(words1)"
   ]
  },
  {
   "cell_type": "code",
   "execution_count": 20,
   "metadata": {
    "scrolled": false
   },
   "outputs": [
    {
     "data": {
      "text/plain": [
       "[('банка', 275906),\n",
       " ('банк', 215426),\n",
       " ('деньги', 131201),\n",
       " ('карту', 105829),\n",
       " ('карты', 101821),\n",
       " ('кредит', 81136),\n",
       " ('день', 76552),\n",
       " ('банке', 72169),\n",
       " ('заявление', 70423),\n",
       " ('очень', 66824)]"
      ]
     },
     "execution_count": 20,
     "metadata": {},
     "output_type": "execute_result"
    }
   ],
   "source": [
    "most_common(words2)"
   ]
  },
  {
   "cell_type": "code",
   "execution_count": 21,
   "metadata": {},
   "outputs": [
    {
     "data": {
      "text/plain": [
       "[('банк', 623032),\n",
       " ('карта', 334999),\n",
       " ('деньги', 179734),\n",
       " ('день', 173043),\n",
       " ('мой', 163042),\n",
       " ('кредит', 156177),\n",
       " ('который', 148986),\n",
       " ('отделение', 144050),\n",
       " ('клиент', 136892),\n",
       " ('сотрудник', 134168)]"
      ]
     },
     "execution_count": 21,
     "metadata": {},
     "output_type": "execute_result"
    }
   ],
   "source": [
    "most_common(words3)"
   ]
  },
  {
   "cell_type": "code",
   "execution_count": 22,
   "metadata": {},
   "outputs": [
    {
     "data": {
      "text/plain": [
       "[('банк', 623032),\n",
       " ('карта', 334999),\n",
       " ('деньги', 179734),\n",
       " ('день', 173043),\n",
       " ('кредит', 156177),\n",
       " ('отделение', 144050),\n",
       " ('клиент', 136892),\n",
       " ('сотрудник', 134168),\n",
       " ('счет', 126894),\n",
       " ('сумма', 111232)]"
      ]
     },
     "execution_count": 22,
     "metadata": {},
     "output_type": "execute_result"
    }
   ],
   "source": [
    "most_common(words4)"
   ]
  },
  {
   "cell_type": "markdown",
   "metadata": {},
   "source": [
    "4: Постройте кривые Ципфа и Хипса"
   ]
  },
  {
   "cell_type": "markdown",
   "metadata": {},
   "source": [
    "Кривая Ципфа (втречаемость слова обратно пропорциональна его порядку)"
   ]
  },
  {
   "cell_type": "code",
   "execution_count": 25,
   "metadata": {
    "scrolled": false
   },
   "outputs": [
    {
     "data": {
      "text/plain": [
       "Text(0, 0.5, 'Встречаемость')"
      ]
     },
     "execution_count": 25,
     "metadata": {},
     "output_type": "execute_result"
    },
    {
     "data": {
      "image/png": "[encoded data removed]",
      "text/plain": [
       "<Figure size 432x288 with 1 Axes>"
      ]
     },
     "metadata": {
      "needs_background": "light"
     },
     "output_type": "display_data"
    }
   ],
   "source": [
    "words_ = [word for text_ in words4 for word in text_.split()]\n",
    "cnt=Counter(words_)\n",
    "plt.plot(sort(list(cnt.values()))[::-1][:100])\n",
    "plt.plot([620000/x for x in range(1,101)])\n",
    "plt.xlim([0,80])\n",
    "plt.xlabel(\"Длина текста в буквах\")\n",
    "plt.ylabel(\"Встречаемость\")"
   ]
  },
  {
   "cell_type": "markdown",
   "metadata": {},
   "source": [
    "Кривая Хипса (количество разных слов в тексте пропорционально его длине)"
   ]
  },
  {
   "cell_type": "code",
   "execution_count": 26,
   "metadata": {},
   "outputs": [
    {
     "data": {
      "text/plain": [
       "[<matplotlib.lines.Line2D at 0x7fe075b17d50>]"
      ]
     },
     "execution_count": 26,
     "metadata": {},
     "output_type": "execute_result"
    },
    {
     "data": {
      "image/png": "[encoded data removed]",
      "text/plain": [
       "<Figure size 432x288 with 1 Axes>"
      ]
     },
     "metadata": {
      "needs_background": "light"
     },
     "output_type": "display_data"
    }
   ],
   "source": [
    "plt.scatter(x=[len(text.split()) for text in words3], y=[len(Counter(text.split())) for text in words3])\n",
    "plt.plot([1.7*x**0.82 for x in range(1,2502)], c='r')"
   ]
  },
  {
   "cell_type": "markdown",
   "metadata": {},
   "source": [
    "5: Ответьте на следующие вопросы:\n",
    "- какое слово встречается чаще, \"сотрудник\" или \"клиент\"?\n",
    "- сколько раз встречается слова \"мошенничество\" и \"доверие\"?"
   ]
  },
  {
   "cell_type": "code",
   "execution_count": 27,
   "metadata": {
    "scrolled": true
   },
   "outputs": [
    {
     "data": {
      "text/plain": [
       "[('банк', 623032),\n",
       " ('карта', 334999),\n",
       " ('деньги', 179734),\n",
       " ('день', 173043),\n",
       " ('кредит', 156177),\n",
       " ('отделение', 144050),\n",
       " ('клиент', 136892),\n",
       " ('сотрудник', 134168),\n",
       " ('счет', 126894),\n",
       " ('сумма', 111232)]"
      ]
     },
     "execution_count": 27,
     "metadata": {},
     "output_type": "execute_result"
    }
   ],
   "source": [
    "most_common(words4)"
   ]
  },
  {
   "cell_type": "markdown",
   "metadata": {},
   "source": [
    "'Клиент' встречается чаще."
   ]
  },
  {
   "cell_type": "code",
   "execution_count": 28,
   "metadata": {},
   "outputs": [
    {
     "name": "stdout",
     "output_type": "stream",
     "text": [
      "Мошенничество: 3244\n",
      "Доверие: 2108\n"
     ]
    }
   ],
   "source": [
    "cnt=Counter([word for text_ in words4 for word in text_.split()])\n",
    "print('Мошенничество:',cnt.get('мошенничество'))\n",
    "print('Доверие:',cnt.get('доверие'))"
   ]
  },
  {
   "cell_type": "markdown",
   "metadata": {},
   "source": [
    "В поле \"rating_grade\" записана оценка отзыва по шкале от 1 до 5. Используйте меру  𝑡𝑓−𝑖𝑑𝑓 , для того, чтобы найти ключевые слова и биграмы для положительных отзывов (с оценкой 5) и отрицательных отзывов (с оценкой 1)"
   ]
  },
  {
   "cell_type": "code",
   "execution_count": 29,
   "metadata": {},
   "outputs": [],
   "source": [
    "pos=df[df.rating_grade==5]\n",
    "neg=df[df.rating_grade==1]"
   ]
  },
  {
   "cell_type": "code",
   "execution_count": 30,
   "metadata": {},
   "outputs": [
    {
     "name": "stdout",
     "output_type": "stream",
     "text": [
      "CPU times: user 18 s, sys: 621 ms, total: 18.6 s\n",
      "Wall time: 2min 4s\n"
     ]
    }
   ],
   "source": [
    "%%time\n",
    "pos3 = pos.text.apply(text_prep)"
   ]
  },
  {
   "cell_type": "code",
   "execution_count": 31,
   "metadata": {},
   "outputs": [
    {
     "name": "stdout",
     "output_type": "stream",
     "text": [
      "CPU times: user 1min 14s, sys: 2.27 s, total: 1min 17s\n",
      "Wall time: 8min 20s\n"
     ]
    }
   ],
   "source": [
    "%%time\n",
    "neg3 = neg.text.apply(text_prep)"
   ]
  },
  {
   "cell_type": "code",
   "execution_count": 32,
   "metadata": {},
   "outputs": [
    {
     "data": {
      "text/plain": [
       "['досрочно',\n",
       " 'закрывать',\n",
       " 'вклад',\n",
       " 'отпуск',\n",
       " 'жена',\n",
       " 'заказывать',\n",
       " 'заранее',\n",
       " 'забывать',\n",
       " 'сотрудник',\n",
       " 'спб',\n",
       " 'наталья',\n",
       " 'отказывать',\n",
       " 'хотя',\n",
       " 'сумма',\n",
       " 'значительный',\n",
       " 'работать',\n",
       " 'быстро',\n",
       " 'профессионально',\n",
       " 'ничто',\n",
       " 'лишний',\n",
       " 'жаль',\n",
       " 'прием',\n",
       " 'офис',\n",
       " 'доступность',\n",
       " 'замечать',\n",
       " 'нести',\n",
       " 'деньги',\n",
       " 'брать',\n",
       " 'кредит',\n",
       " 'желать',\n",
       " 'успех',\n",
       " 'банка',\n",
       " 'досрочно закрывать',\n",
       " 'закрывать вклад',\n",
       " 'заказывать заранее',\n",
       " 'сотрудник банк',\n",
       " 'работать быстро',\n",
       " 'быстро профессионально',\n",
       " 'вклад офис',\n",
       " 'деньги вклад',\n",
       " 'брать кредит',\n",
       " 'желать успех',\n",
       " 'хотеть',\n",
       " 'открывать',\n",
       " 'доходный',\n",
       " 'год',\n",
       " 'процент',\n",
       " 'начисляться',\n",
       " 'месяц',\n",
       " 'но']"
      ]
     },
     "execution_count": 32,
     "metadata": {},
     "output_type": "execute_result"
    }
   ],
   "source": [
    "tfidf_pos = TfidfVectorizer(max_df=0.85,max_features=10000,ngram_range=(1,2))\n",
    "tfidf_pos_m = tfidf_pos.fit_transform(list(pos3))\n",
    "list(tfidf_pos.vocabulary_.keys())[:50]"
   ]
  },
  {
   "cell_type": "code",
   "execution_count": 33,
   "metadata": {},
   "outputs": [
    {
     "data": {
      "text/plain": [
       "['открывать',\n",
       " 'вклад',\n",
       " 'счет',\n",
       " 'плюс',\n",
       " 'этот',\n",
       " 'зарплатный',\n",
       " 'карта',\n",
       " 'рубль',\n",
       " 'сам',\n",
       " 'себя',\n",
       " 'сегодня',\n",
       " 'приходить',\n",
       " 'указанный',\n",
       " 'отделение',\n",
       " 'цель',\n",
       " 'пополнять',\n",
       " 'долларовый',\n",
       " 'сч',\n",
       " 'давать',\n",
       " 'операционист',\n",
       " 'паспорт',\n",
       " 'окошко',\n",
       " 'написать',\n",
       " 'подтверждение',\n",
       " 'операция',\n",
       " 'подобный',\n",
       " 'прошлый',\n",
       " 'потребовать',\n",
       " 'сказать',\n",
       " 'нужно',\n",
       " 'полагать',\n",
       " 'деньги',\n",
       " 'вс',\n",
       " 'взять',\n",
       " 'делать',\n",
       " 'крутить',\n",
       " 'вставлять',\n",
       " 'терминал',\n",
       " 'вводить',\n",
       " 'пин',\n",
       " 'получать',\n",
       " 'ответ',\n",
       " 'чек',\n",
       " 'доллар',\n",
       " 'вносить',\n",
       " 'вопрос',\n",
       " 'банка',\n",
       " 'понимать',\n",
       " 'кто',\n",
       " 'сознательно']"
      ]
     },
     "execution_count": 33,
     "metadata": {},
     "output_type": "execute_result"
    }
   ],
   "source": [
    "tfidf_neg = TfidfVectorizer(max_df=0.85,max_features=10000,ngram_range=(1,2))\n",
    "tfidf_neg_m = tfidf_neg.fit_transform(list(neg3))\n",
    "list(tfidf_neg.vocabulary_.keys())[:50]"
   ]
  },
  {
   "cell_type": "markdown",
   "metadata": {},
   "source": [
    "## Часть 2. Тематическое моделирование [20/100]\n",
    "\n",
    "1. Постройте несколько тематических моделей коллекции документов с разным числом тем. Приведите примеры понятных (интерпретируемых) тем.\n",
    "2. Найдите темы, в которых упомянуты конкретные банки (Сбербанк, ВТБ, другой банк). Можете ли вы их прокомментировать / объяснить?\n",
    "\n",
    "Эта часть задания может быть сделана с использованием gensim. "
   ]
  },
  {
   "cell_type": "code",
   "execution_count": 48,
   "metadata": {},
   "outputs": [],
   "source": [
    "from gensim.corpora import Dictionary\n",
    "from gensim.models import TfidfModel, LdaModel, lsimodel\n",
    "from gensim import similarities\n",
    "import pyLDAvis\n",
    "from pyLDAvis import gensim_models"
   ]
  },
  {
   "cell_type": "code",
   "execution_count": 49,
   "metadata": {},
   "outputs": [],
   "source": [
    "texts = [text.split() for text in words4]\n",
    "dictionary = Dictionary(texts)\n",
    "corpus = [dictionary.doc2bow(text) for text in texts]"
   ]
  },
  {
   "cell_type": "code",
   "execution_count": 50,
   "metadata": {},
   "outputs": [],
   "source": [
    "tfidf = TfidfModel(corpus)\n",
    "corpus_tfidf = tfidf[corpus]"
   ]
  },
  {
   "cell_type": "markdown",
   "metadata": {},
   "source": [
    "Попробуем по 5 тем с LSI, LDA."
   ]
  },
  {
   "cell_type": "code",
   "execution_count": 51,
   "metadata": {},
   "outputs": [
    {
     "name": "stdout",
     "output_type": "stream",
     "text": [
      "CPU times: user 2min 46s, sys: 3.9 s, total: 2min 50s\n",
      "Wall time: 2min 29s\n"
     ]
    }
   ],
   "source": [
    "%%time\n",
    "lsi = lsimodel.LsiModel(corpus=corpus_tfidf, id2word=dictionary, num_topics=5)\n",
    "lda = LdaModel(corpus=corpus_tfidf, id2word=dictionary, num_topics=5)"
   ]
  },
  {
   "cell_type": "code",
   "execution_count": 52,
   "metadata": {},
   "outputs": [
    {
     "data": {
      "text/plain": [
       "[(0,\n",
       "  '0.273*\"карта\" + 0.178*\"кредит\" + 0.159*\"деньги\" + 0.148*\"заявление\" + 0.148*\"счет\" + 0.141*\"банкомат\" + 0.140*\"вклад\" + 0.137*\"отделение\" + 0.133*\"сбербанк\" + 0.131*\"сумма\"'),\n",
       " (1,\n",
       "  '-0.793*\"вклад\" + -0.155*\"очередь\" + 0.139*\"кредит\" + 0.115*\"карта\" + 0.114*\"платеж\" + -0.110*\"процент\" + 0.108*\"сбербанк\" + -0.105*\"офис\" + -0.099*\"вкладчик\" + 0.097*\"заявление\"'),\n",
       " (2,\n",
       "  '-0.464*\"кредит\" + 0.355*\"карта\" + 0.301*\"банкомат\" + -0.253*\"страховка\" + 0.195*\"сбербанк\" + -0.189*\"договор\" + -0.152*\"погашение\" + 0.147*\"операция\" + -0.141*\"платеж\" + 0.140*\"деньги\"'),\n",
       " (3,\n",
       "  '0.277*\"заявка\" + 0.255*\"номер\" + -0.242*\"сумма\" + -0.236*\"платеж\" + -0.219*\"руб\" + 0.213*\"звонок\" + -0.170*\"рубль\" + -0.166*\"счет\" + -0.162*\"банкомат\" + 0.160*\"телефон\"'),\n",
       " (4,\n",
       "  '0.407*\"номер\" + -0.328*\"страховка\" + 0.317*\"звонок\" + -0.232*\"карта\" + -0.198*\"заявка\" + 0.183*\"кошелек\" + 0.181*\"телефон\" + -0.167*\"страхование\" + 0.150*\"вклад\" + 0.142*\"база\"')]"
      ]
     },
     "execution_count": 52,
     "metadata": {},
     "output_type": "execute_result"
    }
   ],
   "source": [
    "lsi.show_topics()"
   ]
  },
  {
   "cell_type": "markdown",
   "metadata": {},
   "source": [
    "Скоре всего, первая тема связана с всевозможными опциями взаимодействия с банком: открытие вкладов, счетов, получение кредитов.\n",
    "Четвертая категория связана с телефонными операциями."
   ]
  },
  {
   "cell_type": "code",
   "execution_count": 53,
   "metadata": {},
   "outputs": [
    {
     "data": {
      "text/plain": [
       "[(0,\n",
       "  '0.012*\"карта\" + 0.009*\"банкомат\" + 0.007*\"деньги\" + 0.007*\"счет\" + 0.006*\"отделение\" + 0.005*\"карточка\" + 0.005*\"обслуживание\" + 0.005*\"клиент\" + 0.005*\"заявление\" + 0.004*\"день\"'),\n",
       " (1,\n",
       "  '0.013*\"кредит\" + 0.010*\"документ\" + 0.007*\"очередь\" + 0.006*\"менеджер\" + 0.006*\"заявка\" + 0.005*\"девушка\" + 0.005*\"анкета\" + 0.005*\"человек\" + 0.005*\"отделение\" + 0.005*\"офис\"'),\n",
       " (2,\n",
       "  '0.044*\"вклад\" + 0.011*\"депозит\" + 0.010*\"очередь\" + 0.010*\"операционистка\" + 0.008*\"вкладчик\" + 0.007*\"касса\" + 0.007*\"подарок\" + 0.007*\"ставка\" + 0.007*\"ячейка\" + 0.006*\"процент\"'),\n",
       " (3,\n",
       "  '0.020*\"кредит\" + 0.014*\"платеж\" + 0.013*\"задолженность\" + 0.012*\"погашение\" + 0.011*\"договор\" + 0.011*\"сумма\" + 0.010*\"штраф\" + 0.008*\"месяц\" + 0.008*\"долг\" + 0.008*\"процент\"'),\n",
       " (4,\n",
       "  '0.010*\"гута\" + 0.008*\"звонок\" + 0.006*\"полянка\" + 0.006*\"телефон\" + 0.006*\"номер\" + 0.005*\"сестра\" + 0.004*\"человек\" + 0.004*\"трубка\" + 0.004*\"кредит\" + 0.004*\"угроза\"')]"
      ]
     },
     "execution_count": 53,
     "metadata": {},
     "output_type": "execute_result"
    }
   ],
   "source": [
    "lda.show_topics()"
   ]
  },
  {
   "cell_type": "markdown",
   "metadata": {},
   "source": [
    "Первая категория связана, скорее всего с мошенническими темами.\n",
    "Вторая - с опытом взаимодействия с отделениями банков.\n",
    "Третья - с кредитами."
   ]
  },
  {
   "cell_type": "code",
   "execution_count": 54,
   "metadata": {},
   "outputs": [
    {
     "name": "stdout",
     "output_type": "stream",
     "text": [
      "CPU times: user 2min 49s, sys: 3.85 s, total: 2min 53s\n",
      "Wall time: 2min 31s\n"
     ]
    }
   ],
   "source": [
    "%%time\n",
    "lsi10 = lsimodel.LsiModel(corpus=corpus_tfidf, id2word=dictionary, num_topics=10)\n",
    "lda10 = LdaModel(corpus=corpus_tfidf, id2word=dictionary, num_topics=10)"
   ]
  },
  {
   "cell_type": "code",
   "execution_count": 55,
   "metadata": {},
   "outputs": [
    {
     "data": {
      "text/plain": [
       "[(0,\n",
       "  '0.273*\"карта\" + 0.178*\"кредит\" + 0.160*\"деньги\" + 0.148*\"заявление\" + 0.148*\"счет\" + 0.143*\"банкомат\" + 0.140*\"вклад\" + 0.137*\"отделение\" + 0.132*\"сбербанк\" + 0.131*\"сумма\"'),\n",
       " (1,\n",
       "  '-0.793*\"вклад\" + -0.144*\"очередь\" + 0.136*\"карта\" + 0.132*\"банкомат\" + 0.116*\"сбербанк\" + -0.115*\"процент\" + 0.111*\"платеж\" + -0.103*\"офис\" + -0.101*\"ставка\" + -0.100*\"вкладчик\"'),\n",
       " (2,\n",
       "  '-0.462*\"кредит\" + 0.362*\"банкомат\" + 0.310*\"карта\" + -0.221*\"страховка\" + -0.179*\"договор\" + 0.175*\"сбербанк\" + 0.161*\"деньги\" + -0.156*\"платеж\" + -0.153*\"погашение\" + 0.148*\"операция\"'),\n",
       " (3,\n",
       "  '-0.347*\"банкомат\" + 0.288*\"заявка\" + 0.266*\"карта\" + -0.234*\"сумма\" + -0.204*\"платеж\" + -0.195*\"руб\" + 0.176*\"номер\" + -0.173*\"деньги\" + -0.158*\"рубль\" + -0.152*\"погашение\"'),\n",
       " (4,\n",
       "  '0.449*\"банкомат\" + -0.405*\"карта\" + 0.181*\"очередь\" + -0.176*\"лимит\" + -0.162*\"комиссия\" + 0.139*\"купюра\" + 0.136*\"номер\" + -0.134*\"руб\" + 0.130*\"человек\" + -0.120*\"смс\"'),\n",
       " (5,\n",
       "  '0.356*\"номер\" + -0.353*\"страховка\" + 0.239*\"звонок\" + -0.232*\"заявка\" + -0.221*\"карта\" + -0.221*\"банкомат\" + 0.173*\"телефон\" + 0.165*\"вклад\" + -0.165*\"кредит\" + 0.144*\"задолженность\"'),\n",
       " (6,\n",
       "  '0.607*\"сбербанк\" + -0.255*\"банкомат\" + 0.227*\"заявление\" + -0.203*\"звонок\" + -0.180*\"альфа\" + -0.164*\"номер\" + 0.139*\"г\" + -0.137*\"смс\" + -0.135*\"лимит\" + 0.117*\"документ\"'),\n",
       " (7,\n",
       "  '-0.302*\"перевод\" + -0.269*\"платеж\" + 0.256*\"карта\" + 0.252*\"заявление\" + 0.243*\"страховка\" + -0.228*\"кошелек\" + -0.201*\"заявка\" + 0.184*\"банкомат\" + -0.179*\"киви\" + -0.178*\"терминал\"'),\n",
       " (8,\n",
       "  '0.427*\"страховка\" + 0.295*\"кошелек\" + 0.219*\"номер\" + 0.219*\"киви\" + 0.214*\"страхование\" + -0.175*\"очередь\" + -0.172*\"задолженность\" + -0.148*\"платеж\" + -0.139*\"карта\" + -0.135*\"отделение\"'),\n",
       " (9,\n",
       "  '0.302*\"кошелек\" + -0.263*\"сбербанк\" + 0.221*\"заявка\" + 0.211*\"киви\" + -0.204*\"страховка\" + -0.200*\"комиссия\" + -0.182*\"перевод\" + -0.180*\"курс\" + 0.180*\"вклад\" + 0.154*\"рассмотрение\"')]"
      ]
     },
     "execution_count": 55,
     "metadata": {},
     "output_type": "execute_result"
    }
   ],
   "source": [
    "lsi10.show_topics()"
   ]
  },
  {
   "cell_type": "markdown",
   "metadata": {},
   "source": [
    "Зачастую в темах одновременно присутствуют вместе с у понминанием сбербанка слова: банкомат, карта, страховка, вклад. Возможно, это были основные проблемные места в отзывах."
   ]
  },
  {
   "cell_type": "code",
   "execution_count": 56,
   "metadata": {},
   "outputs": [
    {
     "data": {
      "text/plain": [
       "[(0,\n",
       "  '0.018*\"банкомат\" + 0.012*\"деньги\" + 0.012*\"карта\" + 0.011*\"счет\" + 0.010*\"платеж\" + 0.009*\"сумма\" + 0.009*\"заявление\" + 0.008*\"претензия\" + 0.008*\"кредит\" + 0.008*\"рубль\"'),\n",
       " (1,\n",
       "  '0.017*\"пай\" + 0.014*\"милиция\" + 0.011*\"мини\" + 0.010*\"москомприватбанк\" + 0.009*\"стекло\" + 0.009*\"критерий\" + 0.009*\"банкнота\" + 0.008*\"журнал\" + 0.007*\"заминка\" + 0.007*\"граф\"'),\n",
       " (2,\n",
       "  '0.025*\"кредит\" + 0.019*\"документ\" + 0.015*\"заявка\" + 0.013*\"ситифон\" + 0.012*\"сделка\" + 0.010*\"квартира\" + 0.010*\"страховка\" + 0.010*\"менеджер\" + 0.009*\"автокредит\" + 0.009*\"автосалон\"'),\n",
       " (3,\n",
       "  '0.021*\"комитет\" + 0.015*\"стенд\" + 0.014*\"грубость\" + 0.011*\"кабинка\" + 0.010*\"застройщик\" + 0.010*\"лента\" + 0.009*\"долл\" + 0.009*\"спектр\" + 0.009*\"недочет\" + 0.009*\"цент\"'),\n",
       " (4,\n",
       "  '0.016*\"проволочка\" + 0.011*\"даль\" + 0.009*\"земля\" + 0.009*\"сокольники\" + 0.008*\"германия\" + 0.008*\"риэлтор\" + 0.008*\"привязка\" + 0.007*\"доброжелательность\" + 0.007*\"процессинг\" + 0.007*\"маразм\"'),\n",
       " (5,\n",
       "  '0.038*\"абсолют\" + 0.020*\"дельта\" + 0.020*\"мальчик\" + 0.016*\"этаж\" + 0.014*\"новосибирск\" + 0.013*\"высказывание\" + 0.012*\"возрождение\" + 0.012*\"маня\" + 0.012*\"ресторан\" + 0.010*\"должное\"'),\n",
       " (6,\n",
       "  '0.015*\"кредит\" + 0.006*\"договор\" + 0.006*\"телефон\" + 0.005*\"задолженность\" + 0.005*\"платеж\" + 0.005*\"юниаструм\" + 0.005*\"звонок\" + 0.005*\"поручитель\" + 0.005*\"письмо\" + 0.005*\"сотрудник\"'),\n",
       " (7,\n",
       "  '0.024*\"вклад\" + 0.015*\"очередь\" + 0.010*\"касса\" + 0.009*\"отделение\" + 0.009*\"минута\" + 0.008*\"офис\" + 0.008*\"депозит\" + 0.007*\"операционистка\" + 0.007*\"обслуживание\" + 0.007*\"клиент\"'),\n",
       " (8,\n",
       "  '0.020*\"ячейка\" + 0.019*\"тверская\" + 0.017*\"буклет\" + 0.013*\"класс\" + 0.012*\"физлицо\" + 0.012*\"получас\" + 0.012*\"юрлица\" + 0.010*\"охранник\" + 0.009*\"физлиц\" + 0.009*\"монета\"'),\n",
       " (9,\n",
       "  '0.015*\"карта\" + 0.007*\"банкомат\" + 0.007*\"счет\" + 0.007*\"админ\" + 0.007*\"отделение\" + 0.006*\"интернет\" + 0.006*\"карточка\" + 0.005*\"деньги\" + 0.005*\"обслуживание\" + 0.005*\"лимит\"')]"
      ]
     },
     "execution_count": 56,
     "metadata": {},
     "output_type": "execute_result"
    }
   ],
   "source": [
    "lda10.show_topics()"
   ]
  },
  {
   "cell_type": "code",
   "execution_count": 57,
   "metadata": {},
   "outputs": [],
   "source": [
    "pyLDAvis.enable_notebook()"
   ]
  },
  {
   "cell_type": "code",
   "execution_count": 58,
   "metadata": {},
   "outputs": [
    {
     "data": {
      "text/html": [
       "\n",
       "<link rel=\"stylesheet\" type=\"text/css\" href=\"https://cdn.jsdelivr.net/gh/bmabey/pyLDAvis@3.3.1/pyLDAvis/js/ldavis.v1.0.0.css\">\n",
       "\n",
       "\n",
       "<div id=\"ldavis_el75231406027497133605074696213\"></div>\n",
       "<script type=\"text/javascript\">\n",
       "\n",
       "var ldavis_el75231406027497133605074696213_data = {\"mdsDat\": {\"x\": [-0.3061575008127058, -0.26469584171245325, -0.23234730193397526, -0.26404155549683456, -0.16791421293064077, 0.24077659554253797, 0.23297357325247314, 0.2506911248298465, 0.2554748414897532, 0.2552402777719993], \"y\": [0.023140964861981833, 0.008867325316276597, -0.03537255117486974, 0.04620718114194528, -0.05223915450356737, -0.2285190201082529, 0.0430862618812757, 0.027227221378901982, 0.09316295313795869, 0.07443881806834987], \"topics\": [1, 2, 3, 4, 5, 6, 7, 8, 9, 10], \"cluster\": [1, 1, 1, 1, 1, 1, 1, 1, 1, 1], \"Freq\": [27.47013575322247, 22.400482785927426, 16.937511200608434, 14.653855108476114, 6.441605164401304, 2.5357612257229665, 2.505750001218642, 2.4317918815829525, 2.3246423227128257, 2.2984645561268593]}, \"tinfo\": {\"Term\": [\"\\u043a\\u0440\\u0435\\u0434\\u0438\\u0442\", \"\\u0432\\u043a\\u043b\\u0430\\u0434\", \"\\u0434\\u043e\\u043a\\u0443\\u043c\\u0435\\u043d\\u0442\", \"\\u0431\\u0430\\u043d\\u043a\\u043e\\u043c\\u0430\\u0442\", \"\\u0437\\u0430\\u044f\\u0432\\u043a\\u0430\", \"\\u0430\\u0431\\u0441\\u043e\\u043b\\u044e\\u0442\", \"\\u043e\\u0447\\u0435\\u0440\\u0435\\u0434\\u044c\", \"\\u043a\\u0430\\u0440\\u0442\\u0430\", \"\\u0430\\u0434\\u043c\\u0438\\u043d\", \"\\u0441\\u0438\\u0442\\u0438\\u0444\\u043e\\u043d\", \"\\u043a\\u0430\\u0441\\u0441\\u0430\", \"\\u0441\\u0434\\u0435\\u043b\\u043a\\u0430\", \"\\u043c\\u0435\\u043d\\u0435\\u0434\\u0436\\u0435\\u0440\", \"\\u043e\\u0445\\u0440\\u0430\\u043d\\u043d\\u0438\\u043a\", \"\\u043a\\u0432\\u0430\\u0440\\u0442\\u0438\\u0440\\u0430\", \"\\u0430\\u043d\\u043a\\u0435\\u0442\\u0430\", \"\\u0440\\u0430\\u0441\\u0441\\u043c\\u043e\\u0442\\u0440\\u0435\\u043d\\u0438\\u0435\", \"\\u044f\\u0447\\u0435\\u0439\\u043a\\u0430\", \"\\u0434\\u043e\\u0433\\u043e\\u0432\\u043e\\u0440\", \"\\u0430\\u0432\\u0442\\u043e\\u043a\\u0440\\u0435\\u0434\\u0438\\u0442\", \"\\u043a\\u043e\\u043c\\u0438\\u0442\\u0435\\u0442\", \"\\u0434\\u0435\\u043f\\u043e\\u0437\\u0438\\u0442\", \"\\u0441\\u0442\\u0430\\u0432\\u043a\\u0430\", \"\\u0441\\u0442\\u0440\\u0430\\u0445\\u043e\\u0432\\u043a\\u0430\", \"\\u0442\\u0432\\u0435\\u0440\\u0441\\u043a\\u0430\\u044f\", \"\\u043e\\u043f\\u0435\\u0440\\u0430\\u0446\\u0438\\u043e\\u043d\\u0438\\u0441\\u0442\\u043a\\u0430\", \"\\u0434\\u0435\\u043b\\u044c\\u0442\\u0430\", \"\\u043c\\u0430\\u043b\\u044c\\u0447\\u0438\\u043a\", \"\\u0437\\u0430\\u0434\\u043e\\u043b\\u0436\\u0435\\u043d\\u043d\\u043e\\u0441\\u0442\\u044c\", \"\\u044e\\u043d\\u0438\\u0430\\u0441\\u0442\\u0440\\u0443\\u043c\", \"\\u0430\\u0434\\u043c\\u0438\\u043d\", \"\\u0438\\u043d\\u0435\\u0442\", \"\\u043e\\u0431\\u043c\\u0435\\u043d\\u043d\\u0438\\u043a\", \"\\u044d\\u043b\\u0435\\u043a\\u0442\\u0440\\u043e\\u043d\", \"\\u043f\\u0440\\u043e\\u0431\\u0438\\u0437\\u043d\\u0435\\u0441\\u0431\\u0430\\u043d\\u043a\", \"\\u0440\\u0430\\u0439\\u0444\\u0430\", \"\\u0444\\u0438\\u0437\\u0438\\u043a\", \"\\u0431\\u0430\\u043a\\u0441\", \"\\u0438\\u043c\\u043f\\u044d\\u043a\\u0441\", \"\\u0434\\u0438\\u0437\\u0430\\u0439\\u043d\", \"\\u043d\\u0430\\u043a\\u043b\\u0430\\u0434\\u043a\\u0430\", \"\\u0432\\u044b\\u0441\\u043e\\u0442\\u0430\", \"\\u0440\\u0430\\u0439\\u0444\", \"\\u044e\\u043d\\u0438\\u0441\\u0442\\u0440\\u0438\\u043c\", \"\\u043a\\u043e\\u043d\\u0442\\u0438\\u043d\\u0435\\u043d\\u0442\", \"\\u0444\\u0438\\u043d\\u0441\\u0435\\u0440\\u0432\\u0438\\u0441\", \"\\u043c\\u0435\\u0442\\u0440\", \"\\u043f\\u0440\\u043e\\u0433\\u0440\\u0430\\u043c\\u043c\\u0438\\u0441\\u0442\", \"\\u0438\\u043d\\u0442\\u0435\\u0440\\u0444\\u0435\\u0439\\u0441\", \"\\u0438\\u0437\\u0433\\u043e\\u0442\\u043e\\u0432\\u043b\\u0435\\u043d\\u0438\\u0435\", \"\\u0442\\u043e\\u0447\\u043d\\u043e\\u0441\\u0442\\u044c\", \"\\u043e\\u0442\\u0435\\u043b\\u044c\", \"\\u0447\\u0438\\u043f\", \"\\u043f\\u0440\\u0438\\u043a\\u043e\\u043b\", \"\\u0438\\u043c\\u043f\\u044d\\u043a\\u0441\\u0431\\u0430\\u043d\\u043a\", \"\\u043a\\u0438\\u0442\\u0430\\u0439\", \"\\u0440\\u0430\\u0439\\u0444\\u0444\", \"\\u0432\\u0435\\u0441\\u0442\\u0435\\u0440\\u043d\", \"\\u0437\\u0430\\u043c\\u043e\\u0440\\u043e\\u0447\\u043a\\u0430\", \"\\u0440\\u0435\\u0434\\u043a\\u043e\\u0441\\u0442\\u044c\", \"\\u043c\\u0438\\u043b\\u044f\", \"\\u0441\\u0431\\u0435\\u0440\\u043a\\u0430\\u0441\\u0441\\u0430\", \"\\u043a\\u0435\\u0448\", \"\\u0432\\u0438\\u0437\\u0430\", \"\\u0441\\u0438\\u0442\\u0438\", \"\\u0433\\u043e\\u043b\\u0434\", \"\\u0430\\u0432\\u0430\\u043d\\u0433\\u0430\\u0440\\u0434\", \"\\u043f\\u0430\\u0440\\u043e\\u043b\\u044c\", \"\\u0431\\u0430\\u043d\\u043a\\u0438\\u043d\\u0433\", \"\\u043a\\u043e\\u043d\\u0432\\u0435\\u0440\\u0442\\u0430\\u0446\\u0438\\u044f\", \"\\u0444\\u0430\\u043a\\u0441\", \"\\u0432\\u044b\\u043f\\u0443\\u0441\\u043a\", \"\\u0441\\u0438\\u0442\\u0438\\u0431\\u0430\\u043d\\u043a\", \"\\u043a\\u0440\\u0435\\u0434\\u0438\\u0442\\u043a\\u0430\", \"\\u0438\\u043d\\u0442\\u0435\\u0440\\u043d\\u0435\\u0442\", \"\\u0442\\u0435\\u043b\\u0435\\u0431\\u0430\\u043d\\u043a\", \"\\u0430\\u043a\\u0442\\u0438\\u0432\\u0430\\u0446\\u0438\\u044f\", \"\\u043e\\u0445\\u0440\\u0430\\u043d\\u0430\", \"\\u043a\\u0430\\u0440\\u0442\\u0430\", \"\\u043a\\u043e\\u0434\", \"\\u043b\\u0438\\u043c\\u0438\\u0442\", \"\\u043f\\u0438\\u043d\", \"\\u043f\\u0435\\u0440\\u0435\\u0432\\u044b\\u043f\\u0443\\u0441\\u043a\", \"\\u0442\\u0430\\u0440\\u0438\\u0444\", \"\\u043a\\u0443\\u0440\\u0441\", \"\\u043a\\u0430\\u0440\\u0442\\u043e\\u0447\\u043a\\u0430\", \"\\u0433\\u0440\\u0430\\u043d\\u0438\\u0446\\u0430\", \"\\u0441\\u0438\\u0441\\u0442\\u0435\\u043c\\u0430\", \"\\u0441\\u0430\\u0439\\u0442\", \"\\u0443\\u0441\\u043b\\u0443\\u0433\\u0430\", \"\\u0441\\u0435\\u0440\\u0432\\u0438\\u0441\", \"\\u043f\\u0438\\u0442\\u0435\\u0440\", \"\\u043e\\u0431\\u0441\\u043b\\u0443\\u0436\\u0438\\u0432\\u0430\\u043d\\u0438\\u0435\", \"\\u043f\\u0435\\u0440\\u0435\\u0432\\u043e\\u0434\", \"\\u043e\\u0442\\u0434\\u0435\\u043b\\u0435\\u043d\\u0438\\u0435\", \"\\u043f\\u0440\\u043e\\u0431\\u043b\\u0435\\u043c\\u0430\", \"\\u043f\\u043e\\u0434\\u0434\\u0435\\u0440\\u0436\\u043a\\u0430\", \"\\u0441\\u0447\\u0435\\u0442\", \"\\u0446\\u0435\\u043d\\u0442\\u0440\", \"\\u043d\\u0435\\u0434\\u0435\\u043b\\u044f\", \"\\u0431\\u0430\\u043d\\u043a\\u043e\\u043c\\u0430\\u0442\", \"\\u0430\\u043d\\u043a\\u0435\\u0442\\u0430\", \"\\u0437\\u0430\\u044f\\u0432\\u043a\\u0430\", \"\\u043a\\u043b\\u0438\\u0435\\u043d\\u0442\", \"\\u043e\\u0444\\u0438\\u0441\", \"\\u043c\\u0438\\u043d\\u0443\\u0442\\u0430\", \"\\u0434\\u0435\\u043d\\u044c\\u0433\\u0438\", \"\\u0434\\u0435\\u043d\\u044c\", \"\\u0432\\u043e\\u043f\\u0440\\u043e\\u0441\", \"\\u0430\\u043b\\u044c\\u0444\\u0430\", \"\\u043c\\u043e\\u0447\\u044c\", \"\\u0437\\u0430\\u044f\\u0432\\u043b\\u0435\\u043d\\u0438\\u0435\", \"\\u0432\\u0440\\u0435\\u043c\\u044f\", \"\\u0433\\u043e\\u0434\", \"\\u0434\\u0435\\u0432\\u0443\\u0448\\u043a\\u0430\", \"\\u0441\\u043e\\u0431\\u0438\\u043d\\u0431\\u0430\\u043d\\u043a\", \"\\u0432\\u043e\\u043b\\u043e\\u043a\\u0438\\u0442\\u0430\", \"\\u043c\\u0431\\u0440\\u0440\", \"\\u043a\\u0438\\u0442\", \"\\u0437\\u0430\\u0434\\u043e\\u043b\\u0436\\u043d\\u043e\\u0441\\u0442\\u044c\", \"\\u0434\\u0436\\u0438\\u044f\", \"\\u043a\\u043e\\u043d\\u043d\\u0435\\u043a\\u0442\", \"\\u043a\\u043e\\u043d\\u0442\\u0440\\u0430\\u043a\\u0442\", \"\\u0438\\u0433\\u043e\\u0440\\u044c\", \"\\u0442\\u0435\\u043b\\u0435\\u0431\\u0430\\u043d\\u043a\\u0430\", \"\\u0433\\u0440\\u0430\\u0444\\u0430\", \"\\u043c\\u044b\\u0442\\u0438\\u0449\\u0438\", \"\\u0441\\u043e\\u0444\\u0442\", \"\\u043a\\u043e\\u0440\\u043e\\u043b\\u0435\\u0432\\u0430\", \"\\u0431\\u0430\\u0440\\u043a\\u043b\\u0430\\u0439\\u0441\", \"\\u0432\\u0440\\u0430\\u0433\", \"\\u0432\\u0435\\u0441\\u0442\\u0438\\u0431\\u044e\\u043b\\u044c\", \"\\u0438\\u043a\\u0435\\u0430\", \"\\u043e\\u043f\\u0440\\u043e\\u0442\\u0435\\u0441\\u0442\\u043e\\u0432\\u0430\\u043d\\u0438\\u0435\", \"\\u044d\\u043a\\u0441\\u043f\\u043e\\u0431\\u0430\\u043d\\u043a\", \"\\u043f\\u0443\\u0441\\u0442\\u044f\\u0447\\u043e\\u043a\", \"\\u043d\\u0435\\u0440\\u0430\\u0437\\u0431\\u0435\\u0440\\u0438\\u0445\\u0430\", \"\\u0434\\u0438\\u0440\\u0435\\u043a\\u0442\", \"\\u043d\\u0438\\u0442\\u044c\", \"\\u0437\\u0430\\u0447\\u0435\\u0442\", \"\\u0441\\u043b\\u0438\\u043f\", \"\\u0440\\u0430\\u0439\\u0444\\u0430\\u0439\\u0437\\u0435\\u043d\\u0431\\u0430\\u043d\\u043a\", \"\\u0444\\u0443\\u043d\\u043a\\u0446\\u0438\\u043e\\u043d\\u0430\\u043b\\u044c\\u043d\\u043e\\u0441\\u0442\\u044c\", \"\\u0437\\u0430\\u0448\\u0430\", \"\\u043a\\u0430\\u043c\\u043f\\u0430\\u043d\\u0438\\u044f\", \"\\u0447\\u0435\\u043a\\u0430\", \"\\u043d\\u0435\\u0438\\u0441\\u043f\\u0440\\u0430\\u0432\\u043d\\u043e\\u0441\\u0442\\u044c\", \"\\u0438\\u0437\\u043b\\u0438\\u0448\\u0435\\u043a\", \"\\u0447\\u0435\\u043a\", \"\\u0431\\u0435\\u0437\\u043d\\u0430\\u043b\", \"\\u043f\\u043e\\u0441\\u0442\\u0430\\u0432\\u0449\\u0438\\u043a\", \"\\u0438\\u043d\\u043a\\u0430\\u0441\\u0441\\u0430\\u0446\\u0438\\u044f\", \"\\u0431\\u0430\\u043d\\u043a\\u043e\\u043c\\u0430\\u0442\", \"\\u043f\\u0440\\u0435\\u0442\\u0435\\u043d\\u0437\\u0438\\u044f\", \"\\u043a\\u043e\\u043f\\u0430\", \"\\u043a\\u0443\\u043f\\u044e\\u0440\\u0430\", \"\\u0441\\u043f\\u0438\\u0441\\u0430\\u043d\\u0438\\u0435\", \"\\u0440\\u0443\\u0431\", \"\\u0442\\u0435\\u0440\\u043c\\u0438\\u043d\\u0430\\u043b\", \"\\u044d\\u043a\\u0440\\u0430\\u043d\", \"\\u0441\\u0440\\u0435\\u0434\\u0441\\u0442\\u0432\\u043e\", \"\\u0431\\u0443\\u043b\\u044c\\u0432\\u0430\\u0440\", \"\\u0437\\u0430\\u0447\\u0438\\u0441\\u043b\\u0435\\u043d\\u0438\\u0435\", \"\\u0432\\u043e\\u0437\\u0432\\u0440\\u0430\\u0442\", \"\\u0440\\u0443\\u0431\\u043b\\u044c\", \"\\u043f\\u043b\\u0430\\u0442\\u0435\\u0436\", \"\\u0434\\u0435\\u043d\\u044c\\u0433\\u0438\", \"\\u0441\\u0443\\u043c\\u043c\\u0430\", \"\\u0437\\u0430\\u044f\\u0432\\u043b\\u0435\\u043d\\u0438\\u0435\", \"\\u0432\\u044b\\u043f\\u0438\\u0441\\u043a\\u0430\", \"\\u0441\\u0447\\u0435\\u0442\", \"\\u0437\\u0430\\u0434\\u043e\\u043b\\u0436\\u0435\\u043d\\u043d\\u043e\\u0441\\u0442\\u044c\", \"\\u043a\\u043e\\u043c\\u0438\\u0441\\u0441\\u0438\\u044f\", \"\\u043f\\u043e\\u0433\\u0430\\u0448\\u0435\\u043d\\u0438\\u0435\", \"\\u0448\\u0442\\u0440\\u0430\\u0444\", \"\\u0440\", \"\\u043e\\u043f\\u0435\\u0440\\u0430\\u0446\\u0438\\u044f\", \"\\u043e\\u0441\\u0442\\u0430\\u0442\\u043e\\u043a\", \"\\u0441\\u0431\\u043e\\u0439\", \"\\u043a\\u0430\\u0440\\u0442\\u0430\", \"\\u0441\\u0431\\u0435\\u0440\\u0431\\u0430\\u043d\\u043a\", \"\\u043c\\u0435\\u0441\\u044f\\u0446\", \"\\u0433\", \"\\u043f\\u0440\\u043e\\u0446\\u0435\\u043d\\u0442\", \"\\u0434\\u0435\\u043d\\u044c\", \"\\u0441\\u0440\\u043e\\u043a\", \"\\u043a\\u0440\\u0435\\u0434\\u0438\\u0442\", \"\\u043a\\u0430\\u0440\\u0442\\u043e\\u0447\\u043a\\u0430\", \"\\u043e\\u0442\\u0434\\u0435\\u043b\\u0435\\u043d\\u0438\\u0435\", \"\\u0433\\u043e\\u0434\", \"\\u043f\\u0440\\u043e\\u0431\\u043b\\u0435\\u043c\\u0430\", \"\\u043d\\u0435\\u0434\\u0435\\u043b\\u044f\", \"\\u043f\\u043e\\u0440\\u0443\\u0447\\u0438\\u0442\\u0435\\u043b\\u044c\", \"\\u0433\\u0443\\u0442\\u0430\", \"\\u0441\\u043e\\u043a\\u043e\\u043b\", \"\\u044d\\u043a\\u0441\\u043f\\u0435\\u0440\\u0442\", \"\\u0433\\u0440\\u0435\\u0439\\u0441\", \"\\u0444\\u0438\\u043d\\u0430\\u043d\\u0441\", \"\\u0441\\u0435\\u0441\\u0442\\u0440\\u0430\", \"\\u043a\\u0435\\u0431\", \"\\u0441\\u0442\\u0440\\u0430\\u043d\\u0438\\u0447\\u043a\\u0430\", \"\\u0430\\u0432\\u0442\\u043e\\u0438\\u043d\\u0444\\u043e\\u0440\\u043c\\u0430\\u0442\\u043e\\u0440\", \"\\u043a\\u0432\\u0430\\u0440\\u0442\\u0430\\u043b\", \"\\u0440\\u0435\\u0441\\u0442\\u0440\\u0443\\u043a\\u0442\\u0443\\u0440\\u0438\\u0437\\u0430\\u0446\\u0438\\u044f\", \"\\u043f\\u043e\\u0440\\u0443\\u0447\\u0438\\u0442\\u0435\\u043b\\u044c\\u0441\\u0442\\u0432\\u043e\", \"\\u043c\\u043e\\u0437\\u0433\\u0438\", \"\\u043b\\u0438\\u0434\\u0435\\u0440\", \"\\u0441\\u0430\\u0440\\u0430\\u0442\\u043e\\u0432\", \"\\u0438\\u043d\\u0432\\u0435\\u0441\\u0442\\u0441\\u0431\\u0435\\u0440\\u0431\\u0430\\u043d\\u043a\", \"\\u0432\\u043d\\u0438\\u043c\\u0430\\u0442\\u0435\\u043b\\u044c\\u043d\\u043e\\u0441\\u0442\\u044c\", \"\\u0441\\u043a\", \"\\u043e\\u0431\\u044a\\u0435\\u0434\\u0438\\u043d\\u0435\\u043d\\u0438\\u0435\", \"\\u043f\\u0430\\u0440\\u0438\\u0431\", \"\\u043f\\u0440\\u0438\\u044f\\u0442\\u0435\\u043b\\u044c\", \"\\u0431\\u0430\\u0431\\u043a\\u0430\", \"\\u043f\\u043e\\u043a\\u043e\\u0439\", \"\\u043f\\u0440\\u0435\\u043f\\u0438\\u0440\\u0430\\u0442\\u0435\\u043b\\u044c\\u0441\\u0442\\u0432\\u043e\", \"\\u043e\\u043b\\u0435\\u0441\\u044f\", \"\\u0438\\u0441\\u0445\\u043e\\u0434\", \"\\u0438\\u0432\\u0430\\u043d\\u043e\\u0432\", \"\\u0444\\u0430\\u043d\\u0442\\u0430\\u0441\\u0442\\u0438\\u043a\\u0430\", \"\\u043f\\u043a\", \"\\u043e\\u043b\\u0435\\u0433\", \"\\u044e\\u043b\\u044f\", \"\\u044e\\u043d\\u0438\\u0430\\u0441\\u0442\\u0440\\u0443\\u043c\", \"\\u0448\\u043a\\u043e\\u043b\\u0430\", \"\\u0440\\u0435\\u043d\\u0435\\u0441\\u0441\\u0430\\u043d\\u0441\", \"\\u0434\\u0435\\u0432\\u0438\\u0446\\u0430\", \"\\u0444\\u0438\\u043d\\u0430\\u043d\\u0441\\u0431\\u0430\\u043d\\u043a\", \"\\u043f\\u043e\\u0434\\u0440\\u0443\\u0433\\u0430\", \"\\u043a\\u043e\\u043e\\u0440\\u0434\\u0438\\u043d\\u0430\\u0442\\u0430\", \"\\u0430\\u0433\\u0435\\u043d\\u0442\\u0441\\u0442\\u0432\\u043e\", \"\\u0440\\u0443\\u0441\\u0444\\u0438\\u043d\\u0430\\u043d\\u0441\", \"\\u0443\\u0433\\u0440\\u043e\\u0437\\u0430\", \"\\u0431\\u0430\\u0431\\u0443\\u0448\\u043a\\u0430\", \"\\u0437\\u0430\\u043b\\u043e\\u0433\", \"\\u0441\\u0443\\u0434\", \"\\u043a\\u0430\\u043f\\u0438\\u0442\\u0430\\u043b\", \"\\u043a\\u0440\\u0435\\u0434\\u0438\\u0442\", \"\\u043f\\u043e\\u0442\\u0440\\u0435\\u0431\\u0430\", \"\\u043c\\u0430\\u043c\\u0430\", \"\\u0434\\u043e\\u043b\\u0433\", \"\\u0437\\u0430\\u043a\\u043e\\u043d\", \"\\u0434\\u043e\\u0437\\u0432\\u043e\\u043d\", \"\\u043f\\u0438\\u0441\\u044c\\u043c\\u043e\", \"\\u043c\\u0443\\u0436\", \"\\u0437\\u0432\\u043e\\u043d\\u043e\\u043a\", \"\\u0437\\u0430\\u0434\\u043e\\u043b\\u0436\\u0435\\u043d\\u043d\\u043e\\u0441\\u0442\\u044c\", \"\\u0431\\u0443\\u043a\\u0432\\u0430\", \"\\u043f\\u0440\\u043e\\u0441\\u0440\\u043e\\u0447\\u043a\\u0430\", \"\\u0442\\u0440\\u0435\\u0431\\u043e\\u0432\\u0430\\u043d\\u0438\\u0435\", \"\\u0441\\u043f\\u0440\\u0430\\u0432\\u043a\\u0430\", \"\\u0434\\u043e\\u0433\\u043e\\u0432\\u043e\\u0440\", \"\\u0442\\u0435\\u043b\\u0435\\u0444\\u043e\\u043d\", \"\\u043e\\u0442\\u0434\\u0435\\u043b\", \"\\u043f\\u0440\\u0430\\u0432\\u043e\", \"\\u0447\\u0435\\u043b\\u043e\\u0432\\u0435\\u043a\", \"\\u043f\\u043b\\u0430\\u0442\\u0435\\u0436\", \"\\u0441\\u043e\\u0442\\u0440\\u0443\\u0434\\u043d\\u0438\\u043a\", \"\\u0448\\u0442\\u0440\\u0430\\u0444\", \"\\u0438\\u0441\\u0442\\u043e\\u0440\\u0438\\u044f\", \"\\u0434\\u043e\\u043a\\u0443\\u043c\\u0435\\u043d\\u0442\", \"\\u0433\\u043e\\u0434\", \"\\u043d\\u043e\\u043c\\u0435\\u0440\", \"\\u043c\\u0435\\u0441\\u044f\\u0446\", \"\\u043f\\u043e\\u0433\\u0430\\u0448\\u0435\\u043d\\u0438\\u0435\", \"\\u0441\\u0443\\u043c\\u043c\\u0430\", \"\\u043a\\u043b\\u0438\\u0435\\u043d\\u0442\", \"\\u0434\\u0435\\u043b\\u043e\", \"\\u043e\\u0442\\u0432\\u0435\\u0442\", \"\\u0430\\u043b\\u044c\\u0444\\u0430\", \"\\u043c\\u043e\\u0447\\u044c\", \"\\u043c\\u043e\\u0431\\u0438\\u043b\\u044c\\u043d\\u0438\\u043a\", \"\\u0430\\u0431\\u0430\", \"\\u0442\\u0430\\u0433\\u0430\\u043d\\u043e\\u043a\", \"\\u043c\\u0435\\u0433\\u0430\", \"\\u043f\\u0435\\u0440\\u0435\\u0443\\u043b\\u043e\\u043a\", \"\\u043a\\u043e\\u043d\\u0434\\u0438\\u0446\\u0438\\u043e\\u043d\\u0435\\u0440\", \"\\u043c\\u0430\\u0440\\u044c\\u0438\\u043d\\u043e\", \"\\u043b\\u0438\\u043d\\u0435\\u0439\\u043a\\u0430\", \"\\u0440\\u043a\", \"\\u0431\\u044b\\u0441\\u0442\\u0440\\u043e\\u0442\\u0430\", \"\\u043a\\u0440\\u0435\\u0441\\u043b\\u043e\", \"\\u0443\\u0444\\u0430\", \"\\u043a\\u043b\\u0435\\u0440\\u043a\", \"\\u043a\\u0430\\u0440\\u0434\\u0430\", \"\\u0433\\u043b\\u043e\\u0431\\u044d\\u043a\\u0441\", \"\\u0440\\u0430\\u0441\\u043f\\u0438\\u0441\\u043a\\u0430\", \"\\u0434\\u0435\\u043f\\u043e\\u0437\\u0438\\u0442\\u0430\\u0440\\u0438\\u0439\", \"\\u043c\\u0430\\u044f\\u043a\\u043e\\u0432\\u0441\\u043a\\u0430\\u044f\", \"\\u0434\\u0443\\u0445\\u043e\\u0442\\u0430\", \"\\u0431\\u0443\\u0442\\u044b\\u043b\\u043a\\u0430\", \"\\u0431\\u043b\\u0438\\u0446\", \"\\u043f\\u043e\\u0445\\u0432\\u0430\\u043b\\u0430\", \"\\u0440\\u043e\\u0441\\u0435\\u0432\\u0440\\u043e\\u0431\\u0430\\u043d\\u043a\", \"\\u0433\\u043e\\u0440\\u0431\\u0443\\u0448\\u043a\\u0430\", \"\\u0438\\u043d\\u0442\\u0435\\u0440\\u044c\\u0435\\u0440\", \"\\u0437\\u0435\\u043b\\u0435\\u043d\\u043e\\u0433\\u0440\\u0430\\u0434\", \"\\u0442\\u0435\\u043a\\u0443\\u0447\\u043a\\u0430\", \"\\u043f\\u0435\\u0440\\u0435\\u043a\\u0440\\u0435\\u0441\\u0442\\u043e\\u043a\", \"\\u0432\\u0430\\u0440\\u0448\\u0430\\u0432\\u043a\\u0430\", \"\\u043f\\u0440\\u0435\\u0441\\u043d\\u044f\", \"\\u043f\\u0438\\u043a\", \"\\u0432\\u043a\\u043b\\u0430\\u0434\", \"\\u0437\\u0430\\u043b\", \"\\u0432\\u043a\\u043b\\u0430\\u0434\\u0447\\u0438\\u043a\", \"\\u0434\\u043e\\u0432\\u0435\\u0440\\u0435\\u043d\\u043d\\u043e\\u0441\\u0442\\u044c\", \"\\u043e\\u043a\\u043d\\u043e\", \"\\u0434\\u0432\\u0435\\u0440\\u044c\", \"\\u043a\\u0430\\u0441\\u0441\\u0438\\u0440\", \"\\u043e\\u043f\\u0435\\u0440\\u0430\\u0446\\u0438\\u043e\\u043d\\u0438\\u0441\\u0442\\u043a\\u0430\", \"\\u043f\\u0435\\u0440\\u0435\\u0440\\u044b\\u0432\", \"\\u043e\\u0447\\u0435\\u0440\\u0435\\u0434\\u044c\", \"\\u0432\\u043e\\u0441\\u0442\\u0440\\u0435\\u0431\\u043e\\u0432\\u0430\\u043d\\u0438\\u0435\", \"\\u043f\\u043e\\u043c\\u0435\\u0449\\u0435\\u043d\\u0438\\u0435\", \"\\u043d\\u0430\\u0440\\u043e\\u0434\", \"\\u043a\\u0430\\u0441\\u0441\\u0430\", \"\\u0434\\u0435\\u043f\\u043e\\u0437\\u0438\\u0442\", \"\\u043e\\u0431\\u0435\\u0434\", \"\\u0441\\u0442\\u043e\\u0439\\u043a\\u0430\", \"\\u043e\\u043a\\u043e\\u0448\\u043a\\u043e\", \"\\u043e\\u043f\\u0435\\u0440\\u0430\\u0446\\u0438\\u043e\\u043d\\u0438\\u0441\\u0442\", \"\\u0441\\u0442\\u043e\\u043b\", \"\\u043f\\u043e\\u0441\\u0435\\u0442\\u0438\\u0442\\u0435\\u043b\\u044c\", \"\\u043f\\u0435\\u0440\\u0441\\u043e\\u043d\\u0430\\u043b\", \"\\u043c\\u0438\\u043d\\u0443\\u0442\\u0430\", \"\\u0442\\u043e\\u043b\\u043f\\u0430\", \"\\u0441\\u0443\\u0431\\u0431\\u043e\\u0442\\u0430\", \"\\u043e\\u0444\\u0438\\u0441\", \"\\u043e\\u0442\\u043a\\u0440\\u044b\\u0442\\u0438\\u0435\", \"\\u0447\\u0430\\u0441\", \"\\u0447\\u0435\\u043b\\u043e\\u0432\\u0435\\u043a\", \"\\u043e\\u0442\\u0434\\u0435\\u043b\\u0435\\u043d\\u0438\\u0435\", \"\\u0444\\u0438\\u043b\\u0438\\u0430\\u043b\", \"\\u043e\\u0431\\u0441\\u043b\\u0443\\u0436\\u0438\\u0432\\u0430\\u043d\\u0438\\u0435\", \"\\u0440\\u0430\\u0431\\u043e\\u0442\\u0430\", \"\\u043a\\u043b\\u0438\\u0435\\u043d\\u0442\", \"\\u0434\\u0435\\u0432\\u0443\\u0448\\u043a\\u0430\", \"\\u0441\\u0442\\u0430\\u0432\\u043a\\u0430\", \"\\u043f\\u0440\\u043e\\u0446\\u0435\\u043d\\u0442\", \"\\u043b\\u0438\\u0446\\u043e\", \"\\u0432\\u0440\\u0435\\u043c\\u044f\", \"\\u0432\\u043f\\u0435\\u0447\\u0430\\u0442\\u043b\\u0435\\u043d\\u0438\\u0435\", \"\\u0434\\u0435\\u043d\\u044c\\u0433\\u0438\", \"\\u0434\\u043e\\u0433\\u043e\\u0432\\u043e\\u0440\", \"\\u0441\\u043e\\u0442\\u0440\\u0443\\u0434\\u043d\\u0438\\u043a\", \"\\u0434\\u043e\\u043a\\u0443\\u043c\\u0435\\u043d\\u0442\", \"\\u0441\\u0438\\u0442\\u0438\\u0444\\u043e\\u043d\", \"\\u043f\\u043e\\u043b\\u044f\\u043d\\u043a\\u0430\", \"\\u0430\\u0448\\u0430\\u043d\", \"\\u043a\\u0430\\u0434\\u0440\", \"\\u043e\\u0431\\u043d\\u0430\\u043b\\u0438\\u0447\\u043a\\u0430\", \"\\u0441\\u0438\\u0442\\u0438\\u0431\\u0430\\u043d\\u043a\\u0430\", \"\\u0434\\u0435\\u0433\\u043e\\u0442\\u044c\", \"\\u0440\\u0435\\u0441\\u0435\\u043f\\u0448\\u043d\", \"\\u043a\\u043e\\u043d\\u0442\\u0440\\u043e\\u043b\\u0435\\u0440\", \"\\u043a\\u043e\\u043d\\u0444\\u0435\\u0442\\u0430\", \"\\u0441\\u043b\\u043e\\u0432\\u043e\\u043c\", \"\\u0431\\u0440\\u043e\\u043a\\u0435\\u0440\", \"\\u043f\\u0440\\u043e\\u0445\\u043e\\u0434\", \"\\u044d\\u043a\\u0441\\u043f\\u0435\\u0440\\u0442\\u0438\\u0437\\u0430\", \"\\u0431\\u0440\\u043e\\u0448\\u044e\\u0440\\u0430\", \"\\u0434\\u0438\\u043b\\u0435\\u0440\", \"\\u0441\\u043e\\u0441\\u044c\\u0435\\u0442\\u0430\", \"\\u043c\\u0435\\u0436\\u0433\\u043e\\u0440\\u043e\\u0434\", \"\\u043f\\u0438\\u043d\\u0430\", \"\\u043a\\u0440\\u0435\\u0434\", \"\\u0436\\u0443\\u043a\\u043e\\u0432\", \"\\u043c\\u0430\\u0441\\u043b\\u043e\", \"\\u043a\\u043e\\u0440\\u0437\\u0438\\u043d\\u0430\", \"\\u043c\\u043e\\u0439\\u043a\\u0430\", \"\\u043f\\u043e\\u0434\\u0441\\u0442\\u0430\\u0432\\u0430\", \"\\u0441\\u0442\\u0440\\u0430\\u0445\\u043e\\u0432\\u0449\\u0438\\u043a\", \"\\u0440\\u0430\\u0437\\u043e\\u043a\", \"\\u043c\\u0438\\u0433\", \"\\u0434\\u0443\\u0440\\u0434\\u043e\\u043c\", \"\\u0442\\u043e\\u043a\\u0435\\u043d\", \"\\u0438\\u043d\\u0441\\u043f\\u0435\\u043a\\u0442\\u043e\\u0440\", \"\\u0430\\u0432\\u0442\\u043e\\u0441\\u0430\\u043b\\u043e\\u043d\", \"\\u0441\\u043e\\u044e\\u0437\", \"\\u043b\\u043e\\u0436\\u043a\\u0430\", \"\\u0441\\u0434\\u0435\\u043b\\u043a\\u0430\", \"\\u0441\\u0442\\u0440\\u0430\\u0445\\u043e\\u0432\\u043a\\u0430\", \"\\u044d\\u043b\\u044c\\u0434\\u043e\\u0440\\u0430\\u0434\\u043e\", \"\\u043a\\u0443\\u043f\\u043b\\u044f\", \"\\u043f\\u043e\\u043b\\u0438\\u0441\", \"\\u0430\\u0432\\u0442\\u043e\\u043c\\u043e\\u0431\\u0438\\u043b\\u044c\", \"\\u0430\\u0432\\u0442\\u043e\", \"\\u0441\\u0430\\u043b\\u043e\\u043d\", \"\\u043e\\u0434\\u043e\\u0431\\u0440\\u0435\\u043d\\u0438\\u0435\", \"\\u043a\\u0432\\u0430\\u0440\\u0442\\u0438\\u0440\\u0430\", \"\\u0441\\u0442\\u0440\\u0430\\u0445\\u043e\\u0432\\u0430\\u043d\\u0438\\u0435\", \"\\u0434\\u0435\\u0442\\u0430\\u043b\\u044c\", \"\\u0430\\u0432\\u0442\\u043e\\u043a\\u0440\\u0435\\u0434\\u0438\\u0442\", \"\\u043a\\u0443\\u0440\\u044c\\u0435\\u0440\", \"\\u0438\\u043f\\u043e\\u0442\\u0435\\u043a\\u0430\", \"\\u043c\\u0430\\u0448\\u0438\\u043d\\u0430\", \"\\u0434\\u043e\\u043a\\u0443\\u043c\\u0435\\u043d\\u0442\", \"\\u0437\\u0430\\u044f\\u0432\\u043a\\u0430\", \"\\u043a\\u0440\\u0435\\u0434\\u0438\\u0442\", \"\\u043f\\u043e\\u0434\\u043f\\u0438\\u0441\\u0430\\u043d\\u0438\\u0435\", \"\\u043f\\u0435\\u0440\\u0435\\u043f\\u043b\\u0430\\u0442\\u0430\", \"\\u043c\\u0435\\u043d\\u0435\\u0434\\u0436\\u0435\\u0440\", \"\\u0432\\u0437\\u043d\\u043e\\u0441\", \"\\u0430\\u043d\\u043a\\u0435\\u0442\\u0430\", \"\\u0441\\u0442\\u0430\\u0432\\u043a\\u0430\", \"\\u0440\\u0430\\u0441\\u0441\\u043c\\u043e\\u0442\\u0440\\u0435\\u043d\\u0438\\u0435\", \"\\u043a\\u0440\\u0435\\u0434\\u0438\\u0442\\u043e\\u0432\\u0430\\u043d\\u0438\\u0435\", \"\\u0440\\u0435\\u0448\\u0435\\u043d\\u0438\\u0435\", \"\\u0441\\u043f\\u0440\\u0430\\u0432\\u043a\\u0430\", \"\\u0434\\u043e\\u0433\\u043e\\u0432\\u043e\\u0440\", \"\\u0434\\u043e\\u0445\\u043e\\u0434\", \"\\u0443\\u0441\\u043b\\u043e\\u0432\\u0438\\u0435\", \"\\u043e\\u0444\\u043e\\u0440\\u043c\\u043b\\u0435\\u043d\\u0438\\u0435\", \"\\u0434\\u0435\\u043d\\u044c\", \"\\u043d\\u0435\\u0434\\u0435\\u043b\\u044f\", \"\\u0442\\u0432\\u0435\\u0440\\u0441\\u043a\\u0430\\u044f\", \"\\u0444\\u0438\\u0437\\u043b\\u0438\\u0446\\u043e\", \"\\u0444\\u0438\\u0437\\u043b\\u0438\\u0446\", \"\\u043c\\u043e\\u043d\\u0435\\u0442\\u0430\", \"\\u043c\\u044b\\u043b\\u043e\", \"\\u044e\\u0440\\u043b\\u0438\\u0446\\u0430\", \"\\u0447\\u0430\\u0439\", \"\\u0441\\u0442\\u0430\\u0436\\u0435\\u0440\", \"\\u043a\\u0430\\u0437\\u0443\\u0441\", \"\\u0441\\u0430\\u043f\\u043f\\u043e\\u0440\\u0442\", \"\\u0440\\u043e\\u0436\\u0434\\u0435\\u0441\\u0442\\u0432\\u0435\\u043d\\u0441\\u043a\\u0438\\u0439\", \"\\u043f\\u0443\\u0441\\u0442\\u044f\\u043a\", \"\\u0441\\u0442\\u0440\\u043e\\u0438\\u0442\\u0435\\u043b\\u044c\\u0441\\u0442\\u0432\\u043e\", \"\\u043f\\u0440\\u043e\\u0441\\u0442\\u043e\\u0442\\u0430\", \"\\u0430\\u043c\\u0435\\u0440\\u0438\\u043a\\u0430\", \"\\u0433\\u0430\\u0433\\u0430\\u0440\\u0438\\u043d\", \"\\u043a\\u0430\\u0440\\u0442\\u0438\\u043d\\u043a\\u0430\", \"\\u043c\\u0435\\u0441\\u0442\\u043e\\u0440\\u0430\\u0441\\u043f\\u043e\\u043b\\u043e\\u0436\\u0435\\u043d\\u0438\\u0435\", \"\\u043d\\u0435\\u043f\\u0440\\u0430\\u0432\\u0434\\u0430\", \"\\u0431\\u0440\\u043e\\u0448\\u044e\\u0440\\u043a\\u0430\", \"\\u043b\\u0435\\u0441\\u0442\\u043d\\u0438\\u0446\\u0430\", \"\\u0441\\u0447\\u0435\\u0442\\u0447\\u0438\\u043a\", \"\\u043d\\u0430\\u0435\\u0437\\u0434\", \"\\u0431\\u0430\\u043b\", \"\\u043c\\u043e\\u0440\\u043e\\u0437\", \"\\u0430\\u043b\\u0433\\u043e\\u0440\\u0438\\u0442\\u043c\", \"\\u0444\\u0443\\u0442\\u0431\\u043e\\u043b\", \"\\u043f\\u0430\\u0440\\u043e\\u0447\\u043a\\u0430\", \"\\u043f\\u0435\\u0440\\u0435\\u0440\\u0430\\u0441\\u0445\\u043e\\u0434\", \"\\u043c\\u0438\\u0442\\u0438\\u043d\\u043e\", \"\\u0431\\u0443\\u043a\\u043b\\u0435\\u0442\", \"\\u044f\\u0447\\u0435\\u0439\\u043a\\u0430\", \"\\u0432\\u0438\\u0437\\u0438\\u0442\\u043a\\u0430\", \"\\u043f\\u0440\\u043e\\u0438\\u0437\\u043e\\u0448\", \"\\u043a\\u043b\\u0430\\u0441\\u0441\", \"\\u043f\\u043e\\u043b\\u0443\\u0447\\u0430\\u0441\", \"\\u043a\\u043b\\u0430\\u0432\\u0438\\u0430\\u0442\\u0443\\u0440\\u0430\", \"\\u043b\\u043e\\u0442\\u043e\\u043a\", \"\\u043c\\u043e\\u0437\\u0433\", \"\\u043f\\u0435\\u0440\\u0441\\u043f\\u0435\\u043a\\u0442\\u0438\\u0432\\u0430\", \"\\u0432\\u044b\\u0432\\u0435\\u0441\\u043a\\u0430\", \"\\u0440\\u0443\\u0431\\u043b\", \"\\u0441\\u043e\\u0432\\u043e\\u043a\", \"\\u043e\\u0445\\u0440\\u0430\\u043d\\u043d\\u0438\\u043a\", \"\\u043f\\u0430\\u0439\", \"\\u043c\\u043e\\u0441\\u043a\\u043e\\u043c\\u043f\\u0440\\u0438\\u0432\\u0430\\u0442\\u0431\\u0430\\u043d\\u043a\", \"\\u0441\\u0442\\u0435\\u043a\\u043b\\u043e\", \"\\u0431\\u0430\\u043d\\u043a\\u043d\\u043e\\u0442\\u0430\", \"\\u0436\\u0443\\u0440\\u043d\\u0430\\u043b\", \"\\u0437\\u0430\\u043c\\u0438\\u043d\\u043a\\u0430\", \"\\u0433\\u0440\\u0430\\u0444\", \"\\u043f\\u043e\\u0441\\u043e\\u043b\\u044c\\u0441\\u0442\\u0432\\u043e\", \"\\u0434\\u0435\\u043d\\u044e\\u0436\\u043a\\u0430\", \"\\u0434\\u0435\\u043b\\u044c\\u0442\\u0430\\u043a\\u0440\\u0435\\u0434\\u0438\\u0442\", \"\\u043f\\u0440\\u043e\\u0432\\u0430\\u0439\\u0434\\u0435\\u0440\", \"\\u043c\\u044d\\u0439\\u043b\", \"\\u043a\\u043e\\u0440\\u0440\\u0435\\u0441\\u043f\\u043e\\u043d\\u0434\\u0435\\u043d\\u0446\\u0438\\u044f\", \"\\u044d\\u043a\\u0441\\u043f\\u0435\\u0440\\u0438\\u043c\\u0435\\u043d\\u0442\", \"\\u0442\\u0440\\u0443\\u0431\\u0430\", \"\\u044e\\u043d\\u0438\\u043a\\u0440\\u0435\\u0434\\u0438\\u0442\\u0431\\u0430\\u043d\\u043a\", \"\\u043b\\u043e\\u0445\\u043e\\u0442\\u0440\\u043e\\u043d\", \"\\u043f\\u0435\\u0440\\u0435\\u0433\\u043e\\u0440\\u043e\\u0434\\u043a\\u0430\", \"\\u0431\\u0430\\u043d\\u043a\\u043d\\u043e\\u0442\", \"\\u0443\\u0447\\u0440\\u0435\\u0434\\u0438\\u0442\\u0435\\u043b\\u044c\", \"\\u043f\\u0435\\u0440\\u0441\\u043e\\u043d\\u0430\", \"\\u0438\\u0442\\u0430\\u043b\\u0438\\u044f\", \"\\u043c\\u043e\\u0431\\u0438\\u043b\", \"\\u043a\\u043d\\u043e\\u043f\\u043e\\u0447\\u043a\\u0430\", \"\\u0443\\u0447\\u0430\\u0441\\u0442\\u043e\\u043a\", \"\\u0447\\u0435\\u0445\\u0438\\u044f\", \"\\u0430\\u043d\\u0433\\u043b\\u0438\\u044f\", \"\\u0434\\u043e\\u043a\\u0443\\u043c\\u0435\\u043d\\u0442\\u043e\\u043e\\u0431\\u043e\\u0440\\u043e\\u0442\", \"\\u0434\\u0438\\u0441\\u0446\\u0438\\u043f\\u043b\\u0438\\u043d\\u0430\", \"\\u0437\\u0430\\u0434\\u0430\\u0442\\u043e\\u043a\", \"\\u043c\\u0438\\u043b\\u0438\\u0446\\u0438\\u044f\", \"\\u0447\\u0430\\u0442\", \"\\u043a\\u0440\\u0438\\u0442\\u0435\\u0440\\u0438\\u0439\", \"\\u0430\\u0440\\u0445\\u0438\\u0432\", \"\\u043e\\u0441\\u0430\\u0433\\u043e\", \"\\u043c\\u0438\\u043d\\u0438\", \"\\u043c\\u043e\\u0441\\u043e\\u0431\\u043b\\u0431\\u0430\\u043d\\u043a\\u0430\", \"\\u043f\\u0440\\u0430\\u0432\\u043e\\u0442\\u0430\", \"\\u043e\\u0440\\u0435\\u043b\", \"\\u043f\\u0440\\u043e\\u0432\\u043e\\u043b\\u043e\\u0447\\u043a\\u0430\", \"\\u0434\\u0430\\u043b\\u044c\", \"\\u0441\\u043e\\u043a\\u043e\\u043b\\u044c\\u043d\\u0438\\u043a\\u0438\", \"\\u0437\\u0435\\u043c\\u043b\\u044f\", \"\\u0440\\u0438\\u044d\\u043b\\u0442\\u043e\\u0440\", \"\\u043f\\u0440\\u043e\\u0446\\u0435\\u0441\\u0441\\u0438\\u043d\\u0433\", \"\\u043c\\u0430\\u0440\\u0430\\u0437\\u043c\", \"\\u043c\\u043e\\u0441\\u043a\\u0432\\u0438\\u0447\", \"\\u043f\\u043e\\u0434\\u043c\\u043e\\u0441\\u043a\\u043e\\u0432\\u044c\\u0435\", \"\\u0440\\u0430\\u0437\\u0431\\u043e\\u0440\\u043a\\u0430\", \"\\u043a\\u0443\\u0440\\u0430\\u0442\\u043e\\u0440\", \"\\u043d\\u0435\\u043e\\u0445\\u043e\\u0442\\u0430\", \"\\u0442\\u043e\\u043a\", \"\\u043a\\u0432\\u0438\\u0442\\u043e\\u043a\", \"\\u043f\\u0430\\u043b\\u0430\\u0442\\u0430\", \"\\u043a\\u0432\\u0430\\u0440\\u0442\\u043f\\u043b\\u0430\\u0442\\u0430\", \"\\u0434\\u0438\\u043d\\u0430\\u043c\\u043e\", \"\\u0433\\u0440\\u044f\\u0437\\u044c\", \"\\u043b\\u0438\\u0441\\u0442\\u043e\\u0432\\u043a\\u0430\", \"\\u043a\\u0430\\u043b\\u0438\\u043d\\u0438\\u043d\\u0433\\u0440\\u0430\\u0434\", \"\\u0431\\u0435\\u043b\\u044f\\u0435\\u0432\\u043e\", \"\\u0431\\u0430\\u0440\\u043d\\u0430\\u0443\\u043b\", \"\\u0440\\u0430\\u0441\\u0448\\u0438\\u0440\\u0435\\u043d\\u0438\\u0435\", \"\\u043a\\u0443\\u0441\\u043e\\u043a\", \"\\u0447\\u0435\\u0440\\u0442\\u0430\", \"\\u043c\\u0438\\u043d\\u0443\\u0442\\u043a\\u0430\", \"\\u0431\\u0430\\u043b\\u0430\\u0448\\u0438\\u0445\\u0430\", \"\\u0438\\u043d\\u0432\\u0435\\u0441\\u0442\\u0442\\u043e\\u0440\\u0433\\u0431\\u0430\\u043d\\u043a\", \"\\u043f\\u043e\\u043b\\u0443\\u0447\\u0430\\u0441\\u043e\\u0432\\u043e\\u0439\", \"\\u0432\\u044b\\u0440\\u0443\\u0447\\u043a\\u0430\", \"\\u0433\\u0435\\u0440\\u043c\\u0430\\u043d\\u0438\\u044f\", \"\\u043f\\u0440\\u0438\\u0432\\u044f\\u0437\\u043a\\u0430\", \"\\u0441\\u0442\\u043e\\u043f\\u043a\\u0430\", \"\\u0442\\u0432\", \"\\u0434\\u043e\\u0431\\u0440\\u043e\\u0436\\u0435\\u043b\\u0430\\u0442\\u0435\\u043b\\u044c\\u043d\\u043e\\u0441\\u0442\\u044c\", \"\\u0441\\u0430\\u043c\\u043e\\u043b\\u0435\\u0442\", \"\\u043f\\u043b\\u0430\\u0441\\u0442\\u0438\\u043a\\u0430\", \"\\u0442\\u0430\\u043b\\u043e\\u043d\\u0447\\u0438\\u043a\", \"\\u0432\\u043e\\u0441\\u0442\\u043e\\u0440\\u0433\", \"\\u043f\\u043e\\u0442\\u043e\\u043a\", \"\\u0430\\u0431\\u0441\\u043e\\u043b\\u044e\\u0442\", \"\\u0434\\u0435\\u043b\\u044c\\u0442\\u0430\", \"\\u043c\\u0430\\u043b\\u044c\\u0447\\u0438\\u043a\", \"\\u044d\\u0442\\u0430\\u0436\", \"\\u0432\\u044b\\u0441\\u043a\\u0430\\u0437\\u044b\\u0432\\u0430\\u043d\\u0438\\u0435\", \"\\u0432\\u043e\\u0437\\u0440\\u043e\\u0436\\u0434\\u0435\\u043d\\u0438\\u0435\", \"\\u043c\\u0430\\u043d\\u044f\", \"\\u0440\\u0435\\u0441\\u0442\\u043e\\u0440\\u0430\\u043d\", \"\\u0434\\u0435\\u0432\\u0447\\u043e\\u043d\\u043a\\u0430\", \"\\u044e\\u0440\\u0438\\u043a\", \"\\u043d\\u0435\\u043e\\u0441\\u0442\\u043e\\u0440\\u043e\\u0436\\u043d\\u043e\\u0441\\u0442\\u044c\", \"\\u0445\\u043e\\u043b\\u043b\", \"\\u043f\\u0440\\u0438\\u0437\", \"\\u043f\\u043e\\u043a\\u0440\\u043e\\u0432\\u043a\\u0430\", \"\\u0431\\u0430\\u0440\\u0441\", \"\\u043a\\u043e\\u0440\\u043e\\u0431\\u043e\\u0447\\u043a\\u0430\", \"\\u0443\\u0431\\u043e\\u0440\\u0449\\u0438\\u0446\\u0430\", \"\\u0434\\u043e\\u043a\", \"\\u043f\\u044f\\u0442\\u043d\\u0438\\u0446\\u043a\\u0430\\u044f\", \"\\u0430\\u0432\\u0442\\u043e\\u043c\\u0430\\u0442\\u0438\\u0437\\u0430\\u0446\\u0438\\u044f\", \"\\u043f\\u043e\\u0435\\u0437\\u0434\", \"\\u0447\\u0435\\u043b\\u043e\", \"\\u043f\\u0443\\u0442\\u0430\\u043d\\u0438\\u0446\\u0430\", \"\\u0441\\u0441\\u0441\\u0440\", \"\\u043a\\u043e\\u043d\\u0441\\u0442\\u0430\\u043d\\u0442\\u0438\\u043d\", \"\\u0440\\u0435\\u043f\\u043b\\u0438\\u043a\\u0430\", \"\\u0445\\u043e\\u043b\\u0434\\u0438\\u043d\\u0433\", \"\\u0434\\u0436\\u0438\", \"\\u0441\\u0442\\u0430\\u0447\\u043a\\u0430\", \"\\u0441\\u0442\\u0435\\u043d\\u043a\\u0430\", \"\\u043d\\u043e\\u0432\\u043e\\u0441\\u0438\\u0431\\u0438\\u0440\\u0441\\u043a\", \"\\u0434\\u043e\\u043b\\u0436\\u043d\\u043e\\u0435\", \"\\u0433\\u043e\\u0441\\u0442\\u0438\\u043d\\u0438\\u0446\\u0430\", \"\\u043b\\u0438\\u0441\\u0442\\u043e\\u0447\\u0435\\u043a\", \"\\u043e\\u0434\\u043e\\u043b\\u0436\\u0435\\u043d\\u0438\\u0435\", \"\\u0432\\u043e\\u043a\\u0437\\u0430\\u043b\", \"\\u0441\\u0430\\u043c\\u043e\\u043e\\u0431\\u0441\\u043b\\u0443\\u0436\\u0438\\u0432\\u0430\\u043d\\u0438\\u0435\", \"\\u043a\\u043b\\u0430\\u0441\\u0441\\u0438\\u043a\", \"\\u043f\\u043e\\u043b\\u0434\\u0435\\u043d\\u044c\", \"\\u043a\\u043e\\u043c\\u0438\\u0442\\u0435\\u0442\", \"\\u0441\\u0442\\u0435\\u043d\\u0434\", \"\\u0433\\u0440\\u0443\\u0431\\u043e\\u0441\\u0442\\u044c\", \"\\u043a\\u0430\\u0431\\u0438\\u043d\\u043a\\u0430\", \"\\u043b\\u0435\\u043d\\u0442\\u0430\", \"\\u0441\\u043f\\u0435\\u043a\\u0442\\u0440\", \"\\u043d\\u0435\\u0434\\u043e\\u0447\\u0435\\u0442\", \"\\u0446\\u0435\\u043d\\u0442\", \"\\u0434\\u0438\\u0432\\u0430\\u043d\\u0447\\u0438\\u043a\", \"\\u0444\\u043e\\u0442\\u043e\\u0430\\u043f\\u043f\\u0430\\u0440\\u0430\\u0442\", \"\\u0438\\u043a\\u0435\\u044f\", \"\\u043a\\u0443\\u043f\\u044e\\u0440\\u043e\\u043f\\u0440\\u0438\\u0435\\u043c\\u043d\\u0438\\u043a\", \"\\u043b\\u044f\", \"\\u043e\\u0434\\u0435\\u0436\\u0434\\u0430\", \"\\u043f\\u0440\\u0438\\u0432\\u0430\\u0442\\u0431\\u0430\\u043d\\u043a\", \"\\u043f\\u043b\\u0430\\u043a\\u0430\\u0442\", \"\\u0440\\u0435\\u0439\\u0441\", \"\\u043a\\u0438\\u043f\\u0430\", \"\\u0433\\u0440\\u0430\\u0431\\u0435\\u0436\", \"\\u043f\\u043e\\u043b\\u0438\\u043d\\u0430\", \"\\u0437\\u0430\\u0432\\u0438\\u0441\\u0430\\u043d\\u0438\\u0435\", \"\\u0445\\u043e\\u043b\\u0434\", \"\\u0443\\u0433\\u043e\\u043b\\u043e\\u043a\", \"\\u0432\\u0441\\u043a\\u0438\\u0439\", \"\\u043c\\u0438\\u0445\\u0430\\u0439\\u043b\\u043e\\u0432\\u043d\\u0430\", \"\\u043d\\u0430\\u0441\\u0442\\u043e\\u0439\\u0447\\u0438\\u0432\\u043e\\u0441\\u0442\\u044c\", \"\\u0440\\u0436\\u0434\", \"\\u043c\\u0440\\u0430\\u043a\", \"\\u043f\\u044f\\u0442\\u043d\\u043e\", \"\\u043f\\u0440\\u0435\\u0441\\u0441\", \"\\u0437\\u0430\\u0441\\u0442\\u0440\\u043e\\u0439\\u0449\\u0438\\u043a\", \"\\u043d\\u043e\\u0432\\u043e\\u0432\\u0432\\u0435\\u0434\\u0435\\u043d\\u0438\\u0435\", \"\\u0434\\u043e\\u043b\\u043b\", \"\\u0432\\u0442\\u043e\\u0440\\u043e\\u0435\", \"\\u0445\\u0430\\u043c\"], \"Freq\": [5682.0, 3567.0, 2910.0, 4796.0, 2313.0, 682.0, 2730.0, 5876.0, 1422.0, 646.0, 2045.0, 772.0, 1752.0, 674.0, 922.0, 1585.0, 1471.0, 434.0, 2678.0, 882.0, 384.0, 1423.0, 1381.0, 660.0, 380.0, 1222.0, 364.0, 359.0, 1915.0, 752.0, 1420.8932864077115, 257.88168133380117, 185.10725310652901, 181.9336135665307, 176.06707540023172, 170.6675536838697, 159.6115178058635, 152.22809134833832, 167.76481718940283, 127.4557568970292, 126.19808227984934, 120.20732903014742, 116.77388017933922, 116.43625340718867, 112.60251183306261, 110.93279307558362, 108.66705287245765, 106.96266309169916, 99.98716095352506, 217.86114500788128, 94.68341886965513, 91.79458677088783, 89.09089843279703, 86.01874671094168, 129.32393437867034, 98.28138135365157, 76.94845212078636, 75.78037740467651, 73.91499817491423, 71.62262184026734, 123.058828353848, 115.29405786754603, 153.8370799741316, 484.8074747916831, 967.0283969375613, 168.95367094219182, 728.9277132491424, 412.90835960667624, 542.1626789386042, 300.57642818256477, 260.6274923592657, 538.6372042078244, 1078.6724671725428, 991.5431184886262, 1384.3192036686044, 426.89619408957185, 283.5145371810803, 227.48057946675087, 3302.3910922653736, 583.0747842267953, 1145.7871300541697, 467.45066913763577, 460.1771004356916, 782.1919848310675, 572.8520193628258, 1383.6313424794744, 338.78781711193324, 846.9183428363644, 1091.9932877530334, 1045.639941356832, 621.2756502400074, 381.6295373321078, 1153.8963274990062, 885.1417437737982, 1385.8186199480992, 1083.9916027440213, 624.801472425566, 1424.688286774007, 790.8857004865546, 1023.4708373807076, 1427.592214542001, 767.1390525421139, 930.0143371757634, 1045.5688620363792, 987.7235977422304, 931.5601138500228, 1162.2263076375395, 993.2057392413393, 898.7241481662902, 844.4711691932351, 868.5432333561731, 923.6907594753172, 879.2434507225414, 899.1070433324721, 851.9008443636317, 379.98214949793703, 198.64986755523483, 182.2040524947491, 164.57315283723744, 158.93489644715547, 153.3361749204179, 146.13274472498068, 125.39789788124426, 117.53846419060496, 98.86503615690077, 95.36545700573112, 93.34877421587949, 93.01297579251522, 91.69636466522297, 86.86613935848906, 86.81452243043178, 79.67299510842926, 77.0373645360879, 75.88313777519427, 74.70838971845663, 74.60992190294488, 74.04040534836338, 72.23300840727568, 67.6616519619465, 66.71072061237122, 66.20209503300727, 65.30657017031253, 65.07208299645023, 63.763202771537074, 63.99538281746423, 283.3211592047771, 102.04361083664102, 95.61476848847478, 759.036266902953, 218.47912620850687, 115.8259782427957, 305.82771839897305, 3067.4608079253085, 1428.0016116038523, 161.07431237176633, 723.7807615948404, 524.272763875526, 1356.625063728598, 559.0599222128086, 242.757195373519, 998.0723684865841, 256.0726628232943, 406.79927366944486, 447.9714288051442, 1363.558752216287, 1687.8743974677948, 2112.7620398597464, 1644.5946202494677, 1556.346571971733, 1036.9011697309863, 1967.8363581610686, 1069.7542667678483, 1166.8806290510797, 951.4336558502903, 752.5007806016804, 808.3115005820193, 959.8879440268688, 652.8767297110708, 466.205025159778, 2043.668496266118, 867.1125821737069, 1207.2932533849796, 815.7483858151372, 1024.9533231976304, 1058.6671003820793, 855.9744970696503, 1363.6811514246347, 875.8602398814041, 964.4286146587626, 877.7255325789865, 824.8994266281228, 772.6550407243395, 687.7799495805342, 345.1921156962, 314.597022519087, 308.076310231502, 236.01648988751185, 213.84144066936352, 183.59817986244352, 137.28066945662033, 124.44370000924054, 124.04184415182752, 122.12940599014368, 118.34006944929924, 116.77013685589334, 116.59728114722508, 116.48991198293055, 114.07724660023827, 112.99270556835484, 95.63069930273159, 116.30059856226929, 93.49052343882967, 88.88645746801741, 85.6196972772988, 79.88001092301542, 81.49273662807948, 75.10536164728288, 77.78484701618217, 72.97702982715833, 72.95554528263193, 71.15991020383274, 69.36800890627603, 80.11639447114335, 90.48570177441499, 697.8249228943207, 109.49910286477339, 485.3189976263403, 150.23301886534566, 208.3737159016866, 221.59529542180618, 130.33946301017426, 227.7625991938375, 148.34491914245757, 221.56802657683036, 176.62064556079395, 275.386626986886, 479.33689858536536, 290.8489190215759, 2004.7627583713559, 178.06327763716624, 292.3041449584505, 624.7207914810966, 270.623515707288, 199.5856802569876, 676.0754635282866, 419.38430768920006, 688.3761303887597, 716.4727118193679, 237.52527416188104, 500.1232260194252, 365.93244416954315, 581.9448184909126, 788.5217133791841, 726.0477183728303, 540.6640718645206, 369.87797977609506, 618.6962436320616, 710.1083898772671, 631.4845055970857, 458.36048496034607, 460.2801687999738, 628.7940407689999, 617.8013603244377, 483.6595154926435, 595.7566874021334, 488.1172830389937, 525.2153377404078, 512.8997051502004, 443.9014477036049, 448.10889888288756, 439.17689842700304, 422.55006450659494, 156.51477637079043, 154.36240218400306, 136.41407507603475, 127.17065954129212, 108.7421735721979, 97.57770555853773, 92.83865887018487, 88.6038465058717, 85.80909369052226, 79.68764411583398, 78.91776548969625, 77.61900117193817, 76.93765299424946, 75.17197562270408, 76.03704400872641, 64.07310778431905, 61.63044454744686, 61.203699189277074, 55.78248349359534, 55.785740333780545, 53.181592104391996, 52.665809898841964, 52.51574701555238, 52.86218346086262, 51.47921128945417, 50.867229835953985, 50.5329006278363, 49.7760493624394, 48.22268222516239, 48.11298231550955, 77.40250073474859, 2723.3655263273213, 452.709046996478, 429.7373086865877, 358.7450770267726, 346.875959864993, 378.0912637727683, 788.8631447528987, 829.822226057041, 251.28245771091517, 1662.1983443867916, 218.47545921734184, 301.57551059397406, 511.8248269845029, 1174.9793951338866, 858.377671233398, 406.536717777342, 302.4987056337896, 293.6100473738548, 781.664098111322, 226.5979656824891, 212.713142469011, 652.8489725818813, 1039.7050817307957, 146.3040263442913, 406.81587929012744, 958.0824177929735, 473.95963794280226, 724.9198803023861, 792.9644862459634, 1068.0358843695, 667.0491135298757, 806.6398257917566, 770.4936658435828, 804.4044683761853, 714.0863588843749, 524.0788073340218, 698.9230935063268, 456.13052972047524, 599.3989294675895, 444.01034460230454, 609.0515153387707, 524.9138823402085, 514.8392311637251, 439.6655344466143, 644.882453051822, 166.7086742174337, 138.22243421346397, 119.30069173244718, 116.30082550454757, 110.16051142015525, 92.58385624285566, 81.90908626758794, 78.63297446242261, 74.45294071020109, 74.11170028163015, 62.801176138075256, 58.40805844193464, 57.52618748803708, 56.58285426474176, 55.252787708805585, 55.0698965736769, 51.75353544977708, 50.61355904679414, 49.07669386565391, 46.35880565847777, 45.1771366413517, 44.70394816781146, 44.589607744853616, 43.78463882938253, 43.31107207277147, 41.21046618054774, 40.771800402023835, 38.960709093242045, 38.8095268090568, 317.9789528646863, 426.80275158633816, 125.9737098568977, 99.99336822722061, 594.7792909833873, 486.2995319850304, 109.67819468512931, 84.67536560913037, 103.954550673628, 332.40059337739706, 252.53267600199885, 340.2967694422325, 206.76091329176666, 503.8946997538416, 251.04817683733822, 180.9440597855553, 462.88704567690553, 213.20657747091911, 325.07330849314775, 411.46582899496775, 937.2356260992344, 754.1475975420611, 1270.8912579502767, 209.97366559244063, 245.1572735111421, 478.7910902480386, 284.1062761982774, 411.37867257545247, 376.46053789610784, 365.6691577994574, 251.97251443073918, 368.6889042576631, 338.6346518264764, 411.8574741877896, 246.76091438389014, 303.36132680285715, 263.3903778505721, 278.7009486612558, 257.6667105601126, 379.1018696768911, 241.05264904618448, 185.41483281537356, 174.0136517811407, 168.54375193053323, 238.55867162292728, 148.52145340265784, 125.56950987119755, 122.58019906441734, 110.49163791995821, 98.9130539853938, 96.18804683331491, 91.52453796470427, 86.96165729220607, 86.7296745233702, 75.12488198841588, 76.89381589319417, 71.81078614141916, 91.53629517949456, 69.50909370486877, 66.34071675965532, 66.71988006375774, 62.37348151409557, 61.95772238983332, 61.535553155091094, 60.82363226449972, 60.69172786099889, 60.67488471151754, 59.61319355379949, 59.449820502138195, 332.0791686204027, 397.5515880344479, 132.8007926172402, 72.15512682961891, 258.1721984593367, 238.6487705596523, 130.71509203774932, 110.6622045909573, 109.2500650414871, 160.47271263815122, 152.30141170350834, 118.6843822549201, 128.7619006756144, 194.46154682227086, 339.72687982732447, 196.08676385685231, 182.7144696388476, 171.9630951742599, 148.7448387559132, 139.29601881221737, 135.73368256233573, 120.09738680341611, 114.5024504588274, 109.66703498379648, 108.90819326851846, 100.991726487822, 100.13128329228839, 98.93595364908875, 97.49200826253637, 93.83210923651622, 93.71037762340784, 92.30646611780111, 87.47568700265352, 86.4665542967993, 82.83604001261777, 82.6844799435413, 77.20188477221916, 73.49204526815893, 73.05398623000342, 72.95079552873312, 71.83060298735352, 71.86643516715489, 64.93594645906724, 63.882410646400785, 273.40069097445496, 104.5025466217345, 177.21609092206327, 114.4864676947765, 98.72017275131594, 221.19085965774008, 84.402731216003, 80.06912019982808, 80.15029271934779, 300.8143715437708, 202.50270552424806, 160.6626549788481, 162.61356428339792, 152.44029912534984, 134.17260673685786, 131.5759993042393, 126.15308941799708, 120.62959074151782, 126.625538602266, 119.3371135469565, 109.55171194448337, 107.69980956906255, 106.42460981304798, 105.81357201947992, 97.25456975783823, 93.56179409416654, 89.27385197671084, 88.81663259966545, 87.58028511008789, 85.55048487683305, 85.46536317298579, 84.50952359845063, 83.45749808042916, 77.69838998002412, 74.76588312922985, 71.69283231304456, 68.42900465317062, 68.24081151595843, 68.06092754362211, 158.2233021166036, 141.5869830888367, 89.85507168839229, 127.66024274115439, 138.4335869105387, 88.47024016947304, 130.55075117953012, 114.16219554186911, 100.24021835374549, 97.97359593638204, 681.4767402973665, 363.2009532120626, 358.56913631151383, 291.1164986049764, 242.0211279804552, 223.3873706276284, 220.36004074768334, 208.5241871763543, 180.15038124187376, 148.2554911986982, 123.34497961316227, 118.15619174565711, 108.93335269282943, 108.6780494803254, 104.45642310155799, 104.18178942864026, 99.43062940743233, 92.00030621700715, 91.73082229299581, 86.22211992613671, 85.51053047855719, 83.02390743199145, 82.88897224939059, 77.45517226629873, 77.49991543542662, 73.34305155962707, 72.20223516119302, 72.36579219456719, 70.15896517116872, 65.74565136063721, 245.30918805136028, 181.25755205405974, 163.10716542321575, 147.37699276046283, 121.88693700191594, 164.0065148839399, 90.3758250652498, 146.7319048012078, 89.0500965572262, 383.4785259860804, 269.5108358163401, 248.1023621842216, 203.93818402182913, 171.6626370043119, 160.78695829929296, 158.49744490271868, 155.26897152495346, 147.32807228733944, 121.1642292602015, 120.29054012995266, 112.43259584122626, 133.46340724634234, 104.79283295256305, 100.85010974002286, 99.41859488608866, 95.43326869639372, 95.12656713108618, 85.34884746919938, 76.67250073689641, 75.30388113408638, 75.21247868514682, 69.34779139122237, 67.90143734471906, 67.37309065513824, 64.80218081509342, 64.0721656360721, 63.059470691300945, 62.48717955823461, 60.15331886296092, 179.4811845450085, 109.96240395779873, 166.70250087253697, 88.1448703108741, 121.49782660246889], \"Total\": [5682.0, 3567.0, 2910.0, 4796.0, 2313.0, 682.0, 2730.0, 5876.0, 1422.0, 646.0, 2045.0, 772.0, 1752.0, 674.0, 922.0, 1585.0, 1471.0, 434.0, 2678.0, 882.0, 384.0, 1423.0, 1381.0, 660.0, 380.0, 1222.0, 364.0, 359.0, 1915.0, 752.0, 1422.1791405048757, 259.13593810208516, 186.35987599852203, 183.18532390828884, 177.31949396576462, 171.91957684879947, 160.90160728838006, 153.48060075171017, 169.17763543803372, 128.70793450150168, 127.45957120121541, 121.46212190668692, 118.025796705571, 117.68856675671353, 113.85660802599432, 112.20308011808895, 109.9249954887181, 108.22161904164392, 101.27368991319136, 220.6706892325078, 95.94210854884366, 93.0471313367622, 90.34296384834394, 87.27392284371255, 131.34152066188125, 99.84014096301141, 78.20488449854113, 77.03199166620027, 75.17057265766884, 72.8766036942333, 125.54898280178746, 117.62965606589626, 157.50740672675312, 513.4809944880056, 1070.4319994825207, 175.48186535007872, 807.8296042955905, 450.7458536322274, 609.7529913525954, 327.4205649788666, 284.6635159246606, 626.8368366485342, 1378.0931558651027, 1281.1147346636742, 1899.9544908576404, 513.3535537841908, 322.90773090584764, 254.97607996461105, 5876.0034456375615, 764.0549010226222, 1731.0939290931556, 611.2756157502912, 606.3080171239088, 1211.1832297180483, 818.838934908952, 2555.578700354678, 425.1268757954754, 1443.411123837275, 2052.9459275286313, 1992.1310286943783, 994.5437631620741, 521.8267781202092, 2636.337601202913, 1813.672224466867, 3765.2764282209787, 2571.483889611156, 1101.4702247710693, 4123.8846117038365, 1610.6577495807835, 2526.271170557053, 4796.006917722035, 1585.4070673739573, 2313.683265781642, 3014.792905498483, 2695.8863429019616, 2489.697179270298, 4233.206834733117, 3060.5061647192983, 2493.031956717779, 2099.629745454011, 2359.7190650902194, 3038.772744800036, 2541.7136242994884, 2928.976743034432, 2472.7740541160847, 381.1791250567718, 199.85647689309957, 183.40171903207658, 165.77013698120075, 160.13328204684922, 154.53368930796026, 147.33092676976113, 126.60192578847516, 118.74024551381888, 100.06603469909135, 96.5757767105261, 94.54753661563949, 94.21151479544312, 92.89395584765232, 88.06252543008806, 88.02078037126674, 80.86903447866158, 78.2333635448866, 77.07896670279787, 75.90424605228938, 75.81305642135524, 75.25057213447276, 73.42914755928552, 68.86509126473003, 67.91230875683746, 67.40213627488278, 66.5031114023652, 66.26939432755121, 64.96125759268419, 65.1986627937364, 304.9509498664125, 105.7655601328671, 98.90175655079165, 912.7738066625817, 244.05205559752477, 124.49916826064363, 362.42869756166544, 4796.006917722035, 2147.1740415573486, 182.73243616043754, 1035.8999946330314, 714.7138927996891, 2165.227008227555, 787.0970619781663, 296.43788066926635, 1591.867997280452, 316.8906060966976, 562.2884835518087, 631.7398049298685, 2455.7832259289135, 3217.6813727744093, 4233.206834733117, 3227.6973375510042, 3038.772744800036, 1836.597411510231, 4123.8846117038365, 1915.1373281533233, 2241.2731235495444, 1740.6059201721998, 1285.0808951812528, 1417.7638910807084, 1835.6416688050367, 1110.6653428926945, 697.2930483124373, 5876.0034456375615, 1789.0971200276963, 2979.1752802190254, 1736.6433047820267, 2785.3482004820116, 3060.5061647192983, 2116.346482664492, 5682.861161909976, 2555.578700354678, 3765.2764282209787, 2928.976743034432, 2571.483889611156, 2526.271170557053, 688.9952393308092, 346.39794484704004, 315.8014807196099, 309.2803346550971, 237.2223072255431, 215.04778346319654, 184.80242067298246, 138.6080974220264, 125.64948650515441, 125.24674295773141, 123.33565172392075, 119.54375073791374, 117.97373889096636, 117.803014935488, 117.69463196657476, 115.28075158422541, 114.24450812262755, 96.83481896578695, 117.77087272198796, 94.6973979180314, 90.08958817942191, 86.82414493432846, 81.0857847117878, 82.73320271244373, 76.31598047832438, 79.04964516328482, 74.18126550069272, 74.15985648052491, 72.36470509496333, 70.57346249456889, 81.58950738190893, 92.34805230410205, 752.0284236961436, 112.87951310194312, 533.9299525560316, 157.9237653624275, 228.13431283275796, 252.87020507479673, 140.025627388244, 264.4665163215025, 162.32418028444766, 267.3649960411207, 206.7305750664269, 360.58405386349824, 734.3399862799712, 406.6669846415634, 5682.861161909976, 211.72141365410616, 418.4738070794714, 1238.1949884823214, 383.9245181603853, 255.42336289367097, 1602.5763809528307, 810.6673138593304, 1742.4879025471241, 1915.1373281533233, 342.80437552206143, 1153.4163412049322, 698.8567161560139, 1535.598788587265, 2678.578447016023, 2334.600333668247, 1435.8653948093945, 754.2258058608437, 2303.8287420891843, 3217.6813727744093, 2659.81308536678, 1285.0808951812528, 1327.299209640514, 2910.5230958590205, 2928.976743034432, 1550.7801200987676, 2979.1752802190254, 1740.6059201721998, 3227.6973375510042, 3014.792905498483, 1680.120463343319, 2279.095235361098, 2099.629745454011, 2359.7190650902194, 157.7807265534901, 155.622613555245, 137.67262728218438, 128.43077475873602, 110.00108199804856, 98.83621150469213, 94.09790419073977, 89.86283899461807, 87.06892872381037, 80.9479682486997, 80.18082932610191, 78.87832859747301, 78.20253393517183, 76.43209975433109, 77.31339991544795, 65.33726217749631, 62.89175456743376, 62.462026172108416, 57.04063881339179, 57.04426167527876, 54.4396048181527, 53.92507118593291, 53.77537669208818, 54.13180335730279, 52.7372705403642, 52.12548629235275, 51.79237176227652, 51.03597134082468, 49.48175265633703, 49.37121336923465, 80.29632629472498, 3567.669871619811, 555.568238454677, 528.201901396158, 438.98632669608696, 433.8233988660665, 479.6433786767068, 1109.559781131527, 1222.5894243346163, 315.50290334045945, 2730.4765481360423, 269.5191458488851, 391.05709818174995, 730.29575502773, 2045.225512206466, 1423.2122952121968, 579.0209198759884, 407.0729348555933, 398.824591379701, 1363.017995049233, 309.05422837515476, 285.5057120287335, 1258.303070041178, 2489.697179270298, 177.7857644064393, 772.8692655902001, 2695.8863429019616, 993.6906666484067, 1975.9072655475154, 2303.8287420891843, 3765.2764282209787, 1815.204329696112, 2636.337601202913, 2520.1838799210223, 3014.792905498483, 2472.7740541160847, 1381.796302938916, 2785.3482004820116, 1172.6458034176992, 2541.7136242994884, 1111.754036025358, 4233.206834733117, 2678.578447016023, 2659.81308536678, 2910.5230958590205, 646.1220217542481, 167.94886351272947, 139.46200240266336, 120.54336321892181, 117.54273459775901, 111.40261299095188, 93.82314758202256, 83.15165084251578, 79.87299542079744, 75.69306568565499, 75.3541828895157, 64.04141802408012, 59.64945793092252, 58.76830783188807, 57.82366242225166, 56.491681662197685, 56.30915434744744, 52.99809105975797, 51.85443044132345, 50.318452192219354, 47.59836586928095, 46.419207639267896, 45.94475854970841, 45.830082180006976, 45.02417541079547, 44.55313613248012, 42.45237601115879, 42.01293193405382, 40.20063278776018, 40.04858876234803, 330.72692416364976, 449.61083993470197, 139.1602943563687, 108.96493699357737, 772.630566520583, 660.3717789650324, 125.54515679038134, 94.56645062901293, 120.63926801309518, 475.1686913507982, 369.1131085209646, 541.3991220714768, 298.17904500352284, 922.2349389129229, 383.1406627338886, 259.055686319559, 882.9412039769068, 326.7890658508449, 602.8128777598566, 862.6235798236826, 2910.5230958590205, 2313.683265781642, 5682.861161909976, 361.98428869847925, 516.105607759636, 1752.7942460916565, 728.3157077803526, 1585.4070673739573, 1381.796302938916, 1471.6704534287628, 680.5029677197782, 1653.4287308121002, 1535.598788587265, 2678.578447016023, 749.5214564198261, 1733.5860027477033, 1161.139340317322, 3060.5061647192983, 2526.271170557053, 380.2872162591607, 242.2377887686402, 186.60008495830326, 175.19852992160085, 169.72947394473076, 240.31473606327017, 149.7069866328725, 126.75454503309358, 123.76542009394882, 111.67663432709634, 100.09829190262143, 97.37336726229235, 92.7111457571317, 88.14735950846638, 87.91526512923333, 76.30979679954912, 78.11377161507606, 72.99619577717517, 93.04888894370607, 70.69434837599043, 67.52589121710034, 67.96913301552347, 63.55941750532338, 63.14266209411127, 62.72065582045927, 62.009352988931695, 61.87737381718453, 61.86029404666912, 60.79822256281003, 60.63475881893065, 353.75366153187605, 434.1108723373598, 139.26328503238827, 74.069358151822, 280.8836835043402, 263.5678633754539, 148.1236449328206, 126.95965598020571, 125.28133676812226, 215.63058025968365, 216.35063987744857, 189.04832412595815, 256.1960293370458, 674.1249260860321, 340.9006079083307, 197.26057726630313, 183.88863866028157, 173.136893084303, 149.97682330836193, 140.4728150428589, 136.90868116084928, 121.27116487976639, 115.67641405989343, 110.84076983505199, 110.08207793352122, 102.16556629940044, 101.30626556824608, 100.10996744971168, 98.66612513922107, 95.00579914538925, 94.88458331506114, 93.48082556383694, 88.64949725402214, 87.64069941899234, 84.01017877647944, 83.85827017323805, 78.3762726354742, 74.66607281732638, 74.2279902402476, 74.12490395273828, 73.0043854494435, 73.04120320796724, 66.10972105485536, 65.05657659884689, 286.04056619519037, 109.4064388356689, 199.81652769532516, 122.94534987984731, 106.51641659231349, 343.2355711959303, 91.86095488438828, 89.78831201096493, 96.39865648730178, 301.9845332045532, 203.67649588757456, 161.83239769048137, 163.79795178387508, 153.61084778161566, 135.34259245744542, 132.74655724917903, 127.32333596738904, 121.80021641235996, 127.86373263177538, 120.5074110399501, 110.72190358538091, 108.86963336283871, 107.59443741007571, 106.98440078532784, 98.42434467246808, 94.73214561022752, 90.4445084265388, 89.98661996945545, 88.75003499426178, 86.72013159632175, 86.63496143211961, 85.67988817031193, 84.62881356006858, 78.87723605829606, 75.93640488019061, 72.86243129434739, 69.59858122824512, 69.41090468931348, 69.23065455108953, 165.98706102187043, 160.93514277562159, 95.71503324444738, 155.3013732450472, 181.08746782572558, 102.38325234091765, 257.32427708280477, 189.5765397617608, 167.63313974440092, 194.25731162448463, 682.6490090611477, 364.37295064248144, 359.7418959696479, 292.2888329388499, 243.19403741100652, 224.5592364330057, 221.5319960568599, 209.6967596751697, 181.322519754032, 149.42788463860302, 124.51743256324077, 119.32838653725277, 110.10548032742619, 109.84990383689906, 105.62820926043828, 105.3541236844417, 100.6029831352976, 93.1726870315654, 92.90296480772936, 87.39432764059605, 86.68272801283663, 84.19609578117706, 84.06155890206611, 78.62748706638891, 78.68386869213387, 74.51568119380019, 73.37437063678225, 73.54083309510463, 71.33079297537013, 66.91793733252442, 272.7716660893616, 202.39599353027387, 187.54772235358365, 168.36487935657962, 142.8174907328257, 252.83217556744725, 111.77821759936876, 404.81251276045424, 243.0537977736776, 384.63579405671965, 270.66763417462437, 249.259027414097, 205.09665393526757, 172.81912610153816, 161.94368095712585, 159.65404112388399, 156.42601715902452, 148.48471789055742, 122.32075167820756, 121.44679811834213, 113.58889771954124, 134.8708926207876, 105.94963539759482, 102.00654038735426, 100.5757459014545, 96.58983615761417, 96.28373532464133, 86.50544741015848, 77.8288713119736, 76.46038652636423, 76.36927492596294, 70.50456441024318, 69.05776259721351, 68.532140809441, 65.95939458946265, 65.22836703527891, 64.21659342021465, 63.644005633625554, 61.309786951065064, 196.25002183567952, 117.94797276987113, 246.40312945954372, 105.91715507813043, 177.26425148526013], \"Category\": [\"Default\", \"Default\", \"Default\", \"Default\", \"Default\", \"Default\", \"Default\", \"Default\", \"Default\", \"Default\", \"Default\", \"Default\", \"Default\", \"Default\", \"Default\", \"Default\", \"Default\", \"Default\", \"Default\", \"Default\", \"Default\", \"Default\", \"Default\", \"Default\", \"Default\", \"Default\", \"Default\", \"Default\", \"Default\", \"Default\", \"Topic1\", \"Topic1\", \"Topic1\", \"Topic1\", \"Topic1\", \"Topic1\", \"Topic1\", \"Topic1\", \"Topic1\", \"Topic1\", \"Topic1\", \"Topic1\", \"Topic1\", \"Topic1\", \"Topic1\", \"Topic1\", \"Topic1\", \"Topic1\", \"Topic1\", \"Topic1\", \"Topic1\", \"Topic1\", \"Topic1\", \"Topic1\", \"Topic1\", \"Topic1\", \"Topic1\", \"Topic1\", \"Topic1\", \"Topic1\", \"Topic1\", \"Topic1\", \"Topic1\", \"Topic1\", \"Topic1\", \"Topic1\", \"Topic1\", \"Topic1\", \"Topic1\", \"Topic1\", \"Topic1\", \"Topic1\", \"Topic1\", \"Topic1\", \"Topic1\", \"Topic1\", \"Topic1\", \"Topic1\", \"Topic1\", \"Topic1\", \"Topic1\", \"Topic1\", \"Topic1\", \"Topic1\", \"Topic1\", \"Topic1\", \"Topic1\", \"Topic1\", \"Topic1\", \"Topic1\", \"Topic1\", \"Topic1\", \"Topic1\", \"Topic1\", \"Topic1\", \"Topic1\", \"Topic1\", \"Topic1\", \"Topic1\", \"Topic1\", \"Topic1\", \"Topic1\", \"Topic1\", \"Topic1\", \"Topic1\", \"Topic1\", \"Topic1\", \"Topic1\", \"Topic1\", \"Topic1\", \"Topic1\", \"Topic1\", \"Topic1\", \"Topic1\", \"Topic1\", \"Topic2\", \"Topic2\", \"Topic2\", \"Topic2\", \"Topic2\", \"Topic2\", \"Topic2\", \"Topic2\", \"Topic2\", \"Topic2\", \"Topic2\", \"Topic2\", \"Topic2\", \"Topic2\", \"Topic2\", \"Topic2\", \"Topic2\", \"Topic2\", \"Topic2\", \"Topic2\", \"Topic2\", \"Topic2\", \"Topic2\", \"Topic2\", \"Topic2\", \"Topic2\", \"Topic2\", \"Topic2\", \"Topic2\", \"Topic2\", \"Topic2\", \"Topic2\", \"Topic2\", \"Topic2\", \"Topic2\", \"Topic2\", \"Topic2\", \"Topic2\", \"Topic2\", \"Topic2\", \"Topic2\", \"Topic2\", \"Topic2\", \"Topic2\", \"Topic2\", \"Topic2\", \"Topic2\", \"Topic2\", \"Topic2\", \"Topic2\", \"Topic2\", \"Topic2\", \"Topic2\", \"Topic2\", \"Topic2\", \"Topic2\", \"Topic2\", \"Topic2\", \"Topic2\", \"Topic2\", \"Topic2\", \"Topic2\", \"Topic2\", \"Topic2\", \"Topic2\", \"Topic2\", \"Topic2\", \"Topic2\", \"Topic2\", \"Topic2\", \"Topic2\", \"Topic2\", \"Topic2\", \"Topic2\", \"Topic2\", \"Topic2\", \"Topic2\", \"Topic3\", \"Topic3\", \"Topic3\", \"Topic3\", \"Topic3\", \"Topic3\", \"Topic3\", \"Topic3\", \"Topic3\", \"Topic3\", \"Topic3\", \"Topic3\", \"Topic3\", \"Topic3\", \"Topic3\", \"Topic3\", \"Topic3\", \"Topic3\", \"Topic3\", \"Topic3\", \"Topic3\", \"Topic3\", \"Topic3\", \"Topic3\", \"Topic3\", \"Topic3\", \"Topic3\", \"Topic3\", \"Topic3\", \"Topic3\", \"Topic3\", \"Topic3\", \"Topic3\", \"Topic3\", \"Topic3\", \"Topic3\", \"Topic3\", \"Topic3\", \"Topic3\", \"Topic3\", \"Topic3\", \"Topic3\", \"Topic3\", \"Topic3\", \"Topic3\", \"Topic3\", \"Topic3\", \"Topic3\", \"Topic3\", \"Topic3\", \"Topic3\", \"Topic3\", \"Topic3\", \"Topic3\", \"Topic3\", \"Topic3\", \"Topic3\", \"Topic3\", \"Topic3\", \"Topic3\", \"Topic3\", \"Topic3\", \"Topic3\", \"Topic3\", \"Topic3\", \"Topic3\", \"Topic3\", \"Topic3\", \"Topic3\", \"Topic3\", \"Topic3\", \"Topic3\", \"Topic3\", \"Topic3\", \"Topic3\", \"Topic3\", \"Topic3\", \"Topic3\", \"Topic3\", \"Topic3\", \"Topic4\", \"Topic4\", \"Topic4\", \"Topic4\", \"Topic4\", \"Topic4\", \"Topic4\", \"Topic4\", \"Topic4\", \"Topic4\", \"Topic4\", \"Topic4\", \"Topic4\", \"Topic4\", \"Topic4\", \"Topic4\", \"Topic4\", \"Topic4\", \"Topic4\", \"Topic4\", \"Topic4\", \"Topic4\", \"Topic4\", \"Topic4\", \"Topic4\", \"Topic4\", \"Topic4\", \"Topic4\", \"Topic4\", \"Topic4\", \"Topic4\", \"Topic4\", \"Topic4\", \"Topic4\", \"Topic4\", \"Topic4\", \"Topic4\", \"Topic4\", \"Topic4\", \"Topic4\", \"Topic4\", \"Topic4\", \"Topic4\", \"Topic4\", \"Topic4\", \"Topic4\", \"Topic4\", \"Topic4\", \"Topic4\", \"Topic4\", \"Topic4\", \"Topic4\", \"Topic4\", \"Topic4\", \"Topic4\", \"Topic4\", \"Topic4\", \"Topic4\", \"Topic4\", \"Topic4\", \"Topic4\", \"Topic4\", \"Topic4\", \"Topic4\", \"Topic4\", \"Topic4\", \"Topic4\", \"Topic4\", \"Topic4\", \"Topic4\", \"Topic4\", \"Topic4\", \"Topic4\", \"Topic4\", \"Topic4\", \"Topic5\", \"Topic5\", \"Topic5\", \"Topic5\", \"Topic5\", \"Topic5\", \"Topic5\", \"Topic5\", \"Topic5\", \"Topic5\", \"Topic5\", \"Topic5\", \"Topic5\", \"Topic5\", \"Topic5\", \"Topic5\", \"Topic5\", \"Topic5\", \"Topic5\", \"Topic5\", \"Topic5\", \"Topic5\", \"Topic5\", \"Topic5\", \"Topic5\", \"Topic5\", \"Topic5\", \"Topic5\", \"Topic5\", \"Topic5\", \"Topic5\", \"Topic5\", \"Topic5\", \"Topic5\", \"Topic5\", \"Topic5\", \"Topic5\", \"Topic5\", \"Topic5\", \"Topic5\", \"Topic5\", \"Topic5\", \"Topic5\", \"Topic5\", \"Topic5\", \"Topic5\", \"Topic5\", \"Topic5\", \"Topic5\", \"Topic5\", \"Topic5\", \"Topic5\", \"Topic5\", \"Topic5\", \"Topic5\", \"Topic5\", \"Topic5\", \"Topic5\", \"Topic5\", \"Topic5\", \"Topic5\", \"Topic5\", \"Topic5\", \"Topic5\", \"Topic5\", \"Topic5\", \"Topic5\", \"Topic5\", \"Topic5\", \"Topic6\", \"Topic6\", \"Topic6\", \"Topic6\", \"Topic6\", \"Topic6\", \"Topic6\", \"Topic6\", \"Topic6\", \"Topic6\", \"Topic6\", \"Topic6\", \"Topic6\", \"Topic6\", \"Topic6\", \"Topic6\", \"Topic6\", \"Topic6\", \"Topic6\", \"Topic6\", \"Topic6\", \"Topic6\", \"Topic6\", \"Topic6\", \"Topic6\", \"Topic6\", \"Topic6\", \"Topic6\", \"Topic6\", \"Topic6\", \"Topic6\", \"Topic6\", \"Topic6\", \"Topic6\", \"Topic6\", \"Topic6\", \"Topic6\", \"Topic6\", \"Topic6\", \"Topic6\", \"Topic6\", \"Topic6\", \"Topic6\", \"Topic6\", \"Topic7\", \"Topic7\", \"Topic7\", \"Topic7\", \"Topic7\", \"Topic7\", \"Topic7\", \"Topic7\", \"Topic7\", \"Topic7\", \"Topic7\", \"Topic7\", \"Topic7\", \"Topic7\", \"Topic7\", \"Topic7\", \"Topic7\", \"Topic7\", \"Topic7\", \"Topic7\", \"Topic7\", \"Topic7\", \"Topic7\", \"Topic7\", \"Topic7\", \"Topic7\", \"Topic7\", \"Topic7\", \"Topic7\", \"Topic7\", \"Topic7\", \"Topic7\", \"Topic7\", \"Topic7\", \"Topic7\", \"Topic7\", \"Topic7\", \"Topic7\", \"Topic7\", \"Topic8\", \"Topic8\", \"Topic8\", \"Topic8\", \"Topic8\", \"Topic8\", \"Topic8\", \"Topic8\", \"Topic8\", \"Topic8\", \"Topic8\", \"Topic8\", \"Topic8\", \"Topic8\", \"Topic8\", \"Topic8\", \"Topic8\", \"Topic8\", \"Topic8\", \"Topic8\", \"Topic8\", \"Topic8\", \"Topic8\", \"Topic8\", \"Topic8\", \"Topic8\", \"Topic8\", \"Topic8\", \"Topic8\", \"Topic8\", \"Topic8\", \"Topic8\", \"Topic8\", \"Topic8\", \"Topic8\", \"Topic8\", \"Topic8\", \"Topic8\", \"Topic8\", \"Topic8\", \"Topic9\", \"Topic9\", \"Topic9\", \"Topic9\", \"Topic9\", \"Topic9\", \"Topic9\", \"Topic9\", \"Topic9\", \"Topic9\", \"Topic9\", \"Topic9\", \"Topic9\", \"Topic9\", \"Topic9\", \"Topic9\", \"Topic9\", \"Topic9\", \"Topic9\", \"Topic9\", \"Topic9\", \"Topic9\", \"Topic9\", \"Topic9\", \"Topic9\", \"Topic9\", \"Topic9\", \"Topic9\", \"Topic9\", \"Topic9\", \"Topic9\", \"Topic9\", \"Topic9\", \"Topic9\", \"Topic9\", \"Topic9\", \"Topic9\", \"Topic9\", \"Topic9\", \"Topic10\", \"Topic10\", \"Topic10\", \"Topic10\", \"Topic10\", \"Topic10\", \"Topic10\", \"Topic10\", \"Topic10\", \"Topic10\", \"Topic10\", \"Topic10\", \"Topic10\", \"Topic10\", \"Topic10\", \"Topic10\", \"Topic10\", \"Topic10\", \"Topic10\", \"Topic10\", \"Topic10\", \"Topic10\", \"Topic10\", \"Topic10\", \"Topic10\", \"Topic10\", \"Topic10\", \"Topic10\", \"Topic10\", \"Topic10\", \"Topic10\", \"Topic10\", \"Topic10\", \"Topic10\", \"Topic10\"], \"logprob\": [30.0, 29.0, 28.0, 27.0, 26.0, 25.0, 24.0, 23.0, 22.0, 21.0, 20.0, 19.0, 18.0, 17.0, 16.0, 15.0, 14.0, 13.0, 12.0, 11.0, 10.0, 9.0, 8.0, 7.0, 6.0, 5.0, 4.0, 3.0, 2.0, 1.0, -5.0109, -6.7174, -7.049, -7.0663, -7.0991, -7.1302, -7.1972, -7.2445, -7.1474, -7.4222, -7.4321, -7.4807, -7.5097, -7.5126, -7.5461, -7.561, -7.5816, -7.5974, -7.6649, -6.8861, -7.7194, -7.7504, -7.7803, -7.8154, -7.4076, -7.6821, -7.9268, -7.9421, -7.967, -7.9985, -7.4573, -7.5224, -7.234, -6.0862, -5.3957, -7.1403, -5.6783, -6.2467, -5.9744, -6.5642, -6.7068, -5.9809, -5.2864, -5.3707, -5.037, -6.2134, -6.6227, -6.8429, -4.1675, -5.9016, -5.2261, -6.1226, -6.1383, -5.6078, -5.9193, -5.0375, -6.4445, -5.5283, -5.2742, -5.3175, -5.8381, -6.3255, -5.219, -5.4842, -5.0359, -5.2815, -5.8325, -5.0082, -5.5968, -5.339, -5.0062, -5.6273, -5.4347, -5.3176, -5.3745, -5.4331, -5.2118, -5.369, -5.4689, -5.5312, -5.5031, -5.4415, -5.4909, -5.4685, -5.5225, -6.1258, -6.7744, -6.8608, -6.9626, -6.9974, -7.0333, -7.0814, -7.2344, -7.2991, -7.4722, -7.5082, -7.5296, -7.5332, -7.5474, -7.6015, -7.6021, -7.688, -7.7216, -7.7367, -7.7523, -7.7536, -7.7613, -7.786, -7.8514, -7.8655, -7.8732, -7.8868, -7.8904, -7.9107, -7.9071, -6.4193, -7.4405, -7.5056, -5.4339, -6.6792, -7.3138, -6.3429, -4.0373, -4.8019, -6.984, -5.4814, -5.8039, -4.8532, -5.7397, -6.5738, -5.1601, -6.5204, -6.0576, -5.9612, -4.8481, -4.6347, -4.4102, -4.6607, -4.7158, -5.1219, -4.4812, -5.0907, -5.0038, -5.2079, -5.4425, -5.371, -5.1991, -5.5845, -5.9213, -4.4434, -5.3007, -4.9698, -5.3618, -5.1335, -5.1011, -5.3137, -4.848, -5.2907, -5.1944, -5.2886, -5.3506, -5.4161, -5.2529, -5.9423, -6.0351, -6.056, -6.3225, -6.4211, -6.5736, -6.8643, -6.9625, -6.9657, -6.9813, -7.0128, -7.0261, -7.0276, -7.0286, -7.0495, -7.059, -7.2259, -7.0302, -7.2485, -7.299, -7.3364, -7.4058, -7.3858, -7.4675, -7.4324, -7.4962, -7.4965, -7.5214, -7.5469, -7.4029, -7.2812, -5.2384, -7.0904, -5.6015, -6.7742, -6.447, -6.3855, -6.9162, -6.3581, -6.7868, -6.3856, -6.6124, -6.1682, -5.614, -6.1136, -4.1831, -6.6042, -6.1086, -5.3491, -6.1856, -6.4901, -5.2701, -5.7476, -5.252, -5.212, -6.3161, -5.5715, -5.8839, -5.42, -5.1162, -5.1987, -5.4936, -5.8732, -5.3587, -5.2209, -5.3383, -5.6587, -5.6545, -5.3426, -5.3602, -5.605, -5.3965, -5.5958, -5.5225, -5.5463, -5.6908, -5.6813, -5.7015, -5.74, -6.5884, -6.6022, -6.7258, -6.796, -6.9525, -7.0609, -7.1107, -7.1574, -7.1894, -7.2634, -7.2731, -7.2897, -7.2985, -7.3217, -7.3103, -7.4815, -7.5204, -7.5273, -7.6201, -7.62, -7.6678, -7.6776, -7.6804, -7.6738, -7.7003, -7.7123, -7.7189, -7.734, -7.7657, -7.768, -7.2925, -3.7319, -5.5263, -5.5784, -5.7589, -5.7926, -5.7064, -4.9709, -4.9203, -6.1149, -4.2256, -6.2549, -5.9325, -5.4035, -4.5725, -4.8865, -5.6339, -5.9295, -5.9593, -4.9801, -6.2184, -6.2816, -5.1602, -4.6948, -6.6558, -5.6332, -4.7766, -5.4804, -5.0555, -4.9657, -4.668, -5.1387, -4.9487, -4.9945, -4.9514, -5.0705, -5.3799, -5.092, -5.5187, -5.2456, -5.5457, -5.2296, -5.3783, -5.3977, -5.5555, -4.3505, -5.7034, -5.8907, -6.038, -6.0634, -6.1177, -6.2915, -6.414, -6.4548, -6.5094, -6.514, -6.6796, -6.7521, -6.7674, -6.7839, -6.8077, -6.811, -6.8731, -6.8954, -6.9262, -6.9832, -7.009, -7.0195, -7.0221, -7.0403, -7.0512, -7.1009, -7.1116, -7.157, -7.1609, -5.0576, -4.7633, -5.9835, -6.2145, -4.4314, -4.6328, -6.1221, -6.3808, -6.1756, -5.0133, -5.2881, -4.9898, -5.488, -4.5972, -5.294, -5.6214, -4.6821, -5.4573, -5.0356, -4.7999, -3.9767, -4.194, -3.6721, -5.4726, -5.3177, -4.6483, -5.1703, -4.8001, -4.8888, -4.9179, -5.2903, -4.9096, -4.9947, -4.7989, -5.3112, -5.1047, -5.246, -5.1895, -5.2679, -3.9495, -4.4023, -4.6647, -4.7282, -4.7601, -4.4127, -4.8866, -5.0545, -5.0786, -5.1824, -5.2931, -5.321, -5.3707, -5.4219, -5.4245, -5.5682, -5.5449, -5.6133, -5.3706, -5.6459, -5.6925, -5.6868, -5.7542, -5.7609, -5.7677, -5.7793, -5.7815, -5.7818, -5.7994, -5.8022, -4.0819, -3.902, -4.9985, -5.6085, -4.3337, -4.4123, -5.0143, -5.1808, -5.1937, -4.8092, -4.8615, -5.1109, -5.0294, -4.6171, -4.0473, -4.5969, -4.6675, -4.7281, -4.8732, -4.9388, -4.9647, -5.0871, -5.1348, -5.178, -5.1849, -5.2604, -5.2689, -5.2809, -5.2956, -5.3339, -5.3352, -5.3503, -5.4041, -5.4157, -5.4585, -5.4604, -5.529, -5.5782, -5.5842, -5.5856, -5.6011, -5.6006, -5.702, -5.7184, -4.2645, -5.2262, -4.698, -5.135, -5.2831, -4.4764, -5.4398, -5.4925, -5.4915, -4.139, -4.5347, -4.7661, -4.7541, -4.8187, -4.9463, -4.9659, -5.008, -5.0527, -5.0042, -5.0635, -5.1491, -5.1661, -5.178, -5.1838, -5.2681, -5.3068, -5.3537, -5.3589, -5.3729, -5.3963, -5.3973, -5.4086, -5.4211, -5.4926, -5.5311, -5.5731, -5.6197, -5.6224, -5.625, -4.7814, -4.8925, -5.3473, -4.9961, -4.9151, -5.3628, -4.9737, -5.1078, -5.2379, -5.2608, -3.2761, -3.9054, -3.9183, -4.1267, -4.3114, -4.3915, -4.4051, -4.4603, -4.6066, -4.8015, -4.9854, -5.0284, -5.1097, -5.112, -5.1516, -5.1543, -5.2009, -5.2786, -5.2815, -5.3435, -5.3518, -5.3813, -5.3829, -5.4507, -5.4501, -5.5052, -5.5209, -5.5187, -5.5496, -5.6146, -4.2979, -4.6005, -4.706, -4.8074, -4.9973, -4.7005, -5.2964, -4.8118, -5.3112, -3.8398, -4.1925, -4.2752, -4.4712, -4.6435, -4.709, -4.7233, -4.7439, -4.7964, -4.9919, -4.9992, -5.0667, -4.8952, -5.1371, -5.1754, -5.1897, -5.2306, -5.2339, -5.3423, -5.4495, -5.4675, -5.4687, -5.5499, -5.571, -5.5788, -5.6177, -5.6291, -5.645, -5.6541, -5.6922, -4.599, -5.0889, -4.6729, -5.3101, -4.9892], \"loglift\": [30.0, 29.0, 28.0, 27.0, 26.0, 25.0, 24.0, 23.0, 22.0, 21.0, 20.0, 19.0, 18.0, 17.0, 16.0, 15.0, 14.0, 13.0, 12.0, 11.0, 10.0, 9.0, 8.0, 7.0, 6.0, 5.0, 4.0, 3.0, 2.0, 1.0, 1.2912, 1.2872, 1.2853, 1.2852, 1.285, 1.2848, 1.284, 1.2839, 1.2837, 1.2823, 1.2821, 1.2817, 1.2814, 1.2814, 1.281, 1.2807, 1.2806, 1.2804, 1.2793, 1.2793, 1.2789, 1.2785, 1.2781, 1.2776, 1.2766, 1.2763, 1.2759, 1.2757, 1.2752, 1.2747, 1.272, 1.272, 1.2685, 1.2346, 1.1905, 1.2542, 1.1893, 1.2044, 1.1746, 1.2065, 1.2039, 1.1404, 1.0471, 1.0358, 0.9754, 1.1076, 1.162, 1.178, 0.7158, 1.0217, 0.8794, 1.0238, 1.0163, 0.8548, 0.9348, 0.6785, 1.0651, 0.7589, 0.6608, 0.6475, 0.8216, 0.9792, 0.4658, 0.5747, 0.2925, 0.4282, 0.7251, 0.2292, 0.5808, 0.3885, 0.0803, 0.5661, 0.3807, 0.2331, 0.288, 0.309, -0.0006, 0.1667, 0.2718, 0.3813, 0.2926, 0.1012, 0.2305, 0.1111, 0.2264, 1.4929, 1.49, 1.4895, 1.4888, 1.4886, 1.4883, 1.4879, 1.4865, 1.4859, 1.484, 1.4835, 1.4833, 1.4833, 1.4831, 1.4824, 1.4823, 1.4812, 1.4807, 1.4805, 1.4802, 1.4801, 1.4799, 1.4797, 1.4785, 1.4782, 1.4781, 1.4779, 1.4779, 1.4775, 1.4775, 1.4225, 1.4603, 1.4623, 1.3116, 1.3854, 1.4239, 1.3263, 1.0492, 1.0882, 1.3699, 1.1376, 1.1862, 1.0286, 1.154, 1.2963, 1.0293, 1.283, 1.1724, 1.1523, 0.9077, 0.8509, 0.8011, 0.8218, 0.827, 0.9244, 0.7562, 0.9137, 0.8434, 0.8921, 0.9609, 0.9342, 0.8478, 0.9648, 1.0935, 0.44, 0.7718, 0.5928, 0.7405, 0.4964, 0.4345, 0.5909, 0.0688, 0.4253, 0.134, 0.291, 0.3591, 0.3114, 1.7739, 1.7722, 1.7718, 1.7717, 1.7705, 1.77, 1.7691, 1.766, 1.766, 1.766, 1.7658, 1.7655, 1.7654, 1.7654, 1.7654, 1.7651, 1.7646, 1.7631, 1.7631, 1.7628, 1.7622, 1.7617, 1.7607, 1.7605, 1.7596, 1.7595, 1.7593, 1.7593, 1.7589, 1.7584, 1.7574, 1.7553, 1.7008, 1.7452, 1.6802, 1.7257, 1.685, 1.6436, 1.704, 1.6262, 1.6856, 1.5878, 1.6182, 1.5061, 1.3491, 1.4404, 0.7337, 1.6025, 1.4168, 1.0915, 1.4259, 1.529, 0.9126, 1.1166, 0.8469, 0.7924, 1.4088, 0.94, 1.1286, 0.8053, 0.5528, 0.6077, 0.7989, 1.0631, 0.4609, 0.2646, 0.3377, 0.7447, 0.7166, 0.2434, 0.2194, 0.6105, 0.1661, 0.5042, -0.0401, 0.0044, 0.4446, 0.1491, 0.211, 0.0556, 1.9124, 1.9123, 1.9113, 1.9106, 1.909, 1.9077, 1.907, 1.9064, 1.9059, 1.9048, 1.9046, 1.9044, 1.9042, 1.9038, 1.9038, 1.9009, 1.9002, 1.9001, 1.8982, 1.8982, 1.8971, 1.8968, 1.8968, 1.8967, 1.8963, 1.896, 1.8958, 1.8955, 1.8947, 1.8947, 1.8838, 1.6504, 1.7157, 1.7142, 1.7186, 1.6968, 1.6826, 1.5793, 1.533, 1.6929, 1.4241, 1.7105, 1.6606, 1.565, 1.3662, 1.4148, 1.5668, 1.6236, 1.6142, 1.3644, 1.6101, 1.6261, 1.2643, 1.0472, 1.7256, 1.2787, 0.8859, 1.1802, 0.9177, 0.8539, 0.6605, 0.9194, 0.7362, 0.7354, 0.5993, 0.6784, 0.951, 0.5379, 0.9762, 0.4758, 1.0026, -0.0183, 0.2907, 0.2783, 0.0304, 2.7405, 2.735, 2.7335, 2.732, 2.7318, 2.7312, 2.7291, 2.7273, 2.7267, 2.7259, 2.7258, 2.7228, 2.7214, 2.721, 2.7207, 2.7202, 2.7201, 2.7186, 2.7182, 2.7174, 2.716, 2.7153, 2.715, 2.715, 2.7145, 2.7141, 2.7127, 2.7124, 2.7111, 2.711, 2.7031, 2.6903, 2.6428, 2.6565, 2.4808, 2.4364, 2.6073, 2.6319, 2.5935, 2.3851, 2.3628, 2.2781, 2.3763, 2.138, 2.3196, 2.3835, 2.0966, 2.3153, 2.1248, 2.0021, 1.6092, 1.6214, 1.2447, 2.1978, 1.998, 1.4447, 1.801, 1.3933, 1.4421, 1.35, 1.7489, 1.2417, 1.2306, 0.87, 1.6314, 0.9994, 1.2589, 0.3462, 0.4596, 3.6716, 3.6698, 3.6683, 3.6679, 3.6677, 3.6673, 3.6667, 3.6653, 3.6651, 3.664, 3.6628, 3.6624, 3.6618, 3.6611, 3.6611, 3.659, 3.6589, 3.6583, 3.6583, 3.6578, 3.657, 3.6561, 3.6558, 3.6557, 3.6556, 3.6554, 3.6553, 3.6553, 3.655, 3.6549, 3.6114, 3.5867, 3.6272, 3.6485, 3.5904, 3.5754, 3.5496, 3.5373, 3.5378, 3.3792, 3.3236, 3.2091, 2.9867, 2.4315, 3.6831, 3.6806, 3.6802, 3.6798, 3.6783, 3.6782, 3.678, 3.6769, 3.6764, 3.6759, 3.6759, 3.675, 3.6749, 3.6748, 3.6746, 3.6742, 3.6741, 3.6739, 3.6733, 3.6731, 3.6725, 3.6725, 3.6715, 3.6707, 3.6706, 3.6706, 3.6704, 3.6704, 3.6687, 3.6684, 3.6414, 3.6407, 3.5666, 3.6153, 3.6106, 3.2472, 3.6019, 3.572, 3.502, 3.7127, 3.7108, 3.7093, 3.7093, 3.7089, 3.7079, 3.7077, 3.7073, 3.7069, 3.7068, 3.7068, 3.7059, 3.7057, 3.7056, 3.7055, 3.7046, 3.7041, 3.7035, 3.7035, 3.7033, 3.703, 3.7029, 3.7028, 3.7026, 3.7015, 3.701, 3.7004, 3.6996, 3.6995, 3.6995, 3.6686, 3.5885, 3.6534, 3.5205, 3.448, 3.5705, 3.038, 3.2094, 3.2023, 3.0321, 3.7599, 3.7584, 3.7583, 3.7576, 3.7568, 3.7564, 3.7563, 3.756, 3.7551, 3.7537, 3.7521, 3.7517, 3.7509, 3.7509, 3.7504, 3.7504, 3.7499, 3.7489, 3.7489, 3.7481, 3.748, 3.7476, 3.7476, 3.7466, 3.7464, 3.7457, 3.7455, 3.7455, 3.745, 3.7439, 3.6555, 3.6513, 3.622, 3.6285, 3.6031, 3.3288, 3.5491, 2.7468, 2.7575, 3.7699, 3.7686, 3.7683, 3.7673, 3.7662, 3.7658, 3.7657, 3.7655, 3.7651, 3.7634, 3.7634, 3.7627, 3.7624, 3.762, 3.7615, 3.7614, 3.7609, 3.7608, 3.7595, 3.758, 3.7577, 3.7577, 3.7564, 3.756, 3.7559, 3.7552, 3.755, 3.7547, 3.7546, 3.7539, 3.6836, 3.7028, 3.3822, 3.5893, 3.3952]}, \"token.table\": {\"Topic\": [4, 9, 1, 2, 4, 2, 3, 4, 5, 3, 1, 2, 3, 4, 5, 9, 1, 2, 3, 4, 5, 3, 5, 1, 2, 3, 4, 5, 1, 1, 2, 4, 5, 6, 1, 2, 3, 4, 5, 6, 7, 1, 2, 3, 4, 5, 7, 10, 5, 3, 3, 7, 8, 1, 6, 8, 1, 2, 7, 7, 1, 2, 3, 4, 2, 8, 9, 2, 8, 8, 4, 5, 5, 6, 3, 6, 7, 10, 6, 8, 2, 7, 9, 4, 4, 4, 1, 2, 1, 2, 3, 4, 5, 1, 3, 7, 6, 9, 1, 2, 3, 4, 5, 1, 2, 3, 4, 3, 1, 2, 3, 4, 5, 9, 3, 9, 2, 1, 2, 3, 4, 5, 2, 7, 8, 1, 4, 1, 2, 3, 4, 5, 2, 1, 2, 3, 4, 5, 10, 8, 9, 10, 2, 5, 6, 1, 2, 3, 4, 5, 1, 2, 3, 4, 5, 8, 9, 1, 1, 2, 3, 4, 5, 6, 6, 8, 4, 1, 2, 3, 4, 5, 1, 3, 4, 4, 5, 9, 10, 1, 2, 3, 4, 7, 2, 3, 10, 8, 3, 8, 1, 2, 3, 4, 3, 9, 1, 2, 3, 4, 5, 9, 5, 1, 2, 3, 4, 5, 9, 7, 1, 2, 3, 4, 5, 7, 1, 2, 3, 4, 5, 7, 7, 1, 2, 3, 4, 5, 4, 5, 6, 8, 9, 2, 10, 1, 5, 8, 2, 7, 2, 6, 8, 3, 4, 5, 1, 2, 3, 4, 5, 7, 3, 5, 6, 9, 1, 2, 3, 4, 5, 7, 7, 1, 2, 3, 4, 5, 9, 10, 3, 10, 1, 2, 3, 4, 5, 5, 4, 5, 7, 10, 7, 1, 2, 3, 4, 5, 2, 1, 2, 3, 4, 5, 1, 2, 3, 4, 5, 2, 3, 4, 6, 10, 7, 1, 1, 2, 10, 2, 1, 2, 3, 4, 2, 1, 2, 3, 4, 5, 7, 1, 2, 3, 4, 5, 1, 2, 3, 4, 5, 4, 8, 3, 2, 1, 5, 1, 2, 2, 10, 1, 1, 3, 8, 1, 1, 2, 4, 5, 7, 1, 2, 3, 4, 5, 1, 4, 1, 2, 3, 4, 5, 1, 2, 3, 4, 5, 3, 7, 10, 5, 6, 8, 2, 1, 3, 4, 4, 1, 2, 3, 4, 5, 6, 1, 2, 3, 4, 1, 2, 3, 4, 5, 1, 2, 3, 4, 3, 1, 2, 3, 4, 5, 8, 8, 3, 1, 8, 10, 2, 1, 6, 8, 6, 9, 2, 3, 9, 4, 1, 2, 3, 4, 5, 7, 1, 2, 3, 4, 1, 2, 3, 4, 5, 10, 1, 2, 4, 2, 9, 1, 2, 5, 5, 3, 8, 2, 3, 4, 5, 5, 9, 2, 7, 5, 1, 2, 3, 4, 5, 1, 2, 3, 4, 5, 1, 2, 3, 4, 5, 4, 6, 7, 4, 5, 1, 2, 4, 8, 10, 8, 1, 2, 3, 4, 2, 3, 4, 5, 6, 8, 10, 6, 3, 1, 2, 3, 4, 5, 4, 8, 8, 9, 1, 2, 3, 4, 5, 3, 5, 3, 6, 7, 10, 9, 1, 2, 3, 4, 5, 9, 8, 4, 5, 1, 2, 3, 4, 5, 4, 2, 4, 5, 1, 2, 3, 4, 5, 6, 1, 2, 3, 4, 5, 1, 5, 5, 7, 1, 5, 3, 7, 8, 1, 2, 3, 4, 5, 8, 6, 10, 7, 4, 6, 9, 3, 5, 6, 6, 8, 7, 6, 7, 1, 2, 3, 4, 5, 7, 10, 1, 2, 3, 4, 5, 6, 2, 7, 6, 1, 1, 3, 4, 5, 10, 1, 2, 3, 4, 5, 7, 10, 2, 8, 9, 8, 6, 2, 2, 8, 10, 9, 10, 1, 2, 3, 4, 5, 7, 1, 3, 4, 5, 1, 5, 1, 2, 3, 4, 5, 3, 10, 1, 2, 3, 4, 5, 7, 9, 1, 2, 3, 4, 1, 2, 4, 3, 3, 1, 2, 3, 4, 5, 1, 2, 3, 4, 1, 2, 3, 4, 2, 3, 7, 2, 7, 1, 2, 3, 4, 5, 1, 2, 3, 4, 5, 7, 1, 2, 3, 4, 5, 1, 2, 3, 4, 5, 1, 1, 2, 3, 4, 5, 1, 2, 3, 4, 5, 1, 2, 3, 4, 5, 1, 9, 10, 1, 3, 5, 6, 1, 2, 3, 4, 5, 7, 8, 3, 1, 2, 3, 4, 7, 6, 1, 2, 3, 4, 5, 7, 1, 2, 4, 7, 4, 1, 2, 3, 5, 6, 1, 3, 4, 4, 7, 1, 3, 4, 5, 8, 6, 7, 9, 2, 4, 1, 2, 4, 5, 1, 2, 3, 4, 5, 7, 1, 2, 3, 3, 10, 2, 8, 1, 2, 3, 4, 5, 7, 1, 2, 3, 4, 5, 1, 2, 3, 4, 5, 7, 8, 1, 2, 3, 4, 5, 3, 9, 10, 5, 9, 3, 9, 2, 9, 10, 1, 3, 5, 6, 7, 8, 5, 1, 2, 3, 4, 3, 3, 1, 2, 3, 4, 7, 2, 8, 6, 7, 8, 9, 3, 4, 4, 1, 2, 3, 4, 5, 7, 10, 3, 4, 10, 1, 2, 3, 4, 5, 10, 6, 8, 9, 1, 3, 1, 1, 2, 3, 4, 5, 7, 7, 8, 1, 6, 9, 1, 2, 3, 4, 5, 6, 5, 1, 2, 3, 4, 5, 8, 6, 2, 9, 9, 10, 1, 2, 3, 4, 5, 1, 2, 3, 4, 5, 8, 5, 1, 1, 2, 1, 4, 1, 2, 3, 4, 5, 8, 1, 10, 3, 4, 7, 10, 9, 5, 9, 3, 1, 2, 3, 4, 5, 10, 8, 4, 6, 4, 1, 2, 3, 4, 5, 2, 6, 1, 2, 3, 4, 5, 2, 3, 1, 2, 3, 4, 5, 7, 2, 3, 5, 7, 7, 8, 3, 9, 6, 3, 1, 2, 3, 4, 5, 1, 10, 1, 2, 3, 4, 5, 1, 2, 3, 4, 5, 1, 2, 3, 4, 5, 7, 3, 1, 2, 3, 4, 5, 7, 1, 2, 4, 1, 2, 5, 5, 5, 3, 2, 5, 2, 2, 6, 7, 3, 8, 5, 1, 2, 3, 4, 5, 2, 5, 10, 10, 1, 2, 3, 5, 1, 2, 3, 4, 5, 7, 1, 2, 3, 4, 5, 7, 1, 2, 3, 4, 5, 9, 1, 2, 3, 4, 5, 6, 9, 7, 10, 9, 1, 2, 4, 1, 2, 3, 4, 5, 8, 9, 3, 1, 2, 3, 4, 5, 1, 2, 3, 4, 5, 5, 6, 1, 2, 3, 4, 5, 1, 2, 3, 4, 5, 7, 1, 2, 3, 4, 5, 1, 2, 3, 4, 5, 7, 6, 4, 3, 5, 7, 8, 1, 2, 3, 4, 5, 8, 9, 10, 6, 4, 1, 2, 4, 2, 1, 2, 3, 4, 5, 1, 2, 3, 4, 7, 8, 5, 1, 4, 1, 1, 2, 3, 4, 5, 7, 7, 9, 10, 1, 2, 3, 4, 1, 2, 3, 4, 5, 1, 2, 3, 4, 5, 4, 7, 7, 1, 9, 10, 3, 1, 6, 6, 1, 2, 3, 4, 5, 3, 1, 2, 3, 5, 1, 10, 2, 6, 2, 10, 10, 9, 9, 10, 1, 2, 3, 4, 5, 6, 1, 2, 3, 4, 5, 5, 7, 1, 2, 3, 4, 1, 2, 9, 1, 2, 3, 4, 5, 8, 7, 1, 3, 9, 1, 2, 3, 4, 5, 1, 2, 4, 7, 3, 5, 2, 1, 1, 5, 8, 9, 3, 8, 3, 6, 7, 1, 9, 5, 6, 2, 6, 7], \"Freq\": [0.9895734076290333, 0.997584396901981, 0.9024180298958862, 0.05570481666023988, 0.04085019888417592, 0.08127589973764392, 0.17609778276489516, 0.05418393315842928, 0.6854267544541304, 0.9900457055545774, 0.09740172914418582, 0.12005329406143835, 0.21745502320562415, 0.04077281685105453, 0.5243837278343958, 0.9840455590398254, 0.056821925542369055, 0.06734450434651147, 0.1536296505404793, 0.021045157608284838, 0.6986992325950565, 0.048931204601728714, 0.94971019840628, 0.01512478802850544, 0.06428034912114812, 0.8621129176248101, 0.011343591021379081, 0.045374364085516324, 0.9991708917173, 0.8795082087483616, 0.10219637636864765, 0.015484299449795097, 0.0030968598899590197, 0.9837225686081282, 0.401975634907715, 0.3481566221771797, 0.20908448308588493, 0.01762215461088324, 0.02238489910031114, 0.9895892354088006, 0.9862421217128243, 0.48378742329592767, 0.012615056670037228, 0.15264218570745045, 0.09082840802426805, 0.259239414569265, 0.9272412507785819, 0.056935866275877836, 0.9895168405911585, 0.9866094320274864, 0.8561868506539304, 0.05804656614602918, 0.08223263537354135, 0.9903531733361836, 0.9819034855957104, 0.9881635668886293, 0.8888845281393354, 0.10824055139704085, 0.9813930444603024, 0.9934335596298968, 0.29774769396668405, 0.639490320305196, 0.0033361086158732105, 0.05900742114325741, 0.9879344201759057, 0.9811281565191133, 0.9845854694324718, 0.8932520542236769, 0.10243716218161432, 0.9916959120902407, 0.9735559282077545, 0.9837383671971702, 0.985755616511508, 0.990178162866747, 0.6942735186432395, 0.13418731872936562, 0.07292789061378567, 0.0991819312347485, 0.9385061869390265, 0.059363343149757705, 0.8078497597429029, 0.05680193623192285, 0.13253785120782, 0.9816938348466466, 0.9882891656306034, 0.9700545640202325, 0.9866030769310475, 0.989253804200038, 0.06590548506263437, 0.28147134245500094, 0.13730309388048825, 0.12494581543124432, 0.3899407866205866, 0.944533498233164, 0.0331073597318841, 0.019474917489343588, 0.955025583154012, 0.035903217411804966, 0.18891882496235202, 0.038120118983501296, 0.00868914476829809, 0.7632432646476032, 0.0005605899850514897, 0.14199115868715714, 0.02839823173743143, 0.013252508144134667, 0.814082643139701, 0.9913789381267712, 0.15037836662919518, 0.7091527184197836, 0.07756357857716382, 0.026909812975750715, 0.034824463850971515, 0.9930564582522934, 0.34805696625635574, 0.6486516189322994, 0.995714540221993, 0.3606050847352898, 0.24347862784685306, 0.16806844327484585, 0.16887067928093105, 0.058563228444218365, 0.363889861473751, 0.029827037825717297, 0.5965407565143459, 0.18551557753909687, 0.8088479180704623, 0.3498975379398824, 0.08545055553801754, 0.08185263741010101, 0.3993689121987346, 0.08275211694208015, 0.9884029615851945, 0.34582967632408146, 0.22347128117415047, 0.15186604671341916, 0.23566777715372558, 0.04249101825142298, 0.9846829298049661, 0.10385475319730579, 0.05664804719853043, 0.8308380255784463, 0.1571522969345468, 0.13404166503240755, 0.7025632098250327, 0.3109010153349109, 0.5646310908972024, 0.07568343455613417, 0.04628123695878709, 0.0021779405627664512, 0.8598728863508318, 0.11167180342218595, 0.007976557387298995, 0.014357803297138193, 0.004785934432379397, 0.9822238492605706, 0.9950901863231599, 0.9879623220495836, 0.14222840080047525, 0.4698719637780883, 0.2147821599132683, 0.13531851898020925, 0.03742852652644086, 0.9828357975714481, 0.04217196181982932, 0.9518814239332904, 0.9830120015820761, 0.3069331301922979, 0.2997633907773499, 0.2109951884970413, 0.1239340670298155, 0.05804074764481718, 0.9630624774979016, 0.005698594541407702, 0.028492972707038513, 0.9790917115797491, 0.12263545358678421, 0.8691121275932968, 0.9825970796611163, 0.7974090072891316, 0.14348657653285257, 0.028226867514659526, 0.028226867514659526, 0.9933628667434047, 0.9836835201931713, 0.994847418694141, 0.9949489194948781, 0.984028787909085, 0.9959643385076741, 0.9966785765602135, 0.1292627038260227, 0.00833952927909824, 0.0729708811921096, 0.7880855168747836, 0.9498253771733289, 0.04432518426808868, 0.3445523049636474, 0.16742330311613854, 0.13062252875969263, 0.28874453725826793, 0.06834429523339955, 0.9927062575799961, 0.9912266044868838, 0.29462173147691184, 0.2047472234910256, 0.26426676520353304, 0.18689136097727335, 0.0488060242042561, 0.9962320182108453, 0.9924146157022982, 0.3244561345593876, 0.3460211948624285, 0.13494499856296785, 0.10292415144633142, 0.0911613912810364, 0.00032674333792486165, 0.2744963913565207, 0.499148773611298, 0.0675610739483347, 0.14386256655432111, 0.014409879408560899, 0.00023622753128788357, 0.9941525326023402, 0.3393731220738127, 0.051292418036000674, 0.005621086908054868, 0.6028615708888847, 0.0007026358635068585, 0.9858208031630347, 0.6986914766145177, 0.1737078256776425, 0.12352556492632358, 0.9790479243944382, 0.9900753724651984, 0.9900008707182125, 0.986730153753794, 0.9735946670676673, 0.9922714131986421, 0.9805370536525478, 0.9832139504274333, 0.09387728595531751, 0.13805483228723164, 0.7620626742255187, 0.1708481459194126, 0.8177931251342551, 0.009111901115702006, 0.11946635363861935, 0.23557271608115252, 0.29455922819022085, 0.19599948643835985, 0.1538129303097224, 0.00037333235512068544, 0.7830137295751489, 0.12919726537989956, 0.08613151025326637, 0.9874138326485302, 0.22470187607529585, 0.08486447001620501, 0.21611235481859492, 0.15117557411793603, 0.32193525670115014, 0.0013743234010721458, 0.9857449882773335, 0.05653390673612748, 0.41835090984734336, 0.5047670244297097, 0.005653390673612748, 0.014537290303575638, 0.8942864769352585, 0.09881618529671365, 0.32061281110056195, 0.6777511323265043, 0.2775104010945003, 0.052033200205218816, 0.27484203185320705, 0.06670923103233181, 0.32954360129971916, 0.9701339828629332, 0.9817561858520514, 0.9664197322725211, 0.993486838253978, 0.9809000896711308, 0.9837591116212282, 0.06109222470892862, 0.5587066704149882, 0.3738635289879734, 0.0010443115334859594, 0.004699401900686817, 0.9929228825365757, 0.06511696653235415, 0.17972282762929745, 0.705867917210719, 0.031256143935529994, 0.015628071967764997, 0.11339741122573102, 0.06119860288372785, 0.007199835633379747, 0.8153813854802563, 0.0017999589083449368, 0.06933196222111346, 0.762651584432248, 0.13589064595338238, 0.0027732784888445383, 0.027732784888445383, 0.9895153020005362, 0.9844277804959701, 0.04585986750888474, 0.03566878584024369, 0.9121018093433743, 0.9865663710520575, 0.2507609601202305, 0.7238277359498854, 0.007113786102701576, 0.01778446525675394, 0.9852026018536864, 0.4019564880613915, 0.14090087646022972, 0.09724753743420762, 0.033280268366373274, 0.3258873032239669, 0.00043221127748536726, 0.30407012224956725, 0.5120488205847691, 0.1332774886483493, 0.021061134008628035, 0.029288139480748362, 0.31736231809221677, 0.2243918017614046, 0.39483774836789354, 0.028120711729690093, 0.03443352456696746, 0.978408138275386, 0.9951284385721261, 0.9843600495528265, 0.9937658414750985, 0.9878973993247746, 0.00906327889288784, 0.020222087754052043, 0.9706602121944979, 0.9842348137801981, 0.9880869801365013, 0.9930390595956458, 0.9821722738545936, 0.9891066262783352, 0.9770314106978323, 0.9956164393468355, 0.07725657539918163, 0.8443040025767706, 0.07725657539918163, 0.9615183305809349, 0.03628371058795981, 0.7284385003217955, 0.18947822262705663, 0.017895165470333124, 0.05579080999574445, 0.007894925942794026, 0.9874232891653979, 0.9670580118659247, 0.043131129010746935, 0.10451004337219451, 0.20238452843504331, 0.10948671210420377, 0.5391391126343367, 0.23581721267262187, 0.3322536446920966, 0.3465684275699874, 0.02410910800486869, 0.061026179637323874, 0.9840759591694794, 0.9897652292199087, 0.9946529896308611, 0.9871966139179403, 0.9938155577432872, 0.9915489048053866, 0.9816152242642074, 0.0516393038852402, 0.7155732109811856, 0.23114736024821803, 0.9812631111936717, 0.5619465731340674, 0.3478554801593076, 0.04424776166409979, 0.03897206700414944, 0.006807347948323045, 0.9857416740729864, 0.5415603126633981, 0.34277950425804676, 0.01995634100132464, 0.09547739616320025, 0.197533229264361, 0.20584527108984155, 0.017113027287754046, 0.574508773231743, 0.004400492731136755, 0.1451025918006982, 0.13699126679320575, 0.006308808339160791, 0.7110928256568378, 0.9891705949962423, 0.037951283911728584, 0.03578263911677266, 0.3187907848585201, 0.05855340946380981, 0.5464984883288916, 0.9855285328319132, 0.9851810423618944, 0.9883982433065931, 0.9777317981443385, 0.019046723340474126, 0.9866671632512705, 0.9953541874596624, 0.9815691269537256, 0.8843962762286413, 0.10801786579891802, 0.9185296802618064, 0.07832423630139435, 0.471823360146536, 0.16303843858466688, 0.3631310677567581, 0.984622826465333, 0.3469558383570126, 0.18210206047609934, 0.17016094175635513, 0.26668498474095426, 0.033833169705941954, 0.9776863472998976, 0.7630341736172418, 0.20940903564109553, 0.018323290618595858, 0.007852838836541082, 0.33998533779462226, 0.5206862063075121, 0.04952542322205127, 0.04238662347833217, 0.047294548302139056, 0.9957471611274992, 0.9193069470741035, 0.07940857350141758, 0.9915394217163774, 0.990966412830342, 0.9785995691350365, 0.9924764311808872, 0.9873467502291265, 0.9890702055657459, 0.9776324862744217, 0.9284014821055127, 0.06427394876115088, 0.8810696304548983, 0.06019730394412349, 0.03283489306043099, 0.021889928706953995, 0.979437076621346, 0.9871469322976137, 0.9903765983535202, 0.9871057771114256, 0.973797838868676, 0.12528900138758645, 0.2400199408604886, 0.352815235649032, 0.058069340530763375, 0.22365494489272802, 0.7743256502786424, 0.14752777006316878, 0.05463991483821066, 0.009366842543693256, 0.014050263815539882, 0.14988913324181447, 0.11756010450338389, 0.2527542246822754, 0.1087430966656301, 0.37031432918565926, 0.9852729220185615, 0.11010100242330807, 0.8858126104057058, 0.09517117265305086, 0.8988388528343693, 0.06757409051324262, 0.6989091647369664, 0.23168259604540326, 0.0009653441501891801, 0.9860118572198462, 0.9874911341390417, 0.6997713171317541, 0.07083200068698384, 0.04884965564619575, 0.1783012431086145, 0.07038179181459456, 0.12240311619929489, 0.14076358362918912, 0.6517965937612453, 0.015300389524911862, 0.9807534397381991, 0.995260211528573, 0.9774028718525981, 0.9856014506502213, 0.6620091381178486, 0.28594635546975133, 0.04159219715923656, 0.004043685834925777, 0.006354363454883364, 0.9903982669113119, 0.9890359258988688, 0.11878961976174403, 0.8731037052488186, 0.25583172610659083, 0.12365200095151892, 0.21916251203131282, 0.3888642236820181, 0.01193881388497424, 0.07341811247476367, 0.9177264059345459, 0.11814776815667058, 0.8742934843593623, 0.9906772703830726, 0.9861282698999558, 0.9979376992839597, 0.09558543288326692, 0.043013444797470116, 0.6977736600478485, 0.15532632843530875, 0.007168907466245019, 0.9930845381970617, 0.9943760707271853, 0.9883323204679003, 0.969426284690234, 0.1460660280417491, 0.07419226821168208, 0.1935954498648579, 0.10896989393590804, 0.47645347242189584, 0.9765933598106482, 0.9923571107213481, 0.9888595645286435, 0.9811674149049525, 0.2949576090592468, 0.09984058333726921, 0.10155213619447954, 0.23048911810432435, 0.27327793953458257, 0.9863527713113144, 0.2786005930939986, 0.40514568176440524, 0.20005536564340143, 0.04867118795015639, 0.06713267303469846, 0.9915852124022781, 0.9758899965457355, 0.04195209147995937, 0.9544100811690757, 0.9796973042321521, 0.007965018733594733, 0.23307607577284972, 0.6438726593224974, 0.11945148883358549, 0.3743427143509713, 0.12652141096626174, 0.05944498039049758, 0.41772148382511815, 0.02168938473707344, 0.9876685644827665, 0.9730392459577119, 0.9776434707664942, 0.982440187709931, 0.9950518255902098, 0.8700418020103292, 0.11973052321243062, 0.9931834093046961, 0.9818878312993928, 0.9931590183882412, 0.988510071984544, 0.9896064931276386, 0.9936095834060075, 0.0653161074533931, 0.9144255043475034, 0.3682641772302566, 0.2661333754897597, 0.17925862712128718, 0.138999597389556, 0.04746327715740937, 0.0004237792603340122, 0.9810548433758606, 0.06661178892599369, 0.14925974926009697, 0.51685813999984, 0.13199002620520972, 0.13445712949876504, 0.9957021374792672, 0.9836321847079884, 0.9885913978494016, 0.9754652014362345, 0.9885487516750606, 0.2204586277430665, 0.06983472058941857, 0.7010858223878884, 0.006846541234256723, 0.9854547696285872, 0.40494465199253504, 0.30598457086043945, 0.13062730709436612, 0.055813485758501896, 0.10212680372832261, 0.00039584032452838225, 0.9896398417964221, 0.9643971049920538, 0.028364620735060405, 0.9878134930025152, 0.9934800291360215, 0.9887275500480114, 0.983381227557473, 0.9874378840012793, 0.05934820103824705, 0.9326145877438822, 0.898187130329499, 0.09531781791251825, 0.34111863644880136, 0.29598006451795805, 0.3121009830646878, 0.04255922496336652, 0.006448367418691897, 0.0012896734837383793, 0.2417874643112799, 0.036268119646691986, 0.7029106998192208, 0.018997586481600562, 0.9927029571615898, 0.9868751173516732, 0.4377284606772102, 0.19041567353549352, 0.040965921796480675, 0.3061064712014806, 0.024276101805321883, 0.9820755590401687, 0.991036916795125, 0.17774555552478152, 0.0033536897268826703, 0.09725700207959743, 0.026829517815061363, 0.6942137734647128, 0.14003886987074146, 0.8542371062115228, 0.12447461372794998, 0.06915256318219443, 0.004610170878812962, 0.799864647474049, 0.17050102092441083, 0.0902652463717469, 0.7371661787025997, 0.9805182377867699, 0.986721696712026, 0.23697412739465196, 0.17534618095146073, 0.011004990436284147, 0.5737268347449468, 0.002934664116342439, 0.24129114331293286, 0.07525011927047398, 0.003271744316107564, 0.6788869455923197, 0.3497414614792048, 0.5229778863240446, 0.008716298105400743, 0.11767002442291004, 0.9860018011533787, 0.1556038283788311, 0.8298870846870993, 0.06571756940333588, 0.929434195847179, 0.28901595071289893, 0.5879358748147134, 0.0720288973739312, 0.04411769964153286, 0.00630252852021898, 0.33346566137662353, 0.3124046722370473, 0.1965692319693781, 0.08556026837952842, 0.07064206773899526, 0.001316311821223514, 0.2047545689608512, 0.22216567176364466, 0.3767762646524507, 0.1149132784984369, 0.08148396111707344, 0.3681004639159677, 0.2560236992893166, 0.06480267907322952, 0.2836445133205292, 0.02708964453061234, 0.9887462265443482, 0.39247626357951093, 0.0734635057469341, 0.04126032514553833, 0.4770096126581748, 0.015095240906904266, 0.3664842928565292, 0.1680337901457568, 0.07529991037436784, 0.35535622728396254, 0.034497003274956695, 0.31951376300678197, 0.07320396187486919, 0.10937533127186339, 0.2704240473965756, 0.22650167027165408, 0.8902795902717857, 0.05490711129429516, 0.05098517477327407, 0.5028741511877232, 0.17800854909299935, 0.028184686939724896, 0.2877804877003489, 0.27394485424554244, 0.08423438031614273, 0.024171604786371394, 0.6086849568931705, 0.008423438031614274, 0.9973581510638642, 0.9907986512229656, 0.9879055038274579, 0.9162591217910016, 0.06877489776155217, 0.006655635267246984, 0.006655635267246984, 0.002218545089082328, 0.9860929525161958, 0.48796027642764817, 0.30435488428029583, 0.009373248247762733, 0.1968382132030174, 0.0005513675439860431, 0.0005513675439860431, 0.7586902811908416, 0.2309057377537344, 0.0082466334912048, 0.9841590448639577, 0.9797011536450176, 0.013563115561534618, 0.31776442172738245, 0.19375879373620883, 0.4747090446537116, 0.9868709556108257, 0.15530760408605196, 0.04437360116744342, 0.7955552780734498, 0.9908993440803944, 0.98797551926217, 0.38464501241673127, 0.06039880360262723, 0.5189528783225734, 0.03337828620145189, 0.0015894422000691376, 0.7420097826908975, 0.1994151290981787, 0.0510131725599992, 0.02490773977204221, 0.9589479812236251, 0.7639761638893372, 0.23066518010363288, 0.003271846526292665, 0.9835225180558045, 0.2602060063758507, 0.2783018677305262, 0.4218207681296764, 0.006239952191267403, 0.030575765737210273, 0.0024959808765069613, 0.7320436896245321, 0.16672199213961858, 0.09964992633632375, 0.9777046153192501, 0.9843327445664839, 0.4896545379566121, 0.509085273589811, 0.18118636759155393, 0.5246013524777754, 0.220655782144088, 0.03605080384325945, 0.036983152218516155, 0.0003107827917522366, 0.04883356939955189, 0.54636146469381, 0.280362139611545, 0.015511839691622365, 0.10800836526018535, 0.567423418213507, 0.37949278210119347, 0.029052079012531557, 0.018157549382832223, 0.0018157549382832223, 0.0036315098765664446, 0.9934300903895705, 0.12431478769920727, 0.04143826256640242, 0.10497693183488614, 0.14641519440128856, 0.5801356759296339, 0.8779207496364959, 0.05536437159869794, 0.06327356754136908, 0.9772527669535086, 0.9921238287201167, 0.9790506996511688, 0.9922630443249093, 0.6294902667699427, 0.36617407674852875, 0.9893500792443577, 0.07460257466932795, 0.04973504977955197, 0.8620741961789008, 0.9067873333993802, 0.09105814226604654, 0.9796731551673508, 0.9943502832178585, 0.11507270986572284, 0.09205816789257827, 0.017900199312445773, 0.7722657417655177, 0.9985555207438358, 0.9917461385888066, 0.21365597054625973, 0.014010227576803917, 0.021015341365205876, 0.7460446184648085, 0.9895179956337793, 0.9317331322017325, 0.06425745739322293, 0.23679932361527675, 0.12869528457351997, 0.5044855155281983, 0.12869528457351997, 0.8407274301068216, 0.15586519771643323, 0.9828452486832465, 0.16308113438204708, 0.18429494048052475, 0.49056926602729606, 0.10076557896776893, 0.060989692533123294, 0.890984563672724, 0.10023576341318147, 0.9827561610284474, 0.9722264600025181, 0.9786365763738425, 0.1471701845700429, 0.6650602011582952, 0.1522931973240634, 0.02701224906665345, 0.008383111779306243, 0.9901325896993264, 0.1118462983880152, 0.8823430206165643, 0.9899598065042833, 0.9854031673814656, 0.9905078830899882, 0.9925586638205759, 0.42154648698340313, 0.3208264315141214, 0.1232751258060321, 0.11316423220679918, 0.02061066772151325, 0.00038888052304741986, 0.9901702624638437, 0.9967397893060758, 0.9887118761254733, 0.9720618862717781, 0.013500859531552474, 0.06155626330543303, 0.4733763347150203, 0.4334948120100918, 0.005201937744121102, 0.02600968872060551, 0.9869836202143278, 0.9723474782816519, 0.19494869614722946, 0.36799707836263384, 0.113809828137517, 0.250956056366323, 0.07180430797319685, 0.9900800447732848, 0.985895863510677, 0.9892755092627262, 0.9873716486354619, 0.9902805598336057, 0.9741687277967783, 0.22570753988950584, 0.5699115382210023, 0.10438973719889645, 0.03808814735635411, 0.060658901345304696, 0.3309282337073499, 0.1543538164414378, 0.1674480990701459, 0.30553326133652214, 0.041663626545889385, 0.9932448974075958, 0.9657881101689803, 0.9913087076367723, 0.9946511219626359, 0.9773978785252483, 0.9845932321712768, 0.9795329321595465, 0.1929779858923744, 0.4729319654263823, 0.08221949398935668, 0.0027179998013010477, 0.24869698181904587, 0.9920647869082128, 0.9879713975432878, 0.9835403369458056, 0.9083588543369895, 0.08053490873503205, 0.001872904854303071, 0.007491619417212284, 0.9796595673619596, 0.9861499942472948, 0.9966772987992327, 0.9870863116776531, 0.2987730833474548, 0.24373593641502891, 0.19051320091993576, 0.043545874495985314, 0.22317260679192474, 0.9811682080801664, 0.9895134503527657, 0.987723189667337, 0.9890278656933539, 0.9855811945952904, 0.1621077137252814, 0.6267241240034384, 0.12977854004787487, 0.0184738135299466, 0.06234912066356977, 0.36498604427737236, 0.629468685058077, 0.24024921816005534, 0.5554236162208737, 0.12134621527406185, 0.04886424776136719, 0.03420497343295703, 0.08008665115215453, 0.9117557208091439, 0.5319185397710727, 0.15343804031857866, 0.1037533415487532, 0.15246383053877816, 0.057965481898129716, 0.0004871048899002497, 0.2512009984051008, 0.11267103604934668, 0.6280024960127519, 0.005541198494230164, 0.12697389175245535, 0.8595155749396979, 0.17892573731747308, 0.8051658179286288, 0.9849867043612226, 0.9888901523747468, 0.30853551426624326, 0.4846019762116538, 0.07433917282139557, 0.11402399440274207, 0.01844505791809063, 0.9776446165546627, 0.008501257535257937, 0.25670699060202756, 0.6682986459248315, 0.028682345318662296, 0.04445763524392656, 0.0014341172659331149, 0.03623982950363131, 0.027179872127723485, 0.07506821825752201, 0.09059957375907829, 0.7700963769521654, 0.6244069119950831, 0.1669107043336293, 0.03820847448601153, 0.14378452240788547, 0.024131668096428333, 0.001005486170684514, 0.9956579536671634, 0.5868044010553765, 0.26257245336480245, 0.04780342818514873, 0.09976367621248432, 0.002771213228124564, 0.000692803307031141, 0.9033735916597011, 0.08688081078009534, 0.00934202266452638, 0.7829659376855798, 0.143676789306529, 0.07256403500329747, 0.9874095144333302, 0.9982634522327505, 0.9849634066466646, 0.9791974505204921, 0.9820290946356461, 0.9969066379052206, 0.4488750286161093, 0.5035206842737225, 0.046839133420811405, 0.9974620742189568, 0.9948564211964936, 0.9767505947723971, 0.2846064650800874, 0.2319711875223434, 0.23723471527811776, 0.19362262815884415, 0.05188334502120484, 0.9871404806718836, 0.9054306803730441, 0.08623149336886135, 0.9941727830839187, 0.23925657766376413, 0.7331605069930549, 0.02378574163908766, 0.0027983225457750187, 0.18559535349868114, 0.15433718869890328, 0.37900524819730674, 0.0599114825329076, 0.22076078889843126, 0.0006512117666620391, 0.25002073078920073, 0.6269364053457847, 0.05528096560163232, 0.0596783151381258, 0.00753831349113168, 0.00062819279092764, 0.2698045923374077, 0.4044706322956585, 0.10915036922931905, 0.11812810522653577, 0.09828258354847776, 0.9793012961864755, 0.20263478734490273, 0.05934304486529294, 0.08539608895249472, 0.37921653060260363, 0.2721095715774408, 0.994047195444577, 0.9813433593002444, 0.9951675173259439, 0.9975333800930419, 0.986282641558973, 0.22354716368525387, 0.03193530909789341, 0.7418817959664469, 0.14884119282833924, 0.01617839052481948, 0.0841276307290613, 0.7344989298268044, 0.012942712419855585, 0.9402911637730751, 0.05223839798739306, 0.9868723179773062, 0.0913502621994193, 0.01566004494847188, 0.13572038955342297, 0.09918028467365524, 0.6551118803444069, 0.06662913437784848, 0.0439146567490365, 0.1362868657728719, 0.015142985085874656, 0.7359490751735083, 0.9651396901025817, 0.992329447000961, 0.3079434137133811, 0.09833487160595362, 0.05046131569252883, 0.5266091150476727, 0.015526558674624255, 0.0313206422498027, 0.2955034507916168, 0.6522864190284997, 0.004085301163017744, 0.013617670543392479, 0.0013617670543392478, 0.17349829969649402, 0.5096512553584512, 0.16265465596546316, 0.08179205557120434, 0.07187786701711896, 0.3455479806480916, 0.47721994801083806, 0.06522975915392044, 0.10669551683169144, 0.005334775841584572, 0.0002424898109811169, 0.9857415716145426, 0.9878506910545403, 0.237371143373284, 0.09494845734931359, 0.05802405726902498, 0.6013402298789862, 0.6456496265903896, 0.22870197770529146, 0.005779472360783539, 0.09907666904200352, 0.019815333808400705, 0.8242039160724687, 0.025756372377264646, 0.14166004807495555, 0.9966151471726479, 0.984700994850874, 0.8317854173841114, 0.1363582651449363, 0.02921962824534349, 0.9893466878916806, 0.3598046260364179, 0.23044629619951526, 0.31097399821718974, 0.07495929709092039, 0.02355863622857498, 0.2172540189265037, 0.7102046583620794, 0.005081965355005935, 0.06606554961507716, 0.0012704913387514838, 0.9920121586159805, 0.9738170858261584, 0.16874241928288727, 0.8212131071767181, 0.9901804477398573, 0.127350854535011, 0.22608353951159255, 0.5237125029192587, 0.07440724085191654, 0.0457890712934871, 0.001430908477921472, 0.9831135038811942, 0.9840662464934881, 0.9786600424691854, 0.03740205392654317, 0.12342677795759248, 0.8303255971692585, 0.003740205392654318, 0.29534156320395355, 0.14767078160197677, 0.13844135775185323, 0.2434260540470086, 0.1747822141617147, 0.525065864109118, 0.27307440733782046, 0.07429230199631881, 0.09135945245493259, 0.035640225957693485, 0.9888647666210671, 0.9834565069554885, 0.981279252335168, 0.9168719748022665, 0.031616274993181606, 0.04918087221161583, 0.981141288516654, 0.9943965302548896, 0.9914250577181634, 0.9948901912664733, 0.21925906273407259, 0.21319913888966355, 0.16471974813439122, 0.36745174583825735, 0.0347068365634336, 0.9951276714118011, 0.008766765398706909, 0.03945044429418109, 0.9117436014655186, 0.03068367889547418, 0.9892776551515096, 0.9892025542674714, 0.9808449384450845, 0.9858207651188186, 0.31027124498688535, 0.6825967389711477, 0.9820703427223788, 0.9812690640498213, 0.9888678077714722, 0.9908837597164235, 0.4911037122603351, 0.3483049084425386, 0.08133323173970151, 0.05463606406941782, 0.024213710212582895, 0.9952775308035138, 0.3360481595354671, 0.1670118865161207, 0.0921095858967696, 0.3669200537096591, 0.03795724693548198, 0.036560919472098864, 0.9597241361425951, 0.11941622251249943, 0.8315313108897897, 0.025197918511811808, 0.02191123348853201, 0.06558431776900923, 0.9280180964314806, 0.9857939282091455, 0.2504526440957405, 0.11285561085769935, 0.26868316584967655, 0.344209613115983, 0.023439242255060635, 0.9888784635195924, 0.9848242103159349, 0.985134826320306, 0.9656313799082437, 0.01771800697079346, 0.042798862084275704, 0.5859553299901746, 0.35639779699269586, 0.003890805644025064, 0.009337933545660154, 0.1518024616098446, 0.8197332926931609, 0.026987104286194597, 0.9889125181239395, 0.9958602778397635, 0.9869264938836442, 0.9880870162168996, 0.9935293729704991, 0.10354839909679413, 0.876178761588258, 0.015930522937968327, 0.9955905501900596, 0.9745738838500901, 0.010828598709445445, 0.9281564073993382, 0.07047605958762883, 0.989413286826312, 0.9856522447061137, 0.9904443227443365, 0.004161209655227799, 0.994529107599444, 0.0552854156146288, 0.9168164756092608, 0.0276427078073144], \"Term\": [\"\\u0430\\u0431\\u0430\", \"\\u0430\\u0431\\u0441\\u043e\\u043b\\u044e\\u0442\", \"\\u0430\\u0432\\u0430\\u043d\\u0433\\u0430\\u0440\\u0434\", \"\\u0430\\u0432\\u0430\\u043d\\u0433\\u0430\\u0440\\u0434\", \"\\u0430\\u0432\\u0430\\u043d\\u0433\\u0430\\u0440\\u0434\", \"\\u0430\\u0432\\u0442\\u043e\", \"\\u0430\\u0432\\u0442\\u043e\", \"\\u0430\\u0432\\u0442\\u043e\", \"\\u0430\\u0432\\u0442\\u043e\", \"\\u0430\\u0432\\u0442\\u043e\\u0438\\u043d\\u0444\\u043e\\u0440\\u043c\\u0430\\u0442\\u043e\\u0440\", \"\\u0430\\u0432\\u0442\\u043e\\u043a\\u0440\\u0435\\u0434\\u0438\\u0442\", \"\\u0430\\u0432\\u0442\\u043e\\u043a\\u0440\\u0435\\u0434\\u0438\\u0442\", \"\\u0430\\u0432\\u0442\\u043e\\u043a\\u0440\\u0435\\u0434\\u0438\\u0442\", \"\\u0430\\u0432\\u0442\\u043e\\u043a\\u0440\\u0435\\u0434\\u0438\\u0442\", \"\\u0430\\u0432\\u0442\\u043e\\u043a\\u0440\\u0435\\u0434\\u0438\\u0442\", \"\\u0430\\u0432\\u0442\\u043e\\u043c\\u0430\\u0442\\u0438\\u0437\\u0430\\u0446\\u0438\\u044f\", \"\\u0430\\u0432\\u0442\\u043e\\u043c\\u043e\\u0431\\u0438\\u043b\\u044c\", \"\\u0430\\u0432\\u0442\\u043e\\u043c\\u043e\\u0431\\u0438\\u043b\\u044c\", \"\\u0430\\u0432\\u0442\\u043e\\u043c\\u043e\\u0431\\u0438\\u043b\\u044c\", \"\\u0430\\u0432\\u0442\\u043e\\u043c\\u043e\\u0431\\u0438\\u043b\\u044c\", \"\\u0430\\u0432\\u0442\\u043e\\u043c\\u043e\\u0431\\u0438\\u043b\\u044c\", \"\\u0430\\u0432\\u0442\\u043e\\u0441\\u0430\\u043b\\u043e\\u043d\", \"\\u0430\\u0432\\u0442\\u043e\\u0441\\u0430\\u043b\\u043e\\u043d\", \"\\u0430\\u0433\\u0435\\u043d\\u0442\\u0441\\u0442\\u0432\\u043e\", \"\\u0430\\u0433\\u0435\\u043d\\u0442\\u0441\\u0442\\u0432\\u043e\", \"\\u0430\\u0433\\u0435\\u043d\\u0442\\u0441\\u0442\\u0432\\u043e\", \"\\u0430\\u0433\\u0435\\u043d\\u0442\\u0441\\u0442\\u0432\\u043e\", \"\\u0430\\u0433\\u0435\\u043d\\u0442\\u0441\\u0442\\u0432\\u043e\", \"\\u0430\\u0434\\u043c\\u0438\\u043d\", \"\\u0430\\u043a\\u0442\\u0438\\u0432\\u0430\\u0446\\u0438\\u044f\", \"\\u0430\\u043a\\u0442\\u0438\\u0432\\u0430\\u0446\\u0438\\u044f\", \"\\u0430\\u043a\\u0442\\u0438\\u0432\\u0430\\u0446\\u0438\\u044f\", \"\\u0430\\u043a\\u0442\\u0438\\u0432\\u0430\\u0446\\u0438\\u044f\", \"\\u0430\\u043b\\u0433\\u043e\\u0440\\u0438\\u0442\\u043c\", \"\\u0430\\u043b\\u044c\\u0444\\u0430\", \"\\u0430\\u043b\\u044c\\u0444\\u0430\", \"\\u0430\\u043b\\u044c\\u0444\\u0430\", \"\\u0430\\u043b\\u044c\\u0444\\u0430\", \"\\u0430\\u043b\\u044c\\u0444\\u0430\", \"\\u0430\\u043c\\u0435\\u0440\\u0438\\u043a\\u0430\", \"\\u0430\\u043d\\u0433\\u043b\\u0438\\u044f\", \"\\u0430\\u043d\\u043a\\u0435\\u0442\\u0430\", \"\\u0430\\u043d\\u043a\\u0435\\u0442\\u0430\", \"\\u0430\\u043d\\u043a\\u0435\\u0442\\u0430\", \"\\u0430\\u043d\\u043a\\u0435\\u0442\\u0430\", \"\\u0430\\u043d\\u043a\\u0435\\u0442\\u0430\", \"\\u0430\\u0440\\u0445\\u0438\\u0432\", \"\\u0430\\u0440\\u0445\\u0438\\u0432\", \"\\u0430\\u0448\\u0430\\u043d\", \"\\u0431\\u0430\\u0431\\u043a\\u0430\", \"\\u0431\\u0430\\u0431\\u0443\\u0448\\u043a\\u0430\", \"\\u0431\\u0430\\u0431\\u0443\\u0448\\u043a\\u0430\", \"\\u0431\\u0430\\u0431\\u0443\\u0448\\u043a\\u0430\", \"\\u0431\\u0430\\u043a\\u0441\", \"\\u0431\\u0430\\u043b\", \"\\u0431\\u0430\\u043b\\u0430\\u0448\\u0438\\u0445\\u0430\", \"\\u0431\\u0430\\u043d\\u043a\\u0438\\u043d\\u0433\", \"\\u0431\\u0430\\u043d\\u043a\\u0438\\u043d\\u0433\", \"\\u0431\\u0430\\u043d\\u043a\\u043d\\u043e\\u0442\", \"\\u0431\\u0430\\u043d\\u043a\\u043d\\u043e\\u0442\\u0430\", \"\\u0431\\u0430\\u043d\\u043a\\u043e\\u043c\\u0430\\u0442\", \"\\u0431\\u0430\\u043d\\u043a\\u043e\\u043c\\u0430\\u0442\", \"\\u0431\\u0430\\u043d\\u043a\\u043e\\u043c\\u0430\\u0442\", \"\\u0431\\u0430\\u043d\\u043a\\u043e\\u043c\\u0430\\u0442\", \"\\u0431\\u0430\\u0440\\u043a\\u043b\\u0430\\u0439\\u0441\", \"\\u0431\\u0430\\u0440\\u043d\\u0430\\u0443\\u043b\", \"\\u0431\\u0430\\u0440\\u0441\", \"\\u0431\\u0435\\u0437\\u043d\\u0430\\u043b\", \"\\u0431\\u0435\\u0437\\u043d\\u0430\\u043b\", \"\\u0431\\u0435\\u043b\\u044f\\u0435\\u0432\\u043e\", \"\\u0431\\u043b\\u0438\\u0446\", \"\\u0431\\u0440\\u043e\\u043a\\u0435\\u0440\", \"\\u0431\\u0440\\u043e\\u0448\\u044e\\u0440\\u0430\", \"\\u0431\\u0440\\u043e\\u0448\\u044e\\u0440\\u043a\\u0430\", \"\\u0431\\u0443\\u043a\\u0432\\u0430\", \"\\u0431\\u0443\\u043a\\u0432\\u0430\", \"\\u0431\\u0443\\u043a\\u0432\\u0430\", \"\\u0431\\u0443\\u043a\\u0432\\u0430\", \"\\u0431\\u0443\\u043a\\u043b\\u0435\\u0442\", \"\\u0431\\u0443\\u043a\\u043b\\u0435\\u0442\", \"\\u0431\\u0443\\u043b\\u044c\\u0432\\u0430\\u0440\", \"\\u0431\\u0443\\u043b\\u044c\\u0432\\u0430\\u0440\", \"\\u0431\\u0443\\u043b\\u044c\\u0432\\u0430\\u0440\", \"\\u0431\\u0443\\u0442\\u044b\\u043b\\u043a\\u0430\", \"\\u0431\\u044b\\u0441\\u0442\\u0440\\u043e\\u0442\\u0430\", \"\\u0432\\u0430\\u0440\\u0448\\u0430\\u0432\\u043a\\u0430\", \"\\u0432\\u0435\\u0441\\u0442\\u0435\\u0440\\u043d\", \"\\u0432\\u0435\\u0441\\u0442\\u0438\\u0431\\u044e\\u043b\\u044c\", \"\\u0432\\u0437\\u043d\\u043e\\u0441\", \"\\u0432\\u0437\\u043d\\u043e\\u0441\", \"\\u0432\\u0437\\u043d\\u043e\\u0441\", \"\\u0432\\u0437\\u043d\\u043e\\u0441\", \"\\u0432\\u0437\\u043d\\u043e\\u0441\", \"\\u0432\\u0438\\u0437\\u0430\", \"\\u0432\\u0438\\u0437\\u0430\", \"\\u0432\\u0438\\u0437\\u0430\", \"\\u0432\\u0438\\u0437\\u0438\\u0442\\u043a\\u0430\", \"\\u0432\\u0438\\u0437\\u0438\\u0442\\u043a\\u0430\", \"\\u0432\\u043a\\u043b\\u0430\\u0434\", \"\\u0432\\u043a\\u043b\\u0430\\u0434\", \"\\u0432\\u043a\\u043b\\u0430\\u0434\", \"\\u0432\\u043a\\u043b\\u0430\\u0434\", \"\\u0432\\u043a\\u043b\\u0430\\u0434\", \"\\u0432\\u043a\\u043b\\u0430\\u0434\\u0447\\u0438\\u043a\", \"\\u0432\\u043a\\u043b\\u0430\\u0434\\u0447\\u0438\\u043a\", \"\\u0432\\u043a\\u043b\\u0430\\u0434\\u0447\\u0438\\u043a\", \"\\u0432\\u043a\\u043b\\u0430\\u0434\\u0447\\u0438\\u043a\", \"\\u0432\\u043d\\u0438\\u043c\\u0430\\u0442\\u0435\\u043b\\u044c\\u043d\\u043e\\u0441\\u0442\\u044c\", \"\\u0432\\u043e\\u0437\\u0432\\u0440\\u0430\\u0442\", \"\\u0432\\u043e\\u0437\\u0432\\u0440\\u0430\\u0442\", \"\\u0432\\u043e\\u0437\\u0432\\u0440\\u0430\\u0442\", \"\\u0432\\u043e\\u0437\\u0432\\u0440\\u0430\\u0442\", \"\\u0432\\u043e\\u0437\\u0432\\u0440\\u0430\\u0442\", \"\\u0432\\u043e\\u0437\\u0440\\u043e\\u0436\\u0434\\u0435\\u043d\\u0438\\u0435\", \"\\u0432\\u043e\\u043a\\u0437\\u0430\\u043b\", \"\\u0432\\u043e\\u043a\\u0437\\u0430\\u043b\", \"\\u0432\\u043e\\u043b\\u043e\\u043a\\u0438\\u0442\\u0430\", \"\\u0432\\u043e\\u043f\\u0440\\u043e\\u0441\", \"\\u0432\\u043e\\u043f\\u0440\\u043e\\u0441\", \"\\u0432\\u043e\\u043f\\u0440\\u043e\\u0441\", \"\\u0432\\u043e\\u043f\\u0440\\u043e\\u0441\", \"\\u0432\\u043e\\u043f\\u0440\\u043e\\u0441\", \"\\u0432\\u043e\\u0441\\u0442\\u043e\\u0440\\u0433\", \"\\u0432\\u043e\\u0441\\u0442\\u043e\\u0440\\u0433\", \"\\u0432\\u043e\\u0441\\u0442\\u043e\\u0440\\u0433\", \"\\u0432\\u043e\\u0441\\u0442\\u0440\\u0435\\u0431\\u043e\\u0432\\u0430\\u043d\\u0438\\u0435\", \"\\u0432\\u043e\\u0441\\u0442\\u0440\\u0435\\u0431\\u043e\\u0432\\u0430\\u043d\\u0438\\u0435\", \"\\u0432\\u043f\\u0435\\u0447\\u0430\\u0442\\u043b\\u0435\\u043d\\u0438\\u0435\", \"\\u0432\\u043f\\u0435\\u0447\\u0430\\u0442\\u043b\\u0435\\u043d\\u0438\\u0435\", \"\\u0432\\u043f\\u0435\\u0447\\u0430\\u0442\\u043b\\u0435\\u043d\\u0438\\u0435\", \"\\u0432\\u043f\\u0435\\u0447\\u0430\\u0442\\u043b\\u0435\\u043d\\u0438\\u0435\", \"\\u0432\\u043f\\u0435\\u0447\\u0430\\u0442\\u043b\\u0435\\u043d\\u0438\\u0435\", \"\\u0432\\u0440\\u0430\\u0433\", \"\\u0432\\u0440\\u0435\\u043c\\u044f\", \"\\u0432\\u0440\\u0435\\u043c\\u044f\", \"\\u0432\\u0440\\u0435\\u043c\\u044f\", \"\\u0432\\u0440\\u0435\\u043c\\u044f\", \"\\u0432\\u0440\\u0435\\u043c\\u044f\", \"\\u0432\\u0441\\u043a\\u0438\\u0439\", \"\\u0432\\u0442\\u043e\\u0440\\u043e\\u0435\", \"\\u0432\\u0442\\u043e\\u0440\\u043e\\u0435\", \"\\u0432\\u0442\\u043e\\u0440\\u043e\\u0435\", \"\\u0432\\u044b\\u0432\\u0435\\u0441\\u043a\\u0430\", \"\\u0432\\u044b\\u0432\\u0435\\u0441\\u043a\\u0430\", \"\\u0432\\u044b\\u0432\\u0435\\u0441\\u043a\\u0430\", \"\\u0432\\u044b\\u043f\\u0438\\u0441\\u043a\\u0430\", \"\\u0432\\u044b\\u043f\\u0438\\u0441\\u043a\\u0430\", \"\\u0432\\u044b\\u043f\\u0438\\u0441\\u043a\\u0430\", \"\\u0432\\u044b\\u043f\\u0438\\u0441\\u043a\\u0430\", \"\\u0432\\u044b\\u043f\\u0438\\u0441\\u043a\\u0430\", \"\\u0432\\u044b\\u043f\\u0443\\u0441\\u043a\", \"\\u0432\\u044b\\u043f\\u0443\\u0441\\u043a\", \"\\u0432\\u044b\\u043f\\u0443\\u0441\\u043a\", \"\\u0432\\u044b\\u043f\\u0443\\u0441\\u043a\", \"\\u0432\\u044b\\u043f\\u0443\\u0441\\u043a\", \"\\u0432\\u044b\\u0440\\u0443\\u0447\\u043a\\u0430\", \"\\u0432\\u044b\\u0441\\u043a\\u0430\\u0437\\u044b\\u0432\\u0430\\u043d\\u0438\\u0435\", \"\\u0432\\u044b\\u0441\\u043e\\u0442\\u0430\", \"\\u0433\", \"\\u0433\", \"\\u0433\", \"\\u0433\", \"\\u0433\", \"\\u0433\\u0430\\u0433\\u0430\\u0440\\u0438\\u043d\", \"\\u0433\\u0435\\u0440\\u043c\\u0430\\u043d\\u0438\\u044f\", \"\\u0433\\u0435\\u0440\\u043c\\u0430\\u043d\\u0438\\u044f\", \"\\u0433\\u043b\\u043e\\u0431\\u044d\\u043a\\u0441\", \"\\u0433\\u043e\\u0434\", \"\\u0433\\u043e\\u0434\", \"\\u0433\\u043e\\u0434\", \"\\u0433\\u043e\\u0434\", \"\\u0433\\u043e\\u0434\", \"\\u0433\\u043e\\u043b\\u0434\", \"\\u0433\\u043e\\u043b\\u0434\", \"\\u0433\\u043e\\u043b\\u0434\", \"\\u0433\\u043e\\u0440\\u0431\\u0443\\u0448\\u043a\\u0430\", \"\\u0433\\u043e\\u0441\\u0442\\u0438\\u043d\\u0438\\u0446\\u0430\", \"\\u0433\\u043e\\u0441\\u0442\\u0438\\u043d\\u0438\\u0446\\u0430\", \"\\u0433\\u0440\\u0430\\u0431\\u0435\\u0436\", \"\\u0433\\u0440\\u0430\\u043d\\u0438\\u0446\\u0430\", \"\\u0433\\u0440\\u0430\\u043d\\u0438\\u0446\\u0430\", \"\\u0433\\u0440\\u0430\\u043d\\u0438\\u0446\\u0430\", \"\\u0433\\u0440\\u0430\\u043d\\u0438\\u0446\\u0430\", \"\\u0433\\u0440\\u0430\\u0444\", \"\\u0433\\u0440\\u0430\\u0444\\u0430\", \"\\u0433\\u0440\\u0435\\u0439\\u0441\", \"\\u0433\\u0440\\u0443\\u0431\\u043e\\u0441\\u0442\\u044c\", \"\\u0433\\u0440\\u044f\\u0437\\u044c\", \"\\u0433\\u0443\\u0442\\u0430\", \"\\u0434\\u0430\\u043b\\u044c\", \"\\u0434\\u0432\\u0435\\u0440\\u044c\", \"\\u0434\\u0432\\u0435\\u0440\\u044c\", \"\\u0434\\u0432\\u0435\\u0440\\u044c\", \"\\u0434\\u0432\\u0435\\u0440\\u044c\", \"\\u0434\\u0435\\u0432\\u0438\\u0446\\u0430\", \"\\u0434\\u0435\\u0432\\u0438\\u0446\\u0430\", \"\\u0434\\u0435\\u0432\\u0443\\u0448\\u043a\\u0430\", \"\\u0434\\u0435\\u0432\\u0443\\u0448\\u043a\\u0430\", \"\\u0434\\u0435\\u0432\\u0443\\u0448\\u043a\\u0430\", \"\\u0434\\u0435\\u0432\\u0443\\u0448\\u043a\\u0430\", \"\\u0434\\u0435\\u0432\\u0443\\u0448\\u043a\\u0430\", \"\\u0434\\u0435\\u0432\\u0447\\u043e\\u043d\\u043a\\u0430\", \"\\u0434\\u0435\\u0433\\u043e\\u0442\\u044c\", \"\\u0434\\u0435\\u043b\\u043e\", \"\\u0434\\u0435\\u043b\\u043e\", \"\\u0434\\u0435\\u043b\\u043e\", \"\\u0434\\u0435\\u043b\\u043e\", \"\\u0434\\u0435\\u043b\\u043e\", \"\\u0434\\u0435\\u043b\\u044c\\u0442\\u0430\", \"\\u0434\\u0435\\u043b\\u044c\\u0442\\u0430\\u043a\\u0440\\u0435\\u0434\\u0438\\u0442\", \"\\u0434\\u0435\\u043d\\u044c\", \"\\u0434\\u0435\\u043d\\u044c\", \"\\u0434\\u0435\\u043d\\u044c\", \"\\u0434\\u0435\\u043d\\u044c\", \"\\u0434\\u0435\\u043d\\u044c\", \"\\u0434\\u0435\\u043d\\u044c\", \"\\u0434\\u0435\\u043d\\u044c\\u0433\\u0438\", \"\\u0434\\u0435\\u043d\\u044c\\u0433\\u0438\", \"\\u0434\\u0435\\u043d\\u044c\\u0433\\u0438\", \"\\u0434\\u0435\\u043d\\u044c\\u0433\\u0438\", \"\\u0434\\u0435\\u043d\\u044c\\u0433\\u0438\", \"\\u0434\\u0435\\u043d\\u044c\\u0433\\u0438\", \"\\u0434\\u0435\\u043d\\u044e\\u0436\\u043a\\u0430\", \"\\u0434\\u0435\\u043f\\u043e\\u0437\\u0438\\u0442\", \"\\u0434\\u0435\\u043f\\u043e\\u0437\\u0438\\u0442\", \"\\u0434\\u0435\\u043f\\u043e\\u0437\\u0438\\u0442\", \"\\u0434\\u0435\\u043f\\u043e\\u0437\\u0438\\u0442\", \"\\u0434\\u0435\\u043f\\u043e\\u0437\\u0438\\u0442\", \"\\u0434\\u0435\\u043f\\u043e\\u0437\\u0438\\u0442\\u0430\\u0440\\u0438\\u0439\", \"\\u0434\\u0435\\u0442\\u0430\\u043b\\u044c\", \"\\u0434\\u0435\\u0442\\u0430\\u043b\\u044c\", \"\\u0434\\u0435\\u0442\\u0430\\u043b\\u044c\", \"\\u0434\\u0436\\u0438\", \"\\u0434\\u0436\\u0438\\u044f\", \"\\u0434\\u0438\\u0432\\u0430\\u043d\\u0447\\u0438\\u043a\", \"\\u0434\\u0438\\u0437\\u0430\\u0439\\u043d\", \"\\u0434\\u0438\\u043b\\u0435\\u0440\", \"\\u0434\\u0438\\u043d\\u0430\\u043c\\u043e\", \"\\u0434\\u0438\\u0440\\u0435\\u043a\\u0442\", \"\\u0434\\u0438\\u0441\\u0446\\u0438\\u043f\\u043b\\u0438\\u043d\\u0430\", \"\\u0434\\u043e\\u0431\\u0440\\u043e\\u0436\\u0435\\u043b\\u0430\\u0442\\u0435\\u043b\\u044c\\u043d\\u043e\\u0441\\u0442\\u044c\", \"\\u0434\\u043e\\u0431\\u0440\\u043e\\u0436\\u0435\\u043b\\u0430\\u0442\\u0435\\u043b\\u044c\\u043d\\u043e\\u0441\\u0442\\u044c\", \"\\u0434\\u043e\\u0431\\u0440\\u043e\\u0436\\u0435\\u043b\\u0430\\u0442\\u0435\\u043b\\u044c\\u043d\\u043e\\u0441\\u0442\\u044c\", \"\\u0434\\u043e\\u0432\\u0435\\u0440\\u0435\\u043d\\u043d\\u043e\\u0441\\u0442\\u044c\", \"\\u0434\\u043e\\u0432\\u0435\\u0440\\u0435\\u043d\\u043d\\u043e\\u0441\\u0442\\u044c\", \"\\u0434\\u043e\\u0432\\u0435\\u0440\\u0435\\u043d\\u043d\\u043e\\u0441\\u0442\\u044c\", \"\\u0434\\u043e\\u0433\\u043e\\u0432\\u043e\\u0440\", \"\\u0434\\u043e\\u0433\\u043e\\u0432\\u043e\\u0440\", \"\\u0434\\u043e\\u0433\\u043e\\u0432\\u043e\\u0440\", \"\\u0434\\u043e\\u0433\\u043e\\u0432\\u043e\\u0440\", \"\\u0434\\u043e\\u0433\\u043e\\u0432\\u043e\\u0440\", \"\\u0434\\u043e\\u0433\\u043e\\u0432\\u043e\\u0440\", \"\\u0434\\u043e\\u0437\\u0432\\u043e\\u043d\", \"\\u0434\\u043e\\u0437\\u0432\\u043e\\u043d\", \"\\u0434\\u043e\\u0437\\u0432\\u043e\\u043d\", \"\\u0434\\u043e\\u043a\", \"\\u0434\\u043e\\u043a\\u0443\\u043c\\u0435\\u043d\\u0442\", \"\\u0434\\u043e\\u043a\\u0443\\u043c\\u0435\\u043d\\u0442\", \"\\u0434\\u043e\\u043a\\u0443\\u043c\\u0435\\u043d\\u0442\", \"\\u0434\\u043e\\u043a\\u0443\\u043c\\u0435\\u043d\\u0442\", \"\\u0434\\u043e\\u043a\\u0443\\u043c\\u0435\\u043d\\u0442\", \"\\u0434\\u043e\\u043a\\u0443\\u043c\\u0435\\u043d\\u0442\", \"\\u0434\\u043e\\u043a\\u0443\\u043c\\u0435\\u043d\\u0442\\u043e\\u043e\\u0431\\u043e\\u0440\\u043e\\u0442\", \"\\u0434\\u043e\\u043b\\u0433\", \"\\u0434\\u043e\\u043b\\u0433\", \"\\u0434\\u043e\\u043b\\u0433\", \"\\u0434\\u043e\\u043b\\u0433\", \"\\u0434\\u043e\\u043b\\u0433\", \"\\u0434\\u043e\\u043b\\u0436\\u043d\\u043e\\u0435\", \"\\u0434\\u043e\\u043b\\u0436\\u043d\\u043e\\u0435\", \"\\u0434\\u043e\\u043b\\u043b\", \"\\u0434\\u043e\\u043b\\u043b\", \"\\u0434\\u043e\\u0445\\u043e\\u0434\", \"\\u0434\\u043e\\u0445\\u043e\\u0434\", \"\\u0434\\u043e\\u0445\\u043e\\u0434\", \"\\u0434\\u043e\\u0445\\u043e\\u0434\", \"\\u0434\\u043e\\u0445\\u043e\\u0434\", \"\\u0434\\u0443\\u0440\\u0434\\u043e\\u043c\", \"\\u0434\\u0443\\u0445\\u043e\\u0442\\u0430\", \"\\u0436\\u0443\\u043a\\u043e\\u0432\", \"\\u0436\\u0443\\u0440\\u043d\\u0430\\u043b\", \"\\u0437\\u0430\\u0432\\u0438\\u0441\\u0430\\u043d\\u0438\\u0435\", \"\\u0437\\u0430\\u0434\\u0430\\u0442\\u043e\\u043a\", \"\\u0437\\u0430\\u0434\\u043e\\u043b\\u0436\\u0435\\u043d\\u043d\\u043e\\u0441\\u0442\\u044c\", \"\\u0437\\u0430\\u0434\\u043e\\u043b\\u0436\\u0435\\u043d\\u043d\\u043e\\u0441\\u0442\\u044c\", \"\\u0437\\u0430\\u0434\\u043e\\u043b\\u0436\\u0435\\u043d\\u043d\\u043e\\u0441\\u0442\\u044c\", \"\\u0437\\u0430\\u0434\\u043e\\u043b\\u0436\\u0435\\u043d\\u043d\\u043e\\u0441\\u0442\\u044c\", \"\\u0437\\u0430\\u0434\\u043e\\u043b\\u0436\\u0435\\u043d\\u043d\\u043e\\u0441\\u0442\\u044c\", \"\\u0437\\u0430\\u0434\\u043e\\u043b\\u0436\\u043d\\u043e\\u0441\\u0442\\u044c\", \"\\u0437\\u0430\\u043a\\u043e\\u043d\", \"\\u0437\\u0430\\u043a\\u043e\\u043d\", \"\\u0437\\u0430\\u043a\\u043e\\u043d\", \"\\u0437\\u0430\\u043a\\u043e\\u043d\", \"\\u0437\\u0430\\u043a\\u043e\\u043d\", \"\\u0437\\u0430\\u043b\", \"\\u0437\\u0430\\u043b\", \"\\u0437\\u0430\\u043b\", \"\\u0437\\u0430\\u043b\", \"\\u0437\\u0430\\u043b\", \"\\u0437\\u0430\\u043b\\u043e\\u0433\", \"\\u0437\\u0430\\u043b\\u043e\\u0433\", \"\\u0437\\u0430\\u043b\\u043e\\u0433\", \"\\u0437\\u0430\\u043b\\u043e\\u0433\", \"\\u0437\\u0430\\u043b\\u043e\\u0433\", \"\\u0437\\u0430\\u043c\\u0438\\u043d\\u043a\\u0430\", \"\\u0437\\u0430\\u043c\\u043e\\u0440\\u043e\\u0447\\u043a\\u0430\", \"\\u0437\\u0430\\u0441\\u0442\\u0440\\u043e\\u0439\\u0449\\u0438\\u043a\", \"\\u0437\\u0430\\u0441\\u0442\\u0440\\u043e\\u0439\\u0449\\u0438\\u043a\", \"\\u0437\\u0430\\u0441\\u0442\\u0440\\u043e\\u0439\\u0449\\u0438\\u043a\", \"\\u0437\\u0430\\u0447\\u0435\\u0442\", \"\\u0437\\u0430\\u0447\\u0438\\u0441\\u043b\\u0435\\u043d\\u0438\\u0435\", \"\\u0437\\u0430\\u0447\\u0438\\u0441\\u043b\\u0435\\u043d\\u0438\\u0435\", \"\\u0437\\u0430\\u0447\\u0438\\u0441\\u043b\\u0435\\u043d\\u0438\\u0435\", \"\\u0437\\u0430\\u0447\\u0438\\u0441\\u043b\\u0435\\u043d\\u0438\\u0435\", \"\\u0437\\u0430\\u0448\\u0430\", \"\\u0437\\u0430\\u044f\\u0432\\u043a\\u0430\", \"\\u0437\\u0430\\u044f\\u0432\\u043a\\u0430\", \"\\u0437\\u0430\\u044f\\u0432\\u043a\\u0430\", \"\\u0437\\u0430\\u044f\\u0432\\u043a\\u0430\", \"\\u0437\\u0430\\u044f\\u0432\\u043a\\u0430\", \"\\u0437\\u0430\\u044f\\u0432\\u043a\\u0430\", \"\\u0437\\u0430\\u044f\\u0432\\u043b\\u0435\\u043d\\u0438\\u0435\", \"\\u0437\\u0430\\u044f\\u0432\\u043b\\u0435\\u043d\\u0438\\u0435\", \"\\u0437\\u0430\\u044f\\u0432\\u043b\\u0435\\u043d\\u0438\\u0435\", \"\\u0437\\u0430\\u044f\\u0432\\u043b\\u0435\\u043d\\u0438\\u0435\", \"\\u0437\\u0430\\u044f\\u0432\\u043b\\u0435\\u043d\\u0438\\u0435\", \"\\u0437\\u0432\\u043e\\u043d\\u043e\\u043a\", \"\\u0437\\u0432\\u043e\\u043d\\u043e\\u043a\", \"\\u0437\\u0432\\u043e\\u043d\\u043e\\u043a\", \"\\u0437\\u0432\\u043e\\u043d\\u043e\\u043a\", \"\\u0437\\u0432\\u043e\\u043d\\u043e\\u043a\", \"\\u0437\\u0435\\u043b\\u0435\\u043d\\u043e\\u0433\\u0440\\u0430\\u0434\", \"\\u0437\\u0435\\u043c\\u043b\\u044f\", \"\\u0438\\u0432\\u0430\\u043d\\u043e\\u0432\", \"\\u0438\\u0433\\u043e\\u0440\\u044c\", \"\\u0438\\u0437\\u0433\\u043e\\u0442\\u043e\\u0432\\u043b\\u0435\\u043d\\u0438\\u0435\", \"\\u0438\\u0437\\u0433\\u043e\\u0442\\u043e\\u0432\\u043b\\u0435\\u043d\\u0438\\u0435\", \"\\u0438\\u0437\\u043b\\u0438\\u0448\\u0435\\u043a\", \"\\u0438\\u0437\\u043b\\u0438\\u0448\\u0435\\u043a\", \"\\u0438\\u043a\\u0435\\u0430\", \"\\u0438\\u043a\\u0435\\u044f\", \"\\u0438\\u043c\\u043f\\u044d\\u043a\\u0441\", \"\\u0438\\u043c\\u043f\\u044d\\u043a\\u0441\\u0431\\u0430\\u043d\\u043a\", \"\\u0438\\u043d\\u0432\\u0435\\u0441\\u0442\\u0441\\u0431\\u0435\\u0440\\u0431\\u0430\\u043d\\u043a\", \"\\u0438\\u043d\\u0432\\u0435\\u0441\\u0442\\u0442\\u043e\\u0440\\u0433\\u0431\\u0430\\u043d\\u043a\", \"\\u0438\\u043d\\u0435\\u0442\", \"\\u0438\\u043d\\u043a\\u0430\\u0441\\u0441\\u0430\\u0446\\u0438\\u044f\", \"\\u0438\\u043d\\u043a\\u0430\\u0441\\u0441\\u0430\\u0446\\u0438\\u044f\", \"\\u0438\\u043d\\u043a\\u0430\\u0441\\u0441\\u0430\\u0446\\u0438\\u044f\", \"\\u0438\\u043d\\u0441\\u043f\\u0435\\u043a\\u0442\\u043e\\u0440\", \"\\u0438\\u043d\\u0441\\u043f\\u0435\\u043a\\u0442\\u043e\\u0440\", \"\\u0438\\u043d\\u0442\\u0435\\u0440\\u043d\\u0435\\u0442\", \"\\u0438\\u043d\\u0442\\u0435\\u0440\\u043d\\u0435\\u0442\", \"\\u0438\\u043d\\u0442\\u0435\\u0440\\u043d\\u0435\\u0442\", \"\\u0438\\u043d\\u0442\\u0435\\u0440\\u043d\\u0435\\u0442\", \"\\u0438\\u043d\\u0442\\u0435\\u0440\\u043d\\u0435\\u0442\", \"\\u0438\\u043d\\u0442\\u0435\\u0440\\u0444\\u0435\\u0439\\u0441\", \"\\u0438\\u043d\\u0442\\u0435\\u0440\\u044c\\u0435\\u0440\", \"\\u0438\\u043f\\u043e\\u0442\\u0435\\u043a\\u0430\", \"\\u0438\\u043f\\u043e\\u0442\\u0435\\u043a\\u0430\", \"\\u0438\\u043f\\u043e\\u0442\\u0435\\u043a\\u0430\", \"\\u0438\\u043f\\u043e\\u0442\\u0435\\u043a\\u0430\", \"\\u0438\\u043f\\u043e\\u0442\\u0435\\u043a\\u0430\", \"\\u0438\\u0441\\u0442\\u043e\\u0440\\u0438\\u044f\", \"\\u0438\\u0441\\u0442\\u043e\\u0440\\u0438\\u044f\", \"\\u0438\\u0441\\u0442\\u043e\\u0440\\u0438\\u044f\", \"\\u0438\\u0441\\u0442\\u043e\\u0440\\u0438\\u044f\", \"\\u0438\\u0441\\u0442\\u043e\\u0440\\u0438\\u044f\", \"\\u0438\\u0441\\u0445\\u043e\\u0434\", \"\\u0438\\u0442\\u0430\\u043b\\u0438\\u044f\", \"\\u043a\\u0430\\u0431\\u0438\\u043d\\u043a\\u0430\", \"\\u043a\\u0430\\u0434\\u0440\", \"\\u043a\\u0430\\u0437\\u0443\\u0441\", \"\\u043a\\u0430\\u043b\\u0438\\u043d\\u0438\\u043d\\u0433\\u0440\\u0430\\u0434\", \"\\u043a\\u0430\\u043c\\u043f\\u0430\\u043d\\u0438\\u044f\", \"\\u043a\\u0430\\u043f\\u0438\\u0442\\u0430\\u043b\", \"\\u043a\\u0430\\u043f\\u0438\\u0442\\u0430\\u043b\", \"\\u043a\\u0430\\u043f\\u0438\\u0442\\u0430\\u043b\", \"\\u043a\\u0430\\u0440\\u0434\\u0430\", \"\\u043a\\u0430\\u0440\\u0442\\u0430\", \"\\u043a\\u0430\\u0440\\u0442\\u0430\", \"\\u043a\\u0430\\u0440\\u0442\\u0430\", \"\\u043a\\u0430\\u0440\\u0442\\u0430\", \"\\u043a\\u0430\\u0440\\u0442\\u0430\", \"\\u043a\\u0430\\u0440\\u0442\\u0438\\u043d\\u043a\\u0430\", \"\\u043a\\u0430\\u0440\\u0442\\u043e\\u0447\\u043a\\u0430\", \"\\u043a\\u0430\\u0440\\u0442\\u043e\\u0447\\u043a\\u0430\", \"\\u043a\\u0430\\u0440\\u0442\\u043e\\u0447\\u043a\\u0430\", \"\\u043a\\u0430\\u0440\\u0442\\u043e\\u0447\\u043a\\u0430\", \"\\u043a\\u0430\\u0441\\u0441\\u0430\", \"\\u043a\\u0430\\u0441\\u0441\\u0430\", \"\\u043a\\u0430\\u0441\\u0441\\u0430\", \"\\u043a\\u0430\\u0441\\u0441\\u0430\", \"\\u043a\\u0430\\u0441\\u0441\\u0430\", \"\\u043a\\u0430\\u0441\\u0441\\u0438\\u0440\", \"\\u043a\\u0430\\u0441\\u0441\\u0438\\u0440\", \"\\u043a\\u0430\\u0441\\u0441\\u0438\\u0440\", \"\\u043a\\u0430\\u0441\\u0441\\u0438\\u0440\", \"\\u043a\\u0432\\u0430\\u0440\\u0442\\u0430\\u043b\", \"\\u043a\\u0432\\u0430\\u0440\\u0442\\u0438\\u0440\\u0430\", \"\\u043a\\u0432\\u0430\\u0440\\u0442\\u0438\\u0440\\u0430\", \"\\u043a\\u0432\\u0430\\u0440\\u0442\\u0438\\u0440\\u0430\", \"\\u043a\\u0432\\u0430\\u0440\\u0442\\u0438\\u0440\\u0430\", \"\\u043a\\u0432\\u0430\\u0440\\u0442\\u0438\\u0440\\u0430\", \"\\u043a\\u0432\\u0430\\u0440\\u0442\\u043f\\u043b\\u0430\\u0442\\u0430\", \"\\u043a\\u0432\\u0438\\u0442\\u043e\\u043a\", \"\\u043a\\u0435\\u0431\", \"\\u043a\\u0435\\u0448\", \"\\u043a\\u0435\\u0448\", \"\\u043a\\u0438\\u043f\\u0430\", \"\\u043a\\u0438\\u0442\", \"\\u043a\\u0438\\u0442\\u0430\\u0439\", \"\\u043a\\u043b\\u0430\\u0432\\u0438\\u0430\\u0442\\u0443\\u0440\\u0430\", \"\\u043a\\u043b\\u0430\\u0432\\u0438\\u0430\\u0442\\u0443\\u0440\\u0430\", \"\\u043a\\u043b\\u0430\\u0441\\u0441\", \"\\u043a\\u043b\\u0430\\u0441\\u0441\", \"\\u043a\\u043b\\u0430\\u0441\\u0441\\u0438\\u043a\", \"\\u043a\\u043b\\u0430\\u0441\\u0441\\u0438\\u043a\", \"\\u043a\\u043b\\u0430\\u0441\\u0441\\u0438\\u043a\", \"\\u043a\\u043b\\u0435\\u0440\\u043a\", \"\\u043a\\u043b\\u0438\\u0435\\u043d\\u0442\", \"\\u043a\\u043b\\u0438\\u0435\\u043d\\u0442\", \"\\u043a\\u043b\\u0438\\u0435\\u043d\\u0442\", \"\\u043a\\u043b\\u0438\\u0435\\u043d\\u0442\", \"\\u043a\\u043b\\u0438\\u0435\\u043d\\u0442\", \"\\u043a\\u043d\\u043e\\u043f\\u043e\\u0447\\u043a\\u0430\", \"\\u043a\\u043e\\u0434\", \"\\u043a\\u043e\\u0434\", \"\\u043a\\u043e\\u0434\", \"\\u043a\\u043e\\u0434\", \"\\u043a\\u043e\\u043c\\u0438\\u0441\\u0441\\u0438\\u044f\", \"\\u043a\\u043e\\u043c\\u0438\\u0441\\u0441\\u0438\\u044f\", \"\\u043a\\u043e\\u043c\\u0438\\u0441\\u0441\\u0438\\u044f\", \"\\u043a\\u043e\\u043c\\u0438\\u0441\\u0441\\u0438\\u044f\", \"\\u043a\\u043e\\u043c\\u0438\\u0441\\u0441\\u0438\\u044f\", \"\\u043a\\u043e\\u043c\\u0438\\u0442\\u0435\\u0442\", \"\\u043a\\u043e\\u043d\\u0432\\u0435\\u0440\\u0442\\u0430\\u0446\\u0438\\u044f\", \"\\u043a\\u043e\\u043d\\u0432\\u0435\\u0440\\u0442\\u0430\\u0446\\u0438\\u044f\", \"\\u043a\\u043e\\u043d\\u0434\\u0438\\u0446\\u0438\\u043e\\u043d\\u0435\\u0440\", \"\\u043a\\u043e\\u043d\\u043d\\u0435\\u043a\\u0442\", \"\\u043a\\u043e\\u043d\\u0441\\u0442\\u0430\\u043d\\u0442\\u0438\\u043d\", \"\\u043a\\u043e\\u043d\\u0442\\u0438\\u043d\\u0435\\u043d\\u0442\", \"\\u043a\\u043e\\u043d\\u0442\\u0440\\u0430\\u043a\\u0442\", \"\\u043a\\u043e\\u043d\\u0442\\u0440\\u043e\\u043b\\u0435\\u0440\", \"\\u043a\\u043e\\u043d\\u0444\\u0435\\u0442\\u0430\", \"\\u043a\\u043e\\u043e\\u0440\\u0434\\u0438\\u043d\\u0430\\u0442\\u0430\", \"\\u043a\\u043e\\u043e\\u0440\\u0434\\u0438\\u043d\\u0430\\u0442\\u0430\", \"\\u043a\\u043e\\u043f\\u0430\", \"\\u043a\\u043e\\u043f\\u0430\", \"\\u043a\\u043e\\u043f\\u0430\", \"\\u043a\\u043e\\u043f\\u0430\", \"\\u043a\\u043e\\u0440\\u0437\\u0438\\u043d\\u0430\", \"\\u043a\\u043e\\u0440\\u043e\\u0431\\u043e\\u0447\\u043a\\u0430\", \"\\u043a\\u043e\\u0440\\u043e\\u043b\\u0435\\u0432\\u0430\", \"\\u043a\\u043e\\u0440\\u0440\\u0435\\u0441\\u043f\\u043e\\u043d\\u0434\\u0435\\u043d\\u0446\\u0438\\u044f\", \"\\u043a\\u0440\\u0435\\u0434\", \"\\u043a\\u0440\\u0435\\u0434\\u0438\\u0442\", \"\\u043a\\u0440\\u0435\\u0434\\u0438\\u0442\", \"\\u043a\\u0440\\u0435\\u0434\\u0438\\u0442\", \"\\u043a\\u0440\\u0435\\u0434\\u0438\\u0442\", \"\\u043a\\u0440\\u0435\\u0434\\u0438\\u0442\", \"\\u043a\\u0440\\u0435\\u0434\\u0438\\u0442\\u043a\\u0430\", \"\\u043a\\u0440\\u0435\\u0434\\u0438\\u0442\\u043a\\u0430\", \"\\u043a\\u0440\\u0435\\u0434\\u0438\\u0442\\u043a\\u0430\", \"\\u043a\\u0440\\u0435\\u0434\\u0438\\u0442\\u043a\\u0430\", \"\\u043a\\u0440\\u0435\\u0434\\u0438\\u0442\\u043a\\u0430\", \"\\u043a\\u0440\\u0435\\u0434\\u0438\\u0442\\u043e\\u0432\\u0430\\u043d\\u0438\\u0435\", \"\\u043a\\u0440\\u0435\\u0434\\u0438\\u0442\\u043e\\u0432\\u0430\\u043d\\u0438\\u0435\", \"\\u043a\\u0440\\u0435\\u0434\\u0438\\u0442\\u043e\\u0432\\u0430\\u043d\\u0438\\u0435\", \"\\u043a\\u0440\\u0435\\u0434\\u0438\\u0442\\u043e\\u0432\\u0430\\u043d\\u0438\\u0435\", \"\\u043a\\u0440\\u0435\\u0434\\u0438\\u0442\\u043e\\u0432\\u0430\\u043d\\u0438\\u0435\", \"\\u043a\\u0440\\u0435\\u0441\\u043b\\u043e\", \"\\u043a\\u0440\\u0438\\u0442\\u0435\\u0440\\u0438\\u0439\", \"\\u043a\\u0440\\u0438\\u0442\\u0435\\u0440\\u0438\\u0439\", \"\\u043a\\u0443\\u043f\\u043b\\u044f\", \"\\u043a\\u0443\\u043f\\u043b\\u044f\", \"\\u043a\\u0443\\u043f\\u044e\\u0440\\u0430\", \"\\u043a\\u0443\\u043f\\u044e\\u0440\\u0430\", \"\\u043a\\u0443\\u043f\\u044e\\u0440\\u0430\", \"\\u043a\\u0443\\u043f\\u044e\\u0440\\u0430\", \"\\u043a\\u0443\\u043f\\u044e\\u0440\\u043e\\u043f\\u0440\\u0438\\u0435\\u043c\\u043d\\u0438\\u043a\", \"\\u043a\\u0443\\u0440\\u0430\\u0442\\u043e\\u0440\", \"\\u043a\\u0443\\u0440\\u0441\", \"\\u043a\\u0443\\u0440\\u0441\", \"\\u043a\\u0443\\u0440\\u0441\", \"\\u043a\\u0443\\u0440\\u0441\", \"\\u043a\\u0443\\u0440\\u044c\\u0435\\u0440\", \"\\u043a\\u0443\\u0440\\u044c\\u0435\\u0440\", \"\\u043a\\u0443\\u0440\\u044c\\u0435\\u0440\", \"\\u043a\\u0443\\u0440\\u044c\\u0435\\u0440\", \"\\u043a\\u0443\\u0440\\u044c\\u0435\\u0440\", \"\\u043a\\u0443\\u0441\\u043e\\u043a\", \"\\u043b\\u0435\\u043d\\u0442\\u0430\", \"\\u043b\\u0435\\u0441\\u0442\\u043d\\u0438\\u0446\\u0430\", \"\\u043b\\u0438\\u0434\\u0435\\u0440\", \"\\u043b\\u0438\\u043c\\u0438\\u0442\", \"\\u043b\\u0438\\u043c\\u0438\\u0442\", \"\\u043b\\u0438\\u043c\\u0438\\u0442\", \"\\u043b\\u0438\\u043c\\u0438\\u0442\", \"\\u043b\\u0438\\u043c\\u0438\\u0442\", \"\\u043b\\u0438\\u043d\\u0435\\u0439\\u043a\\u0430\", \"\\u043b\\u0438\\u0441\\u0442\\u043e\\u0432\\u043a\\u0430\", \"\\u043b\\u0438\\u0441\\u0442\\u043e\\u0447\\u0435\\u043a\", \"\\u043b\\u0438\\u0441\\u0442\\u043e\\u0447\\u0435\\u043a\", \"\\u043b\\u0438\\u0446\\u043e\", \"\\u043b\\u0438\\u0446\\u043e\", \"\\u043b\\u0438\\u0446\\u043e\", \"\\u043b\\u0438\\u0446\\u043e\", \"\\u043b\\u0438\\u0446\\u043e\", \"\\u043b\\u043e\\u0436\\u043a\\u0430\", \"\\u043b\\u043e\\u0436\\u043a\\u0430\", \"\\u043b\\u043e\\u0442\\u043e\\u043a\", \"\\u043b\\u043e\\u0442\\u043e\\u043a\", \"\\u043b\\u043e\\u0445\\u043e\\u0442\\u0440\\u043e\\u043d\", \"\\u043b\\u044f\", \"\\u043c\\u0430\\u043b\\u044c\\u0447\\u0438\\u043a\", \"\\u043c\\u0430\\u043c\\u0430\", \"\\u043c\\u0430\\u043c\\u0430\", \"\\u043c\\u0430\\u043c\\u0430\", \"\\u043c\\u0430\\u043c\\u0430\", \"\\u043c\\u0430\\u043c\\u0430\", \"\\u043c\\u0430\\u043d\\u044f\", \"\\u043c\\u0430\\u0440\\u0430\\u0437\\u043c\", \"\\u043c\\u0430\\u0440\\u044c\\u0438\\u043d\\u043e\", \"\\u043c\\u0430\\u0441\\u043b\\u043e\", \"\\u043c\\u0430\\u0448\\u0438\\u043d\\u0430\", \"\\u043c\\u0430\\u0448\\u0438\\u043d\\u0430\", \"\\u043c\\u0430\\u0448\\u0438\\u043d\\u0430\", \"\\u043c\\u0430\\u0448\\u0438\\u043d\\u0430\", \"\\u043c\\u0430\\u0448\\u0438\\u043d\\u0430\", \"\\u043c\\u0430\\u044f\\u043a\\u043e\\u0432\\u0441\\u043a\\u0430\\u044f\", \"\\u043c\\u0431\\u0440\\u0440\", \"\\u043c\\u0435\\u0433\\u0430\", \"\\u043c\\u0435\\u0436\\u0433\\u043e\\u0440\\u043e\\u0434\", \"\\u043c\\u0435\\u043d\\u0435\\u0434\\u0436\\u0435\\u0440\", \"\\u043c\\u0435\\u043d\\u0435\\u0434\\u0436\\u0435\\u0440\", \"\\u043c\\u0435\\u043d\\u0435\\u0434\\u0436\\u0435\\u0440\", \"\\u043c\\u0435\\u043d\\u0435\\u0434\\u0436\\u0435\\u0440\", \"\\u043c\\u0435\\u043d\\u0435\\u0434\\u0436\\u0435\\u0440\", \"\\u043c\\u0435\\u0441\\u0442\\u043e\\u0440\\u0430\\u0441\\u043f\\u043e\\u043b\\u043e\\u0436\\u0435\\u043d\\u0438\\u0435\", \"\\u043c\\u0435\\u0441\\u044f\\u0446\", \"\\u043c\\u0435\\u0441\\u044f\\u0446\", \"\\u043c\\u0435\\u0441\\u044f\\u0446\", \"\\u043c\\u0435\\u0441\\u044f\\u0446\", \"\\u043c\\u0435\\u0441\\u044f\\u0446\", \"\\u043c\\u0435\\u0442\\u0440\", \"\\u043c\\u0438\\u0433\", \"\\u043c\\u0438\\u043b\\u0438\\u0446\\u0438\\u044f\", \"\\u043c\\u0438\\u043b\\u0438\\u0446\\u0438\\u044f\", \"\\u043c\\u0438\\u043b\\u044f\", \"\\u043c\\u0438\\u043b\\u044f\", \"\\u043c\\u0438\\u043d\\u0438\", \"\\u043c\\u0438\\u043d\\u0438\", \"\\u043c\\u0438\\u043d\\u0438\", \"\\u043c\\u0438\\u043d\\u0443\\u0442\\u0430\", \"\\u043c\\u0438\\u043d\\u0443\\u0442\\u0430\", \"\\u043c\\u0438\\u043d\\u0443\\u0442\\u0430\", \"\\u043c\\u0438\\u043d\\u0443\\u0442\\u0430\", \"\\u043c\\u0438\\u043d\\u0443\\u0442\\u0430\", \"\\u043c\\u0438\\u043d\\u0443\\u0442\\u043a\\u0430\", \"\\u043c\\u0438\\u0442\\u0438\\u043d\\u043e\", \"\\u043c\\u0438\\u0445\\u0430\\u0439\\u043b\\u043e\\u0432\\u043d\\u0430\", \"\\u043c\\u043e\\u0431\\u0438\\u043b\", \"\\u043c\\u043e\\u0431\\u0438\\u043b\\u044c\\u043d\\u0438\\u043a\", \"\\u043c\\u043e\\u0437\\u0433\", \"\\u043c\\u043e\\u0437\\u0433\", \"\\u043c\\u043e\\u0437\\u0433\\u0438\", \"\\u043c\\u043e\\u0439\\u043a\\u0430\", \"\\u043c\\u043e\\u043d\\u0435\\u0442\\u0430\", \"\\u043c\\u043e\\u0440\\u043e\\u0437\", \"\\u043c\\u043e\\u0441\\u043a\\u0432\\u0438\\u0447\", \"\\u043c\\u043e\\u0441\\u043a\\u043e\\u043c\\u043f\\u0440\\u0438\\u0432\\u0430\\u0442\\u0431\\u0430\\u043d\\u043a\", \"\\u043c\\u043e\\u0441\\u043e\\u0431\\u043b\\u0431\\u0430\\u043d\\u043a\\u0430\", \"\\u043c\\u043e\\u0441\\u043e\\u0431\\u043b\\u0431\\u0430\\u043d\\u043a\\u0430\", \"\\u043c\\u043e\\u0447\\u044c\", \"\\u043c\\u043e\\u0447\\u044c\", \"\\u043c\\u043e\\u0447\\u044c\", \"\\u043c\\u043e\\u0447\\u044c\", \"\\u043c\\u043e\\u0447\\u044c\", \"\\u043c\\u043e\\u0447\\u044c\", \"\\u043c\\u0440\\u0430\\u043a\", \"\\u043c\\u0443\\u0436\", \"\\u043c\\u0443\\u0436\", \"\\u043c\\u0443\\u0436\", \"\\u043c\\u0443\\u0436\", \"\\u043c\\u0443\\u0436\", \"\\u043c\\u044b\\u043b\\u043e\", \"\\u043c\\u044b\\u0442\\u0438\\u0449\\u0438\", \"\\u043c\\u044d\\u0439\\u043b\", \"\\u043d\\u0430\\u0435\\u0437\\u0434\", \"\\u043d\\u0430\\u043a\\u043b\\u0430\\u0434\\u043a\\u0430\", \"\\u043d\\u0430\\u0440\\u043e\\u0434\", \"\\u043d\\u0430\\u0440\\u043e\\u0434\", \"\\u043d\\u0430\\u0440\\u043e\\u0434\", \"\\u043d\\u0430\\u0440\\u043e\\u0434\", \"\\u043d\\u0430\\u0441\\u0442\\u043e\\u0439\\u0447\\u0438\\u0432\\u043e\\u0441\\u0442\\u044c\", \"\\u043d\\u0435\\u0434\\u0435\\u043b\\u044f\", \"\\u043d\\u0435\\u0434\\u0435\\u043b\\u044f\", \"\\u043d\\u0435\\u0434\\u0435\\u043b\\u044f\", \"\\u043d\\u0435\\u0434\\u0435\\u043b\\u044f\", \"\\u043d\\u0435\\u0434\\u0435\\u043b\\u044f\", \"\\u043d\\u0435\\u0434\\u0435\\u043b\\u044f\", \"\\u043d\\u0435\\u0434\\u043e\\u0447\\u0435\\u0442\", \"\\u043d\\u0435\\u0438\\u0441\\u043f\\u0440\\u0430\\u0432\\u043d\\u043e\\u0441\\u0442\\u044c\", \"\\u043d\\u0435\\u0438\\u0441\\u043f\\u0440\\u0430\\u0432\\u043d\\u043e\\u0441\\u0442\\u044c\", \"\\u043d\\u0435\\u043e\\u0441\\u0442\\u043e\\u0440\\u043e\\u0436\\u043d\\u043e\\u0441\\u0442\\u044c\", \"\\u043d\\u0435\\u043e\\u0445\\u043e\\u0442\\u0430\", \"\\u043d\\u0435\\u043f\\u0440\\u0430\\u0432\\u0434\\u0430\", \"\\u043d\\u0435\\u0440\\u0430\\u0437\\u0431\\u0435\\u0440\\u0438\\u0445\\u0430\", \"\\u043d\\u0438\\u0442\\u044c\", \"\\u043d\\u043e\\u0432\\u043e\\u0432\\u0432\\u0435\\u0434\\u0435\\u043d\\u0438\\u0435\", \"\\u043d\\u043e\\u0432\\u043e\\u0432\\u0432\\u0435\\u0434\\u0435\\u043d\\u0438\\u0435\", \"\\u043d\\u043e\\u0432\\u043e\\u0441\\u0438\\u0431\\u0438\\u0440\\u0441\\u043a\", \"\\u043d\\u043e\\u0432\\u043e\\u0441\\u0438\\u0431\\u0438\\u0440\\u0441\\u043a\", \"\\u043d\\u043e\\u043c\\u0435\\u0440\", \"\\u043d\\u043e\\u043c\\u0435\\u0440\", \"\\u043d\\u043e\\u043c\\u0435\\u0440\", \"\\u043d\\u043e\\u043c\\u0435\\u0440\", \"\\u043d\\u043e\\u043c\\u0435\\u0440\", \"\\u043d\\u043e\\u043c\\u0435\\u0440\", \"\\u043e\\u0431\\u0435\\u0434\", \"\\u043e\\u0431\\u0435\\u0434\", \"\\u043e\\u0431\\u0435\\u0434\", \"\\u043e\\u0431\\u0435\\u0434\", \"\\u043e\\u0431\\u043c\\u0435\\u043d\\u043d\\u0438\\u043a\", \"\\u043e\\u0431\\u043d\\u0430\\u043b\\u0438\\u0447\\u043a\\u0430\", \"\\u043e\\u0431\\u0441\\u043b\\u0443\\u0436\\u0438\\u0432\\u0430\\u043d\\u0438\\u0435\", \"\\u043e\\u0431\\u0441\\u043b\\u0443\\u0436\\u0438\\u0432\\u0430\\u043d\\u0438\\u0435\", \"\\u043e\\u0431\\u0441\\u043b\\u0443\\u0436\\u0438\\u0432\\u0430\\u043d\\u0438\\u0435\", \"\\u043e\\u0431\\u0441\\u043b\\u0443\\u0436\\u0438\\u0432\\u0430\\u043d\\u0438\\u0435\", \"\\u043e\\u0431\\u0441\\u043b\\u0443\\u0436\\u0438\\u0432\\u0430\\u043d\\u0438\\u0435\", \"\\u043e\\u0431\\u044a\\u0435\\u0434\\u0438\\u043d\\u0435\\u043d\\u0438\\u0435\", \"\\u043e\\u0434\\u0435\\u0436\\u0434\\u0430\", \"\\u043e\\u0434\\u043e\\u0431\\u0440\\u0435\\u043d\\u0438\\u0435\", \"\\u043e\\u0434\\u043e\\u0431\\u0440\\u0435\\u043d\\u0438\\u0435\", \"\\u043e\\u0434\\u043e\\u0431\\u0440\\u0435\\u043d\\u0438\\u0435\", \"\\u043e\\u0434\\u043e\\u0431\\u0440\\u0435\\u043d\\u0438\\u0435\", \"\\u043e\\u0434\\u043e\\u0431\\u0440\\u0435\\u043d\\u0438\\u0435\", \"\\u043e\\u0434\\u043e\\u043b\\u0436\\u0435\\u043d\\u0438\\u0435\", \"\\u043e\\u0434\\u043e\\u043b\\u0436\\u0435\\u043d\\u0438\\u0435\", \"\\u043e\\u043a\\u043d\\u043e\", \"\\u043e\\u043a\\u043d\\u043e\", \"\\u043e\\u043a\\u043d\\u043e\", \"\\u043e\\u043a\\u043d\\u043e\", \"\\u043e\\u043a\\u043e\\u0448\\u043a\\u043e\", \"\\u043e\\u043a\\u043e\\u0448\\u043a\\u043e\", \"\\u043e\\u043a\\u043e\\u0448\\u043a\\u043e\", \"\\u043e\\u043b\\u0435\\u0433\", \"\\u043e\\u043b\\u0435\\u0441\\u044f\", \"\\u043e\\u043f\\u0435\\u0440\\u0430\\u0446\\u0438\\u043e\\u043d\\u0438\\u0441\\u0442\", \"\\u043e\\u043f\\u0435\\u0440\\u0430\\u0446\\u0438\\u043e\\u043d\\u0438\\u0441\\u0442\", \"\\u043e\\u043f\\u0435\\u0440\\u0430\\u0446\\u0438\\u043e\\u043d\\u0438\\u0441\\u0442\", \"\\u043e\\u043f\\u0435\\u0440\\u0430\\u0446\\u0438\\u043e\\u043d\\u0438\\u0441\\u0442\", \"\\u043e\\u043f\\u0435\\u0440\\u0430\\u0446\\u0438\\u043e\\u043d\\u0438\\u0441\\u0442\", \"\\u043e\\u043f\\u0435\\u0440\\u0430\\u0446\\u0438\\u043e\\u043d\\u0438\\u0441\\u0442\\u043a\\u0430\", \"\\u043e\\u043f\\u0435\\u0440\\u0430\\u0446\\u0438\\u043e\\u043d\\u0438\\u0441\\u0442\\u043a\\u0430\", \"\\u043e\\u043f\\u0435\\u0440\\u0430\\u0446\\u0438\\u043e\\u043d\\u0438\\u0441\\u0442\\u043a\\u0430\", \"\\u043e\\u043f\\u0435\\u0440\\u0430\\u0446\\u0438\\u043e\\u043d\\u0438\\u0441\\u0442\\u043a\\u0430\", \"\\u043e\\u043f\\u0435\\u0440\\u0430\\u0446\\u0438\\u044f\", \"\\u043e\\u043f\\u0435\\u0440\\u0430\\u0446\\u0438\\u044f\", \"\\u043e\\u043f\\u0435\\u0440\\u0430\\u0446\\u0438\\u044f\", \"\\u043e\\u043f\\u0435\\u0440\\u0430\\u0446\\u0438\\u044f\", \"\\u043e\\u043f\\u0440\\u043e\\u0442\\u0435\\u0441\\u0442\\u043e\\u0432\\u0430\\u043d\\u0438\\u0435\", \"\\u043e\\u0440\\u0435\\u043b\", \"\\u043e\\u0440\\u0435\\u043b\", \"\\u043e\\u0441\\u0430\\u0433\\u043e\", \"\\u043e\\u0441\\u0430\\u0433\\u043e\", \"\\u043e\\u0441\\u0442\\u0430\\u0442\\u043e\\u043a\", \"\\u043e\\u0441\\u0442\\u0430\\u0442\\u043e\\u043a\", \"\\u043e\\u0441\\u0442\\u0430\\u0442\\u043e\\u043a\", \"\\u043e\\u0441\\u0442\\u0430\\u0442\\u043e\\u043a\", \"\\u043e\\u0441\\u0442\\u0430\\u0442\\u043e\\u043a\", \"\\u043e\\u0442\\u0432\\u0435\\u0442\", \"\\u043e\\u0442\\u0432\\u0435\\u0442\", \"\\u043e\\u0442\\u0432\\u0435\\u0442\", \"\\u043e\\u0442\\u0432\\u0435\\u0442\", \"\\u043e\\u0442\\u0432\\u0435\\u0442\", \"\\u043e\\u0442\\u0432\\u0435\\u0442\", \"\\u043e\\u0442\\u0434\\u0435\\u043b\", \"\\u043e\\u0442\\u0434\\u0435\\u043b\", \"\\u043e\\u0442\\u0434\\u0435\\u043b\", \"\\u043e\\u0442\\u0434\\u0435\\u043b\", \"\\u043e\\u0442\\u0434\\u0435\\u043b\", \"\\u043e\\u0442\\u0434\\u0435\\u043b\\u0435\\u043d\\u0438\\u0435\", \"\\u043e\\u0442\\u0434\\u0435\\u043b\\u0435\\u043d\\u0438\\u0435\", \"\\u043e\\u0442\\u0434\\u0435\\u043b\\u0435\\u043d\\u0438\\u0435\", \"\\u043e\\u0442\\u0434\\u0435\\u043b\\u0435\\u043d\\u0438\\u0435\", \"\\u043e\\u0442\\u0434\\u0435\\u043b\\u0435\\u043d\\u0438\\u0435\", \"\\u043e\\u0442\\u0435\\u043b\\u044c\", \"\\u043e\\u0442\\u043a\\u0440\\u044b\\u0442\\u0438\\u0435\", \"\\u043e\\u0442\\u043a\\u0440\\u044b\\u0442\\u0438\\u0435\", \"\\u043e\\u0442\\u043a\\u0440\\u044b\\u0442\\u0438\\u0435\", \"\\u043e\\u0442\\u043a\\u0440\\u044b\\u0442\\u0438\\u0435\", \"\\u043e\\u0442\\u043a\\u0440\\u044b\\u0442\\u0438\\u0435\", \"\\u043e\\u0444\\u0438\\u0441\", \"\\u043e\\u0444\\u0438\\u0441\", \"\\u043e\\u0444\\u0438\\u0441\", \"\\u043e\\u0444\\u0438\\u0441\", \"\\u043e\\u0444\\u0438\\u0441\", \"\\u043e\\u0444\\u043e\\u0440\\u043c\\u043b\\u0435\\u043d\\u0438\\u0435\", \"\\u043e\\u0444\\u043e\\u0440\\u043c\\u043b\\u0435\\u043d\\u0438\\u0435\", \"\\u043e\\u0444\\u043e\\u0440\\u043c\\u043b\\u0435\\u043d\\u0438\\u0435\", \"\\u043e\\u0444\\u043e\\u0440\\u043c\\u043b\\u0435\\u043d\\u0438\\u0435\", \"\\u043e\\u0444\\u043e\\u0440\\u043c\\u043b\\u0435\\u043d\\u0438\\u0435\", \"\\u043e\\u0445\\u0440\\u0430\\u043d\\u0430\", \"\\u043e\\u0445\\u0440\\u0430\\u043d\\u0430\", \"\\u043e\\u0445\\u0440\\u0430\\u043d\\u0430\", \"\\u043e\\u0445\\u0440\\u0430\\u043d\\u043d\\u0438\\u043a\", \"\\u043e\\u0445\\u0440\\u0430\\u043d\\u043d\\u0438\\u043a\", \"\\u043e\\u0445\\u0440\\u0430\\u043d\\u043d\\u0438\\u043a\", \"\\u043e\\u0445\\u0440\\u0430\\u043d\\u043d\\u0438\\u043a\", \"\\u043e\\u0447\\u0435\\u0440\\u0435\\u0434\\u044c\", \"\\u043e\\u0447\\u0435\\u0440\\u0435\\u0434\\u044c\", \"\\u043e\\u0447\\u0435\\u0440\\u0435\\u0434\\u044c\", \"\\u043e\\u0447\\u0435\\u0440\\u0435\\u0434\\u044c\", \"\\u043e\\u0447\\u0435\\u0440\\u0435\\u0434\\u044c\", \"\\u043f\\u0430\\u0439\", \"\\u043f\\u0430\\u043b\\u0430\\u0442\\u0430\", \"\\u043f\\u0430\\u0440\\u0438\\u0431\", \"\\u043f\\u0430\\u0440\\u043e\\u043b\\u044c\", \"\\u043f\\u0430\\u0440\\u043e\\u043b\\u044c\", \"\\u043f\\u0430\\u0440\\u043e\\u043b\\u044c\", \"\\u043f\\u0430\\u0440\\u043e\\u043b\\u044c\", \"\\u043f\\u0430\\u0440\\u043e\\u043b\\u044c\", \"\\u043f\\u0430\\u0440\\u043e\\u0447\\u043a\\u0430\", \"\\u043f\\u0435\\u0440\\u0435\\u0432\\u043e\\u0434\", \"\\u043f\\u0435\\u0440\\u0435\\u0432\\u043e\\u0434\", \"\\u043f\\u0435\\u0440\\u0435\\u0432\\u043e\\u0434\", \"\\u043f\\u0435\\u0440\\u0435\\u0432\\u043e\\u0434\", \"\\u043f\\u0435\\u0440\\u0435\\u0432\\u043e\\u0434\", \"\\u043f\\u0435\\u0440\\u0435\\u0432\\u043e\\u0434\", \"\\u043f\\u0435\\u0440\\u0435\\u0432\\u044b\\u043f\\u0443\\u0441\\u043a\", \"\\u043f\\u0435\\u0440\\u0435\\u0432\\u044b\\u043f\\u0443\\u0441\\u043a\", \"\\u043f\\u0435\\u0440\\u0435\\u0432\\u044b\\u043f\\u0443\\u0441\\u043a\", \"\\u043f\\u0435\\u0440\\u0435\\u0433\\u043e\\u0440\\u043e\\u0434\\u043a\\u0430\", \"\\u043f\\u0435\\u0440\\u0435\\u043a\\u0440\\u0435\\u0441\\u0442\\u043e\\u043a\", \"\\u043f\\u0435\\u0440\\u0435\\u043f\\u043b\\u0430\\u0442\\u0430\", \"\\u043f\\u0435\\u0440\\u0435\\u043f\\u043b\\u0430\\u0442\\u0430\", \"\\u043f\\u0435\\u0440\\u0435\\u043f\\u043b\\u0430\\u0442\\u0430\", \"\\u043f\\u0435\\u0440\\u0435\\u043f\\u043b\\u0430\\u0442\\u0430\", \"\\u043f\\u0435\\u0440\\u0435\\u0440\\u0430\\u0441\\u0445\\u043e\\u0434\", \"\\u043f\\u0435\\u0440\\u0435\\u0440\\u044b\\u0432\", \"\\u043f\\u0435\\u0440\\u0435\\u0440\\u044b\\u0432\", \"\\u043f\\u0435\\u0440\\u0435\\u0440\\u044b\\u0432\", \"\\u043f\\u0435\\u0440\\u0435\\u0443\\u043b\\u043e\\u043a\", \"\\u043f\\u0435\\u0440\\u0441\\u043e\\u043d\\u0430\", \"\\u043f\\u0435\\u0440\\u0441\\u043e\\u043d\\u0430\\u043b\", \"\\u043f\\u0435\\u0440\\u0441\\u043e\\u043d\\u0430\\u043b\", \"\\u043f\\u0435\\u0440\\u0441\\u043e\\u043d\\u0430\\u043b\", \"\\u043f\\u0435\\u0440\\u0441\\u043e\\u043d\\u0430\\u043b\", \"\\u043f\\u0435\\u0440\\u0441\\u043e\\u043d\\u0430\\u043b\", \"\\u043f\\u0435\\u0440\\u0441\\u043f\\u0435\\u043a\\u0442\\u0438\\u0432\\u0430\", \"\\u043f\\u0435\\u0440\\u0441\\u043f\\u0435\\u043a\\u0442\\u0438\\u0432\\u0430\", \"\\u043f\\u0435\\u0440\\u0441\\u043f\\u0435\\u043a\\u0442\\u0438\\u0432\\u0430\", \"\\u043f\\u0438\\u043a\", \"\\u043f\\u0438\\u043a\", \"\\u043f\\u0438\\u043d\", \"\\u043f\\u0438\\u043d\", \"\\u043f\\u0438\\u043d\", \"\\u043f\\u0438\\u043d\\u0430\", \"\\u043f\\u0438\\u0441\\u044c\\u043c\\u043e\", \"\\u043f\\u0438\\u0441\\u044c\\u043c\\u043e\", \"\\u043f\\u0438\\u0441\\u044c\\u043c\\u043e\", \"\\u043f\\u0438\\u0441\\u044c\\u043c\\u043e\", \"\\u043f\\u0438\\u0441\\u044c\\u043c\\u043e\", \"\\u043f\\u0438\\u0441\\u044c\\u043c\\u043e\", \"\\u043f\\u0438\\u0442\\u0435\\u0440\", \"\\u043f\\u0438\\u0442\\u0435\\u0440\", \"\\u043f\\u0438\\u0442\\u0435\\u0440\", \"\\u043f\\u043a\", \"\\u043f\\u043b\\u0430\\u043a\\u0430\\u0442\", \"\\u043f\\u043b\\u0430\\u0441\\u0442\\u0438\\u043a\\u0430\", \"\\u043f\\u043b\\u0430\\u0441\\u0442\\u0438\\u043a\\u0430\", \"\\u043f\\u043b\\u0430\\u0442\\u0435\\u0436\", \"\\u043f\\u043b\\u0430\\u0442\\u0435\\u0436\", \"\\u043f\\u043b\\u0430\\u0442\\u0435\\u0436\", \"\\u043f\\u043b\\u0430\\u0442\\u0435\\u0436\", \"\\u043f\\u043b\\u0430\\u0442\\u0435\\u0436\", \"\\u043f\\u043b\\u0430\\u0442\\u0435\\u0436\", \"\\u043f\\u043e\\u0433\\u0430\\u0448\\u0435\\u043d\\u0438\\u0435\", \"\\u043f\\u043e\\u0433\\u0430\\u0448\\u0435\\u043d\\u0438\\u0435\", \"\\u043f\\u043e\\u0433\\u0430\\u0448\\u0435\\u043d\\u0438\\u0435\", \"\\u043f\\u043e\\u0433\\u0430\\u0448\\u0435\\u043d\\u0438\\u0435\", \"\\u043f\\u043e\\u0433\\u0430\\u0448\\u0435\\u043d\\u0438\\u0435\", \"\\u043f\\u043e\\u0434\\u0434\\u0435\\u0440\\u0436\\u043a\\u0430\", \"\\u043f\\u043e\\u0434\\u0434\\u0435\\u0440\\u0436\\u043a\\u0430\", \"\\u043f\\u043e\\u0434\\u0434\\u0435\\u0440\\u0436\\u043a\\u0430\", \"\\u043f\\u043e\\u0434\\u0434\\u0435\\u0440\\u0436\\u043a\\u0430\", \"\\u043f\\u043e\\u0434\\u0434\\u0435\\u0440\\u0436\\u043a\\u0430\", \"\\u043f\\u043e\\u0434\\u0434\\u0435\\u0440\\u0436\\u043a\\u0430\", \"\\u043f\\u043e\\u0434\\u043c\\u043e\\u0441\\u043a\\u043e\\u0432\\u044c\\u0435\", \"\\u043f\\u043e\\u0434\\u043f\\u0438\\u0441\\u0430\\u043d\\u0438\\u0435\", \"\\u043f\\u043e\\u0434\\u043f\\u0438\\u0441\\u0430\\u043d\\u0438\\u0435\", \"\\u043f\\u043e\\u0434\\u043f\\u0438\\u0441\\u0430\\u043d\\u0438\\u0435\", \"\\u043f\\u043e\\u0434\\u043f\\u0438\\u0441\\u0430\\u043d\\u0438\\u0435\", \"\\u043f\\u043e\\u0434\\u043f\\u0438\\u0441\\u0430\\u043d\\u0438\\u0435\", \"\\u043f\\u043e\\u0434\\u0440\\u0443\\u0433\\u0430\", \"\\u043f\\u043e\\u0434\\u0440\\u0443\\u0433\\u0430\", \"\\u043f\\u043e\\u0434\\u0440\\u0443\\u0433\\u0430\", \"\\u043f\\u043e\\u0434\\u0441\\u0442\\u0430\\u0432\\u0430\", \"\\u043f\\u043e\\u0435\\u0437\\u0434\", \"\\u043f\\u043e\\u043a\\u043e\\u0439\", \"\\u043f\\u043e\\u043a\\u0440\\u043e\\u0432\\u043a\\u0430\", \"\\u043f\\u043e\\u043b\\u0434\\u0435\\u043d\\u044c\", \"\\u043f\\u043e\\u043b\\u0434\\u0435\\u043d\\u044c\", \"\\u043f\\u043e\\u043b\\u0438\\u043d\\u0430\", \"\\u043f\\u043e\\u043b\\u0438\\u0441\", \"\\u043f\\u043e\\u043b\\u0438\\u0441\", \"\\u043f\\u043e\\u043b\\u0438\\u0441\", \"\\u043f\\u043e\\u043b\\u0443\\u0447\\u0430\\u0441\", \"\\u043f\\u043e\\u043b\\u0443\\u0447\\u0430\\u0441\", \"\\u043f\\u043e\\u043b\\u0443\\u0447\\u0430\\u0441\\u043e\\u0432\\u043e\\u0439\", \"\\u043f\\u043e\\u043b\\u044f\\u043d\\u043a\\u0430\", \"\\u043f\\u043e\\u043c\\u0435\\u0449\\u0435\\u043d\\u0438\\u0435\", \"\\u043f\\u043e\\u043c\\u0435\\u0449\\u0435\\u043d\\u0438\\u0435\", \"\\u043f\\u043e\\u043c\\u0435\\u0449\\u0435\\u043d\\u0438\\u0435\", \"\\u043f\\u043e\\u043c\\u0435\\u0449\\u0435\\u043d\\u0438\\u0435\", \"\\u043f\\u043e\\u0440\\u0443\\u0447\\u0438\\u0442\\u0435\\u043b\\u044c\", \"\\u043f\\u043e\\u0440\\u0443\\u0447\\u0438\\u0442\\u0435\\u043b\\u044c\\u0441\\u0442\\u0432\\u043e\", \"\\u043f\\u043e\\u0441\\u0435\\u0442\\u0438\\u0442\\u0435\\u043b\\u044c\", \"\\u043f\\u043e\\u0441\\u0435\\u0442\\u0438\\u0442\\u0435\\u043b\\u044c\", \"\\u043f\\u043e\\u0441\\u0435\\u0442\\u0438\\u0442\\u0435\\u043b\\u044c\", \"\\u043f\\u043e\\u0441\\u0435\\u0442\\u0438\\u0442\\u0435\\u043b\\u044c\", \"\\u043f\\u043e\\u0441\\u043e\\u043b\\u044c\\u0441\\u0442\\u0432\\u043e\", \"\\u043f\\u043e\\u0441\\u0442\\u0430\\u0432\\u0449\\u0438\\u043a\", \"\\u043f\\u043e\\u0441\\u0442\\u0430\\u0432\\u0449\\u0438\\u043a\", \"\\u043f\\u043e\\u0442\\u043e\\u043a\", \"\\u043f\\u043e\\u0442\\u043e\\u043a\", \"\\u043f\\u043e\\u0442\\u043e\\u043a\", \"\\u043f\\u043e\\u0442\\u043e\\u043a\", \"\\u043f\\u043e\\u0442\\u0440\\u0435\\u0431\\u0430\", \"\\u043f\\u043e\\u0442\\u0440\\u0435\\u0431\\u0430\", \"\\u043f\\u043e\\u0445\\u0432\\u0430\\u043b\\u0430\", \"\\u043f\\u0440\\u0430\\u0432\\u043e\", \"\\u043f\\u0440\\u0430\\u0432\\u043e\", \"\\u043f\\u0440\\u0430\\u0432\\u043e\", \"\\u043f\\u0440\\u0430\\u0432\\u043e\", \"\\u043f\\u0440\\u0430\\u0432\\u043e\", \"\\u043f\\u0440\\u0430\\u0432\\u043e\\u0442\\u0430\", \"\\u043f\\u0440\\u0430\\u0432\\u043e\\u0442\\u0430\", \"\\u043f\\u0440\\u0435\\u043f\\u0438\\u0440\\u0430\\u0442\\u0435\\u043b\\u044c\\u0441\\u0442\\u0432\\u043e\", \"\\u043f\\u0440\\u0435\\u0441\\u043d\\u044f\", \"\\u043f\\u0440\\u0435\\u0441\\u0441\", \"\\u043f\\u0440\\u0435\\u0442\\u0435\\u043d\\u0437\\u0438\\u044f\", \"\\u043f\\u0440\\u0435\\u0442\\u0435\\u043d\\u0437\\u0438\\u044f\", \"\\u043f\\u0440\\u0435\\u0442\\u0435\\u043d\\u0437\\u0438\\u044f\", \"\\u043f\\u0440\\u0435\\u0442\\u0435\\u043d\\u0437\\u0438\\u044f\", \"\\u043f\\u0440\\u0435\\u0442\\u0435\\u043d\\u0437\\u0438\\u044f\", \"\\u043f\\u0440\\u0438\\u0432\\u0430\\u0442\\u0431\\u0430\\u043d\\u043a\", \"\\u043f\\u0440\\u0438\\u0432\\u044f\\u0437\\u043a\\u0430\", \"\\u043f\\u0440\\u0438\\u0432\\u044f\\u0437\\u043a\\u0430\", \"\\u043f\\u0440\\u0438\\u0437\", \"\\u043f\\u0440\\u0438\\u043a\\u043e\\u043b\", \"\\u043f\\u0440\\u0438\\u044f\\u0442\\u0435\\u043b\\u044c\", \"\\u043f\\u0440\\u043e\\u0431\\u0438\\u0437\\u043d\\u0435\\u0441\\u0431\\u0430\\u043d\\u043a\", \"\\u043f\\u0440\\u043e\\u0431\\u043b\\u0435\\u043c\\u0430\", \"\\u043f\\u0440\\u043e\\u0431\\u043b\\u0435\\u043c\\u0430\", \"\\u043f\\u0440\\u043e\\u0431\\u043b\\u0435\\u043c\\u0430\", \"\\u043f\\u0440\\u043e\\u0431\\u043b\\u0435\\u043c\\u0430\", \"\\u043f\\u0440\\u043e\\u0431\\u043b\\u0435\\u043c\\u0430\", \"\\u043f\\u0440\\u043e\\u0431\\u043b\\u0435\\u043c\\u0430\", \"\\u043f\\u0440\\u043e\\u0432\\u0430\\u0439\\u0434\\u0435\\u0440\", \"\\u043f\\u0440\\u043e\\u0432\\u043e\\u043b\\u043e\\u0447\\u043a\\u0430\", \"\\u043f\\u0440\\u043e\\u0433\\u0440\\u0430\\u043c\\u043c\\u0438\\u0441\\u0442\", \"\\u043f\\u0440\\u043e\\u0438\\u0437\\u043e\\u0448\", \"\\u043f\\u0440\\u043e\\u0438\\u0437\\u043e\\u0448\", \"\\u043f\\u0440\\u043e\\u0441\\u0440\\u043e\\u0447\\u043a\\u0430\", \"\\u043f\\u0440\\u043e\\u0441\\u0440\\u043e\\u0447\\u043a\\u0430\", \"\\u043f\\u0440\\u043e\\u0441\\u0440\\u043e\\u0447\\u043a\\u0430\", \"\\u043f\\u0440\\u043e\\u0441\\u0440\\u043e\\u0447\\u043a\\u0430\", \"\\u043f\\u0440\\u043e\\u0441\\u0440\\u043e\\u0447\\u043a\\u0430\", \"\\u043f\\u0440\\u043e\\u0441\\u0442\\u043e\\u0442\\u0430\", \"\\u043f\\u0440\\u043e\\u0445\\u043e\\u0434\", \"\\u043f\\u0440\\u043e\\u0446\\u0435\\u043d\\u0442\", \"\\u043f\\u0440\\u043e\\u0446\\u0435\\u043d\\u0442\", \"\\u043f\\u0440\\u043e\\u0446\\u0435\\u043d\\u0442\", \"\\u043f\\u0440\\u043e\\u0446\\u0435\\u043d\\u0442\", \"\\u043f\\u0440\\u043e\\u0446\\u0435\\u043d\\u0442\", \"\\u043f\\u0440\\u043e\\u0446\\u0435\\u0441\\u0441\\u0438\\u043d\\u0433\", \"\\u043f\\u0443\\u0441\\u0442\\u044f\\u043a\", \"\\u043f\\u0443\\u0441\\u0442\\u044f\\u0447\\u043e\\u043a\", \"\\u043f\\u0443\\u0442\\u0430\\u043d\\u0438\\u0446\\u0430\", \"\\u043f\\u044f\\u0442\\u043d\\u0438\\u0446\\u043a\\u0430\\u044f\", \"\\u043f\\u044f\\u0442\\u043d\\u043e\", \"\\u0440\", \"\\u0440\", \"\\u0440\", \"\\u0440\", \"\\u0440\", \"\\u0440\\u0430\\u0431\\u043e\\u0442\\u0430\", \"\\u0440\\u0430\\u0431\\u043e\\u0442\\u0430\", \"\\u0440\\u0430\\u0431\\u043e\\u0442\\u0430\", \"\\u0440\\u0430\\u0431\\u043e\\u0442\\u0430\", \"\\u0440\\u0430\\u0431\\u043e\\u0442\\u0430\", \"\\u0440\\u0430\\u0437\\u0431\\u043e\\u0440\\u043a\\u0430\", \"\\u0440\\u0430\\u0437\\u043e\\u043a\", \"\\u0440\\u0430\\u0439\\u0444\", \"\\u0440\\u0430\\u0439\\u0444\\u0430\", \"\\u0440\\u0430\\u0439\\u0444\\u0430\\u0439\\u0437\\u0435\\u043d\\u0431\\u0430\\u043d\\u043a\", \"\\u0440\\u0430\\u0439\\u0444\\u0444\", \"\\u0440\\u0430\\u0441\\u043f\\u0438\\u0441\\u043a\\u0430\", \"\\u0440\\u0430\\u0441\\u0441\\u043c\\u043e\\u0442\\u0440\\u0435\\u043d\\u0438\\u0435\", \"\\u0440\\u0430\\u0441\\u0441\\u043c\\u043e\\u0442\\u0440\\u0435\\u043d\\u0438\\u0435\", \"\\u0440\\u0430\\u0441\\u0441\\u043c\\u043e\\u0442\\u0440\\u0435\\u043d\\u0438\\u0435\", \"\\u0440\\u0430\\u0441\\u0441\\u043c\\u043e\\u0442\\u0440\\u0435\\u043d\\u0438\\u0435\", \"\\u0440\\u0430\\u0441\\u0441\\u043c\\u043e\\u0442\\u0440\\u0435\\u043d\\u0438\\u0435\", \"\\u0440\\u0430\\u0441\\u0448\\u0438\\u0440\\u0435\\u043d\\u0438\\u0435\", \"\\u0440\\u0435\\u0434\\u043a\\u043e\\u0441\\u0442\\u044c\", \"\\u0440\\u0435\\u0439\\u0441\", \"\\u0440\\u0435\\u043d\\u0435\\u0441\\u0441\\u0430\\u043d\\u0441\", \"\\u0440\\u0435\\u043d\\u0435\\u0441\\u0441\\u0430\\u043d\\u0441\", \"\\u0440\\u0435\\u043d\\u0435\\u0441\\u0441\\u0430\\u043d\\u0441\", \"\\u0440\\u0435\\u043d\\u0435\\u0441\\u0441\\u0430\\u043d\\u0441\", \"\\u0440\\u0435\\u043f\\u043b\\u0438\\u043a\\u0430\", \"\\u0440\\u0435\\u0441\\u0435\\u043f\\u0448\\u043d\", \"\\u0440\\u0435\\u0441\\u0442\\u043e\\u0440\\u0430\\u043d\", \"\\u0440\\u0435\\u0441\\u0442\\u0440\\u0443\\u043a\\u0442\\u0443\\u0440\\u0438\\u0437\\u0430\\u0446\\u0438\\u044f\", \"\\u0440\\u0435\\u0448\\u0435\\u043d\\u0438\\u0435\", \"\\u0440\\u0435\\u0448\\u0435\\u043d\\u0438\\u0435\", \"\\u0440\\u0435\\u0448\\u0435\\u043d\\u0438\\u0435\", \"\\u0440\\u0435\\u0448\\u0435\\u043d\\u0438\\u0435\", \"\\u0440\\u0435\\u0448\\u0435\\u043d\\u0438\\u0435\", \"\\u0440\\u0436\\u0434\", \"\\u0440\\u0438\\u044d\\u043b\\u0442\\u043e\\u0440\", \"\\u0440\\u043a\", \"\\u0440\\u043e\\u0436\\u0434\\u0435\\u0441\\u0442\\u0432\\u0435\\u043d\\u0441\\u043a\\u0438\\u0439\", \"\\u0440\\u043e\\u0441\\u0435\\u0432\\u0440\\u043e\\u0431\\u0430\\u043d\\u043a\", \"\\u0440\\u0443\\u0431\", \"\\u0440\\u0443\\u0431\", \"\\u0440\\u0443\\u0431\", \"\\u0440\\u0443\\u0431\", \"\\u0440\\u0443\\u0431\", \"\\u0440\\u0443\\u0431\\u043b\", \"\\u0440\\u0443\\u0431\\u043b\", \"\\u0440\\u0443\\u0431\\u043b\\u044c\", \"\\u0440\\u0443\\u0431\\u043b\\u044c\", \"\\u0440\\u0443\\u0431\\u043b\\u044c\", \"\\u0440\\u0443\\u0431\\u043b\\u044c\", \"\\u0440\\u0443\\u0431\\u043b\\u044c\", \"\\u0440\\u0443\\u0441\\u0444\\u0438\\u043d\\u0430\\u043d\\u0441\", \"\\u0440\\u0443\\u0441\\u0444\\u0438\\u043d\\u0430\\u043d\\u0441\", \"\\u0441\\u0430\\u0439\\u0442\", \"\\u0441\\u0430\\u0439\\u0442\", \"\\u0441\\u0430\\u0439\\u0442\", \"\\u0441\\u0430\\u0439\\u0442\", \"\\u0441\\u0430\\u0439\\u0442\", \"\\u0441\\u0430\\u0439\\u0442\", \"\\u0441\\u0430\\u043b\\u043e\\u043d\", \"\\u0441\\u0430\\u043b\\u043e\\u043d\", \"\\u0441\\u0430\\u043b\\u043e\\u043d\", \"\\u0441\\u0430\\u043b\\u043e\\u043d\", \"\\u0441\\u0430\\u043c\\u043e\\u043b\\u0435\\u0442\", \"\\u0441\\u0430\\u043c\\u043e\\u043b\\u0435\\u0442\", \"\\u0441\\u0430\\u043c\\u043e\\u043e\\u0431\\u0441\\u043b\\u0443\\u0436\\u0438\\u0432\\u0430\\u043d\\u0438\\u0435\", \"\\u0441\\u0430\\u043c\\u043e\\u043e\\u0431\\u0441\\u043b\\u0443\\u0436\\u0438\\u0432\\u0430\\u043d\\u0438\\u0435\", \"\\u0441\\u0430\\u043f\\u043f\\u043e\\u0440\\u0442\", \"\\u0441\\u0430\\u0440\\u0430\\u0442\\u043e\\u0432\", \"\\u0441\\u0431\\u0435\\u0440\\u0431\\u0430\\u043d\\u043a\", \"\\u0441\\u0431\\u0435\\u0440\\u0431\\u0430\\u043d\\u043a\", \"\\u0441\\u0431\\u0435\\u0440\\u0431\\u0430\\u043d\\u043a\", \"\\u0441\\u0431\\u0435\\u0440\\u0431\\u0430\\u043d\\u043a\", \"\\u0441\\u0431\\u0435\\u0440\\u0431\\u0430\\u043d\\u043a\", \"\\u0441\\u0431\\u0435\\u0440\\u043a\\u0430\\u0441\\u0441\\u0430\", \"\\u0441\\u0431\\u0435\\u0440\\u043a\\u0430\\u0441\\u0441\\u0430\", \"\\u0441\\u0431\\u043e\\u0439\", \"\\u0441\\u0431\\u043e\\u0439\", \"\\u0441\\u0431\\u043e\\u0439\", \"\\u0441\\u0431\\u043e\\u0439\", \"\\u0441\\u0431\\u043e\\u0439\", \"\\u0441\\u0434\\u0435\\u043b\\u043a\\u0430\", \"\\u0441\\u0434\\u0435\\u043b\\u043a\\u0430\", \"\\u0441\\u0434\\u0435\\u043b\\u043a\\u0430\", \"\\u0441\\u0434\\u0435\\u043b\\u043a\\u0430\", \"\\u0441\\u0434\\u0435\\u043b\\u043a\\u0430\", \"\\u0441\\u0435\\u0440\\u0432\\u0438\\u0441\", \"\\u0441\\u0435\\u0440\\u0432\\u0438\\u0441\", \"\\u0441\\u0435\\u0440\\u0432\\u0438\\u0441\", \"\\u0441\\u0435\\u0440\\u0432\\u0438\\u0441\", \"\\u0441\\u0435\\u0440\\u0432\\u0438\\u0441\", \"\\u0441\\u0435\\u0440\\u0432\\u0438\\u0441\", \"\\u0441\\u0435\\u0441\\u0442\\u0440\\u0430\", \"\\u0441\\u0438\\u0441\\u0442\\u0435\\u043c\\u0430\", \"\\u0441\\u0438\\u0441\\u0442\\u0435\\u043c\\u0430\", \"\\u0441\\u0438\\u0441\\u0442\\u0435\\u043c\\u0430\", \"\\u0441\\u0438\\u0441\\u0442\\u0435\\u043c\\u0430\", \"\\u0441\\u0438\\u0441\\u0442\\u0435\\u043c\\u0430\", \"\\u0441\\u0438\\u0441\\u0442\\u0435\\u043c\\u0430\", \"\\u0441\\u0438\\u0442\\u0438\", \"\\u0441\\u0438\\u0442\\u0438\", \"\\u0441\\u0438\\u0442\\u0438\", \"\\u0441\\u0438\\u0442\\u0438\\u0431\\u0430\\u043d\\u043a\", \"\\u0441\\u0438\\u0442\\u0438\\u0431\\u0430\\u043d\\u043a\", \"\\u0441\\u0438\\u0442\\u0438\\u0431\\u0430\\u043d\\u043a\", \"\\u0441\\u0438\\u0442\\u0438\\u0431\\u0430\\u043d\\u043a\\u0430\", \"\\u0441\\u0438\\u0442\\u0438\\u0444\\u043e\\u043d\", \"\\u0441\\u043a\", \"\\u0441\\u043b\\u0438\\u043f\", \"\\u0441\\u043b\\u043e\\u0432\\u043e\\u043c\", \"\\u0441\\u043e\\u0431\\u0438\\u043d\\u0431\\u0430\\u043d\\u043a\", \"\\u0441\\u043e\\u0432\\u043e\\u043a\", \"\\u0441\\u043e\\u0432\\u043e\\u043a\", \"\\u0441\\u043e\\u0432\\u043e\\u043a\", \"\\u0441\\u043e\\u043a\\u043e\\u043b\", \"\\u0441\\u043e\\u043a\\u043e\\u043b\\u044c\\u043d\\u0438\\u043a\\u0438\", \"\\u0441\\u043e\\u0441\\u044c\\u0435\\u0442\\u0430\", \"\\u0441\\u043e\\u0442\\u0440\\u0443\\u0434\\u043d\\u0438\\u043a\", \"\\u0441\\u043e\\u0442\\u0440\\u0443\\u0434\\u043d\\u0438\\u043a\", \"\\u0441\\u043e\\u0442\\u0440\\u0443\\u0434\\u043d\\u0438\\u043a\", \"\\u0441\\u043e\\u0442\\u0440\\u0443\\u0434\\u043d\\u0438\\u043a\", \"\\u0441\\u043e\\u0442\\u0440\\u0443\\u0434\\u043d\\u0438\\u043a\", \"\\u0441\\u043e\\u0444\\u0442\", \"\\u0441\\u043e\\u044e\\u0437\", \"\\u0441\\u043e\\u044e\\u0437\", \"\\u0441\\u043f\\u0435\\u043a\\u0442\\u0440\", \"\\u0441\\u043f\\u0438\\u0441\\u0430\\u043d\\u0438\\u0435\", \"\\u0441\\u043f\\u0438\\u0441\\u0430\\u043d\\u0438\\u0435\", \"\\u0441\\u043f\\u0438\\u0441\\u0430\\u043d\\u0438\\u0435\", \"\\u0441\\u043f\\u0438\\u0441\\u0430\\u043d\\u0438\\u0435\", \"\\u0441\\u043f\\u0440\\u0430\\u0432\\u043a\\u0430\", \"\\u0441\\u043f\\u0440\\u0430\\u0432\\u043a\\u0430\", \"\\u0441\\u043f\\u0440\\u0430\\u0432\\u043a\\u0430\", \"\\u0441\\u043f\\u0440\\u0430\\u0432\\u043a\\u0430\", \"\\u0441\\u043f\\u0440\\u0430\\u0432\\u043a\\u0430\", \"\\u0441\\u043f\\u0440\\u0430\\u0432\\u043a\\u0430\", \"\\u0441\\u0440\\u0435\\u0434\\u0441\\u0442\\u0432\\u043e\", \"\\u0441\\u0440\\u0435\\u0434\\u0441\\u0442\\u0432\\u043e\", \"\\u0441\\u0440\\u0435\\u0434\\u0441\\u0442\\u0432\\u043e\", \"\\u0441\\u0440\\u0435\\u0434\\u0441\\u0442\\u0432\\u043e\", \"\\u0441\\u0440\\u0435\\u0434\\u0441\\u0442\\u0432\\u043e\", \"\\u0441\\u0440\\u0435\\u0434\\u0441\\u0442\\u0432\\u043e\", \"\\u0441\\u0440\\u043e\\u043a\", \"\\u0441\\u0440\\u043e\\u043a\", \"\\u0441\\u0440\\u043e\\u043a\", \"\\u0441\\u0440\\u043e\\u043a\", \"\\u0441\\u0440\\u043e\\u043a\", \"\\u0441\\u0441\\u0441\\u0440\", \"\\u0441\\u0442\\u0430\\u0432\\u043a\\u0430\", \"\\u0441\\u0442\\u0430\\u0432\\u043a\\u0430\", \"\\u0441\\u0442\\u0430\\u0432\\u043a\\u0430\", \"\\u0441\\u0442\\u0430\\u0432\\u043a\\u0430\", \"\\u0441\\u0442\\u0430\\u0432\\u043a\\u0430\", \"\\u0441\\u0442\\u0430\\u0436\\u0435\\u0440\", \"\\u0441\\u0442\\u0430\\u0447\\u043a\\u0430\", \"\\u0441\\u0442\\u0435\\u043a\\u043b\\u043e\", \"\\u0441\\u0442\\u0435\\u043d\\u0434\", \"\\u0441\\u0442\\u0435\\u043d\\u043a\\u0430\", \"\\u0441\\u0442\\u043e\\u0439\\u043a\\u0430\", \"\\u0441\\u0442\\u043e\\u0439\\u043a\\u0430\", \"\\u0441\\u0442\\u043e\\u0439\\u043a\\u0430\", \"\\u0441\\u0442\\u043e\\u043b\", \"\\u0441\\u0442\\u043e\\u043b\", \"\\u0441\\u0442\\u043e\\u043b\", \"\\u0441\\u0442\\u043e\\u043b\", \"\\u0441\\u0442\\u043e\\u043b\", \"\\u0441\\u0442\\u043e\\u043f\\u043a\\u0430\", \"\\u0441\\u0442\\u043e\\u043f\\u043a\\u0430\", \"\\u0441\\u0442\\u0440\\u0430\\u043d\\u0438\\u0447\\u043a\\u0430\", \"\\u0441\\u0442\\u0440\\u0430\\u0445\\u043e\\u0432\\u0430\\u043d\\u0438\\u0435\", \"\\u0441\\u0442\\u0440\\u0430\\u0445\\u043e\\u0432\\u0430\\u043d\\u0438\\u0435\", \"\\u0441\\u0442\\u0440\\u0430\\u0445\\u043e\\u0432\\u0430\\u043d\\u0438\\u0435\", \"\\u0441\\u0442\\u0440\\u0430\\u0445\\u043e\\u0432\\u0430\\u043d\\u0438\\u0435\", \"\\u0441\\u0442\\u0440\\u0430\\u0445\\u043e\\u0432\\u0430\\u043d\\u0438\\u0435\", \"\\u0441\\u0442\\u0440\\u0430\\u0445\\u043e\\u0432\\u043a\\u0430\", \"\\u0441\\u0442\\u0440\\u0430\\u0445\\u043e\\u0432\\u043a\\u0430\", \"\\u0441\\u0442\\u0440\\u0430\\u0445\\u043e\\u0432\\u043a\\u0430\", \"\\u0441\\u0442\\u0440\\u0430\\u0445\\u043e\\u0432\\u043a\\u0430\", \"\\u0441\\u0442\\u0440\\u0430\\u0445\\u043e\\u0432\\u043a\\u0430\", \"\\u0441\\u0442\\u0440\\u0430\\u0445\\u043e\\u0432\\u0449\\u0438\\u043a\", \"\\u0441\\u0442\\u0440\\u043e\\u0438\\u0442\\u0435\\u043b\\u044c\\u0441\\u0442\\u0432\\u043e\", \"\\u0441\\u0443\\u0431\\u0431\\u043e\\u0442\\u0430\", \"\\u0441\\u0443\\u0431\\u0431\\u043e\\u0442\\u0430\", \"\\u0441\\u0443\\u0431\\u0431\\u043e\\u0442\\u0430\", \"\\u0441\\u0443\\u0431\\u0431\\u043e\\u0442\\u0430\", \"\\u0441\\u0443\\u0431\\u0431\\u043e\\u0442\\u0430\", \"\\u0441\\u0443\\u0434\", \"\\u0441\\u0443\\u0434\", \"\\u0441\\u0443\\u0434\", \"\\u0441\\u0443\\u0434\", \"\\u0441\\u0443\\u0434\", \"\\u0441\\u0443\\u0434\", \"\\u0441\\u0443\\u043c\\u043c\\u0430\", \"\\u0441\\u0443\\u043c\\u043c\\u0430\", \"\\u0441\\u0443\\u043c\\u043c\\u0430\", \"\\u0441\\u0443\\u043c\\u043c\\u0430\", \"\\u0441\\u0443\\u043c\\u043c\\u0430\", \"\\u0441\\u0447\\u0435\\u0442\", \"\\u0441\\u0447\\u0435\\u0442\", \"\\u0441\\u0447\\u0435\\u0442\", \"\\u0441\\u0447\\u0435\\u0442\", \"\\u0441\\u0447\\u0435\\u0442\", \"\\u0441\\u0447\\u0435\\u0442\", \"\\u0441\\u0447\\u0435\\u0442\\u0447\\u0438\\u043a\", \"\\u0442\\u0430\\u0433\\u0430\\u043d\\u043e\\u043a\", \"\\u0442\\u0430\\u043b\\u043e\\u043d\\u0447\\u0438\\u043a\", \"\\u0442\\u0430\\u043b\\u043e\\u043d\\u0447\\u0438\\u043a\", \"\\u0442\\u0430\\u043b\\u043e\\u043d\\u0447\\u0438\\u043a\", \"\\u0442\\u0430\\u043b\\u043e\\u043d\\u0447\\u0438\\u043a\", \"\\u0442\\u0430\\u0440\\u0438\\u0444\", \"\\u0442\\u0430\\u0440\\u0438\\u0444\", \"\\u0442\\u0430\\u0440\\u0438\\u0444\", \"\\u0442\\u0430\\u0440\\u0438\\u0444\", \"\\u0442\\u0430\\u0440\\u0438\\u0444\", \"\\u0442\\u0432\", \"\\u0442\\u0432\", \"\\u0442\\u0432\", \"\\u0442\\u0432\\u0435\\u0440\\u0441\\u043a\\u0430\\u044f\", \"\\u0442\\u0435\\u043a\\u0443\\u0447\\u043a\\u0430\", \"\\u0442\\u0435\\u043b\\u0435\\u0431\\u0430\\u043d\\u043a\", \"\\u0442\\u0435\\u043b\\u0435\\u0431\\u0430\\u043d\\u043a\", \"\\u0442\\u0435\\u043b\\u0435\\u0431\\u0430\\u043d\\u043a\", \"\\u0442\\u0435\\u043b\\u0435\\u0431\\u0430\\u043d\\u043a\\u0430\", \"\\u0442\\u0435\\u043b\\u0435\\u0444\\u043e\\u043d\", \"\\u0442\\u0435\\u043b\\u0435\\u0444\\u043e\\u043d\", \"\\u0442\\u0435\\u043b\\u0435\\u0444\\u043e\\u043d\", \"\\u0442\\u0435\\u043b\\u0435\\u0444\\u043e\\u043d\", \"\\u0442\\u0435\\u043b\\u0435\\u0444\\u043e\\u043d\", \"\\u0442\\u0435\\u0440\\u043c\\u0438\\u043d\\u0430\\u043b\", \"\\u0442\\u0435\\u0440\\u043c\\u0438\\u043d\\u0430\\u043b\", \"\\u0442\\u0435\\u0440\\u043c\\u0438\\u043d\\u0430\\u043b\", \"\\u0442\\u0435\\u0440\\u043c\\u0438\\u043d\\u0430\\u043b\", \"\\u0442\\u0435\\u0440\\u043c\\u0438\\u043d\\u0430\\u043b\", \"\\u0442\\u043e\\u043a\", \"\\u0442\\u043e\\u043a\\u0435\\u043d\", \"\\u0442\\u043e\\u043b\\u043f\\u0430\", \"\\u0442\\u043e\\u043b\\u043f\\u0430\", \"\\u0442\\u043e\\u0447\\u043d\\u043e\\u0441\\u0442\\u044c\", \"\\u0442\\u0440\\u0435\\u0431\\u043e\\u0432\\u0430\\u043d\\u0438\\u0435\", \"\\u0442\\u0440\\u0435\\u0431\\u043e\\u0432\\u0430\\u043d\\u0438\\u0435\", \"\\u0442\\u0440\\u0435\\u0431\\u043e\\u0432\\u0430\\u043d\\u0438\\u0435\", \"\\u0442\\u0440\\u0435\\u0431\\u043e\\u0432\\u0430\\u043d\\u0438\\u0435\", \"\\u0442\\u0440\\u0435\\u0431\\u043e\\u0432\\u0430\\u043d\\u0438\\u0435\", \"\\u0442\\u0440\\u0435\\u0431\\u043e\\u0432\\u0430\\u043d\\u0438\\u0435\", \"\\u0442\\u0440\\u0443\\u0431\\u0430\", \"\\u0443\\u0431\\u043e\\u0440\\u0449\\u0438\\u0446\\u0430\", \"\\u0443\\u0433\\u043e\\u043b\\u043e\\u043a\", \"\\u0443\\u0433\\u0440\\u043e\\u0437\\u0430\", \"\\u0443\\u0433\\u0440\\u043e\\u0437\\u0430\", \"\\u0443\\u0433\\u0440\\u043e\\u0437\\u0430\", \"\\u0443\\u0433\\u0440\\u043e\\u0437\\u0430\", \"\\u0443\\u0441\\u043b\\u043e\\u0432\\u0438\\u0435\", \"\\u0443\\u0441\\u043b\\u043e\\u0432\\u0438\\u0435\", \"\\u0443\\u0441\\u043b\\u043e\\u0432\\u0438\\u0435\", \"\\u0443\\u0441\\u043b\\u043e\\u0432\\u0438\\u0435\", \"\\u0443\\u0441\\u043b\\u043e\\u0432\\u0438\\u0435\", \"\\u0443\\u0441\\u043b\\u0443\\u0433\\u0430\", \"\\u0443\\u0441\\u043b\\u0443\\u0433\\u0430\", \"\\u0443\\u0441\\u043b\\u0443\\u0433\\u0430\", \"\\u0443\\u0441\\u043b\\u0443\\u0433\\u0430\", \"\\u0443\\u0441\\u043b\\u0443\\u0433\\u0430\", \"\\u0443\\u0444\\u0430\", \"\\u0443\\u0447\\u0430\\u0441\\u0442\\u043e\\u043a\", \"\\u0443\\u0447\\u0440\\u0435\\u0434\\u0438\\u0442\\u0435\\u043b\\u044c\", \"\\u0444\\u0430\\u043a\\u0441\", \"\\u0444\\u0430\\u043a\\u0441\", \"\\u0444\\u0430\\u043a\\u0441\", \"\\u0444\\u0430\\u043d\\u0442\\u0430\\u0441\\u0442\\u0438\\u043a\\u0430\", \"\\u0444\\u0438\\u0437\\u0438\\u043a\", \"\\u0444\\u0438\\u0437\\u043b\\u0438\\u0446\", \"\\u0444\\u0438\\u0437\\u043b\\u0438\\u0446\\u043e\", \"\\u0444\\u0438\\u043b\\u0438\\u0430\\u043b\", \"\\u0444\\u0438\\u043b\\u0438\\u0430\\u043b\", \"\\u0444\\u0438\\u043b\\u0438\\u0430\\u043b\", \"\\u0444\\u0438\\u043b\\u0438\\u0430\\u043b\", \"\\u0444\\u0438\\u043b\\u0438\\u0430\\u043b\", \"\\u0444\\u0438\\u043d\\u0430\\u043d\\u0441\", \"\\u0444\\u0438\\u043d\\u0430\\u043d\\u0441\\u0431\\u0430\\u043d\\u043a\", \"\\u0444\\u0438\\u043d\\u0430\\u043d\\u0441\\u0431\\u0430\\u043d\\u043a\", \"\\u0444\\u0438\\u043d\\u0430\\u043d\\u0441\\u0431\\u0430\\u043d\\u043a\", \"\\u0444\\u0438\\u043d\\u0430\\u043d\\u0441\\u0431\\u0430\\u043d\\u043a\", \"\\u0444\\u0438\\u043d\\u0441\\u0435\\u0440\\u0432\\u0438\\u0441\", \"\\u0444\\u043e\\u0442\\u043e\\u0430\\u043f\\u043f\\u0430\\u0440\\u0430\\u0442\", \"\\u0444\\u0443\\u043d\\u043a\\u0446\\u0438\\u043e\\u043d\\u0430\\u043b\\u044c\\u043d\\u043e\\u0441\\u0442\\u044c\", \"\\u0444\\u0443\\u0442\\u0431\\u043e\\u043b\", \"\\u0445\\u0430\\u043c\", \"\\u0445\\u0430\\u043c\", \"\\u0445\\u043e\\u043b\\u0434\", \"\\u0445\\u043e\\u043b\\u0434\\u0438\\u043d\\u0433\", \"\\u0445\\u043e\\u043b\\u043b\", \"\\u0446\\u0435\\u043d\\u0442\", \"\\u0446\\u0435\\u043d\\u0442\\u0440\", \"\\u0446\\u0435\\u043d\\u0442\\u0440\", \"\\u0446\\u0435\\u043d\\u0442\\u0440\", \"\\u0446\\u0435\\u043d\\u0442\\u0440\", \"\\u0446\\u0435\\u043d\\u0442\\u0440\", \"\\u0447\\u0430\\u0439\", \"\\u0447\\u0430\\u0441\", \"\\u0447\\u0430\\u0441\", \"\\u0447\\u0430\\u0441\", \"\\u0447\\u0430\\u0441\", \"\\u0447\\u0430\\u0441\", \"\\u0447\\u0430\\u0442\", \"\\u0447\\u0430\\u0442\", \"\\u0447\\u0435\\u043a\", \"\\u0447\\u0435\\u043a\", \"\\u0447\\u0435\\u043a\", \"\\u0447\\u0435\\u043a\", \"\\u0447\\u0435\\u043a\\u0430\", \"\\u0447\\u0435\\u043a\\u0430\", \"\\u0447\\u0435\\u043b\\u043e\", \"\\u0447\\u0435\\u043b\\u043e\\u0432\\u0435\\u043a\", \"\\u0447\\u0435\\u043b\\u043e\\u0432\\u0435\\u043a\", \"\\u0447\\u0435\\u043b\\u043e\\u0432\\u0435\\u043a\", \"\\u0447\\u0435\\u043b\\u043e\\u0432\\u0435\\u043a\", \"\\u0447\\u0435\\u043b\\u043e\\u0432\\u0435\\u043a\", \"\\u0447\\u0435\\u0440\\u0442\\u0430\", \"\\u0447\\u0435\\u0445\\u0438\\u044f\", \"\\u0447\\u0438\\u043f\", \"\\u0448\\u043a\\u043e\\u043b\\u0430\", \"\\u0448\\u043a\\u043e\\u043b\\u0430\", \"\\u0448\\u0442\\u0440\\u0430\\u0444\", \"\\u0448\\u0442\\u0440\\u0430\\u0444\", \"\\u0448\\u0442\\u0440\\u0430\\u0444\", \"\\u0448\\u0442\\u0440\\u0430\\u0444\", \"\\u0448\\u0442\\u0440\\u0430\\u0444\", \"\\u044d\\u043a\\u0440\\u0430\\u043d\", \"\\u044d\\u043a\\u0440\\u0430\\u043d\", \"\\u044d\\u043a\\u0440\\u0430\\u043d\", \"\\u044d\\u043a\\u0441\\u043f\\u0435\\u0440\\u0438\\u043c\\u0435\\u043d\\u0442\", \"\\u044d\\u043a\\u0441\\u043f\\u0435\\u0440\\u0442\", \"\\u044d\\u043a\\u0441\\u043f\\u0435\\u0440\\u0442\\u0438\\u0437\\u0430\", \"\\u044d\\u043a\\u0441\\u043f\\u043e\\u0431\\u0430\\u043d\\u043a\", \"\\u044d\\u043b\\u0435\\u043a\\u0442\\u0440\\u043e\\u043d\", \"\\u044d\\u043b\\u044c\\u0434\\u043e\\u0440\\u0430\\u0434\\u043e\", \"\\u044d\\u043b\\u044c\\u0434\\u043e\\u0440\\u0430\\u0434\\u043e\", \"\\u044d\\u043b\\u044c\\u0434\\u043e\\u0440\\u0430\\u0434\\u043e\", \"\\u044d\\u0442\\u0430\\u0436\", \"\\u044e\\u043b\\u044f\", \"\\u044e\\u043b\\u044f\", \"\\u044e\\u043d\\u0438\\u0430\\u0441\\u0442\\u0440\\u0443\\u043c\", \"\\u044e\\u043d\\u0438\\u0430\\u0441\\u0442\\u0440\\u0443\\u043c\", \"\\u044e\\u043d\\u0438\\u043a\\u0440\\u0435\\u0434\\u0438\\u0442\\u0431\\u0430\\u043d\\u043a\", \"\\u044e\\u043d\\u0438\\u0441\\u0442\\u0440\\u0438\\u043c\", \"\\u044e\\u0440\\u0438\\u043a\", \"\\u044e\\u0440\\u043b\\u0438\\u0446\\u0430\", \"\\u044e\\u0440\\u043b\\u0438\\u0446\\u0430\", \"\\u044f\\u0447\\u0435\\u0439\\u043a\\u0430\", \"\\u044f\\u0447\\u0435\\u0439\\u043a\\u0430\", \"\\u044f\\u0447\\u0435\\u0439\\u043a\\u0430\"]}, \"R\": 30, \"lambda.step\": 0.01, \"plot.opts\": {\"xlab\": \"PC1\", \"ylab\": \"PC2\"}, \"topic.order\": [10, 1, 7, 8, 3, 9, 2, 5, 6, 4]};\n",
       "\n",
       "function LDAvis_load_lib(url, callback){\n",
       "  var s = document.createElement('script');\n",
       "  s.src = url;\n",
       "  s.async = true;\n",
       "  s.onreadystatechange = s.onload = callback;\n",
       "  s.onerror = function(){console.warn(\"failed to load library \" + url);};\n",
       "  document.getElementsByTagName(\"head\")[0].appendChild(s);\n",
       "}\n",
       "\n",
       "if(typeof(LDAvis) !== \"undefined\"){\n",
       "   // already loaded: just create the visualization\n",
       "   !function(LDAvis){\n",
       "       new LDAvis(\"#\" + \"ldavis_el75231406027497133605074696213\", ldavis_el75231406027497133605074696213_data);\n",
       "   }(LDAvis);\n",
       "}else if(typeof define === \"function\" && define.amd){\n",
       "   // require.js is available: use it to load d3/LDAvis\n",
       "   require.config({paths: {d3: \"https://d3js.org/d3.v5\"}});\n",
       "   require([\"d3\"], function(d3){\n",
       "      window.d3 = d3;\n",
       "      LDAvis_load_lib(\"https://cdn.jsdelivr.net/gh/bmabey/pyLDAvis@3.3.1/pyLDAvis/js/ldavis.v3.0.0.js\", function(){\n",
       "        new LDAvis(\"#\" + \"ldavis_el75231406027497133605074696213\", ldavis_el75231406027497133605074696213_data);\n",
       "      });\n",
       "    });\n",
       "}else{\n",
       "    // require.js not available: dynamically load d3 & LDAvis\n",
       "    LDAvis_load_lib(\"https://d3js.org/d3.v5.js\", function(){\n",
       "         LDAvis_load_lib(\"https://cdn.jsdelivr.net/gh/bmabey/pyLDAvis@3.3.1/pyLDAvis/js/ldavis.v3.0.0.js\", function(){\n",
       "                 new LDAvis(\"#\" + \"ldavis_el75231406027497133605074696213\", ldavis_el75231406027497133605074696213_data);\n",
       "            })\n",
       "         });\n",
       "}\n",
       "</script>"
      ],
      "text/plain": [
       "PreparedData(topic_coordinates=              x         y  topics  cluster       Freq\n",
       "topic                                                \n",
       "9     -0.306158  0.023141       1        1  27.470136\n",
       "0     -0.264696  0.008867       2        1  22.400483\n",
       "6     -0.232347 -0.035373       3        1  16.937511\n",
       "7     -0.264042  0.046207       4        1  14.653855\n",
       "2     -0.167914 -0.052239       5        1   6.441605\n",
       "8      0.240777 -0.228519       6        1   2.535761\n",
       "1      0.232974  0.043086       7        1   2.505750\n",
       "4      0.250691  0.027227       8        1   2.431792\n",
       "5      0.255475  0.093163       9        1   2.324642\n",
       "3      0.255240  0.074439      10        1   2.298465, topic_info=              Term         Freq        Total Category  logprob  loglift\n",
       "25          кредит  5682.000000  5682.000000  Default  30.0000  30.0000\n",
       "337          вклад  3567.000000  3567.000000  Default  29.0000  29.0000\n",
       "13        документ  2910.000000  2910.000000  Default  28.0000  28.0000\n",
       "296       банкомат  4796.000000  4796.000000  Default  27.0000  27.0000\n",
       "222         заявка  2313.000000  2313.000000  Default  26.0000  26.0000\n",
       "...            ...          ...          ...      ...      ...      ...\n",
       "1292    застройщик   179.481185   196.250022  Topic10  -4.5990   3.6836\n",
       "1684  нововведение   109.962404   117.947973  Topic10  -5.0889   3.7028\n",
       "1980          долл   166.702501   246.403129  Topic10  -4.6729   3.3822\n",
       "2127        второе    88.144870   105.917155  Topic10  -5.3101   3.5893\n",
       "1939           хам   121.497827   177.264251  Topic10  -4.9892   3.3952\n",
       "\n",
       "[613 rows x 6 columns], token_table=      Topic      Freq      Term\n",
       "term                           \n",
       "3019      4  0.989573       аба\n",
       "5231      9  0.997584   абсолют\n",
       "939       1  0.902418  авангард\n",
       "939       2  0.055705  авангард\n",
       "939       4  0.040850  авангард\n",
       "...     ...       ...       ...\n",
       "6062      5  0.004161    юрлица\n",
       "6062      6  0.994529    юрлица\n",
       "1114      2  0.055285    ячейка\n",
       "1114      6  0.916816    ячейка\n",
       "1114      7  0.027643    ячейка\n",
       "\n",
       "[1238 rows x 3 columns], R=30, lambda_step=0.01, plot_opts={'xlab': 'PC1', 'ylab': 'PC2'}, topic_order=[10, 1, 7, 8, 3, 9, 2, 5, 6, 4])"
      ]
     },
     "execution_count": 58,
     "metadata": {},
     "output_type": "execute_result"
    }
   ],
   "source": [
    "vis = gensim_models.prepare(lda10, corpus_tfidf, dictionary)\n",
    "vis"
   ]
  },
  {
   "cell_type": "markdown",
   "metadata": {},
   "source": [
    "## Часть 3. Классификация текстов [40/100]\n",
    "\n",
    "Сформулируем для простоты задачу бинарной классификации: будем классифицировать на два класса, то есть, различать резко отрицательные отзывы (с оценкой 1) и положительные отзывы (с оценкой 5). \n",
    "\n",
    "1.  Составьте обучающее и тестовое множество: выберите из всего набора данных N1 отзывов с оценкой 1 и N2 отзывов с оценкой 5 (значение N1 и N2 – на ваше усмотрение). Используйте ```sklearn.model_selection.train_test_split``` для разделения множества отобранных документов на обучающее и тестовое. \n",
    "2. Используйте любой известный вам алгоритм классификации текстов для решения задачи и получите baseline. Сравните разные варианты векторизации текста: использование только униграм, пар или троек слов или с использованием символьных $n$-грам. \n",
    "3. Сравните, как изменяется качество решения задачи при использовании скрытых тем в качестве признаков:\n",
    "* 1-ый вариант: $tf-idf$ преобразование (```sklearn.feature_extraction.text.TfidfTransformer```) и сингулярное разложение (оно же – латентый семантический анализ) (```sklearn.decomposition.TruncatedSVD```), \n",
    "* 2-ой вариант: тематические модели LDA (```sklearn.decomposition.LatentDirichletAllocation```). \n",
    "\n",
    "Используйте accuracy и F-measure для оценки качества классификации. \n",
    "\n",
    "Ниже написан примерный Pipeline для классификации текстов. \n",
    "\n",
    "Эта часть задания может быть сделана с использованием sklearn. "
   ]
  },
  {
   "cell_type": "code",
   "execution_count": null,
   "metadata": {},
   "outputs": [],
   "source": [
    "\n",
    "\n",
    "# !!! На каждом этапе Pipeline нужно указать свои параметры\n",
    "# 1-ый вариант: tf-idf + LSI\n",
    "# 2-ой вариант: LDA\n",
    "\n",
    "# clf = Pipeline([\n",
    "#     ('vect', CountVectorizer(analyzer = 'char', ngram_range={4,6})),\n",
    "#     ('clf', RandomForestClassifier()),\n",
    "# ])\n",
    "\n",
    "\n",
    "\n",
    "clf = Pipeline([ \n",
    "    ('vect', CountVectorizer()), \n",
    "    ('tfidf', TfidfTransformer()), \n",
    "    ('tm', TruncatedSVD()), \n",
    "    ('clf', RandomForestClassifier())\n",
    "])\n"
   ]
  },
  {
   "cell_type": "code",
   "execution_count": 74,
   "metadata": {},
   "outputs": [],
   "source": [
    "from sklearn.model_selection import train_test_split\n",
    "from sklearn.feature_extraction.text import TfidfTransformer\n",
    "from sklearn.feature_extraction.text import CountVectorizer\n",
    "from sklearn.decomposition import TruncatedSVD\n",
    "from sklearn.decomposition import LatentDirichletAllocation\n",
    "from sklearn.pipeline import Pipeline\n",
    "from sklearn.ensemble import RandomForestClassifier"
   ]
  },
  {
   "cell_type": "code",
   "execution_count": 63,
   "metadata": {},
   "outputs": [],
   "source": [
    "pos_ = pos.sample(frac=0.5)\n",
    "neg_ = neg.sample(frac=0.5)"
   ]
  },
  {
   "cell_type": "code",
   "execution_count": 67,
   "metadata": {
    "scrolled": true
   },
   "outputs": [
    {
     "data": {
      "text/html": [
       "<div>\n",
       "<style scoped>\n",
       "    .dataframe tbody tr th:only-of-type {\n",
       "        vertical-align: middle;\n",
       "    }\n",
       "\n",
       "    .dataframe tbody tr th {\n",
       "        vertical-align: top;\n",
       "    }\n",
       "\n",
       "    .dataframe thead th {\n",
       "        text-align: right;\n",
       "    }\n",
       "</style>\n",
       "<table border=\"1\" class=\"dataframe\">\n",
       "  <thead>\n",
       "    <tr style=\"text-align: right;\">\n",
       "      <th></th>\n",
       "      <th>city</th>\n",
       "      <th>rating_not_checked</th>\n",
       "      <th>title</th>\n",
       "      <th>num_comments</th>\n",
       "      <th>bank_license</th>\n",
       "      <th>author</th>\n",
       "      <th>bank_name</th>\n",
       "      <th>datetime</th>\n",
       "      <th>text</th>\n",
       "      <th>rating_grade</th>\n",
       "      <th>word_count</th>\n",
       "      <th>char_count</th>\n",
       "    </tr>\n",
       "  </thead>\n",
       "  <tbody>\n",
       "    <tr>\n",
       "      <th>0</th>\n",
       "      <td>г. Москва</td>\n",
       "      <td>False</td>\n",
       "      <td>Обидно и унизительно</td>\n",
       "      <td>1</td>\n",
       "      <td>лицензия № 3128</td>\n",
       "      <td>ветка</td>\n",
       "      <td>Банк ИТБ</td>\n",
       "      <td>2012-03-01 23:37:00</td>\n",
       "      <td>Сегодня, 1 марта 2012г я пришла в офис ИТБ Бан...</td>\n",
       "      <td>1.0</td>\n",
       "      <td>431</td>\n",
       "      <td>2775</td>\n",
       "    </tr>\n",
       "    <tr>\n",
       "      <th>1</th>\n",
       "      <td>г. Петрозаводск</td>\n",
       "      <td>False</td>\n",
       "      <td>Дважды списали годовое обслуживание</td>\n",
       "      <td>7</td>\n",
       "      <td>лицензия № 2289</td>\n",
       "      <td>Zefir31</td>\n",
       "      <td>Русский Стандарт</td>\n",
       "      <td>2014-09-14 21:03:00</td>\n",
       "      <td>Добрый вечер! Я прошу вас помочь! Благодаря св...</td>\n",
       "      <td>1.0</td>\n",
       "      <td>216</td>\n",
       "      <td>1349</td>\n",
       "    </tr>\n",
       "    <tr>\n",
       "      <th>2</th>\n",
       "      <td>г. Санкт-Петербург</td>\n",
       "      <td>False</td>\n",
       "      <td>Банкомат ВТБ не зачислил деньги на карту</td>\n",
       "      <td>2</td>\n",
       "      <td>лицензия № 1623</td>\n",
       "      <td>maria222</td>\n",
       "      <td>ВТБ 24</td>\n",
       "      <td>2013-11-07 02:38:00</td>\n",
       "      <td>6 ноября 2013 года я вносила деньги на карту в...</td>\n",
       "      <td>1.0</td>\n",
       "      <td>163</td>\n",
       "      <td>1018</td>\n",
       "    </tr>\n",
       "    <tr>\n",
       "      <th>3</th>\n",
       "      <td>None</td>\n",
       "      <td>False</td>\n",
       "      <td>Денег не выдали, а со счета списали</td>\n",
       "      <td>2</td>\n",
       "      <td>лицензия № 1637</td>\n",
       "      <td>alfastroi</td>\n",
       "      <td>СДМ-Банк</td>\n",
       "      <td>2008-08-19 18:12:00</td>\n",
       "      <td>Сегодня в банкомате банка на 65 км МКАД по кар...</td>\n",
       "      <td>1.0</td>\n",
       "      <td>119</td>\n",
       "      <td>838</td>\n",
       "    </tr>\n",
       "    <tr>\n",
       "      <th>4</th>\n",
       "      <td>г. Тюмень</td>\n",
       "      <td>False</td>\n",
       "      <td>Мобильный банк - как и Сбербанк</td>\n",
       "      <td>24</td>\n",
       "      <td>лицензия № 1481</td>\n",
       "      <td>foxskum</td>\n",
       "      <td>Сбербанк России</td>\n",
       "      <td>2012-05-16 09:06:00</td>\n",
       "      <td>Есть карточка, открытая по программе какой-то ...</td>\n",
       "      <td>1.0</td>\n",
       "      <td>270</td>\n",
       "      <td>1699</td>\n",
       "    </tr>\n",
       "  </tbody>\n",
       "</table>\n",
       "</div>"
      ],
      "text/plain": [
       "                 city  rating_not_checked  \\\n",
       "0           г. Москва               False   \n",
       "1     г. Петрозаводск               False   \n",
       "2  г. Санкт-Петербург               False   \n",
       "3                None               False   \n",
       "4           г. Тюмень               False   \n",
       "\n",
       "                                      title  num_comments     bank_license  \\\n",
       "0                      Обидно и унизительно             1  лицензия № 3128   \n",
       "1       Дважды списали годовое обслуживание             7  лицензия № 2289   \n",
       "2  Банкомат ВТБ не зачислил деньги на карту             2  лицензия № 1623   \n",
       "3       Денег не выдали, а со счета списали             2  лицензия № 1637   \n",
       "4           Мобильный банк - как и Сбербанк            24  лицензия № 1481   \n",
       "\n",
       "      author         bank_name             datetime  \\\n",
       "0      ветка          Банк ИТБ  2012-03-01 23:37:00   \n",
       "1    Zefir31  Русский Стандарт  2014-09-14 21:03:00   \n",
       "2   maria222            ВТБ 24  2013-11-07 02:38:00   \n",
       "3  alfastroi          СДМ-Банк  2008-08-19 18:12:00   \n",
       "4    foxskum   Сбербанк России  2012-05-16 09:06:00   \n",
       "\n",
       "                                                text  rating_grade  \\\n",
       "0  Сегодня, 1 марта 2012г я пришла в офис ИТБ Бан...           1.0   \n",
       "1  Добрый вечер! Я прошу вас помочь! Благодаря св...           1.0   \n",
       "2  6 ноября 2013 года я вносила деньги на карту в...           1.0   \n",
       "3  Сегодня в банкомате банка на 65 км МКАД по кар...           1.0   \n",
       "4  Есть карточка, открытая по программе какой-то ...           1.0   \n",
       "\n",
       "   word_count  char_count  \n",
       "0         431        2775  \n",
       "1         216        1349  \n",
       "2         163        1018  \n",
       "3         119         838  \n",
       "4         270        1699  "
      ]
     },
     "execution_count": 67,
     "metadata": {},
     "output_type": "execute_result"
    }
   ],
   "source": [
    "df_ = pd.concat([pos_,neg_]).sample(frac=1).reset_index(drop=True)\n",
    "df_.head()"
   ]
  },
  {
   "cell_type": "code",
   "execution_count": 72,
   "metadata": {},
   "outputs": [],
   "source": [
    "X_train, X_test, y_train, y_test = train_test_split(df_['text'], df_['rating_grade'], test_size=0.33, random_state=42)"
   ]
  },
  {
   "cell_type": "code",
   "execution_count": 78,
   "metadata": {},
   "outputs": [
    {
     "data": {
      "text/plain": [
       "0.8099931687323119"
      ]
     },
     "execution_count": 78,
     "metadata": {},
     "output_type": "execute_result"
    }
   ],
   "source": [
    "clf = Pipeline([ \n",
    "    ('vect', CountVectorizer()), \n",
    "    ('tfidf', TfidfTransformer()), \n",
    "    ('tm', TruncatedSVD()), \n",
    "    ('clf', RandomForestClassifier())\n",
    "])\n",
    "clf.fit(X_train, y_train)\n",
    "clf.score(X_test, y_test)"
   ]
  },
  {
   "cell_type": "code",
   "execution_count": 80,
   "metadata": {},
   "outputs": [
    {
     "data": {
      "text/plain": [
       "0.8322435834878501"
      ]
     },
     "execution_count": 80,
     "metadata": {},
     "output_type": "execute_result"
    }
   ],
   "source": [
    "clf1 = Pipeline([\n",
    "    ('vect', CountVectorizer()), \n",
    "    ('lda', LatentDirichletAllocation()), \n",
    "    ('tm', TruncatedSVD()), \n",
    "    ('clf', RandomForestClassifier())\n",
    "])\n",
    "clf1.fit(X_train, y_train)\n",
    "clf1.score(X_test, y_test)"
   ]
  }
 ],
 "metadata": {
  "kernelspec": {
   "display_name": "Python 3",
   "language": "python",
   "name": "python3"
  },
  "language_info": {
   "codemirror_mode": {
    "name": "ipython",
    "version": 3
   },
   "file_extension": ".py",
   "mimetype": "text/x-python",
   "name": "python",
   "nbconvert_exporter": "python",
   "pygments_lexer": "ipython3",
   "version": "3.7.10"
  }
 },
 "nbformat": 4,
 "nbformat_minor": 2
}
