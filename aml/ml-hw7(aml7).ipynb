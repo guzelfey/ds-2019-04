{
 "cells": [
  {
   "cell_type": "markdown",
   "metadata": {},
   "source": [
    "+ Прочитать про методы оптимизации для нейронных сетей https://habr.com/post/318970/\n",
    "+ Взять код градиентного спуска для линейной регрессии (с занятия) и обучить ее\n",
    "+ Методом nesterov momentum\n",
    "+ Методом rmsprop\n",
    "+ Задание со звездочкой - доработать код логистической регрессии из первого занятия и обучить ее теми же методами для задачи классификации Ирисов (взять только два цветка - Iris Versicolor и Iris Virginica)"
   ]
  },
  {
   "cell_type": "code",
   "execution_count": 1,
   "metadata": {},
   "outputs": [],
   "source": [
    "import numpy as np\n",
    "import random\n",
    "import matplotlib.pyplot as plt\n",
    "import pandas as pd\n",
    "from sklearn import datasets\n",
    "from sklearn.model_selection import train_test_split\n",
    "from sklearn.metrics import accuracy_score\n",
    "import matplotlib.pyplot as plt\n",
    "%matplotlib inline"
   ]
  },
  {
   "cell_type": "markdown",
   "metadata": {},
   "source": [
    "## Загрузим датасет"
   ]
  },
  {
   "cell_type": "code",
   "execution_count": 2,
   "metadata": {},
   "outputs": [],
   "source": [
    "iris = datasets.load_iris()"
   ]
  },
  {
   "cell_type": "code",
   "execution_count": 3,
   "metadata": {},
   "outputs": [
    {
     "data": {
      "text/html": [
       "<div>\n",
       "<style scoped>\n",
       "    .dataframe tbody tr th:only-of-type {\n",
       "        vertical-align: middle;\n",
       "    }\n",
       "\n",
       "    .dataframe tbody tr th {\n",
       "        vertical-align: top;\n",
       "    }\n",
       "\n",
       "    .dataframe thead th {\n",
       "        text-align: right;\n",
       "    }\n",
       "</style>\n",
       "<table border=\"1\" class=\"dataframe\">\n",
       "  <thead>\n",
       "    <tr style=\"text-align: right;\">\n",
       "      <th></th>\n",
       "      <th>sepal length (cm)</th>\n",
       "      <th>sepal width (cm)</th>\n",
       "      <th>petal length (cm)</th>\n",
       "      <th>petal width (cm)</th>\n",
       "      <th>target</th>\n",
       "    </tr>\n",
       "  </thead>\n",
       "  <tbody>\n",
       "    <tr>\n",
       "      <th>0</th>\n",
       "      <td>5.1</td>\n",
       "      <td>3.5</td>\n",
       "      <td>1.4</td>\n",
       "      <td>0.2</td>\n",
       "      <td>0.0</td>\n",
       "    </tr>\n",
       "    <tr>\n",
       "      <th>1</th>\n",
       "      <td>4.9</td>\n",
       "      <td>3.0</td>\n",
       "      <td>1.4</td>\n",
       "      <td>0.2</td>\n",
       "      <td>0.0</td>\n",
       "    </tr>\n",
       "    <tr>\n",
       "      <th>2</th>\n",
       "      <td>4.7</td>\n",
       "      <td>3.2</td>\n",
       "      <td>1.3</td>\n",
       "      <td>0.2</td>\n",
       "      <td>0.0</td>\n",
       "    </tr>\n",
       "    <tr>\n",
       "      <th>3</th>\n",
       "      <td>4.6</td>\n",
       "      <td>3.1</td>\n",
       "      <td>1.5</td>\n",
       "      <td>0.2</td>\n",
       "      <td>0.0</td>\n",
       "    </tr>\n",
       "    <tr>\n",
       "      <th>4</th>\n",
       "      <td>5.0</td>\n",
       "      <td>3.6</td>\n",
       "      <td>1.4</td>\n",
       "      <td>0.2</td>\n",
       "      <td>0.0</td>\n",
       "    </tr>\n",
       "  </tbody>\n",
       "</table>\n",
       "</div>"
      ],
      "text/plain": [
       "   sepal length (cm)  sepal width (cm)  petal length (cm)  petal width (cm)  \\\n",
       "0                5.1               3.5                1.4               0.2   \n",
       "1                4.9               3.0                1.4               0.2   \n",
       "2                4.7               3.2                1.3               0.2   \n",
       "3                4.6               3.1                1.5               0.2   \n",
       "4                5.0               3.6                1.4               0.2   \n",
       "\n",
       "   target  \n",
       "0     0.0  \n",
       "1     0.0  \n",
       "2     0.0  \n",
       "3     0.0  \n",
       "4     0.0  "
      ]
     },
     "execution_count": 3,
     "metadata": {},
     "output_type": "execute_result"
    }
   ],
   "source": [
    "data=pd.DataFrame(data= np.c_[iris['data'], iris['target']], columns= iris['feature_names'] + ['target'])\n",
    "data.head()"
   ]
  },
  {
   "cell_type": "code",
   "execution_count": 4,
   "metadata": {},
   "outputs": [
    {
     "data": {
      "text/plain": [
       "array(['setosa', 'versicolor', 'virginica'], dtype='<U10')"
      ]
     },
     "execution_count": 4,
     "metadata": {},
     "output_type": "execute_result"
    }
   ],
   "source": [
    "iris.target_names"
   ]
  },
  {
   "cell_type": "markdown",
   "metadata": {},
   "source": [
    "Оставим два последних класса."
   ]
  },
  {
   "cell_type": "code",
   "execution_count": 5,
   "metadata": {
    "scrolled": true
   },
   "outputs": [
    {
     "data": {
      "text/html": [
       "<div>\n",
       "<style scoped>\n",
       "    .dataframe tbody tr th:only-of-type {\n",
       "        vertical-align: middle;\n",
       "    }\n",
       "\n",
       "    .dataframe tbody tr th {\n",
       "        vertical-align: top;\n",
       "    }\n",
       "\n",
       "    .dataframe thead th {\n",
       "        text-align: right;\n",
       "    }\n",
       "</style>\n",
       "<table border=\"1\" class=\"dataframe\">\n",
       "  <thead>\n",
       "    <tr style=\"text-align: right;\">\n",
       "      <th></th>\n",
       "      <th>sepal length (cm)</th>\n",
       "      <th>sepal width (cm)</th>\n",
       "      <th>petal length (cm)</th>\n",
       "      <th>petal width (cm)</th>\n",
       "      <th>target</th>\n",
       "    </tr>\n",
       "  </thead>\n",
       "  <tbody>\n",
       "    <tr>\n",
       "      <th>50</th>\n",
       "      <td>7.0</td>\n",
       "      <td>3.2</td>\n",
       "      <td>4.7</td>\n",
       "      <td>1.4</td>\n",
       "      <td>0.0</td>\n",
       "    </tr>\n",
       "    <tr>\n",
       "      <th>51</th>\n",
       "      <td>6.4</td>\n",
       "      <td>3.2</td>\n",
       "      <td>4.5</td>\n",
       "      <td>1.5</td>\n",
       "      <td>0.0</td>\n",
       "    </tr>\n",
       "    <tr>\n",
       "      <th>52</th>\n",
       "      <td>6.9</td>\n",
       "      <td>3.1</td>\n",
       "      <td>4.9</td>\n",
       "      <td>1.5</td>\n",
       "      <td>0.0</td>\n",
       "    </tr>\n",
       "    <tr>\n",
       "      <th>53</th>\n",
       "      <td>5.5</td>\n",
       "      <td>2.3</td>\n",
       "      <td>4.0</td>\n",
       "      <td>1.3</td>\n",
       "      <td>0.0</td>\n",
       "    </tr>\n",
       "    <tr>\n",
       "      <th>54</th>\n",
       "      <td>6.5</td>\n",
       "      <td>2.8</td>\n",
       "      <td>4.6</td>\n",
       "      <td>1.5</td>\n",
       "      <td>0.0</td>\n",
       "    </tr>\n",
       "  </tbody>\n",
       "</table>\n",
       "</div>"
      ],
      "text/plain": [
       "    sepal length (cm)  sepal width (cm)  petal length (cm)  petal width (cm)  \\\n",
       "50                7.0               3.2                4.7               1.4   \n",
       "51                6.4               3.2                4.5               1.5   \n",
       "52                6.9               3.1                4.9               1.5   \n",
       "53                5.5               2.3                4.0               1.3   \n",
       "54                6.5               2.8                4.6               1.5   \n",
       "\n",
       "    target  \n",
       "50     0.0  \n",
       "51     0.0  \n",
       "52     0.0  \n",
       "53     0.0  \n",
       "54     0.0  "
      ]
     },
     "execution_count": 5,
     "metadata": {},
     "output_type": "execute_result"
    }
   ],
   "source": [
    "data=data[data['target']!=0]\n",
    "data['target'].replace({1.:0,2.:1},inplace=True)\n",
    "data.head()"
   ]
  },
  {
   "cell_type": "code",
   "execution_count": 6,
   "metadata": {
    "scrolled": true
   },
   "outputs": [
    {
     "data": {
      "text/plain": [
       "1.0    50\n",
       "0.0    50\n",
       "Name: target, dtype: int64"
      ]
     },
     "execution_count": 6,
     "metadata": {},
     "output_type": "execute_result"
    }
   ],
   "source": [
    "data['target'].value_counts()"
   ]
  },
  {
   "cell_type": "code",
   "execution_count": 7,
   "metadata": {},
   "outputs": [],
   "source": [
    "X=data[['sepal length (cm)', 'sepal width (cm)', 'petal length (cm)','petal width (cm)']]\n",
    "Y=data['target'].to_numpy()\n",
    "X_ = np.c_[np.ones(shape=(X.shape[0],1)),X]"
   ]
  },
  {
   "cell_type": "markdown",
   "metadata": {},
   "source": [
    "### Логистическая регрессия"
   ]
  },
  {
   "cell_type": "markdown",
   "metadata": {},
   "source": [
    "1) Градиентный спуск"
   ]
  },
  {
   "cell_type": "code",
   "execution_count": 8,
   "metadata": {},
   "outputs": [],
   "source": [
    "def gradient_descent_lr(alpha, X, cl, numIterations):\n",
    "    \"\"\"\n",
    "    Функция реализует алгоритм градиентного спуска логистической регрессии\n",
    "    \"\"\"\n",
    "    m = X.shape[0] # 100\n",
    "    theta = np.random.random(X.shape[1])/20    # (5,)\n",
    "    cost=np.ones(numIterations)\n",
    "    for iter in range(0, numIterations):\n",
    "        yhat = 1 / (1 + np.exp(-np.dot(X,theta)))    # (100,)\n",
    "        loss = - (cl*np.log(yhat) + (1-cl)*np.log(1-yhat))\n",
    "        J = 1/m * sum(loss)  # функция cost\n",
    "        # print( \"iter %s | J: %.3f\" % (iter, J) )\n",
    "        dJ = np.dot(X.transpose(),(yhat-cl))         \n",
    "        theta = theta - alpha * dJ  # update\n",
    "        cost[iter]=J\n",
    "    plt.plot(cost)\n",
    "    plt.show()\n",
    "    return theta"
   ]
  },
  {
   "cell_type": "code",
   "execution_count": 9,
   "metadata": {
    "scrolled": true
   },
   "outputs": [
    {
     "data": {
      "image/png": "[encoded data removed]",
      "text/plain": [
       "<Figure size 432x288 with 1 Axes>"
      ]
     },
     "metadata": {
      "needs_background": "light"
     },
     "output_type": "display_data"
    },
    {
     "name": "stdout",
     "output_type": "stream",
     "text": [
      "CPU times: user 569 ms, sys: 7.39 ms, total: 577 ms\n",
      "Wall time: 582 ms\n"
     ]
    }
   ],
   "source": [
    "%%time\n",
    "theta_ = gradient_descent_lr(0.0001, X_,Y, 10000)"
   ]
  },
  {
   "cell_type": "code",
   "execution_count": 10,
   "metadata": {},
   "outputs": [],
   "source": [
    "yhat_ = 1 / (1 + np.exp(-np.dot(X_,theta_)))\n",
    "ypred_ = np.where(yhat_<0.5,0,1)"
   ]
  },
  {
   "cell_type": "code",
   "execution_count": 11,
   "metadata": {},
   "outputs": [
    {
     "data": {
      "text/plain": [
       "0.97"
      ]
     },
     "execution_count": 11,
     "metadata": {},
     "output_type": "execute_result"
    }
   ],
   "source": [
    "accuracy_score(Y,ypred_)"
   ]
  },
  {
   "cell_type": "markdown",
   "metadata": {},
   "source": [
    "2) Момент Нестерова"
   ]
  },
  {
   "cell_type": "code",
   "execution_count": 12,
   "metadata": {},
   "outputs": [],
   "source": [
    "def nesterov_lr(alpha, gamma, X, cl, numIterations):\n",
    "    \"\"\"\n",
    "    Функция реализует алгоритм момента Нестерова логистической регрессии\n",
    "    \"\"\"\n",
    "    m = X.shape[0] # 100\n",
    "    theta = np.random.random(X.shape[1])/20    # (5,)\n",
    "    theta_zero = theta    # (3,)\n",
    "    cost=np.ones(numIterations)\n",
    "    v_t = np.random.random(X.shape[1])/20\n",
    "    \n",
    "    for iter in range(0, numIterations):\n",
    "        theta_one = theta - gamma*v_t\n",
    "        yhat = 1 / (1 + np.exp(-np.dot(X,theta_one)))    # (100,)\n",
    "        loss = - (cl*np.log(yhat) + (1-cl)*np.log(1-yhat))\n",
    "        J = 1/m * sum(loss)  # функция cost\n",
    "        dJ = np.dot(X.transpose(),(yhat-cl))  # delta J \n",
    "        v_t = gamma * v_t + alpha * dJ\n",
    "        theta = theta - v_t  # update\n",
    "        theta_zero = theta\n",
    "        cost[iter]=J\n",
    "    \n",
    "    plt.plot(cost)\n",
    "    plt.show()\n",
    "    return theta"
   ]
  },
  {
   "cell_type": "code",
   "execution_count": 13,
   "metadata": {
    "scrolled": true
   },
   "outputs": [
    {
     "data": {
      "image/png": "[encoded data removed]",
      "text/plain": [
       "<Figure size 432x288 with 1 Axes>"
      ]
     },
     "metadata": {
      "needs_background": "light"
     },
     "output_type": "display_data"
    },
    {
     "name": "stdout",
     "output_type": "stream",
     "text": [
      "CPU times: user 762 ms, sys: 19.8 ms, total: 782 ms\n",
      "Wall time: 813 ms\n"
     ]
    }
   ],
   "source": [
    "%%time\n",
    "theta_n = nesterov_lr(0.0003,0.02, X_,Y, 10000)"
   ]
  },
  {
   "cell_type": "code",
   "execution_count": 14,
   "metadata": {},
   "outputs": [],
   "source": [
    "yhat_n = 1 / (1 + np.exp(-np.dot(X_,theta_n)))\n",
    "ypred_n = np.where(yhat_n<0.5,0,1)"
   ]
  },
  {
   "cell_type": "code",
   "execution_count": 15,
   "metadata": {},
   "outputs": [
    {
     "data": {
      "text/plain": [
       "0.97"
      ]
     },
     "execution_count": 15,
     "metadata": {},
     "output_type": "execute_result"
    }
   ],
   "source": [
    "accuracy_score(Y,ypred_n)"
   ]
  },
  {
   "cell_type": "markdown",
   "metadata": {},
   "source": [
    "3) RMSProp"
   ]
  },
  {
   "cell_type": "code",
   "execution_count": 16,
   "metadata": {},
   "outputs": [],
   "source": [
    "def rmsprop_lr(alpha, gamma, epsilon, X, cl, numIterations):\n",
    "    \"\"\"\n",
    "    Функция реализует алгоритм момента Нестерова логистической регрессии\n",
    "    \"\"\"\n",
    "    m = X.shape[0] # 100\n",
    "    theta = np.random.random(X.shape[1])/20    # (5,)\n",
    "    cost=np.ones(numIterations)\n",
    "    E_g_sq = np.random.random(X.shape[1])/20   # (5,)\n",
    "    \n",
    "    for iter in range(0, numIterations):\n",
    "        yhat = 1 / (1 + np.exp(-np.dot(X,theta)))    # (100,)\n",
    "        loss = - (cl*np.log(yhat) + (1-cl)*np.log(1-yhat)) # (100,)\n",
    "        J = 1/m * sum(loss)  # функция cost \n",
    "        dJ = np.dot(X.transpose(),(yhat-cl))  # delta J \n",
    "        g_rms = dJ / np.sqrt(E_g_sq + epsilon)\n",
    "        theta = theta - alpha * g_rms  # update\n",
    "        theta_zero = theta\n",
    "        cost[iter]=J\n",
    "        E_g_sq = gamma * E_g_sq + (1 - gamma) * (dJ ** 2)\n",
    "    \n",
    "    plt.plot(cost)\n",
    "    plt.show()\n",
    "    return theta"
   ]
  },
  {
   "cell_type": "code",
   "execution_count": 17,
   "metadata": {
    "scrolled": true
   },
   "outputs": [
    {
     "data": {
      "image/png": "[encoded data removed]",
      "text/plain": [
       "<Figure size 432x288 with 1 Axes>"
      ]
     },
     "metadata": {
      "needs_background": "light"
     },
     "output_type": "display_data"
    },
    {
     "name": "stdout",
     "output_type": "stream",
     "text": [
      "CPU times: user 763 ms, sys: 17 ms, total: 780 ms\n",
      "Wall time: 815 ms\n"
     ]
    }
   ],
   "source": [
    "%%time\n",
    "theta_r = rmsprop_lr(0.0003,0.02,0.0000001, X_,Y, 10000)"
   ]
  },
  {
   "cell_type": "code",
   "execution_count": 18,
   "metadata": {},
   "outputs": [],
   "source": [
    "yhat_r = 1 / (1 + np.exp(-np.dot(X_,theta_r)))\n",
    "ypred_r = np.where(yhat_n<0.5,0,1)"
   ]
  },
  {
   "cell_type": "code",
   "execution_count": 19,
   "metadata": {},
   "outputs": [
    {
     "data": {
      "text/plain": [
       "0.97"
      ]
     },
     "execution_count": 19,
     "metadata": {},
     "output_type": "execute_result"
    }
   ],
   "source": [
    "accuracy_score(Y,ypred_r)"
   ]
  },
  {
   "cell_type": "markdown",
   "metadata": {},
   "source": [
    "### Линейный классификатор с градиентным спуском"
   ]
  },
  {
   "cell_type": "code",
   "execution_count": 20,
   "metadata": {},
   "outputs": [],
   "source": [
    "def gradient_descent_lc(alpha, X, cl, numIterations):\n",
    "    \"\"\"\n",
    "    Функция реализует алгоритм градиентного спуска линейного классификатора\n",
    "    \"\"\"\n",
    "    m = X.shape[0] # 100\n",
    "    theta = np.random.random(X.shape[1])/20    # (5,)\n",
    "    cost=np.ones(numIterations)\n",
    "    for iter in range(0, numIterations):\n",
    "        yhat = np.sign(np.dot(X,theta))\n",
    "        loss = - (cl*np.log(yhat) + (1-cl)*np.log(1-yhat))\n",
    "        J = 1/m * sum(loss)  # функция cost\n",
    "        dJ = np.sign(np.dot(X,theta))         \n",
    "        theta = theta - alpha * dJ  # update\n",
    "        cost[iter]=J\n",
    "    plt.plot(cost)\n",
    "    plt.show()\n",
    "    return theta"
   ]
  }
 ],
 "metadata": {
  "kernelspec": {
   "display_name": "Python 3",
   "language": "python",
   "name": "python3"
  },
  "language_info": {
   "codemirror_mode": {
    "name": "ipython",
    "version": 3
   },
   "file_extension": ".py",
   "mimetype": "text/x-python",
   "name": "python",
   "nbconvert_exporter": "python",
   "pygments_lexer": "ipython3",
   "version": "3.7.10"
  }
 },
 "nbformat": 4,
 "nbformat_minor": 2
}
