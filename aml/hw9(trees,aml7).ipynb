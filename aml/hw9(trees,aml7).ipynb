{
 "cells": [
  {
   "cell_type": "markdown",
   "metadata": {},
   "source": [
    "# Подбор параметров"
   ]
  },
  {
   "cell_type": "code",
   "execution_count": 1,
   "metadata": {
    "ExecuteTime": {
     "end_time": "2018-12-03T08:12:47.944076Z",
     "start_time": "2018-12-03T08:12:46.719605Z"
    }
   },
   "outputs": [],
   "source": [
    "from sklearn.datasets import load_boston\n",
    "from sklearn.model_selection import train_test_split, cross_val_score, GridSearchCV, RandomizedSearchCV\n",
    "from sklearn.metrics import mean_squared_error\n",
    "from sklearn.linear_model import LinearRegression, Ridge, Lasso\n",
    "from sklearn.ensemble import GradientBoostingRegressor, RandomForestRegressor\n",
    "from sklearn import metrics\n",
    "import matplotlib.pyplot as plt\n",
    "import numpy as np\n",
    "%matplotlib inline"
   ]
  },
  {
   "cell_type": "code",
   "execution_count": 2,
   "metadata": {
    "ExecuteTime": {
     "end_time": "2018-12-03T08:12:47.977584Z",
     "start_time": "2018-12-03T08:12:47.970330Z"
    }
   },
   "outputs": [],
   "source": [
    "# read in the data\n",
    "boston = load_boston()\n",
    "\n",
    "# create X (features) and y (response)\n",
    "X = boston.data\n",
    "y = boston.target"
   ]
  },
  {
   "cell_type": "code",
   "execution_count": 3,
   "metadata": {
    "scrolled": true
   },
   "outputs": [
    {
     "name": "stdout",
     "output_type": "stream",
     "text": [
      "№0 RMSE: 4.43993, R2: 0.74\n",
      "№1 RMSE: 3.9561, R2: 0.73\n",
      "№2 RMSE: 6.23628, R2: 0.77\n",
      "№3 RMSE: 4.65018, R2: 0.75\n",
      "№4 RMSE: 4.35126, R2: 0.72\n",
      "№5 RMSE: 6.23628, R2: 0.77\n",
      "№6 RMSE: 4.52315, R2: 0.74\n",
      "№7 RMSE: 4.06019, R2: 0.74\n",
      "№8 RMSE: 5.35729, R2: 0.76\n",
      "№9 RMSE: 4.76798, R2: 0.73\n",
      "№10 RMSE: 4.7628, R2: 0.74\n",
      "№11 RMSE: 5.21824, R2: 0.75\n",
      "№12 RMSE: 5.10872, R2: 0.75\n",
      "№13 RMSE: 4.7909, R2: 0.73\n",
      "№14 RMSE: 5.1324, R2: 0.76\n",
      "№15 RMSE: 4.87158, R2: 0.73\n",
      "№16 RMSE: 4.13814, R2: 0.72\n",
      "№17 RMSE: 4.89864, R2: 0.75\n",
      "№18 RMSE: 5.01652, R2: 0.75\n",
      "№19 RMSE: 4.77999, R2: 0.75\n"
     ]
    }
   ],
   "source": [
    "for i in range(20):\n",
    "    rand_state = np.random.randint(100)\n",
    "    X_train, X_test, y_train, y_test = train_test_split(X, y, random_state=rand_state)\n",
    "    model = LinearRegression() \n",
    "    model.fit(X_train, y_train)\n",
    "    predictions = model.predict(X_test)\n",
    "    rmse = (np.sqrt(mean_squared_error(y_test, predictions)))\n",
    "    r2 = round(model.score(X_train, y_train),2)\n",
    "    print('№{} RMSE: {}, R2: {}'.format(i, round(rmse, 5),r2))"
   ]
  },
  {
   "cell_type": "code",
   "execution_count": 4,
   "metadata": {},
   "outputs": [
    {
     "name": "stdout",
     "output_type": "stream",
     "text": [
      "[ 0.73376082  0.4730725  -1.00631454  0.64113984  0.54766046  0.73640292\n",
      "  0.37828386 -0.12922703 -0.76843243  0.4189435 ]\n",
      "Average result: 0.203\n"
     ]
    }
   ],
   "source": [
    "model = LinearRegression()\n",
    "results = cross_val_score(model, X, y, cv=10)\n",
    "print(results)\n",
    "print('Average result: {}'.format(round(np.mean(results), 3)))"
   ]
  },
  {
   "cell_type": "markdown",
   "metadata": {},
   "source": [
    "## GridSearchCV"
   ]
  },
  {
   "cell_type": "code",
   "execution_count": 5,
   "metadata": {
    "ExecuteTime": {
     "end_time": "2018-12-03T08:12:50.066712Z",
     "start_time": "2018-12-03T08:12:50.063931Z"
    }
   },
   "outputs": [],
   "source": [
    "# instantiate the grid\n",
    "aran = np.linspace(0.0001,0.1,10)\n",
    "param_grid = dict(alpha=aran)\n",
    "grid = GridSearchCV(Lasso(), param_grid=param_grid, cv=10, scoring='r2')"
   ]
  },
  {
   "cell_type": "code",
   "execution_count": 6,
   "metadata": {
    "ExecuteTime": {
     "end_time": "2018-12-03T08:12:51.047505Z",
     "start_time": "2018-12-03T08:12:50.396843Z"
    }
   },
   "outputs": [
    {
     "data": {
      "text/plain": [
       "GridSearchCV(cv=10, error_score=nan,\n",
       "             estimator=Lasso(alpha=1.0, copy_X=True, fit_intercept=True,\n",
       "                             max_iter=1000, normalize=False, positive=False,\n",
       "                             precompute=False, random_state=None,\n",
       "                             selection='cyclic', tol=0.0001, warm_start=False),\n",
       "             iid='deprecated', n_jobs=None,\n",
       "             param_grid={'alpha': array([0.0001, 0.0112, 0.0223, 0.0334, 0.0445, 0.0556, 0.0667, 0.0778,\n",
       "       0.0889, 0.1   ])},\n",
       "             pre_dispatch='2*n_jobs', refit=True, return_train_score=False,\n",
       "             scoring='r2', verbose=0)"
      ]
     },
     "execution_count": 6,
     "metadata": {},
     "output_type": "execute_result"
    }
   ],
   "source": [
    "# fit the grid with data\n",
    "grid.fit(X, y)"
   ]
  },
  {
   "cell_type": "code",
   "execution_count": 7,
   "metadata": {
    "ExecuteTime": {
     "end_time": "2018-12-03T08:12:51.172647Z",
     "start_time": "2018-12-03T08:12:51.164551Z"
    }
   },
   "outputs": [
    {
     "name": "stdout",
     "output_type": "stream",
     "text": [
      "mean_fit_time : 0.0015040874481201173\n",
      "std_fit_time : 0.0006769046526173155\n",
      "mean_score_time : 0.0008833169937133789\n",
      "std_score_time : 0.0012777896998235677\n",
      "param_alpha : 0.0001\n",
      "params : {'alpha': 0.0001}\n",
      "split0_test_score : 0.7337764275910776\n",
      "split1_test_score : 0.47329435215804827\n",
      "split2_test_score : -1.0035617942756199\n",
      "split3_test_score : 0.6410720314067737\n",
      "split4_test_score : 0.5478399328225411\n",
      "split5_test_score : 0.7364729336872822\n",
      "split6_test_score : 0.378485255506969\n",
      "split7_test_score : -0.12927075368030905\n",
      "split8_test_score : -0.7684845464039076\n",
      "split9_test_score : 0.41888881923551535\n",
      "mean_test_score : 0.20285126580483714\n",
      "std_test_score : 0.5947754185281068\n",
      "rank_test_score : 10\n"
     ]
    }
   ],
   "source": [
    "# view the complete results (list of named tuples)\n",
    "for k in grid.cv_results_:\n",
    "    print(k, \":\", grid.cv_results_[k][0])"
   ]
  },
  {
   "cell_type": "code",
   "execution_count": 8,
   "metadata": {
    "ExecuteTime": {
     "end_time": "2018-12-03T08:12:51.297200Z",
     "start_time": "2018-12-03T08:12:51.292956Z"
    }
   },
   "outputs": [
    {
     "name": "stdout",
     "output_type": "stream",
     "text": [
      "[0.20285127 0.23299723 0.25192648 0.25951362 0.25901309 0.25677857\n",
      " 0.26001547 0.26163897 0.26307594 0.26432739]\n"
     ]
    }
   ],
   "source": [
    "test_scores = grid.cv_results_['mean_test_score']\n",
    "print(test_scores)"
   ]
  },
  {
   "cell_type": "code",
   "execution_count": 9,
   "metadata": {
    "ExecuteTime": {
     "end_time": "2018-12-03T08:12:51.682767Z",
     "start_time": "2018-12-03T08:12:51.679480Z"
    }
   },
   "outputs": [
    {
     "name": "stdout",
     "output_type": "stream",
     "text": [
      "0.2643273893487372\n",
      "{'alpha': 0.1}\n",
      "Lasso(alpha=0.1, copy_X=True, fit_intercept=True, max_iter=1000,\n",
      "      normalize=False, positive=False, precompute=False, random_state=None,\n",
      "      selection='cyclic', tol=0.0001, warm_start=False)\n"
     ]
    }
   ],
   "source": [
    "print(grid.best_score_)\n",
    "print(grid.best_params_)\n",
    "print(grid.best_estimator_)"
   ]
  },
  {
   "cell_type": "markdown",
   "metadata": {},
   "source": [
    "## Перебор нескольких параметров одновременно"
   ]
  },
  {
   "cell_type": "code",
   "execution_count": 10,
   "metadata": {},
   "outputs": [],
   "source": [
    "params = { 'loss': ['ls', 'lad', 'huber', 'quantile'],'learning_rate':aran}"
   ]
  },
  {
   "cell_type": "code",
   "execution_count": 11,
   "metadata": {},
   "outputs": [
    {
     "data": {
      "text/plain": [
       "GridSearchCV(cv=10, error_score=nan,\n",
       "             estimator=GradientBoostingRegressor(alpha=0.9, ccp_alpha=0.0,\n",
       "                                                 criterion='friedman_mse',\n",
       "                                                 init=None, learning_rate=0.1,\n",
       "                                                 loss='ls', max_depth=3,\n",
       "                                                 max_features=None,\n",
       "                                                 max_leaf_nodes=None,\n",
       "                                                 min_impurity_decrease=0.0,\n",
       "                                                 min_impurity_split=None,\n",
       "                                                 min_samples_leaf=1,\n",
       "                                                 min_samples_split=2,\n",
       "                                                 min_weight_fraction_leaf=0.0,\n",
       "                                                 n_estimators=100,\n",
       "                                                 n_iter_...\n",
       "                                                 random_state=None,\n",
       "                                                 subsample=1.0, tol=0.0001,\n",
       "                                                 validation_fraction=0.1,\n",
       "                                                 verbose=0, warm_start=False),\n",
       "             iid='deprecated', n_jobs=None,\n",
       "             param_grid={'learning_rate': array([0.0001, 0.0112, 0.0223, 0.0334, 0.0445, 0.0556, 0.0667, 0.0778,\n",
       "       0.0889, 0.1   ]),\n",
       "                         'loss': ['ls', 'lad', 'huber', 'quantile']},\n",
       "             pre_dispatch='2*n_jobs', refit=True, return_train_score=False,\n",
       "             scoring='r2', verbose=0)"
      ]
     },
     "execution_count": 11,
     "metadata": {},
     "output_type": "execute_result"
    }
   ],
   "source": [
    "grid = GridSearchCV(GradientBoostingRegressor(), param_grid=params, cv=10, scoring='r2')\n",
    "grid.fit(X, y)"
   ]
  },
  {
   "cell_type": "code",
   "execution_count": 12,
   "metadata": {},
   "outputs": [
    {
     "name": "stdout",
     "output_type": "stream",
     "text": [
      "mean_fit_time : 0.10801830291748046\n",
      "std_fit_time : 0.0032307991482699765\n",
      "mean_score_time : 0.0005620956420898437\n",
      "std_score_time : 8.36326838203006e-05\n",
      "param_learning_rate : 0.0001\n",
      "param_loss : ls\n",
      "params : {'learning_rate': 0.0001, 'loss': 'ls'}\n",
      "split0_test_score : -0.13739050778255368\n",
      "split1_test_score : -0.12629540638553727\n",
      "split2_test_score : -3.3852487860507265\n",
      "split3_test_score : -0.9261278570644325\n",
      "split4_test_score : -0.44782839001877206\n",
      "split5_test_score : -1.26916273843092\n",
      "split6_test_score : -0.03166396969029517\n",
      "split7_test_score : -0.20462510557993152\n",
      "split8_test_score : -5.134671794072899\n",
      "split9_test_score : -0.8755988009052735\n",
      "mean_test_score : -1.253861335598134\n",
      "std_test_score : 1.600515304539295\n",
      "rank_test_score : 36\n"
     ]
    }
   ],
   "source": [
    "for k in grid.cv_results_:\n",
    "    print(k, \":\", grid.cv_results_[k][0])"
   ]
  },
  {
   "cell_type": "code",
   "execution_count": 13,
   "metadata": {},
   "outputs": [
    {
     "data": {
      "text/plain": [
       "GradientBoostingRegressor(alpha=0.9, ccp_alpha=0.0, criterion='friedman_mse',\n",
       "                          init=None, learning_rate=0.07780000000000001,\n",
       "                          loss='lad', max_depth=3, max_features=None,\n",
       "                          max_leaf_nodes=None, min_impurity_decrease=0.0,\n",
       "                          min_impurity_split=None, min_samples_leaf=1,\n",
       "                          min_samples_split=2, min_weight_fraction_leaf=0.0,\n",
       "                          n_estimators=100, n_iter_no_change=None,\n",
       "                          presort='deprecated', random_state=None,\n",
       "                          subsample=1.0, tol=0.0001, validation_fraction=0.1,\n",
       "                          verbose=0, warm_start=False)"
      ]
     },
     "execution_count": 13,
     "metadata": {},
     "output_type": "execute_result"
    }
   ],
   "source": [
    "grid.best_estimator_"
   ]
  },
  {
   "cell_type": "markdown",
   "metadata": {},
   "source": [
    "## RandomizedSearchCV"
   ]
  },
  {
   "cell_type": "code",
   "execution_count": 14,
   "metadata": {
    "ExecuteTime": {
     "end_time": "2018-12-03T08:12:54.457733Z",
     "start_time": "2018-12-03T08:12:54.455619Z"
    },
    "scrolled": false
   },
   "outputs": [
    {
     "data": {
      "text/plain": [
       "RandomizedSearchCV(cv=None, error_score=nan,\n",
       "                   estimator=GradientBoostingRegressor(alpha=0.9, ccp_alpha=0.0,\n",
       "                                                       criterion='friedman_mse',\n",
       "                                                       init=None,\n",
       "                                                       learning_rate=0.1,\n",
       "                                                       loss='ls', max_depth=3,\n",
       "                                                       max_features=None,\n",
       "                                                       max_leaf_nodes=None,\n",
       "                                                       min_impurity_decrease=0.0,\n",
       "                                                       min_impurity_split=None,\n",
       "                                                       min_samples_leaf=1,\n",
       "                                                       min_samples_split=2,\n",
       "                                                       min_weight_fraction_leaf=0.0,\n",
       "                                                       n_estimators=100...\n",
       "                                                       tol=0.0001,\n",
       "                                                       validation_fraction=0.1,\n",
       "                                                       verbose=0,\n",
       "                                                       warm_start=False),\n",
       "                   iid='deprecated', n_iter=10, n_jobs=None,\n",
       "                   param_distributions={'learning_rate': array([0.0001, 0.0112, 0.0223, 0.0334, 0.0445, 0.0556, 0.0667, 0.0778,\n",
       "       0.0889, 0.1   ]),\n",
       "                                        'loss': ['ls', 'lad', 'huber',\n",
       "                                                 'quantile']},\n",
       "                   pre_dispatch='2*n_jobs', random_state=None, refit=True,\n",
       "                   return_train_score=False, scoring='r2', verbose=0)"
      ]
     },
     "execution_count": 14,
     "metadata": {},
     "output_type": "execute_result"
    }
   ],
   "source": [
    "rnd_search = RandomizedSearchCV(GradientBoostingRegressor(), param_distributions=params, \n",
    "                                scoring='r2')\n",
    "rnd_search.fit(X, y)"
   ]
  },
  {
   "cell_type": "code",
   "execution_count": 15,
   "metadata": {
    "scrolled": true
   },
   "outputs": [
    {
     "name": "stdout",
     "output_type": "stream",
     "text": [
      "GradientBoostingRegressor(alpha=0.9, ccp_alpha=0.0, criterion='friedman_mse',\n",
      "                          init=None, learning_rate=0.07780000000000001,\n",
      "                          loss='ls', max_depth=3, max_features=None,\n",
      "                          max_leaf_nodes=None, min_impurity_decrease=0.0,\n",
      "                          min_impurity_split=None, min_samples_leaf=1,\n",
      "                          min_samples_split=2, min_weight_fraction_leaf=0.0,\n",
      "                          n_estimators=100, n_iter_no_change=None,\n",
      "                          presort='deprecated', random_state=None,\n",
      "                          subsample=1.0, tol=0.0001, validation_fraction=0.1,\n",
      "                          verbose=0, warm_start=False)\n",
      "{'loss': 'ls', 'learning_rate': 0.07780000000000001}\n",
      "0.669949761523501\n"
     ]
    }
   ],
   "source": [
    "print(rnd_search.best_estimator_)\n",
    "print(rnd_search.best_params_)\n",
    "print(rnd_search.best_score_)"
   ]
  },
  {
   "cell_type": "markdown",
   "metadata": {},
   "source": [
    "## OOB Score"
   ]
  },
  {
   "cell_type": "code",
   "execution_count": 16,
   "metadata": {
    "ExecuteTime": {
     "end_time": "2018-12-03T08:12:55.905077Z",
     "start_time": "2018-12-03T08:12:55.902323Z"
    }
   },
   "outputs": [],
   "source": [
    "regr = RandomForestRegressor(oob_score=True, n_estimators=20, max_depth=5)"
   ]
  },
  {
   "cell_type": "code",
   "execution_count": 17,
   "metadata": {
    "ExecuteTime": {
     "end_time": "2018-12-03T08:12:56.057804Z",
     "start_time": "2018-12-03T08:12:56.037693Z"
    }
   },
   "outputs": [
    {
     "data": {
      "text/plain": [
       "RandomForestRegressor(bootstrap=True, ccp_alpha=0.0, criterion='mse',\n",
       "                      max_depth=5, max_features='auto', max_leaf_nodes=None,\n",
       "                      max_samples=None, min_impurity_decrease=0.0,\n",
       "                      min_impurity_split=None, min_samples_leaf=1,\n",
       "                      min_samples_split=2, min_weight_fraction_leaf=0.0,\n",
       "                      n_estimators=20, n_jobs=None, oob_score=True,\n",
       "                      random_state=None, verbose=0, warm_start=False)"
      ]
     },
     "execution_count": 17,
     "metadata": {},
     "output_type": "execute_result"
    }
   ],
   "source": [
    "regr.fit(X_train, y_train)"
   ]
  },
  {
   "cell_type": "code",
   "execution_count": 18,
   "metadata": {
    "ExecuteTime": {
     "end_time": "2018-12-03T08:12:56.237799Z",
     "start_time": "2018-12-03T08:12:56.231937Z"
    }
   },
   "outputs": [
    {
     "name": "stdout",
     "output_type": "stream",
     "text": [
      "0.7810767405002199\n",
      "0.8495205505333759\n"
     ]
    }
   ],
   "source": [
    "print(regr.oob_score_)\n",
    "print(regr.score(X_test,y_test))"
   ]
  }
 ],
 "metadata": {
  "kernelspec": {
   "display_name": "Python 3",
   "language": "python",
   "name": "python3"
  },
  "language_info": {
   "codemirror_mode": {
    "name": "ipython",
    "version": 3
   },
   "file_extension": ".py",
   "mimetype": "text/x-python",
   "name": "python",
   "nbconvert_exporter": "python",
   "pygments_lexer": "ipython3",
   "version": "3.7.7"
  },
  "varInspector": {
   "cols": {
    "lenName": 16,
    "lenType": 16,
    "lenVar": 40
   },
   "kernels_config": {
    "python": {
     "delete_cmd_postfix": "",
     "delete_cmd_prefix": "del ",
     "library": "var_list.py",
     "varRefreshCmd": "print(var_dic_list())"
    },
    "r": {
     "delete_cmd_postfix": ") ",
     "delete_cmd_prefix": "rm(",
     "library": "var_list.r",
     "varRefreshCmd": "cat(var_dic_list()) "
    }
   },
   "types_to_exclude": [
    "module",
    "function",
    "builtin_function_or_method",
    "instance",
    "_Feature"
   ],
   "window_display": false
  }
 },
 "nbformat": 4,
 "nbformat_minor": 2
}
