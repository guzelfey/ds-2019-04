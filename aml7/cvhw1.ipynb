{
 "cells": [
  {
   "cell_type": "markdown",
   "metadata": {},
   "source": [
    "## Digit Recognizer\n",
    "https://www.kaggle.com/c/digit-recognizer"
   ]
  },
  {
   "cell_type": "code",
   "execution_count": 1,
   "metadata": {},
   "outputs": [],
   "source": [
    "%matplotlib inline\n",
    "import cv2\n",
    "import numpy as np\n",
    "import matplotlib.pyplot as plt\n",
    "from sklearn.model_selection import train_test_split\n",
    "from catboost import Pool,CatBoostClassifier\n",
    "from sklearn.metrics import accuracy_score, classification_report, confusion_matrix"
   ]
  },
  {
   "cell_type": "markdown",
   "metadata": {},
   "source": [
    "## Загружаем исходные данные"
   ]
  },
  {
   "cell_type": "code",
   "execution_count": 2,
   "metadata": {},
   "outputs": [],
   "source": [
    "train = np.loadtxt('./data/digit/train.csv', delimiter=',', skiprows=1)\n",
    "test = np.loadtxt('./data/digit/test.csv', delimiter=',', skiprows=1)"
   ]
  },
  {
   "cell_type": "code",
   "execution_count": 54,
   "metadata": {},
   "outputs": [],
   "source": [
    "# сохраняем разметку в отдельную переменную\n",
    "train_label = train[:, 0]\n",
    "# приводим размерность к удобному для обаботки виду\n",
    "train_img = np.resize(train[:, 1:], (train.shape[0], 28, 28)).astype(np.uint8)\n",
    "test_img = np.resize(test, (test.shape[0], 28, 28)).astype(np.uint8)"
   ]
  },
  {
   "cell_type": "markdown",
   "metadata": {},
   "source": [
    "## Визуализируем исходные данные"
   ]
  },
  {
   "cell_type": "code",
   "execution_count": 55,
   "metadata": {},
   "outputs": [
    {
     "data": {
      "image/png": "[encoded data removed]",
      "text/plain": [
       "<Figure size 1440x720 with 5 Axes>"
      ]
     },
     "metadata": {
      "needs_background": "light"
     },
     "output_type": "display_data"
    }
   ],
   "source": [
    "fig = plt.figure(figsize=(20, 10))\n",
    "for i, img in enumerate(train_img[0:5], 1):\n",
    "    subplot = fig.add_subplot(1, 7, i)\n",
    "    plt.imshow(img, cmap='gray');\n",
    "    subplot.set_title('%s' % train_label[i - 1].astype(np.uint8));"
   ]
  },
  {
   "cell_type": "markdown",
   "metadata": {},
   "source": [
    "## Рассчитаем HOG"
   ]
  },
  {
   "cell_type": "code",
   "execution_count": 56,
   "metadata": {},
   "outputs": [],
   "source": [
    "derivAperture = 1\n",
    "winSigma = -1.\n",
    "histogramNormType = 0\n",
    "L2HysThreshold = 0.2\n",
    "gammaCorrection = 1\n",
    "nlevels = 64\n",
    "winSize = (28,28)\n",
    "blockSize = (14,14)\n",
    "blockStride = (7,7)\n",
    "cellSize = (14,14)\n",
    "nbins = 9\n",
    "signedGradients = True\n",
    "hog = cv2.HOGDescriptor(winSize,blockSize,blockStride,cellSize,nbins,derivAperture,\n",
    "                        winSigma,histogramNormType,L2HysThreshold,gammaCorrection,nlevels,signedGradients)"
   ]
  },
  {
   "cell_type": "code",
   "execution_count": 57,
   "metadata": {},
   "outputs": [],
   "source": [
    "def hogd(dataset):\n",
    "    feats = []\n",
    "    for img in dataset:\n",
    "        img8 = img.astype(np.uint8)\n",
    "        des = hog.compute(img8)\n",
    "        feats.append(des)\n",
    "    feats=np.array(feats)\n",
    "    feats=feats.reshape(feats.shape[0],nbins*nbins)\n",
    "    return feats"
   ]
  },
  {
   "cell_type": "code",
   "execution_count": 58,
   "metadata": {},
   "outputs": [],
   "source": [
    "train_hog=hogd(train_img)\n",
    "test_hog=hogd(test_img)"
   ]
  },
  {
   "cell_type": "markdown",
   "metadata": {},
   "source": [
    "## Разбиваем выборку на обучение и валидацию, тренируем модель"
   ]
  },
  {
   "cell_type": "code",
   "execution_count": 59,
   "metadata": {},
   "outputs": [],
   "source": [
    "y_train, y_val, x_train, x_val = train_test_split(train_label, train_hog, test_size=0.2,random_state=42)"
   ]
  },
  {
   "cell_type": "code",
   "execution_count": 60,
   "metadata": {},
   "outputs": [],
   "source": [
    "xx_test=Pool(data=x_val,label=y_val)\n",
    "xx_train=Pool(data=x_train,label=y_train)"
   ]
  },
  {
   "cell_type": "code",
   "execution_count": 61,
   "metadata": {},
   "outputs": [],
   "source": [
    "model = CatBoostClassifier(iterations=20, learning_rate=1, depth=2, loss_function='MultiClass')"
   ]
  },
  {
   "cell_type": "code",
   "execution_count": 62,
   "metadata": {},
   "outputs": [
    {
     "name": "stdout",
     "output_type": "stream",
     "text": [
      "0:\tlearn: 1.7858846\ttotal: 44ms\tremaining: 837ms\n",
      "1:\tlearn: 1.5113708\ttotal: 87.5ms\tremaining: 787ms\n",
      "2:\tlearn: 1.2301377\ttotal: 129ms\tremaining: 729ms\n",
      "3:\tlearn: 1.0418970\ttotal: 169ms\tremaining: 675ms\n",
      "4:\tlearn: 0.8727836\ttotal: 213ms\tremaining: 638ms\n",
      "5:\tlearn: 0.7703062\ttotal: 254ms\tremaining: 593ms\n",
      "6:\tlearn: 0.7198352\ttotal: 301ms\tremaining: 560ms\n",
      "7:\tlearn: 0.6267885\ttotal: 347ms\tremaining: 520ms\n",
      "8:\tlearn: 0.5718020\ttotal: 388ms\tremaining: 475ms\n",
      "9:\tlearn: 0.5250277\ttotal: 428ms\tremaining: 428ms\n",
      "10:\tlearn: 0.4758338\ttotal: 475ms\tremaining: 389ms\n",
      "11:\tlearn: 0.4357829\ttotal: 532ms\tremaining: 355ms\n",
      "12:\tlearn: 0.4133732\ttotal: 575ms\tremaining: 309ms\n",
      "13:\tlearn: 0.3956862\ttotal: 614ms\tremaining: 263ms\n",
      "14:\tlearn: 0.3848052\ttotal: 653ms\tremaining: 218ms\n",
      "15:\tlearn: 0.3638722\ttotal: 702ms\tremaining: 175ms\n",
      "16:\tlearn: 0.3391874\ttotal: 745ms\tremaining: 131ms\n",
      "17:\tlearn: 0.3175887\ttotal: 788ms\tremaining: 87.5ms\n",
      "18:\tlearn: 0.3095163\ttotal: 828ms\tremaining: 43.6ms\n",
      "19:\tlearn: 0.3027645\ttotal: 865ms\tremaining: 0us\n"
     ]
    },
    {
     "data": {
      "text/plain": [
       "<catboost.core.CatBoostClassifier at 0x7fca510fb390>"
      ]
     },
     "execution_count": 62,
     "metadata": {},
     "output_type": "execute_result"
    }
   ],
   "source": [
    "model.fit(xx_train)"
   ]
  },
  {
   "cell_type": "code",
   "execution_count": 63,
   "metadata": {},
   "outputs": [],
   "source": [
    "yy_test=model.predict(xx_test)"
   ]
  },
  {
   "cell_type": "code",
   "execution_count": 64,
   "metadata": {},
   "outputs": [
    {
     "name": "stdout",
     "output_type": "stream",
     "text": [
      "Accuracy: 0.9091666666666667\n"
     ]
    }
   ],
   "source": [
    "print('Accuracy: %s' % accuracy_score(y_val,yy_test))"
   ]
  },
  {
   "cell_type": "code",
   "execution_count": 65,
   "metadata": {},
   "outputs": [
    {
     "name": "stdout",
     "output_type": "stream",
     "text": [
      "              precision    recall  f1-score   support\n",
      "\n",
      "         0.0       0.95      0.95      0.95       816\n",
      "         1.0       0.97      0.94      0.95       909\n",
      "         2.0       0.92      0.90      0.91       846\n",
      "         3.0       0.91      0.90      0.91       937\n",
      "         4.0       0.91      0.90      0.90       839\n",
      "         5.0       0.91      0.90      0.91       702\n",
      "         6.0       0.89      0.92      0.90       785\n",
      "         7.0       0.90      0.92      0.91       893\n",
      "         8.0       0.86      0.86      0.86       835\n",
      "         9.0       0.88      0.88      0.88       838\n",
      "\n",
      "    accuracy                           0.91      8400\n",
      "   macro avg       0.91      0.91      0.91      8400\n",
      "weighted avg       0.91      0.91      0.91      8400\n",
      "\n"
     ]
    }
   ],
   "source": [
    "print(classification_report(y_val, yy_test))"
   ]
  },
  {
   "cell_type": "code",
   "execution_count": 66,
   "metadata": {},
   "outputs": [
    {
     "name": "stdout",
     "output_type": "stream",
     "text": [
      "[[779   0   6   1   0   1  20   2   5   2]\n",
      " [  0 859   5   4  14   2   6  12   5   2]\n",
      " [  2   2 763  29   8   1   5  18  11   7]\n",
      " [  1   2  17 844   1  21   4  12  28   7]\n",
      " [  0   9   5   0 754   0  20   7  10  34]\n",
      " [  1   0   0  17   0 635  19   4  23   3]\n",
      " [ 19   3   0   1  18   5 723   0  14   2]\n",
      " [  1   3  20  12   6   1   0 819   3  28]\n",
      " [  8   6   7  13   5  27  17  14 721  17]\n",
      " [ 11   6   3   5  24   6   1  24  18 740]]\n"
     ]
    }
   ],
   "source": [
    "print(confusion_matrix(y_val, yy_test))"
   ]
  },
  {
   "cell_type": "code",
   "execution_count": 67,
   "metadata": {},
   "outputs": [],
   "source": [
    "test_pred=model.predict(test_hog)"
   ]
  },
  {
   "cell_type": "markdown",
   "metadata": {},
   "source": [
    "## Визуализируем предсказания"
   ]
  },
  {
   "cell_type": "code",
   "execution_count": 68,
   "metadata": {},
   "outputs": [
    {
     "data": {
      "image/png": "[encoded data removed]",
      "text/plain": [
       "<Figure size 1440x720 with 5 Axes>"
      ]
     },
     "metadata": {
      "needs_background": "light"
     },
     "output_type": "display_data"
    }
   ],
   "source": [
    "fig = plt.figure(figsize=(20, 10))\n",
    "for i, img in enumerate(test_img[0:5], 1):\n",
    "    subplot = fig.add_subplot(1, 7, i)\n",
    "    plt.imshow(img, cmap='gray');\n",
    "    subplot.set_title('%s' % test_pred[i - 1].astype(np.uint8));"
   ]
  },
  {
   "cell_type": "markdown",
   "metadata": {},
   "source": [
    "## Готовим файл для отправки"
   ]
  },
  {
   "cell_type": "code",
   "execution_count": 69,
   "metadata": {},
   "outputs": [],
   "source": [
    "with open('submit.csv', 'w') as dst:\n",
    "    dst.write('ImageId,Label\\n')\n",
    "    for i, p in enumerate(test_pred, 1):\n",
    "        dst.write('%s,%s\\n' % (i, int(p)))"
   ]
  },
  {
   "cell_type": "code",
   "execution_count": 70,
   "metadata": {},
   "outputs": [
    {
     "name": "stdout",
     "output_type": "stream",
     "text": [
      "ImageId,Label\r\n",
      "1,2\r\n",
      "2,5\r\n",
      "3,9\r\n",
      "4,0\r\n",
      "5,8\r\n",
      "6,9\r\n",
      "7,0\r\n",
      "8,3\r\n",
      "9,0\r\n"
     ]
    }
   ],
   "source": [
    "!head submit.csv"
   ]
  },
  {
   "cell_type": "code",
   "execution_count": 71,
   "metadata": {},
   "outputs": [],
   "source": [
    "# Your submission scored 0.90696"
   ]
  },
  {
   "cell_type": "markdown",
   "metadata": {},
   "source": [
    "# А если предобработать и добавить фичей?"
   ]
  },
  {
   "cell_type": "markdown",
   "metadata": {},
   "source": [
    "### Выравнивание"
   ]
  },
  {
   "cell_type": "code",
   "execution_count": 72,
   "metadata": {},
   "outputs": [],
   "source": [
    "def deskew(dataset):\n",
    "    dataset_st=[]\n",
    "    for img in dataset:\n",
    "        m = cv2.moments(img)\n",
    "        if abs(m['mu02']) < 1e-2:\n",
    "            # no deskewing needed. \n",
    "            return img.copy()\n",
    "        # Calculate skew based on central momemts. \n",
    "        skew = m['mu11']/m['mu02']\n",
    "        # Calculate affine transform to correct skewness. \n",
    "        M = np.float32([[1, skew, -0.5*28*skew], [0, 1, 0]])\n",
    "        # Apply affine transform\n",
    "        img_st = cv2.warpAffine(img, M, (28,28), flags=cv2.WARP_INVERSE_MAP | cv2.INTER_LINEAR)\n",
    "        dataset_st.append(img_st)\n",
    "    dataset_st=np.array(dataset_st)\n",
    "    return dataset_st"
   ]
  },
  {
   "cell_type": "code",
   "execution_count": 73,
   "metadata": {},
   "outputs": [],
   "source": [
    "train_img_st=deskew(train_img)"
   ]
  },
  {
   "cell_type": "code",
   "execution_count": 74,
   "metadata": {},
   "outputs": [
    {
     "data": {
      "image/png": "[encoded data removed]",
      "text/plain": [
       "<Figure size 1440x720 with 5 Axes>"
      ]
     },
     "metadata": {
      "needs_background": "light"
     },
     "output_type": "display_data"
    }
   ],
   "source": [
    "fig = plt.figure(figsize=(20, 10))\n",
    "for i, img in enumerate(train_img[0:5], 1):\n",
    "    subplot = fig.add_subplot(1, 7, i)\n",
    "    plt.imshow(img, cmap='gray');\n",
    "    subplot.set_title('%s' % train_label[i - 1].astype(np.uint8));"
   ]
  },
  {
   "cell_type": "code",
   "execution_count": 75,
   "metadata": {},
   "outputs": [
    {
     "data": {
      "image/png": "[encoded data removed]",
      "text/plain": [
       "<Figure size 1440x720 with 5 Axes>"
      ]
     },
     "metadata": {
      "needs_background": "light"
     },
     "output_type": "display_data"
    }
   ],
   "source": [
    "fig = plt.figure(figsize=(20, 10))\n",
    "for i, img in enumerate(train_img_st[0:5], 1):\n",
    "    subplot = fig.add_subplot(1, 7, i)\n",
    "    plt.imshow(img, cmap='gray');\n",
    "    subplot.set_title('%s' % train_label[i - 1].astype(np.uint8));"
   ]
  },
  {
   "cell_type": "code",
   "execution_count": 76,
   "metadata": {},
   "outputs": [],
   "source": [
    "test_img_st=deskew(test_img)"
   ]
  },
  {
   "cell_type": "markdown",
   "metadata": {},
   "source": [
    "#### Пробуем опять"
   ]
  },
  {
   "cell_type": "code",
   "execution_count": 77,
   "metadata": {},
   "outputs": [],
   "source": [
    "train_hog_st=hogd(train_img_st)\n",
    "test_hog_st=hogd(test_img_st)"
   ]
  },
  {
   "cell_type": "markdown",
   "metadata": {},
   "source": [
    "#### Разбиваем выборку на обучение и валидацию, тренируем модель"
   ]
  },
  {
   "cell_type": "code",
   "execution_count": 78,
   "metadata": {},
   "outputs": [],
   "source": [
    "y_train, y_val, x_train, x_val = train_test_split(train_label, train_hog_st, test_size=0.2,random_state=42)"
   ]
  },
  {
   "cell_type": "code",
   "execution_count": 79,
   "metadata": {},
   "outputs": [],
   "source": [
    "xx_test=Pool(data=x_val,label=y_val)\n",
    "xx_train=Pool(data=x_train,label=y_train)"
   ]
  },
  {
   "cell_type": "code",
   "execution_count": 80,
   "metadata": {},
   "outputs": [],
   "source": [
    "model1 = CatBoostClassifier(iterations=20, learning_rate=1, depth=2, loss_function='MultiClass')"
   ]
  },
  {
   "cell_type": "code",
   "execution_count": 81,
   "metadata": {},
   "outputs": [
    {
     "name": "stdout",
     "output_type": "stream",
     "text": [
      "0:\tlearn: 1.7369885\ttotal: 42.6ms\tremaining: 809ms\n",
      "1:\tlearn: 1.3571535\ttotal: 80.3ms\tremaining: 723ms\n",
      "2:\tlearn: 0.9842785\ttotal: 119ms\tremaining: 677ms\n",
      "3:\tlearn: 0.7475807\ttotal: 157ms\tremaining: 629ms\n",
      "4:\tlearn: 0.6055114\ttotal: 197ms\tremaining: 591ms\n",
      "5:\tlearn: 0.5288756\ttotal: 237ms\tremaining: 552ms\n",
      "6:\tlearn: 0.4753728\ttotal: 290ms\tremaining: 538ms\n",
      "7:\tlearn: 0.4045382\ttotal: 336ms\tremaining: 503ms\n",
      "8:\tlearn: 0.3583197\ttotal: 379ms\tremaining: 464ms\n",
      "9:\tlearn: 0.3228923\ttotal: 420ms\tremaining: 420ms\n",
      "10:\tlearn: 0.3004435\ttotal: 459ms\tremaining: 376ms\n",
      "11:\tlearn: 0.2870203\ttotal: 516ms\tremaining: 344ms\n",
      "12:\tlearn: 0.2719054\ttotal: 554ms\tremaining: 298ms\n",
      "13:\tlearn: 0.2519020\ttotal: 596ms\tremaining: 256ms\n",
      "14:\tlearn: 0.2335454\ttotal: 641ms\tremaining: 214ms\n",
      "15:\tlearn: 0.2129661\ttotal: 683ms\tremaining: 171ms\n",
      "16:\tlearn: 0.1997160\ttotal: 727ms\tremaining: 128ms\n",
      "17:\tlearn: 0.1966811\ttotal: 770ms\tremaining: 85.5ms\n",
      "18:\tlearn: 0.1876232\ttotal: 815ms\tremaining: 42.9ms\n",
      "19:\tlearn: 0.1788184\ttotal: 855ms\tremaining: 0us\n"
     ]
    },
    {
     "data": {
      "text/plain": [
       "<catboost.core.CatBoostClassifier at 0x7fca5cfa4d50>"
      ]
     },
     "execution_count": 81,
     "metadata": {},
     "output_type": "execute_result"
    }
   ],
   "source": [
    "model1.fit(xx_train)"
   ]
  },
  {
   "cell_type": "code",
   "execution_count": 82,
   "metadata": {},
   "outputs": [],
   "source": [
    "yy_test=model1.predict(xx_test)"
   ]
  },
  {
   "cell_type": "code",
   "execution_count": 83,
   "metadata": {},
   "outputs": [
    {
     "name": "stdout",
     "output_type": "stream",
     "text": [
      "Accuracy: 0.9395238095238095\n"
     ]
    }
   ],
   "source": [
    "print('Accuracy: %s' % accuracy_score(y_val,yy_test))"
   ]
  },
  {
   "cell_type": "code",
   "execution_count": 84,
   "metadata": {},
   "outputs": [
    {
     "name": "stdout",
     "output_type": "stream",
     "text": [
      "              precision    recall  f1-score   support\n",
      "\n",
      "         0.0       0.96      0.97      0.96       816\n",
      "         1.0       0.96      0.98      0.97       909\n",
      "         2.0       0.96      0.94      0.95       846\n",
      "         3.0       0.94      0.95      0.95       937\n",
      "         4.0       0.96      0.94      0.95       839\n",
      "         5.0       0.95      0.95      0.95       702\n",
      "         6.0       0.95      0.96      0.95       785\n",
      "         7.0       0.92      0.91      0.92       893\n",
      "         8.0       0.91      0.90      0.91       835\n",
      "         9.0       0.88      0.90      0.89       838\n",
      "\n",
      "    accuracy                           0.94      8400\n",
      "   macro avg       0.94      0.94      0.94      8400\n",
      "weighted avg       0.94      0.94      0.94      8400\n",
      "\n"
     ]
    }
   ],
   "source": [
    "print(classification_report(y_val, yy_test))"
   ]
  },
  {
   "cell_type": "markdown",
   "metadata": {},
   "source": [
    "### Интенсивность написания"
   ]
  },
  {
   "cell_type": "code",
   "execution_count": 85,
   "metadata": {},
   "outputs": [],
   "source": [
    "def inten(dataset):\n",
    "    i=[]\n",
    "    for img in dataset:\n",
    "        i.append(np.median(img))\n",
    "    i=np.array(i)\n",
    "    return i"
   ]
  },
  {
   "cell_type": "code",
   "execution_count": 86,
   "metadata": {},
   "outputs": [],
   "source": [
    "train_hog_st_int=np.concatenate((train_hog_st,np.array([inten(train_img_st)]).T),axis=1)\n",
    "test_hog_st_int=np.concatenate((test_hog_st,np.array([inten(test_img_st)]).T),axis=1)"
   ]
  },
  {
   "cell_type": "markdown",
   "metadata": {},
   "source": [
    "#### Разбиваем выборку на обучение и валидацию, тренируем модель"
   ]
  },
  {
   "cell_type": "code",
   "execution_count": 87,
   "metadata": {},
   "outputs": [],
   "source": [
    "y_train, y_val, x_train, x_val = train_test_split(train_label, train_hog_st_int, test_size=0.2,random_state=42)"
   ]
  },
  {
   "cell_type": "code",
   "execution_count": 88,
   "metadata": {},
   "outputs": [],
   "source": [
    "xx_test=Pool(data=x_val,label=y_val)\n",
    "xx_train=Pool(data=x_train,label=y_train)"
   ]
  },
  {
   "cell_type": "code",
   "execution_count": 89,
   "metadata": {},
   "outputs": [],
   "source": [
    "model2 = CatBoostClassifier(iterations=20, learning_rate=1, depth=2, loss_function='MultiClass')"
   ]
  },
  {
   "cell_type": "code",
   "execution_count": 90,
   "metadata": {},
   "outputs": [
    {
     "name": "stdout",
     "output_type": "stream",
     "text": [
      "0:\tlearn: 1.7369885\ttotal: 43.1ms\tremaining: 819ms\n",
      "1:\tlearn: 1.3571535\ttotal: 80.7ms\tremaining: 727ms\n",
      "2:\tlearn: 0.9842785\ttotal: 120ms\tremaining: 678ms\n",
      "3:\tlearn: 0.7475807\ttotal: 157ms\tremaining: 629ms\n",
      "4:\tlearn: 0.6055114\ttotal: 198ms\tremaining: 593ms\n",
      "5:\tlearn: 0.5288756\ttotal: 238ms\tremaining: 554ms\n",
      "6:\tlearn: 0.4753728\ttotal: 286ms\tremaining: 531ms\n",
      "7:\tlearn: 0.4045382\ttotal: 336ms\tremaining: 504ms\n",
      "8:\tlearn: 0.3583197\ttotal: 379ms\tremaining: 463ms\n",
      "9:\tlearn: 0.3228923\ttotal: 419ms\tremaining: 419ms\n",
      "10:\tlearn: 0.3004435\ttotal: 458ms\tremaining: 375ms\n",
      "11:\tlearn: 0.2870203\ttotal: 505ms\tremaining: 337ms\n",
      "12:\tlearn: 0.2719054\ttotal: 555ms\tremaining: 299ms\n",
      "13:\tlearn: 0.2519020\ttotal: 599ms\tremaining: 257ms\n",
      "14:\tlearn: 0.2335454\ttotal: 642ms\tremaining: 214ms\n",
      "15:\tlearn: 0.2129661\ttotal: 684ms\tremaining: 171ms\n",
      "16:\tlearn: 0.1997160\ttotal: 731ms\tremaining: 129ms\n",
      "17:\tlearn: 0.1966811\ttotal: 771ms\tremaining: 85.7ms\n",
      "18:\tlearn: 0.1876232\ttotal: 817ms\tremaining: 43ms\n",
      "19:\tlearn: 0.1788184\ttotal: 857ms\tremaining: 0us\n"
     ]
    },
    {
     "data": {
      "text/plain": [
       "<catboost.core.CatBoostClassifier at 0x7fca5f97fad0>"
      ]
     },
     "execution_count": 90,
     "metadata": {},
     "output_type": "execute_result"
    }
   ],
   "source": [
    "model2.fit(xx_train)"
   ]
  },
  {
   "cell_type": "code",
   "execution_count": 91,
   "metadata": {},
   "outputs": [],
   "source": [
    "yy_test=model2.predict(xx_test)"
   ]
  },
  {
   "cell_type": "code",
   "execution_count": 92,
   "metadata": {},
   "outputs": [
    {
     "name": "stdout",
     "output_type": "stream",
     "text": [
      "Accuracy: 0.9395238095238095\n"
     ]
    }
   ],
   "source": [
    "print('Accuracy: %s' % accuracy_score(y_val,yy_test))"
   ]
  },
  {
   "cell_type": "code",
   "execution_count": 93,
   "metadata": {
    "scrolled": true
   },
   "outputs": [
    {
     "name": "stdout",
     "output_type": "stream",
     "text": [
      "              precision    recall  f1-score   support\n",
      "\n",
      "         0.0       0.96      0.97      0.96       816\n",
      "         1.0       0.96      0.98      0.97       909\n",
      "         2.0       0.96      0.94      0.95       846\n",
      "         3.0       0.94      0.95      0.95       937\n",
      "         4.0       0.96      0.94      0.95       839\n",
      "         5.0       0.95      0.95      0.95       702\n",
      "         6.0       0.95      0.96      0.95       785\n",
      "         7.0       0.92      0.91      0.92       893\n",
      "         8.0       0.91      0.90      0.91       835\n",
      "         9.0       0.88      0.90      0.89       838\n",
      "\n",
      "    accuracy                           0.94      8400\n",
      "   macro avg       0.94      0.94      0.94      8400\n",
      "weighted avg       0.94      0.94      0.94      8400\n",
      "\n"
     ]
    }
   ],
   "source": [
    "print(classification_report(y_val, yy_test))"
   ]
  },
  {
   "cell_type": "markdown",
   "metadata": {},
   "source": [
    "Нет никакой разницы по сравнению с просто выравниванием."
   ]
  },
  {
   "cell_type": "markdown",
   "metadata": {},
   "source": [
    "## Готовим файл для отправки"
   ]
  },
  {
   "cell_type": "code",
   "execution_count": 94,
   "metadata": {},
   "outputs": [],
   "source": [
    "test_pred2=model2.predict(test_hog_st_int)"
   ]
  },
  {
   "cell_type": "code",
   "execution_count": 95,
   "metadata": {},
   "outputs": [],
   "source": [
    "with open('submit_2.csv', 'w') as dst:\n",
    "    dst.write('ImageId,Label\\n')\n",
    "    for i, p in enumerate(test_pred2, 1):\n",
    "        dst.write('%s,%s\\n' % (i, int(p)))"
   ]
  },
  {
   "cell_type": "code",
   "execution_count": 96,
   "metadata": {},
   "outputs": [
    {
     "name": "stdout",
     "output_type": "stream",
     "text": [
      "ImageId,Label\r\n",
      "1,2\r\n",
      "2,0\r\n",
      "3,9\r\n",
      "4,8\r\n",
      "5,3\r\n",
      "6,7\r\n",
      "7,0\r\n",
      "8,3\r\n",
      "9,0\r\n"
     ]
    }
   ],
   "source": [
    "!head submit_2.csv"
   ]
  },
  {
   "cell_type": "code",
   "execution_count": 46,
   "metadata": {},
   "outputs": [],
   "source": [
    "# Your submission scored 0.93932"
   ]
  }
 ],
 "metadata": {
  "kernelspec": {
   "display_name": "Python 3",
   "language": "python",
   "name": "python3"
  },
  "language_info": {
   "codemirror_mode": {
    "name": "ipython",
    "version": 3
   },
   "file_extension": ".py",
   "mimetype": "text/x-python",
   "name": "python",
   "nbconvert_exporter": "python",
   "pygments_lexer": "ipython3",
   "version": "3.7.7"
  }
 },
 "nbformat": 4,
 "nbformat_minor": 2
}
