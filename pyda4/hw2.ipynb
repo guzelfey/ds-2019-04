{
 "cells": [
  {
   "cell_type": "code",
   "execution_count": 1,
   "metadata": {},
   "outputs": [],
   "source": [
    "\"\"\"1. Дан список с визитами по городам и странам.\n",
    "Напишите код, который возвращает отфильтрованный список geo_logs, содержащий только визиты из России.\n",
    "Считайте, что список geo_logs легко помещается в оперативной памяти.\"\"\"\n",
    "geo_logs = [\n",
    "    {'visit1': ['Москва', 'Россия']},\n",
    "    {'visit2': ['Дели', 'Индия']},\n",
    "    {'visit3': ['Владимир', 'Россия']},\n",
    "    {'visit4': ['Лиссабон', 'Португалия']},\n",
    "    {'visit5': ['Париж', 'Франция']},\n",
    "    {'visit6': ['Лиссабон', 'Португалия']},\n",
    "    {'visit7': ['Тула', 'Россия']},\n",
    "    {'visit8': ['Тула', 'Россия']},\n",
    "    {'visit9': ['Курск', 'Россия']},\n",
    "    {'visit10': ['Архангельск', 'Россия']},\n",
    "]"
   ]
  },
  {
   "cell_type": "code",
   "execution_count": 2,
   "metadata": {
    "scrolled": true
   },
   "outputs": [
    {
     "data": {
      "text/plain": [
       "[{'visit1': ['Москва', 'Россия']},\n",
       " {'visit3': ['Владимир', 'Россия']},\n",
       " {'visit7': ['Тула', 'Россия']},\n",
       " {'visit8': ['Тула', 'Россия']},\n",
       " {'visit9': ['Курск', 'Россия']},\n",
       " {'visit10': ['Архангельск', 'Россия']}]"
      ]
     },
     "execution_count": 2,
     "metadata": {},
     "output_type": "execute_result"
    }
   ],
   "source": [
    "[x for x in geo_logs for y in x.values() if y[1] == 'Россия']"
   ]
  },
  {
   "cell_type": "code",
   "execution_count": 3,
   "metadata": {},
   "outputs": [],
   "source": [
    "\"\"\"2. Выведите на экран все уникальные гео-ID из значений словаря ids.\n",
    "Т. е. список вида [213, 15, 54, 119, 98, 35]\"\"\"\n",
    "ids = {'user1': [213, 213, 213, 15, 213], 'user2': [54, 54, 119, 119, 119], 'user3': [213, 98, 98, 35]}"
   ]
  },
  {
   "cell_type": "code",
   "execution_count": 4,
   "metadata": {},
   "outputs": [
    {
     "data": {
      "text/plain": [
       "[98, 35, 15, 213, 54, 119]"
      ]
     },
     "execution_count": 4,
     "metadata": {},
     "output_type": "execute_result"
    }
   ],
   "source": [
    "list(set([y for x in list(ids.values()) for y in x]))"
   ]
  },
  {
   "cell_type": "code",
   "execution_count": 5,
   "metadata": {},
   "outputs": [],
   "source": [
    "\"\"\"3. Список поисковых запросов. Получить распределение количества слов в них.\n",
    "Т. е. поисковых запросов из одного слова 5%, из двух - 7%, из трех - 3% итд.\"\"\"\n",
    "queries = [\n",
    "    'смотреть сериалы онлайн',\n",
    "    'новости спорта',\n",
    "    'афиша кино',\n",
    "    'курс доллара',\n",
    "    'сериалы этим летом',\n",
    "    'курс по питону',\n",
    "    'сериалы про спорт',\n",
    "]"
   ]
  },
  {
   "cell_type": "code",
   "execution_count": 6,
   "metadata": {},
   "outputs": [
    {
     "data": {
      "text/plain": [
       "'Поисковых запросов с одним словом 0%, с двумя словами 43%, с тремя словами 57%'"
      ]
     },
     "execution_count": 6,
     "metadata": {},
     "output_type": "execute_result"
    }
   ],
   "source": [
    "i1, i2, i3 = [0,0,0]\n",
    "for x in range(0,len(queries)):\n",
    "    if len(queries[x].split(' ')) == 1 :\n",
    "        i1+=1\n",
    "    elif len(queries[x].split(' ')) == 2 :\n",
    "        i2+=1\n",
    "    elif len(queries[x].split(' ')) == 3 :\n",
    "        i3+=1 \n",
    "f'Поисковых запросов с одним словом {i1/len(queries):.0%}, \\\n",
    "с двумя словами {i2/len(queries):.0%}, с тремя словами {i3/len(queries):.0%}'"
   ]
  },
  {
   "cell_type": "code",
   "execution_count": 7,
   "metadata": {},
   "outputs": [],
   "source": [
    "\"\"\"4. Дана статистика рекламных каналов по объемам продаж.\n",
    "Напишите скрипт, который возвращает название канала с максимальным объемом.\n",
    "Т. е. в данном примере скрипт должен возвращать 'yandex'.\"\"\"\n",
    "stats = {'facebook': 55, 'yandex': 120, 'vk': 115, 'google': 99, 'email': 42, 'ok': 98}"
   ]
  },
  {
   "cell_type": "code",
   "execution_count": 8,
   "metadata": {},
   "outputs": [
    {
     "name": "stdout",
     "output_type": "stream",
     "text": [
      "yandex\n"
     ]
    }
   ],
   "source": [
    "for key,value in stats.items():\n",
    "    if value == max(list(stats.values())):\n",
    "        print(key)"
   ]
  },
  {
   "cell_type": "code",
   "execution_count": 4,
   "metadata": {},
   "outputs": [],
   "source": [
    "\"\"\"5. Дан поток логов по количеству просмотренных страниц для каждого пользователя.\n",
    "Список отсортирован по ID пользователя.\n",
    "Вам необходимо написать алгоритм, который считает среднее значение просмотров на пользователя.\n",
    "Т. е. надо посчитать отношение суммы всех просмотров к количеству уникальных пользователей.\n",
    "Учтите, что весь список stream не помещается в оперативную память,\n",
    "т. е. его нужно обрабатывать поэлементно в цикле.\"\"\"\n",
    "stream = [\n",
    "    '2018-01-01,user1,3',\n",
    "    '2018-01-07,user1,4',\n",
    "    '2018-03-29,user1,1',\n",
    "    '2018-04-04,user1,13',\n",
    "    '2018-01-05,user2,7',\n",
    "    '2018-06-14,user3,4',\n",
    "    '2018-07-02,user3,10',\n",
    "    '2018-03-21,user4,19',\n",
    "    '2018-03-22,user4,4',\n",
    "    '2018-04-22,user4,8',\n",
    "    '2018-05-03,user4,9',\n",
    "    '2018-05-11,user4,11',\n",
    "]"
   ]
  },
  {
   "cell_type": "code",
   "execution_count": 6,
   "metadata": {},
   "outputs": [
    {
     "name": "stdout",
     "output_type": "stream",
     "text": [
      "23.25\n"
     ]
    }
   ],
   "source": [
    "views_=[0,0,0,0]\n",
    "us_count=0\n",
    "pre_us=stream[0].split(',')[1]\n",
    "for x in stream:\n",
    "    if x.split(',')[1]==pre_us:\n",
    "        views_[us_count]+=int(x.split(',')[2])\n",
    "    else: \n",
    "        us_count+=1\n",
    "        views_[us_count]+=int(x.split(',')[2])\n",
    "        pre_us=x.split(',')[1]\n",
    "print(sum(views_)/len(views_))"
   ]
  },
  {
   "cell_type": "code",
   "execution_count": 11,
   "metadata": {},
   "outputs": [],
   "source": [
    "\"\"\"6. Дана статистика рекламных кампаний по дням.\n",
    "Напишите алгоритм, который по паре дата-кампания ищет значение численного столбца.\n",
    "Т. е. для даты '2018-01-01' и 'google' нужно получить число 25.\n",
    "Считайте, что все комбинации дата-кампания уникальны, а список stats легко помещается в оперативной памяти.\"\"\"\n",
    "stats = [\n",
    "    ['2018-01-01', 'google', 25],\n",
    "    ['2018-01-01', 'yandex', 65],\n",
    "    ['2018-01-01', 'market', 89],\n",
    "    ['2018-01-02', 'google', 574],\n",
    "    ['2018-01-02', 'yandex', 249],\n",
    "    ['2018-01-02', 'market', 994],\n",
    "    ['2018-01-03', 'google', 1843],\n",
    "    ['2018-01-03', 'yandex', 1327],\n",
    "    ['2018-01-03', 'market', 1764],\n",
    "]"
   ]
  },
  {
   "cell_type": "code",
   "execution_count": 12,
   "metadata": {},
   "outputs": [
    {
     "name": "stdout",
     "output_type": "stream",
     "text": [
      "[994]\n"
     ]
    }
   ],
   "source": [
    "def funcs(date_,comp_):\n",
    "    print([x[2] for x in stats if date_==x[0] and comp_==x[1]])\n",
    "    \n",
    "funcs('2018-01-02','market')"
   ]
  },
  {
   "cell_type": "code",
   "execution_count": 13,
   "metadata": {},
   "outputs": [
    {
     "name": "stdout",
     "output_type": "stream",
     "text": [
      "[994]\n"
     ]
    }
   ],
   "source": [
    "\"\"\"Бонусный вариант (делать его не обязательно)\n",
    "Рассмотрите обобщенный вариант этой задачи: имеется таблица из n столбцов.\n",
    "Первые n-1 столбцов - признаки (комбинации этих признаков в таблице уникальные).\n",
    "Последний столбец - значение.\n",
    "Вам необходимо по набору n-1 признаков найти соответствующую строчку в таблице и вернуть значение из правого столбца. \n",
    "\n",
    "Одно из применений задачи - объединение двух таблиц по n столбцов, одна из которых помещается в оперативной памяти.\n",
    "Например, 7 столбцов по 1 и 10 миллионов строк.\n",
    "\"\"\"\n",
    "def funcsed(list_):\n",
    "    print([x[-1] for x in stats if list_==x[0:-1]])\n",
    "\n",
    "funcsed(['2018-01-02','market'])"
   ]
  }
 ],
 "metadata": {
  "kernelspec": {
   "display_name": "Python 3",
   "language": "python",
   "name": "python3"
  },
  "language_info": {
   "codemirror_mode": {
    "name": "ipython",
    "version": 3
   },
   "file_extension": ".py",
   "mimetype": "text/x-python",
   "name": "python",
   "nbconvert_exporter": "python",
   "pygments_lexer": "ipython3",
   "version": "3.7.3"
  }
 },
 "nbformat": 4,
 "nbformat_minor": 2
}
