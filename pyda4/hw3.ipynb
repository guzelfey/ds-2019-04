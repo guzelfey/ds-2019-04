{
 "cells": [
  {
   "cell_type": "code",
   "execution_count": 1,
   "metadata": {},
   "outputs": [],
   "source": [
    "#1. Напишите функцию, которая возвращает сумму элементов на диагонали. Т. е. 13+32+23+35.\n",
    "data = [\n",
    "    [13, 25, 23, 34],\n",
    "    [45, 32, 44, 47],\n",
    "    [12, 33, 23, 95],\n",
    "    [13, 53, 34, 35],\n",
    "]"
   ]
  },
  {
   "cell_type": "code",
   "execution_count": 2,
   "metadata": {},
   "outputs": [
    {
     "data": {
      "text/plain": [
       "103"
      ]
     },
     "execution_count": 2,
     "metadata": {},
     "output_type": "execute_result"
    }
   ],
   "source": [
    "def func1(lol_):\n",
    "    sum_=0\n",
    "    for i in range(0,len(lol_)):\n",
    "        sum_+=lol_[i][i]\n",
    "    return sum_\n",
    "\n",
    "func1(data)"
   ]
  },
  {
   "cell_type": "code",
   "execution_count": 3,
   "metadata": {},
   "outputs": [],
   "source": [
    "\"\"\"2. Дан список чисел, часть из которых имеют строковый тип или содержат буквы.\n",
    "Напишите функцию, которая возвращает сумму квадратов элементов, которые могут быть числами.\"\"\"\n",
    "data2 = [1, '5', 'abc', 20, '2']"
   ]
  },
  {
   "cell_type": "code",
   "execution_count": 4,
   "metadata": {},
   "outputs": [],
   "source": [
    "def el_cor(x):\n",
    "    if type(x)==int:\n",
    "        return x\n",
    "    elif x.isdigit():\n",
    "        return int(x)\n",
    "    else: return 0 #Потому что ф-ция будет использоваться в конкретном случае, для общего - ноль не подойдет.\n",
    "        \n",
    "def sqsum(list_):\n",
    "    sqsum_=0\n",
    "    for i in list_:\n",
    "        sqsum_+=el_cor(i)**2\n",
    "    return sqsum_"
   ]
  },
  {
   "cell_type": "code",
   "execution_count": 5,
   "metadata": {},
   "outputs": [
    {
     "data": {
      "text/plain": [
       "430"
      ]
     },
     "execution_count": 5,
     "metadata": {},
     "output_type": "execute_result"
    }
   ],
   "source": [
    "sqsum(data2)"
   ]
  },
  {
   "cell_type": "code",
   "execution_count": 6,
   "metadata": {},
   "outputs": [
    {
     "data": {
      "text/plain": [
       "'\\n3. Напишите функцию, которая возвращает название валюты (поле Name) с максимальным значением курса\\nс помощью сервиса https://www.cbr-xml-daily.ru/daily_json.js\\n'"
      ]
     },
     "execution_count": 6,
     "metadata": {},
     "output_type": "execute_result"
    }
   ],
   "source": [
    "\"\"\"\n",
    "3. Напишите функцию, которая возвращает название валюты (поле 'Name') с максимальным значением курса\n",
    "с помощью сервиса https://www.cbr-xml-daily.ru/daily_json.js\n",
    "\"\"\""
   ]
  },
  {
   "cell_type": "code",
   "execution_count": 3,
   "metadata": {},
   "outputs": [],
   "source": [
    "import requests"
   ]
  },
  {
   "cell_type": "code",
   "execution_count": 4,
   "metadata": {
    "scrolled": false
   },
   "outputs": [],
   "source": [
    "#Блок такой же, что и в примере.\n",
    "def exchange_rates_():\n",
    "    \"\"\"\n",
    "        Возвращает ответ сервиса с информацией о валютах в виде:\n",
    "        \n",
    "        {\n",
    "            'AMD': {\n",
    "                'CharCode': 'AMD',\n",
    "                'ID': 'R01060',\n",
    "                'Name': 'Армянских драмов',\n",
    "                'Nominal': 100,\n",
    "                'NumCode': '051',\n",
    "                'Previous': 14.103,\n",
    "                'Value': 14.0879\n",
    "                },\n",
    "            ...\n",
    "        }\n",
    "        \"\"\"\n",
    "    r = requests.get('https://www.cbr-xml-daily.ru/daily_json.js')\n",
    "    return r.json()['Valute']"
   ]
  },
  {
   "cell_type": "code",
   "execution_count": 5,
   "metadata": {},
   "outputs": [
    {
     "data": {
      "text/plain": [
       "'СДР (специальные права заимствования)'"
      ]
     },
     "execution_count": 5,
     "metadata": {},
     "output_type": "execute_result"
    }
   ],
   "source": [
    "def max_val():\n",
    "    q=exchange_rates_()\n",
    "    s=[]\n",
    "    for key1, value1 in q.items():\n",
    "        s.append(value1['Value']/value1['Nominal'])\n",
    "    for key1, value1 in q.items():\n",
    "        if (value1['Value']/value1['Nominal'])==max(s): return value1['Name'] \n",
    "\n",
    "max_val()"
   ]
  },
  {
   "cell_type": "code",
   "execution_count": 10,
   "metadata": {},
   "outputs": [
    {
     "data": {
      "text/plain": [
       "\"4. Последнее упражнение с занятия:\\n1. Добавьте в класс еще один формат, который возвращает название валюты (например, 'Евро').\\n2. Добавьте в класс параметр diff (со значениями True или False),\\nкоторый в случае значения True в методах eur и usd будет возвращать не курс валюты,\\nа изменение по сравнению в прошлым значением.\""
      ]
     },
     "execution_count": 10,
     "metadata": {},
     "output_type": "execute_result"
    }
   ],
   "source": [
    "\"\"\"4. Последнее упражнение с занятия:\n",
    "1. Добавьте в класс еще один формат, который возвращает название валюты (например, 'Евро').\n",
    "2. Добавьте в класс параметр diff (со значениями True или False),\n",
    "который в случае значения True в методах eur и usd будет возвращать не курс валюты,\n",
    "а изменение по сравнению в прошлым значением.\"\"\""
   ]
  },
  {
   "cell_type": "code",
   "execution_count": 11,
   "metadata": {},
   "outputs": [],
   "source": [
    "class Rate:\n",
    "    def __init__(self, format='value'):\n",
    "        self.format = format\n",
    "    \n",
    "    def exchange_rates(self):\n",
    "        \"\"\"\n",
    "        Возвращает ответ сервиса с информацией о валютах в виде:\n",
    "        \n",
    "        {\n",
    "            'AMD': {\n",
    "                'CharCode': 'AMD',\n",
    "                'ID': 'R01060',\n",
    "                'Name': 'Армянских драмов',\n",
    "                'Nominal': 100,\n",
    "                'NumCode': '051',\n",
    "                'Previous': 14.103,\n",
    "                'Value': 14.0879\n",
    "                },\n",
    "            ...\n",
    "        }\n",
    "        \"\"\"\n",
    "        r = requests.get('https://www.cbr-xml-daily.ru/daily_json.js')\n",
    "        return r.json()['Valute']\n",
    "    \n",
    "    def make_format(self, currency):\n",
    "        \"\"\"\n",
    "        Возвращает информацию о валюте currency в четырех вариантах:\n",
    "        - полная информация о валюте при self.format = 'full':\n",
    "        Rate('full').make_format('EUR')\n",
    "        {\n",
    "            'CharCode': 'EUR',\n",
    "            'ID': 'R01239',\n",
    "            'Name': 'Евро',\n",
    "            'Nominal': 1,\n",
    "            'NumCode': '978',\n",
    "            'Previous': 79.6765,\n",
    "            'Value': 79.4966\n",
    "        }\n",
    "        \n",
    "        Rate('value').make_format('EUR')\n",
    "        79.4966\n",
    "        Rate('name').make_format('EUR')\n",
    "        'Евро'\n",
    "        Rate('diff').make_format('EUR')\n",
    "        0.48170000000000357\n",
    "        \"\"\"\n",
    "        response = self.exchange_rates()\n",
    "        \n",
    "        if currency in response:\n",
    "            if self.format == 'full':\n",
    "                return response[currency]\n",
    "            \n",
    "            if self.format == 'value':\n",
    "                return response[currency]['Value']\n",
    "        #Добавленные типы формата     \n",
    "            if self.format == 'name':\n",
    "                return response[currency]['Name']\n",
    "            \n",
    "            if self.format == 'diff':\n",
    "                return (response[currency]['Value']-response[currency]['Previous'])\n",
    "        \n",
    "        return 'Error' \n",
    "    \n",
    "    def eur(self, diff=False):\n",
    "        \"\"\"Возвращает курс евро на сегодня в формате self.format или изменение курса\"\"\"\n",
    "        if diff == False:\n",
    "            return self.make_format('EUR')\n",
    "        else: \n",
    "            self.format = 'diff'\n",
    "            return self.make_format('EUR')\n",
    "    \n",
    "    def usd(self, diff=False):\n",
    "        \"\"\"Возвращает курс доллара на сегодня в формате self.format или изменение курса\"\"\"\n",
    "        if diff == False:\n",
    "            return self.make_format('USD')\n",
    "        else: \n",
    "            self.format = 'diff'\n",
    "            return self.make_format('USD')"
   ]
  },
  {
   "cell_type": "code",
   "execution_count": 12,
   "metadata": {},
   "outputs": [
    {
     "data": {
      "text/plain": [
       "'Евро'"
      ]
     },
     "execution_count": 12,
     "metadata": {},
     "output_type": "execute_result"
    }
   ],
   "source": [
    "Rate('name').make_format('EUR')"
   ]
  },
  {
   "cell_type": "code",
   "execution_count": 13,
   "metadata": {},
   "outputs": [
    {
     "data": {
      "text/plain": [
       "0.48170000000000357"
      ]
     },
     "execution_count": 13,
     "metadata": {},
     "output_type": "execute_result"
    }
   ],
   "source": [
    "Rate().eur(diff=True)"
   ]
  },
  {
   "cell_type": "code",
   "execution_count": 14,
   "metadata": {},
   "outputs": [
    {
     "data": {
      "text/plain": [
       "0.11930000000000973"
      ]
     },
     "execution_count": 14,
     "metadata": {},
     "output_type": "execute_result"
    }
   ],
   "source": [
    "Rate().usd(diff=True)"
   ]
  },
  {
   "cell_type": "code",
   "execution_count": 15,
   "metadata": {},
   "outputs": [],
   "source": [
    "#5. Напишите функцию, возвращающую сумму первых n чисел Фибоначчи"
   ]
  },
  {
   "cell_type": "code",
   "execution_count": 16,
   "metadata": {},
   "outputs": [],
   "source": [
    "def fib(n): #Возвращает n-ный элемент последовательности\n",
    "    if n==1 or n==2: return 1\n",
    "    else: return (fib(n - 1) + fib(n - 2))\n",
    "\n",
    "def fibsum(n): #Возвращает сумму n-ных элементов\n",
    "    fibsum_=0\n",
    "    for i in range(1,n+1):\n",
    "        fibsum_+=fib(i)\n",
    "    return fibsum_"
   ]
  },
  {
   "cell_type": "code",
   "execution_count": 17,
   "metadata": {},
   "outputs": [
    {
     "data": {
      "text/plain": [
       "143"
      ]
     },
     "execution_count": 17,
     "metadata": {},
     "output_type": "execute_result"
    }
   ],
   "source": [
    "fibsum(10)"
   ]
  },
  {
   "cell_type": "code",
   "execution_count": 18,
   "metadata": {},
   "outputs": [
    {
     "data": {
      "text/plain": [
       "\"6. Напишите функцию, преобразующую произвольный список вида ['2018-01-01', 'yandex', 'cpc', 100]\\nв словарь {'2018-01-01': {'yandex': {'cpc': 100}}}\""
      ]
     },
     "execution_count": 18,
     "metadata": {},
     "output_type": "execute_result"
    }
   ],
   "source": [
    "\"\"\"6. Напишите функцию, преобразующую произвольный список вида ['2018-01-01', 'yandex', 'cpc', 100]\n",
    "в словарь {'2018-01-01': {'yandex': {'cpc': 100}}}\"\"\""
   ]
  },
  {
   "cell_type": "code",
   "execution_count": 19,
   "metadata": {},
   "outputs": [],
   "source": [
    "def trans_(list_):\n",
    "    dict_={list_[-2]:list_[-1]}\n",
    "    for i in range(3,len(list_)+1): dict_={list_[-i]:dict_}\n",
    "    return dict_"
   ]
  },
  {
   "cell_type": "code",
   "execution_count": 20,
   "metadata": {},
   "outputs": [
    {
     "data": {
      "text/plain": [
       "{'2018-01-01': {'yandex': {'cpc': 100}}}"
      ]
     },
     "execution_count": 20,
     "metadata": {},
     "output_type": "execute_result"
    }
   ],
   "source": [
    "trans_(['2018-01-01', 'yandex', 'cpc', 100])"
   ]
  }
 ],
 "metadata": {
  "kernelspec": {
   "display_name": "Python 3",
   "language": "python",
   "name": "python3"
  },
  "language_info": {
   "codemirror_mode": {
    "name": "ipython",
    "version": 3
   },
   "file_extension": ".py",
   "mimetype": "text/x-python",
   "name": "python",
   "nbconvert_exporter": "python",
   "pygments_lexer": "ipython3",
   "version": "3.7.3"
  }
 },
 "nbformat": 4,
 "nbformat_minor": 2
}
