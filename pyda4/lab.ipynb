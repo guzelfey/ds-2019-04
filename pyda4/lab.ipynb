{
 "cells": [
  {
   "cell_type": "code",
   "execution_count": 1,
   "metadata": {},
   "outputs": [],
   "source": [
    "import numpy as np\n",
    "import pandas as pd"
   ]
  },
  {
   "cell_type": "markdown",
   "metadata": {},
   "source": [
    "1.1 Дан   произвольный   список, содержащий только числа.Выведите результат сложения всех чисел больше 10. "
   ]
  },
  {
   "cell_type": "code",
   "execution_count": 2,
   "metadata": {},
   "outputs": [
    {
     "data": {
      "text/plain": [
       "array([ 4, 14, 28, 16, 24,  1, 15,  3,  3, 28,  6,  8, 14, 10,  2, 13, 10,\n",
       "       20, 24, 25])"
      ]
     },
     "execution_count": 2,
     "metadata": {},
     "output_type": "execute_result"
    }
   ],
   "source": [
    "a=np.random.randint(1,30,20)\n",
    "a"
   ]
  },
  {
   "cell_type": "code",
   "execution_count": 3,
   "metadata": {},
   "outputs": [
    {
     "data": {
      "text/plain": [
       "221"
      ]
     },
     "execution_count": 3,
     "metadata": {},
     "output_type": "execute_result"
    }
   ],
   "source": [
    "sum([x for x in a if x>10])"
   ]
  },
  {
   "cell_type": "markdown",
   "metadata": {},
   "source": [
    "1.2 Пусть   задан   список, содержащий строки.Выведите все строки, заканчивающиеся буквой r."
   ]
  },
  {
   "cell_type": "code",
   "execution_count": 4,
   "metadata": {},
   "outputs": [
    {
     "name": "stdout",
     "output_type": "stream",
     "text": [
      "flower\n",
      "clover\n"
     ]
    }
   ],
   "source": [
    "b=['flower','book','instagram','bird','clover']\n",
    "for i in b:\n",
    "    if i[-1]=='r': print(i)"
   ]
  },
  {
   "cell_type": "markdown",
   "metadata": {},
   "source": [
    "1.3 Сгенерируйте и выведите cлучайную строку размером 6 символов, содержащуютолько цифры. Строка должна содержать хотя бы однуцифру 3."
   ]
  },
  {
   "cell_type": "code",
   "execution_count": 5,
   "metadata": {},
   "outputs": [
    {
     "data": {
      "text/plain": [
       "array([3, 4, 9, 5, 4, 9])"
      ]
     },
     "execution_count": 5,
     "metadata": {},
     "output_type": "execute_result"
    }
   ],
   "source": [
    "c=np.random.randint(1,10,6)\n",
    "c[np.random.randint(len(c))]=3\n",
    "c"
   ]
  },
  {
   "cell_type": "code",
   "execution_count": 6,
   "metadata": {},
   "outputs": [
    {
     "data": {
      "text/plain": [
       "'349549'"
      ]
     },
     "execution_count": 6,
     "metadata": {},
     "output_type": "execute_result"
    }
   ],
   "source": [
    "''.join(str(y) for y in c)"
   ]
  },
  {
   "cell_type": "markdown",
   "metadata": {},
   "source": [
    "1.4 Пусть   дана строка произвольной длины. Выведите информацию о том,сколько в ней символов и сколько слов."
   ]
  },
  {
   "cell_type": "code",
   "execution_count": 7,
   "metadata": {},
   "outputs": [
    {
     "data": {
      "text/plain": [
       "16"
      ]
     },
     "execution_count": 7,
     "metadata": {},
     "output_type": "execute_result"
    }
   ],
   "source": [
    "d='Пусть дана строка произвольной длины. Выведите информацию о том, сколько в ней символов и сколько слов.'\n",
    "len(d.split(' '))"
   ]
  },
  {
   "cell_type": "code",
   "execution_count": 8,
   "metadata": {
    "scrolled": true
   },
   "outputs": [
    {
     "data": {
      "text/plain": [
       "88"
      ]
     },
     "execution_count": 8,
     "metadata": {},
     "output_type": "execute_result"
    }
   ],
   "source": [
    "len(''.join(z for z in d.split(' ')))"
   ]
  },
  {
   "cell_type": "markdown",
   "metadata": {},
   "source": [
    "2.1 Пусть   дана матрица чисел размером NхN. Представьте данную матрицу ввиде списка. Выведите результат сложения всех элементов матрицы."
   ]
  },
  {
   "cell_type": "code",
   "execution_count": 9,
   "metadata": {},
   "outputs": [
    {
     "data": {
      "text/plain": [
       "array([[11, 13, 22, 11,  3, 29,  3, 29, 19, 21, 13, 44,  9, 38, 28],\n",
       "       [ 4, 15, 33, 15, 34, 13, 49, 38, 47, 33, 27, 28, 23, 38, 28],\n",
       "       [14, 11, 20,  8, 14,  3, 40, 19, 31, 18, 44, 24, 44, 25,  9],\n",
       "       [38, 34,  1,  3, 45, 37, 38, 36,  9, 24, 32,  4, 46, 33,  1],\n",
       "       [15, 20, 14, 11,  3, 22, 43, 26, 27,  6, 42, 23, 39, 45, 11],\n",
       "       [ 1, 25, 26, 27,  9, 34,  2, 40,  8,  2, 46, 47,  6, 32, 11],\n",
       "       [45,  2, 35, 49, 36, 20,  5, 19, 17, 30, 20, 40, 36, 34, 38],\n",
       "       [30,  2, 18, 29,  1, 42, 14, 33,  2, 49, 37, 34, 28,  8, 18],\n",
       "       [31,  2, 25, 26, 20, 27,  5, 19,  5, 19, 20, 39,  8,  1, 37],\n",
       "       [33, 46, 35, 18, 21, 17, 27,  8, 33, 33, 25, 15,  9, 46, 10],\n",
       "       [39,  5, 20, 43, 32, 12, 10, 13, 41, 49, 15, 34,  4, 18, 31],\n",
       "       [34, 13, 29, 44,  4, 48, 39, 28, 23,  1, 37, 28,  4,  4, 32],\n",
       "       [28, 13, 19, 35, 20,  5, 44, 36, 31,  9, 37,  7, 37, 41,  3],\n",
       "       [37, 30, 19, 27, 19, 41,  9, 15, 30, 14, 49, 33, 15, 46, 38],\n",
       "       [49, 31, 35, 12, 49,  4,  3, 44, 33, 39, 29, 38, 37, 40, 38]])"
      ]
     },
     "execution_count": 9,
     "metadata": {},
     "output_type": "execute_result"
    }
   ],
   "source": [
    "N=15\n",
    "f=(np.random.randint(1,50,N*N)).reshape(N,N)\n",
    "f"
   ]
  },
  {
   "cell_type": "code",
   "execution_count": 10,
   "metadata": {},
   "outputs": [
    {
     "data": {
      "text/plain": [
       "array([11, 13, 22, 11,  3, 29,  3, 29, 19, 21, 13, 44,  9, 38, 28,  4, 15,\n",
       "       33, 15, 34, 13, 49, 38, 47, 33, 27, 28, 23, 38, 28, 14, 11, 20,  8,\n",
       "       14,  3, 40, 19, 31, 18, 44, 24, 44, 25,  9, 38, 34,  1,  3, 45, 37,\n",
       "       38, 36,  9, 24, 32,  4, 46, 33,  1, 15, 20, 14, 11,  3, 22, 43, 26,\n",
       "       27,  6, 42, 23, 39, 45, 11,  1, 25, 26, 27,  9, 34,  2, 40,  8,  2,\n",
       "       46, 47,  6, 32, 11, 45,  2, 35, 49, 36, 20,  5, 19, 17, 30, 20, 40,\n",
       "       36, 34, 38, 30,  2, 18, 29,  1, 42, 14, 33,  2, 49, 37, 34, 28,  8,\n",
       "       18, 31,  2, 25, 26, 20, 27,  5, 19,  5, 19, 20, 39,  8,  1, 37, 33,\n",
       "       46, 35, 18, 21, 17, 27,  8, 33, 33, 25, 15,  9, 46, 10, 39,  5, 20,\n",
       "       43, 32, 12, 10, 13, 41, 49, 15, 34,  4, 18, 31, 34, 13, 29, 44,  4,\n",
       "       48, 39, 28, 23,  1, 37, 28,  4,  4, 32, 28, 13, 19, 35, 20,  5, 44,\n",
       "       36, 31,  9, 37,  7, 37, 41,  3, 37, 30, 19, 27, 19, 41,  9, 15, 30,\n",
       "       14, 49, 33, 15, 46, 38, 49, 31, 35, 12, 49,  4,  3, 44, 33, 39, 29,\n",
       "       38, 37, 40, 38])"
      ]
     },
     "execution_count": 10,
     "metadata": {},
     "output_type": "execute_result"
    }
   ],
   "source": [
    "f=f.reshape(N*N)\n",
    "f"
   ]
  },
  {
   "cell_type": "code",
   "execution_count": 11,
   "metadata": {
    "scrolled": true
   },
   "outputs": [
    {
     "data": {
      "text/plain": [
       "5519"
      ]
     },
     "execution_count": 11,
     "metadata": {},
     "output_type": "execute_result"
    }
   ],
   "source": [
    "f.sum()"
   ]
  },
  {
   "cell_type": "markdown",
   "metadata": {},
   "source": [
    "2.2 Дана матрица размером NxM. Напишите алгоритм вычисления максимума из сумм элементов каждого столбца."
   ]
  },
  {
   "cell_type": "code",
   "execution_count": 12,
   "metadata": {
    "scrolled": true
   },
   "outputs": [
    {
     "data": {
      "text/plain": [
       "array([[48, 47, 17, 40, 14, 38, 49, 18, 10, 33, 12,  5, 28, 32,  4, 31,\n",
       "        28, 19, 32, 32, 22, 14, 18],\n",
       "       [14, 16, 32, 37, 12,  9, 37, 16, 19,  4, 27,  8, 28,  9, 46,  7,\n",
       "        15, 30, 19, 43,  8, 19, 18],\n",
       "       [17, 32,  5, 30, 21,  3, 28, 49, 23, 41,  5, 44, 32, 47, 38, 39,\n",
       "        34, 28, 14, 15,  6, 22, 18],\n",
       "       [35, 36, 23, 17, 31, 22, 20, 20, 38, 30, 28, 37, 32, 19, 46, 19,\n",
       "        21, 17,  9, 36, 18, 47, 15],\n",
       "       [ 3, 31, 29, 13, 36,  4,  8, 25, 35,  6, 25, 14, 45, 15, 35, 28,\n",
       "        49,  8,  6, 42, 26, 34, 40],\n",
       "       [44, 26, 43, 42,  5, 39, 18, 35, 34, 41, 44, 35, 40, 31,  3,  3,\n",
       "        38, 43, 35, 34, 28, 34,  3],\n",
       "       [ 7,  8, 16, 25, 18, 31, 10, 21, 43,  5, 46, 46, 30, 43, 14, 45,\n",
       "        29, 47, 17, 21,  4, 13, 29],\n",
       "       [25, 44, 46, 11, 33, 45, 15, 31, 36,  5, 49,  3,  1, 24, 30, 14,\n",
       "        33, 42, 25, 47, 15, 26, 37],\n",
       "       [11, 37, 47, 21, 46, 35, 29, 25,  7, 34,  3,  3, 31, 35, 12, 10,\n",
       "        45, 29, 48, 15, 17, 14, 26],\n",
       "       [ 6, 29, 32, 39, 19,  1, 31, 11, 18, 11, 18, 18, 24, 21, 28, 30,\n",
       "        27, 38, 44, 26, 30,  5, 19],\n",
       "       [17, 44, 34,  9, 13, 35, 27, 43,  3, 48,  4, 22, 38, 35,  4,  2,\n",
       "        46, 19, 48, 38,  8, 21, 42],\n",
       "       [ 3, 27, 48, 16, 49, 37, 43, 39, 31, 43, 17, 19, 43, 38, 19, 20,\n",
       "        14, 31, 13,  4, 46, 19, 19],\n",
       "       [13, 46, 24, 29,  6, 31, 45, 22,  8, 48, 46, 17, 18, 13,  3, 22,\n",
       "        14,  7, 16, 22,  4,  8, 28],\n",
       "       [31, 19, 49, 30, 24, 40, 33, 24, 34, 25, 24, 45, 15,  6, 24, 47,\n",
       "        15, 27, 41,  3, 41, 15, 34],\n",
       "       [26, 35, 29, 34, 40, 26, 44, 28, 40,  8,  8, 25, 16,  9, 36, 46,\n",
       "        31, 28, 13, 28,  1, 23, 29]])"
      ]
     },
     "execution_count": 12,
     "metadata": {},
     "output_type": "execute_result"
    }
   ],
   "source": [
    "N=15\n",
    "M=23\n",
    "g=(np.random.randint(1,50,N*M)).reshape(N,M)\n",
    "g"
   ]
  },
  {
   "cell_type": "code",
   "execution_count": 13,
   "metadata": {},
   "outputs": [
    {
     "data": {
      "text/plain": [
       "698"
      ]
     },
     "execution_count": 13,
     "metadata": {},
     "output_type": "execute_result"
    }
   ],
   "source": [
    "max([i.sum() for i in g])"
   ]
  },
  {
   "cell_type": "markdown",
   "metadata": {},
   "source": [
    "3.1 Пусть   список студентов представлен в виде структуры [[No, ФИО, Возраст,Группа],[No, ФИО, Возраст, Группа],[No, ФИО, Возраст, Группа]]. Преобразуйте список в словарь вида: {No: [ФИО, Возраст, Группа], No:[....], No: [....]}"
   ]
  },
  {
   "cell_type": "code",
   "execution_count": 16,
   "metadata": {},
   "outputs": [
    {
     "data": {
      "text/plain": [
       "{201901: ['Ivanov Ivan Ivanovich', 23, 947],\n",
       " 201902: ['Petrov Petr Petrovich', 22, 941],\n",
       " 201903: ['Sidorov Cider Sidorovich', 21, 949],\n",
       " 201904: ['Lebedev Michail Alexandrovich', 22, 943]}"
      ]
     },
     "execution_count": 16,
     "metadata": {},
     "output_type": "execute_result"
    }
   ],
   "source": [
    "students=[[201901, 'Ivanov Ivan Ivanovich', 23, 947],\n",
    "         [201902, 'Petrov Petr Petrovich', 22, 941],\n",
    "         [201903, 'Sidorov Cider Sidorovich', 21, 949],\n",
    "         [201904, 'Lebedev Michail Alexandrovich', 22, 943]]\n",
    "studs={i[0]:i[1:] for i in students}\n",
    "studs"
   ]
  },
  {
   "cell_type": "markdown",
   "metadata": {},
   "source": [
    "3.2 Напишите алгоритм, позволяющий найти запись в словаре из задачи 3.1 (без преобразования словаря обратно в список) по фамилии и изменить в ней номер группы. Фамилию и новый номер группы необходимо ввести с клавиатуры."
   ]
  },
  {
   "cell_type": "code",
   "execution_count": 20,
   "metadata": {},
   "outputs": [
    {
     "name": "stdout",
     "output_type": "stream",
     "text": [
      "Enter surname:Ivanov\n",
      "New group number:951\n"
     ]
    },
    {
     "data": {
      "text/plain": [
       "{201901: ['Ivanov Ivan Ivanovich', 23, 951],\n",
       " 201902: ['Petrov Petr Petrovich', 19, 941],\n",
       " 201903: ['Sidorov Cider Sidorovich', 21, 949],\n",
       " 201904: ['Lebedev Michail Alexandrovich', 22, 943]}"
      ]
     },
     "execution_count": 20,
     "metadata": {},
     "output_type": "execute_result"
    }
   ],
   "source": [
    "h=input(\"Enter surname:\")\n",
    "j=input(\"New group number:\")\n",
    "for key,value in studs.items():\n",
    "    if h in value[0]: value[2]=int(j)\n",
    "studs"
   ]
  },
  {
   "cell_type": "markdown",
   "metadata": {},
   "source": [
    "3.3 Напишите алгоритм, позволяющий аналогично задаче 3.2 изменить возраст студент"
   ]
  },
  {
   "cell_type": "code",
   "execution_count": 21,
   "metadata": {
    "scrolled": true
   },
   "outputs": [
    {
     "name": "stdout",
     "output_type": "stream",
     "text": [
      "Enter surname:Petrov\n",
      "New age value:19\n"
     ]
    },
    {
     "data": {
      "text/plain": [
       "{201901: ['Ivanov Ivan Ivanovich', 23, 951],\n",
       " 201902: ['Petrov Petr Petrovich', 19, 941],\n",
       " 201903: ['Sidorov Cider Sidorovich', 21, 949],\n",
       " 201904: ['Lebedev Michail Alexandrovich', 22, 943]}"
      ]
     },
     "execution_count": 21,
     "metadata": {},
     "output_type": "execute_result"
    }
   ],
   "source": [
    "k=input(\"Enter surname:\")\n",
    "l=input(\"New age value:\")\n",
    "for key,value in studs.items():\n",
    "    if k in value[0]: value[1]=int(l)\n",
    "studs"
   ]
  }
 ],
 "metadata": {
  "kernelspec": {
   "display_name": "Python 3",
   "language": "python",
   "name": "python3"
  },
  "language_info": {
   "codemirror_mode": {
    "name": "ipython",
    "version": 3
   },
   "file_extension": ".py",
   "mimetype": "text/x-python",
   "name": "python",
   "nbconvert_exporter": "python",
   "pygments_lexer": "ipython3",
   "version": "3.7.3"
  }
 },
 "nbformat": 4,
 "nbformat_minor": 2
}
