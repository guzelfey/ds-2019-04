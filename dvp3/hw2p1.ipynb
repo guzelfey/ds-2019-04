{
 "cells": [
  {
   "cell_type": "code",
   "execution_count": 32,
   "metadata": {},
   "outputs": [],
   "source": [
    "# Common imports\n",
    "import pandas as pd\n",
    "import numpy as np\n",
    "import statsmodels.api as sm\n",
    "import statsmodels.formula.api as smf\n",
    "\n",
    "# to make this notebook's output stable across runs\n",
    "np.random.seed(42)\n",
    "\n",
    "# To plot pretty figures\n",
    "import matplotlib\n",
    "import matplotlib.pyplot as plt\n",
    "from mpl_toolkits.mplot3d import axes3d\n",
    "%matplotlib inline\n",
    "\n",
    "plt.rcParams['axes.labelsize'] = 14\n",
    "plt.rcParams['xtick.labelsize'] = 12\n",
    "plt.rcParams['ytick.labelsize'] = 12\n",
    "plt.rcParams['figure.figsize'] = (10, 5)\n",
    "\n",
    "from sklearn.linear_model import LinearRegression\n",
    "import math\n",
    "from sklearn.preprocessing import StandardScaler, normalize, MinMaxScaler\n",
    "from sklearn.model_selection import train_test_split"
   ]
  },
  {
   "cell_type": "markdown",
   "metadata": {},
   "source": [
    "# Рекламный бюджет"
   ]
  },
  {
   "cell_type": "code",
   "execution_count": 5,
   "metadata": {},
   "outputs": [
    {
     "data": {
      "text/html": [
       "<div>\n",
       "<style scoped>\n",
       "    .dataframe tbody tr th:only-of-type {\n",
       "        vertical-align: middle;\n",
       "    }\n",
       "\n",
       "    .dataframe tbody tr th {\n",
       "        vertical-align: top;\n",
       "    }\n",
       "\n",
       "    .dataframe thead th {\n",
       "        text-align: right;\n",
       "    }\n",
       "</style>\n",
       "<table border=\"1\" class=\"dataframe\">\n",
       "  <thead>\n",
       "    <tr style=\"text-align: right;\">\n",
       "      <th></th>\n",
       "      <th>Unnamed: 0</th>\n",
       "      <th>TV</th>\n",
       "      <th>radio</th>\n",
       "      <th>newspaper</th>\n",
       "      <th>sales</th>\n",
       "    </tr>\n",
       "  </thead>\n",
       "  <tbody>\n",
       "    <tr>\n",
       "      <th>0</th>\n",
       "      <td>1</td>\n",
       "      <td>230.1</td>\n",
       "      <td>37.8</td>\n",
       "      <td>69.2</td>\n",
       "      <td>22.1</td>\n",
       "    </tr>\n",
       "    <tr>\n",
       "      <th>1</th>\n",
       "      <td>2</td>\n",
       "      <td>44.5</td>\n",
       "      <td>39.3</td>\n",
       "      <td>45.1</td>\n",
       "      <td>10.4</td>\n",
       "    </tr>\n",
       "    <tr>\n",
       "      <th>2</th>\n",
       "      <td>3</td>\n",
       "      <td>17.2</td>\n",
       "      <td>45.9</td>\n",
       "      <td>69.3</td>\n",
       "      <td>9.3</td>\n",
       "    </tr>\n",
       "    <tr>\n",
       "      <th>3</th>\n",
       "      <td>4</td>\n",
       "      <td>151.5</td>\n",
       "      <td>41.3</td>\n",
       "      <td>58.5</td>\n",
       "      <td>18.5</td>\n",
       "    </tr>\n",
       "    <tr>\n",
       "      <th>4</th>\n",
       "      <td>5</td>\n",
       "      <td>180.8</td>\n",
       "      <td>10.8</td>\n",
       "      <td>58.4</td>\n",
       "      <td>12.9</td>\n",
       "    </tr>\n",
       "  </tbody>\n",
       "</table>\n",
       "</div>"
      ],
      "text/plain": [
       "   Unnamed: 0     TV  radio  newspaper  sales\n",
       "0           1  230.1   37.8       69.2   22.1\n",
       "1           2   44.5   39.3       45.1   10.4\n",
       "2           3   17.2   45.9       69.3    9.3\n",
       "3           4  151.5   41.3       58.5   18.5\n",
       "4           5  180.8   10.8       58.4   12.9"
      ]
     },
     "execution_count": 5,
     "metadata": {},
     "output_type": "execute_result"
    }
   ],
   "source": [
    "adv_df = pd.read_csv('Advertising.csv')#, usecols=[1,2,3,4])\n",
    "adv_df.head()"
   ]
  },
  {
   "cell_type": "code",
   "execution_count": 6,
   "metadata": {},
   "outputs": [],
   "source": [
    "adv_df = adv_df.drop('Unnamed: 0', axis = 1)"
   ]
  },
  {
   "cell_type": "code",
   "execution_count": 7,
   "metadata": {
    "scrolled": false
   },
   "outputs": [
    {
     "name": "stdout",
     "output_type": "stream",
     "text": [
      "<class 'pandas.core.frame.DataFrame'>\n",
      "RangeIndex: 200 entries, 0 to 199\n",
      "Data columns (total 4 columns):\n",
      "TV           200 non-null float64\n",
      "radio        200 non-null float64\n",
      "newspaper    200 non-null float64\n",
      "sales        200 non-null float64\n",
      "dtypes: float64(4)\n",
      "memory usage: 6.3 KB\n"
     ]
    }
   ],
   "source": [
    "adv_df.info()"
   ]
  },
  {
   "cell_type": "code",
   "execution_count": 69,
   "metadata": {},
   "outputs": [],
   "source": [
    "adv_df['log_tv'] = adv_df.TV.apply(lambda x: math.log(x, 2))\n",
    "adv_df['pow_tv'] = adv_df.TV.apply(lambda x: math.pow(x, 0.4))"
   ]
  },
  {
   "cell_type": "code",
   "execution_count": 70,
   "metadata": {},
   "outputs": [
    {
     "data": {
      "text/html": [
       "<div>\n",
       "<style scoped>\n",
       "    .dataframe tbody tr th:only-of-type {\n",
       "        vertical-align: middle;\n",
       "    }\n",
       "\n",
       "    .dataframe tbody tr th {\n",
       "        vertical-align: top;\n",
       "    }\n",
       "\n",
       "    .dataframe thead th {\n",
       "        text-align: right;\n",
       "    }\n",
       "</style>\n",
       "<table border=\"1\" class=\"dataframe\">\n",
       "  <thead>\n",
       "    <tr style=\"text-align: right;\">\n",
       "      <th></th>\n",
       "      <th>TV</th>\n",
       "      <th>radio</th>\n",
       "      <th>newspaper</th>\n",
       "      <th>sales</th>\n",
       "      <th>log_tv</th>\n",
       "      <th>pow_tv</th>\n",
       "    </tr>\n",
       "  </thead>\n",
       "  <tbody>\n",
       "    <tr>\n",
       "      <th>0</th>\n",
       "      <td>230.1</td>\n",
       "      <td>37.8</td>\n",
       "      <td>69.2</td>\n",
       "      <td>22.1</td>\n",
       "      <td>7.846117</td>\n",
       "      <td>8.805756</td>\n",
       "    </tr>\n",
       "    <tr>\n",
       "      <th>1</th>\n",
       "      <td>44.5</td>\n",
       "      <td>39.3</td>\n",
       "      <td>45.1</td>\n",
       "      <td>10.4</td>\n",
       "      <td>5.475733</td>\n",
       "      <td>4.563983</td>\n",
       "    </tr>\n",
       "    <tr>\n",
       "      <th>2</th>\n",
       "      <td>17.2</td>\n",
       "      <td>45.9</td>\n",
       "      <td>69.3</td>\n",
       "      <td>9.3</td>\n",
       "      <td>4.104337</td>\n",
       "      <td>3.120408</td>\n",
       "    </tr>\n",
       "    <tr>\n",
       "      <th>3</th>\n",
       "      <td>151.5</td>\n",
       "      <td>41.3</td>\n",
       "      <td>58.5</td>\n",
       "      <td>18.5</td>\n",
       "      <td>7.243174</td>\n",
       "      <td>7.450151</td>\n",
       "    </tr>\n",
       "    <tr>\n",
       "      <th>4</th>\n",
       "      <td>180.8</td>\n",
       "      <td>10.8</td>\n",
       "      <td>58.4</td>\n",
       "      <td>12.9</td>\n",
       "      <td>7.498251</td>\n",
       "      <td>7.996121</td>\n",
       "    </tr>\n",
       "  </tbody>\n",
       "</table>\n",
       "</div>"
      ],
      "text/plain": [
       "      TV  radio  newspaper  sales    log_tv    pow_tv\n",
       "0  230.1   37.8       69.2   22.1  7.846117  8.805756\n",
       "1   44.5   39.3       45.1   10.4  5.475733  4.563983\n",
       "2   17.2   45.9       69.3    9.3  4.104337  3.120408\n",
       "3  151.5   41.3       58.5   18.5  7.243174  7.450151\n",
       "4  180.8   10.8       58.4   12.9  7.498251  7.996121"
      ]
     },
     "execution_count": 70,
     "metadata": {},
     "output_type": "execute_result"
    }
   ],
   "source": [
    "adv_df.head()"
   ]
  },
  {
   "cell_type": "code",
   "execution_count": 91,
   "metadata": {},
   "outputs": [],
   "source": [
    "df_train, df_test, y_train, y_test = train_test_split(adv_df, adv_df['sales'], test_size=0.20, random_state=42)"
   ]
  },
  {
   "cell_type": "code",
   "execution_count": 92,
   "metadata": {},
   "outputs": [
    {
     "name": "stdout",
     "output_type": "stream",
     "text": [
      "R^2: (on train) 0.9011051213818659\n",
      "R^2: (on test) 0.9235657691840907\n"
     ]
    }
   ],
   "source": [
    "lm = LinearRegression().fit(df_train[['log_tv', 'radio']].to_numpy(), df_train['sales'])\n",
    "print('R^2: (on train)',lm.score(df_train[['log_tv', 'radio']].to_numpy(), df_train['sales']))\n",
    "print('R^2: (on test)',lm.score(df_test[['log_tv', 'radio']].to_numpy(), df_test['sales']))"
   ]
  },
  {
   "cell_type": "code",
   "execution_count": 93,
   "metadata": {},
   "outputs": [
    {
     "name": "stdout",
     "output_type": "stream",
     "text": [
      "R^2: (on train) 0.8955982149747163\n",
      "R^2: (on test) 0.9005833101920357\n"
     ]
    }
   ],
   "source": [
    "lm = LinearRegression().fit(df_train[['TV', 'radio']].to_numpy(), df_train['sales'])\n",
    "print('R^2: (on train)',lm.score(df_train[['TV', 'radio']].to_numpy(), df_train['sales']))\n",
    "print('R^2: (on test)',lm.score(df_test[['TV', 'radio']].to_numpy(), df_test['sales']))"
   ]
  },
  {
   "cell_type": "code",
   "execution_count": 94,
   "metadata": {},
   "outputs": [
    {
     "name": "stdout",
     "output_type": "stream",
     "text": [
      "R^2: (on train) 0.8957008271017818\n",
      "R^2: (on test) 0.899438024100912\n"
     ]
    }
   ],
   "source": [
    "lm = LinearRegression().fit(df_train[['TV', 'radio','newspaper']].to_numpy(), df_train['sales'])\n",
    "print('R^2: (on train)',lm.score(df_train[['TV', 'radio','newspaper']].to_numpy(), df_train['sales']))\n",
    "print('R^2: (on test)',lm.score(df_test[['TV', 'radio','newspaper']].to_numpy(), df_test['sales']))"
   ]
  },
  {
   "cell_type": "code",
   "execution_count": 95,
   "metadata": {},
   "outputs": [],
   "source": [
    "df_train, df_test, y_train, y_test = train_test_split(adv_df, adv_df['sales'], test_size=0.30, random_state=42)"
   ]
  },
  {
   "cell_type": "code",
   "execution_count": 96,
   "metadata": {},
   "outputs": [
    {
     "name": "stdout",
     "output_type": "stream",
     "text": [
      "R^2: (on train) 0.8993482542237392\n",
      "R^2: (on test) 0.9143970569382007\n"
     ]
    }
   ],
   "source": [
    "lm = LinearRegression().fit(df_train[['log_tv', 'radio']].to_numpy(), df_train['sales'])\n",
    "print('R^2: (on train)',lm.score(df_train[['log_tv', 'radio']].to_numpy(), df_train['sales']))\n",
    "print('R^2: (on test)',lm.score(df_test[['log_tv', 'radio']].to_numpy(), df_test['sales']))"
   ]
  },
  {
   "cell_type": "code",
   "execution_count": 97,
   "metadata": {},
   "outputs": [
    {
     "name": "stdout",
     "output_type": "stream",
     "text": [
      "R^2: (on train) 0.9048377867980043\n",
      "R^2: (on test) 0.8656253548947075\n"
     ]
    }
   ],
   "source": [
    "lm = LinearRegression().fit(df_train[['TV', 'radio']].to_numpy(), df_train['sales'])\n",
    "print('R^2: (on train)',lm.score(df_train[['TV', 'radio']].to_numpy(), df_train['sales']))\n",
    "print('R^2: (on test)',lm.score(df_test[['TV', 'radio']].to_numpy(), df_test['sales']))"
   ]
  },
  {
   "cell_type": "code",
   "execution_count": 98,
   "metadata": {},
   "outputs": [
    {
     "name": "stdout",
     "output_type": "stream",
     "text": [
      "R^2: (on train) 0.9055159502227753\n",
      "R^2: (on test) 0.8609466508230368\n"
     ]
    }
   ],
   "source": [
    "lm = LinearRegression().fit(df_train[['TV', 'radio','newspaper']].to_numpy(), df_train['sales'])\n",
    "print('R^2: (on train)',lm.score(df_train[['TV', 'radio','newspaper']].to_numpy(), df_train['sales']))\n",
    "print('R^2: (on test)',lm.score(df_test[['TV', 'radio','newspaper']].to_numpy(), df_test['sales']))"
   ]
  },
  {
   "cell_type": "code",
   "execution_count": 99,
   "metadata": {},
   "outputs": [],
   "source": [
    "df_train, df_test, y_train, y_test = train_test_split(adv_df, adv_df['sales'], test_size=0.50, random_state=42)"
   ]
  },
  {
   "cell_type": "code",
   "execution_count": 100,
   "metadata": {},
   "outputs": [
    {
     "name": "stdout",
     "output_type": "stream",
     "text": [
      "R^2: (on train) 0.8997594187070235\n",
      "R^2: (on test) 0.9017771480682202\n"
     ]
    }
   ],
   "source": [
    "lm = LinearRegression().fit(df_train[['log_tv', 'radio']].to_numpy(), df_train['sales'])\n",
    "print('R^2: (on train)',lm.score(df_train[['log_tv', 'radio']].to_numpy(), df_train['sales']))\n",
    "print('R^2: (on test)',lm.score(df_test[['log_tv', 'radio']].to_numpy(), df_test['sales']))"
   ]
  },
  {
   "cell_type": "code",
   "execution_count": 101,
   "metadata": {},
   "outputs": [
    {
     "name": "stdout",
     "output_type": "stream",
     "text": [
      "R^2: (on train) 0.9020506014720118\n",
      "R^2: (on test) 0.8826436017134701\n"
     ]
    }
   ],
   "source": [
    "lm = LinearRegression().fit(df_train[['TV', 'radio']].to_numpy(), df_train['sales'])\n",
    "print('R^2: (on train)',lm.score(df_train[['TV', 'radio']].to_numpy(), df_train['sales']))\n",
    "print('R^2: (on test)',lm.score(df_test[['TV', 'radio']].to_numpy(), df_test['sales']))"
   ]
  },
  {
   "cell_type": "code",
   "execution_count": 102,
   "metadata": {},
   "outputs": [
    {
     "name": "stdout",
     "output_type": "stream",
     "text": [
      "R^2: (on train) 0.9042613648908894\n",
      "R^2: (on test) 0.8721004816045136\n"
     ]
    }
   ],
   "source": [
    "lm = LinearRegression().fit(df_train[['TV', 'radio','newspaper']].to_numpy(), df_train['sales'])\n",
    "print('R^2: (on train)',lm.score(df_train[['TV', 'radio','newspaper']].to_numpy(), df_train['sales']))\n",
    "print('R^2: (on test)',lm.score(df_test[['TV', 'radio','newspaper']].to_numpy(), df_test['sales']))"
   ]
  }
 ],
 "metadata": {
  "kernelspec": {
   "display_name": "Python 3",
   "language": "python",
   "name": "python3"
  },
  "language_info": {
   "codemirror_mode": {
    "name": "ipython",
    "version": 3
   },
   "file_extension": ".py",
   "mimetype": "text/x-python",
   "name": "python",
   "nbconvert_exporter": "python",
   "pygments_lexer": "ipython3",
   "version": "3.7.3"
  }
 },
 "nbformat": 4,
 "nbformat_minor": 2
}
